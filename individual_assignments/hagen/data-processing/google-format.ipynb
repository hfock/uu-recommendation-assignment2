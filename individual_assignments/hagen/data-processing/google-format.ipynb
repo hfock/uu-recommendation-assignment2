{
 "cells": [
  {
   "cell_type": "code",
   "execution_count": 227,
   "outputs": [],
   "source": [
    "import pandas as pd\n",
    "import numpy as np\n",
    "\n",
    "from similarities import jaro_distance, jaro_winkler\n",
    "from collections import defaultdict"
   ],
   "metadata": {
    "collapsed": false,
    "pycharm": {
     "name": "#%%\n"
    }
   }
  },
  {
   "cell_type": "code",
   "execution_count": 228,
   "metadata": {
    "collapsed": true
   },
   "outputs": [],
   "source": [
    "file_path = './../data/Empirical_investigation.csv'\n",
    "\n",
    "df = pd.read_csv(file_path, index_col=0, sep=',')\n"
   ]
  },
  {
   "cell_type": "code",
   "execution_count": 229,
   "outputs": [],
   "source": [
    "rank_list = ['rank1', 'rank2', 'rank3', 'rank4', 'rank5', 'rank6']\n",
    "rank_list2 = rank_list[:len(rank_list)-1]\n",
    "\n",
    "def beautify_df(df_input):\n",
    "    df_cur = df_input.reset_index()\n",
    "    # remove unnecessary columns\n",
    "    df_cur = df_cur.iloc[:, 1: len(df_cur.columns)-1]\n",
    "\n",
    "    df_cur.columns = rank_list\n",
    "    return df_cur\n",
    "\n",
    "df = beautify_df(df)"
   ],
   "metadata": {
    "collapsed": false,
    "pycharm": {
     "name": "#%%\n"
    }
   }
  },
  {
   "cell_type": "code",
   "execution_count": 230,
   "outputs": [],
   "source": [
    "df = df.drop(3)"
   ],
   "metadata": {
    "collapsed": false,
    "pycharm": {
     "name": "#%%\n"
    }
   }
  },
  {
   "cell_type": "code",
   "execution_count": 231,
   "outputs": [],
   "source": [
    "CON = 'Convenience'\n",
    "PRI = 'Privacy'\n",
    "AUT = 'Autonomy'\n",
    "DIV = 'Diversity'\n",
    "NOB = 'No Bias'\n",
    "TRA = 'Transparency'\n",
    "\n",
    "rank_list = ['rank1', 'rank2', 'rank3', 'rank4', 'rank5', 'rank6']\n",
    "\n",
    "values = {CON, PRI, AUT, DIV, NOB, TRA}\n",
    "# unwanted_values = {PRI, DIV, NOB, CON}\n",
    "unwanted_values = {NOB}\n",
    "\n",
    "def remove_unwanted_values(df_input, values=values, unwanted_values=unwanted_values, rank_list=rank_list):\n",
    "    wanted_values = []\n",
    "    for index, entry in enumerate(df_input.values):\n",
    "        wanted_values.append(entry.tolist())\n",
    "        for value in unwanted_values:\n",
    "            wanted_values[index].remove(value)\n",
    "    if unwanted_values:\n",
    "        len_values = values - unwanted_values\n",
    "    else:\n",
    "        len_values = values\n",
    "\n",
    "    shortened_rank_list = rank_list[:len(len_values)]\n",
    "    return pd.DataFrame(wanted_values, columns=shortened_rank_list), shortened_rank_list"
   ],
   "metadata": {
    "collapsed": false,
    "pycharm": {
     "name": "#%%\n"
    }
   }
  },
  {
   "cell_type": "code",
   "execution_count": 232,
   "outputs": [],
   "source": [
    "# removing No Bias\n",
    "df, rank_list = remove_unwanted_values(df)"
   ],
   "metadata": {
    "collapsed": false,
    "pycharm": {
     "name": "#%%\n"
    }
   }
  },
  {
   "cell_type": "code",
   "execution_count": 233,
   "outputs": [],
   "source": [
    "df_string = df"
   ],
   "metadata": {
    "collapsed": false,
    "pycharm": {
     "name": "#%%\n"
    }
   }
  },
  {
   "cell_type": "code",
   "execution_count": 234,
   "outputs": [
    {
     "data": {
      "text/plain": "           rank1         rank2         rank3        rank4         rank5\n2       Autonomy     Diversity   Convenience      Privacy  Transparency\n10   Convenience      Autonomy     Diversity      Privacy  Transparency\n5    Convenience      Autonomy  Transparency    Diversity       Privacy\n0    Convenience     Diversity       Privacy     Autonomy  Transparency\n6    Convenience     Diversity  Transparency      Privacy      Autonomy\n3      Diversity  Transparency       Privacy     Autonomy   Convenience\n1        Privacy      Autonomy  Transparency  Convenience     Diversity\n4        Privacy      Autonomy  Transparency    Diversity   Convenience\n7        Privacy      Autonomy  Transparency    Diversity   Convenience\n9        Privacy   Convenience     Diversity     Autonomy  Transparency\n8        Privacy  Transparency     Diversity     Autonomy   Convenience\n11       Privacy  Transparency     Diversity     Autonomy   Convenience\n12  Transparency       Privacy     Diversity  Convenience      Autonomy",
      "text/html": "<div>\n<style scoped>\n    .dataframe tbody tr th:only-of-type {\n        vertical-align: middle;\n    }\n\n    .dataframe tbody tr th {\n        vertical-align: top;\n    }\n\n    .dataframe thead th {\n        text-align: right;\n    }\n</style>\n<table border=\"1\" class=\"dataframe\">\n  <thead>\n    <tr style=\"text-align: right;\">\n      <th></th>\n      <th>rank1</th>\n      <th>rank2</th>\n      <th>rank3</th>\n      <th>rank4</th>\n      <th>rank5</th>\n    </tr>\n  </thead>\n  <tbody>\n    <tr>\n      <th>2</th>\n      <td>Autonomy</td>\n      <td>Diversity</td>\n      <td>Convenience</td>\n      <td>Privacy</td>\n      <td>Transparency</td>\n    </tr>\n    <tr>\n      <th>10</th>\n      <td>Convenience</td>\n      <td>Autonomy</td>\n      <td>Diversity</td>\n      <td>Privacy</td>\n      <td>Transparency</td>\n    </tr>\n    <tr>\n      <th>5</th>\n      <td>Convenience</td>\n      <td>Autonomy</td>\n      <td>Transparency</td>\n      <td>Diversity</td>\n      <td>Privacy</td>\n    </tr>\n    <tr>\n      <th>0</th>\n      <td>Convenience</td>\n      <td>Diversity</td>\n      <td>Privacy</td>\n      <td>Autonomy</td>\n      <td>Transparency</td>\n    </tr>\n    <tr>\n      <th>6</th>\n      <td>Convenience</td>\n      <td>Diversity</td>\n      <td>Transparency</td>\n      <td>Privacy</td>\n      <td>Autonomy</td>\n    </tr>\n    <tr>\n      <th>3</th>\n      <td>Diversity</td>\n      <td>Transparency</td>\n      <td>Privacy</td>\n      <td>Autonomy</td>\n      <td>Convenience</td>\n    </tr>\n    <tr>\n      <th>1</th>\n      <td>Privacy</td>\n      <td>Autonomy</td>\n      <td>Transparency</td>\n      <td>Convenience</td>\n      <td>Diversity</td>\n    </tr>\n    <tr>\n      <th>4</th>\n      <td>Privacy</td>\n      <td>Autonomy</td>\n      <td>Transparency</td>\n      <td>Diversity</td>\n      <td>Convenience</td>\n    </tr>\n    <tr>\n      <th>7</th>\n      <td>Privacy</td>\n      <td>Autonomy</td>\n      <td>Transparency</td>\n      <td>Diversity</td>\n      <td>Convenience</td>\n    </tr>\n    <tr>\n      <th>9</th>\n      <td>Privacy</td>\n      <td>Convenience</td>\n      <td>Diversity</td>\n      <td>Autonomy</td>\n      <td>Transparency</td>\n    </tr>\n    <tr>\n      <th>8</th>\n      <td>Privacy</td>\n      <td>Transparency</td>\n      <td>Diversity</td>\n      <td>Autonomy</td>\n      <td>Convenience</td>\n    </tr>\n    <tr>\n      <th>11</th>\n      <td>Privacy</td>\n      <td>Transparency</td>\n      <td>Diversity</td>\n      <td>Autonomy</td>\n      <td>Convenience</td>\n    </tr>\n    <tr>\n      <th>12</th>\n      <td>Transparency</td>\n      <td>Privacy</td>\n      <td>Diversity</td>\n      <td>Convenience</td>\n      <td>Autonomy</td>\n    </tr>\n  </tbody>\n</table>\n</div>"
     },
     "execution_count": 234,
     "metadata": {},
     "output_type": "execute_result"
    }
   ],
   "source": [
    "df.sort_values(rank_list)"
   ],
   "metadata": {
    "collapsed": false,
    "pycharm": {
     "name": "#%%\n"
    }
   }
  },
  {
   "cell_type": "code",
   "execution_count": 235,
   "outputs": [],
   "source": [
    "scale_mapper = {CON:1, PRI:2, AUT:3, DIV:4, NOB:5, TRA:6}\n",
    "\n",
    "def apply_scale_mapper(df_input, scale_mapper=scale_mapper):\n",
    "    df_int = pd.DataFrame()\n",
    "    for i in range(1, len(df_input.columns) + 1):\n",
    "        df_int[\"rank\"+str(i)] = df_input[\"rank\"+str(i)].replace(scale_mapper)\n",
    "    return df_int"
   ],
   "metadata": {
    "collapsed": false,
    "pycharm": {
     "name": "#%%\n"
    }
   }
  },
  {
   "cell_type": "code",
   "execution_count": 236,
   "outputs": [],
   "source": [
    "df = apply_scale_mapper(df)"
   ],
   "metadata": {
    "collapsed": false,
    "pycharm": {
     "name": "#%%\n"
    }
   }
  },
  {
   "cell_type": "code",
   "execution_count": 237,
   "outputs": [],
   "source": [
    "def gen_ppl_string_representation(df):\n",
    "    ppl_dict = {}\n",
    "    for i, entry in enumerate(df.values):\n",
    "        ppl_dict[i] = ''.join(str(entry))\n",
    "    return ppl_dict"
   ],
   "metadata": {
    "collapsed": false,
    "pycharm": {
     "name": "#%%\n"
    }
   }
  },
  {
   "cell_type": "code",
   "execution_count": 238,
   "outputs": [],
   "source": [
    "ppl_dict = gen_ppl_string_representation(df)"
   ],
   "metadata": {
    "collapsed": false,
    "pycharm": {
     "name": "#%%\n"
    }
   }
  },
  {
   "cell_type": "code",
   "execution_count": 239,
   "outputs": [],
   "source": [
    "def ppl_with_same_values(ppl_dict, winkler = True, threshold = 0.9):\n",
    "    sim_ppl = defaultdict(list)\n",
    "    for person1 in ppl_dict:\n",
    "        for person2 in ppl_dict:\n",
    "            if person1 == person2:\n",
    "                continue\n",
    "            if winkler:\n",
    "                if jaro_winkler(ppl_dict[person1], ppl_dict[person2]) > threshold:\n",
    "                    sim_ppl[person1].append(person2)\n",
    "            else:\n",
    "                if jaro_distance(ppl_dict[person1], ppl_dict[person2]) > threshold:\n",
    "                    sim_ppl[person1].append(person2)\n",
    "\n",
    "    return sim_ppl"
   ],
   "metadata": {
    "collapsed": false,
    "pycharm": {
     "name": "#%%\n"
    }
   }
  },
  {
   "cell_type": "code",
   "execution_count": 249,
   "outputs": [
    {
     "data": {
      "text/plain": "defaultdict(list,\n            {0: [5, 6, 9, 10],\n             1: [4, 7, 8, 9, 11],\n             2: [10],\n             3: [8, 11],\n             4: [1, 7, 8, 11],\n             5: [0, 10],\n             6: [0],\n             7: [1, 4, 8, 11],\n             8: [1, 3, 4, 7, 11],\n             9: [0, 1],\n             10: [0, 2, 5],\n             11: [1, 3, 4, 7, 8]})"
     },
     "execution_count": 249,
     "metadata": {},
     "output_type": "execute_result"
    }
   ],
   "source": [
    "ppl_with_same_values(ppl_dict, True, 0.95)"
   ],
   "metadata": {
    "collapsed": false,
    "pycharm": {
     "name": "#%%\n"
    }
   }
  },
  {
   "cell_type": "code",
   "execution_count": 262,
   "outputs": [],
   "source": [
    "similar1 = [0, 5, 6, 10]\n",
    "similar2 = [1, 4, 7, 8, 11]\n",
    "similar3 = [2, 3, 9, 12]"
   ],
   "metadata": {
    "collapsed": false,
    "pycharm": {
     "name": "#%%\n"
    }
   }
  },
  {
   "cell_type": "code",
   "execution_count": 263,
   "outputs": [
    {
     "data": {
      "text/plain": "          rank1      rank2         rank3      rank4         rank5\n0   Convenience  Diversity       Privacy   Autonomy  Transparency\n5   Convenience   Autonomy  Transparency  Diversity       Privacy\n6   Convenience  Diversity  Transparency    Privacy      Autonomy\n10  Convenience   Autonomy     Diversity    Privacy  Transparency",
      "text/html": "<div>\n<style scoped>\n    .dataframe tbody tr th:only-of-type {\n        vertical-align: middle;\n    }\n\n    .dataframe tbody tr th {\n        vertical-align: top;\n    }\n\n    .dataframe thead th {\n        text-align: right;\n    }\n</style>\n<table border=\"1\" class=\"dataframe\">\n  <thead>\n    <tr style=\"text-align: right;\">\n      <th></th>\n      <th>rank1</th>\n      <th>rank2</th>\n      <th>rank3</th>\n      <th>rank4</th>\n      <th>rank5</th>\n    </tr>\n  </thead>\n  <tbody>\n    <tr>\n      <th>0</th>\n      <td>Convenience</td>\n      <td>Diversity</td>\n      <td>Privacy</td>\n      <td>Autonomy</td>\n      <td>Transparency</td>\n    </tr>\n    <tr>\n      <th>5</th>\n      <td>Convenience</td>\n      <td>Autonomy</td>\n      <td>Transparency</td>\n      <td>Diversity</td>\n      <td>Privacy</td>\n    </tr>\n    <tr>\n      <th>6</th>\n      <td>Convenience</td>\n      <td>Diversity</td>\n      <td>Transparency</td>\n      <td>Privacy</td>\n      <td>Autonomy</td>\n    </tr>\n    <tr>\n      <th>10</th>\n      <td>Convenience</td>\n      <td>Autonomy</td>\n      <td>Diversity</td>\n      <td>Privacy</td>\n      <td>Transparency</td>\n    </tr>\n  </tbody>\n</table>\n</div>"
     },
     "execution_count": 263,
     "metadata": {},
     "output_type": "execute_result"
    }
   ],
   "source": [
    "persona1 = df_string.iloc[similar1, :]\n",
    "persona1"
   ],
   "metadata": {
    "collapsed": false,
    "pycharm": {
     "name": "#%%\n"
    }
   }
  },
  {
   "cell_type": "code",
   "execution_count": 264,
   "outputs": [
    {
     "data": {
      "text/plain": "      rank1         rank2         rank3        rank4        rank5\n1   Privacy      Autonomy  Transparency  Convenience    Diversity\n4   Privacy      Autonomy  Transparency    Diversity  Convenience\n7   Privacy      Autonomy  Transparency    Diversity  Convenience\n8   Privacy  Transparency     Diversity     Autonomy  Convenience\n11  Privacy  Transparency     Diversity     Autonomy  Convenience",
      "text/html": "<div>\n<style scoped>\n    .dataframe tbody tr th:only-of-type {\n        vertical-align: middle;\n    }\n\n    .dataframe tbody tr th {\n        vertical-align: top;\n    }\n\n    .dataframe thead th {\n        text-align: right;\n    }\n</style>\n<table border=\"1\" class=\"dataframe\">\n  <thead>\n    <tr style=\"text-align: right;\">\n      <th></th>\n      <th>rank1</th>\n      <th>rank2</th>\n      <th>rank3</th>\n      <th>rank4</th>\n      <th>rank5</th>\n    </tr>\n  </thead>\n  <tbody>\n    <tr>\n      <th>1</th>\n      <td>Privacy</td>\n      <td>Autonomy</td>\n      <td>Transparency</td>\n      <td>Convenience</td>\n      <td>Diversity</td>\n    </tr>\n    <tr>\n      <th>4</th>\n      <td>Privacy</td>\n      <td>Autonomy</td>\n      <td>Transparency</td>\n      <td>Diversity</td>\n      <td>Convenience</td>\n    </tr>\n    <tr>\n      <th>7</th>\n      <td>Privacy</td>\n      <td>Autonomy</td>\n      <td>Transparency</td>\n      <td>Diversity</td>\n      <td>Convenience</td>\n    </tr>\n    <tr>\n      <th>8</th>\n      <td>Privacy</td>\n      <td>Transparency</td>\n      <td>Diversity</td>\n      <td>Autonomy</td>\n      <td>Convenience</td>\n    </tr>\n    <tr>\n      <th>11</th>\n      <td>Privacy</td>\n      <td>Transparency</td>\n      <td>Diversity</td>\n      <td>Autonomy</td>\n      <td>Convenience</td>\n    </tr>\n  </tbody>\n</table>\n</div>"
     },
     "execution_count": 264,
     "metadata": {},
     "output_type": "execute_result"
    }
   ],
   "source": [
    "persona2 = df_string.iloc[similar2, :]\n",
    "persona2"
   ],
   "metadata": {
    "collapsed": false,
    "pycharm": {
     "name": "#%%\n"
    }
   }
  },
  {
   "cell_type": "code",
   "execution_count": 260,
   "outputs": [
    {
     "data": {
      "text/plain": "           rank1         rank2        rank3        rank4         rank5\n2       Autonomy     Diversity  Convenience      Privacy  Transparency\n3      Diversity  Transparency      Privacy     Autonomy   Convenience\n12  Transparency       Privacy    Diversity  Convenience      Autonomy",
      "text/html": "<div>\n<style scoped>\n    .dataframe tbody tr th:only-of-type {\n        vertical-align: middle;\n    }\n\n    .dataframe tbody tr th {\n        vertical-align: top;\n    }\n\n    .dataframe thead th {\n        text-align: right;\n    }\n</style>\n<table border=\"1\" class=\"dataframe\">\n  <thead>\n    <tr style=\"text-align: right;\">\n      <th></th>\n      <th>rank1</th>\n      <th>rank2</th>\n      <th>rank3</th>\n      <th>rank4</th>\n      <th>rank5</th>\n    </tr>\n  </thead>\n  <tbody>\n    <tr>\n      <th>2</th>\n      <td>Autonomy</td>\n      <td>Diversity</td>\n      <td>Convenience</td>\n      <td>Privacy</td>\n      <td>Transparency</td>\n    </tr>\n    <tr>\n      <th>3</th>\n      <td>Diversity</td>\n      <td>Transparency</td>\n      <td>Privacy</td>\n      <td>Autonomy</td>\n      <td>Convenience</td>\n    </tr>\n    <tr>\n      <th>12</th>\n      <td>Transparency</td>\n      <td>Privacy</td>\n      <td>Diversity</td>\n      <td>Convenience</td>\n      <td>Autonomy</td>\n    </tr>\n  </tbody>\n</table>\n</div>"
     },
     "execution_count": 260,
     "metadata": {},
     "output_type": "execute_result"
    }
   ],
   "source": [
    "persona3 = df_string.iloc[similar3, :]\n",
    "persona3"
   ],
   "metadata": {
    "collapsed": false,
    "pycharm": {
     "name": "#%%\n"
    }
   }
  },
  {
   "cell_type": "code",
   "execution_count": 241,
   "outputs": [],
   "source": [
    "similar1 = [0, 7, 10, 11]\n",
    "similar2 = [1, 5, 8, 9, 12]\n",
    "similar3 = [2, 6, 11]"
   ],
   "metadata": {
    "collapsed": false,
    "pycharm": {
     "name": "#%%\n"
    }
   }
  },
  {
   "cell_type": "code",
   "execution_count": 242,
   "outputs": [
    {
     "data": {
      "text/plain": "          rank1         rank2         rank3      rank4         rank5\n0   Convenience     Diversity       Privacy   Autonomy  Transparency\n7       Privacy      Autonomy  Transparency  Diversity   Convenience\n10  Convenience      Autonomy     Diversity    Privacy  Transparency\n11      Privacy  Transparency     Diversity   Autonomy   Convenience",
      "text/html": "<div>\n<style scoped>\n    .dataframe tbody tr th:only-of-type {\n        vertical-align: middle;\n    }\n\n    .dataframe tbody tr th {\n        vertical-align: top;\n    }\n\n    .dataframe thead th {\n        text-align: right;\n    }\n</style>\n<table border=\"1\" class=\"dataframe\">\n  <thead>\n    <tr style=\"text-align: right;\">\n      <th></th>\n      <th>rank1</th>\n      <th>rank2</th>\n      <th>rank3</th>\n      <th>rank4</th>\n      <th>rank5</th>\n    </tr>\n  </thead>\n  <tbody>\n    <tr>\n      <th>0</th>\n      <td>Convenience</td>\n      <td>Diversity</td>\n      <td>Privacy</td>\n      <td>Autonomy</td>\n      <td>Transparency</td>\n    </tr>\n    <tr>\n      <th>7</th>\n      <td>Privacy</td>\n      <td>Autonomy</td>\n      <td>Transparency</td>\n      <td>Diversity</td>\n      <td>Convenience</td>\n    </tr>\n    <tr>\n      <th>10</th>\n      <td>Convenience</td>\n      <td>Autonomy</td>\n      <td>Diversity</td>\n      <td>Privacy</td>\n      <td>Transparency</td>\n    </tr>\n    <tr>\n      <th>11</th>\n      <td>Privacy</td>\n      <td>Transparency</td>\n      <td>Diversity</td>\n      <td>Autonomy</td>\n      <td>Convenience</td>\n    </tr>\n  </tbody>\n</table>\n</div>"
     },
     "execution_count": 242,
     "metadata": {},
     "output_type": "execute_result"
    }
   ],
   "source": [
    "persona1 = df_string.iloc[similar1, :]\n",
    "persona1"
   ],
   "metadata": {
    "collapsed": false,
    "pycharm": {
     "name": "#%%\n"
    }
   }
  },
  {
   "cell_type": "code",
   "execution_count": 243,
   "outputs": [
    {
     "data": {
      "text/plain": "           rank1         rank2         rank3        rank4         rank5\n1        Privacy      Autonomy  Transparency  Convenience     Diversity\n5    Convenience      Autonomy  Transparency    Diversity       Privacy\n8        Privacy  Transparency     Diversity     Autonomy   Convenience\n9        Privacy   Convenience     Diversity     Autonomy  Transparency\n12  Transparency       Privacy     Diversity  Convenience      Autonomy",
      "text/html": "<div>\n<style scoped>\n    .dataframe tbody tr th:only-of-type {\n        vertical-align: middle;\n    }\n\n    .dataframe tbody tr th {\n        vertical-align: top;\n    }\n\n    .dataframe thead th {\n        text-align: right;\n    }\n</style>\n<table border=\"1\" class=\"dataframe\">\n  <thead>\n    <tr style=\"text-align: right;\">\n      <th></th>\n      <th>rank1</th>\n      <th>rank2</th>\n      <th>rank3</th>\n      <th>rank4</th>\n      <th>rank5</th>\n    </tr>\n  </thead>\n  <tbody>\n    <tr>\n      <th>1</th>\n      <td>Privacy</td>\n      <td>Autonomy</td>\n      <td>Transparency</td>\n      <td>Convenience</td>\n      <td>Diversity</td>\n    </tr>\n    <tr>\n      <th>5</th>\n      <td>Convenience</td>\n      <td>Autonomy</td>\n      <td>Transparency</td>\n      <td>Diversity</td>\n      <td>Privacy</td>\n    </tr>\n    <tr>\n      <th>8</th>\n      <td>Privacy</td>\n      <td>Transparency</td>\n      <td>Diversity</td>\n      <td>Autonomy</td>\n      <td>Convenience</td>\n    </tr>\n    <tr>\n      <th>9</th>\n      <td>Privacy</td>\n      <td>Convenience</td>\n      <td>Diversity</td>\n      <td>Autonomy</td>\n      <td>Transparency</td>\n    </tr>\n    <tr>\n      <th>12</th>\n      <td>Transparency</td>\n      <td>Privacy</td>\n      <td>Diversity</td>\n      <td>Convenience</td>\n      <td>Autonomy</td>\n    </tr>\n  </tbody>\n</table>\n</div>"
     },
     "execution_count": 243,
     "metadata": {},
     "output_type": "execute_result"
    }
   ],
   "source": [
    "persona2 = df_string.iloc[similar2, :]\n",
    "persona2"
   ],
   "metadata": {
    "collapsed": false,
    "pycharm": {
     "name": "#%%\n"
    }
   }
  },
  {
   "cell_type": "code",
   "execution_count": 244,
   "outputs": [
    {
     "data": {
      "text/plain": "          rank1         rank2         rank3     rank4         rank5\n2      Autonomy     Diversity   Convenience   Privacy  Transparency\n6   Convenience     Diversity  Transparency   Privacy      Autonomy\n11      Privacy  Transparency     Diversity  Autonomy   Convenience",
      "text/html": "<div>\n<style scoped>\n    .dataframe tbody tr th:only-of-type {\n        vertical-align: middle;\n    }\n\n    .dataframe tbody tr th {\n        vertical-align: top;\n    }\n\n    .dataframe thead th {\n        text-align: right;\n    }\n</style>\n<table border=\"1\" class=\"dataframe\">\n  <thead>\n    <tr style=\"text-align: right;\">\n      <th></th>\n      <th>rank1</th>\n      <th>rank2</th>\n      <th>rank3</th>\n      <th>rank4</th>\n      <th>rank5</th>\n    </tr>\n  </thead>\n  <tbody>\n    <tr>\n      <th>2</th>\n      <td>Autonomy</td>\n      <td>Diversity</td>\n      <td>Convenience</td>\n      <td>Privacy</td>\n      <td>Transparency</td>\n    </tr>\n    <tr>\n      <th>6</th>\n      <td>Convenience</td>\n      <td>Diversity</td>\n      <td>Transparency</td>\n      <td>Privacy</td>\n      <td>Autonomy</td>\n    </tr>\n    <tr>\n      <th>11</th>\n      <td>Privacy</td>\n      <td>Transparency</td>\n      <td>Diversity</td>\n      <td>Autonomy</td>\n      <td>Convenience</td>\n    </tr>\n  </tbody>\n</table>\n</div>"
     },
     "execution_count": 244,
     "metadata": {},
     "output_type": "execute_result"
    }
   ],
   "source": [
    "persona3 = df_string.iloc[similar3, :]\n",
    "persona3"
   ],
   "metadata": {
    "collapsed": false,
    "pycharm": {
     "name": "#%%\n"
    }
   }
  },
  {
   "cell_type": "code",
   "execution_count": 245,
   "outputs": [
    {
     "data": {
      "text/plain": "defaultdict(list,\n            {0: [5, 6, 9, 10],\n             1: [4, 7, 8, 9, 11],\n             2: [5, 10],\n             3: [8, 11, 12],\n             4: [1, 7, 8, 11],\n             5: [0, 2, 10],\n             6: [0],\n             7: [1, 4, 8, 11],\n             8: [1, 3, 4, 7, 9, 11, 12],\n             9: [0, 1, 8, 11],\n             10: [0, 2, 5],\n             11: [1, 3, 4, 7, 8, 9, 12],\n             12: [3, 8, 11]})"
     },
     "execution_count": 245,
     "metadata": {},
     "output_type": "execute_result"
    }
   ],
   "source": [
    "ppl_with_same_values(ppl_dict, True, 0.90)"
   ],
   "metadata": {
    "collapsed": false,
    "pycharm": {
     "name": "#%%\n"
    }
   }
  },
  {
   "cell_type": "code",
   "execution_count": 246,
   "outputs": [],
   "source": [
    "sim1 = [0, 6, 7, 11]\n",
    "sim2 = [1, 3, 5, 8, 9, 10, 12, 13]"
   ],
   "metadata": {
    "collapsed": false,
    "pycharm": {
     "name": "#%%\n"
    }
   }
  },
  {
   "cell_type": "code",
   "execution_count": 247,
   "outputs": [
    {
     "data": {
      "text/plain": "          rank1         rank2         rank3      rank4         rank5\n0   Convenience     Diversity       Privacy   Autonomy  Transparency\n6   Convenience     Diversity  Transparency    Privacy      Autonomy\n7       Privacy      Autonomy  Transparency  Diversity   Convenience\n11      Privacy  Transparency     Diversity   Autonomy   Convenience",
      "text/html": "<div>\n<style scoped>\n    .dataframe tbody tr th:only-of-type {\n        vertical-align: middle;\n    }\n\n    .dataframe tbody tr th {\n        vertical-align: top;\n    }\n\n    .dataframe thead th {\n        text-align: right;\n    }\n</style>\n<table border=\"1\" class=\"dataframe\">\n  <thead>\n    <tr style=\"text-align: right;\">\n      <th></th>\n      <th>rank1</th>\n      <th>rank2</th>\n      <th>rank3</th>\n      <th>rank4</th>\n      <th>rank5</th>\n    </tr>\n  </thead>\n  <tbody>\n    <tr>\n      <th>0</th>\n      <td>Convenience</td>\n      <td>Diversity</td>\n      <td>Privacy</td>\n      <td>Autonomy</td>\n      <td>Transparency</td>\n    </tr>\n    <tr>\n      <th>6</th>\n      <td>Convenience</td>\n      <td>Diversity</td>\n      <td>Transparency</td>\n      <td>Privacy</td>\n      <td>Autonomy</td>\n    </tr>\n    <tr>\n      <th>7</th>\n      <td>Privacy</td>\n      <td>Autonomy</td>\n      <td>Transparency</td>\n      <td>Diversity</td>\n      <td>Convenience</td>\n    </tr>\n    <tr>\n      <th>11</th>\n      <td>Privacy</td>\n      <td>Transparency</td>\n      <td>Diversity</td>\n      <td>Autonomy</td>\n      <td>Convenience</td>\n    </tr>\n  </tbody>\n</table>\n</div>"
     },
     "execution_count": 247,
     "metadata": {},
     "output_type": "execute_result"
    }
   ],
   "source": [
    "df_string.iloc[sim1, :]"
   ],
   "metadata": {
    "collapsed": false,
    "pycharm": {
     "name": "#%%\n"
    }
   }
  },
  {
   "cell_type": "code",
   "execution_count": 248,
   "outputs": [
    {
     "ename": "IndexError",
     "evalue": "positional indexers are out-of-bounds",
     "output_type": "error",
     "traceback": [
      "\u001B[0;31m---------------------------------------------------------------------------\u001B[0m",
      "\u001B[0;31mIndexError\u001B[0m                                Traceback (most recent call last)",
      "Input \u001B[0;32mIn [248]\u001B[0m, in \u001B[0;36m<cell line: 1>\u001B[0;34m()\u001B[0m\n\u001B[0;32m----> 1\u001B[0m \u001B[43mdf_string\u001B[49m\u001B[38;5;241;43m.\u001B[39;49m\u001B[43miloc\u001B[49m\u001B[43m[\u001B[49m\u001B[43msim2\u001B[49m\u001B[43m,\u001B[49m\u001B[43m \u001B[49m\u001B[43m:\u001B[49m\u001B[43m]\u001B[49m\n",
      "File \u001B[0;32m~/miniforge3/envs/default/lib/python3.8/site-packages/pandas/core/indexing.py:961\u001B[0m, in \u001B[0;36m_LocationIndexer.__getitem__\u001B[0;34m(self, key)\u001B[0m\n\u001B[1;32m    959\u001B[0m     \u001B[38;5;28;01mif\u001B[39;00m \u001B[38;5;28mself\u001B[39m\u001B[38;5;241m.\u001B[39m_is_scalar_access(key):\n\u001B[1;32m    960\u001B[0m         \u001B[38;5;28;01mreturn\u001B[39;00m \u001B[38;5;28mself\u001B[39m\u001B[38;5;241m.\u001B[39mobj\u001B[38;5;241m.\u001B[39m_get_value(\u001B[38;5;241m*\u001B[39mkey, takeable\u001B[38;5;241m=\u001B[39m\u001B[38;5;28mself\u001B[39m\u001B[38;5;241m.\u001B[39m_takeable)\n\u001B[0;32m--> 961\u001B[0m     \u001B[38;5;28;01mreturn\u001B[39;00m \u001B[38;5;28;43mself\u001B[39;49m\u001B[38;5;241;43m.\u001B[39;49m\u001B[43m_getitem_tuple\u001B[49m\u001B[43m(\u001B[49m\u001B[43mkey\u001B[49m\u001B[43m)\u001B[49m\n\u001B[1;32m    962\u001B[0m \u001B[38;5;28;01melse\u001B[39;00m:\n\u001B[1;32m    963\u001B[0m     \u001B[38;5;66;03m# we by definition only have the 0th axis\u001B[39;00m\n\u001B[1;32m    964\u001B[0m     axis \u001B[38;5;241m=\u001B[39m \u001B[38;5;28mself\u001B[39m\u001B[38;5;241m.\u001B[39maxis \u001B[38;5;129;01mor\u001B[39;00m \u001B[38;5;241m0\u001B[39m\n",
      "File \u001B[0;32m~/miniforge3/envs/default/lib/python3.8/site-packages/pandas/core/indexing.py:1458\u001B[0m, in \u001B[0;36m_iLocIndexer._getitem_tuple\u001B[0;34m(self, tup)\u001B[0m\n\u001B[1;32m   1456\u001B[0m \u001B[38;5;28;01mdef\u001B[39;00m \u001B[38;5;21m_getitem_tuple\u001B[39m(\u001B[38;5;28mself\u001B[39m, tup: \u001B[38;5;28mtuple\u001B[39m):\n\u001B[0;32m-> 1458\u001B[0m     tup \u001B[38;5;241m=\u001B[39m \u001B[38;5;28;43mself\u001B[39;49m\u001B[38;5;241;43m.\u001B[39;49m\u001B[43m_validate_tuple_indexer\u001B[49m\u001B[43m(\u001B[49m\u001B[43mtup\u001B[49m\u001B[43m)\u001B[49m\n\u001B[1;32m   1459\u001B[0m     \u001B[38;5;28;01mwith\u001B[39;00m suppress(IndexingError):\n\u001B[1;32m   1460\u001B[0m         \u001B[38;5;28;01mreturn\u001B[39;00m \u001B[38;5;28mself\u001B[39m\u001B[38;5;241m.\u001B[39m_getitem_lowerdim(tup)\n",
      "File \u001B[0;32m~/miniforge3/envs/default/lib/python3.8/site-packages/pandas/core/indexing.py:769\u001B[0m, in \u001B[0;36m_LocationIndexer._validate_tuple_indexer\u001B[0;34m(self, key)\u001B[0m\n\u001B[1;32m    767\u001B[0m \u001B[38;5;28;01mfor\u001B[39;00m i, k \u001B[38;5;129;01min\u001B[39;00m \u001B[38;5;28menumerate\u001B[39m(key):\n\u001B[1;32m    768\u001B[0m     \u001B[38;5;28;01mtry\u001B[39;00m:\n\u001B[0;32m--> 769\u001B[0m         \u001B[38;5;28;43mself\u001B[39;49m\u001B[38;5;241;43m.\u001B[39;49m\u001B[43m_validate_key\u001B[49m\u001B[43m(\u001B[49m\u001B[43mk\u001B[49m\u001B[43m,\u001B[49m\u001B[43m \u001B[49m\u001B[43mi\u001B[49m\u001B[43m)\u001B[49m\n\u001B[1;32m    770\u001B[0m     \u001B[38;5;28;01mexcept\u001B[39;00m \u001B[38;5;167;01mValueError\u001B[39;00m \u001B[38;5;28;01mas\u001B[39;00m err:\n\u001B[1;32m    771\u001B[0m         \u001B[38;5;28;01mraise\u001B[39;00m \u001B[38;5;167;01mValueError\u001B[39;00m(\n\u001B[1;32m    772\u001B[0m             \u001B[38;5;124m\"\u001B[39m\u001B[38;5;124mLocation based indexing can only have \u001B[39m\u001B[38;5;124m\"\u001B[39m\n\u001B[1;32m    773\u001B[0m             \u001B[38;5;124mf\u001B[39m\u001B[38;5;124m\"\u001B[39m\u001B[38;5;124m[\u001B[39m\u001B[38;5;132;01m{\u001B[39;00m\u001B[38;5;28mself\u001B[39m\u001B[38;5;241m.\u001B[39m_valid_types\u001B[38;5;132;01m}\u001B[39;00m\u001B[38;5;124m] types\u001B[39m\u001B[38;5;124m\"\u001B[39m\n\u001B[1;32m    774\u001B[0m         ) \u001B[38;5;28;01mfrom\u001B[39;00m \u001B[38;5;21;01merr\u001B[39;00m\n",
      "File \u001B[0;32m~/miniforge3/envs/default/lib/python3.8/site-packages/pandas/core/indexing.py:1376\u001B[0m, in \u001B[0;36m_iLocIndexer._validate_key\u001B[0;34m(self, key, axis)\u001B[0m\n\u001B[1;32m   1374\u001B[0m     \u001B[38;5;66;03m# check that the key does not exceed the maximum size of the index\u001B[39;00m\n\u001B[1;32m   1375\u001B[0m     \u001B[38;5;28;01mif\u001B[39;00m \u001B[38;5;28mlen\u001B[39m(arr) \u001B[38;5;129;01mand\u001B[39;00m (arr\u001B[38;5;241m.\u001B[39mmax() \u001B[38;5;241m>\u001B[39m\u001B[38;5;241m=\u001B[39m len_axis \u001B[38;5;129;01mor\u001B[39;00m arr\u001B[38;5;241m.\u001B[39mmin() \u001B[38;5;241m<\u001B[39m \u001B[38;5;241m-\u001B[39mlen_axis):\n\u001B[0;32m-> 1376\u001B[0m         \u001B[38;5;28;01mraise\u001B[39;00m \u001B[38;5;167;01mIndexError\u001B[39;00m(\u001B[38;5;124m\"\u001B[39m\u001B[38;5;124mpositional indexers are out-of-bounds\u001B[39m\u001B[38;5;124m\"\u001B[39m)\n\u001B[1;32m   1377\u001B[0m \u001B[38;5;28;01melse\u001B[39;00m:\n\u001B[1;32m   1378\u001B[0m     \u001B[38;5;28;01mraise\u001B[39;00m \u001B[38;5;167;01mValueError\u001B[39;00m(\u001B[38;5;124mf\u001B[39m\u001B[38;5;124m\"\u001B[39m\u001B[38;5;124mCan only index by location with a [\u001B[39m\u001B[38;5;132;01m{\u001B[39;00m\u001B[38;5;28mself\u001B[39m\u001B[38;5;241m.\u001B[39m_valid_types\u001B[38;5;132;01m}\u001B[39;00m\u001B[38;5;124m]\u001B[39m\u001B[38;5;124m\"\u001B[39m)\n",
      "\u001B[0;31mIndexError\u001B[0m: positional indexers are out-of-bounds"
     ]
    }
   ],
   "source": [
    "df_string.iloc[sim2, :]"
   ],
   "metadata": {
    "collapsed": false,
    "pycharm": {
     "name": "#%%\n"
    }
   }
  },
  {
   "cell_type": "code",
   "execution_count": null,
   "outputs": [],
   "source": [
    "similar1 = [0, 3, 6, 7, 10, 11]\n",
    "similar2 = [1, 4, 5, 8, 9, 10, 12, 13]\n",
    "# similar3 = [2, 6, 11]"
   ],
   "metadata": {
    "collapsed": false,
    "pycharm": {
     "name": "#%%\n"
    }
   }
  },
  {
   "cell_type": "code",
   "execution_count": null,
   "outputs": [],
   "source": [
    "df_string.iloc[similar1, :]"
   ],
   "metadata": {
    "collapsed": false,
    "pycharm": {
     "name": "#%%\n"
    }
   }
  },
  {
   "cell_type": "code",
   "execution_count": null,
   "outputs": [],
   "source": [
    "df_string.iloc[similar2, :]"
   ],
   "metadata": {
    "collapsed": false,
    "pycharm": {
     "name": "#%%\n"
    }
   }
  },
  {
   "cell_type": "code",
   "execution_count": null,
   "outputs": [],
   "source": [
    "df_string"
   ],
   "metadata": {
    "collapsed": false,
    "pycharm": {
     "name": "#%%\n"
    }
   }
  }
 ],
 "metadata": {
  "kernelspec": {
   "display_name": "Python 3",
   "language": "python",
   "name": "python3"
  },
  "language_info": {
   "codemirror_mode": {
    "name": "ipython",
    "version": 2
   },
   "file_extension": ".py",
   "mimetype": "text/x-python",
   "name": "python",
   "nbconvert_exporter": "python",
   "pygments_lexer": "ipython2",
   "version": "2.7.6"
  }
 },
 "nbformat": 4,
 "nbformat_minor": 0
}