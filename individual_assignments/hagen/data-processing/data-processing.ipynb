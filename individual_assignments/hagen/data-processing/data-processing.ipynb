{
 "cells": [
  {
   "cell_type": "code",
   "execution_count": 1,
   "metadata": {
    "collapsed": true
   },
   "outputs": [],
   "source": [
    "import pandas as pd\n",
    "import csv_utils\n",
    "import string\n",
    "\n",
    "from datetime import datetime\n",
    "from sklearn.feature_extraction.text import TfidfVectorizer\n",
    "from sklearn.cluster import KMeans"
   ]
  },
  {
   "cell_type": "code",
   "execution_count": 88,
   "outputs": [],
   "source": [
    "df = pd.read_csv('./../data/BBC/bbc_data.csv', sep=';', index_col=0)\n",
    "#df = pd.read_csv('./../data/BBC/bbc_images.csv', sep=';', index_col=0)"
   ],
   "metadata": {
    "collapsed": false,
    "pycharm": {
     "name": "#%%\n"
    }
   }
  },
  {
   "cell_type": "code",
   "execution_count": 99,
   "outputs": [
    {
     "data": {
      "text/plain": "      index                                              title  \\\n0         0                                          BBC Proms   \n1         1                                               Port   \n2         2                 Sit Down, Stand Up with Greg James   \n3         3                        Ceiliúradh na Féile Pádraig   \n4         4                                    Songs of Praise   \n...     ...                                                ...   \n3798   3798  Murder Trial: The Disappearance of Margaret Fl...   \n3799   3799             Paul Merson: Football, Gambling and Me   \n3800   3800                               Avicii: True Stories   \n3801   3801                                        Heaven Made   \n3802   3802                                  The Wild Gardener   \n\n                                            description  \\\n0     Australian tenor Stuart Skelton is joined by L...   \n1     Previously unseen music from the series Port, ...   \n2     Tom Holland and Greg James cold call celebrity...   \n3     John Toal and Pauline Scanlon introduce an eve...   \n4     Claire McCollum explores Edinburgh and shares ...   \n...                                                 ...   \n3798  The trial continues as Cairney and Jones stand...   \n3799  Footballer Paul Merson sets out to understand ...   \n3800  Avicii: True Stories is Tim Bergling’s own sto...   \n3801  On the Isle of Wight, Brother Matthew, a monk ...   \n3802  Colin Stafford-Johnson turns his childhood gar...   \n\n                                                  image  \\\n0     https://ichef.bbci.co.uk/images/ic/{recipe}/p0...   \n1     https://ichef.bbci.co.uk/images/ic/{recipe}/p0...   \n2     https://ichef.bbci.co.uk/images/ic/{recipe}/p0...   \n3     https://ichef.bbci.co.uk/images/ic/{recipe}/p0...   \n4     https://ichef.bbci.co.uk/images/ic/{recipe}/p0...   \n...                                                 ...   \n3798  https://ichef.bbci.co.uk/images/ic/{recipe}/p0...   \n3799  https://ichef.bbci.co.uk/images/ic/{recipe}/p0...   \n3800  https://ichef.bbci.co.uk/images/ic/{recipe}/p0...   \n3801  https://ichef.bbci.co.uk/images/ic/{recipe}/p0...   \n3802  https://ichef.bbci.co.uk/images/ic/{recipe}/p0...   \n\n                                               keywords  \\\n0     BBC, iPlayer, TV, BBC Proms, 2021: Last Night ...   \n1           BBC, iPlayer, TV, Port, Series 5: Episode 4   \n2     BBC, iPlayer, TV, Sit Down, Stand Up with Greg...   \n3         BBC, iPlayer, TV, Ceiliúradh na Féile Pádraig   \n4          BBC, iPlayer, TV, Songs of Praise, Edinburgh   \n...                                                 ...   \n3798  BBC, iPlayer, TV, Murder Trial: The Disappeara...   \n3799  BBC, iPlayer, TV, Paul Merson: Football, Gambl...   \n3800             BBC, iPlayer, TV, Avicii: True Stories   \n3801  BBC, iPlayer, TV, Heaven Made, Series 1: Episo...   \n3802  BBC, iPlayer, TV, The Wild Gardener, Series 1:...   \n\n                                                 syno_s  \\\n0     Australian tenor Stuart Skelton is joined by L...   \n1     Previously unseen music from the series Port, ...   \n2     Tom Holland and Greg James cold call celebrity...   \n3     John Toal and Pauline Scanlon introduce an eve...   \n4     Claire McCollum explores Edinburgh and shares ...   \n...                                                 ...   \n3798  The trial continues as Cairney and Jones stand...   \n3799  Footballer Paul Merson sets out to understand ...   \n3800  Avicii: True Stories is Tim Bergling’s own sto...   \n3801  On the Isle of Wight, Brother Matthew, a monk ...   \n3802  Colin Stafford-Johnson turns his childhood gar...   \n\n                                                 syno_m  \\\n0     Australian tenor Stuart Skelton is joined by L...   \n1     Julie Fowlis a’ lìbhrigeadh ceòl bhon t-sreath...   \n2     Tom Holland and Greg James cold call celebrity...   \n3     John Toal and Pauline Scanlon introduce an eve...   \n4     Claire McCollum goes on a Christian heritage t...   \n...                                                 ...   \n3798  Second part of the documentary about the trial...   \n3799  Former footballer Paul Merson sets out to unde...   \n3800  Avicii: True Stories is Tim Bergling’s own sto...   \n3801  At Quarr Abbey on the Isle of Wight, Brother M...   \n3802  Wildlife cameraman Colin Stafford-Johnson retu...   \n\n                                                 syno_l       category  \\\n0     Katie Derham hosts continued live coverage fro...          Music   \n1     Bidh Druthag Bheag Eile a’ tarraing ri chèile ...          Music   \n2     Tom Holland and Greg James cold call celebrity...  Entertainment   \n3     John Toal and Pauline Scanlon introduce an eve...          Music   \n4     Claire McCollum explores Edinburgh and discove...          Music   \n...                                                 ...            ...   \n3798  As the murder trial that gripped a nation cont...    Documentary   \n3799  Over the past 35 years, former Arsenal and Eng...          Sport   \n3800  In 2006, Tim Bergling was just a regular teena...    Documentary   \n3801  The Benedictine nuns of Kylemore Abbey on the ...    Documentary   \n3802  Wildlife cameraman Colin Stafford-Johnson retu...         Nature   \n\n                               channel                         language  \\\n0                      bbc_radio_three                            False   \n1                             bbc_alba                            False   \n2                        bbc_radio_one                            False   \n3     bbc_two_northern_ireland_digital                            False   \n4                              bbc_one                            False   \n...                                ...                              ...   \n3798                           bbc_two  Contains some upsetting scenes.   \n3799                           bbc_one   Contains some strong language.   \n3800                         bbc_three        Contains strong language.   \n3801                           bbc_one                            False   \n3802                           bbc_two                            False   \n\n             release_date  duration_sec          topic  \n0         9pm 11 Sep 2021          5247          music  \n1              9 Jul 2020          1037          music  \n2             10 Feb 2022           611          music  \n3             17 Mar 2017          3538          music  \n4      1:15pm 20 Feb 2022          2044          music  \n...                   ...           ...            ...  \n3798      10pm 8 Jan 2020          3540  documentaries  \n3799      9pm 11 Oct 2021          3480  documentaries  \n3800          20 Apr 2019          5766  documentaries  \n3801  10:30am 13 Feb 2022          3244  documentaries  \n3802      8pm 26 Nov 2021          3540  documentaries  \n\n[3803 rows x 14 columns]",
      "text/html": "<div>\n<style scoped>\n    .dataframe tbody tr th:only-of-type {\n        vertical-align: middle;\n    }\n\n    .dataframe tbody tr th {\n        vertical-align: top;\n    }\n\n    .dataframe thead th {\n        text-align: right;\n    }\n</style>\n<table border=\"1\" class=\"dataframe\">\n  <thead>\n    <tr style=\"text-align: right;\">\n      <th></th>\n      <th>index</th>\n      <th>title</th>\n      <th>description</th>\n      <th>image</th>\n      <th>keywords</th>\n      <th>syno_s</th>\n      <th>syno_m</th>\n      <th>syno_l</th>\n      <th>category</th>\n      <th>channel</th>\n      <th>language</th>\n      <th>release_date</th>\n      <th>duration_sec</th>\n      <th>topic</th>\n    </tr>\n  </thead>\n  <tbody>\n    <tr>\n      <th>0</th>\n      <td>0</td>\n      <td>BBC Proms</td>\n      <td>Australian tenor Stuart Skelton is joined by L...</td>\n      <td>https://ichef.bbci.co.uk/images/ic/{recipe}/p0...</td>\n      <td>BBC, iPlayer, TV, BBC Proms, 2021: Last Night ...</td>\n      <td>Australian tenor Stuart Skelton is joined by L...</td>\n      <td>Australian tenor Stuart Skelton is joined by L...</td>\n      <td>Katie Derham hosts continued live coverage fro...</td>\n      <td>Music</td>\n      <td>bbc_radio_three</td>\n      <td>False</td>\n      <td>9pm 11 Sep 2021</td>\n      <td>5247</td>\n      <td>music</td>\n    </tr>\n    <tr>\n      <th>1</th>\n      <td>1</td>\n      <td>Port</td>\n      <td>Previously unseen music from the series Port, ...</td>\n      <td>https://ichef.bbci.co.uk/images/ic/{recipe}/p0...</td>\n      <td>BBC, iPlayer, TV, Port, Series 5: Episode 4</td>\n      <td>Previously unseen music from the series Port, ...</td>\n      <td>Julie Fowlis a’ lìbhrigeadh ceòl bhon t-sreath...</td>\n      <td>Bidh Druthag Bheag Eile a’ tarraing ri chèile ...</td>\n      <td>Music</td>\n      <td>bbc_alba</td>\n      <td>False</td>\n      <td>9 Jul 2020</td>\n      <td>1037</td>\n      <td>music</td>\n    </tr>\n    <tr>\n      <th>2</th>\n      <td>2</td>\n      <td>Sit Down, Stand Up with Greg James</td>\n      <td>Tom Holland and Greg James cold call celebrity...</td>\n      <td>https://ichef.bbci.co.uk/images/ic/{recipe}/p0...</td>\n      <td>BBC, iPlayer, TV, Sit Down, Stand Up with Greg...</td>\n      <td>Tom Holland and Greg James cold call celebrity...</td>\n      <td>Tom Holland and Greg James cold call celebrity...</td>\n      <td>Tom Holland and Greg James cold call celebrity...</td>\n      <td>Entertainment</td>\n      <td>bbc_radio_one</td>\n      <td>False</td>\n      <td>10 Feb 2022</td>\n      <td>611</td>\n      <td>music</td>\n    </tr>\n    <tr>\n      <th>3</th>\n      <td>3</td>\n      <td>Ceiliúradh na Féile Pádraig</td>\n      <td>John Toal and Pauline Scanlon introduce an eve...</td>\n      <td>https://ichef.bbci.co.uk/images/ic/{recipe}/p0...</td>\n      <td>BBC, iPlayer, TV, Ceiliúradh na Féile Pádraig</td>\n      <td>John Toal and Pauline Scanlon introduce an eve...</td>\n      <td>John Toal and Pauline Scanlon introduce an eve...</td>\n      <td>John Toal and Pauline Scanlon introduce an eve...</td>\n      <td>Music</td>\n      <td>bbc_two_northern_ireland_digital</td>\n      <td>False</td>\n      <td>17 Mar 2017</td>\n      <td>3538</td>\n      <td>music</td>\n    </tr>\n    <tr>\n      <th>4</th>\n      <td>4</td>\n      <td>Songs of Praise</td>\n      <td>Claire McCollum explores Edinburgh and shares ...</td>\n      <td>https://ichef.bbci.co.uk/images/ic/{recipe}/p0...</td>\n      <td>BBC, iPlayer, TV, Songs of Praise, Edinburgh</td>\n      <td>Claire McCollum explores Edinburgh and shares ...</td>\n      <td>Claire McCollum goes on a Christian heritage t...</td>\n      <td>Claire McCollum explores Edinburgh and discove...</td>\n      <td>Music</td>\n      <td>bbc_one</td>\n      <td>False</td>\n      <td>1:15pm 20 Feb 2022</td>\n      <td>2044</td>\n      <td>music</td>\n    </tr>\n    <tr>\n      <th>...</th>\n      <td>...</td>\n      <td>...</td>\n      <td>...</td>\n      <td>...</td>\n      <td>...</td>\n      <td>...</td>\n      <td>...</td>\n      <td>...</td>\n      <td>...</td>\n      <td>...</td>\n      <td>...</td>\n      <td>...</td>\n      <td>...</td>\n      <td>...</td>\n    </tr>\n    <tr>\n      <th>3798</th>\n      <td>3798</td>\n      <td>Murder Trial: The Disappearance of Margaret Fl...</td>\n      <td>The trial continues as Cairney and Jones stand...</td>\n      <td>https://ichef.bbci.co.uk/images/ic/{recipe}/p0...</td>\n      <td>BBC, iPlayer, TV, Murder Trial: The Disappeara...</td>\n      <td>The trial continues as Cairney and Jones stand...</td>\n      <td>Second part of the documentary about the trial...</td>\n      <td>As the murder trial that gripped a nation cont...</td>\n      <td>Documentary</td>\n      <td>bbc_two</td>\n      <td>Contains some upsetting scenes.</td>\n      <td>10pm 8 Jan 2020</td>\n      <td>3540</td>\n      <td>documentaries</td>\n    </tr>\n    <tr>\n      <th>3799</th>\n      <td>3799</td>\n      <td>Paul Merson: Football, Gambling and Me</td>\n      <td>Footballer Paul Merson sets out to understand ...</td>\n      <td>https://ichef.bbci.co.uk/images/ic/{recipe}/p0...</td>\n      <td>BBC, iPlayer, TV, Paul Merson: Football, Gambl...</td>\n      <td>Footballer Paul Merson sets out to understand ...</td>\n      <td>Former footballer Paul Merson sets out to unde...</td>\n      <td>Over the past 35 years, former Arsenal and Eng...</td>\n      <td>Sport</td>\n      <td>bbc_one</td>\n      <td>Contains some strong language.</td>\n      <td>9pm 11 Oct 2021</td>\n      <td>3480</td>\n      <td>documentaries</td>\n    </tr>\n    <tr>\n      <th>3800</th>\n      <td>3800</td>\n      <td>Avicii: True Stories</td>\n      <td>Avicii: True Stories is Tim Bergling’s own sto...</td>\n      <td>https://ichef.bbci.co.uk/images/ic/{recipe}/p0...</td>\n      <td>BBC, iPlayer, TV, Avicii: True Stories</td>\n      <td>Avicii: True Stories is Tim Bergling’s own sto...</td>\n      <td>Avicii: True Stories is Tim Bergling’s own sto...</td>\n      <td>In 2006, Tim Bergling was just a regular teena...</td>\n      <td>Documentary</td>\n      <td>bbc_three</td>\n      <td>Contains strong language.</td>\n      <td>20 Apr 2019</td>\n      <td>5766</td>\n      <td>documentaries</td>\n    </tr>\n    <tr>\n      <th>3801</th>\n      <td>3801</td>\n      <td>Heaven Made</td>\n      <td>On the Isle of Wight, Brother Matthew, a monk ...</td>\n      <td>https://ichef.bbci.co.uk/images/ic/{recipe}/p0...</td>\n      <td>BBC, iPlayer, TV, Heaven Made, Series 1: Episo...</td>\n      <td>On the Isle of Wight, Brother Matthew, a monk ...</td>\n      <td>At Quarr Abbey on the Isle of Wight, Brother M...</td>\n      <td>The Benedictine nuns of Kylemore Abbey on the ...</td>\n      <td>Documentary</td>\n      <td>bbc_one</td>\n      <td>False</td>\n      <td>10:30am 13 Feb 2022</td>\n      <td>3244</td>\n      <td>documentaries</td>\n    </tr>\n    <tr>\n      <th>3802</th>\n      <td>3802</td>\n      <td>The Wild Gardener</td>\n      <td>Colin Stafford-Johnson turns his childhood gar...</td>\n      <td>https://ichef.bbci.co.uk/images/ic/{recipe}/p0...</td>\n      <td>BBC, iPlayer, TV, The Wild Gardener, Series 1:...</td>\n      <td>Colin Stafford-Johnson turns his childhood gar...</td>\n      <td>Wildlife cameraman Colin Stafford-Johnson retu...</td>\n      <td>Wildlife cameraman Colin Stafford-Johnson retu...</td>\n      <td>Nature</td>\n      <td>bbc_two</td>\n      <td>False</td>\n      <td>8pm 26 Nov 2021</td>\n      <td>3540</td>\n      <td>documentaries</td>\n    </tr>\n  </tbody>\n</table>\n<p>3803 rows × 14 columns</p>\n</div>"
     },
     "execution_count": 99,
     "metadata": {},
     "output_type": "execute_result"
    }
   ],
   "source": [
    "df"
   ],
   "metadata": {
    "collapsed": false,
    "pycharm": {
     "name": "#%%\n"
    }
   }
  },
  {
   "cell_type": "code",
   "execution_count": 126,
   "outputs": [],
   "source": [
    "# columns = ['index', 'title', 'description', 'image', 'keywords', 'syno_s', 'syno_m', 'syno_l', 'category', 'channel', 'language', 'release_date', 'duration_sec', 'topic']\n",
    "#\n",
    "# df.columns = columns"
   ],
   "metadata": {
    "collapsed": false,
    "pycharm": {
     "name": "#%%\n"
    }
   }
  },
  {
   "cell_type": "markdown",
   "source": [
    "## Image Processing"
   ],
   "metadata": {
    "collapsed": false
   }
  },
  {
   "cell_type": "code",
   "execution_count": 127,
   "outputs": [],
   "source": [
    "s = '192x108'\n",
    "m = '288x162'\n",
    "l = '352x198'\n",
    "def generate_img(df_inp, size):\n",
    "    return [image.replace('{recipe}', size) for image in df_inp['image']]\n",
    "# df['image_l'] = generate_img(df, l)"
   ],
   "metadata": {
    "collapsed": false,
    "pycharm": {
     "name": "#%%\n"
    }
   }
  },
  {
   "cell_type": "code",
   "execution_count": 152,
   "outputs": [],
   "source": [
    "df_img = df.loc[:, ['index', 'image', 'image_s', 'image_m', 'image_l']]\n",
    "# df_img.to_csv('../data/BBC/bbc_images.csv', sep=';')"
   ],
   "metadata": {
    "collapsed": false,
    "pycharm": {
     "name": "#%%\n"
    }
   }
  },
  {
   "cell_type": "markdown",
   "source": [
    "## Synopses clearing"
   ],
   "metadata": {
    "collapsed": false,
    "pycharm": {
     "name": "#%% md\n"
    }
   }
  },
  {
   "cell_type": "code",
   "execution_count": 134,
   "outputs": [
    {
     "data": {
      "text/plain": "0"
     },
     "execution_count": 134,
     "metadata": {},
     "output_type": "execute_result"
    }
   ],
   "source": [
    "len(df[df['syno_s'].isna()])"
   ],
   "metadata": {
    "collapsed": false,
    "pycharm": {
     "name": "#%%\n"
    }
   }
  },
  {
   "cell_type": "code",
   "execution_count": 145,
   "outputs": [
    {
     "data": {
      "text/plain": "0"
     },
     "execution_count": 145,
     "metadata": {},
     "output_type": "execute_result"
    }
   ],
   "source": [
    "len(df[df['syno_m'].isna()])"
   ],
   "metadata": {
    "collapsed": false,
    "pycharm": {
     "name": "#%%\n"
    }
   }
  },
  {
   "cell_type": "code",
   "execution_count": 144,
   "outputs": [
    {
     "data": {
      "text/plain": "0"
     },
     "execution_count": 144,
     "metadata": {},
     "output_type": "execute_result"
    }
   ],
   "source": [
    "len(df[df['syno_l'].isna()])"
   ],
   "metadata": {
    "collapsed": false,
    "pycharm": {
     "name": "#%%\n"
    }
   }
  },
  {
   "cell_type": "code",
   "execution_count": 137,
   "outputs": [],
   "source": [
    "def fill_column(df_input, origin_col, gap_filler_col):\n",
    "    for index, df_entry in df_input.iterrows():\n",
    "        # checks if the value is the same, if not it is a NaN\n",
    "        if not df_entry[origin_col] == df_entry[origin_col]:\n",
    "            df_input.loc[index, [origin_col]] = df_entry[gap_filler_col]"
   ],
   "metadata": {
    "collapsed": false,
    "pycharm": {
     "name": "#%%\n"
    }
   }
  },
  {
   "cell_type": "code",
   "execution_count": 138,
   "outputs": [],
   "source": [
    "# Substitute all nan syno_m with the syno_s values\n",
    "# fill_column(df, origin_col='syno_m', gap_filler_col='syno_s')\n",
    "# Substitute all nan syno_l with the syno_m values\n",
    "# fill_column(df, origin_col='syno_l', gap_filler_col='syno_m')"
   ],
   "metadata": {
    "collapsed": false,
    "pycharm": {
     "name": "#%%\n"
    }
   }
  },
  {
   "cell_type": "code",
   "execution_count": 18,
   "outputs": [],
   "source": [
    "# df.to_csv('../data/BBC/bbc_data.csv', sep=';')"
   ],
   "metadata": {
    "collapsed": false,
    "pycharm": {
     "name": "#%%\n"
    }
   }
  },
  {
   "cell_type": "markdown",
   "source": [
    "## Remove duplicates"
   ],
   "metadata": {
    "collapsed": false
   }
  },
  {
   "cell_type": "code",
   "execution_count": 100,
   "outputs": [
    {
     "data": {
      "text/plain": "      index                   title  \\\n1956   1956  A Life in Ten Pictures   \n2836   2836  A Life in Ten Pictures   \n3486   3486  A Life in Ten Pictures   \n\n                                            description  \\\n1956  Ten pictures, from iconic shots to private sna...   \n2836  Ten pictures, from iconic shots to private sna...   \n3486  Ten pictures, from iconic shots to private sna...   \n\n                                                  image  \\\n1956  https://ichef.bbci.co.uk/images/ic/{recipe}/p0...   \n2836  https://ichef.bbci.co.uk/images/ic/{recipe}/p0...   \n3486  https://ichef.bbci.co.uk/images/ic/{recipe}/p0...   \n\n                                               keywords  \\\n1956  BBC, iPlayer, TV, A Life in Ten Pictures, Seri...   \n2836  BBC, iPlayer, TV, A Life in Ten Pictures, Seri...   \n3486  BBC, iPlayer, TV, A Life in Ten Pictures, Seri...   \n\n                                                 syno_s  \\\n1956  Ten pictures, from iconic shots to private sna...   \n2836  Ten pictures, from iconic shots to private sna...   \n3486  Ten pictures, from iconic shots to private sna...   \n\n                                                 syno_m  \\\n1956  Amy Winehouse’s image is known around the worl...   \n2836  Amy Winehouse’s image is known around the worl...   \n3486  Amy Winehouse’s image is known around the worl...   \n\n                                                 syno_l category  channel  \\\n1956  Amy Winehouse’s image is known around the worl...  History  bbc_two   \n2836  Amy Winehouse’s image is known around the worl...  History  bbc_two   \n3486  Amy Winehouse’s image is known around the worl...  History  bbc_two   \n\n                       language     release_date  duration_sec          topic  \n1956  Contains strong language.  9pm 11 Sep 2021          3550         signed  \n2836  Contains strong language.  9pm 11 Sep 2021          3550        history  \n3486  Contains strong language.  9pm 11 Sep 2021          3550  documentaries  ",
      "text/html": "<div>\n<style scoped>\n    .dataframe tbody tr th:only-of-type {\n        vertical-align: middle;\n    }\n\n    .dataframe tbody tr th {\n        vertical-align: top;\n    }\n\n    .dataframe thead th {\n        text-align: right;\n    }\n</style>\n<table border=\"1\" class=\"dataframe\">\n  <thead>\n    <tr style=\"text-align: right;\">\n      <th></th>\n      <th>index</th>\n      <th>title</th>\n      <th>description</th>\n      <th>image</th>\n      <th>keywords</th>\n      <th>syno_s</th>\n      <th>syno_m</th>\n      <th>syno_l</th>\n      <th>category</th>\n      <th>channel</th>\n      <th>language</th>\n      <th>release_date</th>\n      <th>duration_sec</th>\n      <th>topic</th>\n    </tr>\n  </thead>\n  <tbody>\n    <tr>\n      <th>1956</th>\n      <td>1956</td>\n      <td>A Life in Ten Pictures</td>\n      <td>Ten pictures, from iconic shots to private sna...</td>\n      <td>https://ichef.bbci.co.uk/images/ic/{recipe}/p0...</td>\n      <td>BBC, iPlayer, TV, A Life in Ten Pictures, Seri...</td>\n      <td>Ten pictures, from iconic shots to private sna...</td>\n      <td>Amy Winehouse’s image is known around the worl...</td>\n      <td>Amy Winehouse’s image is known around the worl...</td>\n      <td>History</td>\n      <td>bbc_two</td>\n      <td>Contains strong language.</td>\n      <td>9pm 11 Sep 2021</td>\n      <td>3550</td>\n      <td>signed</td>\n    </tr>\n    <tr>\n      <th>2836</th>\n      <td>2836</td>\n      <td>A Life in Ten Pictures</td>\n      <td>Ten pictures, from iconic shots to private sna...</td>\n      <td>https://ichef.bbci.co.uk/images/ic/{recipe}/p0...</td>\n      <td>BBC, iPlayer, TV, A Life in Ten Pictures, Seri...</td>\n      <td>Ten pictures, from iconic shots to private sna...</td>\n      <td>Amy Winehouse’s image is known around the worl...</td>\n      <td>Amy Winehouse’s image is known around the worl...</td>\n      <td>History</td>\n      <td>bbc_two</td>\n      <td>Contains strong language.</td>\n      <td>9pm 11 Sep 2021</td>\n      <td>3550</td>\n      <td>history</td>\n    </tr>\n    <tr>\n      <th>3486</th>\n      <td>3486</td>\n      <td>A Life in Ten Pictures</td>\n      <td>Ten pictures, from iconic shots to private sna...</td>\n      <td>https://ichef.bbci.co.uk/images/ic/{recipe}/p0...</td>\n      <td>BBC, iPlayer, TV, A Life in Ten Pictures, Seri...</td>\n      <td>Ten pictures, from iconic shots to private sna...</td>\n      <td>Amy Winehouse’s image is known around the worl...</td>\n      <td>Amy Winehouse’s image is known around the worl...</td>\n      <td>History</td>\n      <td>bbc_two</td>\n      <td>Contains strong language.</td>\n      <td>9pm 11 Sep 2021</td>\n      <td>3550</td>\n      <td>documentaries</td>\n    </tr>\n  </tbody>\n</table>\n</div>"
     },
     "execution_count": 100,
     "metadata": {},
     "output_type": "execute_result"
    }
   ],
   "source": [
    "df[df['title'] == 'A Life in Ten Pictures']"
   ],
   "metadata": {
    "collapsed": false,
    "pycharm": {
     "name": "#%%\n"
    }
   }
  },
  {
   "cell_type": "code",
   "execution_count": 102,
   "outputs": [],
   "source": [
    "grouped_by_title = df.groupby('title')\n",
    "def remove_duplicates_by_title(grouped_by_title):\n",
    "    for name, group in grouped_by_title:\n",
    "        if len(group) == 1:\n",
    "             continue\n",
    "\n",
    "        indeces = []\n",
    "        topics = []\n",
    "\n",
    "        for i, value in group.iterrows():\n",
    "            test = value['title']\n",
    "            topics.append(value['topic'])\n",
    "            indeces.append(value['index'])\n",
    "\n",
    "        df.loc[indeces[0], 'topic'] = ', '.join(topics)\n",
    "        df = df.drop(labels=indeces[1:], axis=0)"
   ],
   "metadata": {
    "collapsed": false,
    "pycharm": {
     "name": "#%%\n"
    }
   }
  },
  {
   "cell_type": "code",
   "execution_count": 103,
   "outputs": [
    {
     "data": {
      "text/plain": "      index                   title  \\\n1956   1956  A Life in Ten Pictures   \n\n                                            description  \\\n1956  Ten pictures, from iconic shots to private sna...   \n\n                                                  image  \\\n1956  https://ichef.bbci.co.uk/images/ic/{recipe}/p0...   \n\n                                               keywords  \\\n1956  BBC, iPlayer, TV, A Life in Ten Pictures, Seri...   \n\n                                                 syno_s  \\\n1956  Ten pictures, from iconic shots to private sna...   \n\n                                                 syno_m  \\\n1956  Amy Winehouse’s image is known around the worl...   \n\n                                                 syno_l category  channel  \\\n1956  Amy Winehouse’s image is known around the worl...  History  bbc_two   \n\n                       language     release_date  duration_sec  \\\n1956  Contains strong language.  9pm 11 Sep 2021          3550   \n\n                               topic  \n1956  signed, history, documentaries  ",
      "text/html": "<div>\n<style scoped>\n    .dataframe tbody tr th:only-of-type {\n        vertical-align: middle;\n    }\n\n    .dataframe tbody tr th {\n        vertical-align: top;\n    }\n\n    .dataframe thead th {\n        text-align: right;\n    }\n</style>\n<table border=\"1\" class=\"dataframe\">\n  <thead>\n    <tr style=\"text-align: right;\">\n      <th></th>\n      <th>index</th>\n      <th>title</th>\n      <th>description</th>\n      <th>image</th>\n      <th>keywords</th>\n      <th>syno_s</th>\n      <th>syno_m</th>\n      <th>syno_l</th>\n      <th>category</th>\n      <th>channel</th>\n      <th>language</th>\n      <th>release_date</th>\n      <th>duration_sec</th>\n      <th>topic</th>\n    </tr>\n  </thead>\n  <tbody>\n    <tr>\n      <th>1956</th>\n      <td>1956</td>\n      <td>A Life in Ten Pictures</td>\n      <td>Ten pictures, from iconic shots to private sna...</td>\n      <td>https://ichef.bbci.co.uk/images/ic/{recipe}/p0...</td>\n      <td>BBC, iPlayer, TV, A Life in Ten Pictures, Seri...</td>\n      <td>Ten pictures, from iconic shots to private sna...</td>\n      <td>Amy Winehouse’s image is known around the worl...</td>\n      <td>Amy Winehouse’s image is known around the worl...</td>\n      <td>History</td>\n      <td>bbc_two</td>\n      <td>Contains strong language.</td>\n      <td>9pm 11 Sep 2021</td>\n      <td>3550</td>\n      <td>signed, history, documentaries</td>\n    </tr>\n  </tbody>\n</table>\n</div>"
     },
     "execution_count": 103,
     "metadata": {},
     "output_type": "execute_result"
    }
   ],
   "source": [
    "df[df['title'] == 'A Life in Ten Pictures']"
   ],
   "metadata": {
    "collapsed": false,
    "pycharm": {
     "name": "#%%\n"
    }
   }
  },
  {
   "cell_type": "code",
   "execution_count": 111,
   "outputs": [],
   "source": [
    "#df['topic'] = df['topic'].apply(lambda x: x.split(', '))"
   ],
   "metadata": {
    "collapsed": false,
    "pycharm": {
     "name": "#%%\n"
    }
   }
  },
  {
   "cell_type": "code",
   "execution_count": 113,
   "outputs": [
    {
     "data": {
      "text/plain": "      index                               title  \\\n0         0                           BBC Proms   \n1         1                                Port   \n2         2  Sit Down, Stand Up with Greg James   \n3         3         Ceiliúradh na Féile Pádraig   \n4         4                     Songs of Praise   \n...     ...                                 ...   \n3777   3777           Models: Street to Catwalk   \n3789   3789                   Death On The I-95   \n3793   3793        Do Black Lives Still Matter?   \n3797   3797                        Ar An Sliabh   \n3800   3800                Avicii: True Stories   \n\n                                            description  \\\n0     Australian tenor Stuart Skelton is joined by L...   \n1     Previously unseen music from the series Port, ...   \n2     Tom Holland and Greg James cold call celebrity...   \n3     John Toal and Pauline Scanlon introduce an eve...   \n4     Claire McCollum explores Edinburgh and shares ...   \n...                                                 ...   \n3777  Kyra’s late arrival puts her modelling career ...   \n3789  Returning to the US to find out what happened ...   \n3793  Grime artist Saskilla asks, can the music indu...   \n3797  Paul packs up to return to his native Armagh a...   \n3800  Avicii: True Stories is Tim Bergling’s own sto...   \n\n                                                  image  \\\n0     https://ichef.bbci.co.uk/images/ic/{recipe}/p0...   \n1     https://ichef.bbci.co.uk/images/ic/{recipe}/p0...   \n2     https://ichef.bbci.co.uk/images/ic/{recipe}/p0...   \n3     https://ichef.bbci.co.uk/images/ic/{recipe}/p0...   \n4     https://ichef.bbci.co.uk/images/ic/{recipe}/p0...   \n...                                                 ...   \n3777  https://ichef.bbci.co.uk/images/ic/{recipe}/p0...   \n3789  https://ichef.bbci.co.uk/images/ic/{recipe}/p0...   \n3793  https://ichef.bbci.co.uk/images/ic/{recipe}/p0...   \n3797  https://ichef.bbci.co.uk/images/ic/{recipe}/p0...   \n3800  https://ichef.bbci.co.uk/images/ic/{recipe}/p0...   \n\n                                               keywords  \\\n0     BBC, iPlayer, TV, BBC Proms, 2021: Last Night ...   \n1           BBC, iPlayer, TV, Port, Series 5: Episode 4   \n2     BBC, iPlayer, TV, Sit Down, Stand Up with Greg...   \n3         BBC, iPlayer, TV, Ceiliúradh na Féile Pádraig   \n4          BBC, iPlayer, TV, Songs of Praise, Edinburgh   \n...                                                 ...   \n3777  BBC, iPlayer, TV, Models: Street to Catwalk, S...   \n3789                BBC, iPlayer, TV, Death On The I-95   \n3793  BBC, iPlayer, TV, Do Black Lives Still Matter?...   \n3797  BBC, iPlayer, TV, Ar An Sliabh, Series 1: Epis...   \n3800             BBC, iPlayer, TV, Avicii: True Stories   \n\n                                                 syno_s  \\\n0     Australian tenor Stuart Skelton is joined by L...   \n1     Previously unseen music from the series Port, ...   \n2     Tom Holland and Greg James cold call celebrity...   \n3     John Toal and Pauline Scanlon introduce an eve...   \n4     Claire McCollum explores Edinburgh and shares ...   \n...                                                 ...   \n3777  Kyra’s late arrival puts her modelling career ...   \n3789  Returning to the US to find out what happened ...   \n3793  Grime artist Saskilla asks, can the music indu...   \n3797  Paul packs up to return to his native Armagh a...   \n3800  Avicii: True Stories is Tim Bergling’s own sto...   \n\n                                                 syno_m  \\\n0     Australian tenor Stuart Skelton is joined by L...   \n1     Julie Fowlis a’ lìbhrigeadh ceòl bhon t-sreath...   \n2     Tom Holland and Greg James cold call celebrity...   \n3     John Toal and Pauline Scanlon introduce an eve...   \n4     Claire McCollum goes on a Christian heritage t...   \n...                                                 ...   \n3777  Kyra jeopardises her modelling career by turni...   \n3789  Following a report on the growing problem of o...   \n3793  The music industry pledged millions in support...   \n3797  Paul packs up to return to his native Armagh a...   \n3800  Avicii: True Stories is Tim Bergling’s own sto...   \n\n                                                 syno_l       category  \\\n0     Katie Derham hosts continued live coverage fro...          Music   \n1     Bidh Druthag Bheag Eile a’ tarraing ri chèile ...          Music   \n2     Tom Holland and Greg James cold call celebrity...  Entertainment   \n3     John Toal and Pauline Scanlon introduce an eve...          Music   \n4     Claire McCollum explores Edinburgh and discove...          Music   \n...                                                 ...            ...   \n3777  How will Kyra cope after a train malfunction m...    Documentary   \n3789  Drug overdose is now the main cause of death f...    Documentary   \n3793  The music industry reacted with a surge of out...    Documentary   \n3797  I Sliabh Eachtaí, tá Cérill ag déanamh réidh d...    Documentary   \n3800  In 2006, Tim Bergling was just a regular teena...    Documentary   \n\n                               channel  \\\n0                      bbc_radio_three   \n1                             bbc_alba   \n2                        bbc_radio_one   \n3     bbc_two_northern_ireland_digital   \n4                              bbc_one   \n...                                ...   \n3777                         bbc_three   \n3789                         bbc_three   \n3793                         bbc_three   \n3797                       bbc_webonly   \n3800                         bbc_three   \n\n                                               language        release_date  \\\n0                                                 False     9pm 11 Sep 2021   \n1                                                 False          9 Jul 2020   \n2                                                 False         10 Feb 2022   \n3                                                 False         17 Mar 2017   \n4                                                 False  1:15pm 20 Feb 2022   \n...                                                 ...                 ...   \n3777  Contains some strong language and some upsetti...          8 Aug 2021   \n3789  Contains some strong language and upsetting sc...         24 Oct 2018   \n3793                                              False         31 May 2021   \n3797                                              False         22 Nov 2021   \n3800                          Contains strong language.         20 Apr 2019   \n\n      duration_sec                       topic  \n0             5247  [music, from-the-archives]  \n1             1037                     [music]  \n2              611      [music, entertainment]  \n3             3538                     [music]  \n4             2044          [music, lifestyle]  \n...            ...                         ...  \n3777          1843             [documentaries]  \n3789          3426             [documentaries]  \n3793          1524             [documentaries]  \n3797          1740             [documentaries]  \n3800          5766             [documentaries]  \n\n[2326 rows x 14 columns]",
      "text/html": "<div>\n<style scoped>\n    .dataframe tbody tr th:only-of-type {\n        vertical-align: middle;\n    }\n\n    .dataframe tbody tr th {\n        vertical-align: top;\n    }\n\n    .dataframe thead th {\n        text-align: right;\n    }\n</style>\n<table border=\"1\" class=\"dataframe\">\n  <thead>\n    <tr style=\"text-align: right;\">\n      <th></th>\n      <th>index</th>\n      <th>title</th>\n      <th>description</th>\n      <th>image</th>\n      <th>keywords</th>\n      <th>syno_s</th>\n      <th>syno_m</th>\n      <th>syno_l</th>\n      <th>category</th>\n      <th>channel</th>\n      <th>language</th>\n      <th>release_date</th>\n      <th>duration_sec</th>\n      <th>topic</th>\n    </tr>\n  </thead>\n  <tbody>\n    <tr>\n      <th>0</th>\n      <td>0</td>\n      <td>BBC Proms</td>\n      <td>Australian tenor Stuart Skelton is joined by L...</td>\n      <td>https://ichef.bbci.co.uk/images/ic/{recipe}/p0...</td>\n      <td>BBC, iPlayer, TV, BBC Proms, 2021: Last Night ...</td>\n      <td>Australian tenor Stuart Skelton is joined by L...</td>\n      <td>Australian tenor Stuart Skelton is joined by L...</td>\n      <td>Katie Derham hosts continued live coverage fro...</td>\n      <td>Music</td>\n      <td>bbc_radio_three</td>\n      <td>False</td>\n      <td>9pm 11 Sep 2021</td>\n      <td>5247</td>\n      <td>[music, from-the-archives]</td>\n    </tr>\n    <tr>\n      <th>1</th>\n      <td>1</td>\n      <td>Port</td>\n      <td>Previously unseen music from the series Port, ...</td>\n      <td>https://ichef.bbci.co.uk/images/ic/{recipe}/p0...</td>\n      <td>BBC, iPlayer, TV, Port, Series 5: Episode 4</td>\n      <td>Previously unseen music from the series Port, ...</td>\n      <td>Julie Fowlis a’ lìbhrigeadh ceòl bhon t-sreath...</td>\n      <td>Bidh Druthag Bheag Eile a’ tarraing ri chèile ...</td>\n      <td>Music</td>\n      <td>bbc_alba</td>\n      <td>False</td>\n      <td>9 Jul 2020</td>\n      <td>1037</td>\n      <td>[music]</td>\n    </tr>\n    <tr>\n      <th>2</th>\n      <td>2</td>\n      <td>Sit Down, Stand Up with Greg James</td>\n      <td>Tom Holland and Greg James cold call celebrity...</td>\n      <td>https://ichef.bbci.co.uk/images/ic/{recipe}/p0...</td>\n      <td>BBC, iPlayer, TV, Sit Down, Stand Up with Greg...</td>\n      <td>Tom Holland and Greg James cold call celebrity...</td>\n      <td>Tom Holland and Greg James cold call celebrity...</td>\n      <td>Tom Holland and Greg James cold call celebrity...</td>\n      <td>Entertainment</td>\n      <td>bbc_radio_one</td>\n      <td>False</td>\n      <td>10 Feb 2022</td>\n      <td>611</td>\n      <td>[music, entertainment]</td>\n    </tr>\n    <tr>\n      <th>3</th>\n      <td>3</td>\n      <td>Ceiliúradh na Féile Pádraig</td>\n      <td>John Toal and Pauline Scanlon introduce an eve...</td>\n      <td>https://ichef.bbci.co.uk/images/ic/{recipe}/p0...</td>\n      <td>BBC, iPlayer, TV, Ceiliúradh na Féile Pádraig</td>\n      <td>John Toal and Pauline Scanlon introduce an eve...</td>\n      <td>John Toal and Pauline Scanlon introduce an eve...</td>\n      <td>John Toal and Pauline Scanlon introduce an eve...</td>\n      <td>Music</td>\n      <td>bbc_two_northern_ireland_digital</td>\n      <td>False</td>\n      <td>17 Mar 2017</td>\n      <td>3538</td>\n      <td>[music]</td>\n    </tr>\n    <tr>\n      <th>4</th>\n      <td>4</td>\n      <td>Songs of Praise</td>\n      <td>Claire McCollum explores Edinburgh and shares ...</td>\n      <td>https://ichef.bbci.co.uk/images/ic/{recipe}/p0...</td>\n      <td>BBC, iPlayer, TV, Songs of Praise, Edinburgh</td>\n      <td>Claire McCollum explores Edinburgh and shares ...</td>\n      <td>Claire McCollum goes on a Christian heritage t...</td>\n      <td>Claire McCollum explores Edinburgh and discove...</td>\n      <td>Music</td>\n      <td>bbc_one</td>\n      <td>False</td>\n      <td>1:15pm 20 Feb 2022</td>\n      <td>2044</td>\n      <td>[music, lifestyle]</td>\n    </tr>\n    <tr>\n      <th>...</th>\n      <td>...</td>\n      <td>...</td>\n      <td>...</td>\n      <td>...</td>\n      <td>...</td>\n      <td>...</td>\n      <td>...</td>\n      <td>...</td>\n      <td>...</td>\n      <td>...</td>\n      <td>...</td>\n      <td>...</td>\n      <td>...</td>\n      <td>...</td>\n    </tr>\n    <tr>\n      <th>3777</th>\n      <td>3777</td>\n      <td>Models: Street to Catwalk</td>\n      <td>Kyra’s late arrival puts her modelling career ...</td>\n      <td>https://ichef.bbci.co.uk/images/ic/{recipe}/p0...</td>\n      <td>BBC, iPlayer, TV, Models: Street to Catwalk, S...</td>\n      <td>Kyra’s late arrival puts her modelling career ...</td>\n      <td>Kyra jeopardises her modelling career by turni...</td>\n      <td>How will Kyra cope after a train malfunction m...</td>\n      <td>Documentary</td>\n      <td>bbc_three</td>\n      <td>Contains some strong language and some upsetti...</td>\n      <td>8 Aug 2021</td>\n      <td>1843</td>\n      <td>[documentaries]</td>\n    </tr>\n    <tr>\n      <th>3789</th>\n      <td>3789</td>\n      <td>Death On The I-95</td>\n      <td>Returning to the US to find out what happened ...</td>\n      <td>https://ichef.bbci.co.uk/images/ic/{recipe}/p0...</td>\n      <td>BBC, iPlayer, TV, Death On The I-95</td>\n      <td>Returning to the US to find out what happened ...</td>\n      <td>Following a report on the growing problem of o...</td>\n      <td>Drug overdose is now the main cause of death f...</td>\n      <td>Documentary</td>\n      <td>bbc_three</td>\n      <td>Contains some strong language and upsetting sc...</td>\n      <td>24 Oct 2018</td>\n      <td>3426</td>\n      <td>[documentaries]</td>\n    </tr>\n    <tr>\n      <th>3793</th>\n      <td>3793</td>\n      <td>Do Black Lives Still Matter?</td>\n      <td>Grime artist Saskilla asks, can the music indu...</td>\n      <td>https://ichef.bbci.co.uk/images/ic/{recipe}/p0...</td>\n      <td>BBC, iPlayer, TV, Do Black Lives Still Matter?...</td>\n      <td>Grime artist Saskilla asks, can the music indu...</td>\n      <td>The music industry pledged millions in support...</td>\n      <td>The music industry reacted with a surge of out...</td>\n      <td>Documentary</td>\n      <td>bbc_three</td>\n      <td>False</td>\n      <td>31 May 2021</td>\n      <td>1524</td>\n      <td>[documentaries]</td>\n    </tr>\n    <tr>\n      <th>3797</th>\n      <td>3797</td>\n      <td>Ar An Sliabh</td>\n      <td>Paul packs up to return to his native Armagh a...</td>\n      <td>https://ichef.bbci.co.uk/images/ic/{recipe}/p0...</td>\n      <td>BBC, iPlayer, TV, Ar An Sliabh, Series 1: Epis...</td>\n      <td>Paul packs up to return to his native Armagh a...</td>\n      <td>Paul packs up to return to his native Armagh a...</td>\n      <td>I Sliabh Eachtaí, tá Cérill ag déanamh réidh d...</td>\n      <td>Documentary</td>\n      <td>bbc_webonly</td>\n      <td>False</td>\n      <td>22 Nov 2021</td>\n      <td>1740</td>\n      <td>[documentaries]</td>\n    </tr>\n    <tr>\n      <th>3800</th>\n      <td>3800</td>\n      <td>Avicii: True Stories</td>\n      <td>Avicii: True Stories is Tim Bergling’s own sto...</td>\n      <td>https://ichef.bbci.co.uk/images/ic/{recipe}/p0...</td>\n      <td>BBC, iPlayer, TV, Avicii: True Stories</td>\n      <td>Avicii: True Stories is Tim Bergling’s own sto...</td>\n      <td>Avicii: True Stories is Tim Bergling’s own sto...</td>\n      <td>In 2006, Tim Bergling was just a regular teena...</td>\n      <td>Documentary</td>\n      <td>bbc_three</td>\n      <td>Contains strong language.</td>\n      <td>20 Apr 2019</td>\n      <td>5766</td>\n      <td>[documentaries]</td>\n    </tr>\n  </tbody>\n</table>\n<p>2326 rows × 14 columns</p>\n</div>"
     },
     "execution_count": 113,
     "metadata": {},
     "output_type": "execute_result"
    }
   ],
   "source": [
    "df"
   ],
   "metadata": {
    "collapsed": false,
    "pycharm": {
     "name": "#%%\n"
    }
   }
  },
  {
   "cell_type": "code",
   "execution_count": 114,
   "outputs": [],
   "source": [
    "df.to_csv('../data/BBC/bbc_data.csv', sep=';')"
   ],
   "metadata": {
    "collapsed": false,
    "pycharm": {
     "name": "#%%\n"
    }
   }
  },
  {
   "cell_type": "markdown",
   "source": [
    "## Genre and Keyword extraction"
   ],
   "metadata": {
    "collapsed": false
   }
  },
  {
   "cell_type": "code",
   "execution_count": 105,
   "outputs": [
    {
     "data": {
      "text/plain": "{'Arts',\n 'Beauty',\n 'CBBC',\n 'CBeebies',\n 'Comedy',\n 'Comedy Drama',\n 'Crime Drama',\n 'Current Affairs',\n 'Dating',\n 'Documentary',\n 'Documentary Film',\n 'Drama',\n 'Entertainment',\n 'Fantasy',\n 'Film',\n 'Film - Action',\n 'Film - Adventure',\n 'Film - Biopic',\n 'Film - Comedy',\n 'Film - Crime',\n 'Film - Drama',\n 'Film - Family',\n 'Film - Horror',\n 'Film - Musical',\n 'Film - Period',\n 'Film - Rom-Com',\n 'Film - Romance',\n 'Film - Sci-Fi',\n 'Film - Thriller',\n 'Film - War',\n 'Film - Western',\n 'Food',\n 'History',\n 'Lifestyle',\n 'Music',\n 'Nature',\n 'News',\n 'Period Drama',\n 'Reality',\n 'Rom-com',\n 'Sci-Fi',\n 'Science',\n 'Science & Nature',\n 'Sport',\n nan}"
     },
     "execution_count": 105,
     "metadata": {},
     "output_type": "execute_result"
    }
   ],
   "source": [
    "categories = set(df['category'].tolist())\n",
    "categories"
   ],
   "metadata": {
    "collapsed": false,
    "pycharm": {
     "name": "#%%\n"
    }
   }
  },
  {
   "cell_type": "code",
   "execution_count": 106,
   "outputs": [
    {
     "data": {
      "text/plain": "     index                                       title  \\\n515    515                                     Ivanhoe   \n538    538                     Lara Croft: Tomb Raider   \n546    546                                      El Cid   \n568    568                            The Spanish Main   \n576    576  Lara Croft Tomb Raider: The Cradle of Life   \n590    590                       Blackbeard the Pirate   \n\n                                           description  \\\n515  Ivanhoe fights for the honour of the kidnapped...   \n538  The heroine races against time to find a relic...   \n546  The epic story of the 11th-century Spanish her...   \n568  Swashbuckling adventure in which a crew of ens...   \n576  Archaeologist Lara Croft faces a race against ...   \n590  Swashbuckling adventure set on the high seas i...   \n\n                                                 image  \\\n515  https://ichef.bbci.co.uk/images/ic/{recipe}/p0...   \n538  https://ichef.bbci.co.uk/images/ic/{recipe}/p0...   \n546  https://ichef.bbci.co.uk/images/ic/{recipe}/p0...   \n568  https://ichef.bbci.co.uk/images/ic/{recipe}/p0...   \n576  https://ichef.bbci.co.uk/images/ic/{recipe}/p0...   \n590  https://ichef.bbci.co.uk/images/ic/{recipe}/p0...   \n\n                                              keywords  \\\n515                          BBC, iPlayer, TV, Ivanhoe   \n538          BBC, iPlayer, TV, Lara Croft: Tomb Raider   \n546                           BBC, iPlayer, TV, El Cid   \n568                 BBC, iPlayer, TV, The Spanish Main   \n576  BBC, iPlayer, TV, Lara Croft Tomb Raider: The ...   \n590            BBC, iPlayer, TV, Blackbeard the Pirate   \n\n                                                syno_s  \\\n515  Ivanhoe fights for the honour of the kidnapped...   \n538  The heroine races against time to find a relic...   \n546  The epic story of the 11th-century Spanish her...   \n568  Swashbuckling adventure in which a crew of ens...   \n576  Archaeologist Lara Croft faces a race against ...   \n590  Swashbuckling adventure set on the high seas i...   \n\n                                                syno_m  \\\n515  Swashbuckling spectacular based on the novel b...   \n538  Action tale adapted from the popular video gam...   \n546  Epic story of the Spanish hero (Charlton Hesto...   \n568  Swashbuckling adventure in which a Spanish gov...   \n576  Globetrotting action sequel in which archaeolo...   \n590  Swashbuckler set on the high seas in the 17th ...   \n\n                                                syno_l          category  \\\n515  Swashbuckling spectacular based on the novel b...  Film - Adventure   \n538  Action tale adapted from the popular video gam...  Film - Adventure   \n546  The epic story of the 11th-century Spanish her...  Film - Adventure   \n568  Early RKO Technicolor swashbuckling adventure....  Film - Adventure   \n576  Globetrotting action sequel in which intrepid ...  Film - Adventure   \n590  Swashbuckling adventure set on the high seas i...  Film - Adventure   \n\n       channel language release_date  duration_sec                   topic  \n515    bbc_two    False         1952          6136  films, drama-and-soaps  \n538  bbc_three    False         2001          5614  films, drama-and-soaps  \n546    bbc_two    False         1961         10297  films, drama-and-soaps  \n568    bbc_two    False         1945          5741  films, drama-and-soaps  \n576  bbc_three    False         2003          6320  films, drama-and-soaps  \n590    bbc_two    False         1952          5913  films, drama-and-soaps  ",
      "text/html": "<div>\n<style scoped>\n    .dataframe tbody tr th:only-of-type {\n        vertical-align: middle;\n    }\n\n    .dataframe tbody tr th {\n        vertical-align: top;\n    }\n\n    .dataframe thead th {\n        text-align: right;\n    }\n</style>\n<table border=\"1\" class=\"dataframe\">\n  <thead>\n    <tr style=\"text-align: right;\">\n      <th></th>\n      <th>index</th>\n      <th>title</th>\n      <th>description</th>\n      <th>image</th>\n      <th>keywords</th>\n      <th>syno_s</th>\n      <th>syno_m</th>\n      <th>syno_l</th>\n      <th>category</th>\n      <th>channel</th>\n      <th>language</th>\n      <th>release_date</th>\n      <th>duration_sec</th>\n      <th>topic</th>\n    </tr>\n  </thead>\n  <tbody>\n    <tr>\n      <th>515</th>\n      <td>515</td>\n      <td>Ivanhoe</td>\n      <td>Ivanhoe fights for the honour of the kidnapped...</td>\n      <td>https://ichef.bbci.co.uk/images/ic/{recipe}/p0...</td>\n      <td>BBC, iPlayer, TV, Ivanhoe</td>\n      <td>Ivanhoe fights for the honour of the kidnapped...</td>\n      <td>Swashbuckling spectacular based on the novel b...</td>\n      <td>Swashbuckling spectacular based on the novel b...</td>\n      <td>Film - Adventure</td>\n      <td>bbc_two</td>\n      <td>False</td>\n      <td>1952</td>\n      <td>6136</td>\n      <td>films, drama-and-soaps</td>\n    </tr>\n    <tr>\n      <th>538</th>\n      <td>538</td>\n      <td>Lara Croft: Tomb Raider</td>\n      <td>The heroine races against time to find a relic...</td>\n      <td>https://ichef.bbci.co.uk/images/ic/{recipe}/p0...</td>\n      <td>BBC, iPlayer, TV, Lara Croft: Tomb Raider</td>\n      <td>The heroine races against time to find a relic...</td>\n      <td>Action tale adapted from the popular video gam...</td>\n      <td>Action tale adapted from the popular video gam...</td>\n      <td>Film - Adventure</td>\n      <td>bbc_three</td>\n      <td>False</td>\n      <td>2001</td>\n      <td>5614</td>\n      <td>films, drama-and-soaps</td>\n    </tr>\n    <tr>\n      <th>546</th>\n      <td>546</td>\n      <td>El Cid</td>\n      <td>The epic story of the 11th-century Spanish her...</td>\n      <td>https://ichef.bbci.co.uk/images/ic/{recipe}/p0...</td>\n      <td>BBC, iPlayer, TV, El Cid</td>\n      <td>The epic story of the 11th-century Spanish her...</td>\n      <td>Epic story of the Spanish hero (Charlton Hesto...</td>\n      <td>The epic story of the 11th-century Spanish her...</td>\n      <td>Film - Adventure</td>\n      <td>bbc_two</td>\n      <td>False</td>\n      <td>1961</td>\n      <td>10297</td>\n      <td>films, drama-and-soaps</td>\n    </tr>\n    <tr>\n      <th>568</th>\n      <td>568</td>\n      <td>The Spanish Main</td>\n      <td>Swashbuckling adventure in which a crew of ens...</td>\n      <td>https://ichef.bbci.co.uk/images/ic/{recipe}/p0...</td>\n      <td>BBC, iPlayer, TV, The Spanish Main</td>\n      <td>Swashbuckling adventure in which a crew of ens...</td>\n      <td>Swashbuckling adventure in which a Spanish gov...</td>\n      <td>Early RKO Technicolor swashbuckling adventure....</td>\n      <td>Film - Adventure</td>\n      <td>bbc_two</td>\n      <td>False</td>\n      <td>1945</td>\n      <td>5741</td>\n      <td>films, drama-and-soaps</td>\n    </tr>\n    <tr>\n      <th>576</th>\n      <td>576</td>\n      <td>Lara Croft Tomb Raider: The Cradle of Life</td>\n      <td>Archaeologist Lara Croft faces a race against ...</td>\n      <td>https://ichef.bbci.co.uk/images/ic/{recipe}/p0...</td>\n      <td>BBC, iPlayer, TV, Lara Croft Tomb Raider: The ...</td>\n      <td>Archaeologist Lara Croft faces a race against ...</td>\n      <td>Globetrotting action sequel in which archaeolo...</td>\n      <td>Globetrotting action sequel in which intrepid ...</td>\n      <td>Film - Adventure</td>\n      <td>bbc_three</td>\n      <td>False</td>\n      <td>2003</td>\n      <td>6320</td>\n      <td>films, drama-and-soaps</td>\n    </tr>\n    <tr>\n      <th>590</th>\n      <td>590</td>\n      <td>Blackbeard the Pirate</td>\n      <td>Swashbuckling adventure set on the high seas i...</td>\n      <td>https://ichef.bbci.co.uk/images/ic/{recipe}/p0...</td>\n      <td>BBC, iPlayer, TV, Blackbeard the Pirate</td>\n      <td>Swashbuckling adventure set on the high seas i...</td>\n      <td>Swashbuckler set on the high seas in the 17th ...</td>\n      <td>Swashbuckling adventure set on the high seas i...</td>\n      <td>Film - Adventure</td>\n      <td>bbc_two</td>\n      <td>False</td>\n      <td>1952</td>\n      <td>5913</td>\n      <td>films, drama-and-soaps</td>\n    </tr>\n  </tbody>\n</table>\n</div>"
     },
     "execution_count": 106,
     "metadata": {},
     "output_type": "execute_result"
    }
   ],
   "source": [
    "df[df['category'] == 'Film - Adventure']"
   ],
   "metadata": {
    "collapsed": false,
    "pycharm": {
     "name": "#%%\n"
    }
   }
  },
  {
   "cell_type": "markdown",
   "source": [
    "## Advanced Dataframe view"
   ],
   "metadata": {
    "collapsed": false
   }
  },
  {
   "cell_type": "code",
   "execution_count": 32,
   "outputs": [
    {
     "data": {
      "text/plain": "      index                               title  \\\n0         0                           BBC Proms   \n1         1                                Port   \n2         2  Sit Down, Stand Up with Greg James   \n3         3         Ceiliúradh na Féile Pádraig   \n4         4                     Songs of Praise   \n...     ...                                 ...   \n3777   3777           Models: Street to Catwalk   \n3789   3789                   Death On The I-95   \n3793   3793        Do Black Lives Still Matter?   \n3797   3797                        Ar An Sliabh   \n3800   3800                Avicii: True Stories   \n\n                                            description  \\\n0     Australian tenor Stuart Skelton is joined by L...   \n1     Previously unseen music from the series Port, ...   \n2     Tom Holland and Greg James cold call celebrity...   \n3     John Toal and Pauline Scanlon introduce an eve...   \n4     Claire McCollum explores Edinburgh and shares ...   \n...                                                 ...   \n3777  Kyra’s late arrival puts her modelling career ...   \n3789  Returning to the US to find out what happened ...   \n3793  Grime artist Saskilla asks, can the music indu...   \n3797  Paul packs up to return to his native Armagh a...   \n3800  Avicii: True Stories is Tim Bergling’s own sto...   \n\n                                                  image  \\\n0     https://ichef.bbci.co.uk/images/ic/{recipe}/p0...   \n1     https://ichef.bbci.co.uk/images/ic/{recipe}/p0...   \n2     https://ichef.bbci.co.uk/images/ic/{recipe}/p0...   \n3     https://ichef.bbci.co.uk/images/ic/{recipe}/p0...   \n4     https://ichef.bbci.co.uk/images/ic/{recipe}/p0...   \n...                                                 ...   \n3777  https://ichef.bbci.co.uk/images/ic/{recipe}/p0...   \n3789  https://ichef.bbci.co.uk/images/ic/{recipe}/p0...   \n3793  https://ichef.bbci.co.uk/images/ic/{recipe}/p0...   \n3797  https://ichef.bbci.co.uk/images/ic/{recipe}/p0...   \n3800  https://ichef.bbci.co.uk/images/ic/{recipe}/p0...   \n\n                                               keywords  \\\n0     BBC, iPlayer, TV, BBC Proms, 2021: Last Night ...   \n1           BBC, iPlayer, TV, Port, Series 5: Episode 4   \n2     BBC, iPlayer, TV, Sit Down, Stand Up with Greg...   \n3         BBC, iPlayer, TV, Ceiliúradh na Féile Pádraig   \n4          BBC, iPlayer, TV, Songs of Praise, Edinburgh   \n...                                                 ...   \n3777  BBC, iPlayer, TV, Models: Street to Catwalk, S...   \n3789                BBC, iPlayer, TV, Death On The I-95   \n3793  BBC, iPlayer, TV, Do Black Lives Still Matter?...   \n3797  BBC, iPlayer, TV, Ar An Sliabh, Series 1: Epis...   \n3800             BBC, iPlayer, TV, Avicii: True Stories   \n\n                                                 syno_s  \\\n0     Australian tenor Stuart Skelton is joined by L...   \n1     Previously unseen music from the series Port, ...   \n2     Tom Holland and Greg James cold call celebrity...   \n3     John Toal and Pauline Scanlon introduce an eve...   \n4     Claire McCollum explores Edinburgh and shares ...   \n...                                                 ...   \n3777  Kyra’s late arrival puts her modelling career ...   \n3789  Returning to the US to find out what happened ...   \n3793  Grime artist Saskilla asks, can the music indu...   \n3797  Paul packs up to return to his native Armagh a...   \n3800  Avicii: True Stories is Tim Bergling’s own sto...   \n\n                                                 syno_m  \\\n0     Australian tenor Stuart Skelton is joined by L...   \n1     Julie Fowlis a’ lìbhrigeadh ceòl bhon t-sreath...   \n2     Tom Holland and Greg James cold call celebrity...   \n3     John Toal and Pauline Scanlon introduce an eve...   \n4     Claire McCollum goes on a Christian heritage t...   \n...                                                 ...   \n3777  Kyra jeopardises her modelling career by turni...   \n3789  Following a report on the growing problem of o...   \n3793  The music industry pledged millions in support...   \n3797  Paul packs up to return to his native Armagh a...   \n3800  Avicii: True Stories is Tim Bergling’s own sto...   \n\n                                                 syno_l       category  \\\n0     Katie Derham hosts continued live coverage fro...          Music   \n1     Bidh Druthag Bheag Eile a’ tarraing ri chèile ...          Music   \n2     Tom Holland and Greg James cold call celebrity...  Entertainment   \n3     John Toal and Pauline Scanlon introduce an eve...          Music   \n4     Claire McCollum explores Edinburgh and discove...          Music   \n...                                                 ...            ...   \n3777  How will Kyra cope after a train malfunction m...    Documentary   \n3789  Drug overdose is now the main cause of death f...    Documentary   \n3793  The music industry reacted with a surge of out...    Documentary   \n3797  I Sliabh Eachtaí, tá Cérill ag déanamh réidh d...    Documentary   \n3800  In 2006, Tim Bergling was just a regular teena...    Documentary   \n\n                               channel  \\\n0                      bbc_radio_three   \n1                             bbc_alba   \n2                        bbc_radio_one   \n3     bbc_two_northern_ireland_digital   \n4                              bbc_one   \n...                                ...   \n3777                         bbc_three   \n3789                         bbc_three   \n3793                         bbc_three   \n3797                       bbc_webonly   \n3800                         bbc_three   \n\n                                               language        release_date  \\\n0                                                 False     9pm 11 Sep 2021   \n1                                                 False          9 Jul 2020   \n2                                                 False         10 Feb 2022   \n3                                                 False         17 Mar 2017   \n4                                                 False  1:15pm 20 Feb 2022   \n...                                                 ...                 ...   \n3777  Contains some strong language and some upsetti...          8 Aug 2021   \n3789  Contains some strong language and upsetting sc...         24 Oct 2018   \n3793                                              False         31 May 2021   \n3797                                              False         22 Nov 2021   \n3800                          Contains strong language.         20 Apr 2019   \n\n      duration_sec                           topic  \n0             5247  ['music', 'from-the-archives']  \n1             1037                       ['music']  \n2              611      ['music', 'entertainment']  \n3             3538                       ['music']  \n4             2044          ['music', 'lifestyle']  \n...            ...                             ...  \n3777          1843               ['documentaries']  \n3789          3426               ['documentaries']  \n3793          1524               ['documentaries']  \n3797          1740               ['documentaries']  \n3800          5766               ['documentaries']  \n\n[2326 rows x 14 columns]",
      "text/html": "<div>\n<style scoped>\n    .dataframe tbody tr th:only-of-type {\n        vertical-align: middle;\n    }\n\n    .dataframe tbody tr th {\n        vertical-align: top;\n    }\n\n    .dataframe thead th {\n        text-align: right;\n    }\n</style>\n<table border=\"1\" class=\"dataframe\">\n  <thead>\n    <tr style=\"text-align: right;\">\n      <th></th>\n      <th>index</th>\n      <th>title</th>\n      <th>description</th>\n      <th>image</th>\n      <th>keywords</th>\n      <th>syno_s</th>\n      <th>syno_m</th>\n      <th>syno_l</th>\n      <th>category</th>\n      <th>channel</th>\n      <th>language</th>\n      <th>release_date</th>\n      <th>duration_sec</th>\n      <th>topic</th>\n    </tr>\n  </thead>\n  <tbody>\n    <tr>\n      <th>0</th>\n      <td>0</td>\n      <td>BBC Proms</td>\n      <td>Australian tenor Stuart Skelton is joined by L...</td>\n      <td>https://ichef.bbci.co.uk/images/ic/{recipe}/p0...</td>\n      <td>BBC, iPlayer, TV, BBC Proms, 2021: Last Night ...</td>\n      <td>Australian tenor Stuart Skelton is joined by L...</td>\n      <td>Australian tenor Stuart Skelton is joined by L...</td>\n      <td>Katie Derham hosts continued live coverage fro...</td>\n      <td>Music</td>\n      <td>bbc_radio_three</td>\n      <td>False</td>\n      <td>9pm 11 Sep 2021</td>\n      <td>5247</td>\n      <td>['music', 'from-the-archives']</td>\n    </tr>\n    <tr>\n      <th>1</th>\n      <td>1</td>\n      <td>Port</td>\n      <td>Previously unseen music from the series Port, ...</td>\n      <td>https://ichef.bbci.co.uk/images/ic/{recipe}/p0...</td>\n      <td>BBC, iPlayer, TV, Port, Series 5: Episode 4</td>\n      <td>Previously unseen music from the series Port, ...</td>\n      <td>Julie Fowlis a’ lìbhrigeadh ceòl bhon t-sreath...</td>\n      <td>Bidh Druthag Bheag Eile a’ tarraing ri chèile ...</td>\n      <td>Music</td>\n      <td>bbc_alba</td>\n      <td>False</td>\n      <td>9 Jul 2020</td>\n      <td>1037</td>\n      <td>['music']</td>\n    </tr>\n    <tr>\n      <th>2</th>\n      <td>2</td>\n      <td>Sit Down, Stand Up with Greg James</td>\n      <td>Tom Holland and Greg James cold call celebrity...</td>\n      <td>https://ichef.bbci.co.uk/images/ic/{recipe}/p0...</td>\n      <td>BBC, iPlayer, TV, Sit Down, Stand Up with Greg...</td>\n      <td>Tom Holland and Greg James cold call celebrity...</td>\n      <td>Tom Holland and Greg James cold call celebrity...</td>\n      <td>Tom Holland and Greg James cold call celebrity...</td>\n      <td>Entertainment</td>\n      <td>bbc_radio_one</td>\n      <td>False</td>\n      <td>10 Feb 2022</td>\n      <td>611</td>\n      <td>['music', 'entertainment']</td>\n    </tr>\n    <tr>\n      <th>3</th>\n      <td>3</td>\n      <td>Ceiliúradh na Féile Pádraig</td>\n      <td>John Toal and Pauline Scanlon introduce an eve...</td>\n      <td>https://ichef.bbci.co.uk/images/ic/{recipe}/p0...</td>\n      <td>BBC, iPlayer, TV, Ceiliúradh na Féile Pádraig</td>\n      <td>John Toal and Pauline Scanlon introduce an eve...</td>\n      <td>John Toal and Pauline Scanlon introduce an eve...</td>\n      <td>John Toal and Pauline Scanlon introduce an eve...</td>\n      <td>Music</td>\n      <td>bbc_two_northern_ireland_digital</td>\n      <td>False</td>\n      <td>17 Mar 2017</td>\n      <td>3538</td>\n      <td>['music']</td>\n    </tr>\n    <tr>\n      <th>4</th>\n      <td>4</td>\n      <td>Songs of Praise</td>\n      <td>Claire McCollum explores Edinburgh and shares ...</td>\n      <td>https://ichef.bbci.co.uk/images/ic/{recipe}/p0...</td>\n      <td>BBC, iPlayer, TV, Songs of Praise, Edinburgh</td>\n      <td>Claire McCollum explores Edinburgh and shares ...</td>\n      <td>Claire McCollum goes on a Christian heritage t...</td>\n      <td>Claire McCollum explores Edinburgh and discove...</td>\n      <td>Music</td>\n      <td>bbc_one</td>\n      <td>False</td>\n      <td>1:15pm 20 Feb 2022</td>\n      <td>2044</td>\n      <td>['music', 'lifestyle']</td>\n    </tr>\n    <tr>\n      <th>...</th>\n      <td>...</td>\n      <td>...</td>\n      <td>...</td>\n      <td>...</td>\n      <td>...</td>\n      <td>...</td>\n      <td>...</td>\n      <td>...</td>\n      <td>...</td>\n      <td>...</td>\n      <td>...</td>\n      <td>...</td>\n      <td>...</td>\n      <td>...</td>\n    </tr>\n    <tr>\n      <th>3777</th>\n      <td>3777</td>\n      <td>Models: Street to Catwalk</td>\n      <td>Kyra’s late arrival puts her modelling career ...</td>\n      <td>https://ichef.bbci.co.uk/images/ic/{recipe}/p0...</td>\n      <td>BBC, iPlayer, TV, Models: Street to Catwalk, S...</td>\n      <td>Kyra’s late arrival puts her modelling career ...</td>\n      <td>Kyra jeopardises her modelling career by turni...</td>\n      <td>How will Kyra cope after a train malfunction m...</td>\n      <td>Documentary</td>\n      <td>bbc_three</td>\n      <td>Contains some strong language and some upsetti...</td>\n      <td>8 Aug 2021</td>\n      <td>1843</td>\n      <td>['documentaries']</td>\n    </tr>\n    <tr>\n      <th>3789</th>\n      <td>3789</td>\n      <td>Death On The I-95</td>\n      <td>Returning to the US to find out what happened ...</td>\n      <td>https://ichef.bbci.co.uk/images/ic/{recipe}/p0...</td>\n      <td>BBC, iPlayer, TV, Death On The I-95</td>\n      <td>Returning to the US to find out what happened ...</td>\n      <td>Following a report on the growing problem of o...</td>\n      <td>Drug overdose is now the main cause of death f...</td>\n      <td>Documentary</td>\n      <td>bbc_three</td>\n      <td>Contains some strong language and upsetting sc...</td>\n      <td>24 Oct 2018</td>\n      <td>3426</td>\n      <td>['documentaries']</td>\n    </tr>\n    <tr>\n      <th>3793</th>\n      <td>3793</td>\n      <td>Do Black Lives Still Matter?</td>\n      <td>Grime artist Saskilla asks, can the music indu...</td>\n      <td>https://ichef.bbci.co.uk/images/ic/{recipe}/p0...</td>\n      <td>BBC, iPlayer, TV, Do Black Lives Still Matter?...</td>\n      <td>Grime artist Saskilla asks, can the music indu...</td>\n      <td>The music industry pledged millions in support...</td>\n      <td>The music industry reacted with a surge of out...</td>\n      <td>Documentary</td>\n      <td>bbc_three</td>\n      <td>False</td>\n      <td>31 May 2021</td>\n      <td>1524</td>\n      <td>['documentaries']</td>\n    </tr>\n    <tr>\n      <th>3797</th>\n      <td>3797</td>\n      <td>Ar An Sliabh</td>\n      <td>Paul packs up to return to his native Armagh a...</td>\n      <td>https://ichef.bbci.co.uk/images/ic/{recipe}/p0...</td>\n      <td>BBC, iPlayer, TV, Ar An Sliabh, Series 1: Epis...</td>\n      <td>Paul packs up to return to his native Armagh a...</td>\n      <td>Paul packs up to return to his native Armagh a...</td>\n      <td>I Sliabh Eachtaí, tá Cérill ag déanamh réidh d...</td>\n      <td>Documentary</td>\n      <td>bbc_webonly</td>\n      <td>False</td>\n      <td>22 Nov 2021</td>\n      <td>1740</td>\n      <td>['documentaries']</td>\n    </tr>\n    <tr>\n      <th>3800</th>\n      <td>3800</td>\n      <td>Avicii: True Stories</td>\n      <td>Avicii: True Stories is Tim Bergling’s own sto...</td>\n      <td>https://ichef.bbci.co.uk/images/ic/{recipe}/p0...</td>\n      <td>BBC, iPlayer, TV, Avicii: True Stories</td>\n      <td>Avicii: True Stories is Tim Bergling’s own sto...</td>\n      <td>Avicii: True Stories is Tim Bergling’s own sto...</td>\n      <td>In 2006, Tim Bergling was just a regular teena...</td>\n      <td>Documentary</td>\n      <td>bbc_three</td>\n      <td>Contains strong language.</td>\n      <td>20 Apr 2019</td>\n      <td>5766</td>\n      <td>['documentaries']</td>\n    </tr>\n  </tbody>\n</table>\n<p>2326 rows × 14 columns</p>\n</div>"
     },
     "execution_count": 32,
     "metadata": {},
     "output_type": "execute_result"
    }
   ],
   "source": [
    "# df"
   ],
   "metadata": {
    "collapsed": false,
    "pycharm": {
     "name": "#%%\n"
    }
   }
  },
  {
   "cell_type": "markdown",
   "source": [],
   "metadata": {
    "collapsed": false
   }
  },
  {
   "cell_type": "code",
   "execution_count": 91,
   "outputs": [
    {
     "data": {
      "text/plain": "      index                               title  \\\n0         0                           BBC Proms   \n1         1                                Port   \n2         2  Sit Down, Stand Up with Greg James   \n3         3         Ceiliúradh na Féile Pádraig   \n4         4                     Songs of Praise   \n...     ...                                 ...   \n3777   3777           Models: Street to Catwalk   \n3789   3789                   Death On The I-95   \n3793   3793        Do Black Lives Still Matter?   \n3797   3797                        Ar An Sliabh   \n3800   3800                Avicii: True Stories   \n\n                                            description       category  \\\n0     Australian tenor Stuart Skelton is joined by L...          Music   \n1     Previously unseen music from the series Port, ...          Music   \n2     Tom Holland and Greg James cold call celebrity...  Entertainment   \n3     John Toal and Pauline Scanlon introduce an eve...          Music   \n4     Claire McCollum explores Edinburgh and shares ...          Music   \n...                                                 ...            ...   \n3777  Kyra’s late arrival puts her modelling career ...    Documentary   \n3789  Returning to the US to find out what happened ...    Documentary   \n3793  Grime artist Saskilla asks, can the music indu...    Documentary   \n3797  Paul packs up to return to his native Armagh a...    Documentary   \n3800  Avicii: True Stories is Tim Bergling’s own sto...    Documentary   \n\n                               channel        release_date  duration_sec  \n0                      bbc_radio_three     9pm 11 Sep 2021          5247  \n1                             bbc_alba          9 Jul 2020          1037  \n2                        bbc_radio_one         10 Feb 2022           611  \n3     bbc_two_northern_ireland_digital         17 Mar 2017          3538  \n4                              bbc_one  1:15pm 20 Feb 2022          2044  \n...                                ...                 ...           ...  \n3777                         bbc_three          8 Aug 2021          1843  \n3789                         bbc_three         24 Oct 2018          3426  \n3793                         bbc_three         31 May 2021          1524  \n3797                       bbc_webonly         22 Nov 2021          1740  \n3800                         bbc_three         20 Apr 2019          5766  \n\n[2326 rows x 7 columns]",
      "text/html": "<div>\n<style scoped>\n    .dataframe tbody tr th:only-of-type {\n        vertical-align: middle;\n    }\n\n    .dataframe tbody tr th {\n        vertical-align: top;\n    }\n\n    .dataframe thead th {\n        text-align: right;\n    }\n</style>\n<table border=\"1\" class=\"dataframe\">\n  <thead>\n    <tr style=\"text-align: right;\">\n      <th></th>\n      <th>index</th>\n      <th>title</th>\n      <th>description</th>\n      <th>category</th>\n      <th>channel</th>\n      <th>release_date</th>\n      <th>duration_sec</th>\n    </tr>\n  </thead>\n  <tbody>\n    <tr>\n      <th>0</th>\n      <td>0</td>\n      <td>BBC Proms</td>\n      <td>Australian tenor Stuart Skelton is joined by L...</td>\n      <td>Music</td>\n      <td>bbc_radio_three</td>\n      <td>9pm 11 Sep 2021</td>\n      <td>5247</td>\n    </tr>\n    <tr>\n      <th>1</th>\n      <td>1</td>\n      <td>Port</td>\n      <td>Previously unseen music from the series Port, ...</td>\n      <td>Music</td>\n      <td>bbc_alba</td>\n      <td>9 Jul 2020</td>\n      <td>1037</td>\n    </tr>\n    <tr>\n      <th>2</th>\n      <td>2</td>\n      <td>Sit Down, Stand Up with Greg James</td>\n      <td>Tom Holland and Greg James cold call celebrity...</td>\n      <td>Entertainment</td>\n      <td>bbc_radio_one</td>\n      <td>10 Feb 2022</td>\n      <td>611</td>\n    </tr>\n    <tr>\n      <th>3</th>\n      <td>3</td>\n      <td>Ceiliúradh na Féile Pádraig</td>\n      <td>John Toal and Pauline Scanlon introduce an eve...</td>\n      <td>Music</td>\n      <td>bbc_two_northern_ireland_digital</td>\n      <td>17 Mar 2017</td>\n      <td>3538</td>\n    </tr>\n    <tr>\n      <th>4</th>\n      <td>4</td>\n      <td>Songs of Praise</td>\n      <td>Claire McCollum explores Edinburgh and shares ...</td>\n      <td>Music</td>\n      <td>bbc_one</td>\n      <td>1:15pm 20 Feb 2022</td>\n      <td>2044</td>\n    </tr>\n    <tr>\n      <th>...</th>\n      <td>...</td>\n      <td>...</td>\n      <td>...</td>\n      <td>...</td>\n      <td>...</td>\n      <td>...</td>\n      <td>...</td>\n    </tr>\n    <tr>\n      <th>3777</th>\n      <td>3777</td>\n      <td>Models: Street to Catwalk</td>\n      <td>Kyra’s late arrival puts her modelling career ...</td>\n      <td>Documentary</td>\n      <td>bbc_three</td>\n      <td>8 Aug 2021</td>\n      <td>1843</td>\n    </tr>\n    <tr>\n      <th>3789</th>\n      <td>3789</td>\n      <td>Death On The I-95</td>\n      <td>Returning to the US to find out what happened ...</td>\n      <td>Documentary</td>\n      <td>bbc_three</td>\n      <td>24 Oct 2018</td>\n      <td>3426</td>\n    </tr>\n    <tr>\n      <th>3793</th>\n      <td>3793</td>\n      <td>Do Black Lives Still Matter?</td>\n      <td>Grime artist Saskilla asks, can the music indu...</td>\n      <td>Documentary</td>\n      <td>bbc_three</td>\n      <td>31 May 2021</td>\n      <td>1524</td>\n    </tr>\n    <tr>\n      <th>3797</th>\n      <td>3797</td>\n      <td>Ar An Sliabh</td>\n      <td>Paul packs up to return to his native Armagh a...</td>\n      <td>Documentary</td>\n      <td>bbc_webonly</td>\n      <td>22 Nov 2021</td>\n      <td>1740</td>\n    </tr>\n    <tr>\n      <th>3800</th>\n      <td>3800</td>\n      <td>Avicii: True Stories</td>\n      <td>Avicii: True Stories is Tim Bergling’s own sto...</td>\n      <td>Documentary</td>\n      <td>bbc_three</td>\n      <td>20 Apr 2019</td>\n      <td>5766</td>\n    </tr>\n  </tbody>\n</table>\n<p>2326 rows × 7 columns</p>\n</div>"
     },
     "execution_count": 91,
     "metadata": {},
     "output_type": "execute_result"
    }
   ],
   "source": [
    "# df_adv = df.iloc[:, [0, 1, 2, 8, 9, 11, 12]]\n",
    "# df_adv"
   ],
   "metadata": {
    "collapsed": false,
    "pycharm": {
     "name": "#%%\n"
    }
   }
  },
  {
   "cell_type": "code",
   "execution_count": 92,
   "outputs": [],
   "source": [
    "# df_adv.columns = ['Index', 'Title', 'Description', 'Category', 'Channel', 'Release Year', 'Duration in Minutes']"
   ],
   "metadata": {
    "collapsed": false,
    "pycharm": {
     "name": "#%%\n"
    }
   }
  },
  {
   "cell_type": "code",
   "execution_count": 86,
   "outputs": [
    {
     "data": {
      "text/plain": "      Index                               Title  \\\n0         0                           BBC Proms   \n1         1                                Port   \n2         2  Sit Down, Stand Up with Greg James   \n3         3         Ceiliúradh na Féile Pádraig   \n4         4                     Songs of Praise   \n...     ...                                 ...   \n3777   3777           Models: Street to Catwalk   \n3789   3789                   Death On The I-95   \n3793   3793        Do Black Lives Still Matter?   \n3797   3797                        Ar An Sliabh   \n3800   3800                Avicii: True Stories   \n\n                                            Description       Category  \\\n0     Australian tenor Stuart Skelton is joined by L...          Music   \n1     Previously unseen music from the series Port, ...          Music   \n2     Tom Holland and Greg James cold call celebrity...  Entertainment   \n3     John Toal and Pauline Scanlon introduce an eve...          Music   \n4     Claire McCollum explores Edinburgh and shares ...          Music   \n...                                                 ...            ...   \n3777  Kyra’s late arrival puts her modelling career ...    Documentary   \n3789  Returning to the US to find out what happened ...    Documentary   \n3793  Grime artist Saskilla asks, can the music indu...    Documentary   \n3797  Paul packs up to return to his native Armagh a...    Documentary   \n3800  Avicii: True Stories is Tim Bergling’s own sto...    Documentary   \n\n                               Channel        Release Year  \\\n0                      bbc_radio_three     9pm 11 Sep 2021   \n1                             bbc_alba          9 Jul 2020   \n2                        bbc_radio_one         10 Feb 2022   \n3     bbc_two_northern_ireland_digital         17 Mar 2017   \n4                              bbc_one  1:15pm 20 Feb 2022   \n...                                ...                 ...   \n3777                         bbc_three          8 Aug 2021   \n3789                         bbc_three         24 Oct 2018   \n3793                         bbc_three         31 May 2021   \n3797                       bbc_webonly         22 Nov 2021   \n3800                         bbc_three         20 Apr 2019   \n\n      Duration in Minutes  \n0                    5247  \n1                    1037  \n2                     611  \n3                    3538  \n4                    2044  \n...                   ...  \n3777                 1843  \n3789                 3426  \n3793                 1524  \n3797                 1740  \n3800                 5766  \n\n[2326 rows x 7 columns]",
      "text/html": "<div>\n<style scoped>\n    .dataframe tbody tr th:only-of-type {\n        vertical-align: middle;\n    }\n\n    .dataframe tbody tr th {\n        vertical-align: top;\n    }\n\n    .dataframe thead th {\n        text-align: right;\n    }\n</style>\n<table border=\"1\" class=\"dataframe\">\n  <thead>\n    <tr style=\"text-align: right;\">\n      <th></th>\n      <th>Index</th>\n      <th>Title</th>\n      <th>Description</th>\n      <th>Category</th>\n      <th>Channel</th>\n      <th>Release Year</th>\n      <th>Duration in Minutes</th>\n    </tr>\n  </thead>\n  <tbody>\n    <tr>\n      <th>0</th>\n      <td>0</td>\n      <td>BBC Proms</td>\n      <td>Australian tenor Stuart Skelton is joined by L...</td>\n      <td>Music</td>\n      <td>bbc_radio_three</td>\n      <td>9pm 11 Sep 2021</td>\n      <td>5247</td>\n    </tr>\n    <tr>\n      <th>1</th>\n      <td>1</td>\n      <td>Port</td>\n      <td>Previously unseen music from the series Port, ...</td>\n      <td>Music</td>\n      <td>bbc_alba</td>\n      <td>9 Jul 2020</td>\n      <td>1037</td>\n    </tr>\n    <tr>\n      <th>2</th>\n      <td>2</td>\n      <td>Sit Down, Stand Up with Greg James</td>\n      <td>Tom Holland and Greg James cold call celebrity...</td>\n      <td>Entertainment</td>\n      <td>bbc_radio_one</td>\n      <td>10 Feb 2022</td>\n      <td>611</td>\n    </tr>\n    <tr>\n      <th>3</th>\n      <td>3</td>\n      <td>Ceiliúradh na Féile Pádraig</td>\n      <td>John Toal and Pauline Scanlon introduce an eve...</td>\n      <td>Music</td>\n      <td>bbc_two_northern_ireland_digital</td>\n      <td>17 Mar 2017</td>\n      <td>3538</td>\n    </tr>\n    <tr>\n      <th>4</th>\n      <td>4</td>\n      <td>Songs of Praise</td>\n      <td>Claire McCollum explores Edinburgh and shares ...</td>\n      <td>Music</td>\n      <td>bbc_one</td>\n      <td>1:15pm 20 Feb 2022</td>\n      <td>2044</td>\n    </tr>\n    <tr>\n      <th>...</th>\n      <td>...</td>\n      <td>...</td>\n      <td>...</td>\n      <td>...</td>\n      <td>...</td>\n      <td>...</td>\n      <td>...</td>\n    </tr>\n    <tr>\n      <th>3777</th>\n      <td>3777</td>\n      <td>Models: Street to Catwalk</td>\n      <td>Kyra’s late arrival puts her modelling career ...</td>\n      <td>Documentary</td>\n      <td>bbc_three</td>\n      <td>8 Aug 2021</td>\n      <td>1843</td>\n    </tr>\n    <tr>\n      <th>3789</th>\n      <td>3789</td>\n      <td>Death On The I-95</td>\n      <td>Returning to the US to find out what happened ...</td>\n      <td>Documentary</td>\n      <td>bbc_three</td>\n      <td>24 Oct 2018</td>\n      <td>3426</td>\n    </tr>\n    <tr>\n      <th>3793</th>\n      <td>3793</td>\n      <td>Do Black Lives Still Matter?</td>\n      <td>Grime artist Saskilla asks, can the music indu...</td>\n      <td>Documentary</td>\n      <td>bbc_three</td>\n      <td>31 May 2021</td>\n      <td>1524</td>\n    </tr>\n    <tr>\n      <th>3797</th>\n      <td>3797</td>\n      <td>Ar An Sliabh</td>\n      <td>Paul packs up to return to his native Armagh a...</td>\n      <td>Documentary</td>\n      <td>bbc_webonly</td>\n      <td>22 Nov 2021</td>\n      <td>1740</td>\n    </tr>\n    <tr>\n      <th>3800</th>\n      <td>3800</td>\n      <td>Avicii: True Stories</td>\n      <td>Avicii: True Stories is Tim Bergling’s own sto...</td>\n      <td>Documentary</td>\n      <td>bbc_three</td>\n      <td>20 Apr 2019</td>\n      <td>5766</td>\n    </tr>\n  </tbody>\n</table>\n<p>2326 rows × 7 columns</p>\n</div>"
     },
     "execution_count": 86,
     "metadata": {},
     "output_type": "execute_result"
    }
   ],
   "source": [
    "# df_adv"
   ],
   "metadata": {
    "collapsed": false,
    "pycharm": {
     "name": "#%%\n"
    }
   }
  },
  {
   "cell_type": "code",
   "execution_count": 94,
   "outputs": [],
   "source": [
    "def reformat_date(val, date_month_year=True):\n",
    "    val = str(val)\n",
    "    if date_month_year:\n",
    "        if len(val) == 10:\n",
    "            date_str = val[:10]\n",
    "        else:\n",
    "            date_str = val[len(val)-11: len(val)]\n",
    "    else:\n",
    "        length = len(val)\n",
    "        return val[length-4:length]\n",
    "    date_time_obj = datetime.strptime(date_str, '%d %b %Y')\n",
    "    return date_time_obj"
   ],
   "metadata": {
    "collapsed": false,
    "pycharm": {
     "name": "#%%\n"
    }
   }
  },
  {
   "cell_type": "code",
   "execution_count": 95,
   "outputs": [
    {
     "name": "stderr",
     "output_type": "stream",
     "text": [
      "/var/folders/2s/d47mm4m157l7p7yy3xrkwqsh0000gn/T/ipykernel_41775/2860585139.py:1: SettingWithCopyWarning: \n",
      "A value is trying to be set on a copy of a slice from a DataFrame.\n",
      "Try using .loc[row_indexer,col_indexer] = value instead\n",
      "\n",
      "See the caveats in the documentation: https://pandas.pydata.org/pandas-docs/stable/user_guide/indexing.html#returning-a-view-versus-a-copy\n",
      "  df_adv.loc[:, 'Release Year'] = df_adv['Release Year'].apply(lambda x: reformat_date(x, False))\n"
     ]
    }
   ],
   "source": [
    "# df_adv.loc[:, 'Release Year'] = df_adv['Release Year'].apply(lambda x: reformat_date(x, False))"
   ],
   "metadata": {
    "collapsed": false,
    "pycharm": {
     "name": "#%%\n"
    }
   }
  },
  {
   "cell_type": "code",
   "execution_count": 96,
   "outputs": [
    {
     "name": "stderr",
     "output_type": "stream",
     "text": [
      "/var/folders/2s/d47mm4m157l7p7yy3xrkwqsh0000gn/T/ipykernel_41775/1997737391.py:1: SettingWithCopyWarning: \n",
      "A value is trying to be set on a copy of a slice from a DataFrame.\n",
      "Try using .loc[row_indexer,col_indexer] = value instead\n",
      "\n",
      "See the caveats in the documentation: https://pandas.pydata.org/pandas-docs/stable/user_guide/indexing.html#returning-a-view-versus-a-copy\n",
      "  df_adv.loc[:, 'Duration in Minutes'] = df_adv['Duration in Minutes'].apply(lambda x: int(round(x/60, 0)))\n"
     ]
    }
   ],
   "source": [
    "# df_adv.loc[:, 'Duration in Minutes'] = df_adv['Duration in Minutes'].apply(lambda x: int(round(x/60, 0)))"
   ],
   "metadata": {
    "collapsed": false,
    "pycharm": {
     "name": "#%%\n"
    }
   }
  },
  {
   "cell_type": "code",
   "execution_count": 97,
   "outputs": [
    {
     "name": "stderr",
     "output_type": "stream",
     "text": [
      "/var/folders/2s/d47mm4m157l7p7yy3xrkwqsh0000gn/T/ipykernel_41775/1759445372.py:1: SettingWithCopyWarning: \n",
      "A value is trying to be set on a copy of a slice from a DataFrame.\n",
      "Try using .loc[row_indexer,col_indexer] = value instead\n",
      "\n",
      "See the caveats in the documentation: https://pandas.pydata.org/pandas-docs/stable/user_guide/indexing.html#returning-a-view-versus-a-copy\n",
      "  df_adv.loc[:, 'Channel'] = df_adv['Channel'].apply(lambda x: x.upper())\n",
      "/var/folders/2s/d47mm4m157l7p7yy3xrkwqsh0000gn/T/ipykernel_41775/1759445372.py:2: SettingWithCopyWarning: \n",
      "A value is trying to be set on a copy of a slice from a DataFrame.\n",
      "Try using .loc[row_indexer,col_indexer] = value instead\n",
      "\n",
      "See the caveats in the documentation: https://pandas.pydata.org/pandas-docs/stable/user_guide/indexing.html#returning-a-view-versus-a-copy\n",
      "  df_adv.loc[:, 'Channel'] = df_adv['Channel'].apply(lambda x: x.replace('_', ' '))\n"
     ]
    }
   ],
   "source": [
    "# df_adv.loc[:, 'Channel'] = df_adv['Channel'].apply(lambda x: x.upper())\n",
    "# df_adv.loc[:, 'Channel'] = df_adv['Channel'].apply(lambda x: x.replace('_', ' '))"
   ],
   "metadata": {
    "collapsed": false,
    "pycharm": {
     "name": "#%%\n"
    }
   }
  },
  {
   "cell_type": "code",
   "execution_count": 98,
   "outputs": [
    {
     "data": {
      "text/plain": "      Index                               Title  \\\n0         0                           BBC Proms   \n1         1                                Port   \n2         2  Sit Down, Stand Up with Greg James   \n3         3         Ceiliúradh na Féile Pádraig   \n4         4                     Songs of Praise   \n...     ...                                 ...   \n3777   3777           Models: Street to Catwalk   \n3789   3789                   Death On The I-95   \n3793   3793        Do Black Lives Still Matter?   \n3797   3797                        Ar An Sliabh   \n3800   3800                Avicii: True Stories   \n\n                                            Description       Category  \\\n0     Australian tenor Stuart Skelton is joined by L...          Music   \n1     Previously unseen music from the series Port, ...          Music   \n2     Tom Holland and Greg James cold call celebrity...  Entertainment   \n3     John Toal and Pauline Scanlon introduce an eve...          Music   \n4     Claire McCollum explores Edinburgh and shares ...          Music   \n...                                                 ...            ...   \n3777  Kyra’s late arrival puts her modelling career ...    Documentary   \n3789  Returning to the US to find out what happened ...    Documentary   \n3793  Grime artist Saskilla asks, can the music indu...    Documentary   \n3797  Paul packs up to return to his native Armagh a...    Documentary   \n3800  Avicii: True Stories is Tim Bergling’s own sto...    Documentary   \n\n                               Channel Release Year  Duration in Minutes  \n0                      BBC RADIO THREE         2021                   87  \n1                             BBC ALBA         2020                   17  \n2                        BBC RADIO ONE         2022                   10  \n3     BBC TWO NORTHERN IRELAND DIGITAL         2017                   59  \n4                              BBC ONE         2022                   34  \n...                                ...          ...                  ...  \n3777                         BBC THREE         2021                   31  \n3789                         BBC THREE         2018                   57  \n3793                         BBC THREE         2021                   25  \n3797                       BBC WEBONLY         2021                   29  \n3800                         BBC THREE         2019                   96  \n\n[2326 rows x 7 columns]",
      "text/html": "<div>\n<style scoped>\n    .dataframe tbody tr th:only-of-type {\n        vertical-align: middle;\n    }\n\n    .dataframe tbody tr th {\n        vertical-align: top;\n    }\n\n    .dataframe thead th {\n        text-align: right;\n    }\n</style>\n<table border=\"1\" class=\"dataframe\">\n  <thead>\n    <tr style=\"text-align: right;\">\n      <th></th>\n      <th>Index</th>\n      <th>Title</th>\n      <th>Description</th>\n      <th>Category</th>\n      <th>Channel</th>\n      <th>Release Year</th>\n      <th>Duration in Minutes</th>\n    </tr>\n  </thead>\n  <tbody>\n    <tr>\n      <th>0</th>\n      <td>0</td>\n      <td>BBC Proms</td>\n      <td>Australian tenor Stuart Skelton is joined by L...</td>\n      <td>Music</td>\n      <td>BBC RADIO THREE</td>\n      <td>2021</td>\n      <td>87</td>\n    </tr>\n    <tr>\n      <th>1</th>\n      <td>1</td>\n      <td>Port</td>\n      <td>Previously unseen music from the series Port, ...</td>\n      <td>Music</td>\n      <td>BBC ALBA</td>\n      <td>2020</td>\n      <td>17</td>\n    </tr>\n    <tr>\n      <th>2</th>\n      <td>2</td>\n      <td>Sit Down, Stand Up with Greg James</td>\n      <td>Tom Holland and Greg James cold call celebrity...</td>\n      <td>Entertainment</td>\n      <td>BBC RADIO ONE</td>\n      <td>2022</td>\n      <td>10</td>\n    </tr>\n    <tr>\n      <th>3</th>\n      <td>3</td>\n      <td>Ceiliúradh na Féile Pádraig</td>\n      <td>John Toal and Pauline Scanlon introduce an eve...</td>\n      <td>Music</td>\n      <td>BBC TWO NORTHERN IRELAND DIGITAL</td>\n      <td>2017</td>\n      <td>59</td>\n    </tr>\n    <tr>\n      <th>4</th>\n      <td>4</td>\n      <td>Songs of Praise</td>\n      <td>Claire McCollum explores Edinburgh and shares ...</td>\n      <td>Music</td>\n      <td>BBC ONE</td>\n      <td>2022</td>\n      <td>34</td>\n    </tr>\n    <tr>\n      <th>...</th>\n      <td>...</td>\n      <td>...</td>\n      <td>...</td>\n      <td>...</td>\n      <td>...</td>\n      <td>...</td>\n      <td>...</td>\n    </tr>\n    <tr>\n      <th>3777</th>\n      <td>3777</td>\n      <td>Models: Street to Catwalk</td>\n      <td>Kyra’s late arrival puts her modelling career ...</td>\n      <td>Documentary</td>\n      <td>BBC THREE</td>\n      <td>2021</td>\n      <td>31</td>\n    </tr>\n    <tr>\n      <th>3789</th>\n      <td>3789</td>\n      <td>Death On The I-95</td>\n      <td>Returning to the US to find out what happened ...</td>\n      <td>Documentary</td>\n      <td>BBC THREE</td>\n      <td>2018</td>\n      <td>57</td>\n    </tr>\n    <tr>\n      <th>3793</th>\n      <td>3793</td>\n      <td>Do Black Lives Still Matter?</td>\n      <td>Grime artist Saskilla asks, can the music indu...</td>\n      <td>Documentary</td>\n      <td>BBC THREE</td>\n      <td>2021</td>\n      <td>25</td>\n    </tr>\n    <tr>\n      <th>3797</th>\n      <td>3797</td>\n      <td>Ar An Sliabh</td>\n      <td>Paul packs up to return to his native Armagh a...</td>\n      <td>Documentary</td>\n      <td>BBC WEBONLY</td>\n      <td>2021</td>\n      <td>29</td>\n    </tr>\n    <tr>\n      <th>3800</th>\n      <td>3800</td>\n      <td>Avicii: True Stories</td>\n      <td>Avicii: True Stories is Tim Bergling’s own sto...</td>\n      <td>Documentary</td>\n      <td>BBC THREE</td>\n      <td>2019</td>\n      <td>96</td>\n    </tr>\n  </tbody>\n</table>\n<p>2326 rows × 7 columns</p>\n</div>"
     },
     "execution_count": 98,
     "metadata": {},
     "output_type": "execute_result"
    }
   ],
   "source": [
    "# df_adv"
   ],
   "metadata": {
    "collapsed": false,
    "pycharm": {
     "name": "#%%\n"
    }
   }
  },
  {
   "cell_type": "code",
   "execution_count": 99,
   "outputs": [],
   "source": [
    "# df_adv.to_csv('../data/BBC/bbc_data_adv.csv', sep=';')"
   ],
   "metadata": {
    "collapsed": false,
    "pycharm": {
     "name": "#%%\n"
    }
   }
  },
  {
   "cell_type": "markdown",
   "source": [
    "## TF-IDF"
   ],
   "metadata": {
    "collapsed": false
   }
  },
  {
   "cell_type": "code",
   "execution_count": 4,
   "outputs": [],
   "source": [
    "df['mixed_text'] = df['title'] + ' ' + df['description'] + ' ' + df['syno_l'] + ' ' + df['category']"
   ],
   "metadata": {
    "collapsed": false,
    "pycharm": {
     "name": "#%%\n"
    }
   }
  },
  {
   "cell_type": "code",
   "execution_count": 5,
   "outputs": [],
   "source": [
    "import nltk\n",
    "from nltk.corpus import stopwords\n",
    "lemmatizer = nltk.stem.WordNetLemmatizer()\n",
    "\n",
    "def clean_text(x, stop_words):\n",
    "  if pd.isna(x) == False:\n",
    "    x = x.lower()\n",
    "    x = x.translate(str.maketrans(' ', ' ', string.punctuation))\n",
    "    x = x.strip()\n",
    "\n",
    "    x = nltk.word_tokenize(x)\n",
    "    x = [token for token in x if not token in stop_words]\n",
    "    x = ' '.join([lemmatizer.lemmatize(w) for w in x])\n",
    "  else:\n",
    "    x = ''\n",
    "\n",
    "  return x"
   ],
   "metadata": {
    "collapsed": false,
    "pycharm": {
     "name": "#%%\n"
    }
   }
  },
  {
   "cell_type": "code",
   "execution_count": 6,
   "outputs": [],
   "source": [
    "stop_words = stopwords.words('english')\n",
    "df['cleaned_mixed_text'] = df['mixed_text'].apply(lambda x: clean_text(x, stop_words))"
   ],
   "metadata": {
    "collapsed": false,
    "pycharm": {
     "name": "#%%\n"
    }
   }
  },
  {
   "cell_type": "code",
   "execution_count": 7,
   "outputs": [
    {
     "data": {
      "text/plain": "0       bbc prom australian tenor stuart skelton joine...\n1       port previously unseen music series port julie...\n2       sit stand greg james tom holland greg james co...\n3       ceiliúradh na féile pádraig john toal pauline ...\n4       song praise claire mccollum explores edinburgh...\n                              ...                        \n3777    model street catwalk kyra ’ late arrival put m...\n3789    death i95 returning u find happened people met...\n3793    black life still matter grime artist saskilla ...\n3797    ar sliabh paul pack return native armagh siún ...\n3800    avicii true story avicii true story tim bergli...\nName: cleaned_mixed_text, Length: 2326, dtype: object"
     },
     "execution_count": 7,
     "metadata": {},
     "output_type": "execute_result"
    }
   ],
   "source": [
    "df['cleaned_mixed_text']"
   ],
   "metadata": {
    "collapsed": false,
    "pycharm": {
     "name": "#%%\n"
    }
   }
  },
  {
   "cell_type": "code",
   "execution_count": 10,
   "outputs": [
    {
     "name": "stderr",
     "output_type": "stream",
     "text": [
      "/Users/hagenaadfock/miniforge3/envs/default/lib/python3.8/site-packages/sklearn/utils/deprecation.py:87: FutureWarning: Function get_feature_names is deprecated; get_feature_names is deprecated in 1.0 and will be removed in 1.2. Please use get_feature_names_out instead.\n",
      "  warnings.warn(msg, category=FutureWarning)\n"
     ]
    },
    {
     "data": {
      "text/plain": "       10      100  1000  10000  100000  100th  107  10th   11   12  ...  \\\n0     0.0  0.00000   0.0    0.0     0.0    0.0  0.0   0.0  0.0  0.0  ...   \n1     0.0  0.00000   0.0    0.0     0.0    0.0  0.0   0.0  0.0  0.0  ...   \n2     0.0  0.00000   0.0    0.0     0.0    0.0  0.0   0.0  0.0  0.0  ...   \n3     0.0  0.00000   0.0    0.0     0.0    0.0  0.0   0.0  0.0  0.0  ...   \n4     0.0  0.07281   0.0    0.0     0.0    0.0  0.0   0.0  0.0  0.0  ...   \n...   ...      ...   ...    ...     ...    ...  ...   ...  ...  ...  ...   \n2321  0.0  0.00000   0.0    0.0     0.0    0.0  0.0   0.0  0.0  0.0  ...   \n2322  0.0  0.00000   0.0    0.0     0.0    0.0  0.0   0.0  0.0  0.0  ...   \n2323  0.0  0.00000   0.0    0.0     0.0    0.0  0.0   0.0  0.0  0.0  ...   \n2324  0.0  0.00000   0.0    0.0     0.0    0.0  0.0   0.0  0.0  0.0  ...   \n2325  0.0  0.00000   0.0    0.0     0.0    0.0  0.0   0.0  0.0  0.0  ...   \n\n            às   áitiúil   òg  òga  òrain      òran        óg   ùr  ùra  údar  \n0     0.000000  0.000000  0.0  0.0    0.0  0.000000  0.000000  0.0  0.0   0.0  \n1     0.051456  0.000000  0.0  0.0    0.0  0.064423  0.124002  0.0  0.0   0.0  \n2     0.000000  0.000000  0.0  0.0    0.0  0.000000  0.000000  0.0  0.0   0.0  \n3     0.000000  0.000000  0.0  0.0    0.0  0.000000  0.000000  0.0  0.0   0.0  \n4     0.000000  0.000000  0.0  0.0    0.0  0.000000  0.000000  0.0  0.0   0.0  \n...        ...       ...  ...  ...    ...       ...       ...  ...  ...   ...  \n2321  0.000000  0.000000  0.0  0.0    0.0  0.000000  0.000000  0.0  0.0   0.0  \n2322  0.000000  0.000000  0.0  0.0    0.0  0.000000  0.000000  0.0  0.0   0.0  \n2323  0.000000  0.000000  0.0  0.0    0.0  0.000000  0.000000  0.0  0.0   0.0  \n2324  0.000000  0.097653  0.0  0.0    0.0  0.000000  0.000000  0.0  0.0   0.0  \n2325  0.000000  0.000000  0.0  0.0    0.0  0.000000  0.000000  0.0  0.0   0.0  \n\n[2326 rows x 10205 columns]",
      "text/html": "<div>\n<style scoped>\n    .dataframe tbody tr th:only-of-type {\n        vertical-align: middle;\n    }\n\n    .dataframe tbody tr th {\n        vertical-align: top;\n    }\n\n    .dataframe thead th {\n        text-align: right;\n    }\n</style>\n<table border=\"1\" class=\"dataframe\">\n  <thead>\n    <tr style=\"text-align: right;\">\n      <th></th>\n      <th>10</th>\n      <th>100</th>\n      <th>1000</th>\n      <th>10000</th>\n      <th>100000</th>\n      <th>100th</th>\n      <th>107</th>\n      <th>10th</th>\n      <th>11</th>\n      <th>12</th>\n      <th>...</th>\n      <th>às</th>\n      <th>áitiúil</th>\n      <th>òg</th>\n      <th>òga</th>\n      <th>òrain</th>\n      <th>òran</th>\n      <th>óg</th>\n      <th>ùr</th>\n      <th>ùra</th>\n      <th>údar</th>\n    </tr>\n  </thead>\n  <tbody>\n    <tr>\n      <th>0</th>\n      <td>0.0</td>\n      <td>0.00000</td>\n      <td>0.0</td>\n      <td>0.0</td>\n      <td>0.0</td>\n      <td>0.0</td>\n      <td>0.0</td>\n      <td>0.0</td>\n      <td>0.0</td>\n      <td>0.0</td>\n      <td>...</td>\n      <td>0.000000</td>\n      <td>0.000000</td>\n      <td>0.0</td>\n      <td>0.0</td>\n      <td>0.0</td>\n      <td>0.000000</td>\n      <td>0.000000</td>\n      <td>0.0</td>\n      <td>0.0</td>\n      <td>0.0</td>\n    </tr>\n    <tr>\n      <th>1</th>\n      <td>0.0</td>\n      <td>0.00000</td>\n      <td>0.0</td>\n      <td>0.0</td>\n      <td>0.0</td>\n      <td>0.0</td>\n      <td>0.0</td>\n      <td>0.0</td>\n      <td>0.0</td>\n      <td>0.0</td>\n      <td>...</td>\n      <td>0.051456</td>\n      <td>0.000000</td>\n      <td>0.0</td>\n      <td>0.0</td>\n      <td>0.0</td>\n      <td>0.064423</td>\n      <td>0.124002</td>\n      <td>0.0</td>\n      <td>0.0</td>\n      <td>0.0</td>\n    </tr>\n    <tr>\n      <th>2</th>\n      <td>0.0</td>\n      <td>0.00000</td>\n      <td>0.0</td>\n      <td>0.0</td>\n      <td>0.0</td>\n      <td>0.0</td>\n      <td>0.0</td>\n      <td>0.0</td>\n      <td>0.0</td>\n      <td>0.0</td>\n      <td>...</td>\n      <td>0.000000</td>\n      <td>0.000000</td>\n      <td>0.0</td>\n      <td>0.0</td>\n      <td>0.0</td>\n      <td>0.000000</td>\n      <td>0.000000</td>\n      <td>0.0</td>\n      <td>0.0</td>\n      <td>0.0</td>\n    </tr>\n    <tr>\n      <th>3</th>\n      <td>0.0</td>\n      <td>0.00000</td>\n      <td>0.0</td>\n      <td>0.0</td>\n      <td>0.0</td>\n      <td>0.0</td>\n      <td>0.0</td>\n      <td>0.0</td>\n      <td>0.0</td>\n      <td>0.0</td>\n      <td>...</td>\n      <td>0.000000</td>\n      <td>0.000000</td>\n      <td>0.0</td>\n      <td>0.0</td>\n      <td>0.0</td>\n      <td>0.000000</td>\n      <td>0.000000</td>\n      <td>0.0</td>\n      <td>0.0</td>\n      <td>0.0</td>\n    </tr>\n    <tr>\n      <th>4</th>\n      <td>0.0</td>\n      <td>0.07281</td>\n      <td>0.0</td>\n      <td>0.0</td>\n      <td>0.0</td>\n      <td>0.0</td>\n      <td>0.0</td>\n      <td>0.0</td>\n      <td>0.0</td>\n      <td>0.0</td>\n      <td>...</td>\n      <td>0.000000</td>\n      <td>0.000000</td>\n      <td>0.0</td>\n      <td>0.0</td>\n      <td>0.0</td>\n      <td>0.000000</td>\n      <td>0.000000</td>\n      <td>0.0</td>\n      <td>0.0</td>\n      <td>0.0</td>\n    </tr>\n    <tr>\n      <th>...</th>\n      <td>...</td>\n      <td>...</td>\n      <td>...</td>\n      <td>...</td>\n      <td>...</td>\n      <td>...</td>\n      <td>...</td>\n      <td>...</td>\n      <td>...</td>\n      <td>...</td>\n      <td>...</td>\n      <td>...</td>\n      <td>...</td>\n      <td>...</td>\n      <td>...</td>\n      <td>...</td>\n      <td>...</td>\n      <td>...</td>\n      <td>...</td>\n      <td>...</td>\n      <td>...</td>\n    </tr>\n    <tr>\n      <th>2321</th>\n      <td>0.0</td>\n      <td>0.00000</td>\n      <td>0.0</td>\n      <td>0.0</td>\n      <td>0.0</td>\n      <td>0.0</td>\n      <td>0.0</td>\n      <td>0.0</td>\n      <td>0.0</td>\n      <td>0.0</td>\n      <td>...</td>\n      <td>0.000000</td>\n      <td>0.000000</td>\n      <td>0.0</td>\n      <td>0.0</td>\n      <td>0.0</td>\n      <td>0.000000</td>\n      <td>0.000000</td>\n      <td>0.0</td>\n      <td>0.0</td>\n      <td>0.0</td>\n    </tr>\n    <tr>\n      <th>2322</th>\n      <td>0.0</td>\n      <td>0.00000</td>\n      <td>0.0</td>\n      <td>0.0</td>\n      <td>0.0</td>\n      <td>0.0</td>\n      <td>0.0</td>\n      <td>0.0</td>\n      <td>0.0</td>\n      <td>0.0</td>\n      <td>...</td>\n      <td>0.000000</td>\n      <td>0.000000</td>\n      <td>0.0</td>\n      <td>0.0</td>\n      <td>0.0</td>\n      <td>0.000000</td>\n      <td>0.000000</td>\n      <td>0.0</td>\n      <td>0.0</td>\n      <td>0.0</td>\n    </tr>\n    <tr>\n      <th>2323</th>\n      <td>0.0</td>\n      <td>0.00000</td>\n      <td>0.0</td>\n      <td>0.0</td>\n      <td>0.0</td>\n      <td>0.0</td>\n      <td>0.0</td>\n      <td>0.0</td>\n      <td>0.0</td>\n      <td>0.0</td>\n      <td>...</td>\n      <td>0.000000</td>\n      <td>0.000000</td>\n      <td>0.0</td>\n      <td>0.0</td>\n      <td>0.0</td>\n      <td>0.000000</td>\n      <td>0.000000</td>\n      <td>0.0</td>\n      <td>0.0</td>\n      <td>0.0</td>\n    </tr>\n    <tr>\n      <th>2324</th>\n      <td>0.0</td>\n      <td>0.00000</td>\n      <td>0.0</td>\n      <td>0.0</td>\n      <td>0.0</td>\n      <td>0.0</td>\n      <td>0.0</td>\n      <td>0.0</td>\n      <td>0.0</td>\n      <td>0.0</td>\n      <td>...</td>\n      <td>0.000000</td>\n      <td>0.097653</td>\n      <td>0.0</td>\n      <td>0.0</td>\n      <td>0.0</td>\n      <td>0.000000</td>\n      <td>0.000000</td>\n      <td>0.0</td>\n      <td>0.0</td>\n      <td>0.0</td>\n    </tr>\n    <tr>\n      <th>2325</th>\n      <td>0.0</td>\n      <td>0.00000</td>\n      <td>0.0</td>\n      <td>0.0</td>\n      <td>0.0</td>\n      <td>0.0</td>\n      <td>0.0</td>\n      <td>0.0</td>\n      <td>0.0</td>\n      <td>0.0</td>\n      <td>...</td>\n      <td>0.000000</td>\n      <td>0.000000</td>\n      <td>0.0</td>\n      <td>0.0</td>\n      <td>0.0</td>\n      <td>0.000000</td>\n      <td>0.000000</td>\n      <td>0.0</td>\n      <td>0.0</td>\n      <td>0.0</td>\n    </tr>\n  </tbody>\n</table>\n<p>2326 rows × 10205 columns</p>\n</div>"
     },
     "execution_count": 10,
     "metadata": {},
     "output_type": "execute_result"
    }
   ],
   "source": [
    "from sklearn.feature_extraction.text import TfidfVectorizer\n",
    "from sklearn.cluster import KMeans\n",
    "from sklearn import cluster\n",
    "\n",
    "vectorizer = TfidfVectorizer(min_df=3, max_df=0.80, norm='l2')\n",
    "X = vectorizer.fit_transform(df['cleaned_mixed_text'])\n",
    "tf_idf = pd.DataFrame(data = X.toarray(), columns=vectorizer.get_feature_names())\n",
    "tf_idf"
   ],
   "metadata": {
    "collapsed": false,
    "pycharm": {
     "name": "#%%\n"
    }
   }
  },
  {
   "cell_type": "code",
   "execution_count": null,
   "outputs": [],
   "source": [
    "clusters = 3\n",
    "kmeanModel = KMeans(n_clusters=clusters, init='k-means++', max_iter=3000, random_state=0)\n",
    "mod = kmeanModel.fit_transform(tf_idf)\n",
    "df['k_means'] = kmeanModel.predict(tf_idf)"
   ],
   "metadata": {
    "collapsed": false,
    "pycharm": {
     "name": "#%%\n",
     "is_executing": true
    }
   }
  },
  {
   "cell_type": "code",
   "execution_count": null,
   "outputs": [],
   "source": [
    "order_centroids = kmeanModel.cluster_centers_.argsort()[:, ::-1]\n",
    "terms = vectorizer.get_feature_names()\n",
    "dict = []\n",
    "for i in range(clusters):\n",
    "  print('%d' % i, sep='', end=', '),\n",
    "  for ind in order_centroids[i, :20]:\n",
    "    print(terms[ind], sep='', end=', ')\n",
    "  print('')"
   ],
   "metadata": {
    "collapsed": false,
    "pycharm": {
     "name": "#%%\n"
    }
   }
  },
  {
   "cell_type": "code",
   "execution_count": null,
   "outputs": [],
   "source": [
    "df[df['k_means'] == 2]['Title'].head(20)"
   ],
   "metadata": {
    "collapsed": false,
    "pycharm": {
     "name": "#%%\n"
    }
   }
  },
  {
   "cell_type": "markdown",
   "source": [
    "## Cosin Similarity"
   ],
   "metadata": {
    "collapsed": false
   }
  },
  {
   "cell_type": "code",
   "execution_count": 6,
   "outputs": [],
   "source": [
    "df_cos = pd.read_csv('./../data/BBC/cosine_similarity.csv', sep=';', index_col=0)"
   ],
   "metadata": {
    "collapsed": false,
    "pycharm": {
     "name": "#%%\n"
    }
   }
  },
  {
   "cell_type": "code",
   "execution_count": 7,
   "outputs": [
    {
     "data": {
      "text/plain": "             0         1         2         3         4         5         6  \\\n0     1.000000  0.464569  0.456215  0.759457  0.752888  0.817963  0.844283   \n1     0.464569  1.000000  0.276400  0.500826  0.409278  0.324603  0.260997   \n2     0.456215  0.276400  1.000000  0.515068  0.463887  0.565514  0.456465   \n3     0.759457  0.500826  0.515068  1.000000  0.622449  0.738313  0.668563   \n4     0.752888  0.409278  0.463887  0.622449  1.000000  0.705579  0.671373   \n...        ...       ...       ...       ...       ...       ...       ...   \n2321  0.386949  0.175973  0.401385  0.348407  0.580583  0.467882  0.473950   \n2322  0.408679  0.237692  0.337785  0.325590  0.526698  0.464923  0.516740   \n2323  0.504979  0.267875  0.541091  0.466440  0.634509  0.596023  0.577080   \n2324  0.394167  0.877725  0.310047  0.511251  0.369326  0.296917  0.209242   \n2325  0.591685  0.278713  0.442695  0.503900  0.638660  0.703094  0.736998   \n\n             7         8         9  ...      2316      2317      2318  \\\n0     0.833293  0.624325  0.714856  ...  0.494571  0.404984  0.297471   \n1     0.318547  0.332594  0.532213  ...  0.237382  0.313001  0.229477   \n2     0.480797  0.404655  0.434049  ...  0.509228  0.466864  0.372347   \n3     0.714047  0.395446  0.621673  ...  0.470608  0.398964  0.345343   \n4     0.769527  0.730229  0.689653  ...  0.576755  0.506818  0.439136   \n...        ...       ...       ...  ...       ...       ...       ...   \n2321  0.493751  0.578729  0.474601  ...  0.512476  0.594405  0.491411   \n2322  0.520363  0.595682  0.404929  ...  0.571575  0.624707  0.529199   \n2323  0.571917  0.621068  0.463083  ...  0.581656  0.532636  0.577583   \n2324  0.249882  0.257936  0.496477  ...  0.179157  0.238167  0.201336   \n2325  0.730659  0.670514  0.578775  ...  0.650593  0.539832  0.442344   \n\n          2319      2320      2321      2322      2323      2324      2325  \n0     0.484163  0.610856  0.386949  0.408679  0.504979  0.394167  0.591685  \n1     0.322347  0.442119  0.175973  0.237692  0.267875  0.877725  0.278713  \n2     0.358217  0.302932  0.401385  0.337785  0.541091  0.310047  0.442695  \n3     0.394587  0.494136  0.348407  0.325590  0.466440  0.511251  0.503900  \n4     0.587217  0.748822  0.580583  0.526698  0.634509  0.369326  0.638660  \n...        ...       ...       ...       ...       ...       ...       ...  \n2321  0.708732  0.403681  1.000000  0.689001  0.661167  0.149656  0.557155  \n2322  0.794125  0.304786  0.689001  1.000000  0.727510  0.162182  0.680074  \n2323  0.712539  0.392916  0.661167  0.727510  1.000000  0.212749  0.643721  \n2324  0.264322  0.384121  0.149656  0.162182  0.212749  1.000000  0.203437  \n2325  0.702610  0.425400  0.557155  0.680074  0.643721  0.203437  1.000000  \n\n[2326 rows x 2326 columns]",
      "text/html": "<div>\n<style scoped>\n    .dataframe tbody tr th:only-of-type {\n        vertical-align: middle;\n    }\n\n    .dataframe tbody tr th {\n        vertical-align: top;\n    }\n\n    .dataframe thead th {\n        text-align: right;\n    }\n</style>\n<table border=\"1\" class=\"dataframe\">\n  <thead>\n    <tr style=\"text-align: right;\">\n      <th></th>\n      <th>0</th>\n      <th>1</th>\n      <th>2</th>\n      <th>3</th>\n      <th>4</th>\n      <th>5</th>\n      <th>6</th>\n      <th>7</th>\n      <th>8</th>\n      <th>9</th>\n      <th>...</th>\n      <th>2316</th>\n      <th>2317</th>\n      <th>2318</th>\n      <th>2319</th>\n      <th>2320</th>\n      <th>2321</th>\n      <th>2322</th>\n      <th>2323</th>\n      <th>2324</th>\n      <th>2325</th>\n    </tr>\n  </thead>\n  <tbody>\n    <tr>\n      <th>0</th>\n      <td>1.000000</td>\n      <td>0.464569</td>\n      <td>0.456215</td>\n      <td>0.759457</td>\n      <td>0.752888</td>\n      <td>0.817963</td>\n      <td>0.844283</td>\n      <td>0.833293</td>\n      <td>0.624325</td>\n      <td>0.714856</td>\n      <td>...</td>\n      <td>0.494571</td>\n      <td>0.404984</td>\n      <td>0.297471</td>\n      <td>0.484163</td>\n      <td>0.610856</td>\n      <td>0.386949</td>\n      <td>0.408679</td>\n      <td>0.504979</td>\n      <td>0.394167</td>\n      <td>0.591685</td>\n    </tr>\n    <tr>\n      <th>1</th>\n      <td>0.464569</td>\n      <td>1.000000</td>\n      <td>0.276400</td>\n      <td>0.500826</td>\n      <td>0.409278</td>\n      <td>0.324603</td>\n      <td>0.260997</td>\n      <td>0.318547</td>\n      <td>0.332594</td>\n      <td>0.532213</td>\n      <td>...</td>\n      <td>0.237382</td>\n      <td>0.313001</td>\n      <td>0.229477</td>\n      <td>0.322347</td>\n      <td>0.442119</td>\n      <td>0.175973</td>\n      <td>0.237692</td>\n      <td>0.267875</td>\n      <td>0.877725</td>\n      <td>0.278713</td>\n    </tr>\n    <tr>\n      <th>2</th>\n      <td>0.456215</td>\n      <td>0.276400</td>\n      <td>1.000000</td>\n      <td>0.515068</td>\n      <td>0.463887</td>\n      <td>0.565514</td>\n      <td>0.456465</td>\n      <td>0.480797</td>\n      <td>0.404655</td>\n      <td>0.434049</td>\n      <td>...</td>\n      <td>0.509228</td>\n      <td>0.466864</td>\n      <td>0.372347</td>\n      <td>0.358217</td>\n      <td>0.302932</td>\n      <td>0.401385</td>\n      <td>0.337785</td>\n      <td>0.541091</td>\n      <td>0.310047</td>\n      <td>0.442695</td>\n    </tr>\n    <tr>\n      <th>3</th>\n      <td>0.759457</td>\n      <td>0.500826</td>\n      <td>0.515068</td>\n      <td>1.000000</td>\n      <td>0.622449</td>\n      <td>0.738313</td>\n      <td>0.668563</td>\n      <td>0.714047</td>\n      <td>0.395446</td>\n      <td>0.621673</td>\n      <td>...</td>\n      <td>0.470608</td>\n      <td>0.398964</td>\n      <td>0.345343</td>\n      <td>0.394587</td>\n      <td>0.494136</td>\n      <td>0.348407</td>\n      <td>0.325590</td>\n      <td>0.466440</td>\n      <td>0.511251</td>\n      <td>0.503900</td>\n    </tr>\n    <tr>\n      <th>4</th>\n      <td>0.752888</td>\n      <td>0.409278</td>\n      <td>0.463887</td>\n      <td>0.622449</td>\n      <td>1.000000</td>\n      <td>0.705579</td>\n      <td>0.671373</td>\n      <td>0.769527</td>\n      <td>0.730229</td>\n      <td>0.689653</td>\n      <td>...</td>\n      <td>0.576755</td>\n      <td>0.506818</td>\n      <td>0.439136</td>\n      <td>0.587217</td>\n      <td>0.748822</td>\n      <td>0.580583</td>\n      <td>0.526698</td>\n      <td>0.634509</td>\n      <td>0.369326</td>\n      <td>0.638660</td>\n    </tr>\n    <tr>\n      <th>...</th>\n      <td>...</td>\n      <td>...</td>\n      <td>...</td>\n      <td>...</td>\n      <td>...</td>\n      <td>...</td>\n      <td>...</td>\n      <td>...</td>\n      <td>...</td>\n      <td>...</td>\n      <td>...</td>\n      <td>...</td>\n      <td>...</td>\n      <td>...</td>\n      <td>...</td>\n      <td>...</td>\n      <td>...</td>\n      <td>...</td>\n      <td>...</td>\n      <td>...</td>\n      <td>...</td>\n    </tr>\n    <tr>\n      <th>2321</th>\n      <td>0.386949</td>\n      <td>0.175973</td>\n      <td>0.401385</td>\n      <td>0.348407</td>\n      <td>0.580583</td>\n      <td>0.467882</td>\n      <td>0.473950</td>\n      <td>0.493751</td>\n      <td>0.578729</td>\n      <td>0.474601</td>\n      <td>...</td>\n      <td>0.512476</td>\n      <td>0.594405</td>\n      <td>0.491411</td>\n      <td>0.708732</td>\n      <td>0.403681</td>\n      <td>1.000000</td>\n      <td>0.689001</td>\n      <td>0.661167</td>\n      <td>0.149656</td>\n      <td>0.557155</td>\n    </tr>\n    <tr>\n      <th>2322</th>\n      <td>0.408679</td>\n      <td>0.237692</td>\n      <td>0.337785</td>\n      <td>0.325590</td>\n      <td>0.526698</td>\n      <td>0.464923</td>\n      <td>0.516740</td>\n      <td>0.520363</td>\n      <td>0.595682</td>\n      <td>0.404929</td>\n      <td>...</td>\n      <td>0.571575</td>\n      <td>0.624707</td>\n      <td>0.529199</td>\n      <td>0.794125</td>\n      <td>0.304786</td>\n      <td>0.689001</td>\n      <td>1.000000</td>\n      <td>0.727510</td>\n      <td>0.162182</td>\n      <td>0.680074</td>\n    </tr>\n    <tr>\n      <th>2323</th>\n      <td>0.504979</td>\n      <td>0.267875</td>\n      <td>0.541091</td>\n      <td>0.466440</td>\n      <td>0.634509</td>\n      <td>0.596023</td>\n      <td>0.577080</td>\n      <td>0.571917</td>\n      <td>0.621068</td>\n      <td>0.463083</td>\n      <td>...</td>\n      <td>0.581656</td>\n      <td>0.532636</td>\n      <td>0.577583</td>\n      <td>0.712539</td>\n      <td>0.392916</td>\n      <td>0.661167</td>\n      <td>0.727510</td>\n      <td>1.000000</td>\n      <td>0.212749</td>\n      <td>0.643721</td>\n    </tr>\n    <tr>\n      <th>2324</th>\n      <td>0.394167</td>\n      <td>0.877725</td>\n      <td>0.310047</td>\n      <td>0.511251</td>\n      <td>0.369326</td>\n      <td>0.296917</td>\n      <td>0.209242</td>\n      <td>0.249882</td>\n      <td>0.257936</td>\n      <td>0.496477</td>\n      <td>...</td>\n      <td>0.179157</td>\n      <td>0.238167</td>\n      <td>0.201336</td>\n      <td>0.264322</td>\n      <td>0.384121</td>\n      <td>0.149656</td>\n      <td>0.162182</td>\n      <td>0.212749</td>\n      <td>1.000000</td>\n      <td>0.203437</td>\n    </tr>\n    <tr>\n      <th>2325</th>\n      <td>0.591685</td>\n      <td>0.278713</td>\n      <td>0.442695</td>\n      <td>0.503900</td>\n      <td>0.638660</td>\n      <td>0.703094</td>\n      <td>0.736998</td>\n      <td>0.730659</td>\n      <td>0.670514</td>\n      <td>0.578775</td>\n      <td>...</td>\n      <td>0.650593</td>\n      <td>0.539832</td>\n      <td>0.442344</td>\n      <td>0.702610</td>\n      <td>0.425400</td>\n      <td>0.557155</td>\n      <td>0.680074</td>\n      <td>0.643721</td>\n      <td>0.203437</td>\n      <td>1.000000</td>\n    </tr>\n  </tbody>\n</table>\n<p>2326 rows × 2326 columns</p>\n</div>"
     },
     "execution_count": 7,
     "metadata": {},
     "output_type": "execute_result"
    }
   ],
   "source": [
    "df_cos"
   ],
   "metadata": {
    "collapsed": false,
    "pycharm": {
     "name": "#%%\n"
    }
   }
  },
  {
   "cell_type": "markdown",
   "source": [
    "## Slimmed bbc_data_view"
   ],
   "metadata": {
    "collapsed": false
   }
  },
  {
   "cell_type": "code",
   "execution_count": 20,
   "outputs": [],
   "source": [
    "df_bbc = pd.read_csv('./../data/BBC/bbc_data.csv', sep=';', index_col=0)\n",
    "df_img = pd.read_csv('./../data/BBC/bbc_images.csv', sep=';', index_col=0)"
   ],
   "metadata": {
    "collapsed": false,
    "pycharm": {
     "name": "#%%\n"
    }
   }
  },
  {
   "cell_type": "code",
   "execution_count": 21,
   "outputs": [
    {
     "data": {
      "text/plain": "   index                               title  \\\n0      0                           BBC Proms   \n1      1                                Port   \n2      2  Sit Down, Stand Up with Greg James   \n3      3         Ceiliúradh na Féile Pádraig   \n4      4                     Songs of Praise   \n\n                                         description  \\\n0  Australian tenor Stuart Skelton is joined by L...   \n1  Previously unseen music from the series Port, ...   \n2  Tom Holland and Greg James cold call celebrity...   \n3  John Toal and Pauline Scanlon introduce an eve...   \n4  Claire McCollum explores Edinburgh and shares ...   \n\n                                               image  \\\n0  https://ichef.bbci.co.uk/images/ic/{recipe}/p0...   \n1  https://ichef.bbci.co.uk/images/ic/{recipe}/p0...   \n2  https://ichef.bbci.co.uk/images/ic/{recipe}/p0...   \n3  https://ichef.bbci.co.uk/images/ic/{recipe}/p0...   \n4  https://ichef.bbci.co.uk/images/ic/{recipe}/p0...   \n\n                                            keywords  \\\n0  BBC, iPlayer, TV, BBC Proms, 2021: Last Night ...   \n1        BBC, iPlayer, TV, Port, Series 5: Episode 4   \n2  BBC, iPlayer, TV, Sit Down, Stand Up with Greg...   \n3      BBC, iPlayer, TV, Ceiliúradh na Féile Pádraig   \n4       BBC, iPlayer, TV, Songs of Praise, Edinburgh   \n\n                                              syno_s  \\\n0  Australian tenor Stuart Skelton is joined by L...   \n1  Previously unseen music from the series Port, ...   \n2  Tom Holland and Greg James cold call celebrity...   \n3  John Toal and Pauline Scanlon introduce an eve...   \n4  Claire McCollum explores Edinburgh and shares ...   \n\n                                              syno_m  \\\n0  Australian tenor Stuart Skelton is joined by L...   \n1  Julie Fowlis a’ lìbhrigeadh ceòl bhon t-sreath...   \n2  Tom Holland and Greg James cold call celebrity...   \n3  John Toal and Pauline Scanlon introduce an eve...   \n4  Claire McCollum goes on a Christian heritage t...   \n\n                                              syno_l       category  \\\n0  Katie Derham hosts continued live coverage fro...          Music   \n1  Bidh Druthag Bheag Eile a’ tarraing ri chèile ...          Music   \n2  Tom Holland and Greg James cold call celebrity...  Entertainment   \n3  John Toal and Pauline Scanlon introduce an eve...          Music   \n4  Claire McCollum explores Edinburgh and discove...          Music   \n\n                            channel language        release_date  \\\n0                   bbc_radio_three    False     9pm 11 Sep 2021   \n1                          bbc_alba    False          9 Jul 2020   \n2                     bbc_radio_one    False         10 Feb 2022   \n3  bbc_two_northern_ireland_digital    False         17 Mar 2017   \n4                           bbc_one    False  1:15pm 20 Feb 2022   \n\n   duration_sec                           topic  \\\n0          5247  ['music', 'from-the-archives']   \n1          1037                       ['music']   \n2           611      ['music', 'entertainment']   \n3          3538                       ['music']   \n4          2044          ['music', 'lifestyle']   \n\n                                      spacied_syno_l  \\\n0  Katie Derham hosts continued live coverage fro...   \n1  Bidh Druthag Bheag Eile a’ tarraing ri chèile ...   \n2  Tom Holland and Greg James cold call celebrity...   \n3  John Toal and Pauline Scanlon introduce an eve...   \n4  Claire McCollum explores Edinburgh and discove...   \n\n                                    processed_syno_l  \\\n0  ['Katie', 'Derham', 'host', 'continue', 'live'...   \n1  ['Bidh', 'Druthag', 'Bheag', 'Eile', 'tarraing...   \n2  ['Tom', 'Holland', 'Greg', 'James', 'cold', 'c...   \n3  ['John', 'Toal', 'Pauline', 'Scanlon', 'introd...   \n4  ['Claire', 'McCollum', 'explore', 'Edinburgh',...   \n\n                         processed_syno_l_one_string  k_means  \n0  Katie Derham host continue live coverage Royal...       11  \n1  Bidh Druthag Bheag Eile tarraing ri chèile pìo...        7  \n2  Tom Holland Greg James cold celebrity friend f...       10  \n3  John Toal Pauline Scanlon introduce evening mu...        7  \n4  Claire McCollum explore Edinburgh discover ric...        9  ",
      "text/html": "<div>\n<style scoped>\n    .dataframe tbody tr th:only-of-type {\n        vertical-align: middle;\n    }\n\n    .dataframe tbody tr th {\n        vertical-align: top;\n    }\n\n    .dataframe thead th {\n        text-align: right;\n    }\n</style>\n<table border=\"1\" class=\"dataframe\">\n  <thead>\n    <tr style=\"text-align: right;\">\n      <th></th>\n      <th>index</th>\n      <th>title</th>\n      <th>description</th>\n      <th>image</th>\n      <th>keywords</th>\n      <th>syno_s</th>\n      <th>syno_m</th>\n      <th>syno_l</th>\n      <th>category</th>\n      <th>channel</th>\n      <th>language</th>\n      <th>release_date</th>\n      <th>duration_sec</th>\n      <th>topic</th>\n      <th>spacied_syno_l</th>\n      <th>processed_syno_l</th>\n      <th>processed_syno_l_one_string</th>\n      <th>k_means</th>\n    </tr>\n  </thead>\n  <tbody>\n    <tr>\n      <th>0</th>\n      <td>0</td>\n      <td>BBC Proms</td>\n      <td>Australian tenor Stuart Skelton is joined by L...</td>\n      <td>https://ichef.bbci.co.uk/images/ic/{recipe}/p0...</td>\n      <td>BBC, iPlayer, TV, BBC Proms, 2021: Last Night ...</td>\n      <td>Australian tenor Stuart Skelton is joined by L...</td>\n      <td>Australian tenor Stuart Skelton is joined by L...</td>\n      <td>Katie Derham hosts continued live coverage fro...</td>\n      <td>Music</td>\n      <td>bbc_radio_three</td>\n      <td>False</td>\n      <td>9pm 11 Sep 2021</td>\n      <td>5247</td>\n      <td>['music', 'from-the-archives']</td>\n      <td>Katie Derham hosts continued live coverage fro...</td>\n      <td>['Katie', 'Derham', 'host', 'continue', 'live'...</td>\n      <td>Katie Derham host continue live coverage Royal...</td>\n      <td>11</td>\n    </tr>\n    <tr>\n      <th>1</th>\n      <td>1</td>\n      <td>Port</td>\n      <td>Previously unseen music from the series Port, ...</td>\n      <td>https://ichef.bbci.co.uk/images/ic/{recipe}/p0...</td>\n      <td>BBC, iPlayer, TV, Port, Series 5: Episode 4</td>\n      <td>Previously unseen music from the series Port, ...</td>\n      <td>Julie Fowlis a’ lìbhrigeadh ceòl bhon t-sreath...</td>\n      <td>Bidh Druthag Bheag Eile a’ tarraing ri chèile ...</td>\n      <td>Music</td>\n      <td>bbc_alba</td>\n      <td>False</td>\n      <td>9 Jul 2020</td>\n      <td>1037</td>\n      <td>['music']</td>\n      <td>Bidh Druthag Bheag Eile a’ tarraing ri chèile ...</td>\n      <td>['Bidh', 'Druthag', 'Bheag', 'Eile', 'tarraing...</td>\n      <td>Bidh Druthag Bheag Eile tarraing ri chèile pìo...</td>\n      <td>7</td>\n    </tr>\n    <tr>\n      <th>2</th>\n      <td>2</td>\n      <td>Sit Down, Stand Up with Greg James</td>\n      <td>Tom Holland and Greg James cold call celebrity...</td>\n      <td>https://ichef.bbci.co.uk/images/ic/{recipe}/p0...</td>\n      <td>BBC, iPlayer, TV, Sit Down, Stand Up with Greg...</td>\n      <td>Tom Holland and Greg James cold call celebrity...</td>\n      <td>Tom Holland and Greg James cold call celebrity...</td>\n      <td>Tom Holland and Greg James cold call celebrity...</td>\n      <td>Entertainment</td>\n      <td>bbc_radio_one</td>\n      <td>False</td>\n      <td>10 Feb 2022</td>\n      <td>611</td>\n      <td>['music', 'entertainment']</td>\n      <td>Tom Holland and Greg James cold call celebrity...</td>\n      <td>['Tom', 'Holland', 'Greg', 'James', 'cold', 'c...</td>\n      <td>Tom Holland Greg James cold celebrity friend f...</td>\n      <td>10</td>\n    </tr>\n    <tr>\n      <th>3</th>\n      <td>3</td>\n      <td>Ceiliúradh na Féile Pádraig</td>\n      <td>John Toal and Pauline Scanlon introduce an eve...</td>\n      <td>https://ichef.bbci.co.uk/images/ic/{recipe}/p0...</td>\n      <td>BBC, iPlayer, TV, Ceiliúradh na Féile Pádraig</td>\n      <td>John Toal and Pauline Scanlon introduce an eve...</td>\n      <td>John Toal and Pauline Scanlon introduce an eve...</td>\n      <td>John Toal and Pauline Scanlon introduce an eve...</td>\n      <td>Music</td>\n      <td>bbc_two_northern_ireland_digital</td>\n      <td>False</td>\n      <td>17 Mar 2017</td>\n      <td>3538</td>\n      <td>['music']</td>\n      <td>John Toal and Pauline Scanlon introduce an eve...</td>\n      <td>['John', 'Toal', 'Pauline', 'Scanlon', 'introd...</td>\n      <td>John Toal Pauline Scanlon introduce evening mu...</td>\n      <td>7</td>\n    </tr>\n    <tr>\n      <th>4</th>\n      <td>4</td>\n      <td>Songs of Praise</td>\n      <td>Claire McCollum explores Edinburgh and shares ...</td>\n      <td>https://ichef.bbci.co.uk/images/ic/{recipe}/p0...</td>\n      <td>BBC, iPlayer, TV, Songs of Praise, Edinburgh</td>\n      <td>Claire McCollum explores Edinburgh and shares ...</td>\n      <td>Claire McCollum goes on a Christian heritage t...</td>\n      <td>Claire McCollum explores Edinburgh and discove...</td>\n      <td>Music</td>\n      <td>bbc_one</td>\n      <td>False</td>\n      <td>1:15pm 20 Feb 2022</td>\n      <td>2044</td>\n      <td>['music', 'lifestyle']</td>\n      <td>Claire McCollum explores Edinburgh and discove...</td>\n      <td>['Claire', 'McCollum', 'explore', 'Edinburgh',...</td>\n      <td>Claire McCollum explore Edinburgh discover ric...</td>\n      <td>9</td>\n    </tr>\n  </tbody>\n</table>\n</div>"
     },
     "execution_count": 21,
     "metadata": {},
     "output_type": "execute_result"
    }
   ],
   "source": [
    "df_bbc.head()"
   ],
   "metadata": {
    "collapsed": false,
    "pycharm": {
     "name": "#%%\n"
    }
   }
  },
  {
   "cell_type": "code",
   "execution_count": 22,
   "outputs": [
    {
     "data": {
      "text/plain": "   index                                              image  \\\n0      0  https://ichef.bbci.co.uk/images/ic/{recipe}/p0...   \n1      1  https://ichef.bbci.co.uk/images/ic/{recipe}/p0...   \n2      2  https://ichef.bbci.co.uk/images/ic/{recipe}/p0...   \n3      3  https://ichef.bbci.co.uk/images/ic/{recipe}/p0...   \n4      4  https://ichef.bbci.co.uk/images/ic/{recipe}/p0...   \n\n                                             image_s  \\\n0  https://ichef.bbci.co.uk/images/ic/192x108/p09...   \n1  https://ichef.bbci.co.uk/images/ic/192x108/p08...   \n2  https://ichef.bbci.co.uk/images/ic/192x108/p0b...   \n3  https://ichef.bbci.co.uk/images/ic/192x108/p04...   \n4  https://ichef.bbci.co.uk/images/ic/192x108/p0b...   \n\n                                             image_m  \\\n0  https://ichef.bbci.co.uk/images/ic/288x162/p09...   \n1  https://ichef.bbci.co.uk/images/ic/288x162/p08...   \n2  https://ichef.bbci.co.uk/images/ic/288x162/p0b...   \n3  https://ichef.bbci.co.uk/images/ic/288x162/p04...   \n4  https://ichef.bbci.co.uk/images/ic/288x162/p0b...   \n\n                                             image_l  \n0  https://ichef.bbci.co.uk/images/ic/352x198/p09...  \n1  https://ichef.bbci.co.uk/images/ic/352x198/p08...  \n2  https://ichef.bbci.co.uk/images/ic/352x198/p0b...  \n3  https://ichef.bbci.co.uk/images/ic/352x198/p04...  \n4  https://ichef.bbci.co.uk/images/ic/352x198/p0b...  ",
      "text/html": "<div>\n<style scoped>\n    .dataframe tbody tr th:only-of-type {\n        vertical-align: middle;\n    }\n\n    .dataframe tbody tr th {\n        vertical-align: top;\n    }\n\n    .dataframe thead th {\n        text-align: right;\n    }\n</style>\n<table border=\"1\" class=\"dataframe\">\n  <thead>\n    <tr style=\"text-align: right;\">\n      <th></th>\n      <th>index</th>\n      <th>image</th>\n      <th>image_s</th>\n      <th>image_m</th>\n      <th>image_l</th>\n    </tr>\n  </thead>\n  <tbody>\n    <tr>\n      <th>0</th>\n      <td>0</td>\n      <td>https://ichef.bbci.co.uk/images/ic/{recipe}/p0...</td>\n      <td>https://ichef.bbci.co.uk/images/ic/192x108/p09...</td>\n      <td>https://ichef.bbci.co.uk/images/ic/288x162/p09...</td>\n      <td>https://ichef.bbci.co.uk/images/ic/352x198/p09...</td>\n    </tr>\n    <tr>\n      <th>1</th>\n      <td>1</td>\n      <td>https://ichef.bbci.co.uk/images/ic/{recipe}/p0...</td>\n      <td>https://ichef.bbci.co.uk/images/ic/192x108/p08...</td>\n      <td>https://ichef.bbci.co.uk/images/ic/288x162/p08...</td>\n      <td>https://ichef.bbci.co.uk/images/ic/352x198/p08...</td>\n    </tr>\n    <tr>\n      <th>2</th>\n      <td>2</td>\n      <td>https://ichef.bbci.co.uk/images/ic/{recipe}/p0...</td>\n      <td>https://ichef.bbci.co.uk/images/ic/192x108/p0b...</td>\n      <td>https://ichef.bbci.co.uk/images/ic/288x162/p0b...</td>\n      <td>https://ichef.bbci.co.uk/images/ic/352x198/p0b...</td>\n    </tr>\n    <tr>\n      <th>3</th>\n      <td>3</td>\n      <td>https://ichef.bbci.co.uk/images/ic/{recipe}/p0...</td>\n      <td>https://ichef.bbci.co.uk/images/ic/192x108/p04...</td>\n      <td>https://ichef.bbci.co.uk/images/ic/288x162/p04...</td>\n      <td>https://ichef.bbci.co.uk/images/ic/352x198/p04...</td>\n    </tr>\n    <tr>\n      <th>4</th>\n      <td>4</td>\n      <td>https://ichef.bbci.co.uk/images/ic/{recipe}/p0...</td>\n      <td>https://ichef.bbci.co.uk/images/ic/192x108/p0b...</td>\n      <td>https://ichef.bbci.co.uk/images/ic/288x162/p0b...</td>\n      <td>https://ichef.bbci.co.uk/images/ic/352x198/p0b...</td>\n    </tr>\n  </tbody>\n</table>\n</div>"
     },
     "execution_count": 22,
     "metadata": {},
     "output_type": "execute_result"
    }
   ],
   "source": [
    "df_img.head()"
   ],
   "metadata": {
    "collapsed": false,
    "pycharm": {
     "name": "#%%\n"
    }
   }
  },
  {
   "cell_type": "code",
   "execution_count": 23,
   "outputs": [],
   "source": [
    "df_bbc_merg = pd.merge(df_bbc, df_img, on='index')"
   ],
   "metadata": {
    "collapsed": false,
    "pycharm": {
     "name": "#%%\n"
    }
   }
  },
  {
   "cell_type": "code",
   "execution_count": 24,
   "outputs": [
    {
     "data": {
      "text/plain": "      index                               title  \\\n0         0                           BBC Proms   \n1         1                                Port   \n2         2  Sit Down, Stand Up with Greg James   \n3         3         Ceiliúradh na Féile Pádraig   \n4         4                     Songs of Praise   \n...     ...                                 ...   \n2321   3777           Models: Street to Catwalk   \n2322   3789                   Death On The I-95   \n2323   3793        Do Black Lives Still Matter?   \n2324   3797                        Ar An Sliabh   \n2325   3800                Avicii: True Stories   \n\n                                            description       category  \\\n0     Australian tenor Stuart Skelton is joined by L...          Music   \n1     Previously unseen music from the series Port, ...          Music   \n2     Tom Holland and Greg James cold call celebrity...  Entertainment   \n3     John Toal and Pauline Scanlon introduce an eve...          Music   \n4     Claire McCollum explores Edinburgh and shares ...          Music   \n...                                                 ...            ...   \n2321  Kyra’s late arrival puts her modelling career ...    Documentary   \n2322  Returning to the US to find out what happened ...    Documentary   \n2323  Grime artist Saskilla asks, can the music indu...    Documentary   \n2324  Paul packs up to return to his native Armagh a...    Documentary   \n2325  Avicii: True Stories is Tim Bergling’s own sto...    Documentary   \n\n                               channel  k_means  \\\n0                      bbc_radio_three       11   \n1                             bbc_alba        7   \n2                        bbc_radio_one       10   \n3     bbc_two_northern_ireland_digital        7   \n4                              bbc_one        9   \n...                                ...      ...   \n2321                         bbc_three        9   \n2322                         bbc_three        1   \n2323                         bbc_three       11   \n2324                       bbc_webonly        7   \n2325                         bbc_three        9   \n\n                                                image_l  \n0     https://ichef.bbci.co.uk/images/ic/352x198/p09...  \n1     https://ichef.bbci.co.uk/images/ic/352x198/p08...  \n2     https://ichef.bbci.co.uk/images/ic/352x198/p0b...  \n3     https://ichef.bbci.co.uk/images/ic/352x198/p04...  \n4     https://ichef.bbci.co.uk/images/ic/352x198/p0b...  \n...                                                 ...  \n2321  https://ichef.bbci.co.uk/images/ic/352x198/p09...  \n2322  https://ichef.bbci.co.uk/images/ic/352x198/p07...  \n2323  https://ichef.bbci.co.uk/images/ic/352x198/p09...  \n2324  https://ichef.bbci.co.uk/images/ic/352x198/p0b...  \n2325  https://ichef.bbci.co.uk/images/ic/352x198/p07...  \n\n[2326 rows x 7 columns]",
      "text/html": "<div>\n<style scoped>\n    .dataframe tbody tr th:only-of-type {\n        vertical-align: middle;\n    }\n\n    .dataframe tbody tr th {\n        vertical-align: top;\n    }\n\n    .dataframe thead th {\n        text-align: right;\n    }\n</style>\n<table border=\"1\" class=\"dataframe\">\n  <thead>\n    <tr style=\"text-align: right;\">\n      <th></th>\n      <th>index</th>\n      <th>title</th>\n      <th>description</th>\n      <th>category</th>\n      <th>channel</th>\n      <th>k_means</th>\n      <th>image_l</th>\n    </tr>\n  </thead>\n  <tbody>\n    <tr>\n      <th>0</th>\n      <td>0</td>\n      <td>BBC Proms</td>\n      <td>Australian tenor Stuart Skelton is joined by L...</td>\n      <td>Music</td>\n      <td>bbc_radio_three</td>\n      <td>11</td>\n      <td>https://ichef.bbci.co.uk/images/ic/352x198/p09...</td>\n    </tr>\n    <tr>\n      <th>1</th>\n      <td>1</td>\n      <td>Port</td>\n      <td>Previously unseen music from the series Port, ...</td>\n      <td>Music</td>\n      <td>bbc_alba</td>\n      <td>7</td>\n      <td>https://ichef.bbci.co.uk/images/ic/352x198/p08...</td>\n    </tr>\n    <tr>\n      <th>2</th>\n      <td>2</td>\n      <td>Sit Down, Stand Up with Greg James</td>\n      <td>Tom Holland and Greg James cold call celebrity...</td>\n      <td>Entertainment</td>\n      <td>bbc_radio_one</td>\n      <td>10</td>\n      <td>https://ichef.bbci.co.uk/images/ic/352x198/p0b...</td>\n    </tr>\n    <tr>\n      <th>3</th>\n      <td>3</td>\n      <td>Ceiliúradh na Féile Pádraig</td>\n      <td>John Toal and Pauline Scanlon introduce an eve...</td>\n      <td>Music</td>\n      <td>bbc_two_northern_ireland_digital</td>\n      <td>7</td>\n      <td>https://ichef.bbci.co.uk/images/ic/352x198/p04...</td>\n    </tr>\n    <tr>\n      <th>4</th>\n      <td>4</td>\n      <td>Songs of Praise</td>\n      <td>Claire McCollum explores Edinburgh and shares ...</td>\n      <td>Music</td>\n      <td>bbc_one</td>\n      <td>9</td>\n      <td>https://ichef.bbci.co.uk/images/ic/352x198/p0b...</td>\n    </tr>\n    <tr>\n      <th>...</th>\n      <td>...</td>\n      <td>...</td>\n      <td>...</td>\n      <td>...</td>\n      <td>...</td>\n      <td>...</td>\n      <td>...</td>\n    </tr>\n    <tr>\n      <th>2321</th>\n      <td>3777</td>\n      <td>Models: Street to Catwalk</td>\n      <td>Kyra’s late arrival puts her modelling career ...</td>\n      <td>Documentary</td>\n      <td>bbc_three</td>\n      <td>9</td>\n      <td>https://ichef.bbci.co.uk/images/ic/352x198/p09...</td>\n    </tr>\n    <tr>\n      <th>2322</th>\n      <td>3789</td>\n      <td>Death On The I-95</td>\n      <td>Returning to the US to find out what happened ...</td>\n      <td>Documentary</td>\n      <td>bbc_three</td>\n      <td>1</td>\n      <td>https://ichef.bbci.co.uk/images/ic/352x198/p07...</td>\n    </tr>\n    <tr>\n      <th>2323</th>\n      <td>3793</td>\n      <td>Do Black Lives Still Matter?</td>\n      <td>Grime artist Saskilla asks, can the music indu...</td>\n      <td>Documentary</td>\n      <td>bbc_three</td>\n      <td>11</td>\n      <td>https://ichef.bbci.co.uk/images/ic/352x198/p09...</td>\n    </tr>\n    <tr>\n      <th>2324</th>\n      <td>3797</td>\n      <td>Ar An Sliabh</td>\n      <td>Paul packs up to return to his native Armagh a...</td>\n      <td>Documentary</td>\n      <td>bbc_webonly</td>\n      <td>7</td>\n      <td>https://ichef.bbci.co.uk/images/ic/352x198/p0b...</td>\n    </tr>\n    <tr>\n      <th>2325</th>\n      <td>3800</td>\n      <td>Avicii: True Stories</td>\n      <td>Avicii: True Stories is Tim Bergling’s own sto...</td>\n      <td>Documentary</td>\n      <td>bbc_three</td>\n      <td>9</td>\n      <td>https://ichef.bbci.co.uk/images/ic/352x198/p07...</td>\n    </tr>\n  </tbody>\n</table>\n<p>2326 rows × 7 columns</p>\n</div>"
     },
     "execution_count": 24,
     "metadata": {},
     "output_type": "execute_result"
    }
   ],
   "source": [
    "df_bbc_slim = df_bbc_merg.iloc[:, [0, 1, 2, 8, 9, 17, 21]]\n",
    "df_bbc_slim"
   ],
   "metadata": {
    "collapsed": false,
    "pycharm": {
     "name": "#%%\n"
    }
   }
  },
  {
   "cell_type": "code",
   "execution_count": 25,
   "outputs": [],
   "source": [
    "df_bbc_slim.columns = ['index', 'title', 'description', 'category', 'channel', 'adv_category', 'img']"
   ],
   "metadata": {
    "collapsed": false,
    "pycharm": {
     "name": "#%%\n"
    }
   }
  },
  {
   "cell_type": "code",
   "execution_count": 41,
   "outputs": [],
   "source": [
    "df_bbc_slim = df_bbc_slim.reset_index().iloc[:, [0, 2,3,4,5,6, 7]]"
   ],
   "metadata": {
    "collapsed": false,
    "pycharm": {
     "name": "#%%\n"
    }
   }
  },
  {
   "cell_type": "code",
   "execution_count": 42,
   "outputs": [],
   "source": [
    "df_bbc_slim.columns = ['index', 'title', 'description', 'category', 'channel', 'adv_category', 'img']"
   ],
   "metadata": {
    "collapsed": false,
    "pycharm": {
     "name": "#%%\n"
    }
   }
  },
  {
   "cell_type": "code",
   "execution_count": 43,
   "outputs": [],
   "source": [
    "# df_bbc_slim.to_csv('./../data/BBC/bbc_data_slim.csv')"
   ],
   "metadata": {
    "collapsed": false,
    "pycharm": {
     "name": "#%%\n"
    }
   }
  },
  {
   "cell_type": "code",
   "execution_count": 77,
   "outputs": [
    {
     "data": {
      "text/plain": "3       0.671965\n172     0.639252\n183     0.628866\n749     0.625085\n192     0.621512\n          ...   \n1639    0.229174\n2080    0.211944\n935     0.205230\n2055    0.195554\n1385    0.175631\nName: combined, Length: 2326, dtype: float64"
     },
     "execution_count": 77,
     "metadata": {},
     "output_type": "execute_result"
    }
   ],
   "source": [
    "combined = df_cos.iloc[:,[1,2,3]]\n",
    "df_cos['combined'] = combined.mean(axis=1)\n",
    "df_cos['combined'].sort_values(ascending=False)"
   ],
   "metadata": {
    "collapsed": false,
    "pycharm": {
     "name": "#%%\n"
    }
   }
  },
  {
   "cell_type": "code",
   "execution_count": 86,
   "outputs": [
    {
     "data": {
      "text/plain": "    Unnamed: 0         0         1         2         3         4         5  \\\n1            1  0.464569  1.000000  0.276400  0.500826  0.409278  0.324603   \n2            2  0.456215  0.276400  1.000000  0.515068  0.463887  0.565514   \n3            3  0.759457  0.500826  0.515068  1.000000  0.622449  0.738313   \n4            4  0.752888  0.409278  0.463887  0.622449  1.000000  0.705579   \n5            5  0.817963  0.324603  0.565514  0.738313  0.705579  1.000000   \n..         ...       ...       ...       ...       ...       ...       ...   \n95          95  0.650923  0.324623  0.458271  0.536036  0.728032  0.712740   \n96          96  0.609318  0.285616  0.438013  0.532466  0.698091  0.641838   \n97          97  0.737199  0.291181  0.498639  0.608746  0.720109  0.864829   \n98          98  0.750932  0.635492  0.430954  0.715362  0.635712  0.664503   \n99          99  0.783171  0.475602  0.473713  0.691982  0.687798  0.680615   \n\n           6         7         8  ...      2316      2317      2318      2319  \\\n1   0.260997  0.318547  0.332594  ...  0.237382  0.313001  0.229477  0.322347   \n2   0.456465  0.480797  0.404655  ...  0.509228  0.466864  0.372347  0.358217   \n3   0.668563  0.714047  0.395446  ...  0.470608  0.398964  0.345343  0.394587   \n4   0.671373  0.769527  0.730229  ...  0.576755  0.506818  0.439136  0.587217   \n5   0.853889  0.792876  0.535997  ...  0.557160  0.461945  0.336006  0.531765   \n..       ...       ...       ...  ...       ...       ...       ...       ...   \n95  0.723246  0.789703  0.699495  ...  0.573552  0.506305  0.389653  0.661572   \n96  0.629867  0.699402  0.644056  ...  0.488548  0.369026  0.362290  0.524622   \n97  0.825857  0.818352  0.657735  ...  0.679491  0.570903  0.383951  0.659221   \n98  0.649895  0.662768  0.471371  ...  0.372842  0.410879  0.306685  0.407787   \n99  0.723147  0.815812  0.605393  ...  0.393215  0.448816  0.400361  0.454909   \n\n        2320      2321      2322      2323      2324      2325  \n1   0.442119  0.175973  0.237692  0.267875  0.877725  0.278713  \n2   0.302932  0.401385  0.337785  0.541091  0.310047  0.442695  \n3   0.494136  0.348407  0.325590  0.466440  0.511251  0.503900  \n4   0.748822  0.580583  0.526698  0.634509  0.369326  0.638660  \n5   0.459272  0.467882  0.464923  0.596023  0.296917  0.703094  \n..       ...       ...       ...       ...       ...       ...  \n95  0.553825  0.572377  0.643866  0.615163  0.261735  0.823727  \n96  0.545288  0.472625  0.571902  0.614720  0.247530  0.672521  \n97  0.476024  0.589684  0.632455  0.652837  0.223825  0.830106  \n98  0.514606  0.395784  0.371811  0.401731  0.639460  0.483331  \n99  0.590006  0.423053  0.429001  0.491381  0.418946  0.593602  \n\n[99 rows x 2327 columns]",
      "text/html": "<div>\n<style scoped>\n    .dataframe tbody tr th:only-of-type {\n        vertical-align: middle;\n    }\n\n    .dataframe tbody tr th {\n        vertical-align: top;\n    }\n\n    .dataframe thead th {\n        text-align: right;\n    }\n</style>\n<table border=\"1\" class=\"dataframe\">\n  <thead>\n    <tr style=\"text-align: right;\">\n      <th></th>\n      <th>Unnamed: 0</th>\n      <th>0</th>\n      <th>1</th>\n      <th>2</th>\n      <th>3</th>\n      <th>4</th>\n      <th>5</th>\n      <th>6</th>\n      <th>7</th>\n      <th>8</th>\n      <th>...</th>\n      <th>2316</th>\n      <th>2317</th>\n      <th>2318</th>\n      <th>2319</th>\n      <th>2320</th>\n      <th>2321</th>\n      <th>2322</th>\n      <th>2323</th>\n      <th>2324</th>\n      <th>2325</th>\n    </tr>\n  </thead>\n  <tbody>\n    <tr>\n      <th>1</th>\n      <td>1</td>\n      <td>0.464569</td>\n      <td>1.000000</td>\n      <td>0.276400</td>\n      <td>0.500826</td>\n      <td>0.409278</td>\n      <td>0.324603</td>\n      <td>0.260997</td>\n      <td>0.318547</td>\n      <td>0.332594</td>\n      <td>...</td>\n      <td>0.237382</td>\n      <td>0.313001</td>\n      <td>0.229477</td>\n      <td>0.322347</td>\n      <td>0.442119</td>\n      <td>0.175973</td>\n      <td>0.237692</td>\n      <td>0.267875</td>\n      <td>0.877725</td>\n      <td>0.278713</td>\n    </tr>\n    <tr>\n      <th>2</th>\n      <td>2</td>\n      <td>0.456215</td>\n      <td>0.276400</td>\n      <td>1.000000</td>\n      <td>0.515068</td>\n      <td>0.463887</td>\n      <td>0.565514</td>\n      <td>0.456465</td>\n      <td>0.480797</td>\n      <td>0.404655</td>\n      <td>...</td>\n      <td>0.509228</td>\n      <td>0.466864</td>\n      <td>0.372347</td>\n      <td>0.358217</td>\n      <td>0.302932</td>\n      <td>0.401385</td>\n      <td>0.337785</td>\n      <td>0.541091</td>\n      <td>0.310047</td>\n      <td>0.442695</td>\n    </tr>\n    <tr>\n      <th>3</th>\n      <td>3</td>\n      <td>0.759457</td>\n      <td>0.500826</td>\n      <td>0.515068</td>\n      <td>1.000000</td>\n      <td>0.622449</td>\n      <td>0.738313</td>\n      <td>0.668563</td>\n      <td>0.714047</td>\n      <td>0.395446</td>\n      <td>...</td>\n      <td>0.470608</td>\n      <td>0.398964</td>\n      <td>0.345343</td>\n      <td>0.394587</td>\n      <td>0.494136</td>\n      <td>0.348407</td>\n      <td>0.325590</td>\n      <td>0.466440</td>\n      <td>0.511251</td>\n      <td>0.503900</td>\n    </tr>\n    <tr>\n      <th>4</th>\n      <td>4</td>\n      <td>0.752888</td>\n      <td>0.409278</td>\n      <td>0.463887</td>\n      <td>0.622449</td>\n      <td>1.000000</td>\n      <td>0.705579</td>\n      <td>0.671373</td>\n      <td>0.769527</td>\n      <td>0.730229</td>\n      <td>...</td>\n      <td>0.576755</td>\n      <td>0.506818</td>\n      <td>0.439136</td>\n      <td>0.587217</td>\n      <td>0.748822</td>\n      <td>0.580583</td>\n      <td>0.526698</td>\n      <td>0.634509</td>\n      <td>0.369326</td>\n      <td>0.638660</td>\n    </tr>\n    <tr>\n      <th>5</th>\n      <td>5</td>\n      <td>0.817963</td>\n      <td>0.324603</td>\n      <td>0.565514</td>\n      <td>0.738313</td>\n      <td>0.705579</td>\n      <td>1.000000</td>\n      <td>0.853889</td>\n      <td>0.792876</td>\n      <td>0.535997</td>\n      <td>...</td>\n      <td>0.557160</td>\n      <td>0.461945</td>\n      <td>0.336006</td>\n      <td>0.531765</td>\n      <td>0.459272</td>\n      <td>0.467882</td>\n      <td>0.464923</td>\n      <td>0.596023</td>\n      <td>0.296917</td>\n      <td>0.703094</td>\n    </tr>\n    <tr>\n      <th>...</th>\n      <td>...</td>\n      <td>...</td>\n      <td>...</td>\n      <td>...</td>\n      <td>...</td>\n      <td>...</td>\n      <td>...</td>\n      <td>...</td>\n      <td>...</td>\n      <td>...</td>\n      <td>...</td>\n      <td>...</td>\n      <td>...</td>\n      <td>...</td>\n      <td>...</td>\n      <td>...</td>\n      <td>...</td>\n      <td>...</td>\n      <td>...</td>\n      <td>...</td>\n      <td>...</td>\n    </tr>\n    <tr>\n      <th>95</th>\n      <td>95</td>\n      <td>0.650923</td>\n      <td>0.324623</td>\n      <td>0.458271</td>\n      <td>0.536036</td>\n      <td>0.728032</td>\n      <td>0.712740</td>\n      <td>0.723246</td>\n      <td>0.789703</td>\n      <td>0.699495</td>\n      <td>...</td>\n      <td>0.573552</td>\n      <td>0.506305</td>\n      <td>0.389653</td>\n      <td>0.661572</td>\n      <td>0.553825</td>\n      <td>0.572377</td>\n      <td>0.643866</td>\n      <td>0.615163</td>\n      <td>0.261735</td>\n      <td>0.823727</td>\n    </tr>\n    <tr>\n      <th>96</th>\n      <td>96</td>\n      <td>0.609318</td>\n      <td>0.285616</td>\n      <td>0.438013</td>\n      <td>0.532466</td>\n      <td>0.698091</td>\n      <td>0.641838</td>\n      <td>0.629867</td>\n      <td>0.699402</td>\n      <td>0.644056</td>\n      <td>...</td>\n      <td>0.488548</td>\n      <td>0.369026</td>\n      <td>0.362290</td>\n      <td>0.524622</td>\n      <td>0.545288</td>\n      <td>0.472625</td>\n      <td>0.571902</td>\n      <td>0.614720</td>\n      <td>0.247530</td>\n      <td>0.672521</td>\n    </tr>\n    <tr>\n      <th>97</th>\n      <td>97</td>\n      <td>0.737199</td>\n      <td>0.291181</td>\n      <td>0.498639</td>\n      <td>0.608746</td>\n      <td>0.720109</td>\n      <td>0.864829</td>\n      <td>0.825857</td>\n      <td>0.818352</td>\n      <td>0.657735</td>\n      <td>...</td>\n      <td>0.679491</td>\n      <td>0.570903</td>\n      <td>0.383951</td>\n      <td>0.659221</td>\n      <td>0.476024</td>\n      <td>0.589684</td>\n      <td>0.632455</td>\n      <td>0.652837</td>\n      <td>0.223825</td>\n      <td>0.830106</td>\n    </tr>\n    <tr>\n      <th>98</th>\n      <td>98</td>\n      <td>0.750932</td>\n      <td>0.635492</td>\n      <td>0.430954</td>\n      <td>0.715362</td>\n      <td>0.635712</td>\n      <td>0.664503</td>\n      <td>0.649895</td>\n      <td>0.662768</td>\n      <td>0.471371</td>\n      <td>...</td>\n      <td>0.372842</td>\n      <td>0.410879</td>\n      <td>0.306685</td>\n      <td>0.407787</td>\n      <td>0.514606</td>\n      <td>0.395784</td>\n      <td>0.371811</td>\n      <td>0.401731</td>\n      <td>0.639460</td>\n      <td>0.483331</td>\n    </tr>\n    <tr>\n      <th>99</th>\n      <td>99</td>\n      <td>0.783171</td>\n      <td>0.475602</td>\n      <td>0.473713</td>\n      <td>0.691982</td>\n      <td>0.687798</td>\n      <td>0.680615</td>\n      <td>0.723147</td>\n      <td>0.815812</td>\n      <td>0.605393</td>\n      <td>...</td>\n      <td>0.393215</td>\n      <td>0.448816</td>\n      <td>0.400361</td>\n      <td>0.454909</td>\n      <td>0.590006</td>\n      <td>0.423053</td>\n      <td>0.429001</td>\n      <td>0.491381</td>\n      <td>0.418946</td>\n      <td>0.593602</td>\n    </tr>\n  </tbody>\n</table>\n<p>99 rows × 2327 columns</p>\n</div>"
     },
     "execution_count": 86,
     "metadata": {},
     "output_type": "execute_result"
    }
   ],
   "source": [
    "df.iloc[df_img.iloc[1:100].index]"
   ],
   "metadata": {
    "collapsed": false,
    "pycharm": {
     "name": "#%%\n"
    }
   }
  },
  {
   "cell_type": "code",
   "execution_count": 89,
   "outputs": [
    {
     "data": {
      "text/plain": "      index                               title  \\\n0         0                           BBC Proms   \n1         1                                Port   \n2         2  Sit Down, Stand Up with Greg James   \n3         3         Ceiliúradh na Féile Pádraig   \n4         4                     Songs of Praise   \n...     ...                                 ...   \n3777   3777           Models: Street to Catwalk   \n3789   3789                   Death On The I-95   \n3793   3793        Do Black Lives Still Matter?   \n3797   3797                        Ar An Sliabh   \n3800   3800                Avicii: True Stories   \n\n                                            description  \\\n0     Australian tenor Stuart Skelton is joined by L...   \n1     Previously unseen music from the series Port, ...   \n2     Tom Holland and Greg James cold call celebrity...   \n3     John Toal and Pauline Scanlon introduce an eve...   \n4     Claire McCollum explores Edinburgh and shares ...   \n...                                                 ...   \n3777  Kyra’s late arrival puts her modelling career ...   \n3789  Returning to the US to find out what happened ...   \n3793  Grime artist Saskilla asks, can the music indu...   \n3797  Paul packs up to return to his native Armagh a...   \n3800  Avicii: True Stories is Tim Bergling’s own sto...   \n\n                                                  image  \\\n0     https://ichef.bbci.co.uk/images/ic/{recipe}/p0...   \n1     https://ichef.bbci.co.uk/images/ic/{recipe}/p0...   \n2     https://ichef.bbci.co.uk/images/ic/{recipe}/p0...   \n3     https://ichef.bbci.co.uk/images/ic/{recipe}/p0...   \n4     https://ichef.bbci.co.uk/images/ic/{recipe}/p0...   \n...                                                 ...   \n3777  https://ichef.bbci.co.uk/images/ic/{recipe}/p0...   \n3789  https://ichef.bbci.co.uk/images/ic/{recipe}/p0...   \n3793  https://ichef.bbci.co.uk/images/ic/{recipe}/p0...   \n3797  https://ichef.bbci.co.uk/images/ic/{recipe}/p0...   \n3800  https://ichef.bbci.co.uk/images/ic/{recipe}/p0...   \n\n                                               keywords  \\\n0     BBC, iPlayer, TV, BBC Proms, 2021: Last Night ...   \n1           BBC, iPlayer, TV, Port, Series 5: Episode 4   \n2     BBC, iPlayer, TV, Sit Down, Stand Up with Greg...   \n3         BBC, iPlayer, TV, Ceiliúradh na Féile Pádraig   \n4          BBC, iPlayer, TV, Songs of Praise, Edinburgh   \n...                                                 ...   \n3777  BBC, iPlayer, TV, Models: Street to Catwalk, S...   \n3789                BBC, iPlayer, TV, Death On The I-95   \n3793  BBC, iPlayer, TV, Do Black Lives Still Matter?...   \n3797  BBC, iPlayer, TV, Ar An Sliabh, Series 1: Epis...   \n3800             BBC, iPlayer, TV, Avicii: True Stories   \n\n                                                 syno_s  \\\n0     Australian tenor Stuart Skelton is joined by L...   \n1     Previously unseen music from the series Port, ...   \n2     Tom Holland and Greg James cold call celebrity...   \n3     John Toal and Pauline Scanlon introduce an eve...   \n4     Claire McCollum explores Edinburgh and shares ...   \n...                                                 ...   \n3777  Kyra’s late arrival puts her modelling career ...   \n3789  Returning to the US to find out what happened ...   \n3793  Grime artist Saskilla asks, can the music indu...   \n3797  Paul packs up to return to his native Armagh a...   \n3800  Avicii: True Stories is Tim Bergling’s own sto...   \n\n                                                 syno_m  \\\n0     Australian tenor Stuart Skelton is joined by L...   \n1     Julie Fowlis a’ lìbhrigeadh ceòl bhon t-sreath...   \n2     Tom Holland and Greg James cold call celebrity...   \n3     John Toal and Pauline Scanlon introduce an eve...   \n4     Claire McCollum goes on a Christian heritage t...   \n...                                                 ...   \n3777  Kyra jeopardises her modelling career by turni...   \n3789  Following a report on the growing problem of o...   \n3793  The music industry pledged millions in support...   \n3797  Paul packs up to return to his native Armagh a...   \n3800  Avicii: True Stories is Tim Bergling’s own sto...   \n\n                                                 syno_l       category  \\\n0     Katie Derham hosts continued live coverage fro...          Music   \n1     Bidh Druthag Bheag Eile a’ tarraing ri chèile ...          Music   \n2     Tom Holland and Greg James cold call celebrity...  Entertainment   \n3     John Toal and Pauline Scanlon introduce an eve...          Music   \n4     Claire McCollum explores Edinburgh and discove...          Music   \n...                                                 ...            ...   \n3777  How will Kyra cope after a train malfunction m...    Documentary   \n3789  Drug overdose is now the main cause of death f...    Documentary   \n3793  The music industry reacted with a surge of out...    Documentary   \n3797  I Sliabh Eachtaí, tá Cérill ag déanamh réidh d...    Documentary   \n3800  In 2006, Tim Bergling was just a regular teena...    Documentary   \n\n                               channel  \\\n0                      bbc_radio_three   \n1                             bbc_alba   \n2                        bbc_radio_one   \n3     bbc_two_northern_ireland_digital   \n4                              bbc_one   \n...                                ...   \n3777                         bbc_three   \n3789                         bbc_three   \n3793                         bbc_three   \n3797                       bbc_webonly   \n3800                         bbc_three   \n\n                                               language        release_date  \\\n0                                                 False     9pm 11 Sep 2021   \n1                                                 False          9 Jul 2020   \n2                                                 False         10 Feb 2022   \n3                                                 False         17 Mar 2017   \n4                                                 False  1:15pm 20 Feb 2022   \n...                                                 ...                 ...   \n3777  Contains some strong language and some upsetti...          8 Aug 2021   \n3789  Contains some strong language and upsetting sc...         24 Oct 2018   \n3793                                              False         31 May 2021   \n3797                                              False         22 Nov 2021   \n3800                          Contains strong language.         20 Apr 2019   \n\n      duration_sec                           topic  \\\n0             5247  ['music', 'from-the-archives']   \n1             1037                       ['music']   \n2              611      ['music', 'entertainment']   \n3             3538                       ['music']   \n4             2044          ['music', 'lifestyle']   \n...            ...                             ...   \n3777          1843               ['documentaries']   \n3789          3426               ['documentaries']   \n3793          1524               ['documentaries']   \n3797          1740               ['documentaries']   \n3800          5766               ['documentaries']   \n\n                                         spacied_syno_l  \\\n0     Katie Derham hosts continued live coverage fro...   \n1     Bidh Druthag Bheag Eile a’ tarraing ri chèile ...   \n2     Tom Holland and Greg James cold call celebrity...   \n3     John Toal and Pauline Scanlon introduce an eve...   \n4     Claire McCollum explores Edinburgh and discove...   \n...                                                 ...   \n3777  How will Kyra cope after a train malfunction m...   \n3789  Drug overdose is now the main cause of death f...   \n3793  The music industry reacted with a surge of out...   \n3797  I Sliabh Eachtaí, tá Cérill ag déanamh réidh d...   \n3800  In 2006, Tim Bergling was just a regular teena...   \n\n                                       processed_syno_l  \\\n0     ['Katie', 'Derham', 'host', 'continue', 'live'...   \n1     ['Bidh', 'Druthag', 'Bheag', 'Eile', 'tarraing...   \n2     ['Tom', 'Holland', 'Greg', 'James', 'cold', 'c...   \n3     ['John', 'Toal', 'Pauline', 'Scanlon', 'introd...   \n4     ['Claire', 'McCollum', 'explore', 'Edinburgh',...   \n...                                                 ...   \n3777  ['Kyra', 'cope', 'train', 'malfunction', 'make...   \n3789  ['drug', 'main', 'cause', 'death', 'Americans'...   \n3793  ['music', 'industry', 'react', 'surge', 'outra...   \n3797  ['Sliabh', 'Eachtaí', 'tá', 'Cérill', 'ag', 'd...   \n3800  ['Tim', 'Bergling', 'regular', 'teenager', 'li...   \n\n                            processed_syno_l_one_string  k_means  \n0     Katie Derham host continue live coverage Royal...       11  \n1     Bidh Druthag Bheag Eile tarraing ri chèile pìo...        7  \n2     Tom Holland Greg James cold celebrity friend f...       10  \n3     John Toal Pauline Scanlon introduce evening mu...        7  \n4     Claire McCollum explore Edinburgh discover ric...        9  \n...                                                 ...      ...  \n3777  Kyra cope train malfunction make hour crucial ...        9  \n3789  drug main cause death Americans age likely die...        1  \n3793  music industry react surge outrage death Georg...       11  \n3797  Sliabh Eachtaí tá Cérill ag déanamh réidh don ...        7  \n3800  Tim Bergling regular teenager live small apart...        9  \n\n[2326 rows x 18 columns]",
      "text/html": "<div>\n<style scoped>\n    .dataframe tbody tr th:only-of-type {\n        vertical-align: middle;\n    }\n\n    .dataframe tbody tr th {\n        vertical-align: top;\n    }\n\n    .dataframe thead th {\n        text-align: right;\n    }\n</style>\n<table border=\"1\" class=\"dataframe\">\n  <thead>\n    <tr style=\"text-align: right;\">\n      <th></th>\n      <th>index</th>\n      <th>title</th>\n      <th>description</th>\n      <th>image</th>\n      <th>keywords</th>\n      <th>syno_s</th>\n      <th>syno_m</th>\n      <th>syno_l</th>\n      <th>category</th>\n      <th>channel</th>\n      <th>language</th>\n      <th>release_date</th>\n      <th>duration_sec</th>\n      <th>topic</th>\n      <th>spacied_syno_l</th>\n      <th>processed_syno_l</th>\n      <th>processed_syno_l_one_string</th>\n      <th>k_means</th>\n    </tr>\n  </thead>\n  <tbody>\n    <tr>\n      <th>0</th>\n      <td>0</td>\n      <td>BBC Proms</td>\n      <td>Australian tenor Stuart Skelton is joined by L...</td>\n      <td>https://ichef.bbci.co.uk/images/ic/{recipe}/p0...</td>\n      <td>BBC, iPlayer, TV, BBC Proms, 2021: Last Night ...</td>\n      <td>Australian tenor Stuart Skelton is joined by L...</td>\n      <td>Australian tenor Stuart Skelton is joined by L...</td>\n      <td>Katie Derham hosts continued live coverage fro...</td>\n      <td>Music</td>\n      <td>bbc_radio_three</td>\n      <td>False</td>\n      <td>9pm 11 Sep 2021</td>\n      <td>5247</td>\n      <td>['music', 'from-the-archives']</td>\n      <td>Katie Derham hosts continued live coverage fro...</td>\n      <td>['Katie', 'Derham', 'host', 'continue', 'live'...</td>\n      <td>Katie Derham host continue live coverage Royal...</td>\n      <td>11</td>\n    </tr>\n    <tr>\n      <th>1</th>\n      <td>1</td>\n      <td>Port</td>\n      <td>Previously unseen music from the series Port, ...</td>\n      <td>https://ichef.bbci.co.uk/images/ic/{recipe}/p0...</td>\n      <td>BBC, iPlayer, TV, Port, Series 5: Episode 4</td>\n      <td>Previously unseen music from the series Port, ...</td>\n      <td>Julie Fowlis a’ lìbhrigeadh ceòl bhon t-sreath...</td>\n      <td>Bidh Druthag Bheag Eile a’ tarraing ri chèile ...</td>\n      <td>Music</td>\n      <td>bbc_alba</td>\n      <td>False</td>\n      <td>9 Jul 2020</td>\n      <td>1037</td>\n      <td>['music']</td>\n      <td>Bidh Druthag Bheag Eile a’ tarraing ri chèile ...</td>\n      <td>['Bidh', 'Druthag', 'Bheag', 'Eile', 'tarraing...</td>\n      <td>Bidh Druthag Bheag Eile tarraing ri chèile pìo...</td>\n      <td>7</td>\n    </tr>\n    <tr>\n      <th>2</th>\n      <td>2</td>\n      <td>Sit Down, Stand Up with Greg James</td>\n      <td>Tom Holland and Greg James cold call celebrity...</td>\n      <td>https://ichef.bbci.co.uk/images/ic/{recipe}/p0...</td>\n      <td>BBC, iPlayer, TV, Sit Down, Stand Up with Greg...</td>\n      <td>Tom Holland and Greg James cold call celebrity...</td>\n      <td>Tom Holland and Greg James cold call celebrity...</td>\n      <td>Tom Holland and Greg James cold call celebrity...</td>\n      <td>Entertainment</td>\n      <td>bbc_radio_one</td>\n      <td>False</td>\n      <td>10 Feb 2022</td>\n      <td>611</td>\n      <td>['music', 'entertainment']</td>\n      <td>Tom Holland and Greg James cold call celebrity...</td>\n      <td>['Tom', 'Holland', 'Greg', 'James', 'cold', 'c...</td>\n      <td>Tom Holland Greg James cold celebrity friend f...</td>\n      <td>10</td>\n    </tr>\n    <tr>\n      <th>3</th>\n      <td>3</td>\n      <td>Ceiliúradh na Féile Pádraig</td>\n      <td>John Toal and Pauline Scanlon introduce an eve...</td>\n      <td>https://ichef.bbci.co.uk/images/ic/{recipe}/p0...</td>\n      <td>BBC, iPlayer, TV, Ceiliúradh na Féile Pádraig</td>\n      <td>John Toal and Pauline Scanlon introduce an eve...</td>\n      <td>John Toal and Pauline Scanlon introduce an eve...</td>\n      <td>John Toal and Pauline Scanlon introduce an eve...</td>\n      <td>Music</td>\n      <td>bbc_two_northern_ireland_digital</td>\n      <td>False</td>\n      <td>17 Mar 2017</td>\n      <td>3538</td>\n      <td>['music']</td>\n      <td>John Toal and Pauline Scanlon introduce an eve...</td>\n      <td>['John', 'Toal', 'Pauline', 'Scanlon', 'introd...</td>\n      <td>John Toal Pauline Scanlon introduce evening mu...</td>\n      <td>7</td>\n    </tr>\n    <tr>\n      <th>4</th>\n      <td>4</td>\n      <td>Songs of Praise</td>\n      <td>Claire McCollum explores Edinburgh and shares ...</td>\n      <td>https://ichef.bbci.co.uk/images/ic/{recipe}/p0...</td>\n      <td>BBC, iPlayer, TV, Songs of Praise, Edinburgh</td>\n      <td>Claire McCollum explores Edinburgh and shares ...</td>\n      <td>Claire McCollum goes on a Christian heritage t...</td>\n      <td>Claire McCollum explores Edinburgh and discove...</td>\n      <td>Music</td>\n      <td>bbc_one</td>\n      <td>False</td>\n      <td>1:15pm 20 Feb 2022</td>\n      <td>2044</td>\n      <td>['music', 'lifestyle']</td>\n      <td>Claire McCollum explores Edinburgh and discove...</td>\n      <td>['Claire', 'McCollum', 'explore', 'Edinburgh',...</td>\n      <td>Claire McCollum explore Edinburgh discover ric...</td>\n      <td>9</td>\n    </tr>\n    <tr>\n      <th>...</th>\n      <td>...</td>\n      <td>...</td>\n      <td>...</td>\n      <td>...</td>\n      <td>...</td>\n      <td>...</td>\n      <td>...</td>\n      <td>...</td>\n      <td>...</td>\n      <td>...</td>\n      <td>...</td>\n      <td>...</td>\n      <td>...</td>\n      <td>...</td>\n      <td>...</td>\n      <td>...</td>\n      <td>...</td>\n      <td>...</td>\n    </tr>\n    <tr>\n      <th>3777</th>\n      <td>3777</td>\n      <td>Models: Street to Catwalk</td>\n      <td>Kyra’s late arrival puts her modelling career ...</td>\n      <td>https://ichef.bbci.co.uk/images/ic/{recipe}/p0...</td>\n      <td>BBC, iPlayer, TV, Models: Street to Catwalk, S...</td>\n      <td>Kyra’s late arrival puts her modelling career ...</td>\n      <td>Kyra jeopardises her modelling career by turni...</td>\n      <td>How will Kyra cope after a train malfunction m...</td>\n      <td>Documentary</td>\n      <td>bbc_three</td>\n      <td>Contains some strong language and some upsetti...</td>\n      <td>8 Aug 2021</td>\n      <td>1843</td>\n      <td>['documentaries']</td>\n      <td>How will Kyra cope after a train malfunction m...</td>\n      <td>['Kyra', 'cope', 'train', 'malfunction', 'make...</td>\n      <td>Kyra cope train malfunction make hour crucial ...</td>\n      <td>9</td>\n    </tr>\n    <tr>\n      <th>3789</th>\n      <td>3789</td>\n      <td>Death On The I-95</td>\n      <td>Returning to the US to find out what happened ...</td>\n      <td>https://ichef.bbci.co.uk/images/ic/{recipe}/p0...</td>\n      <td>BBC, iPlayer, TV, Death On The I-95</td>\n      <td>Returning to the US to find out what happened ...</td>\n      <td>Following a report on the growing problem of o...</td>\n      <td>Drug overdose is now the main cause of death f...</td>\n      <td>Documentary</td>\n      <td>bbc_three</td>\n      <td>Contains some strong language and upsetting sc...</td>\n      <td>24 Oct 2018</td>\n      <td>3426</td>\n      <td>['documentaries']</td>\n      <td>Drug overdose is now the main cause of death f...</td>\n      <td>['drug', 'main', 'cause', 'death', 'Americans'...</td>\n      <td>drug main cause death Americans age likely die...</td>\n      <td>1</td>\n    </tr>\n    <tr>\n      <th>3793</th>\n      <td>3793</td>\n      <td>Do Black Lives Still Matter?</td>\n      <td>Grime artist Saskilla asks, can the music indu...</td>\n      <td>https://ichef.bbci.co.uk/images/ic/{recipe}/p0...</td>\n      <td>BBC, iPlayer, TV, Do Black Lives Still Matter?...</td>\n      <td>Grime artist Saskilla asks, can the music indu...</td>\n      <td>The music industry pledged millions in support...</td>\n      <td>The music industry reacted with a surge of out...</td>\n      <td>Documentary</td>\n      <td>bbc_three</td>\n      <td>False</td>\n      <td>31 May 2021</td>\n      <td>1524</td>\n      <td>['documentaries']</td>\n      <td>The music industry reacted with a surge of out...</td>\n      <td>['music', 'industry', 'react', 'surge', 'outra...</td>\n      <td>music industry react surge outrage death Georg...</td>\n      <td>11</td>\n    </tr>\n    <tr>\n      <th>3797</th>\n      <td>3797</td>\n      <td>Ar An Sliabh</td>\n      <td>Paul packs up to return to his native Armagh a...</td>\n      <td>https://ichef.bbci.co.uk/images/ic/{recipe}/p0...</td>\n      <td>BBC, iPlayer, TV, Ar An Sliabh, Series 1: Epis...</td>\n      <td>Paul packs up to return to his native Armagh a...</td>\n      <td>Paul packs up to return to his native Armagh a...</td>\n      <td>I Sliabh Eachtaí, tá Cérill ag déanamh réidh d...</td>\n      <td>Documentary</td>\n      <td>bbc_webonly</td>\n      <td>False</td>\n      <td>22 Nov 2021</td>\n      <td>1740</td>\n      <td>['documentaries']</td>\n      <td>I Sliabh Eachtaí, tá Cérill ag déanamh réidh d...</td>\n      <td>['Sliabh', 'Eachtaí', 'tá', 'Cérill', 'ag', 'd...</td>\n      <td>Sliabh Eachtaí tá Cérill ag déanamh réidh don ...</td>\n      <td>7</td>\n    </tr>\n    <tr>\n      <th>3800</th>\n      <td>3800</td>\n      <td>Avicii: True Stories</td>\n      <td>Avicii: True Stories is Tim Bergling’s own sto...</td>\n      <td>https://ichef.bbci.co.uk/images/ic/{recipe}/p0...</td>\n      <td>BBC, iPlayer, TV, Avicii: True Stories</td>\n      <td>Avicii: True Stories is Tim Bergling’s own sto...</td>\n      <td>Avicii: True Stories is Tim Bergling’s own sto...</td>\n      <td>In 2006, Tim Bergling was just a regular teena...</td>\n      <td>Documentary</td>\n      <td>bbc_three</td>\n      <td>Contains strong language.</td>\n      <td>20 Apr 2019</td>\n      <td>5766</td>\n      <td>['documentaries']</td>\n      <td>In 2006, Tim Bergling was just a regular teena...</td>\n      <td>['Tim', 'Bergling', 'regular', 'teenager', 'li...</td>\n      <td>Tim Bergling regular teenager live small apart...</td>\n      <td>9</td>\n    </tr>\n  </tbody>\n</table>\n<p>2326 rows × 18 columns</p>\n</div>"
     },
     "execution_count": 89,
     "metadata": {},
     "output_type": "execute_result"
    }
   ],
   "source": [
    "df"
   ],
   "metadata": {
    "collapsed": false,
    "pycharm": {
     "name": "#%%\n"
    }
   }
  },
  {
   "cell_type": "markdown",
   "source": [
    "## Messing around with similarity measures"
   ],
   "metadata": {
    "collapsed": false
   }
  },
  {
   "cell_type": "code",
   "execution_count": 2,
   "outputs": [],
   "source": [
    "df_bbc = pd.read_csv('./../data/BBC/bbc_data_slim.csv', sep=',', index_col=0)\n",
    "cos = pd.read_csv('./../data/BBC/cosine_similarity.csv', sep=';', index_col=0)"
   ],
   "metadata": {
    "collapsed": false,
    "pycharm": {
     "name": "#%%\n"
    }
   }
  },
  {
   "cell_type": "code",
   "execution_count": 5,
   "outputs": [
    {
     "data": {
      "text/plain": "      index                               title  \\\n0         0                           BBC Proms   \n1         1                                Port   \n2         2  Sit Down, Stand Up with Greg James   \n3         3         Ceiliúradh na Féile Pádraig   \n4         4                     Songs of Praise   \n...     ...                                 ...   \n2321   2321           Models: Street to Catwalk   \n2322   2322                   Death On The I-95   \n2323   2323        Do Black Lives Still Matter?   \n2324   2324                        Ar An Sliabh   \n2325   2325                Avicii: True Stories   \n\n                                            description       category  \\\n0     Australian tenor Stuart Skelton is joined by L...          Music   \n1     Previously unseen music from the series Port, ...          Music   \n2     Tom Holland and Greg James cold call celebrity...  Entertainment   \n3     John Toal and Pauline Scanlon introduce an eve...          Music   \n4     Claire McCollum explores Edinburgh and shares ...          Music   \n...                                                 ...            ...   \n2321  Kyra’s late arrival puts her modelling career ...    Documentary   \n2322  Returning to the US to find out what happened ...    Documentary   \n2323  Grime artist Saskilla asks, can the music indu...    Documentary   \n2324  Paul packs up to return to his native Armagh a...    Documentary   \n2325  Avicii: True Stories is Tim Bergling’s own sto...    Documentary   \n\n                               channel  adv_category  \\\n0                      bbc_radio_three            11   \n1                             bbc_alba             7   \n2                        bbc_radio_one            10   \n3     bbc_two_northern_ireland_digital             7   \n4                              bbc_one             9   \n...                                ...           ...   \n2321                         bbc_three             9   \n2322                         bbc_three             1   \n2323                         bbc_three            11   \n2324                       bbc_webonly             7   \n2325                         bbc_three             9   \n\n                                                    img  \n0     https://ichef.bbci.co.uk/images/ic/352x198/p09...  \n1     https://ichef.bbci.co.uk/images/ic/352x198/p08...  \n2     https://ichef.bbci.co.uk/images/ic/352x198/p0b...  \n3     https://ichef.bbci.co.uk/images/ic/352x198/p04...  \n4     https://ichef.bbci.co.uk/images/ic/352x198/p0b...  \n...                                                 ...  \n2321  https://ichef.bbci.co.uk/images/ic/352x198/p09...  \n2322  https://ichef.bbci.co.uk/images/ic/352x198/p07...  \n2323  https://ichef.bbci.co.uk/images/ic/352x198/p09...  \n2324  https://ichef.bbci.co.uk/images/ic/352x198/p0b...  \n2325  https://ichef.bbci.co.uk/images/ic/352x198/p07...  \n\n[2326 rows x 7 columns]",
      "text/html": "<div>\n<style scoped>\n    .dataframe tbody tr th:only-of-type {\n        vertical-align: middle;\n    }\n\n    .dataframe tbody tr th {\n        vertical-align: top;\n    }\n\n    .dataframe thead th {\n        text-align: right;\n    }\n</style>\n<table border=\"1\" class=\"dataframe\">\n  <thead>\n    <tr style=\"text-align: right;\">\n      <th></th>\n      <th>index</th>\n      <th>title</th>\n      <th>description</th>\n      <th>category</th>\n      <th>channel</th>\n      <th>adv_category</th>\n      <th>img</th>\n    </tr>\n  </thead>\n  <tbody>\n    <tr>\n      <th>0</th>\n      <td>0</td>\n      <td>BBC Proms</td>\n      <td>Australian tenor Stuart Skelton is joined by L...</td>\n      <td>Music</td>\n      <td>bbc_radio_three</td>\n      <td>11</td>\n      <td>https://ichef.bbci.co.uk/images/ic/352x198/p09...</td>\n    </tr>\n    <tr>\n      <th>1</th>\n      <td>1</td>\n      <td>Port</td>\n      <td>Previously unseen music from the series Port, ...</td>\n      <td>Music</td>\n      <td>bbc_alba</td>\n      <td>7</td>\n      <td>https://ichef.bbci.co.uk/images/ic/352x198/p08...</td>\n    </tr>\n    <tr>\n      <th>2</th>\n      <td>2</td>\n      <td>Sit Down, Stand Up with Greg James</td>\n      <td>Tom Holland and Greg James cold call celebrity...</td>\n      <td>Entertainment</td>\n      <td>bbc_radio_one</td>\n      <td>10</td>\n      <td>https://ichef.bbci.co.uk/images/ic/352x198/p0b...</td>\n    </tr>\n    <tr>\n      <th>3</th>\n      <td>3</td>\n      <td>Ceiliúradh na Féile Pádraig</td>\n      <td>John Toal and Pauline Scanlon introduce an eve...</td>\n      <td>Music</td>\n      <td>bbc_two_northern_ireland_digital</td>\n      <td>7</td>\n      <td>https://ichef.bbci.co.uk/images/ic/352x198/p04...</td>\n    </tr>\n    <tr>\n      <th>4</th>\n      <td>4</td>\n      <td>Songs of Praise</td>\n      <td>Claire McCollum explores Edinburgh and shares ...</td>\n      <td>Music</td>\n      <td>bbc_one</td>\n      <td>9</td>\n      <td>https://ichef.bbci.co.uk/images/ic/352x198/p0b...</td>\n    </tr>\n    <tr>\n      <th>...</th>\n      <td>...</td>\n      <td>...</td>\n      <td>...</td>\n      <td>...</td>\n      <td>...</td>\n      <td>...</td>\n      <td>...</td>\n    </tr>\n    <tr>\n      <th>2321</th>\n      <td>2321</td>\n      <td>Models: Street to Catwalk</td>\n      <td>Kyra’s late arrival puts her modelling career ...</td>\n      <td>Documentary</td>\n      <td>bbc_three</td>\n      <td>9</td>\n      <td>https://ichef.bbci.co.uk/images/ic/352x198/p09...</td>\n    </tr>\n    <tr>\n      <th>2322</th>\n      <td>2322</td>\n      <td>Death On The I-95</td>\n      <td>Returning to the US to find out what happened ...</td>\n      <td>Documentary</td>\n      <td>bbc_three</td>\n      <td>1</td>\n      <td>https://ichef.bbci.co.uk/images/ic/352x198/p07...</td>\n    </tr>\n    <tr>\n      <th>2323</th>\n      <td>2323</td>\n      <td>Do Black Lives Still Matter?</td>\n      <td>Grime artist Saskilla asks, can the music indu...</td>\n      <td>Documentary</td>\n      <td>bbc_three</td>\n      <td>11</td>\n      <td>https://ichef.bbci.co.uk/images/ic/352x198/p09...</td>\n    </tr>\n    <tr>\n      <th>2324</th>\n      <td>2324</td>\n      <td>Ar An Sliabh</td>\n      <td>Paul packs up to return to his native Armagh a...</td>\n      <td>Documentary</td>\n      <td>bbc_webonly</td>\n      <td>7</td>\n      <td>https://ichef.bbci.co.uk/images/ic/352x198/p0b...</td>\n    </tr>\n    <tr>\n      <th>2325</th>\n      <td>2325</td>\n      <td>Avicii: True Stories</td>\n      <td>Avicii: True Stories is Tim Bergling’s own sto...</td>\n      <td>Documentary</td>\n      <td>bbc_three</td>\n      <td>9</td>\n      <td>https://ichef.bbci.co.uk/images/ic/352x198/p07...</td>\n    </tr>\n  </tbody>\n</table>\n<p>2326 rows × 7 columns</p>\n</div>"
     },
     "execution_count": 5,
     "metadata": {},
     "output_type": "execute_result"
    }
   ],
   "source": [
    "df_bbc"
   ],
   "metadata": {
    "collapsed": false,
    "pycharm": {
     "name": "#%%\n"
    }
   }
  },
  {
   "cell_type": "code",
   "execution_count": 6,
   "outputs": [
    {
     "data": {
      "text/plain": "             0         1         2         3         4         5         6  \\\n0     1.000000  0.464569  0.456215  0.759457  0.752888  0.817963  0.844283   \n1     0.464569  1.000000  0.276400  0.500826  0.409278  0.324603  0.260997   \n2     0.456215  0.276400  1.000000  0.515068  0.463887  0.565514  0.456465   \n3     0.759457  0.500826  0.515068  1.000000  0.622449  0.738313  0.668563   \n4     0.752888  0.409278  0.463887  0.622449  1.000000  0.705579  0.671373   \n...        ...       ...       ...       ...       ...       ...       ...   \n2321  0.386949  0.175973  0.401385  0.348407  0.580583  0.467882  0.473950   \n2322  0.408679  0.237692  0.337785  0.325590  0.526698  0.464923  0.516740   \n2323  0.504979  0.267875  0.541091  0.466440  0.634509  0.596023  0.577080   \n2324  0.394167  0.877725  0.310047  0.511251  0.369326  0.296917  0.209242   \n2325  0.591685  0.278713  0.442695  0.503900  0.638660  0.703094  0.736998   \n\n             7         8         9  ...      2316      2317      2318  \\\n0     0.833293  0.624325  0.714856  ...  0.494571  0.404984  0.297471   \n1     0.318547  0.332594  0.532213  ...  0.237382  0.313001  0.229477   \n2     0.480797  0.404655  0.434049  ...  0.509228  0.466864  0.372347   \n3     0.714047  0.395446  0.621673  ...  0.470608  0.398964  0.345343   \n4     0.769527  0.730229  0.689653  ...  0.576755  0.506818  0.439136   \n...        ...       ...       ...  ...       ...       ...       ...   \n2321  0.493751  0.578729  0.474601  ...  0.512476  0.594405  0.491411   \n2322  0.520363  0.595682  0.404929  ...  0.571575  0.624707  0.529199   \n2323  0.571917  0.621068  0.463083  ...  0.581656  0.532636  0.577583   \n2324  0.249882  0.257936  0.496477  ...  0.179157  0.238167  0.201336   \n2325  0.730659  0.670514  0.578775  ...  0.650593  0.539832  0.442344   \n\n          2319      2320      2321      2322      2323      2324      2325  \n0     0.484163  0.610856  0.386949  0.408679  0.504979  0.394167  0.591685  \n1     0.322347  0.442119  0.175973  0.237692  0.267875  0.877725  0.278713  \n2     0.358217  0.302932  0.401385  0.337785  0.541091  0.310047  0.442695  \n3     0.394587  0.494136  0.348407  0.325590  0.466440  0.511251  0.503900  \n4     0.587217  0.748822  0.580583  0.526698  0.634509  0.369326  0.638660  \n...        ...       ...       ...       ...       ...       ...       ...  \n2321  0.708732  0.403681  1.000000  0.689001  0.661167  0.149656  0.557155  \n2322  0.794125  0.304786  0.689001  1.000000  0.727510  0.162182  0.680074  \n2323  0.712539  0.392916  0.661167  0.727510  1.000000  0.212749  0.643721  \n2324  0.264322  0.384121  0.149656  0.162182  0.212749  1.000000  0.203437  \n2325  0.702610  0.425400  0.557155  0.680074  0.643721  0.203437  1.000000  \n\n[2326 rows x 2326 columns]",
      "text/html": "<div>\n<style scoped>\n    .dataframe tbody tr th:only-of-type {\n        vertical-align: middle;\n    }\n\n    .dataframe tbody tr th {\n        vertical-align: top;\n    }\n\n    .dataframe thead th {\n        text-align: right;\n    }\n</style>\n<table border=\"1\" class=\"dataframe\">\n  <thead>\n    <tr style=\"text-align: right;\">\n      <th></th>\n      <th>0</th>\n      <th>1</th>\n      <th>2</th>\n      <th>3</th>\n      <th>4</th>\n      <th>5</th>\n      <th>6</th>\n      <th>7</th>\n      <th>8</th>\n      <th>9</th>\n      <th>...</th>\n      <th>2316</th>\n      <th>2317</th>\n      <th>2318</th>\n      <th>2319</th>\n      <th>2320</th>\n      <th>2321</th>\n      <th>2322</th>\n      <th>2323</th>\n      <th>2324</th>\n      <th>2325</th>\n    </tr>\n  </thead>\n  <tbody>\n    <tr>\n      <th>0</th>\n      <td>1.000000</td>\n      <td>0.464569</td>\n      <td>0.456215</td>\n      <td>0.759457</td>\n      <td>0.752888</td>\n      <td>0.817963</td>\n      <td>0.844283</td>\n      <td>0.833293</td>\n      <td>0.624325</td>\n      <td>0.714856</td>\n      <td>...</td>\n      <td>0.494571</td>\n      <td>0.404984</td>\n      <td>0.297471</td>\n      <td>0.484163</td>\n      <td>0.610856</td>\n      <td>0.386949</td>\n      <td>0.408679</td>\n      <td>0.504979</td>\n      <td>0.394167</td>\n      <td>0.591685</td>\n    </tr>\n    <tr>\n      <th>1</th>\n      <td>0.464569</td>\n      <td>1.000000</td>\n      <td>0.276400</td>\n      <td>0.500826</td>\n      <td>0.409278</td>\n      <td>0.324603</td>\n      <td>0.260997</td>\n      <td>0.318547</td>\n      <td>0.332594</td>\n      <td>0.532213</td>\n      <td>...</td>\n      <td>0.237382</td>\n      <td>0.313001</td>\n      <td>0.229477</td>\n      <td>0.322347</td>\n      <td>0.442119</td>\n      <td>0.175973</td>\n      <td>0.237692</td>\n      <td>0.267875</td>\n      <td>0.877725</td>\n      <td>0.278713</td>\n    </tr>\n    <tr>\n      <th>2</th>\n      <td>0.456215</td>\n      <td>0.276400</td>\n      <td>1.000000</td>\n      <td>0.515068</td>\n      <td>0.463887</td>\n      <td>0.565514</td>\n      <td>0.456465</td>\n      <td>0.480797</td>\n      <td>0.404655</td>\n      <td>0.434049</td>\n      <td>...</td>\n      <td>0.509228</td>\n      <td>0.466864</td>\n      <td>0.372347</td>\n      <td>0.358217</td>\n      <td>0.302932</td>\n      <td>0.401385</td>\n      <td>0.337785</td>\n      <td>0.541091</td>\n      <td>0.310047</td>\n      <td>0.442695</td>\n    </tr>\n    <tr>\n      <th>3</th>\n      <td>0.759457</td>\n      <td>0.500826</td>\n      <td>0.515068</td>\n      <td>1.000000</td>\n      <td>0.622449</td>\n      <td>0.738313</td>\n      <td>0.668563</td>\n      <td>0.714047</td>\n      <td>0.395446</td>\n      <td>0.621673</td>\n      <td>...</td>\n      <td>0.470608</td>\n      <td>0.398964</td>\n      <td>0.345343</td>\n      <td>0.394587</td>\n      <td>0.494136</td>\n      <td>0.348407</td>\n      <td>0.325590</td>\n      <td>0.466440</td>\n      <td>0.511251</td>\n      <td>0.503900</td>\n    </tr>\n    <tr>\n      <th>4</th>\n      <td>0.752888</td>\n      <td>0.409278</td>\n      <td>0.463887</td>\n      <td>0.622449</td>\n      <td>1.000000</td>\n      <td>0.705579</td>\n      <td>0.671373</td>\n      <td>0.769527</td>\n      <td>0.730229</td>\n      <td>0.689653</td>\n      <td>...</td>\n      <td>0.576755</td>\n      <td>0.506818</td>\n      <td>0.439136</td>\n      <td>0.587217</td>\n      <td>0.748822</td>\n      <td>0.580583</td>\n      <td>0.526698</td>\n      <td>0.634509</td>\n      <td>0.369326</td>\n      <td>0.638660</td>\n    </tr>\n    <tr>\n      <th>...</th>\n      <td>...</td>\n      <td>...</td>\n      <td>...</td>\n      <td>...</td>\n      <td>...</td>\n      <td>...</td>\n      <td>...</td>\n      <td>...</td>\n      <td>...</td>\n      <td>...</td>\n      <td>...</td>\n      <td>...</td>\n      <td>...</td>\n      <td>...</td>\n      <td>...</td>\n      <td>...</td>\n      <td>...</td>\n      <td>...</td>\n      <td>...</td>\n      <td>...</td>\n      <td>...</td>\n    </tr>\n    <tr>\n      <th>2321</th>\n      <td>0.386949</td>\n      <td>0.175973</td>\n      <td>0.401385</td>\n      <td>0.348407</td>\n      <td>0.580583</td>\n      <td>0.467882</td>\n      <td>0.473950</td>\n      <td>0.493751</td>\n      <td>0.578729</td>\n      <td>0.474601</td>\n      <td>...</td>\n      <td>0.512476</td>\n      <td>0.594405</td>\n      <td>0.491411</td>\n      <td>0.708732</td>\n      <td>0.403681</td>\n      <td>1.000000</td>\n      <td>0.689001</td>\n      <td>0.661167</td>\n      <td>0.149656</td>\n      <td>0.557155</td>\n    </tr>\n    <tr>\n      <th>2322</th>\n      <td>0.408679</td>\n      <td>0.237692</td>\n      <td>0.337785</td>\n      <td>0.325590</td>\n      <td>0.526698</td>\n      <td>0.464923</td>\n      <td>0.516740</td>\n      <td>0.520363</td>\n      <td>0.595682</td>\n      <td>0.404929</td>\n      <td>...</td>\n      <td>0.571575</td>\n      <td>0.624707</td>\n      <td>0.529199</td>\n      <td>0.794125</td>\n      <td>0.304786</td>\n      <td>0.689001</td>\n      <td>1.000000</td>\n      <td>0.727510</td>\n      <td>0.162182</td>\n      <td>0.680074</td>\n    </tr>\n    <tr>\n      <th>2323</th>\n      <td>0.504979</td>\n      <td>0.267875</td>\n      <td>0.541091</td>\n      <td>0.466440</td>\n      <td>0.634509</td>\n      <td>0.596023</td>\n      <td>0.577080</td>\n      <td>0.571917</td>\n      <td>0.621068</td>\n      <td>0.463083</td>\n      <td>...</td>\n      <td>0.581656</td>\n      <td>0.532636</td>\n      <td>0.577583</td>\n      <td>0.712539</td>\n      <td>0.392916</td>\n      <td>0.661167</td>\n      <td>0.727510</td>\n      <td>1.000000</td>\n      <td>0.212749</td>\n      <td>0.643721</td>\n    </tr>\n    <tr>\n      <th>2324</th>\n      <td>0.394167</td>\n      <td>0.877725</td>\n      <td>0.310047</td>\n      <td>0.511251</td>\n      <td>0.369326</td>\n      <td>0.296917</td>\n      <td>0.209242</td>\n      <td>0.249882</td>\n      <td>0.257936</td>\n      <td>0.496477</td>\n      <td>...</td>\n      <td>0.179157</td>\n      <td>0.238167</td>\n      <td>0.201336</td>\n      <td>0.264322</td>\n      <td>0.384121</td>\n      <td>0.149656</td>\n      <td>0.162182</td>\n      <td>0.212749</td>\n      <td>1.000000</td>\n      <td>0.203437</td>\n    </tr>\n    <tr>\n      <th>2325</th>\n      <td>0.591685</td>\n      <td>0.278713</td>\n      <td>0.442695</td>\n      <td>0.503900</td>\n      <td>0.638660</td>\n      <td>0.703094</td>\n      <td>0.736998</td>\n      <td>0.730659</td>\n      <td>0.670514</td>\n      <td>0.578775</td>\n      <td>...</td>\n      <td>0.650593</td>\n      <td>0.539832</td>\n      <td>0.442344</td>\n      <td>0.702610</td>\n      <td>0.425400</td>\n      <td>0.557155</td>\n      <td>0.680074</td>\n      <td>0.643721</td>\n      <td>0.203437</td>\n      <td>1.000000</td>\n    </tr>\n  </tbody>\n</table>\n<p>2326 rows × 2326 columns</p>\n</div>"
     },
     "execution_count": 6,
     "metadata": {},
     "output_type": "execute_result"
    }
   ],
   "source": [
    "cos"
   ],
   "metadata": {
    "collapsed": false,
    "pycharm": {
     "name": "#%%\n"
    }
   }
  },
  {
   "cell_type": "code",
   "execution_count": 5,
   "outputs": [],
   "source": [
    "def sim_title_by_genre(df, df_cosin_similarity, index, number_of_recom, genre):\n",
    "    fitting_genre = df[df['category'] == genre]\n",
    "    return fitting_genre\n",
    "    # print(len(fitting_genre))\n",
    "    # df_cosin_genre_exc = df_cosin_similarity.iloc[[fitting_genre.index, index]]\n",
    "    # recoms = df_cosin_genre_exc.loc[index].sort_values(ascending=False).index.tolist()[1:number_of_recom]\n",
    "    # return list(map(int, recoms))"
   ],
   "metadata": {
    "collapsed": false,
    "pycharm": {
     "name": "#%%\n"
    }
   }
  },
  {
   "cell_type": "code",
   "execution_count": null,
   "outputs": [
    {
     "name": "stdout",
     "output_type": "stream",
     "text": [
      "127\n"
     ]
    },
    {
     "name": "stderr",
     "output_type": "stream",
     "text": [
      "/Users/hagenaadfock/miniforge3/envs/default/lib/python3.8/site-packages/pandas/core/indexing.py:1503: VisibleDeprecationWarning: Creating an ndarray from ragged nested sequences (which is a list-or-tuple of lists-or-tuples-or ndarrays with different lengths or shapes) is deprecated. If you meant to do this, you must specify 'dtype=object' when creating the ndarray.\n",
      "  key = np.asarray(key)\n"
     ]
    }
   ],
   "source": [
    "sim_title_by_genre(df_bbc, cos, 3, 8, genre='Entertainment')"
   ],
   "metadata": {
    "collapsed": false,
    "pycharm": {
     "name": "#%%\n",
     "is_executing": true
    }
   }
  },
  {
   "cell_type": "code",
   "execution_count": 44,
   "outputs": [
    {
     "data": {
      "text/plain": "      index                               title  \\\n0         0                           BBC Proms   \n1         1                                Port   \n2         2  Sit Down, Stand Up with Greg James   \n3         3         Ceiliúradh na Féile Pádraig   \n4         4                     Songs of Praise   \n...     ...                                 ...   \n2321   2321           Models: Street to Catwalk   \n2322   2322                   Death On The I-95   \n2323   2323        Do Black Lives Still Matter?   \n2324   2324                        Ar An Sliabh   \n2325   2325                Avicii: True Stories   \n\n                                            description       category  \\\n0     Australian tenor Stuart Skelton is joined by L...          Music   \n1     Previously unseen music from the series Port, ...          Music   \n2     Tom Holland and Greg James cold call celebrity...  Entertainment   \n3     John Toal and Pauline Scanlon introduce an eve...          Music   \n4     Claire McCollum explores Edinburgh and shares ...          Music   \n...                                                 ...            ...   \n2321  Kyra’s late arrival puts her modelling career ...    Documentary   \n2322  Returning to the US to find out what happened ...    Documentary   \n2323  Grime artist Saskilla asks, can the music indu...    Documentary   \n2324  Paul packs up to return to his native Armagh a...    Documentary   \n2325  Avicii: True Stories is Tim Bergling’s own sto...    Documentary   \n\n                               channel  adv_category  \\\n0                      bbc_radio_three            11   \n1                             bbc_alba             7   \n2                        bbc_radio_one            10   \n3     bbc_two_northern_ireland_digital             7   \n4                              bbc_one             9   \n...                                ...           ...   \n2321                         bbc_three             9   \n2322                         bbc_three             1   \n2323                         bbc_three            11   \n2324                       bbc_webonly             7   \n2325                         bbc_three             9   \n\n                                                    img  \n0     https://ichef.bbci.co.uk/images/ic/352x198/p09...  \n1     https://ichef.bbci.co.uk/images/ic/352x198/p08...  \n2     https://ichef.bbci.co.uk/images/ic/352x198/p0b...  \n3     https://ichef.bbci.co.uk/images/ic/352x198/p04...  \n4     https://ichef.bbci.co.uk/images/ic/352x198/p0b...  \n...                                                 ...  \n2321  https://ichef.bbci.co.uk/images/ic/352x198/p09...  \n2322  https://ichef.bbci.co.uk/images/ic/352x198/p07...  \n2323  https://ichef.bbci.co.uk/images/ic/352x198/p09...  \n2324  https://ichef.bbci.co.uk/images/ic/352x198/p0b...  \n2325  https://ichef.bbci.co.uk/images/ic/352x198/p07...  \n\n[2326 rows x 7 columns]",
      "text/html": "<div>\n<style scoped>\n    .dataframe tbody tr th:only-of-type {\n        vertical-align: middle;\n    }\n\n    .dataframe tbody tr th {\n        vertical-align: top;\n    }\n\n    .dataframe thead th {\n        text-align: right;\n    }\n</style>\n<table border=\"1\" class=\"dataframe\">\n  <thead>\n    <tr style=\"text-align: right;\">\n      <th></th>\n      <th>index</th>\n      <th>title</th>\n      <th>description</th>\n      <th>category</th>\n      <th>channel</th>\n      <th>adv_category</th>\n      <th>img</th>\n    </tr>\n  </thead>\n  <tbody>\n    <tr>\n      <th>0</th>\n      <td>0</td>\n      <td>BBC Proms</td>\n      <td>Australian tenor Stuart Skelton is joined by L...</td>\n      <td>Music</td>\n      <td>bbc_radio_three</td>\n      <td>11</td>\n      <td>https://ichef.bbci.co.uk/images/ic/352x198/p09...</td>\n    </tr>\n    <tr>\n      <th>1</th>\n      <td>1</td>\n      <td>Port</td>\n      <td>Previously unseen music from the series Port, ...</td>\n      <td>Music</td>\n      <td>bbc_alba</td>\n      <td>7</td>\n      <td>https://ichef.bbci.co.uk/images/ic/352x198/p08...</td>\n    </tr>\n    <tr>\n      <th>2</th>\n      <td>2</td>\n      <td>Sit Down, Stand Up with Greg James</td>\n      <td>Tom Holland and Greg James cold call celebrity...</td>\n      <td>Entertainment</td>\n      <td>bbc_radio_one</td>\n      <td>10</td>\n      <td>https://ichef.bbci.co.uk/images/ic/352x198/p0b...</td>\n    </tr>\n    <tr>\n      <th>3</th>\n      <td>3</td>\n      <td>Ceiliúradh na Féile Pádraig</td>\n      <td>John Toal and Pauline Scanlon introduce an eve...</td>\n      <td>Music</td>\n      <td>bbc_two_northern_ireland_digital</td>\n      <td>7</td>\n      <td>https://ichef.bbci.co.uk/images/ic/352x198/p04...</td>\n    </tr>\n    <tr>\n      <th>4</th>\n      <td>4</td>\n      <td>Songs of Praise</td>\n      <td>Claire McCollum explores Edinburgh and shares ...</td>\n      <td>Music</td>\n      <td>bbc_one</td>\n      <td>9</td>\n      <td>https://ichef.bbci.co.uk/images/ic/352x198/p0b...</td>\n    </tr>\n    <tr>\n      <th>...</th>\n      <td>...</td>\n      <td>...</td>\n      <td>...</td>\n      <td>...</td>\n      <td>...</td>\n      <td>...</td>\n      <td>...</td>\n    </tr>\n    <tr>\n      <th>2321</th>\n      <td>2321</td>\n      <td>Models: Street to Catwalk</td>\n      <td>Kyra’s late arrival puts her modelling career ...</td>\n      <td>Documentary</td>\n      <td>bbc_three</td>\n      <td>9</td>\n      <td>https://ichef.bbci.co.uk/images/ic/352x198/p09...</td>\n    </tr>\n    <tr>\n      <th>2322</th>\n      <td>2322</td>\n      <td>Death On The I-95</td>\n      <td>Returning to the US to find out what happened ...</td>\n      <td>Documentary</td>\n      <td>bbc_three</td>\n      <td>1</td>\n      <td>https://ichef.bbci.co.uk/images/ic/352x198/p07...</td>\n    </tr>\n    <tr>\n      <th>2323</th>\n      <td>2323</td>\n      <td>Do Black Lives Still Matter?</td>\n      <td>Grime artist Saskilla asks, can the music indu...</td>\n      <td>Documentary</td>\n      <td>bbc_three</td>\n      <td>11</td>\n      <td>https://ichef.bbci.co.uk/images/ic/352x198/p09...</td>\n    </tr>\n    <tr>\n      <th>2324</th>\n      <td>2324</td>\n      <td>Ar An Sliabh</td>\n      <td>Paul packs up to return to his native Armagh a...</td>\n      <td>Documentary</td>\n      <td>bbc_webonly</td>\n      <td>7</td>\n      <td>https://ichef.bbci.co.uk/images/ic/352x198/p0b...</td>\n    </tr>\n    <tr>\n      <th>2325</th>\n      <td>2325</td>\n      <td>Avicii: True Stories</td>\n      <td>Avicii: True Stories is Tim Bergling’s own sto...</td>\n      <td>Documentary</td>\n      <td>bbc_three</td>\n      <td>9</td>\n      <td>https://ichef.bbci.co.uk/images/ic/352x198/p07...</td>\n    </tr>\n  </tbody>\n</table>\n<p>2326 rows × 7 columns</p>\n</div>"
     },
     "execution_count": 44,
     "metadata": {},
     "output_type": "execute_result"
    }
   ],
   "source": [
    "df_bbc\n",
    "\n",
    "#cos"
   ],
   "metadata": {
    "collapsed": false,
    "pycharm": {
     "name": "#%%\n"
    }
   }
  },
  {
   "cell_type": "code",
   "execution_count": 46,
   "outputs": [
    {
     "data": {
      "text/plain": "6      0.844283\n48     0.840854\n134    0.840419\n179    0.840170\n85     0.839027\nName: 0, dtype: float64"
     },
     "execution_count": 46,
     "metadata": {},
     "output_type": "execute_result"
    }
   ],
   "source": [
    "fitting_genre = df_bbc[df_bbc['category'] == 'Music']\n",
    "cosin_df = cos.loc[0].iloc[fitting_genre.index].sort_values(ascending=False)[1:6]\n",
    "cosin_df\n",
    "# cosin_df = cos.loc[1].sort_values(ascending=False)\n",
    "# cosin_df = cosin_df.iloc[fitting_genre.index]\n",
    "# cosin_df.index\n",
    "# recoms = cosin_df[1:6].index.tolist()\n",
    "# recoms"
   ],
   "metadata": {
    "collapsed": false,
    "pycharm": {
     "name": "#%%\n"
    }
   }
  },
  {
   "cell_type": "code",
   "execution_count": 23,
   "outputs": [
    {
     "data": {
      "text/plain": "      index                                title  \\\n1770   1770                        Politics Live   \n1851   1851  The Data Guardian: Elizabeth Denham   \n854     854    Tropic of Cancer with Simon Reeve   \n1845   1845            Northern Ireland Assembly   \n295     295                       Life Cinematic   \n...     ...                                  ...   \n1332   1332          Rugby League: Challenge Cup   \n33       33             Canadian Hits at the BBC   \n1980   1980     Back in Time for the Corner Shop   \n1642   1642                The Grand Party Hotel   \n396     396             Earth’s Tropical Islands   \n\n                                            description     category  \\\n1770  Jo Coburn and guests discuss the military assa...         News   \n1851  BBC Media Editor Amol Rajan talks to UK Inform...         News   \n854   Simon travels from the jungles of Southeast As...  Documentary   \n1845  Tributes to the DUP MLA Christopher Stalford, ...         News   \n295   Amma Asante selects clips from the films that ...         Arts   \n...                                                 ...          ...   \n1332  Third Round of the Challenge Cup live from the...        Sport   \n33    A selection of performances by Canadian artist...        Music   \n1980  The Arderns’ shopkeeping adventure continues i...         Food   \n1642  MD Kris is asked to fight in a charity boxing ...  Documentary   \n396   Exploring Hawaii, a tropical sanctuary for any...       Nature   \n\n             channel  adv_category  \\\n1770         bbc_two            10   \n1851      bbc_news24            13   \n854          bbc_two             6   \n1845  bbc_parliament             2   \n295         bbc_four             9   \n...              ...           ...   \n1332       bbc_sport             2   \n33          bbc_four            11   \n1980         bbc_two             4   \n1642         bbc_one             4   \n396          bbc_two            12   \n\n                                                    img  \n1770  https://ichef.bbci.co.uk/images/ic/352x198/p09...  \n1851  https://ichef.bbci.co.uk/images/ic/352x198/p0b...  \n854   https://ichef.bbci.co.uk/images/ic/352x198/p01...  \n1845  https://ichef.bbci.co.uk/images/ic/352x198/p0b...  \n295   https://ichef.bbci.co.uk/images/ic/352x198/p09...  \n...                                                 ...  \n1332  https://ichef.bbci.co.uk/images/ic/352x198/p0b...  \n33    https://ichef.bbci.co.uk/images/ic/352x198/p09...  \n1980  https://ichef.bbci.co.uk/images/ic/352x198/p08...  \n1642  https://ichef.bbci.co.uk/images/ic/352x198/p08...  \n396   https://ichef.bbci.co.uk/images/ic/352x198/p07...  \n\n[68 rows x 7 columns]",
      "text/html": "<div>\n<style scoped>\n    .dataframe tbody tr th:only-of-type {\n        vertical-align: middle;\n    }\n\n    .dataframe tbody tr th {\n        vertical-align: top;\n    }\n\n    .dataframe thead th {\n        text-align: right;\n    }\n</style>\n<table border=\"1\" class=\"dataframe\">\n  <thead>\n    <tr style=\"text-align: right;\">\n      <th></th>\n      <th>index</th>\n      <th>title</th>\n      <th>description</th>\n      <th>category</th>\n      <th>channel</th>\n      <th>adv_category</th>\n      <th>img</th>\n    </tr>\n  </thead>\n  <tbody>\n    <tr>\n      <th>1770</th>\n      <td>1770</td>\n      <td>Politics Live</td>\n      <td>Jo Coburn and guests discuss the military assa...</td>\n      <td>News</td>\n      <td>bbc_two</td>\n      <td>10</td>\n      <td>https://ichef.bbci.co.uk/images/ic/352x198/p09...</td>\n    </tr>\n    <tr>\n      <th>1851</th>\n      <td>1851</td>\n      <td>The Data Guardian: Elizabeth Denham</td>\n      <td>BBC Media Editor Amol Rajan talks to UK Inform...</td>\n      <td>News</td>\n      <td>bbc_news24</td>\n      <td>13</td>\n      <td>https://ichef.bbci.co.uk/images/ic/352x198/p0b...</td>\n    </tr>\n    <tr>\n      <th>854</th>\n      <td>854</td>\n      <td>Tropic of Cancer with Simon Reeve</td>\n      <td>Simon travels from the jungles of Southeast As...</td>\n      <td>Documentary</td>\n      <td>bbc_two</td>\n      <td>6</td>\n      <td>https://ichef.bbci.co.uk/images/ic/352x198/p01...</td>\n    </tr>\n    <tr>\n      <th>1845</th>\n      <td>1845</td>\n      <td>Northern Ireland Assembly</td>\n      <td>Tributes to the DUP MLA Christopher Stalford, ...</td>\n      <td>News</td>\n      <td>bbc_parliament</td>\n      <td>2</td>\n      <td>https://ichef.bbci.co.uk/images/ic/352x198/p0b...</td>\n    </tr>\n    <tr>\n      <th>295</th>\n      <td>295</td>\n      <td>Life Cinematic</td>\n      <td>Amma Asante selects clips from the films that ...</td>\n      <td>Arts</td>\n      <td>bbc_four</td>\n      <td>9</td>\n      <td>https://ichef.bbci.co.uk/images/ic/352x198/p09...</td>\n    </tr>\n    <tr>\n      <th>...</th>\n      <td>...</td>\n      <td>...</td>\n      <td>...</td>\n      <td>...</td>\n      <td>...</td>\n      <td>...</td>\n      <td>...</td>\n    </tr>\n    <tr>\n      <th>1332</th>\n      <td>1332</td>\n      <td>Rugby League: Challenge Cup</td>\n      <td>Third Round of the Challenge Cup live from the...</td>\n      <td>Sport</td>\n      <td>bbc_sport</td>\n      <td>2</td>\n      <td>https://ichef.bbci.co.uk/images/ic/352x198/p0b...</td>\n    </tr>\n    <tr>\n      <th>33</th>\n      <td>33</td>\n      <td>Canadian Hits at the BBC</td>\n      <td>A selection of performances by Canadian artist...</td>\n      <td>Music</td>\n      <td>bbc_four</td>\n      <td>11</td>\n      <td>https://ichef.bbci.co.uk/images/ic/352x198/p09...</td>\n    </tr>\n    <tr>\n      <th>1980</th>\n      <td>1980</td>\n      <td>Back in Time for the Corner Shop</td>\n      <td>The Arderns’ shopkeeping adventure continues i...</td>\n      <td>Food</td>\n      <td>bbc_two</td>\n      <td>4</td>\n      <td>https://ichef.bbci.co.uk/images/ic/352x198/p08...</td>\n    </tr>\n    <tr>\n      <th>1642</th>\n      <td>1642</td>\n      <td>The Grand Party Hotel</td>\n      <td>MD Kris is asked to fight in a charity boxing ...</td>\n      <td>Documentary</td>\n      <td>bbc_one</td>\n      <td>4</td>\n      <td>https://ichef.bbci.co.uk/images/ic/352x198/p08...</td>\n    </tr>\n    <tr>\n      <th>396</th>\n      <td>396</td>\n      <td>Earth’s Tropical Islands</td>\n      <td>Exploring Hawaii, a tropical sanctuary for any...</td>\n      <td>Nature</td>\n      <td>bbc_two</td>\n      <td>12</td>\n      <td>https://ichef.bbci.co.uk/images/ic/352x198/p07...</td>\n    </tr>\n  </tbody>\n</table>\n<p>68 rows × 7 columns</p>\n</div>"
     },
     "execution_count": 23,
     "metadata": {},
     "output_type": "execute_result"
    }
   ],
   "source": [
    "df_bbc.iloc[cosin_df.index]"
   ],
   "metadata": {
    "collapsed": false,
    "pycharm": {
     "name": "#%%\n"
    }
   }
  },
  {
   "cell_type": "code",
   "execution_count": 47,
   "outputs": [
    {
     "data": {
      "text/plain": "      index                               title  \\\n0         0                           BBC Proms   \n1         1                                Port   \n2         2  Sit Down, Stand Up with Greg James   \n3         3         Ceiliúradh na Féile Pádraig   \n4         4                     Songs of Praise   \n...     ...                                 ...   \n2321   2321           Models: Street to Catwalk   \n2322   2322                   Death On The I-95   \n2323   2323        Do Black Lives Still Matter?   \n2324   2324                        Ar An Sliabh   \n2325   2325                Avicii: True Stories   \n\n                                            description       category  \\\n0     Australian tenor Stuart Skelton is joined by L...          Music   \n1     Previously unseen music from the series Port, ...          Music   \n2     Tom Holland and Greg James cold call celebrity...  Entertainment   \n3     John Toal and Pauline Scanlon introduce an eve...          Music   \n4     Claire McCollum explores Edinburgh and shares ...          Music   \n...                                                 ...            ...   \n2321  Kyra’s late arrival puts her modelling career ...    Documentary   \n2322  Returning to the US to find out what happened ...    Documentary   \n2323  Grime artist Saskilla asks, can the music indu...    Documentary   \n2324  Paul packs up to return to his native Armagh a...    Documentary   \n2325  Avicii: True Stories is Tim Bergling’s own sto...    Documentary   \n\n                               channel  adv_category  \\\n0                      bbc_radio_three            11   \n1                             bbc_alba             7   \n2                        bbc_radio_one            10   \n3     bbc_two_northern_ireland_digital             7   \n4                              bbc_one             9   \n...                                ...           ...   \n2321                         bbc_three             9   \n2322                         bbc_three             1   \n2323                         bbc_three            11   \n2324                       bbc_webonly             7   \n2325                         bbc_three             9   \n\n                                                    img  \n0     https://ichef.bbci.co.uk/images/ic/352x198/p09...  \n1     https://ichef.bbci.co.uk/images/ic/352x198/p08...  \n2     https://ichef.bbci.co.uk/images/ic/352x198/p0b...  \n3     https://ichef.bbci.co.uk/images/ic/352x198/p04...  \n4     https://ichef.bbci.co.uk/images/ic/352x198/p0b...  \n...                                                 ...  \n2321  https://ichef.bbci.co.uk/images/ic/352x198/p09...  \n2322  https://ichef.bbci.co.uk/images/ic/352x198/p07...  \n2323  https://ichef.bbci.co.uk/images/ic/352x198/p09...  \n2324  https://ichef.bbci.co.uk/images/ic/352x198/p0b...  \n2325  https://ichef.bbci.co.uk/images/ic/352x198/p07...  \n\n[2326 rows x 7 columns]",
      "text/html": "<div>\n<style scoped>\n    .dataframe tbody tr th:only-of-type {\n        vertical-align: middle;\n    }\n\n    .dataframe tbody tr th {\n        vertical-align: top;\n    }\n\n    .dataframe thead th {\n        text-align: right;\n    }\n</style>\n<table border=\"1\" class=\"dataframe\">\n  <thead>\n    <tr style=\"text-align: right;\">\n      <th></th>\n      <th>index</th>\n      <th>title</th>\n      <th>description</th>\n      <th>category</th>\n      <th>channel</th>\n      <th>adv_category</th>\n      <th>img</th>\n    </tr>\n  </thead>\n  <tbody>\n    <tr>\n      <th>0</th>\n      <td>0</td>\n      <td>BBC Proms</td>\n      <td>Australian tenor Stuart Skelton is joined by L...</td>\n      <td>Music</td>\n      <td>bbc_radio_three</td>\n      <td>11</td>\n      <td>https://ichef.bbci.co.uk/images/ic/352x198/p09...</td>\n    </tr>\n    <tr>\n      <th>1</th>\n      <td>1</td>\n      <td>Port</td>\n      <td>Previously unseen music from the series Port, ...</td>\n      <td>Music</td>\n      <td>bbc_alba</td>\n      <td>7</td>\n      <td>https://ichef.bbci.co.uk/images/ic/352x198/p08...</td>\n    </tr>\n    <tr>\n      <th>2</th>\n      <td>2</td>\n      <td>Sit Down, Stand Up with Greg James</td>\n      <td>Tom Holland and Greg James cold call celebrity...</td>\n      <td>Entertainment</td>\n      <td>bbc_radio_one</td>\n      <td>10</td>\n      <td>https://ichef.bbci.co.uk/images/ic/352x198/p0b...</td>\n    </tr>\n    <tr>\n      <th>3</th>\n      <td>3</td>\n      <td>Ceiliúradh na Féile Pádraig</td>\n      <td>John Toal and Pauline Scanlon introduce an eve...</td>\n      <td>Music</td>\n      <td>bbc_two_northern_ireland_digital</td>\n      <td>7</td>\n      <td>https://ichef.bbci.co.uk/images/ic/352x198/p04...</td>\n    </tr>\n    <tr>\n      <th>4</th>\n      <td>4</td>\n      <td>Songs of Praise</td>\n      <td>Claire McCollum explores Edinburgh and shares ...</td>\n      <td>Music</td>\n      <td>bbc_one</td>\n      <td>9</td>\n      <td>https://ichef.bbci.co.uk/images/ic/352x198/p0b...</td>\n    </tr>\n    <tr>\n      <th>...</th>\n      <td>...</td>\n      <td>...</td>\n      <td>...</td>\n      <td>...</td>\n      <td>...</td>\n      <td>...</td>\n      <td>...</td>\n    </tr>\n    <tr>\n      <th>2321</th>\n      <td>2321</td>\n      <td>Models: Street to Catwalk</td>\n      <td>Kyra’s late arrival puts her modelling career ...</td>\n      <td>Documentary</td>\n      <td>bbc_three</td>\n      <td>9</td>\n      <td>https://ichef.bbci.co.uk/images/ic/352x198/p09...</td>\n    </tr>\n    <tr>\n      <th>2322</th>\n      <td>2322</td>\n      <td>Death On The I-95</td>\n      <td>Returning to the US to find out what happened ...</td>\n      <td>Documentary</td>\n      <td>bbc_three</td>\n      <td>1</td>\n      <td>https://ichef.bbci.co.uk/images/ic/352x198/p07...</td>\n    </tr>\n    <tr>\n      <th>2323</th>\n      <td>2323</td>\n      <td>Do Black Lives Still Matter?</td>\n      <td>Grime artist Saskilla asks, can the music indu...</td>\n      <td>Documentary</td>\n      <td>bbc_three</td>\n      <td>11</td>\n      <td>https://ichef.bbci.co.uk/images/ic/352x198/p09...</td>\n    </tr>\n    <tr>\n      <th>2324</th>\n      <td>2324</td>\n      <td>Ar An Sliabh</td>\n      <td>Paul packs up to return to his native Armagh a...</td>\n      <td>Documentary</td>\n      <td>bbc_webonly</td>\n      <td>7</td>\n      <td>https://ichef.bbci.co.uk/images/ic/352x198/p0b...</td>\n    </tr>\n    <tr>\n      <th>2325</th>\n      <td>2325</td>\n      <td>Avicii: True Stories</td>\n      <td>Avicii: True Stories is Tim Bergling’s own sto...</td>\n      <td>Documentary</td>\n      <td>bbc_three</td>\n      <td>9</td>\n      <td>https://ichef.bbci.co.uk/images/ic/352x198/p07...</td>\n    </tr>\n  </tbody>\n</table>\n<p>2326 rows × 7 columns</p>\n</div>"
     },
     "execution_count": 47,
     "metadata": {},
     "output_type": "execute_result"
    }
   ],
   "source": [
    "df_bbc"
   ],
   "metadata": {
    "collapsed": false,
    "pycharm": {
     "name": "#%%\n"
    }
   }
  },
  {
   "cell_type": "code",
   "execution_count": 70,
   "outputs": [
    {
     "data": {
      "text/plain": "11"
     },
     "execution_count": 70,
     "metadata": {},
     "output_type": "execute_result"
    }
   ],
   "source": [
    "df_bbc[df_bbc['index'] == 5]['adv_category'].iloc[0]"
   ],
   "metadata": {
    "collapsed": false,
    "pycharm": {
     "name": "#%%\n"
    }
   }
  },
  {
   "cell_type": "code",
   "execution_count": 64,
   "outputs": [
    {
     "data": {
      "text/plain": "[247,\n 324,\n 434,\n 473,\n 509,\n 533,\n 537,\n 541,\n 593,\n 597,\n 599,\n 613,\n 619,\n 621,\n 625,\n 691,\n 706,\n 708,\n 717,\n 742,\n 748,\n 778,\n 791,\n 792,\n 808,\n 809,\n 811,\n 814,\n 825,\n 826,\n 827,\n 851,\n 858,\n 863,\n 868,\n 871,\n 873,\n 874,\n 880,\n 897,\n 904,\n 907,\n 918,\n 921,\n 923,\n 927,\n 934,\n 940,\n 946,\n 949,\n 954,\n 963,\n 964,\n 971,\n 975,\n 980,\n 983,\n 989,\n 990,\n 992,\n 995,\n 1059,\n 1096,\n 1110,\n 1322,\n 1366,\n 1376,\n 1379,\n 1392,\n 1401,\n 1413,\n 1481,\n 1496,\n 1526,\n 1578,\n 1605,\n 1608,\n 1611,\n 1614,\n 1617,\n 1618,\n 1621,\n 1625,\n 1643,\n 1644,\n 1658,\n 1680,\n 1698,\n 1702,\n 1707,\n 1754,\n 1755,\n 1765,\n 1775,\n 1789,\n 1814,\n 1829,\n 1830,\n 1838,\n 1916,\n 1938,\n 1961,\n 2049,\n 2120,\n 2121,\n 2123,\n 2124,\n 2125,\n 2127,\n 2132,\n 2135,\n 2139,\n 2145,\n 2152,\n 2156,\n 2158,\n 2161,\n 2162,\n 2166,\n 2172,\n 2183,\n 2184,\n 2192,\n 2194,\n 2199,\n 2206,\n 2207,\n 2209,\n 2214,\n 2217,\n 2219,\n 2224,\n 2228,\n 2229,\n 2230,\n 2237,\n 2239,\n 2243,\n 2245,\n 2256,\n 2257,\n 2262,\n 2270,\n 2279,\n 2282,\n 2283,\n 2289,\n 2293,\n 2295,\n 2308,\n 2310,\n 2312,\n 2322]"
     },
     "execution_count": 64,
     "metadata": {},
     "output_type": "execute_result"
    }
   ],
   "source": [
    "df_bbc[df_bbc['adv_category'] == df_bbc[df_bbc['index'] == 1].iloc[0, 0]].index.tolist()"
   ],
   "metadata": {
    "collapsed": false,
    "pycharm": {
     "name": "#%%\n"
    }
   }
  }
 ],
 "metadata": {
  "kernelspec": {
   "display_name": "Python 3",
   "language": "python",
   "name": "python3"
  },
  "language_info": {
   "codemirror_mode": {
    "name": "ipython",
    "version": 2
   },
   "file_extension": ".py",
   "mimetype": "text/x-python",
   "name": "python",
   "nbconvert_exporter": "python",
   "pygments_lexer": "ipython2",
   "version": "2.7.6"
  }
 },
 "nbformat": 4,
 "nbformat_minor": 0
}