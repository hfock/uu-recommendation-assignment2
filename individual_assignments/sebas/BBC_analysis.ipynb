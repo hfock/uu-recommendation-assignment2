{
 "cells": [
  {
   "cell_type": "raw",
   "source": [
    "This notebook is to try some analyses and save the matrix being used by the interface."
   ],
   "metadata": {
    "collapsed": false,
    "pycharm": {
     "name": "#%% raw\n"
    }
   }
  },
  {
   "cell_type": "code",
   "execution_count": 2,
   "outputs": [
    {
     "data": {
      "text/plain": "3803"
     },
     "execution_count": 2,
     "metadata": {},
     "output_type": "execute_result"
    }
   ],
   "source": [
    "import pandas as pd\n",
    "\n",
    "df_BBC = pd.read_csv('BBC_raw.csv', sep=';')\n",
    "len(df_BBC)"
   ],
   "metadata": {
    "collapsed": false,
    "pycharm": {
     "name": "#%%\n"
    }
   }
  },
  {
   "cell_type": "code",
   "execution_count": 3,
   "outputs": [
    {
     "data": {
      "text/plain": "1895"
     },
     "execution_count": 3,
     "metadata": {},
     "output_type": "execute_result"
    }
   ],
   "source": [
    "df_BBC = df_BBC.drop_duplicates(subset = ['title'])\n",
    "df_BBC.dropna(subset = [\"synops_long\"], inplace = True)\n",
    "df_BBC = df_BBC.reset_index()\n",
    "len(df_BBC)"
   ],
   "metadata": {
    "collapsed": false,
    "pycharm": {
     "name": "#%%\n"
    }
   }
  },
  {
   "cell_type": "code",
   "execution_count": 17,
   "outputs": [
    {
     "data": {
      "text/plain": "   index  id                        title  \\\n0      0   0                    BBC Proms   \n1      1   1                         Port   \n2      3   3  Ceiliúradh na Féile Pádraig   \n3      4   4              Songs of Praise   \n4      5   5      Radio 1's Out Out! Live   \n\n                                         description  \\\n0  Australian tenor Stuart Skelton is joined by L...   \n1  Previously unseen music from the series Port, ...   \n2  John Toal and Pauline Scanlon introduce an eve...   \n3  Claire McCollum explores Edinburgh and shares ...   \n4  Music’s biggest names celebrate the return of ...   \n\n                                               image  \\\n0  https://ichef.bbci.co.uk/images/ic/{recipe}/p0...   \n1  https://ichef.bbci.co.uk/images/ic/{recipe}/p0...   \n2  https://ichef.bbci.co.uk/images/ic/{recipe}/p0...   \n3  https://ichef.bbci.co.uk/images/ic/{recipe}/p0...   \n4  https://ichef.bbci.co.uk/images/ic/{recipe}/p0...   \n\n                                            keywords  \\\n0  BBC, iPlayer, TV, BBC Proms, 2021: Last Night ...   \n1        BBC, iPlayer, TV, Port, Series 5: Episode 4   \n2      BBC, iPlayer, TV, Ceiliúradh na Féile Pádraig   \n3       BBC, iPlayer, TV, Songs of Praise, Edinburgh   \n4  BBC, iPlayer, TV, Radio 1s Out Out! Live, Best...   \n\n                                      synopses_small  \\\n0  Australian tenor Stuart Skelton is joined by L...   \n1  Previously unseen music from the series Port, ...   \n2  John Toal and Pauline Scanlon introduce an eve...   \n3  Claire McCollum explores Edinburgh and shares ...   \n4  Music’s biggest names celebrate the return of ...   \n\n                                          synops_med  \\\n0  Australian tenor Stuart Skelton is joined by L...   \n1  Julie Fowlis a’ lìbhrigeadh ceòl bhon t-sreath...   \n2  John Toal and Pauline Scanlon introduce an eve...   \n3  Claire McCollum goes on a Christian heritage t...   \n4  BBC Radio 1 host a star-studded party from Wem...   \n\n                                         synops_long category  \\\n0  Katie Derham hosts continued live coverage fro...    Music   \n1  Bidh Druthag Bheag Eile a’ tarraing ri chèile ...    Music   \n2  John Toal and Pauline Scanlon introduce an eve...    Music   \n3  Claire McCollum explores Edinburgh and discove...    Music   \n4  BBC Radio 1 host a star-studded party from Wem...    Music   \n\n                            channel language         release_date  \\\n0                   bbc_radio_three    False      9pm 11 Sep 2021   \n1                          bbc_alba    False           9 Jul 2020   \n2  bbc_two_northern_ireland_digital    False          17 Mar 2017   \n3                           bbc_one    False   1:15pm 20 Feb 2022   \n4                     bbc_radio_one    False  11:30pm 17 Oct 2021   \n\n   duration_sec  topic  \n0          5247  music  \n1          1037  music  \n2          3538  music  \n3          2044  music  \n4          3423  music  ",
      "text/html": "<div>\n<style scoped>\n    .dataframe tbody tr th:only-of-type {\n        vertical-align: middle;\n    }\n\n    .dataframe tbody tr th {\n        vertical-align: top;\n    }\n\n    .dataframe thead th {\n        text-align: right;\n    }\n</style>\n<table border=\"1\" class=\"dataframe\">\n  <thead>\n    <tr style=\"text-align: right;\">\n      <th></th>\n      <th>index</th>\n      <th>id</th>\n      <th>title</th>\n      <th>description</th>\n      <th>image</th>\n      <th>keywords</th>\n      <th>synopses_small</th>\n      <th>synops_med</th>\n      <th>synops_long</th>\n      <th>category</th>\n      <th>channel</th>\n      <th>language</th>\n      <th>release_date</th>\n      <th>duration_sec</th>\n      <th>topic</th>\n    </tr>\n  </thead>\n  <tbody>\n    <tr>\n      <th>0</th>\n      <td>0</td>\n      <td>0</td>\n      <td>BBC Proms</td>\n      <td>Australian tenor Stuart Skelton is joined by L...</td>\n      <td>https://ichef.bbci.co.uk/images/ic/{recipe}/p0...</td>\n      <td>BBC, iPlayer, TV, BBC Proms, 2021: Last Night ...</td>\n      <td>Australian tenor Stuart Skelton is joined by L...</td>\n      <td>Australian tenor Stuart Skelton is joined by L...</td>\n      <td>Katie Derham hosts continued live coverage fro...</td>\n      <td>Music</td>\n      <td>bbc_radio_three</td>\n      <td>False</td>\n      <td>9pm 11 Sep 2021</td>\n      <td>5247</td>\n      <td>music</td>\n    </tr>\n    <tr>\n      <th>1</th>\n      <td>1</td>\n      <td>1</td>\n      <td>Port</td>\n      <td>Previously unseen music from the series Port, ...</td>\n      <td>https://ichef.bbci.co.uk/images/ic/{recipe}/p0...</td>\n      <td>BBC, iPlayer, TV, Port, Series 5: Episode 4</td>\n      <td>Previously unseen music from the series Port, ...</td>\n      <td>Julie Fowlis a’ lìbhrigeadh ceòl bhon t-sreath...</td>\n      <td>Bidh Druthag Bheag Eile a’ tarraing ri chèile ...</td>\n      <td>Music</td>\n      <td>bbc_alba</td>\n      <td>False</td>\n      <td>9 Jul 2020</td>\n      <td>1037</td>\n      <td>music</td>\n    </tr>\n    <tr>\n      <th>2</th>\n      <td>3</td>\n      <td>3</td>\n      <td>Ceiliúradh na Féile Pádraig</td>\n      <td>John Toal and Pauline Scanlon introduce an eve...</td>\n      <td>https://ichef.bbci.co.uk/images/ic/{recipe}/p0...</td>\n      <td>BBC, iPlayer, TV, Ceiliúradh na Féile Pádraig</td>\n      <td>John Toal and Pauline Scanlon introduce an eve...</td>\n      <td>John Toal and Pauline Scanlon introduce an eve...</td>\n      <td>John Toal and Pauline Scanlon introduce an eve...</td>\n      <td>Music</td>\n      <td>bbc_two_northern_ireland_digital</td>\n      <td>False</td>\n      <td>17 Mar 2017</td>\n      <td>3538</td>\n      <td>music</td>\n    </tr>\n    <tr>\n      <th>3</th>\n      <td>4</td>\n      <td>4</td>\n      <td>Songs of Praise</td>\n      <td>Claire McCollum explores Edinburgh and shares ...</td>\n      <td>https://ichef.bbci.co.uk/images/ic/{recipe}/p0...</td>\n      <td>BBC, iPlayer, TV, Songs of Praise, Edinburgh</td>\n      <td>Claire McCollum explores Edinburgh and shares ...</td>\n      <td>Claire McCollum goes on a Christian heritage t...</td>\n      <td>Claire McCollum explores Edinburgh and discove...</td>\n      <td>Music</td>\n      <td>bbc_one</td>\n      <td>False</td>\n      <td>1:15pm 20 Feb 2022</td>\n      <td>2044</td>\n      <td>music</td>\n    </tr>\n    <tr>\n      <th>4</th>\n      <td>5</td>\n      <td>5</td>\n      <td>Radio 1's Out Out! Live</td>\n      <td>Music’s biggest names celebrate the return of ...</td>\n      <td>https://ichef.bbci.co.uk/images/ic/{recipe}/p0...</td>\n      <td>BBC, iPlayer, TV, Radio 1s Out Out! Live, Best...</td>\n      <td>Music’s biggest names celebrate the return of ...</td>\n      <td>BBC Radio 1 host a star-studded party from Wem...</td>\n      <td>BBC Radio 1 host a star-studded party from Wem...</td>\n      <td>Music</td>\n      <td>bbc_radio_one</td>\n      <td>False</td>\n      <td>11:30pm 17 Oct 2021</td>\n      <td>3423</td>\n      <td>music</td>\n    </tr>\n  </tbody>\n</table>\n</div>"
     },
     "execution_count": 17,
     "metadata": {},
     "output_type": "execute_result"
    }
   ],
   "source": [
    "df_BBC.head()"
   ],
   "metadata": {
    "collapsed": false,
    "pycharm": {
     "name": "#%%\n"
    }
   }
  },
  {
   "cell_type": "raw",
   "source": [
    "I use a tf-idf function and cosine similarity (linear kernel) function provided by sklearn to create a matrix for all similarities between the shows. These similarities can simply be accessed through the streamlit code."
   ],
   "metadata": {
    "collapsed": false,
    "pycharm": {
     "name": "#%% raw\n"
    }
   }
  },
  {
   "cell_type": "code",
   "execution_count": 18,
   "outputs": [
    {
     "name": "stdout",
     "output_type": "stream",
     "text": [
      "[[1.   0.02 0.03 ... 0.08 0.01 0.06]\n",
      " [0.02 1.   0.08 ... 0.02 0.08 0.03]\n",
      " [0.03 0.08 1.   ... 0.03 0.14 0.02]\n",
      " ...\n",
      " [0.08 0.02 0.03 ... 1.   0.01 0.08]\n",
      " [0.01 0.08 0.14 ... 0.01 1.   0.02]\n",
      " [0.06 0.03 0.02 ... 0.08 0.02 1.  ]]\n"
     ]
    }
   ],
   "source": [
    "from sklearn.metrics.pairwise import cosine_similarity\n",
    "from sklearn.feature_extraction.text import TfidfVectorizer\n",
    "from sklearn.metrics.pairwise import linear_kernel\n",
    "\n",
    "# Initialize an instance of tf-idf Vectorizer\n",
    "tfidf_vectorizer = TfidfVectorizer()\n",
    "corpus = df_BBC.synops_long\n",
    "\n",
    "# Generate the tf-idf vectors for the corpus\n",
    "tfidf_matrix = tfidf_vectorizer.fit_transform(corpus)\n",
    "\n",
    "# compute and print the cosine similarity matrix\n",
    "cosine_sim = linear_kernel(tfidf_matrix, tfidf_matrix).round(2)\n",
    "print(cosine_sim)"
   ],
   "metadata": {
    "collapsed": false,
    "pycharm": {
     "name": "#%%\n"
    }
   }
  },
  {
   "cell_type": "code",
   "execution_count": 19,
   "outputs": [
    {
     "data": {
      "text/plain": "(1895, 1895)"
     },
     "execution_count": 19,
     "metadata": {},
     "output_type": "execute_result"
    }
   ],
   "source": [
    "cosine_sim.shape"
   ],
   "metadata": {
    "collapsed": false,
    "pycharm": {
     "name": "#%%\n"
    }
   }
  },
  {
   "cell_type": "code",
   "execution_count": 20,
   "outputs": [
    {
     "data": {
      "text/plain": "1.0"
     },
     "execution_count": 20,
     "metadata": {},
     "output_type": "execute_result"
    }
   ],
   "source": [
    "import numpy as np\n",
    "np.min(cosine_sim)\n",
    "np.max(cosine_sim)\n",
    "#np.max(cosine_sim, axis = 0)"
   ],
   "metadata": {
    "collapsed": false,
    "pycharm": {
     "name": "#%%\n"
    }
   }
  },
  {
   "cell_type": "raw",
   "source": [
    "The following function gets recommendation through most similar (or quality content) items from a matrix.\n",
    "https://goodboychan.github.io/python/datacamp/natural_language_processing/2020/07/17/04-TF-IDF-and-similarity-scores.html"
   ],
   "metadata": {
    "collapsed": false,
    "pycharm": {
     "name": "#%% raw\n"
    }
   }
  },
  {
   "cell_type": "code",
   "execution_count": 48,
   "outputs": [],
   "source": [
    "indices = pd.Series(df_BBC.index, index = df_BBC['title']).drop_duplicates()\n",
    "\n",
    "def get_recommendations(title, cosine, indices):\n",
    "    # Get the index of the movie that matches the title\n",
    "    idx = indices[title]\n",
    "    # Get the pairwsie similarity scores\n",
    "    sim_scores = list(enumerate(cosine[idx]))\n",
    "    # Sort the movies based on the similarity scores\n",
    "    sim_scores = sorted(sim_scores, key=lambda x: x[1], reverse = True)\n",
    "    # Get the scores for 10 most similar movies\n",
    "    sim_scores = sim_scores[0:9]\n",
    "    # Get the movie indices\n",
    "    movie_indices = [i[0] for i in sim_scores]\n",
    "    # Return the top 10 most similar movies\n",
    "    return df_BBC['title'].iloc[movie_indices]"
   ],
   "metadata": {
    "collapsed": false,
    "pycharm": {
     "name": "#%%\n"
    }
   }
  },
  {
   "cell_type": "code",
   "execution_count": 49,
   "outputs": [
    {
     "name": "stdout",
     "output_type": "stream",
     "text": [
      "312                     Planet Earth II\n",
      "338                     The Mating Game\n",
      "382             Wales: Land of the Wild\n",
      "360            Earth’s Tropical Islands\n",
      "311    Chris Packham's Animal Einsteins\n",
      "358            Seven Worlds, One Planet\n",
      "410                Animals with Cameras\n",
      "294                    Earth from Space\n",
      "418                           Zoo Quest\n",
      "Name: title, dtype: object\n"
     ]
    }
   ],
   "source": [
    "tfidf = TfidfVectorizer(stop_words = 'english')\n",
    "# Construct the TF-IDF matrix\n",
    "tfidf_matrix = tfidf_vectorizer.fit_transform(corpus)\n",
    "# Generate the cosine similarity matrix\n",
    "cosine_sim = cosine_similarity(tfidf_matrix, tfidf_matrix)\n",
    "# Generate recommendations\n",
    "print(get_recommendations(\"Planet Earth II\", cosine_sim, indices))"
   ],
   "metadata": {
    "collapsed": false,
    "pycharm": {
     "name": "#%%\n"
    }
   }
  },
  {
   "cell_type": "raw",
   "source": [
    "Through matrix modification, parameter alpha along its formulas can simply be introduced to call recommendations from a matrix"
   ],
   "metadata": {
    "collapsed": false,
    "pycharm": {
     "name": "#%% raw\n"
    }
   }
  },
  {
   "cell_type": "code",
   "execution_count": 50,
   "outputs": [
    {
     "name": "stdout",
     "output_type": "stream",
     "text": [
      "312                 Planet Earth II\n",
      "382         Wales: Land of the Wild\n",
      "963                 Worzel Gummidge\n",
      "1760         World's Busiest Cities\n",
      "429                 Born to Be Wild\n",
      "338                 The Mating Game\n",
      "99      Planet Earth: A Celebration\n",
      "344                   Animal Babies\n",
      "432               The Wild Gardener\n",
      "Name: title, dtype: object\n"
     ]
    }
   ],
   "source": [
    "alpha = 0.2\n",
    "selection = get_recommendations(\"Planet Earth II\", cosine_sim, indices).index.values\n",
    "RelDiversity = (1-cosine_sim[list(selection)]).mean(axis = 0).round(2)\n",
    "quality = (1 - alpha) * cosine_sim + alpha * RelDiversity\n",
    "print(get_recommendations(\"Planet Earth II\", quality, indices))"
   ],
   "metadata": {
    "collapsed": false,
    "pycharm": {
     "name": "#%%\n"
    }
   }
  },
  {
   "cell_type": "raw",
   "source": [
    "We also need to be able to access more data from the csv to make the interface presentable"
   ],
   "metadata": {
    "collapsed": false,
    "pycharm": {
     "name": "#%% raw\n"
    }
   }
  },
  {
   "cell_type": "code",
   "execution_count": 51,
   "outputs": [
    {
     "name": "stdout",
     "output_type": "stream",
     "text": [
      "https://ichef.bbci.co.uk/images/ic/288x162/p09w0p59.jpg\n"
     ]
    }
   ],
   "source": [
    "print(df_BBC['image'].iloc[0].format(recipe = \"288x162\"))"
   ],
   "metadata": {
    "collapsed": false,
    "pycharm": {
     "name": "#%%\n"
    }
   }
  },
  {
   "cell_type": "code",
   "execution_count": 54,
   "outputs": [
    {
     "data": {
      "text/plain": "[312, 338, 382, 360, 311, 358, 410, 294, 418]"
     },
     "execution_count": 54,
     "metadata": {},
     "output_type": "execute_result"
    }
   ],
   "source": [
    "list(get_recommendations(\"Planet Earth II\", cosine_sim, indices).index)"
   ],
   "metadata": {
    "collapsed": false,
    "pycharm": {
     "name": "#%%\n"
    }
   }
  },
  {
   "cell_type": "code",
   "execution_count": 164,
   "outputs": [
    {
     "data": {
      "text/plain": "     index   id                             title  \\\n312    365  365                   Planet Earth II   \n338    391  391                   The Mating Game   \n360    414  414          Earth’s Tropical Islands   \n382    437  437           Wales: Land of the Wild   \n311    364  364  Chris Packham's Animal Einsteins   \n294    346  346                  Earth from Space   \n358    412  412          Seven Worlds, One Planet   \n410    469  469              Animals with Cameras   \n99     117  117       Planet Earth: A Celebration   \n\n                                           description  \\\n312  Cities can be worlds of surprising opportunity...   \n338  Animals facing the greatest odds have the most...   \n360  Exploring Hawaii, a tropical sanctuary for any...   \n382  An epic journey following Wales’s rivers, disc...   \n311  Chris discovers the cleverest animal traveller...   \n294  Cameras in space show Earth changing rapidly. ...   \n358      The most spectacular moments from the series.   \n410  State-of-the-art cameras offer a fresh look on...   \n99   Escape with Sir David Attenborough to the wild...   \n\n                                                 image  \\\n312  https://ichef.bbci.co.uk/images/ic/{recipe}/p0...   \n338  https://ichef.bbci.co.uk/images/ic/{recipe}/p0...   \n360  https://ichef.bbci.co.uk/images/ic/{recipe}/p0...   \n382  https://ichef.bbci.co.uk/images/ic/{recipe}/p0...   \n311  https://ichef.bbci.co.uk/images/ic/{recipe}/p0...   \n294  https://ichef.bbci.co.uk/images/ic/{recipe}/p0...   \n358  https://ichef.bbci.co.uk/images/ic/{recipe}/p0...   \n410  https://ichef.bbci.co.uk/images/ic/{recipe}/p0...   \n99   https://ichef.bbci.co.uk/images/ic/{recipe}/p0...   \n\n                                              keywords  \\\n312       BBC, iPlayer, TV, Planet Earth II, 6. Cities   \n338  BBC, iPlayer, TV, The Mating Game, Series 1: 5...   \n360  BBC, iPlayer, TV, Earth’s Tropical Islands, Se...   \n382  BBC, iPlayer, TV, Wales: Land of the Wild, Sec...   \n311  BBC, iPlayer, TV, Chris Packhams Animal Einste...   \n294  BBC, iPlayer, TV, Earth from Space, Series 1: ...   \n358  BBC, iPlayer, TV, Seven Worlds, One Planet, Co...   \n410  BBC, iPlayer, TV, Animals with Cameras, Series...   \n99       BBC, iPlayer, TV, Planet Earth: A Celebration   \n\n                                        synopses_small  \\\n312  Cities can be worlds of surprising opportunity...   \n338  Animals facing the greatest odds have the most...   \n360  Exploring Hawaii, a tropical sanctuary for any...   \n382  An epic journey following Wales’s rivers, disc...   \n311  Chris discovers the cleverest animal traveller...   \n294  Cameras in space show Earth changing rapidly. ...   \n358      The most spectacular moments from the series.   \n410  State-of-the-art cameras offer a fresh look on...   \n99   Escape with Sir David Attenborough to the wild...   \n\n                                            synops_med  \\\n312  Cities can be worlds of surprising opportunity...   \n338  All life is driven by the need to breed. Yet f...   \n360  Exploring Hawaii, a tropical sanctuary for any...   \n382  An epic journey following Wales’s rivers from ...   \n311  Chris discovers the cleverest animal traveller...   \n294  Cameras in space show that Earth is changing r...   \n358  The most spectacular moments from the series, ...   \n410  Wildlife cameraman Gordon Buchanan leads a tea...   \n99   Escape with Sir David Attenborough to the worl...   \n\n                                           synops_long          category  \\\n312  Cities are growing at a faster rate than any o...            Nature   \n338  One basic need connects all life on earth - th...            Nature   \n360  This is a journey across Hawaii’s varied islan...            Nature   \n382  An epic journey following Wales’s rivers from ...       Documentary   \n311  Chris Packham discovers the clever methods tha...            Nature   \n294  Cameras in space tell stories of life on our p...  Science & Nature   \n358  The most spectacular moments from the Seven Wo...  Science & Nature   \n410  Wildlife cameraman Gordon Buchanan fronts the ...            Nature   \n99   While the pandemic restricts our movements, wi...            Nature   \n\n           channel language       release_date  duration_sec  \\\n312        bbc_one    False        11 Dec 2016          3515   \n338        bbc_one    False    8pm 31 Oct 2021          3479   \n360        bbc_two    False         3 Jan 2020          3551   \n382  bbc_one_wales    False        25 Mar 2021          3532   \n311        bbc_two    False        28 Mar 2021          3540   \n294        bbc_one    False         8 May 2019          3461   \n358        bbc_one    False  1:05pm 1 Jan 2020          3475   \n410        bbc_two    False    8pm 15 Sep 2021          3540   \n99         bbc_one    False    8pm 31 Aug 2020          3483   \n\n                  topic  \n312  science-and-nature  \n338  science-and-nature  \n360  science-and-nature  \n382  science-and-nature  \n311  science-and-nature  \n294  science-and-nature  \n358  science-and-nature  \n410  science-and-nature  \n99                music  ",
      "text/html": "<div>\n<style scoped>\n    .dataframe tbody tr th:only-of-type {\n        vertical-align: middle;\n    }\n\n    .dataframe tbody tr th {\n        vertical-align: top;\n    }\n\n    .dataframe thead th {\n        text-align: right;\n    }\n</style>\n<table border=\"1\" class=\"dataframe\">\n  <thead>\n    <tr style=\"text-align: right;\">\n      <th></th>\n      <th>index</th>\n      <th>id</th>\n      <th>title</th>\n      <th>description</th>\n      <th>image</th>\n      <th>keywords</th>\n      <th>synopses_small</th>\n      <th>synops_med</th>\n      <th>synops_long</th>\n      <th>category</th>\n      <th>channel</th>\n      <th>language</th>\n      <th>release_date</th>\n      <th>duration_sec</th>\n      <th>topic</th>\n    </tr>\n  </thead>\n  <tbody>\n    <tr>\n      <th>312</th>\n      <td>365</td>\n      <td>365</td>\n      <td>Planet Earth II</td>\n      <td>Cities can be worlds of surprising opportunity...</td>\n      <td>https://ichef.bbci.co.uk/images/ic/{recipe}/p0...</td>\n      <td>BBC, iPlayer, TV, Planet Earth II, 6. Cities</td>\n      <td>Cities can be worlds of surprising opportunity...</td>\n      <td>Cities can be worlds of surprising opportunity...</td>\n      <td>Cities are growing at a faster rate than any o...</td>\n      <td>Nature</td>\n      <td>bbc_one</td>\n      <td>False</td>\n      <td>11 Dec 2016</td>\n      <td>3515</td>\n      <td>science-and-nature</td>\n    </tr>\n    <tr>\n      <th>338</th>\n      <td>391</td>\n      <td>391</td>\n      <td>The Mating Game</td>\n      <td>Animals facing the greatest odds have the most...</td>\n      <td>https://ichef.bbci.co.uk/images/ic/{recipe}/p0...</td>\n      <td>BBC, iPlayer, TV, The Mating Game, Series 1: 5...</td>\n      <td>Animals facing the greatest odds have the most...</td>\n      <td>All life is driven by the need to breed. Yet f...</td>\n      <td>One basic need connects all life on earth - th...</td>\n      <td>Nature</td>\n      <td>bbc_one</td>\n      <td>False</td>\n      <td>8pm 31 Oct 2021</td>\n      <td>3479</td>\n      <td>science-and-nature</td>\n    </tr>\n    <tr>\n      <th>360</th>\n      <td>414</td>\n      <td>414</td>\n      <td>Earth’s Tropical Islands</td>\n      <td>Exploring Hawaii, a tropical sanctuary for any...</td>\n      <td>https://ichef.bbci.co.uk/images/ic/{recipe}/p0...</td>\n      <td>BBC, iPlayer, TV, Earth’s Tropical Islands, Se...</td>\n      <td>Exploring Hawaii, a tropical sanctuary for any...</td>\n      <td>Exploring Hawaii, a tropical sanctuary for any...</td>\n      <td>This is a journey across Hawaii’s varied islan...</td>\n      <td>Nature</td>\n      <td>bbc_two</td>\n      <td>False</td>\n      <td>3 Jan 2020</td>\n      <td>3551</td>\n      <td>science-and-nature</td>\n    </tr>\n    <tr>\n      <th>382</th>\n      <td>437</td>\n      <td>437</td>\n      <td>Wales: Land of the Wild</td>\n      <td>An epic journey following Wales’s rivers, disc...</td>\n      <td>https://ichef.bbci.co.uk/images/ic/{recipe}/p0...</td>\n      <td>BBC, iPlayer, TV, Wales: Land of the Wild, Sec...</td>\n      <td>An epic journey following Wales’s rivers, disc...</td>\n      <td>An epic journey following Wales’s rivers from ...</td>\n      <td>An epic journey following Wales’s rivers from ...</td>\n      <td>Documentary</td>\n      <td>bbc_one_wales</td>\n      <td>False</td>\n      <td>25 Mar 2021</td>\n      <td>3532</td>\n      <td>science-and-nature</td>\n    </tr>\n    <tr>\n      <th>311</th>\n      <td>364</td>\n      <td>364</td>\n      <td>Chris Packham's Animal Einsteins</td>\n      <td>Chris discovers the cleverest animal traveller...</td>\n      <td>https://ichef.bbci.co.uk/images/ic/{recipe}/p0...</td>\n      <td>BBC, iPlayer, TV, Chris Packhams Animal Einste...</td>\n      <td>Chris discovers the cleverest animal traveller...</td>\n      <td>Chris discovers the cleverest animal traveller...</td>\n      <td>Chris Packham discovers the clever methods tha...</td>\n      <td>Nature</td>\n      <td>bbc_two</td>\n      <td>False</td>\n      <td>28 Mar 2021</td>\n      <td>3540</td>\n      <td>science-and-nature</td>\n    </tr>\n    <tr>\n      <th>294</th>\n      <td>346</td>\n      <td>346</td>\n      <td>Earth from Space</td>\n      <td>Cameras in space show Earth changing rapidly. ...</td>\n      <td>https://ichef.bbci.co.uk/images/ic/{recipe}/p0...</td>\n      <td>BBC, iPlayer, TV, Earth from Space, Series 1: ...</td>\n      <td>Cameras in space show Earth changing rapidly. ...</td>\n      <td>Cameras in space show that Earth is changing r...</td>\n      <td>Cameras in space tell stories of life on our p...</td>\n      <td>Science &amp; Nature</td>\n      <td>bbc_one</td>\n      <td>False</td>\n      <td>8 May 2019</td>\n      <td>3461</td>\n      <td>science-and-nature</td>\n    </tr>\n    <tr>\n      <th>358</th>\n      <td>412</td>\n      <td>412</td>\n      <td>Seven Worlds, One Planet</td>\n      <td>The most spectacular moments from the series.</td>\n      <td>https://ichef.bbci.co.uk/images/ic/{recipe}/p0...</td>\n      <td>BBC, iPlayer, TV, Seven Worlds, One Planet, Co...</td>\n      <td>The most spectacular moments from the series.</td>\n      <td>The most spectacular moments from the series, ...</td>\n      <td>The most spectacular moments from the Seven Wo...</td>\n      <td>Science &amp; Nature</td>\n      <td>bbc_one</td>\n      <td>False</td>\n      <td>1:05pm 1 Jan 2020</td>\n      <td>3475</td>\n      <td>science-and-nature</td>\n    </tr>\n    <tr>\n      <th>410</th>\n      <td>469</td>\n      <td>469</td>\n      <td>Animals with Cameras</td>\n      <td>State-of-the-art cameras offer a fresh look on...</td>\n      <td>https://ichef.bbci.co.uk/images/ic/{recipe}/p0...</td>\n      <td>BBC, iPlayer, TV, Animals with Cameras, Series...</td>\n      <td>State-of-the-art cameras offer a fresh look on...</td>\n      <td>Wildlife cameraman Gordon Buchanan leads a tea...</td>\n      <td>Wildlife cameraman Gordon Buchanan fronts the ...</td>\n      <td>Nature</td>\n      <td>bbc_two</td>\n      <td>False</td>\n      <td>8pm 15 Sep 2021</td>\n      <td>3540</td>\n      <td>science-and-nature</td>\n    </tr>\n    <tr>\n      <th>99</th>\n      <td>117</td>\n      <td>117</td>\n      <td>Planet Earth: A Celebration</td>\n      <td>Escape with Sir David Attenborough to the wild...</td>\n      <td>https://ichef.bbci.co.uk/images/ic/{recipe}/p0...</td>\n      <td>BBC, iPlayer, TV, Planet Earth: A Celebration</td>\n      <td>Escape with Sir David Attenborough to the wild...</td>\n      <td>Escape with Sir David Attenborough to the worl...</td>\n      <td>While the pandemic restricts our movements, wi...</td>\n      <td>Nature</td>\n      <td>bbc_one</td>\n      <td>False</td>\n      <td>8pm 31 Aug 2020</td>\n      <td>3483</td>\n      <td>music</td>\n    </tr>\n  </tbody>\n</table>\n</div>"
     },
     "execution_count": 164,
     "metadata": {},
     "output_type": "execute_result"
    }
   ],
   "source": [
    "ind = list(get_recommendations(\"Planet Earth II\", cosine_sim, indices).index)\n",
    "df_BBC.filter(items = ind, axis=0)"
   ],
   "metadata": {
    "collapsed": false,
    "pycharm": {
     "name": "#%%\n"
    }
   }
  },
  {
   "cell_type": "raw",
   "source": [
    "The matrix is exported so it can be loaded in the interface"
   ],
   "metadata": {
    "collapsed": false,
    "pycharm": {
     "name": "#%% raw\n"
    }
   }
  },
  {
   "cell_type": "code",
   "execution_count": null,
   "outputs": [],
   "source": [
    "with open('similarity.npy', 'wb') as f:\n",
    "    np.save(f, cosine_sim)"
   ],
   "metadata": {
    "collapsed": false,
    "pycharm": {
     "name": "#%%\n"
    }
   }
  },
  {
   "cell_type": "code",
   "execution_count": null,
   "outputs": [],
   "source": [
    "with open('similarity.npy', 'rb') as f:\n",
    "    simsim = np.load(f)"
   ],
   "metadata": {
    "collapsed": false,
    "pycharm": {
     "name": "#%%\n"
    }
   }
  },
  {
   "cell_type": "code",
   "execution_count": 89,
   "outputs": [
    {
     "data": {
      "text/plain": "      index    id                                           title  \\\n75       91    91                      Anything Goes: The Musical   \n177     204   204                     Dance: BBC Introducing Arts   \n178     205   205  Truman and Tennessee: An Intimate Conversation   \n183     211   211                                            Ex-S   \n187     215   215                                Big Book Weekend   \n...     ...   ...                                             ...   \n292     344   344                                  Dancing Nation   \n790     960   960            Glow Up: Britain's Next Make-Up Star   \n1457   2317  2317                                         Tonight   \n1517   2480  2480                 John Buchan: Master of Suspense   \n1565   2637  2637                                         Profile   \n\n                                            description  \\\n75    A major new production of the classic musical ...   \n177   Brenda Emmanus presents short films that combi...   \n178   Docudrama that creates a fascinating compariso...   \n183   Jasper Conran designs the costumes for Swan La...   \n187   Alex Clark talks to the queen of crime Val McD...   \n...                                                 ...   \n292   Highlights of world-class performances by the ...   \n790   The Glow Up final. An industry masterclass and...   \n1457  The writer Dame Rebecca West in conversation w...   \n1517  Docudrama about the life of author John Buchan...   \n1565  Philip Pullman explores Oxford, where he was a...   \n\n                                                  image  \\\n75    https://ichef.bbci.co.uk/images/ic/{recipe}/p0...   \n177   https://ichef.bbci.co.uk/images/ic/{recipe}/p0...   \n178   https://ichef.bbci.co.uk/images/ic/{recipe}/p0...   \n183   https://ichef.bbci.co.uk/images/ic/{recipe}/p0...   \n187   https://ichef.bbci.co.uk/images/ic/{recipe}/p0...   \n...                                                 ...   \n292   https://ichef.bbci.co.uk/images/ic/{recipe}/p0...   \n790   https://ichef.bbci.co.uk/images/ic/{recipe}/p0...   \n1457  https://ichef.bbci.co.uk/images/ic/{recipe}/p0...   \n1517  https://ichef.bbci.co.uk/images/ic/{recipe}/p0...   \n1565  https://ichef.bbci.co.uk/images/ic/{recipe}/p0...   \n\n                                               keywords  \\\n75         BBC, iPlayer, TV, Anything Goes: The Musical   \n177       BBC, iPlayer, TV, Dance: BBC Introducing Arts   \n178   BBC, iPlayer, TV, Truman and Tennessee: An Int...   \n183            BBC, iPlayer, TV, Ex-S, Styling the Swan   \n187   BBC, iPlayer, TV, Big Book Weekend, A Big Book...   \n...                                                 ...   \n292     BBC, iPlayer, TV, Dancing Nation, 2. Highlights   \n790   BBC, iPlayer, TV, Glow Up: Britains Next Make-...   \n1457       BBC, iPlayer, TV, Tonight, Dame Rebecca West   \n1517  BBC, iPlayer, TV, John Buchan: Master of Suspense   \n1565  BBC, iPlayer, TV, Profile, The World of Philip...   \n\n                                         synopses_small  \\\n75    A major new production of the classic musical ...   \n177   Brenda Emmanus presents short films that combi...   \n178   Docudrama that creates a fascinating compariso...   \n183   Jasper Conran designs the costumes for Swan La...   \n187   Alex Clark talks to the queen of crime Val McD...   \n...                                                 ...   \n292   Highlights of world-class performances by the ...   \n790   The Glow Up final. An industry masterclass and...   \n1457  The writer Dame Rebecca West in conversation w...   \n1517  Docudrama about the life of author John Buchan...   \n1565  Philip Pullman explores Oxford, where he was a...   \n\n                                             synops_med  \\\n75    Filmed live at the Barbican in London, this ma...   \n177   Brenda Emmanus presents short films from emerg...   \n178   Docudrama that builds a fascinating picture of...   \n183   First transmitted in 1995, Jasper Conran desig...   \n187   Alex Clark talks to Val McDermid about the end...   \n...                                                 ...   \n292   Highlights of Dancing Nation, a celebration of...   \n790   It’s the Glow Up final, and the MUAs must pres...   \n1457  First transmitted in 1976, the writer Dame Reb...   \n1517  Unfairly known as a one-hit wonder for his nov...   \n1565  In this documentary, originally screened on BB...   \n\n                                            synops_long category      channel  \\\n75    Filmed live at the Barbican in London, this ma...     Arts      bbc_two   \n177   Brenda Emmanus presents an innovative collecti...     Arts     bbc_four   \n178   Truman Capote and Tennessee Williams – writers...     Arts     bbc_four   \n183   First transmitted in 1995, Scottish Ballet com...     Arts  bbc_webonly   \n187   Alex Clark talks to the queen of crime Val McD...     Arts     bbc_arts   \n...                                                 ...      ...          ...   \n292   Highlights of Dancing Nation, a celebration of...     Arts     bbc_arts   \n790   It’s the final of Glow Up, and three MUAs stil...   Beauty    bbc_three   \n1457  First transmitted in 1976, Dame Rebecca West r...     Arts  bbc_webonly   \n1517  Unfairly known as a one-hit wonder for his noi...     Arts     bbc_four   \n1565  In this documentary, originally screened on BB...     Arts  bbc_webonly   \n\n                        language         release_date  duration_sec  \\\n75                         False   6:40pm 26 Dec 2021          8241   \n177   Contains upsetting scenes.     10pm 20 Feb 2022          3540   \n178                        False       9pm 7 Nov 2021          4803   \n183                        False          28 Mar 1995          1744   \n187                        False          31 Mar 2021          2790   \n...                          ...                  ...           ...   \n292    Contains flashing images.  10:15pm 10 May 2021          3557   \n790                        False   10:45pm 8 Jun 2021          3520   \n1457                       False          20 Sep 1976          1182   \n1517                       False          14 Jan 2007          3524   \n1565                       False   8:30pm 28 Dec 2001          2310   \n\n                  topic  \n75                music  \n177                arts  \n178                arts  \n183                arts  \n187                arts  \n...                 ...  \n292                arts  \n790           lifestyle  \n1457               news  \n1517  from-the-archives  \n1565  from-the-archives  \n\n[66 rows x 15 columns]",
      "text/html": "<div>\n<style scoped>\n    .dataframe tbody tr th:only-of-type {\n        vertical-align: middle;\n    }\n\n    .dataframe tbody tr th {\n        vertical-align: top;\n    }\n\n    .dataframe thead th {\n        text-align: right;\n    }\n</style>\n<table border=\"1\" class=\"dataframe\">\n  <thead>\n    <tr style=\"text-align: right;\">\n      <th></th>\n      <th>index</th>\n      <th>id</th>\n      <th>title</th>\n      <th>description</th>\n      <th>image</th>\n      <th>keywords</th>\n      <th>synopses_small</th>\n      <th>synops_med</th>\n      <th>synops_long</th>\n      <th>category</th>\n      <th>channel</th>\n      <th>language</th>\n      <th>release_date</th>\n      <th>duration_sec</th>\n      <th>topic</th>\n    </tr>\n  </thead>\n  <tbody>\n    <tr>\n      <th>75</th>\n      <td>91</td>\n      <td>91</td>\n      <td>Anything Goes: The Musical</td>\n      <td>A major new production of the classic musical ...</td>\n      <td>https://ichef.bbci.co.uk/images/ic/{recipe}/p0...</td>\n      <td>BBC, iPlayer, TV, Anything Goes: The Musical</td>\n      <td>A major new production of the classic musical ...</td>\n      <td>Filmed live at the Barbican in London, this ma...</td>\n      <td>Filmed live at the Barbican in London, this ma...</td>\n      <td>Arts</td>\n      <td>bbc_two</td>\n      <td>False</td>\n      <td>6:40pm 26 Dec 2021</td>\n      <td>8241</td>\n      <td>music</td>\n    </tr>\n    <tr>\n      <th>177</th>\n      <td>204</td>\n      <td>204</td>\n      <td>Dance: BBC Introducing Arts</td>\n      <td>Brenda Emmanus presents short films that combi...</td>\n      <td>https://ichef.bbci.co.uk/images/ic/{recipe}/p0...</td>\n      <td>BBC, iPlayer, TV, Dance: BBC Introducing Arts</td>\n      <td>Brenda Emmanus presents short films that combi...</td>\n      <td>Brenda Emmanus presents short films from emerg...</td>\n      <td>Brenda Emmanus presents an innovative collecti...</td>\n      <td>Arts</td>\n      <td>bbc_four</td>\n      <td>Contains upsetting scenes.</td>\n      <td>10pm 20 Feb 2022</td>\n      <td>3540</td>\n      <td>arts</td>\n    </tr>\n    <tr>\n      <th>178</th>\n      <td>205</td>\n      <td>205</td>\n      <td>Truman and Tennessee: An Intimate Conversation</td>\n      <td>Docudrama that creates a fascinating compariso...</td>\n      <td>https://ichef.bbci.co.uk/images/ic/{recipe}/p0...</td>\n      <td>BBC, iPlayer, TV, Truman and Tennessee: An Int...</td>\n      <td>Docudrama that creates a fascinating compariso...</td>\n      <td>Docudrama that builds a fascinating picture of...</td>\n      <td>Truman Capote and Tennessee Williams – writers...</td>\n      <td>Arts</td>\n      <td>bbc_four</td>\n      <td>False</td>\n      <td>9pm 7 Nov 2021</td>\n      <td>4803</td>\n      <td>arts</td>\n    </tr>\n    <tr>\n      <th>183</th>\n      <td>211</td>\n      <td>211</td>\n      <td>Ex-S</td>\n      <td>Jasper Conran designs the costumes for Swan La...</td>\n      <td>https://ichef.bbci.co.uk/images/ic/{recipe}/p0...</td>\n      <td>BBC, iPlayer, TV, Ex-S, Styling the Swan</td>\n      <td>Jasper Conran designs the costumes for Swan La...</td>\n      <td>First transmitted in 1995, Jasper Conran desig...</td>\n      <td>First transmitted in 1995, Scottish Ballet com...</td>\n      <td>Arts</td>\n      <td>bbc_webonly</td>\n      <td>False</td>\n      <td>28 Mar 1995</td>\n      <td>1744</td>\n      <td>arts</td>\n    </tr>\n    <tr>\n      <th>187</th>\n      <td>215</td>\n      <td>215</td>\n      <td>Big Book Weekend</td>\n      <td>Alex Clark talks to the queen of crime Val McD...</td>\n      <td>https://ichef.bbci.co.uk/images/ic/{recipe}/p0...</td>\n      <td>BBC, iPlayer, TV, Big Book Weekend, A Big Book...</td>\n      <td>Alex Clark talks to the queen of crime Val McD...</td>\n      <td>Alex Clark talks to Val McDermid about the end...</td>\n      <td>Alex Clark talks to the queen of crime Val McD...</td>\n      <td>Arts</td>\n      <td>bbc_arts</td>\n      <td>False</td>\n      <td>31 Mar 2021</td>\n      <td>2790</td>\n      <td>arts</td>\n    </tr>\n    <tr>\n      <th>...</th>\n      <td>...</td>\n      <td>...</td>\n      <td>...</td>\n      <td>...</td>\n      <td>...</td>\n      <td>...</td>\n      <td>...</td>\n      <td>...</td>\n      <td>...</td>\n      <td>...</td>\n      <td>...</td>\n      <td>...</td>\n      <td>...</td>\n      <td>...</td>\n      <td>...</td>\n    </tr>\n    <tr>\n      <th>292</th>\n      <td>344</td>\n      <td>344</td>\n      <td>Dancing Nation</td>\n      <td>Highlights of world-class performances by the ...</td>\n      <td>https://ichef.bbci.co.uk/images/ic/{recipe}/p0...</td>\n      <td>BBC, iPlayer, TV, Dancing Nation, 2. Highlights</td>\n      <td>Highlights of world-class performances by the ...</td>\n      <td>Highlights of Dancing Nation, a celebration of...</td>\n      <td>Highlights of Dancing Nation, a celebration of...</td>\n      <td>Arts</td>\n      <td>bbc_arts</td>\n      <td>Contains flashing images.</td>\n      <td>10:15pm 10 May 2021</td>\n      <td>3557</td>\n      <td>arts</td>\n    </tr>\n    <tr>\n      <th>790</th>\n      <td>960</td>\n      <td>960</td>\n      <td>Glow Up: Britain's Next Make-Up Star</td>\n      <td>The Glow Up final. An industry masterclass and...</td>\n      <td>https://ichef.bbci.co.uk/images/ic/{recipe}/p0...</td>\n      <td>BBC, iPlayer, TV, Glow Up: Britains Next Make-...</td>\n      <td>The Glow Up final. An industry masterclass and...</td>\n      <td>It’s the Glow Up final, and the MUAs must pres...</td>\n      <td>It’s the final of Glow Up, and three MUAs stil...</td>\n      <td>Beauty</td>\n      <td>bbc_three</td>\n      <td>False</td>\n      <td>10:45pm 8 Jun 2021</td>\n      <td>3520</td>\n      <td>lifestyle</td>\n    </tr>\n    <tr>\n      <th>1457</th>\n      <td>2317</td>\n      <td>2317</td>\n      <td>Tonight</td>\n      <td>The writer Dame Rebecca West in conversation w...</td>\n      <td>https://ichef.bbci.co.uk/images/ic/{recipe}/p0...</td>\n      <td>BBC, iPlayer, TV, Tonight, Dame Rebecca West</td>\n      <td>The writer Dame Rebecca West in conversation w...</td>\n      <td>First transmitted in 1976, the writer Dame Reb...</td>\n      <td>First transmitted in 1976, Dame Rebecca West r...</td>\n      <td>Arts</td>\n      <td>bbc_webonly</td>\n      <td>False</td>\n      <td>20 Sep 1976</td>\n      <td>1182</td>\n      <td>news</td>\n    </tr>\n    <tr>\n      <th>1517</th>\n      <td>2480</td>\n      <td>2480</td>\n      <td>John Buchan: Master of Suspense</td>\n      <td>Docudrama about the life of author John Buchan...</td>\n      <td>https://ichef.bbci.co.uk/images/ic/{recipe}/p0...</td>\n      <td>BBC, iPlayer, TV, John Buchan: Master of Suspense</td>\n      <td>Docudrama about the life of author John Buchan...</td>\n      <td>Unfairly known as a one-hit wonder for his nov...</td>\n      <td>Unfairly known as a one-hit wonder for his noi...</td>\n      <td>Arts</td>\n      <td>bbc_four</td>\n      <td>False</td>\n      <td>14 Jan 2007</td>\n      <td>3524</td>\n      <td>from-the-archives</td>\n    </tr>\n    <tr>\n      <th>1565</th>\n      <td>2637</td>\n      <td>2637</td>\n      <td>Profile</td>\n      <td>Philip Pullman explores Oxford, where he was a...</td>\n      <td>https://ichef.bbci.co.uk/images/ic/{recipe}/p0...</td>\n      <td>BBC, iPlayer, TV, Profile, The World of Philip...</td>\n      <td>Philip Pullman explores Oxford, where he was a...</td>\n      <td>In this documentary, originally screened on BB...</td>\n      <td>In this documentary, originally screened on BB...</td>\n      <td>Arts</td>\n      <td>bbc_webonly</td>\n      <td>False</td>\n      <td>8:30pm 28 Dec 2001</td>\n      <td>2310</td>\n      <td>from-the-archives</td>\n    </tr>\n  </tbody>\n</table>\n<p>66 rows × 15 columns</p>\n</div>"
     },
     "execution_count": 89,
     "metadata": {},
     "output_type": "execute_result"
    }
   ],
   "source": [
    "set(df_BBC.category)\n",
    "df_BBC[df_BBC.category.isin([\"Arts\", \"Beauty\"])]"
   ],
   "metadata": {
    "collapsed": false,
    "pycharm": {
     "name": "#%%\n"
    }
   }
  },
  {
   "cell_type": "code",
   "execution_count": 136,
   "outputs": [],
   "source": [
    "from datetime import datetime\n",
    "format = \"%Y\"\n",
    "dates = [datetime.strptime(dates[-4:], format) for dates in df_BBC.release_date]"
   ],
   "metadata": {
    "collapsed": false,
    "pycharm": {
     "name": "#%%\n"
    }
   }
  },
  {
   "cell_type": "code",
   "execution_count": 149,
   "outputs": [
    {
     "data": {
      "text/plain": "Timestamp('1933-12-31 00:00:00', freq='A-DEC')"
     },
     "execution_count": 149,
     "metadata": {},
     "output_type": "execute_result"
    }
   ],
   "source": [
    "pd.date_range(min(dates), max(dates), freq = \"Y\").tolist()[0]"
   ],
   "metadata": {
    "collapsed": false,
    "pycharm": {
     "name": "#%%\n"
    }
   }
  },
  {
   "cell_type": "code",
   "execution_count": 151,
   "outputs": [
    {
     "data": {
      "text/plain": "[312, 338, 382, 360, 311, 358, 410, 294, 418]"
     },
     "execution_count": 151,
     "metadata": {},
     "output_type": "execute_result"
    }
   ],
   "source": [
    "list(get_recommendations(\"Planet Earth II\", cosine_sim, indices).index)"
   ],
   "metadata": {
    "collapsed": false,
    "pycharm": {
     "name": "#%%\n"
    }
   }
  },
  {
   "cell_type": "code",
   "execution_count": 170,
   "outputs": [],
   "source": [
    "cosine_sim[:, ind] += 0.1"
   ],
   "metadata": {
    "collapsed": false,
    "pycharm": {
     "name": "#%%\n"
    }
   }
  },
  {
   "cell_type": "code",
   "execution_count": 171,
   "outputs": [
    {
     "data": {
      "text/plain": "array([[2.03, 2.08, 2.07, ..., 2.07, 2.07, 2.1 ],\n       [2.02, 2.03, 2.03, ..., 2.02, 2.03, 2.03],\n       [2.02, 2.03, 2.03, ..., 2.02, 2.03, 2.02],\n       ...,\n       [2.04, 2.09, 2.08, ..., 2.07, 2.09, 2.07],\n       [2.02, 2.04, 2.03, ..., 2.02, 2.04, 2.04],\n       [2.04, 2.12, 2.1 , ..., 2.09, 2.1 , 2.08]])"
     },
     "execution_count": 171,
     "metadata": {},
     "output_type": "execute_result"
    }
   ],
   "source": [
    "cosine_sim[:, ind]"
   ],
   "metadata": {
    "collapsed": false,
    "pycharm": {
     "name": "#%%\n"
    }
   }
  }
 ],
 "metadata": {
  "kernelspec": {
   "display_name": "Python 3",
   "language": "python",
   "name": "python3"
  },
  "language_info": {
   "codemirror_mode": {
    "name": "ipython",
    "version": 2
   },
   "file_extension": ".py",
   "mimetype": "text/x-python",
   "name": "python",
   "nbconvert_exporter": "python",
   "pygments_lexer": "ipython2",
   "version": "2.7.6"
  }
 },
 "nbformat": 4,
 "nbformat_minor": 0
}