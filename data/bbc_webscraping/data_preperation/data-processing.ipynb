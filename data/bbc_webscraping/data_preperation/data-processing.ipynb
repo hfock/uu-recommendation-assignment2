{
 "cells": [
  {
   "cell_type": "code",
   "execution_count": 198,
   "metadata": {
    "collapsed": true
   },
   "outputs": [],
   "source": [
    "import pandas as pd\n",
    "# import csv_utils\n",
    "import string\n",
    "\n",
    "from datetime import datetime\n",
    "from sklearn.feature_extraction.text import TfidfVectorizer\n",
    "from sklearn.cluster import KMeans"
   ]
  },
  {
   "cell_type": "code",
   "execution_count": 199,
   "outputs": [],
   "source": [
    "RAW_DATA = './../bbc_data_raw.csv'"
   ],
   "metadata": {
    "collapsed": false,
    "pycharm": {
     "name": "#%%\n"
    }
   }
  },
  {
   "cell_type": "code",
   "execution_count": 200,
   "outputs": [],
   "source": [
    "df = pd.read_csv(RAW_DATA, sep=';')\n",
    "# df = pd.read_csv('./../data/BBC/bbc_images.csv', sep=';', index_col=0)"
   ],
   "metadata": {
    "collapsed": false,
    "pycharm": {
     "name": "#%%\n"
    }
   }
  },
  {
   "cell_type": "code",
   "execution_count": 201,
   "outputs": [
    {
     "data": {
      "text/plain": "          id                               title  \\\n0          0  The 80s - Music’s Greatest Decade?   \n1          1                     Top of the Pops   \n2          2                           BBC Proms   \n3          3                                Port   \n4          4  Sit Down, Stand Up with Greg James   \n...      ...                                 ...   \n36893  36896                      Justin's House   \n36894  36897              Number 1 Newton Avenue   \n36895  36898                           Biggleton   \n36896  36899                          Go Jetters   \n36897  36900                Oti's Boogie Beebies   \n\n                                         subtitle  \\\n0                   Series 1: 1. With Dylan Jones   \n1                                      02/07/1992   \n2           2021: Last Night of the Proms, Part 2   \n3                             Series 5: Episode 4   \n4                                             NaN   \n...                                           ...   \n36893                 Series 2: 4. Going for Gold   \n36894                          Series 1: 21. Goal   \n36895                   Series 2: 23. Big Day Out   \n36896  Series 1: 27. The Strokkur Geyser, Iceland   \n36897                   Series 1: 12. Upside Down   \n\n                                             description  \\\n0      Music author Dylan Jones argues that the 1980s...   \n1      With Arrested Development, Altern 8, Def Leppa...   \n2      Australian tenor Stuart Skelton is joined by L...   \n3      Previously unseen music from the series Port, ...   \n4      Tom Holland and Greg James cold call celebrity...   \n...                                                  ...   \n36893  Justin's house hosts the Justinship Games, and...   \n36894  It’s all about measuring today when Libby play...   \n36895  Odd Job Laila has lots of jobs to do around to...   \n36896  The geysers in Iceland are blocked and Glitch ...   \n36897  In this episode, Oti teaches us how to step an...   \n\n                                                   image  \\\n0      https://ichef.bbci.co.uk/images/ic/{recipe}/p0...   \n1      https://ichef.bbci.co.uk/images/ic/{recipe}/p0...   \n2      https://ichef.bbci.co.uk/images/ic/{recipe}/p0...   \n3      https://ichef.bbci.co.uk/images/ic/{recipe}/p0...   \n4      https://ichef.bbci.co.uk/images/ic/{recipe}/p0...   \n...                                                  ...   \n36893  https://ichef.bbci.co.uk/images/ic/{recipe}/p0...   \n36894  https://ichef.bbci.co.uk/images/ic/{recipe}/p0...   \n36895  https://ichef.bbci.co.uk/images/ic/{recipe}/p0...   \n36896  https://ichef.bbci.co.uk/images/ic/{recipe}/p0...   \n36897  https://ichef.bbci.co.uk/images/ic/{recipe}/p0...   \n\n                                                keywords  \\\n0      BBC, iPlayer, TV, The 80s - Music’s Greatest D...   \n1          BBC, iPlayer, TV, Top of the Pops, 02/07/1992   \n2      BBC, iPlayer, TV, BBC Proms, 2021: Last Night ...   \n3            BBC, iPlayer, TV, Port, Series 5: Episode 4   \n4      BBC, iPlayer, TV, Sit Down, Stand Up with Greg...   \n...                                                  ...   \n36893  BBC, iPlayer, TV, Justins House, Series 2: 4. ...   \n36894  BBC, iPlayer, TV, Number 1 Newton Avenue, Seri...   \n36895  BBC, iPlayer, TV, Biggleton, Series 2: 23. Big...   \n36896  BBC, iPlayer, TV, Go Jetters, Series 1: 27. Th...   \n36897  BBC, iPlayer, TV, Otis Boogie Beebies, Series ...   \n\n                                          synopses_small  \\\n0      Music author Dylan Jones argues that the 1980s...   \n1      With Arrested Development, Altern 8, Def Leppa...   \n2      Australian tenor Stuart Skelton is joined by L...   \n3      Previously unseen music from the series Port, ...   \n4      Tom Holland and Greg James cold call celebrity...   \n...                                                  ...   \n36893  Justin's house hosts the Justinship Games, and...   \n36894  It’s all about measuring today when Libby play...   \n36895  Odd Job Laila has lots of jobs to do around to...   \n36896  The geysers in Iceland are blocked and Glitch ...   \n36897  In this episode, Oti teaches us how to step an...   \n\n                                              synops_med  \\\n0      Music writer Dylan Jones puts the case that th...   \n1      Tony Dortie presents the pop chart programme, ...   \n2      Australian tenor Stuart Skelton is joined by L...   \n3      Julie Fowlis a’ lìbhrigeadh ceòl bhon t-sreath...   \n4      Tom Holland and Greg James cold call celebrity...   \n...                                                  ...   \n36893  Justin Fletcher entertains children with singi...   \n36894  Libby plays a game of football with her teddie...   \n36895  Odd Job Laila has lots of jobs to do around to...   \n36896  Animated adventure comedy series. The geysers ...   \n36897  Series for young children getting them to join...   \n\n                                             synops_long       category  \\\n0      Eighties music is often dismissed as a joke - ...          Music   \n1                                                    NaN          Music   \n2      Katie Derham hosts continued live coverage fro...          Music   \n3      Bidh Druthag Bheag Eile a’ tarraing ri chèile ...          Music   \n4                                                    NaN  Entertainment   \n...                                                  ...            ...   \n36893  Justin Fletcher entertains a live audience of ...       CBeebies   \n36894  Libby plays a game of football with her teddie...       CBeebies   \n36895  The Big Day Out has finally arrived in Bigglet...       CBeebies   \n36896                                                NaN       CBeebies   \n36897  Series for young children getting them to join...       CBeebies   \n\n               channel language        release_date  duration_sec     topic  \n0              bbc_two    False  8:55pm 23 Oct 2021        3534.0     music  \n1              bbc_one    False      7pm 2 Jul 1992        1759.0     music  \n2      bbc_radio_three    False     9pm 11 Sep 2021        5247.0     music  \n3             bbc_alba    False          9 Jul 2020        1037.0     music  \n4        bbc_radio_one    False         10 Feb 2022         611.0     music  \n...                ...      ...                 ...           ...       ...  \n36893         cbeebies    False     11am 2 Sep 2012        1454.0  cbeebees  \n36894         cbeebies    False  4:55pm 20 Sep 2021         431.0  cbeebees  \n36895         cbeebies    False         14 Jan 2019         651.0  cbeebees  \n36896         cbeebies    False  5:25pm 16 Jun 2016         659.0  cbeebees  \n36897         cbeebies    False  8:30am 16 Jun 2020         308.0  cbeebees  \n\n[36898 rows x 15 columns]",
      "text/html": "<div>\n<style scoped>\n    .dataframe tbody tr th:only-of-type {\n        vertical-align: middle;\n    }\n\n    .dataframe tbody tr th {\n        vertical-align: top;\n    }\n\n    .dataframe thead th {\n        text-align: right;\n    }\n</style>\n<table border=\"1\" class=\"dataframe\">\n  <thead>\n    <tr style=\"text-align: right;\">\n      <th></th>\n      <th>id</th>\n      <th>title</th>\n      <th>subtitle</th>\n      <th>description</th>\n      <th>image</th>\n      <th>keywords</th>\n      <th>synopses_small</th>\n      <th>synops_med</th>\n      <th>synops_long</th>\n      <th>category</th>\n      <th>channel</th>\n      <th>language</th>\n      <th>release_date</th>\n      <th>duration_sec</th>\n      <th>topic</th>\n    </tr>\n  </thead>\n  <tbody>\n    <tr>\n      <th>0</th>\n      <td>0</td>\n      <td>The 80s - Music’s Greatest Decade?</td>\n      <td>Series 1: 1. With Dylan Jones</td>\n      <td>Music author Dylan Jones argues that the 1980s...</td>\n      <td>https://ichef.bbci.co.uk/images/ic/{recipe}/p0...</td>\n      <td>BBC, iPlayer, TV, The 80s - Music’s Greatest D...</td>\n      <td>Music author Dylan Jones argues that the 1980s...</td>\n      <td>Music writer Dylan Jones puts the case that th...</td>\n      <td>Eighties music is often dismissed as a joke - ...</td>\n      <td>Music</td>\n      <td>bbc_two</td>\n      <td>False</td>\n      <td>8:55pm 23 Oct 2021</td>\n      <td>3534.0</td>\n      <td>music</td>\n    </tr>\n    <tr>\n      <th>1</th>\n      <td>1</td>\n      <td>Top of the Pops</td>\n      <td>02/07/1992</td>\n      <td>With Arrested Development, Altern 8, Def Leppa...</td>\n      <td>https://ichef.bbci.co.uk/images/ic/{recipe}/p0...</td>\n      <td>BBC, iPlayer, TV, Top of the Pops, 02/07/1992</td>\n      <td>With Arrested Development, Altern 8, Def Leppa...</td>\n      <td>Tony Dortie presents the pop chart programme, ...</td>\n      <td>NaN</td>\n      <td>Music</td>\n      <td>bbc_one</td>\n      <td>False</td>\n      <td>7pm 2 Jul 1992</td>\n      <td>1759.0</td>\n      <td>music</td>\n    </tr>\n    <tr>\n      <th>2</th>\n      <td>2</td>\n      <td>BBC Proms</td>\n      <td>2021: Last Night of the Proms, Part 2</td>\n      <td>Australian tenor Stuart Skelton is joined by L...</td>\n      <td>https://ichef.bbci.co.uk/images/ic/{recipe}/p0...</td>\n      <td>BBC, iPlayer, TV, BBC Proms, 2021: Last Night ...</td>\n      <td>Australian tenor Stuart Skelton is joined by L...</td>\n      <td>Australian tenor Stuart Skelton is joined by L...</td>\n      <td>Katie Derham hosts continued live coverage fro...</td>\n      <td>Music</td>\n      <td>bbc_radio_three</td>\n      <td>False</td>\n      <td>9pm 11 Sep 2021</td>\n      <td>5247.0</td>\n      <td>music</td>\n    </tr>\n    <tr>\n      <th>3</th>\n      <td>3</td>\n      <td>Port</td>\n      <td>Series 5: Episode 4</td>\n      <td>Previously unseen music from the series Port, ...</td>\n      <td>https://ichef.bbci.co.uk/images/ic/{recipe}/p0...</td>\n      <td>BBC, iPlayer, TV, Port, Series 5: Episode 4</td>\n      <td>Previously unseen music from the series Port, ...</td>\n      <td>Julie Fowlis a’ lìbhrigeadh ceòl bhon t-sreath...</td>\n      <td>Bidh Druthag Bheag Eile a’ tarraing ri chèile ...</td>\n      <td>Music</td>\n      <td>bbc_alba</td>\n      <td>False</td>\n      <td>9 Jul 2020</td>\n      <td>1037.0</td>\n      <td>music</td>\n    </tr>\n    <tr>\n      <th>4</th>\n      <td>4</td>\n      <td>Sit Down, Stand Up with Greg James</td>\n      <td>NaN</td>\n      <td>Tom Holland and Greg James cold call celebrity...</td>\n      <td>https://ichef.bbci.co.uk/images/ic/{recipe}/p0...</td>\n      <td>BBC, iPlayer, TV, Sit Down, Stand Up with Greg...</td>\n      <td>Tom Holland and Greg James cold call celebrity...</td>\n      <td>Tom Holland and Greg James cold call celebrity...</td>\n      <td>NaN</td>\n      <td>Entertainment</td>\n      <td>bbc_radio_one</td>\n      <td>False</td>\n      <td>10 Feb 2022</td>\n      <td>611.0</td>\n      <td>music</td>\n    </tr>\n    <tr>\n      <th>...</th>\n      <td>...</td>\n      <td>...</td>\n      <td>...</td>\n      <td>...</td>\n      <td>...</td>\n      <td>...</td>\n      <td>...</td>\n      <td>...</td>\n      <td>...</td>\n      <td>...</td>\n      <td>...</td>\n      <td>...</td>\n      <td>...</td>\n      <td>...</td>\n      <td>...</td>\n    </tr>\n    <tr>\n      <th>36893</th>\n      <td>36896</td>\n      <td>Justin's House</td>\n      <td>Series 2: 4. Going for Gold</td>\n      <td>Justin's house hosts the Justinship Games, and...</td>\n      <td>https://ichef.bbci.co.uk/images/ic/{recipe}/p0...</td>\n      <td>BBC, iPlayer, TV, Justins House, Series 2: 4. ...</td>\n      <td>Justin's house hosts the Justinship Games, and...</td>\n      <td>Justin Fletcher entertains children with singi...</td>\n      <td>Justin Fletcher entertains a live audience of ...</td>\n      <td>CBeebies</td>\n      <td>cbeebies</td>\n      <td>False</td>\n      <td>11am 2 Sep 2012</td>\n      <td>1454.0</td>\n      <td>cbeebees</td>\n    </tr>\n    <tr>\n      <th>36894</th>\n      <td>36897</td>\n      <td>Number 1 Newton Avenue</td>\n      <td>Series 1: 21. Goal</td>\n      <td>It’s all about measuring today when Libby play...</td>\n      <td>https://ichef.bbci.co.uk/images/ic/{recipe}/p0...</td>\n      <td>BBC, iPlayer, TV, Number 1 Newton Avenue, Seri...</td>\n      <td>It’s all about measuring today when Libby play...</td>\n      <td>Libby plays a game of football with her teddie...</td>\n      <td>Libby plays a game of football with her teddie...</td>\n      <td>CBeebies</td>\n      <td>cbeebies</td>\n      <td>False</td>\n      <td>4:55pm 20 Sep 2021</td>\n      <td>431.0</td>\n      <td>cbeebees</td>\n    </tr>\n    <tr>\n      <th>36895</th>\n      <td>36898</td>\n      <td>Biggleton</td>\n      <td>Series 2: 23. Big Day Out</td>\n      <td>Odd Job Laila has lots of jobs to do around to...</td>\n      <td>https://ichef.bbci.co.uk/images/ic/{recipe}/p0...</td>\n      <td>BBC, iPlayer, TV, Biggleton, Series 2: 23. Big...</td>\n      <td>Odd Job Laila has lots of jobs to do around to...</td>\n      <td>Odd Job Laila has lots of jobs to do around to...</td>\n      <td>The Big Day Out has finally arrived in Bigglet...</td>\n      <td>CBeebies</td>\n      <td>cbeebies</td>\n      <td>False</td>\n      <td>14 Jan 2019</td>\n      <td>651.0</td>\n      <td>cbeebees</td>\n    </tr>\n    <tr>\n      <th>36896</th>\n      <td>36899</td>\n      <td>Go Jetters</td>\n      <td>Series 1: 27. The Strokkur Geyser, Iceland</td>\n      <td>The geysers in Iceland are blocked and Glitch ...</td>\n      <td>https://ichef.bbci.co.uk/images/ic/{recipe}/p0...</td>\n      <td>BBC, iPlayer, TV, Go Jetters, Series 1: 27. Th...</td>\n      <td>The geysers in Iceland are blocked and Glitch ...</td>\n      <td>Animated adventure comedy series. The geysers ...</td>\n      <td>NaN</td>\n      <td>CBeebies</td>\n      <td>cbeebies</td>\n      <td>False</td>\n      <td>5:25pm 16 Jun 2016</td>\n      <td>659.0</td>\n      <td>cbeebees</td>\n    </tr>\n    <tr>\n      <th>36897</th>\n      <td>36900</td>\n      <td>Oti's Boogie Beebies</td>\n      <td>Series 1: 12. Upside Down</td>\n      <td>In this episode, Oti teaches us how to step an...</td>\n      <td>https://ichef.bbci.co.uk/images/ic/{recipe}/p0...</td>\n      <td>BBC, iPlayer, TV, Otis Boogie Beebies, Series ...</td>\n      <td>In this episode, Oti teaches us how to step an...</td>\n      <td>Series for young children getting them to join...</td>\n      <td>Series for young children getting them to join...</td>\n      <td>CBeebies</td>\n      <td>cbeebies</td>\n      <td>False</td>\n      <td>8:30am 16 Jun 2020</td>\n      <td>308.0</td>\n      <td>cbeebees</td>\n    </tr>\n  </tbody>\n</table>\n<p>36898 rows × 15 columns</p>\n</div>"
     },
     "execution_count": 201,
     "metadata": {},
     "output_type": "execute_result"
    }
   ],
   "source": [
    "df"
   ],
   "metadata": {
    "collapsed": false,
    "pycharm": {
     "name": "#%%\n"
    }
   }
  },
  {
   "cell_type": "code",
   "execution_count": 202,
   "outputs": [],
   "source": [
    "columns = ['index', 'title', 'subtitle', 'description', 'image', 'keywords', 'syno_s', 'syno_m', 'syno_l', 'category', 'channel', 'language', 'release_date', 'duration_sec', 'topic']\n",
    "#\n",
    "df.columns = columns"
   ],
   "metadata": {
    "collapsed": false,
    "pycharm": {
     "name": "#%%\n"
    }
   }
  },
  {
   "cell_type": "code",
   "execution_count": 203,
   "outputs": [
    {
     "data": {
      "text/plain": "       index                               title  \\\n0          0  The 80s - Music’s Greatest Decade?   \n1          1                     Top of the Pops   \n2          2                           BBC Proms   \n3          3                                Port   \n4          4  Sit Down, Stand Up with Greg James   \n...      ...                                 ...   \n36893  36896                      Justin's House   \n36894  36897              Number 1 Newton Avenue   \n36895  36898                           Biggleton   \n36896  36899                          Go Jetters   \n36897  36900                Oti's Boogie Beebies   \n\n                                         subtitle  \\\n0                   Series 1: 1. With Dylan Jones   \n1                                      02/07/1992   \n2           2021: Last Night of the Proms, Part 2   \n3                             Series 5: Episode 4   \n4                                             NaN   \n...                                           ...   \n36893                 Series 2: 4. Going for Gold   \n36894                          Series 1: 21. Goal   \n36895                   Series 2: 23. Big Day Out   \n36896  Series 1: 27. The Strokkur Geyser, Iceland   \n36897                   Series 1: 12. Upside Down   \n\n                                             description  \\\n0      Music author Dylan Jones argues that the 1980s...   \n1      With Arrested Development, Altern 8, Def Leppa...   \n2      Australian tenor Stuart Skelton is joined by L...   \n3      Previously unseen music from the series Port, ...   \n4      Tom Holland and Greg James cold call celebrity...   \n...                                                  ...   \n36893  Justin's house hosts the Justinship Games, and...   \n36894  It’s all about measuring today when Libby play...   \n36895  Odd Job Laila has lots of jobs to do around to...   \n36896  The geysers in Iceland are blocked and Glitch ...   \n36897  In this episode, Oti teaches us how to step an...   \n\n                                                   image  \\\n0      https://ichef.bbci.co.uk/images/ic/{recipe}/p0...   \n1      https://ichef.bbci.co.uk/images/ic/{recipe}/p0...   \n2      https://ichef.bbci.co.uk/images/ic/{recipe}/p0...   \n3      https://ichef.bbci.co.uk/images/ic/{recipe}/p0...   \n4      https://ichef.bbci.co.uk/images/ic/{recipe}/p0...   \n...                                                  ...   \n36893  https://ichef.bbci.co.uk/images/ic/{recipe}/p0...   \n36894  https://ichef.bbci.co.uk/images/ic/{recipe}/p0...   \n36895  https://ichef.bbci.co.uk/images/ic/{recipe}/p0...   \n36896  https://ichef.bbci.co.uk/images/ic/{recipe}/p0...   \n36897  https://ichef.bbci.co.uk/images/ic/{recipe}/p0...   \n\n                                                keywords  \\\n0      BBC, iPlayer, TV, The 80s - Music’s Greatest D...   \n1          BBC, iPlayer, TV, Top of the Pops, 02/07/1992   \n2      BBC, iPlayer, TV, BBC Proms, 2021: Last Night ...   \n3            BBC, iPlayer, TV, Port, Series 5: Episode 4   \n4      BBC, iPlayer, TV, Sit Down, Stand Up with Greg...   \n...                                                  ...   \n36893  BBC, iPlayer, TV, Justins House, Series 2: 4. ...   \n36894  BBC, iPlayer, TV, Number 1 Newton Avenue, Seri...   \n36895  BBC, iPlayer, TV, Biggleton, Series 2: 23. Big...   \n36896  BBC, iPlayer, TV, Go Jetters, Series 1: 27. Th...   \n36897  BBC, iPlayer, TV, Otis Boogie Beebies, Series ...   \n\n                                                  syno_s  \\\n0      Music author Dylan Jones argues that the 1980s...   \n1      With Arrested Development, Altern 8, Def Leppa...   \n2      Australian tenor Stuart Skelton is joined by L...   \n3      Previously unseen music from the series Port, ...   \n4      Tom Holland and Greg James cold call celebrity...   \n...                                                  ...   \n36893  Justin's house hosts the Justinship Games, and...   \n36894  It’s all about measuring today when Libby play...   \n36895  Odd Job Laila has lots of jobs to do around to...   \n36896  The geysers in Iceland are blocked and Glitch ...   \n36897  In this episode, Oti teaches us how to step an...   \n\n                                                  syno_m  \\\n0      Music writer Dylan Jones puts the case that th...   \n1      Tony Dortie presents the pop chart programme, ...   \n2      Australian tenor Stuart Skelton is joined by L...   \n3      Julie Fowlis a’ lìbhrigeadh ceòl bhon t-sreath...   \n4      Tom Holland and Greg James cold call celebrity...   \n...                                                  ...   \n36893  Justin Fletcher entertains children with singi...   \n36894  Libby plays a game of football with her teddie...   \n36895  Odd Job Laila has lots of jobs to do around to...   \n36896  Animated adventure comedy series. The geysers ...   \n36897  Series for young children getting them to join...   \n\n                                                  syno_l       category  \\\n0      Eighties music is often dismissed as a joke - ...          Music   \n1                                                    NaN          Music   \n2      Katie Derham hosts continued live coverage fro...          Music   \n3      Bidh Druthag Bheag Eile a’ tarraing ri chèile ...          Music   \n4                                                    NaN  Entertainment   \n...                                                  ...            ...   \n36893  Justin Fletcher entertains a live audience of ...       CBeebies   \n36894  Libby plays a game of football with her teddie...       CBeebies   \n36895  The Big Day Out has finally arrived in Bigglet...       CBeebies   \n36896                                                NaN       CBeebies   \n36897  Series for young children getting them to join...       CBeebies   \n\n               channel language        release_date  duration_sec     topic  \n0              bbc_two    False  8:55pm 23 Oct 2021        3534.0     music  \n1              bbc_one    False      7pm 2 Jul 1992        1759.0     music  \n2      bbc_radio_three    False     9pm 11 Sep 2021        5247.0     music  \n3             bbc_alba    False          9 Jul 2020        1037.0     music  \n4        bbc_radio_one    False         10 Feb 2022         611.0     music  \n...                ...      ...                 ...           ...       ...  \n36893         cbeebies    False     11am 2 Sep 2012        1454.0  cbeebees  \n36894         cbeebies    False  4:55pm 20 Sep 2021         431.0  cbeebees  \n36895         cbeebies    False         14 Jan 2019         651.0  cbeebees  \n36896         cbeebies    False  5:25pm 16 Jun 2016         659.0  cbeebees  \n36897         cbeebies    False  8:30am 16 Jun 2020         308.0  cbeebees  \n\n[36898 rows x 15 columns]",
      "text/html": "<div>\n<style scoped>\n    .dataframe tbody tr th:only-of-type {\n        vertical-align: middle;\n    }\n\n    .dataframe tbody tr th {\n        vertical-align: top;\n    }\n\n    .dataframe thead th {\n        text-align: right;\n    }\n</style>\n<table border=\"1\" class=\"dataframe\">\n  <thead>\n    <tr style=\"text-align: right;\">\n      <th></th>\n      <th>index</th>\n      <th>title</th>\n      <th>subtitle</th>\n      <th>description</th>\n      <th>image</th>\n      <th>keywords</th>\n      <th>syno_s</th>\n      <th>syno_m</th>\n      <th>syno_l</th>\n      <th>category</th>\n      <th>channel</th>\n      <th>language</th>\n      <th>release_date</th>\n      <th>duration_sec</th>\n      <th>topic</th>\n    </tr>\n  </thead>\n  <tbody>\n    <tr>\n      <th>0</th>\n      <td>0</td>\n      <td>The 80s - Music’s Greatest Decade?</td>\n      <td>Series 1: 1. With Dylan Jones</td>\n      <td>Music author Dylan Jones argues that the 1980s...</td>\n      <td>https://ichef.bbci.co.uk/images/ic/{recipe}/p0...</td>\n      <td>BBC, iPlayer, TV, The 80s - Music’s Greatest D...</td>\n      <td>Music author Dylan Jones argues that the 1980s...</td>\n      <td>Music writer Dylan Jones puts the case that th...</td>\n      <td>Eighties music is often dismissed as a joke - ...</td>\n      <td>Music</td>\n      <td>bbc_two</td>\n      <td>False</td>\n      <td>8:55pm 23 Oct 2021</td>\n      <td>3534.0</td>\n      <td>music</td>\n    </tr>\n    <tr>\n      <th>1</th>\n      <td>1</td>\n      <td>Top of the Pops</td>\n      <td>02/07/1992</td>\n      <td>With Arrested Development, Altern 8, Def Leppa...</td>\n      <td>https://ichef.bbci.co.uk/images/ic/{recipe}/p0...</td>\n      <td>BBC, iPlayer, TV, Top of the Pops, 02/07/1992</td>\n      <td>With Arrested Development, Altern 8, Def Leppa...</td>\n      <td>Tony Dortie presents the pop chart programme, ...</td>\n      <td>NaN</td>\n      <td>Music</td>\n      <td>bbc_one</td>\n      <td>False</td>\n      <td>7pm 2 Jul 1992</td>\n      <td>1759.0</td>\n      <td>music</td>\n    </tr>\n    <tr>\n      <th>2</th>\n      <td>2</td>\n      <td>BBC Proms</td>\n      <td>2021: Last Night of the Proms, Part 2</td>\n      <td>Australian tenor Stuart Skelton is joined by L...</td>\n      <td>https://ichef.bbci.co.uk/images/ic/{recipe}/p0...</td>\n      <td>BBC, iPlayer, TV, BBC Proms, 2021: Last Night ...</td>\n      <td>Australian tenor Stuart Skelton is joined by L...</td>\n      <td>Australian tenor Stuart Skelton is joined by L...</td>\n      <td>Katie Derham hosts continued live coverage fro...</td>\n      <td>Music</td>\n      <td>bbc_radio_three</td>\n      <td>False</td>\n      <td>9pm 11 Sep 2021</td>\n      <td>5247.0</td>\n      <td>music</td>\n    </tr>\n    <tr>\n      <th>3</th>\n      <td>3</td>\n      <td>Port</td>\n      <td>Series 5: Episode 4</td>\n      <td>Previously unseen music from the series Port, ...</td>\n      <td>https://ichef.bbci.co.uk/images/ic/{recipe}/p0...</td>\n      <td>BBC, iPlayer, TV, Port, Series 5: Episode 4</td>\n      <td>Previously unseen music from the series Port, ...</td>\n      <td>Julie Fowlis a’ lìbhrigeadh ceòl bhon t-sreath...</td>\n      <td>Bidh Druthag Bheag Eile a’ tarraing ri chèile ...</td>\n      <td>Music</td>\n      <td>bbc_alba</td>\n      <td>False</td>\n      <td>9 Jul 2020</td>\n      <td>1037.0</td>\n      <td>music</td>\n    </tr>\n    <tr>\n      <th>4</th>\n      <td>4</td>\n      <td>Sit Down, Stand Up with Greg James</td>\n      <td>NaN</td>\n      <td>Tom Holland and Greg James cold call celebrity...</td>\n      <td>https://ichef.bbci.co.uk/images/ic/{recipe}/p0...</td>\n      <td>BBC, iPlayer, TV, Sit Down, Stand Up with Greg...</td>\n      <td>Tom Holland and Greg James cold call celebrity...</td>\n      <td>Tom Holland and Greg James cold call celebrity...</td>\n      <td>NaN</td>\n      <td>Entertainment</td>\n      <td>bbc_radio_one</td>\n      <td>False</td>\n      <td>10 Feb 2022</td>\n      <td>611.0</td>\n      <td>music</td>\n    </tr>\n    <tr>\n      <th>...</th>\n      <td>...</td>\n      <td>...</td>\n      <td>...</td>\n      <td>...</td>\n      <td>...</td>\n      <td>...</td>\n      <td>...</td>\n      <td>...</td>\n      <td>...</td>\n      <td>...</td>\n      <td>...</td>\n      <td>...</td>\n      <td>...</td>\n      <td>...</td>\n      <td>...</td>\n    </tr>\n    <tr>\n      <th>36893</th>\n      <td>36896</td>\n      <td>Justin's House</td>\n      <td>Series 2: 4. Going for Gold</td>\n      <td>Justin's house hosts the Justinship Games, and...</td>\n      <td>https://ichef.bbci.co.uk/images/ic/{recipe}/p0...</td>\n      <td>BBC, iPlayer, TV, Justins House, Series 2: 4. ...</td>\n      <td>Justin's house hosts the Justinship Games, and...</td>\n      <td>Justin Fletcher entertains children with singi...</td>\n      <td>Justin Fletcher entertains a live audience of ...</td>\n      <td>CBeebies</td>\n      <td>cbeebies</td>\n      <td>False</td>\n      <td>11am 2 Sep 2012</td>\n      <td>1454.0</td>\n      <td>cbeebees</td>\n    </tr>\n    <tr>\n      <th>36894</th>\n      <td>36897</td>\n      <td>Number 1 Newton Avenue</td>\n      <td>Series 1: 21. Goal</td>\n      <td>It’s all about measuring today when Libby play...</td>\n      <td>https://ichef.bbci.co.uk/images/ic/{recipe}/p0...</td>\n      <td>BBC, iPlayer, TV, Number 1 Newton Avenue, Seri...</td>\n      <td>It’s all about measuring today when Libby play...</td>\n      <td>Libby plays a game of football with her teddie...</td>\n      <td>Libby plays a game of football with her teddie...</td>\n      <td>CBeebies</td>\n      <td>cbeebies</td>\n      <td>False</td>\n      <td>4:55pm 20 Sep 2021</td>\n      <td>431.0</td>\n      <td>cbeebees</td>\n    </tr>\n    <tr>\n      <th>36895</th>\n      <td>36898</td>\n      <td>Biggleton</td>\n      <td>Series 2: 23. Big Day Out</td>\n      <td>Odd Job Laila has lots of jobs to do around to...</td>\n      <td>https://ichef.bbci.co.uk/images/ic/{recipe}/p0...</td>\n      <td>BBC, iPlayer, TV, Biggleton, Series 2: 23. Big...</td>\n      <td>Odd Job Laila has lots of jobs to do around to...</td>\n      <td>Odd Job Laila has lots of jobs to do around to...</td>\n      <td>The Big Day Out has finally arrived in Bigglet...</td>\n      <td>CBeebies</td>\n      <td>cbeebies</td>\n      <td>False</td>\n      <td>14 Jan 2019</td>\n      <td>651.0</td>\n      <td>cbeebees</td>\n    </tr>\n    <tr>\n      <th>36896</th>\n      <td>36899</td>\n      <td>Go Jetters</td>\n      <td>Series 1: 27. The Strokkur Geyser, Iceland</td>\n      <td>The geysers in Iceland are blocked and Glitch ...</td>\n      <td>https://ichef.bbci.co.uk/images/ic/{recipe}/p0...</td>\n      <td>BBC, iPlayer, TV, Go Jetters, Series 1: 27. Th...</td>\n      <td>The geysers in Iceland are blocked and Glitch ...</td>\n      <td>Animated adventure comedy series. The geysers ...</td>\n      <td>NaN</td>\n      <td>CBeebies</td>\n      <td>cbeebies</td>\n      <td>False</td>\n      <td>5:25pm 16 Jun 2016</td>\n      <td>659.0</td>\n      <td>cbeebees</td>\n    </tr>\n    <tr>\n      <th>36897</th>\n      <td>36900</td>\n      <td>Oti's Boogie Beebies</td>\n      <td>Series 1: 12. Upside Down</td>\n      <td>In this episode, Oti teaches us how to step an...</td>\n      <td>https://ichef.bbci.co.uk/images/ic/{recipe}/p0...</td>\n      <td>BBC, iPlayer, TV, Otis Boogie Beebies, Series ...</td>\n      <td>In this episode, Oti teaches us how to step an...</td>\n      <td>Series for young children getting them to join...</td>\n      <td>Series for young children getting them to join...</td>\n      <td>CBeebies</td>\n      <td>cbeebies</td>\n      <td>False</td>\n      <td>8:30am 16 Jun 2020</td>\n      <td>308.0</td>\n      <td>cbeebees</td>\n    </tr>\n  </tbody>\n</table>\n<p>36898 rows × 15 columns</p>\n</div>"
     },
     "execution_count": 203,
     "metadata": {},
     "output_type": "execute_result"
    }
   ],
   "source": [
    "df"
   ],
   "metadata": {
    "collapsed": false,
    "pycharm": {
     "name": "#%%\n"
    }
   }
  },
  {
   "cell_type": "markdown",
   "source": [
    "## Missing Data processing"
   ],
   "metadata": {
    "collapsed": false
   }
  },
  {
   "cell_type": "code",
   "execution_count": 204,
   "outputs": [
    {
     "data": {
      "text/plain": "index              0\ntitle            450\nsubtitle        1376\ndescription      140\nimage            450\nkeywords         450\nsyno_s           450\nsyno_m          1255\nsyno_l          7450\ncategory        1119\nchannel          450\nlanguage         450\nrelease_date     452\nduration_sec     450\ntopic              0\ndtype: int64"
     },
     "execution_count": 204,
     "metadata": {},
     "output_type": "execute_result"
    }
   ],
   "source": [
    "df.isna().sum()"
   ],
   "metadata": {
    "collapsed": false,
    "pycharm": {
     "name": "#%%\n"
    }
   }
  },
  {
   "cell_type": "code",
   "execution_count": 205,
   "outputs": [],
   "source": [
    "df_nona = df.dropna(subset=['image', 'release_date', 'description'])"
   ],
   "metadata": {
    "collapsed": false,
    "pycharm": {
     "name": "#%%\n"
    }
   }
  },
  {
   "cell_type": "code",
   "execution_count": 206,
   "outputs": [
    {
     "data": {
      "text/plain": "index              0\ntitle              0\nsubtitle        1352\ndescription        0\nimage              0\nkeywords           0\nsyno_s             0\nsyno_m           805\nsyno_l          7000\ncategory         669\nchannel            0\nlanguage           0\nrelease_date       0\nduration_sec       0\ntopic              0\ndtype: int64"
     },
     "execution_count": 206,
     "metadata": {},
     "output_type": "execute_result"
    }
   ],
   "source": [
    "df_nona.isna().sum()"
   ],
   "metadata": {
    "collapsed": false,
    "pycharm": {
     "name": "#%%\n"
    }
   }
  },
  {
   "cell_type": "code",
   "execution_count": 207,
   "outputs": [],
   "source": [
    "df_nona.loc[df_nona['category'].isna(), 'category'] = df_nona[df_nona['category'].isna()]['topic']"
   ],
   "metadata": {
    "collapsed": false,
    "pycharm": {
     "name": "#%%\n"
    }
   }
  },
  {
   "cell_type": "code",
   "execution_count": 208,
   "outputs": [
    {
     "data": {
      "text/plain": "index              0\ntitle              0\nsubtitle        1352\ndescription        0\nimage              0\nkeywords           0\nsyno_s             0\nsyno_m           805\nsyno_l          7000\ncategory           0\nchannel            0\nlanguage           0\nrelease_date       0\nduration_sec       0\ntopic              0\ndtype: int64"
     },
     "execution_count": 208,
     "metadata": {},
     "output_type": "execute_result"
    }
   ],
   "source": [
    "df_nona.isna().sum()"
   ],
   "metadata": {
    "collapsed": false,
    "pycharm": {
     "name": "#%%\n"
    }
   }
  },
  {
   "cell_type": "code",
   "execution_count": 209,
   "outputs": [],
   "source": [
    "df = df_nona"
   ],
   "metadata": {
    "collapsed": false,
    "pycharm": {
     "name": "#%%\n"
    }
   }
  },
  {
   "cell_type": "markdown",
   "source": [
    "## Image Processing"
   ],
   "metadata": {
    "collapsed": false
   }
  },
  {
   "cell_type": "code",
   "execution_count": 210,
   "outputs": [
    {
     "name": "stderr",
     "output_type": "stream",
     "text": [
      "/var/folders/2s/d47mm4m157l7p7yy3xrkwqsh0000gn/T/ipykernel_22040/3820794576.py:7: SettingWithCopyWarning: \n",
      "A value is trying to be set on a copy of a slice from a DataFrame.\n",
      "Try using .loc[row_indexer,col_indexer] = value instead\n",
      "\n",
      "See the caveats in the documentation: https://pandas.pydata.org/pandas-docs/stable/user_guide/indexing.html#returning-a-view-versus-a-copy\n",
      "  df_nona['image_l'] = generate_img(df_nona, l)\n",
      "/var/folders/2s/d47mm4m157l7p7yy3xrkwqsh0000gn/T/ipykernel_22040/3820794576.py:8: SettingWithCopyWarning: \n",
      "A value is trying to be set on a copy of a slice from a DataFrame.\n",
      "Try using .loc[row_indexer,col_indexer] = value instead\n",
      "\n",
      "See the caveats in the documentation: https://pandas.pydata.org/pandas-docs/stable/user_guide/indexing.html#returning-a-view-versus-a-copy\n",
      "  df_nona['image_xl'] = generate_img(df_nona, xl)\n"
     ]
    }
   ],
   "source": [
    "s = '192x108'\n",
    "m = '288x162'\n",
    "l = '352x198'\n",
    "xl = '1200x675'\n",
    "def generate_img(df_inp, size):\n",
    "    return [image.replace('{recipe}', size) for image in df_inp['image']]\n",
    "df_nona['image_l'] = generate_img(df_nona, l)\n",
    "df_nona['image_xl'] = generate_img(df_nona, xl)"
   ],
   "metadata": {
    "collapsed": false,
    "pycharm": {
     "name": "#%%\n"
    }
   }
  },
  {
   "cell_type": "code",
   "execution_count": 211,
   "outputs": [],
   "source": [
    "# df_img = df.loc[:, ['index', 'image', 'image_s', 'image_m', 'image_l']]\n",
    "# df_img.to_csv('../data/BBC/bbc_images.csv', sep=';')"
   ],
   "metadata": {
    "collapsed": false,
    "pycharm": {
     "name": "#%%\n"
    }
   }
  },
  {
   "cell_type": "markdown",
   "source": [
    "## Synopses clearing"
   ],
   "metadata": {
    "collapsed": false,
    "pycharm": {
     "name": "#%% md\n"
    }
   }
  },
  {
   "cell_type": "code",
   "execution_count": 212,
   "outputs": [
    {
     "data": {
      "text/plain": "0"
     },
     "execution_count": 212,
     "metadata": {},
     "output_type": "execute_result"
    }
   ],
   "source": [
    "len(df[df['syno_s'].isna()])"
   ],
   "metadata": {
    "collapsed": false,
    "pycharm": {
     "name": "#%%\n"
    }
   }
  },
  {
   "cell_type": "code",
   "execution_count": 213,
   "outputs": [
    {
     "data": {
      "text/plain": "805"
     },
     "execution_count": 213,
     "metadata": {},
     "output_type": "execute_result"
    }
   ],
   "source": [
    "len(df[df['syno_m'].isna()])"
   ],
   "metadata": {
    "collapsed": false,
    "pycharm": {
     "name": "#%%\n"
    }
   }
  },
  {
   "cell_type": "code",
   "execution_count": 214,
   "outputs": [
    {
     "data": {
      "text/plain": "7000"
     },
     "execution_count": 214,
     "metadata": {},
     "output_type": "execute_result"
    }
   ],
   "source": [
    "len(df[df['syno_l'].isna()])"
   ],
   "metadata": {
    "collapsed": false,
    "pycharm": {
     "name": "#%%\n"
    }
   }
  },
  {
   "cell_type": "code",
   "execution_count": 215,
   "outputs": [],
   "source": [
    "def fill_column(df_input, origin_col, gap_filler_col):\n",
    "    for index, df_entry in df_input.iterrows():\n",
    "        # checks if the value is the same, if not it is a NaN\n",
    "        if not df_entry[origin_col] == df_entry[origin_col]:\n",
    "            df_input.loc[index, [origin_col]] = df_entry[gap_filler_col]"
   ],
   "metadata": {
    "collapsed": false,
    "pycharm": {
     "name": "#%%\n"
    }
   }
  },
  {
   "cell_type": "code",
   "execution_count": 216,
   "outputs": [],
   "source": [
    "# Substitute all nan syno_m with the syno_s values\n",
    "fill_column(df, origin_col='syno_m', gap_filler_col='syno_s')\n",
    "# Substitute all nan syno_l with the syno_m values\n",
    "fill_column(df, origin_col='syno_l', gap_filler_col='syno_m')"
   ],
   "metadata": {
    "collapsed": false,
    "pycharm": {
     "name": "#%%\n"
    }
   }
  },
  {
   "cell_type": "code",
   "execution_count": 217,
   "outputs": [],
   "source": [
    "# df.to_csv('../data/BBC/bbc_data.csv', sep=';')"
   ],
   "metadata": {
    "collapsed": false,
    "pycharm": {
     "name": "#%%\n"
    }
   }
  },
  {
   "cell_type": "code",
   "execution_count": 218,
   "outputs": [],
   "source": [
    "df.loc[df['subtitle'].isna(), 'subtitle'] = 'None'"
   ],
   "metadata": {
    "collapsed": false,
    "pycharm": {
     "name": "#%%\n"
    }
   }
  },
  {
   "cell_type": "code",
   "execution_count": 219,
   "outputs": [
    {
     "data": {
      "text/plain": "index           0\ntitle           0\nsubtitle        0\ndescription     0\nimage           0\nkeywords        0\nsyno_s          0\nsyno_m          0\nsyno_l          0\ncategory        0\nchannel         0\nlanguage        0\nrelease_date    0\nduration_sec    0\ntopic           0\nimage_l         0\nimage_xl        0\ndtype: int64"
     },
     "execution_count": 219,
     "metadata": {},
     "output_type": "execute_result"
    }
   ],
   "source": [
    "df.isna().sum()"
   ],
   "metadata": {
    "collapsed": false,
    "pycharm": {
     "name": "#%%\n"
    }
   }
  },
  {
   "cell_type": "code",
   "execution_count": 220,
   "outputs": [],
   "source": [
    "df = df.iloc[:, 1:]"
   ],
   "metadata": {
    "collapsed": false,
    "pycharm": {
     "name": "#%%\n"
    }
   }
  },
  {
   "cell_type": "markdown",
   "source": [
    "## Remove duplicates"
   ],
   "metadata": {
    "collapsed": false
   }
  },
  {
   "cell_type": "code",
   "execution_count": 221,
   "outputs": [
    {
     "data": {
      "text/plain": "                        title                       subtitle  \\\n14141  A Life in Ten Pictures     Series 1: 6. Amy Winehouse   \n14490  A Life in Ten Pictures      Series 1: 2. Tupac Shakur   \n14750  A Life in Ten Pictures   Series 1: 1. Freddie Mercury   \n17236  A Life in Ten Pictures      Series 1: 5. Muhammad Ali   \n17420  A Life in Ten Pictures  Series 1: 3. Elizabeth Taylor   \n18568  A Life in Ten Pictures       Series 1: 4. John Lennon   \n25359  A Life in Ten Pictures   Series 1: 1. Freddie Mercury   \n25483  A Life in Ten Pictures      Series 1: 2. Tupac Shakur   \n25489  A Life in Ten Pictures       Series 1: 4. John Lennon   \n25546  A Life in Ten Pictures     Series 1: 6. Amy Winehouse   \n25631  A Life in Ten Pictures      Series 1: 5. Muhammad Ali   \n25643  A Life in Ten Pictures  Series 1: 3. Elizabeth Taylor   \n29927  A Life in Ten Pictures   Series 1: 1. Freddie Mercury   \n30919  A Life in Ten Pictures      Series 1: 2. Tupac Shakur   \n30985  A Life in Ten Pictures       Series 1: 4. John Lennon   \n31409  A Life in Ten Pictures     Series 1: 6. Amy Winehouse   \n32213  A Life in Ten Pictures      Series 1: 5. Muhammad Ali   \n32348  A Life in Ten Pictures  Series 1: 3. Elizabeth Taylor   \n\n                                             description  \\\n14141  Ten pictures, from iconic shots to private sna...   \n14490  Ten pictures, from iconic shots to private sna...   \n14750  Ten pictures, from iconic shots to private sna...   \n17236  Ten pictures, from iconic shots to private sna...   \n17420  Ten pictures, from iconic shots to private sna...   \n18568  Ten pictures, from iconic shots to private sna...   \n25359  Ten pictures, from iconic shots to private sna...   \n25483  Ten pictures, from iconic shots to private sna...   \n25489  Ten pictures, from iconic shots to private sna...   \n25546  Ten pictures, from iconic shots to private sna...   \n25631  Ten pictures, from iconic shots to private sna...   \n25643  Ten pictures, from iconic shots to private sna...   \n29927  Ten pictures, from iconic shots to private sna...   \n30919  Ten pictures, from iconic shots to private sna...   \n30985  Ten pictures, from iconic shots to private sna...   \n31409  Ten pictures, from iconic shots to private sna...   \n32213  Ten pictures, from iconic shots to private sna...   \n32348  Ten pictures, from iconic shots to private sna...   \n\n                                                   image  \\\n14141  https://ichef.bbci.co.uk/images/ic/{recipe}/p0...   \n14490  https://ichef.bbci.co.uk/images/ic/{recipe}/p0...   \n14750  https://ichef.bbci.co.uk/images/ic/{recipe}/p0...   \n17236  https://ichef.bbci.co.uk/images/ic/{recipe}/p0...   \n17420  https://ichef.bbci.co.uk/images/ic/{recipe}/p0...   \n18568  https://ichef.bbci.co.uk/images/ic/{recipe}/p0...   \n25359  https://ichef.bbci.co.uk/images/ic/{recipe}/p0...   \n25483  https://ichef.bbci.co.uk/images/ic/{recipe}/p0...   \n25489  https://ichef.bbci.co.uk/images/ic/{recipe}/p0...   \n25546  https://ichef.bbci.co.uk/images/ic/{recipe}/p0...   \n25631  https://ichef.bbci.co.uk/images/ic/{recipe}/p0...   \n25643  https://ichef.bbci.co.uk/images/ic/{recipe}/p0...   \n29927  https://ichef.bbci.co.uk/images/ic/{recipe}/p0...   \n30919  https://ichef.bbci.co.uk/images/ic/{recipe}/p0...   \n30985  https://ichef.bbci.co.uk/images/ic/{recipe}/p0...   \n31409  https://ichef.bbci.co.uk/images/ic/{recipe}/p0...   \n32213  https://ichef.bbci.co.uk/images/ic/{recipe}/p0...   \n32348  https://ichef.bbci.co.uk/images/ic/{recipe}/p0...   \n\n                                                keywords  \\\n14141  BBC, iPlayer, TV, A Life in Ten Pictures, Seri...   \n14490  BBC, iPlayer, TV, A Life in Ten Pictures, Seri...   \n14750  BBC, iPlayer, TV, A Life in Ten Pictures, Seri...   \n17236  BBC, iPlayer, TV, A Life in Ten Pictures, Seri...   \n17420  BBC, iPlayer, TV, A Life in Ten Pictures, Seri...   \n18568  BBC, iPlayer, TV, A Life in Ten Pictures, Seri...   \n25359  BBC, iPlayer, TV, A Life in Ten Pictures, Seri...   \n25483  BBC, iPlayer, TV, A Life in Ten Pictures, Seri...   \n25489  BBC, iPlayer, TV, A Life in Ten Pictures, Seri...   \n25546  BBC, iPlayer, TV, A Life in Ten Pictures, Seri...   \n25631  BBC, iPlayer, TV, A Life in Ten Pictures, Seri...   \n25643  BBC, iPlayer, TV, A Life in Ten Pictures, Seri...   \n29927  BBC, iPlayer, TV, A Life in Ten Pictures, Seri...   \n30919  BBC, iPlayer, TV, A Life in Ten Pictures, Seri...   \n30985  BBC, iPlayer, TV, A Life in Ten Pictures, Seri...   \n31409  BBC, iPlayer, TV, A Life in Ten Pictures, Seri...   \n32213  BBC, iPlayer, TV, A Life in Ten Pictures, Seri...   \n32348  BBC, iPlayer, TV, A Life in Ten Pictures, Seri...   \n\n                                                  syno_s  \\\n14141  Ten pictures, from iconic shots to private sna...   \n14490  Ten pictures, from iconic shots to private sna...   \n14750  Ten pictures, from iconic shots to private sna...   \n17236  Ten pictures, from iconic shots to private sna...   \n17420  Ten pictures, from iconic shots to private sna...   \n18568  Ten pictures, from iconic shots to private sna...   \n25359  Ten pictures, from iconic shots to private sna...   \n25483  Ten pictures, from iconic shots to private sna...   \n25489  Ten pictures, from iconic shots to private sna...   \n25546  Ten pictures, from iconic shots to private sna...   \n25631  Ten pictures, from iconic shots to private sna...   \n25643  Ten pictures, from iconic shots to private sna...   \n29927  Ten pictures, from iconic shots to private sna...   \n30919  Ten pictures, from iconic shots to private sna...   \n30985  Ten pictures, from iconic shots to private sna...   \n31409  Ten pictures, from iconic shots to private sna...   \n32213  Ten pictures, from iconic shots to private sna...   \n32348  Ten pictures, from iconic shots to private sna...   \n\n                                                  syno_m  \\\n14141  Amy Winehouse’s image is known around the worl...   \n14490  Tupac Shakur’s image is famous around the worl...   \n14750  Freddie Mercury’s image is famous around the w...   \n17236  Muhammad Ali is one of the most photographed m...   \n17420  Elizabeth Taylor’s image is famous around the ...   \n18568  John Lennon’s image is famous around the world...   \n25359  Freddie Mercury’s image is famous around the w...   \n25483  Tupac Shakur’s image is famous around the worl...   \n25489  John Lennon’s image is famous around the world...   \n25546  Amy Winehouse’s image is known around the worl...   \n25631  Muhammad Ali is one of the most photographed m...   \n25643  Elizabeth Taylor’s image is famous around the ...   \n29927  Freddie Mercury’s image is famous around the w...   \n30919  Tupac Shakur’s image is famous around the worl...   \n30985  John Lennon’s image is famous around the world...   \n31409  Amy Winehouse’s image is known around the worl...   \n32213  Muhammad Ali is one of the most photographed m...   \n32348  Elizabeth Taylor’s image is famous around the ...   \n\n                                                  syno_l category  channel  \\\n14141  Amy Winehouse’s image is known around the worl...  History  bbc_two   \n14490  Tupac Shakur’s image is known around the world...  History  bbc_two   \n14750  Freddie Mercury’s image is known around the wo...  History  bbc_two   \n17236  Muhammad Ali is one of the most photographed m...  History  bbc_two   \n17420  Elizabeth Taylor’s image is known around the w...  History  bbc_two   \n18568  John Lennon’s image is known around the world;...  History  bbc_two   \n25359  Freddie Mercury’s image is known around the wo...  History  bbc_two   \n25483  Tupac Shakur’s image is known around the world...  History  bbc_two   \n25489  John Lennon’s image is known around the world;...  History  bbc_two   \n25546  Amy Winehouse’s image is known around the worl...  History  bbc_two   \n25631  Muhammad Ali is one of the most photographed m...  History  bbc_two   \n25643  Elizabeth Taylor’s image is known around the w...  History  bbc_two   \n29927  Freddie Mercury’s image is known around the wo...  History  bbc_two   \n30919  Tupac Shakur’s image is known around the world...  History  bbc_two   \n30985  John Lennon’s image is known around the world;...  History  bbc_two   \n31409  Amy Winehouse’s image is known around the worl...  History  bbc_two   \n32213  Muhammad Ali is one of the most photographed m...  History  bbc_two   \n32348  Elizabeth Taylor’s image is known around the w...  History  bbc_two   \n\n                             language        release_date  duration_sec  \\\n14141       Contains strong language.     9pm 11 Sep 2021        3550.0   \n14490  Contains some strong language.         10 Apr 2021        3531.0   \n14750  Contains some strong language.      9pm 3 Apr 2021        3532.0   \n17236                           False      9pm 8 May 2021        3546.0   \n17420  Contains some strong language.  9:10pm 17 Apr 2021        3556.0   \n18568                           False     9pm 15 May 2021        3539.0   \n25359  Contains some strong language.      9pm 3 Apr 2021        3532.0   \n25483  Contains some strong language.         10 Apr 2021        3531.0   \n25489                           False     9pm 15 May 2021        3539.0   \n25546       Contains strong language.     9pm 11 Sep 2021        3550.0   \n25631                           False      9pm 8 May 2021        3546.0   \n25643  Contains some strong language.  9:10pm 17 Apr 2021        3556.0   \n29927  Contains some strong language.      9pm 3 Apr 2021        3532.0   \n30919  Contains some strong language.         10 Apr 2021        3531.0   \n30985                           False     9pm 15 May 2021        3539.0   \n31409       Contains strong language.     9pm 11 Sep 2021        3550.0   \n32213                           False      9pm 8 May 2021        3546.0   \n32348  Contains some strong language.  9:10pm 17 Apr 2021        3556.0   \n\n               topic                                            image_l  \\\n14141         signed  https://ichef.bbci.co.uk/images/ic/352x198/p09...   \n14490         signed  https://ichef.bbci.co.uk/images/ic/352x198/p09...   \n14750         signed  https://ichef.bbci.co.uk/images/ic/352x198/p09...   \n17236         signed  https://ichef.bbci.co.uk/images/ic/352x198/p09...   \n17420         signed  https://ichef.bbci.co.uk/images/ic/352x198/p09...   \n18568         signed  https://ichef.bbci.co.uk/images/ic/352x198/p09...   \n25359        history  https://ichef.bbci.co.uk/images/ic/352x198/p09...   \n25483        history  https://ichef.bbci.co.uk/images/ic/352x198/p09...   \n25489        history  https://ichef.bbci.co.uk/images/ic/352x198/p09...   \n25546        history  https://ichef.bbci.co.uk/images/ic/352x198/p09...   \n25631        history  https://ichef.bbci.co.uk/images/ic/352x198/p09...   \n25643        history  https://ichef.bbci.co.uk/images/ic/352x198/p09...   \n29927  documentaries  https://ichef.bbci.co.uk/images/ic/352x198/p09...   \n30919  documentaries  https://ichef.bbci.co.uk/images/ic/352x198/p09...   \n30985  documentaries  https://ichef.bbci.co.uk/images/ic/352x198/p09...   \n31409  documentaries  https://ichef.bbci.co.uk/images/ic/352x198/p09...   \n32213  documentaries  https://ichef.bbci.co.uk/images/ic/352x198/p09...   \n32348  documentaries  https://ichef.bbci.co.uk/images/ic/352x198/p09...   \n\n                                                image_xl  \n14141  https://ichef.bbci.co.uk/images/ic/1200x675/p0...  \n14490  https://ichef.bbci.co.uk/images/ic/1200x675/p0...  \n14750  https://ichef.bbci.co.uk/images/ic/1200x675/p0...  \n17236  https://ichef.bbci.co.uk/images/ic/1200x675/p0...  \n17420  https://ichef.bbci.co.uk/images/ic/1200x675/p0...  \n18568  https://ichef.bbci.co.uk/images/ic/1200x675/p0...  \n25359  https://ichef.bbci.co.uk/images/ic/1200x675/p0...  \n25483  https://ichef.bbci.co.uk/images/ic/1200x675/p0...  \n25489  https://ichef.bbci.co.uk/images/ic/1200x675/p0...  \n25546  https://ichef.bbci.co.uk/images/ic/1200x675/p0...  \n25631  https://ichef.bbci.co.uk/images/ic/1200x675/p0...  \n25643  https://ichef.bbci.co.uk/images/ic/1200x675/p0...  \n29927  https://ichef.bbci.co.uk/images/ic/1200x675/p0...  \n30919  https://ichef.bbci.co.uk/images/ic/1200x675/p0...  \n30985  https://ichef.bbci.co.uk/images/ic/1200x675/p0...  \n31409  https://ichef.bbci.co.uk/images/ic/1200x675/p0...  \n32213  https://ichef.bbci.co.uk/images/ic/1200x675/p0...  \n32348  https://ichef.bbci.co.uk/images/ic/1200x675/p0...  ",
      "text/html": "<div>\n<style scoped>\n    .dataframe tbody tr th:only-of-type {\n        vertical-align: middle;\n    }\n\n    .dataframe tbody tr th {\n        vertical-align: top;\n    }\n\n    .dataframe thead th {\n        text-align: right;\n    }\n</style>\n<table border=\"1\" class=\"dataframe\">\n  <thead>\n    <tr style=\"text-align: right;\">\n      <th></th>\n      <th>title</th>\n      <th>subtitle</th>\n      <th>description</th>\n      <th>image</th>\n      <th>keywords</th>\n      <th>syno_s</th>\n      <th>syno_m</th>\n      <th>syno_l</th>\n      <th>category</th>\n      <th>channel</th>\n      <th>language</th>\n      <th>release_date</th>\n      <th>duration_sec</th>\n      <th>topic</th>\n      <th>image_l</th>\n      <th>image_xl</th>\n    </tr>\n  </thead>\n  <tbody>\n    <tr>\n      <th>14141</th>\n      <td>A Life in Ten Pictures</td>\n      <td>Series 1: 6. Amy Winehouse</td>\n      <td>Ten pictures, from iconic shots to private sna...</td>\n      <td>https://ichef.bbci.co.uk/images/ic/{recipe}/p0...</td>\n      <td>BBC, iPlayer, TV, A Life in Ten Pictures, Seri...</td>\n      <td>Ten pictures, from iconic shots to private sna...</td>\n      <td>Amy Winehouse’s image is known around the worl...</td>\n      <td>Amy Winehouse’s image is known around the worl...</td>\n      <td>History</td>\n      <td>bbc_two</td>\n      <td>Contains strong language.</td>\n      <td>9pm 11 Sep 2021</td>\n      <td>3550.0</td>\n      <td>signed</td>\n      <td>https://ichef.bbci.co.uk/images/ic/352x198/p09...</td>\n      <td>https://ichef.bbci.co.uk/images/ic/1200x675/p0...</td>\n    </tr>\n    <tr>\n      <th>14490</th>\n      <td>A Life in Ten Pictures</td>\n      <td>Series 1: 2. Tupac Shakur</td>\n      <td>Ten pictures, from iconic shots to private sna...</td>\n      <td>https://ichef.bbci.co.uk/images/ic/{recipe}/p0...</td>\n      <td>BBC, iPlayer, TV, A Life in Ten Pictures, Seri...</td>\n      <td>Ten pictures, from iconic shots to private sna...</td>\n      <td>Tupac Shakur’s image is famous around the worl...</td>\n      <td>Tupac Shakur’s image is known around the world...</td>\n      <td>History</td>\n      <td>bbc_two</td>\n      <td>Contains some strong language.</td>\n      <td>10 Apr 2021</td>\n      <td>3531.0</td>\n      <td>signed</td>\n      <td>https://ichef.bbci.co.uk/images/ic/352x198/p09...</td>\n      <td>https://ichef.bbci.co.uk/images/ic/1200x675/p0...</td>\n    </tr>\n    <tr>\n      <th>14750</th>\n      <td>A Life in Ten Pictures</td>\n      <td>Series 1: 1. Freddie Mercury</td>\n      <td>Ten pictures, from iconic shots to private sna...</td>\n      <td>https://ichef.bbci.co.uk/images/ic/{recipe}/p0...</td>\n      <td>BBC, iPlayer, TV, A Life in Ten Pictures, Seri...</td>\n      <td>Ten pictures, from iconic shots to private sna...</td>\n      <td>Freddie Mercury’s image is famous around the w...</td>\n      <td>Freddie Mercury’s image is known around the wo...</td>\n      <td>History</td>\n      <td>bbc_two</td>\n      <td>Contains some strong language.</td>\n      <td>9pm 3 Apr 2021</td>\n      <td>3532.0</td>\n      <td>signed</td>\n      <td>https://ichef.bbci.co.uk/images/ic/352x198/p09...</td>\n      <td>https://ichef.bbci.co.uk/images/ic/1200x675/p0...</td>\n    </tr>\n    <tr>\n      <th>17236</th>\n      <td>A Life in Ten Pictures</td>\n      <td>Series 1: 5. Muhammad Ali</td>\n      <td>Ten pictures, from iconic shots to private sna...</td>\n      <td>https://ichef.bbci.co.uk/images/ic/{recipe}/p0...</td>\n      <td>BBC, iPlayer, TV, A Life in Ten Pictures, Seri...</td>\n      <td>Ten pictures, from iconic shots to private sna...</td>\n      <td>Muhammad Ali is one of the most photographed m...</td>\n      <td>Muhammad Ali is one of the most photographed m...</td>\n      <td>History</td>\n      <td>bbc_two</td>\n      <td>False</td>\n      <td>9pm 8 May 2021</td>\n      <td>3546.0</td>\n      <td>signed</td>\n      <td>https://ichef.bbci.co.uk/images/ic/352x198/p09...</td>\n      <td>https://ichef.bbci.co.uk/images/ic/1200x675/p0...</td>\n    </tr>\n    <tr>\n      <th>17420</th>\n      <td>A Life in Ten Pictures</td>\n      <td>Series 1: 3. Elizabeth Taylor</td>\n      <td>Ten pictures, from iconic shots to private sna...</td>\n      <td>https://ichef.bbci.co.uk/images/ic/{recipe}/p0...</td>\n      <td>BBC, iPlayer, TV, A Life in Ten Pictures, Seri...</td>\n      <td>Ten pictures, from iconic shots to private sna...</td>\n      <td>Elizabeth Taylor’s image is famous around the ...</td>\n      <td>Elizabeth Taylor’s image is known around the w...</td>\n      <td>History</td>\n      <td>bbc_two</td>\n      <td>Contains some strong language.</td>\n      <td>9:10pm 17 Apr 2021</td>\n      <td>3556.0</td>\n      <td>signed</td>\n      <td>https://ichef.bbci.co.uk/images/ic/352x198/p09...</td>\n      <td>https://ichef.bbci.co.uk/images/ic/1200x675/p0...</td>\n    </tr>\n    <tr>\n      <th>18568</th>\n      <td>A Life in Ten Pictures</td>\n      <td>Series 1: 4. John Lennon</td>\n      <td>Ten pictures, from iconic shots to private sna...</td>\n      <td>https://ichef.bbci.co.uk/images/ic/{recipe}/p0...</td>\n      <td>BBC, iPlayer, TV, A Life in Ten Pictures, Seri...</td>\n      <td>Ten pictures, from iconic shots to private sna...</td>\n      <td>John Lennon’s image is famous around the world...</td>\n      <td>John Lennon’s image is known around the world;...</td>\n      <td>History</td>\n      <td>bbc_two</td>\n      <td>False</td>\n      <td>9pm 15 May 2021</td>\n      <td>3539.0</td>\n      <td>signed</td>\n      <td>https://ichef.bbci.co.uk/images/ic/352x198/p09...</td>\n      <td>https://ichef.bbci.co.uk/images/ic/1200x675/p0...</td>\n    </tr>\n    <tr>\n      <th>25359</th>\n      <td>A Life in Ten Pictures</td>\n      <td>Series 1: 1. Freddie Mercury</td>\n      <td>Ten pictures, from iconic shots to private sna...</td>\n      <td>https://ichef.bbci.co.uk/images/ic/{recipe}/p0...</td>\n      <td>BBC, iPlayer, TV, A Life in Ten Pictures, Seri...</td>\n      <td>Ten pictures, from iconic shots to private sna...</td>\n      <td>Freddie Mercury’s image is famous around the w...</td>\n      <td>Freddie Mercury’s image is known around the wo...</td>\n      <td>History</td>\n      <td>bbc_two</td>\n      <td>Contains some strong language.</td>\n      <td>9pm 3 Apr 2021</td>\n      <td>3532.0</td>\n      <td>history</td>\n      <td>https://ichef.bbci.co.uk/images/ic/352x198/p09...</td>\n      <td>https://ichef.bbci.co.uk/images/ic/1200x675/p0...</td>\n    </tr>\n    <tr>\n      <th>25483</th>\n      <td>A Life in Ten Pictures</td>\n      <td>Series 1: 2. Tupac Shakur</td>\n      <td>Ten pictures, from iconic shots to private sna...</td>\n      <td>https://ichef.bbci.co.uk/images/ic/{recipe}/p0...</td>\n      <td>BBC, iPlayer, TV, A Life in Ten Pictures, Seri...</td>\n      <td>Ten pictures, from iconic shots to private sna...</td>\n      <td>Tupac Shakur’s image is famous around the worl...</td>\n      <td>Tupac Shakur’s image is known around the world...</td>\n      <td>History</td>\n      <td>bbc_two</td>\n      <td>Contains some strong language.</td>\n      <td>10 Apr 2021</td>\n      <td>3531.0</td>\n      <td>history</td>\n      <td>https://ichef.bbci.co.uk/images/ic/352x198/p09...</td>\n      <td>https://ichef.bbci.co.uk/images/ic/1200x675/p0...</td>\n    </tr>\n    <tr>\n      <th>25489</th>\n      <td>A Life in Ten Pictures</td>\n      <td>Series 1: 4. John Lennon</td>\n      <td>Ten pictures, from iconic shots to private sna...</td>\n      <td>https://ichef.bbci.co.uk/images/ic/{recipe}/p0...</td>\n      <td>BBC, iPlayer, TV, A Life in Ten Pictures, Seri...</td>\n      <td>Ten pictures, from iconic shots to private sna...</td>\n      <td>John Lennon’s image is famous around the world...</td>\n      <td>John Lennon’s image is known around the world;...</td>\n      <td>History</td>\n      <td>bbc_two</td>\n      <td>False</td>\n      <td>9pm 15 May 2021</td>\n      <td>3539.0</td>\n      <td>history</td>\n      <td>https://ichef.bbci.co.uk/images/ic/352x198/p09...</td>\n      <td>https://ichef.bbci.co.uk/images/ic/1200x675/p0...</td>\n    </tr>\n    <tr>\n      <th>25546</th>\n      <td>A Life in Ten Pictures</td>\n      <td>Series 1: 6. Amy Winehouse</td>\n      <td>Ten pictures, from iconic shots to private sna...</td>\n      <td>https://ichef.bbci.co.uk/images/ic/{recipe}/p0...</td>\n      <td>BBC, iPlayer, TV, A Life in Ten Pictures, Seri...</td>\n      <td>Ten pictures, from iconic shots to private sna...</td>\n      <td>Amy Winehouse’s image is known around the worl...</td>\n      <td>Amy Winehouse’s image is known around the worl...</td>\n      <td>History</td>\n      <td>bbc_two</td>\n      <td>Contains strong language.</td>\n      <td>9pm 11 Sep 2021</td>\n      <td>3550.0</td>\n      <td>history</td>\n      <td>https://ichef.bbci.co.uk/images/ic/352x198/p09...</td>\n      <td>https://ichef.bbci.co.uk/images/ic/1200x675/p0...</td>\n    </tr>\n    <tr>\n      <th>25631</th>\n      <td>A Life in Ten Pictures</td>\n      <td>Series 1: 5. Muhammad Ali</td>\n      <td>Ten pictures, from iconic shots to private sna...</td>\n      <td>https://ichef.bbci.co.uk/images/ic/{recipe}/p0...</td>\n      <td>BBC, iPlayer, TV, A Life in Ten Pictures, Seri...</td>\n      <td>Ten pictures, from iconic shots to private sna...</td>\n      <td>Muhammad Ali is one of the most photographed m...</td>\n      <td>Muhammad Ali is one of the most photographed m...</td>\n      <td>History</td>\n      <td>bbc_two</td>\n      <td>False</td>\n      <td>9pm 8 May 2021</td>\n      <td>3546.0</td>\n      <td>history</td>\n      <td>https://ichef.bbci.co.uk/images/ic/352x198/p09...</td>\n      <td>https://ichef.bbci.co.uk/images/ic/1200x675/p0...</td>\n    </tr>\n    <tr>\n      <th>25643</th>\n      <td>A Life in Ten Pictures</td>\n      <td>Series 1: 3. Elizabeth Taylor</td>\n      <td>Ten pictures, from iconic shots to private sna...</td>\n      <td>https://ichef.bbci.co.uk/images/ic/{recipe}/p0...</td>\n      <td>BBC, iPlayer, TV, A Life in Ten Pictures, Seri...</td>\n      <td>Ten pictures, from iconic shots to private sna...</td>\n      <td>Elizabeth Taylor’s image is famous around the ...</td>\n      <td>Elizabeth Taylor’s image is known around the w...</td>\n      <td>History</td>\n      <td>bbc_two</td>\n      <td>Contains some strong language.</td>\n      <td>9:10pm 17 Apr 2021</td>\n      <td>3556.0</td>\n      <td>history</td>\n      <td>https://ichef.bbci.co.uk/images/ic/352x198/p09...</td>\n      <td>https://ichef.bbci.co.uk/images/ic/1200x675/p0...</td>\n    </tr>\n    <tr>\n      <th>29927</th>\n      <td>A Life in Ten Pictures</td>\n      <td>Series 1: 1. Freddie Mercury</td>\n      <td>Ten pictures, from iconic shots to private sna...</td>\n      <td>https://ichef.bbci.co.uk/images/ic/{recipe}/p0...</td>\n      <td>BBC, iPlayer, TV, A Life in Ten Pictures, Seri...</td>\n      <td>Ten pictures, from iconic shots to private sna...</td>\n      <td>Freddie Mercury’s image is famous around the w...</td>\n      <td>Freddie Mercury’s image is known around the wo...</td>\n      <td>History</td>\n      <td>bbc_two</td>\n      <td>Contains some strong language.</td>\n      <td>9pm 3 Apr 2021</td>\n      <td>3532.0</td>\n      <td>documentaries</td>\n      <td>https://ichef.bbci.co.uk/images/ic/352x198/p09...</td>\n      <td>https://ichef.bbci.co.uk/images/ic/1200x675/p0...</td>\n    </tr>\n    <tr>\n      <th>30919</th>\n      <td>A Life in Ten Pictures</td>\n      <td>Series 1: 2. Tupac Shakur</td>\n      <td>Ten pictures, from iconic shots to private sna...</td>\n      <td>https://ichef.bbci.co.uk/images/ic/{recipe}/p0...</td>\n      <td>BBC, iPlayer, TV, A Life in Ten Pictures, Seri...</td>\n      <td>Ten pictures, from iconic shots to private sna...</td>\n      <td>Tupac Shakur’s image is famous around the worl...</td>\n      <td>Tupac Shakur’s image is known around the world...</td>\n      <td>History</td>\n      <td>bbc_two</td>\n      <td>Contains some strong language.</td>\n      <td>10 Apr 2021</td>\n      <td>3531.0</td>\n      <td>documentaries</td>\n      <td>https://ichef.bbci.co.uk/images/ic/352x198/p09...</td>\n      <td>https://ichef.bbci.co.uk/images/ic/1200x675/p0...</td>\n    </tr>\n    <tr>\n      <th>30985</th>\n      <td>A Life in Ten Pictures</td>\n      <td>Series 1: 4. John Lennon</td>\n      <td>Ten pictures, from iconic shots to private sna...</td>\n      <td>https://ichef.bbci.co.uk/images/ic/{recipe}/p0...</td>\n      <td>BBC, iPlayer, TV, A Life in Ten Pictures, Seri...</td>\n      <td>Ten pictures, from iconic shots to private sna...</td>\n      <td>John Lennon’s image is famous around the world...</td>\n      <td>John Lennon’s image is known around the world;...</td>\n      <td>History</td>\n      <td>bbc_two</td>\n      <td>False</td>\n      <td>9pm 15 May 2021</td>\n      <td>3539.0</td>\n      <td>documentaries</td>\n      <td>https://ichef.bbci.co.uk/images/ic/352x198/p09...</td>\n      <td>https://ichef.bbci.co.uk/images/ic/1200x675/p0...</td>\n    </tr>\n    <tr>\n      <th>31409</th>\n      <td>A Life in Ten Pictures</td>\n      <td>Series 1: 6. Amy Winehouse</td>\n      <td>Ten pictures, from iconic shots to private sna...</td>\n      <td>https://ichef.bbci.co.uk/images/ic/{recipe}/p0...</td>\n      <td>BBC, iPlayer, TV, A Life in Ten Pictures, Seri...</td>\n      <td>Ten pictures, from iconic shots to private sna...</td>\n      <td>Amy Winehouse’s image is known around the worl...</td>\n      <td>Amy Winehouse’s image is known around the worl...</td>\n      <td>History</td>\n      <td>bbc_two</td>\n      <td>Contains strong language.</td>\n      <td>9pm 11 Sep 2021</td>\n      <td>3550.0</td>\n      <td>documentaries</td>\n      <td>https://ichef.bbci.co.uk/images/ic/352x198/p09...</td>\n      <td>https://ichef.bbci.co.uk/images/ic/1200x675/p0...</td>\n    </tr>\n    <tr>\n      <th>32213</th>\n      <td>A Life in Ten Pictures</td>\n      <td>Series 1: 5. Muhammad Ali</td>\n      <td>Ten pictures, from iconic shots to private sna...</td>\n      <td>https://ichef.bbci.co.uk/images/ic/{recipe}/p0...</td>\n      <td>BBC, iPlayer, TV, A Life in Ten Pictures, Seri...</td>\n      <td>Ten pictures, from iconic shots to private sna...</td>\n      <td>Muhammad Ali is one of the most photographed m...</td>\n      <td>Muhammad Ali is one of the most photographed m...</td>\n      <td>History</td>\n      <td>bbc_two</td>\n      <td>False</td>\n      <td>9pm 8 May 2021</td>\n      <td>3546.0</td>\n      <td>documentaries</td>\n      <td>https://ichef.bbci.co.uk/images/ic/352x198/p09...</td>\n      <td>https://ichef.bbci.co.uk/images/ic/1200x675/p0...</td>\n    </tr>\n    <tr>\n      <th>32348</th>\n      <td>A Life in Ten Pictures</td>\n      <td>Series 1: 3. Elizabeth Taylor</td>\n      <td>Ten pictures, from iconic shots to private sna...</td>\n      <td>https://ichef.bbci.co.uk/images/ic/{recipe}/p0...</td>\n      <td>BBC, iPlayer, TV, A Life in Ten Pictures, Seri...</td>\n      <td>Ten pictures, from iconic shots to private sna...</td>\n      <td>Elizabeth Taylor’s image is famous around the ...</td>\n      <td>Elizabeth Taylor’s image is known around the w...</td>\n      <td>History</td>\n      <td>bbc_two</td>\n      <td>Contains some strong language.</td>\n      <td>9:10pm 17 Apr 2021</td>\n      <td>3556.0</td>\n      <td>documentaries</td>\n      <td>https://ichef.bbci.co.uk/images/ic/352x198/p09...</td>\n      <td>https://ichef.bbci.co.uk/images/ic/1200x675/p0...</td>\n    </tr>\n  </tbody>\n</table>\n</div>"
     },
     "execution_count": 221,
     "metadata": {},
     "output_type": "execute_result"
    }
   ],
   "source": [
    "df[df['title'] == 'A Life in Ten Pictures']"
   ],
   "metadata": {
    "collapsed": false,
    "pycharm": {
     "name": "#%%\n"
    }
   }
  },
  {
   "cell_type": "code",
   "execution_count": 222,
   "outputs": [
    {
     "data": {
      "text/plain": "title                                      subtitle                                 \n#CancelKarenDunbar                         None                                         2\n'Go Back To Where You Came From'           None                                         1\n'Hideous and Barbaric Venture'             None                                         1\n'Til Kingdom Come: Trump, Faith and Money  None                                         1\n04 Wal                                     Cyfres 10: Pennod 10                         1\n                                                                                       ..\n’S E Iasg a Th’Annam (I’m a Fish)          Series 1: 47. Brod-iasg                      1\n                                           Series 1: 48. Bradan-leathann Chalifornia    1\n                                           Series 1: 5. Òr-iasg                         1\n                                           Series 1: 50. Gibearnach                     1\n                                           Series 1: 52. Dràgon Gorm                    1\nLength: 22757, dtype: int64"
     },
     "execution_count": 222,
     "metadata": {},
     "output_type": "execute_result"
    }
   ],
   "source": [
    "df.groupby(['title', 'subtitle']).size()"
   ],
   "metadata": {
    "collapsed": false,
    "pycharm": {
     "name": "#%%\n"
    }
   }
  },
  {
   "cell_type": "code",
   "execution_count": 223,
   "outputs": [],
   "source": [
    "grouped_by_title_subtitle = df.groupby(['title', 'subtitle'])\n",
    "def remove_duplicates_by_title(df, grouped_by_title_subtitle):\n",
    "    for group, entries in grouped_by_title_subtitle:\n",
    "        if len(entries) == 1:\n",
    "            continue\n",
    "\n",
    "        indices = []\n",
    "        topics = []\n",
    "\n",
    "        for i, value in entries.iterrows():\n",
    "            topics.append(value['topic'])\n",
    "            indices.append(i)\n",
    "        df.loc[indices[0], 'topic'] = ', '.join(topics)\n",
    "        df = df.drop(labels=indices[1:], axis=0)\n",
    "    return df\n",
    "df = remove_duplicates_by_title(df, grouped_by_title_subtitle)"
   ],
   "metadata": {
    "collapsed": false,
    "pycharm": {
     "name": "#%%\n"
    }
   }
  },
  {
   "cell_type": "code",
   "execution_count": 224,
   "outputs": [
    {
     "data": {
      "text/plain": "title                                      subtitle                                 \n#CancelKarenDunbar                         None                                         1\n'Go Back To Where You Came From'           None                                         1\n'Hideous and Barbaric Venture'             None                                         1\n'Til Kingdom Come: Trump, Faith and Money  None                                         1\n04 Wal                                     Cyfres 10: Pennod 10                         1\n                                                                                       ..\n’S E Iasg a Th’Annam (I’m a Fish)          Series 1: 47. Brod-iasg                      1\n                                           Series 1: 48. Bradan-leathann Chalifornia    1\n                                           Series 1: 5. Òr-iasg                         1\n                                           Series 1: 50. Gibearnach                     1\n                                           Series 1: 52. Dràgon Gorm                    1\nLength: 22757, dtype: int64"
     },
     "execution_count": 224,
     "metadata": {},
     "output_type": "execute_result"
    }
   ],
   "source": [
    "df.groupby(['title', 'subtitle']).size()"
   ],
   "metadata": {
    "collapsed": false,
    "pycharm": {
     "name": "#%%\n"
    }
   }
  },
  {
   "cell_type": "code",
   "execution_count": 225,
   "outputs": [
    {
     "data": {
      "text/plain": "                        title                       subtitle  \\\n14141  A Life in Ten Pictures     Series 1: 6. Amy Winehouse   \n14490  A Life in Ten Pictures      Series 1: 2. Tupac Shakur   \n14750  A Life in Ten Pictures   Series 1: 1. Freddie Mercury   \n17236  A Life in Ten Pictures      Series 1: 5. Muhammad Ali   \n17420  A Life in Ten Pictures  Series 1: 3. Elizabeth Taylor   \n18568  A Life in Ten Pictures       Series 1: 4. John Lennon   \n\n                                             description  \\\n14141  Ten pictures, from iconic shots to private sna...   \n14490  Ten pictures, from iconic shots to private sna...   \n14750  Ten pictures, from iconic shots to private sna...   \n17236  Ten pictures, from iconic shots to private sna...   \n17420  Ten pictures, from iconic shots to private sna...   \n18568  Ten pictures, from iconic shots to private sna...   \n\n                                                   image  \\\n14141  https://ichef.bbci.co.uk/images/ic/{recipe}/p0...   \n14490  https://ichef.bbci.co.uk/images/ic/{recipe}/p0...   \n14750  https://ichef.bbci.co.uk/images/ic/{recipe}/p0...   \n17236  https://ichef.bbci.co.uk/images/ic/{recipe}/p0...   \n17420  https://ichef.bbci.co.uk/images/ic/{recipe}/p0...   \n18568  https://ichef.bbci.co.uk/images/ic/{recipe}/p0...   \n\n                                                keywords  \\\n14141  BBC, iPlayer, TV, A Life in Ten Pictures, Seri...   \n14490  BBC, iPlayer, TV, A Life in Ten Pictures, Seri...   \n14750  BBC, iPlayer, TV, A Life in Ten Pictures, Seri...   \n17236  BBC, iPlayer, TV, A Life in Ten Pictures, Seri...   \n17420  BBC, iPlayer, TV, A Life in Ten Pictures, Seri...   \n18568  BBC, iPlayer, TV, A Life in Ten Pictures, Seri...   \n\n                                                  syno_s  \\\n14141  Ten pictures, from iconic shots to private sna...   \n14490  Ten pictures, from iconic shots to private sna...   \n14750  Ten pictures, from iconic shots to private sna...   \n17236  Ten pictures, from iconic shots to private sna...   \n17420  Ten pictures, from iconic shots to private sna...   \n18568  Ten pictures, from iconic shots to private sna...   \n\n                                                  syno_m  \\\n14141  Amy Winehouse’s image is known around the worl...   \n14490  Tupac Shakur’s image is famous around the worl...   \n14750  Freddie Mercury’s image is famous around the w...   \n17236  Muhammad Ali is one of the most photographed m...   \n17420  Elizabeth Taylor’s image is famous around the ...   \n18568  John Lennon’s image is famous around the world...   \n\n                                                  syno_l category  channel  \\\n14141  Amy Winehouse’s image is known around the worl...  History  bbc_two   \n14490  Tupac Shakur’s image is known around the world...  History  bbc_two   \n14750  Freddie Mercury’s image is known around the wo...  History  bbc_two   \n17236  Muhammad Ali is one of the most photographed m...  History  bbc_two   \n17420  Elizabeth Taylor’s image is known around the w...  History  bbc_two   \n18568  John Lennon’s image is known around the world;...  History  bbc_two   \n\n                             language        release_date  duration_sec  \\\n14141       Contains strong language.     9pm 11 Sep 2021        3550.0   \n14490  Contains some strong language.         10 Apr 2021        3531.0   \n14750  Contains some strong language.      9pm 3 Apr 2021        3532.0   \n17236                           False      9pm 8 May 2021        3546.0   \n17420  Contains some strong language.  9:10pm 17 Apr 2021        3556.0   \n18568                           False     9pm 15 May 2021        3539.0   \n\n                                topic  \\\n14141  signed, history, documentaries   \n14490  signed, history, documentaries   \n14750  signed, history, documentaries   \n17236  signed, history, documentaries   \n17420  signed, history, documentaries   \n18568  signed, history, documentaries   \n\n                                                 image_l  \\\n14141  https://ichef.bbci.co.uk/images/ic/352x198/p09...   \n14490  https://ichef.bbci.co.uk/images/ic/352x198/p09...   \n14750  https://ichef.bbci.co.uk/images/ic/352x198/p09...   \n17236  https://ichef.bbci.co.uk/images/ic/352x198/p09...   \n17420  https://ichef.bbci.co.uk/images/ic/352x198/p09...   \n18568  https://ichef.bbci.co.uk/images/ic/352x198/p09...   \n\n                                                image_xl  \n14141  https://ichef.bbci.co.uk/images/ic/1200x675/p0...  \n14490  https://ichef.bbci.co.uk/images/ic/1200x675/p0...  \n14750  https://ichef.bbci.co.uk/images/ic/1200x675/p0...  \n17236  https://ichef.bbci.co.uk/images/ic/1200x675/p0...  \n17420  https://ichef.bbci.co.uk/images/ic/1200x675/p0...  \n18568  https://ichef.bbci.co.uk/images/ic/1200x675/p0...  ",
      "text/html": "<div>\n<style scoped>\n    .dataframe tbody tr th:only-of-type {\n        vertical-align: middle;\n    }\n\n    .dataframe tbody tr th {\n        vertical-align: top;\n    }\n\n    .dataframe thead th {\n        text-align: right;\n    }\n</style>\n<table border=\"1\" class=\"dataframe\">\n  <thead>\n    <tr style=\"text-align: right;\">\n      <th></th>\n      <th>title</th>\n      <th>subtitle</th>\n      <th>description</th>\n      <th>image</th>\n      <th>keywords</th>\n      <th>syno_s</th>\n      <th>syno_m</th>\n      <th>syno_l</th>\n      <th>category</th>\n      <th>channel</th>\n      <th>language</th>\n      <th>release_date</th>\n      <th>duration_sec</th>\n      <th>topic</th>\n      <th>image_l</th>\n      <th>image_xl</th>\n    </tr>\n  </thead>\n  <tbody>\n    <tr>\n      <th>14141</th>\n      <td>A Life in Ten Pictures</td>\n      <td>Series 1: 6. Amy Winehouse</td>\n      <td>Ten pictures, from iconic shots to private sna...</td>\n      <td>https://ichef.bbci.co.uk/images/ic/{recipe}/p0...</td>\n      <td>BBC, iPlayer, TV, A Life in Ten Pictures, Seri...</td>\n      <td>Ten pictures, from iconic shots to private sna...</td>\n      <td>Amy Winehouse’s image is known around the worl...</td>\n      <td>Amy Winehouse’s image is known around the worl...</td>\n      <td>History</td>\n      <td>bbc_two</td>\n      <td>Contains strong language.</td>\n      <td>9pm 11 Sep 2021</td>\n      <td>3550.0</td>\n      <td>signed, history, documentaries</td>\n      <td>https://ichef.bbci.co.uk/images/ic/352x198/p09...</td>\n      <td>https://ichef.bbci.co.uk/images/ic/1200x675/p0...</td>\n    </tr>\n    <tr>\n      <th>14490</th>\n      <td>A Life in Ten Pictures</td>\n      <td>Series 1: 2. Tupac Shakur</td>\n      <td>Ten pictures, from iconic shots to private sna...</td>\n      <td>https://ichef.bbci.co.uk/images/ic/{recipe}/p0...</td>\n      <td>BBC, iPlayer, TV, A Life in Ten Pictures, Seri...</td>\n      <td>Ten pictures, from iconic shots to private sna...</td>\n      <td>Tupac Shakur’s image is famous around the worl...</td>\n      <td>Tupac Shakur’s image is known around the world...</td>\n      <td>History</td>\n      <td>bbc_two</td>\n      <td>Contains some strong language.</td>\n      <td>10 Apr 2021</td>\n      <td>3531.0</td>\n      <td>signed, history, documentaries</td>\n      <td>https://ichef.bbci.co.uk/images/ic/352x198/p09...</td>\n      <td>https://ichef.bbci.co.uk/images/ic/1200x675/p0...</td>\n    </tr>\n    <tr>\n      <th>14750</th>\n      <td>A Life in Ten Pictures</td>\n      <td>Series 1: 1. Freddie Mercury</td>\n      <td>Ten pictures, from iconic shots to private sna...</td>\n      <td>https://ichef.bbci.co.uk/images/ic/{recipe}/p0...</td>\n      <td>BBC, iPlayer, TV, A Life in Ten Pictures, Seri...</td>\n      <td>Ten pictures, from iconic shots to private sna...</td>\n      <td>Freddie Mercury’s image is famous around the w...</td>\n      <td>Freddie Mercury’s image is known around the wo...</td>\n      <td>History</td>\n      <td>bbc_two</td>\n      <td>Contains some strong language.</td>\n      <td>9pm 3 Apr 2021</td>\n      <td>3532.0</td>\n      <td>signed, history, documentaries</td>\n      <td>https://ichef.bbci.co.uk/images/ic/352x198/p09...</td>\n      <td>https://ichef.bbci.co.uk/images/ic/1200x675/p0...</td>\n    </tr>\n    <tr>\n      <th>17236</th>\n      <td>A Life in Ten Pictures</td>\n      <td>Series 1: 5. Muhammad Ali</td>\n      <td>Ten pictures, from iconic shots to private sna...</td>\n      <td>https://ichef.bbci.co.uk/images/ic/{recipe}/p0...</td>\n      <td>BBC, iPlayer, TV, A Life in Ten Pictures, Seri...</td>\n      <td>Ten pictures, from iconic shots to private sna...</td>\n      <td>Muhammad Ali is one of the most photographed m...</td>\n      <td>Muhammad Ali is one of the most photographed m...</td>\n      <td>History</td>\n      <td>bbc_two</td>\n      <td>False</td>\n      <td>9pm 8 May 2021</td>\n      <td>3546.0</td>\n      <td>signed, history, documentaries</td>\n      <td>https://ichef.bbci.co.uk/images/ic/352x198/p09...</td>\n      <td>https://ichef.bbci.co.uk/images/ic/1200x675/p0...</td>\n    </tr>\n    <tr>\n      <th>17420</th>\n      <td>A Life in Ten Pictures</td>\n      <td>Series 1: 3. Elizabeth Taylor</td>\n      <td>Ten pictures, from iconic shots to private sna...</td>\n      <td>https://ichef.bbci.co.uk/images/ic/{recipe}/p0...</td>\n      <td>BBC, iPlayer, TV, A Life in Ten Pictures, Seri...</td>\n      <td>Ten pictures, from iconic shots to private sna...</td>\n      <td>Elizabeth Taylor’s image is famous around the ...</td>\n      <td>Elizabeth Taylor’s image is known around the w...</td>\n      <td>History</td>\n      <td>bbc_two</td>\n      <td>Contains some strong language.</td>\n      <td>9:10pm 17 Apr 2021</td>\n      <td>3556.0</td>\n      <td>signed, history, documentaries</td>\n      <td>https://ichef.bbci.co.uk/images/ic/352x198/p09...</td>\n      <td>https://ichef.bbci.co.uk/images/ic/1200x675/p0...</td>\n    </tr>\n    <tr>\n      <th>18568</th>\n      <td>A Life in Ten Pictures</td>\n      <td>Series 1: 4. John Lennon</td>\n      <td>Ten pictures, from iconic shots to private sna...</td>\n      <td>https://ichef.bbci.co.uk/images/ic/{recipe}/p0...</td>\n      <td>BBC, iPlayer, TV, A Life in Ten Pictures, Seri...</td>\n      <td>Ten pictures, from iconic shots to private sna...</td>\n      <td>John Lennon’s image is famous around the world...</td>\n      <td>John Lennon’s image is known around the world;...</td>\n      <td>History</td>\n      <td>bbc_two</td>\n      <td>False</td>\n      <td>9pm 15 May 2021</td>\n      <td>3539.0</td>\n      <td>signed, history, documentaries</td>\n      <td>https://ichef.bbci.co.uk/images/ic/352x198/p09...</td>\n      <td>https://ichef.bbci.co.uk/images/ic/1200x675/p0...</td>\n    </tr>\n  </tbody>\n</table>\n</div>"
     },
     "execution_count": 225,
     "metadata": {},
     "output_type": "execute_result"
    }
   ],
   "source": [
    "df[df['title'] == 'A Life in Ten Pictures']"
   ],
   "metadata": {
    "collapsed": false,
    "pycharm": {
     "name": "#%%\n"
    }
   }
  },
  {
   "cell_type": "code",
   "execution_count": 226,
   "outputs": [],
   "source": [
    "# df.to_csv('temp_bbc.csv', sep=';')"
   ],
   "metadata": {
    "collapsed": false,
    "pycharm": {
     "name": "#%%\n"
    }
   }
  },
  {
   "cell_type": "markdown",
   "source": [
    "## Genre and Keyword extraction"
   ],
   "metadata": {
    "collapsed": false
   }
  },
  {
   "cell_type": "code",
   "execution_count": 231,
   "outputs": [
    {
     "data": {
      "text/plain": "{'Arts',\n 'Beauty',\n 'CBBC',\n 'CBeebies',\n 'Comedy',\n 'Comedy Drama',\n 'Crime Drama',\n 'Current Affairs',\n 'Dating',\n 'Documentary',\n 'Documentary Film',\n 'Drama',\n 'Entertainment',\n 'Fantasy',\n 'Film',\n 'Film - Action',\n 'Film - Adventure',\n 'Film - Biopic',\n 'Film - Comedy',\n 'Film - Crime',\n 'Film - Drama',\n 'Film - Family',\n 'Film - Fantasy',\n 'Film - Horror',\n 'Film - Musical',\n 'Film - Period',\n 'Film - Rom-Com',\n 'Film - Romance',\n 'Film - Sci-Fi',\n 'Film - Thriller',\n 'Film - War',\n 'Film - Western',\n 'Food',\n 'From the Archives',\n 'History',\n 'Lifestyle',\n 'Music',\n 'Nature',\n 'News',\n 'Period Drama',\n 'Reality',\n 'Religion',\n 'Rom-com',\n 'Sci-Fi',\n 'Science',\n 'Science & Nature',\n 'Signed',\n 'Sport'}"
     },
     "execution_count": 231,
     "metadata": {},
     "output_type": "execute_result"
    }
   ],
   "source": [
    "categories = set(df['category'].tolist())\n",
    "categories"
   ],
   "metadata": {
    "collapsed": false,
    "pycharm": {
     "name": "#%%\n"
    }
   }
  },
  {
   "cell_type": "code",
   "execution_count": 230,
   "outputs": [],
   "source": [
    "df.loc[df['category'] == 'signed', 'category'] = 'Signed'\n",
    "df.loc[df['category'] == 'science-and-nature', 'category'] = 'Science & Nature'\n",
    "df.loc[df['category'] == 'news', 'category'] = 'News'\n",
    "df.loc[df['category'] == 'lifestyle', 'category'] = 'Lifestyle'\n",
    "df.loc[df['category'] == 'from-the-archives', 'category'] = 'From the Archives'\n",
    "df.loc[df['category'] == 'food', 'category'] = 'Food'\n",
    "df.loc[df['category'] == 'entertainment', 'category'] = 'Entertainment'\n",
    "df.loc[df['category'] == 'documentaries', 'category'] = 'Documentary'\n",
    "df.loc[df['category'] == 'cbbc', 'category'] = 'CBBC'\n",
    "df.loc[df['category'] == 'arts', 'category'] = 'Arts'\n",
    "df.loc[df['category'] == 'Sci-fi', 'category'] = 'Sci-Fi'"
   ],
   "metadata": {
    "collapsed": false,
    "pycharm": {
     "name": "#%%\n"
    }
   }
  },
  {
   "cell_type": "code",
   "execution_count": 232,
   "outputs": [
    {
     "data": {
      "text/plain": "                                             title subtitle  \\\n1788                                       Ivanhoe     None   \n1811                       Lara Croft: Tomb Raider     None   \n1819                                        El Cid     None   \n1841                              The Spanish Main     None   \n1849    Lara Croft Tomb Raider: The Cradle of Life     None   \n1863                         Blackbeard the Pirate     None   \n9819            Around the World in 80 Days (Film)     None   \n10880                           The Lost City of Z     None   \n10976  Pirates of the Caribbean: Salazar's Revenge     None   \n\n                                             description  \\\n1788   Ivanhoe fights for the honour of the kidnapped...   \n1811   The heroine races against time to find a relic...   \n1819   The epic story of the 11th-century Spanish her...   \n1841   Swashbuckling adventure in which a crew of ens...   \n1849   Archaeologist Lara Croft faces a race against ...   \n1863   Swashbuckling adventure set on the high seas i...   \n9819   Phileas Fogg makes a wager that he can circumn...   \n10880  The story of Colonel Percy Fawcett, who led se...   \n10976  Young Henry Turner seeks out Jack Sparrow to h...   \n\n                                                   image  \\\n1788   https://ichef.bbci.co.uk/images/ic/{recipe}/p0...   \n1811   https://ichef.bbci.co.uk/images/ic/{recipe}/p0...   \n1819   https://ichef.bbci.co.uk/images/ic/{recipe}/p0...   \n1841   https://ichef.bbci.co.uk/images/ic/{recipe}/p0...   \n1849   https://ichef.bbci.co.uk/images/ic/{recipe}/p0...   \n1863   https://ichef.bbci.co.uk/images/ic/{recipe}/p0...   \n9819   https://ichef.bbci.co.uk/images/ic/{recipe}/p0...   \n10880  https://ichef.bbci.co.uk/images/ic/{recipe}/p0...   \n10976  https://ichef.bbci.co.uk/images/ic/{recipe}/p0...   \n\n                                                keywords  \\\n1788                           BBC, iPlayer, TV, Ivanhoe   \n1811           BBC, iPlayer, TV, Lara Croft: Tomb Raider   \n1819                            BBC, iPlayer, TV, El Cid   \n1841                  BBC, iPlayer, TV, The Spanish Main   \n1849   BBC, iPlayer, TV, Lara Croft Tomb Raider: The ...   \n1863             BBC, iPlayer, TV, Blackbeard the Pirate   \n9819   BBC, iPlayer, TV, Around the World in 80 Days ...   \n10880               BBC, iPlayer, TV, The Lost City of Z   \n10976  BBC, iPlayer, TV, Pirates of the Caribbean: Sa...   \n\n                                                  syno_s  \\\n1788   Ivanhoe fights for the honour of the kidnapped...   \n1811   The heroine races against time to find a relic...   \n1819   The epic story of the 11th-century Spanish her...   \n1841   Swashbuckling adventure in which a crew of ens...   \n1849   Archaeologist Lara Croft faces a race against ...   \n1863   Swashbuckling adventure set on the high seas i...   \n9819   Phileas Fogg makes a wager that he can circumn...   \n10880  The story of Colonel Percy Fawcett, who led se...   \n10976  Young Henry Turner seeks out Jack Sparrow to h...   \n\n                                                  syno_m  \\\n1788   Swashbuckling spectacular based on the novel b...   \n1811   Action tale adapted from the popular video gam...   \n1819   Epic story of the Spanish hero (Charlton Hesto...   \n1841   Swashbuckling adventure in which a Spanish gov...   \n1849   Globetrotting action sequel in which archaeolo...   \n1863   Swashbuckler set on the high seas in the 17th ...   \n9819   Star-studded adventure yarn following the trav...   \n10880  The true story of Colonel Percy Fawcett, who l...   \n10976  Young Henry Turner promises his father that he...   \n\n                                                  syno_l          category  \\\n1788   Swashbuckling spectacular based on the novel b...  Film - Adventure   \n1811   Action tale adapted from the popular video gam...  Film - Adventure   \n1819   The epic story of the 11th-century Spanish her...  Film - Adventure   \n1841   Early RKO Technicolor swashbuckling adventure....  Film - Adventure   \n1849   Globetrotting action sequel in which intrepid ...  Film - Adventure   \n1863   Swashbuckling adventure set on the high seas i...  Film - Adventure   \n9819   Reform Club member Phileas Fogg makes a wager ...  Film - Adventure   \n10880  The true story of Colonel Percy Fawcett, who l...  Film - Adventure   \n10976  Thirteen years after the events seen during At...  Film - Adventure   \n\n         channel                                          language  \\\n1788     bbc_two                                             False   \n1811   bbc_three                                             False   \n1819     bbc_two                                             False   \n1841     bbc_two                                             False   \n1849   bbc_three                                             False   \n1863     bbc_two                                             False   \n9819    bbc_four                                             False   \n10880    bbc_two  Contains some strong language and some violence.   \n10976    bbc_one                       Contains moderate violence.   \n\n      release_date  duration_sec                   topic  \\\n1788          1952        6136.0                   films   \n1811          2001        5614.0  films, drama-and-soaps   \n1819          1961       10297.0  films, drama-and-soaps   \n1841          1945        5741.0  films, drama-and-soaps   \n1849          2003        6320.0  films, drama-and-soaps   \n1863          1952        5913.0  films, drama-and-soaps   \n9819          1956        9921.0         drama-and-soaps   \n10880         2017        7680.0         drama-and-soaps   \n10976         2017        7096.0         drama-and-soaps   \n\n                                                 image_l  \\\n1788   https://ichef.bbci.co.uk/images/ic/352x198/p0b...   \n1811   https://ichef.bbci.co.uk/images/ic/352x198/p07...   \n1819   https://ichef.bbci.co.uk/images/ic/352x198/p0b...   \n1841   https://ichef.bbci.co.uk/images/ic/352x198/p08...   \n1849   https://ichef.bbci.co.uk/images/ic/352x198/p08...   \n1863   https://ichef.bbci.co.uk/images/ic/352x198/p08...   \n9819   https://ichef.bbci.co.uk/images/ic/352x198/p09...   \n10880  https://ichef.bbci.co.uk/images/ic/352x198/p07...   \n10976  https://ichef.bbci.co.uk/images/ic/352x198/p09...   \n\n                                                image_xl  \n1788   https://ichef.bbci.co.uk/images/ic/1200x675/p0...  \n1811   https://ichef.bbci.co.uk/images/ic/1200x675/p0...  \n1819   https://ichef.bbci.co.uk/images/ic/1200x675/p0...  \n1841   https://ichef.bbci.co.uk/images/ic/1200x675/p0...  \n1849   https://ichef.bbci.co.uk/images/ic/1200x675/p0...  \n1863   https://ichef.bbci.co.uk/images/ic/1200x675/p0...  \n9819   https://ichef.bbci.co.uk/images/ic/1200x675/p0...  \n10880  https://ichef.bbci.co.uk/images/ic/1200x675/p0...  \n10976  https://ichef.bbci.co.uk/images/ic/1200x675/p0...  ",
      "text/html": "<div>\n<style scoped>\n    .dataframe tbody tr th:only-of-type {\n        vertical-align: middle;\n    }\n\n    .dataframe tbody tr th {\n        vertical-align: top;\n    }\n\n    .dataframe thead th {\n        text-align: right;\n    }\n</style>\n<table border=\"1\" class=\"dataframe\">\n  <thead>\n    <tr style=\"text-align: right;\">\n      <th></th>\n      <th>title</th>\n      <th>subtitle</th>\n      <th>description</th>\n      <th>image</th>\n      <th>keywords</th>\n      <th>syno_s</th>\n      <th>syno_m</th>\n      <th>syno_l</th>\n      <th>category</th>\n      <th>channel</th>\n      <th>language</th>\n      <th>release_date</th>\n      <th>duration_sec</th>\n      <th>topic</th>\n      <th>image_l</th>\n      <th>image_xl</th>\n    </tr>\n  </thead>\n  <tbody>\n    <tr>\n      <th>1788</th>\n      <td>Ivanhoe</td>\n      <td>None</td>\n      <td>Ivanhoe fights for the honour of the kidnapped...</td>\n      <td>https://ichef.bbci.co.uk/images/ic/{recipe}/p0...</td>\n      <td>BBC, iPlayer, TV, Ivanhoe</td>\n      <td>Ivanhoe fights for the honour of the kidnapped...</td>\n      <td>Swashbuckling spectacular based on the novel b...</td>\n      <td>Swashbuckling spectacular based on the novel b...</td>\n      <td>Film - Adventure</td>\n      <td>bbc_two</td>\n      <td>False</td>\n      <td>1952</td>\n      <td>6136.0</td>\n      <td>films</td>\n      <td>https://ichef.bbci.co.uk/images/ic/352x198/p0b...</td>\n      <td>https://ichef.bbci.co.uk/images/ic/1200x675/p0...</td>\n    </tr>\n    <tr>\n      <th>1811</th>\n      <td>Lara Croft: Tomb Raider</td>\n      <td>None</td>\n      <td>The heroine races against time to find a relic...</td>\n      <td>https://ichef.bbci.co.uk/images/ic/{recipe}/p0...</td>\n      <td>BBC, iPlayer, TV, Lara Croft: Tomb Raider</td>\n      <td>The heroine races against time to find a relic...</td>\n      <td>Action tale adapted from the popular video gam...</td>\n      <td>Action tale adapted from the popular video gam...</td>\n      <td>Film - Adventure</td>\n      <td>bbc_three</td>\n      <td>False</td>\n      <td>2001</td>\n      <td>5614.0</td>\n      <td>films, drama-and-soaps</td>\n      <td>https://ichef.bbci.co.uk/images/ic/352x198/p07...</td>\n      <td>https://ichef.bbci.co.uk/images/ic/1200x675/p0...</td>\n    </tr>\n    <tr>\n      <th>1819</th>\n      <td>El Cid</td>\n      <td>None</td>\n      <td>The epic story of the 11th-century Spanish her...</td>\n      <td>https://ichef.bbci.co.uk/images/ic/{recipe}/p0...</td>\n      <td>BBC, iPlayer, TV, El Cid</td>\n      <td>The epic story of the 11th-century Spanish her...</td>\n      <td>Epic story of the Spanish hero (Charlton Hesto...</td>\n      <td>The epic story of the 11th-century Spanish her...</td>\n      <td>Film - Adventure</td>\n      <td>bbc_two</td>\n      <td>False</td>\n      <td>1961</td>\n      <td>10297.0</td>\n      <td>films, drama-and-soaps</td>\n      <td>https://ichef.bbci.co.uk/images/ic/352x198/p0b...</td>\n      <td>https://ichef.bbci.co.uk/images/ic/1200x675/p0...</td>\n    </tr>\n    <tr>\n      <th>1841</th>\n      <td>The Spanish Main</td>\n      <td>None</td>\n      <td>Swashbuckling adventure in which a crew of ens...</td>\n      <td>https://ichef.bbci.co.uk/images/ic/{recipe}/p0...</td>\n      <td>BBC, iPlayer, TV, The Spanish Main</td>\n      <td>Swashbuckling adventure in which a crew of ens...</td>\n      <td>Swashbuckling adventure in which a Spanish gov...</td>\n      <td>Early RKO Technicolor swashbuckling adventure....</td>\n      <td>Film - Adventure</td>\n      <td>bbc_two</td>\n      <td>False</td>\n      <td>1945</td>\n      <td>5741.0</td>\n      <td>films, drama-and-soaps</td>\n      <td>https://ichef.bbci.co.uk/images/ic/352x198/p08...</td>\n      <td>https://ichef.bbci.co.uk/images/ic/1200x675/p0...</td>\n    </tr>\n    <tr>\n      <th>1849</th>\n      <td>Lara Croft Tomb Raider: The Cradle of Life</td>\n      <td>None</td>\n      <td>Archaeologist Lara Croft faces a race against ...</td>\n      <td>https://ichef.bbci.co.uk/images/ic/{recipe}/p0...</td>\n      <td>BBC, iPlayer, TV, Lara Croft Tomb Raider: The ...</td>\n      <td>Archaeologist Lara Croft faces a race against ...</td>\n      <td>Globetrotting action sequel in which archaeolo...</td>\n      <td>Globetrotting action sequel in which intrepid ...</td>\n      <td>Film - Adventure</td>\n      <td>bbc_three</td>\n      <td>False</td>\n      <td>2003</td>\n      <td>6320.0</td>\n      <td>films, drama-and-soaps</td>\n      <td>https://ichef.bbci.co.uk/images/ic/352x198/p08...</td>\n      <td>https://ichef.bbci.co.uk/images/ic/1200x675/p0...</td>\n    </tr>\n    <tr>\n      <th>1863</th>\n      <td>Blackbeard the Pirate</td>\n      <td>None</td>\n      <td>Swashbuckling adventure set on the high seas i...</td>\n      <td>https://ichef.bbci.co.uk/images/ic/{recipe}/p0...</td>\n      <td>BBC, iPlayer, TV, Blackbeard the Pirate</td>\n      <td>Swashbuckling adventure set on the high seas i...</td>\n      <td>Swashbuckler set on the high seas in the 17th ...</td>\n      <td>Swashbuckling adventure set on the high seas i...</td>\n      <td>Film - Adventure</td>\n      <td>bbc_two</td>\n      <td>False</td>\n      <td>1952</td>\n      <td>5913.0</td>\n      <td>films, drama-and-soaps</td>\n      <td>https://ichef.bbci.co.uk/images/ic/352x198/p08...</td>\n      <td>https://ichef.bbci.co.uk/images/ic/1200x675/p0...</td>\n    </tr>\n    <tr>\n      <th>9819</th>\n      <td>Around the World in 80 Days (Film)</td>\n      <td>None</td>\n      <td>Phileas Fogg makes a wager that he can circumn...</td>\n      <td>https://ichef.bbci.co.uk/images/ic/{recipe}/p0...</td>\n      <td>BBC, iPlayer, TV, Around the World in 80 Days ...</td>\n      <td>Phileas Fogg makes a wager that he can circumn...</td>\n      <td>Star-studded adventure yarn following the trav...</td>\n      <td>Reform Club member Phileas Fogg makes a wager ...</td>\n      <td>Film - Adventure</td>\n      <td>bbc_four</td>\n      <td>False</td>\n      <td>1956</td>\n      <td>9921.0</td>\n      <td>drama-and-soaps</td>\n      <td>https://ichef.bbci.co.uk/images/ic/352x198/p09...</td>\n      <td>https://ichef.bbci.co.uk/images/ic/1200x675/p0...</td>\n    </tr>\n    <tr>\n      <th>10880</th>\n      <td>The Lost City of Z</td>\n      <td>None</td>\n      <td>The story of Colonel Percy Fawcett, who led se...</td>\n      <td>https://ichef.bbci.co.uk/images/ic/{recipe}/p0...</td>\n      <td>BBC, iPlayer, TV, The Lost City of Z</td>\n      <td>The story of Colonel Percy Fawcett, who led se...</td>\n      <td>The true story of Colonel Percy Fawcett, who l...</td>\n      <td>The true story of Colonel Percy Fawcett, who l...</td>\n      <td>Film - Adventure</td>\n      <td>bbc_two</td>\n      <td>Contains some strong language and some violence.</td>\n      <td>2017</td>\n      <td>7680.0</td>\n      <td>drama-and-soaps</td>\n      <td>https://ichef.bbci.co.uk/images/ic/352x198/p07...</td>\n      <td>https://ichef.bbci.co.uk/images/ic/1200x675/p0...</td>\n    </tr>\n    <tr>\n      <th>10976</th>\n      <td>Pirates of the Caribbean: Salazar's Revenge</td>\n      <td>None</td>\n      <td>Young Henry Turner seeks out Jack Sparrow to h...</td>\n      <td>https://ichef.bbci.co.uk/images/ic/{recipe}/p0...</td>\n      <td>BBC, iPlayer, TV, Pirates of the Caribbean: Sa...</td>\n      <td>Young Henry Turner seeks out Jack Sparrow to h...</td>\n      <td>Young Henry Turner promises his father that he...</td>\n      <td>Thirteen years after the events seen during At...</td>\n      <td>Film - Adventure</td>\n      <td>bbc_one</td>\n      <td>Contains moderate violence.</td>\n      <td>2017</td>\n      <td>7096.0</td>\n      <td>drama-and-soaps</td>\n      <td>https://ichef.bbci.co.uk/images/ic/352x198/p09...</td>\n      <td>https://ichef.bbci.co.uk/images/ic/1200x675/p0...</td>\n    </tr>\n  </tbody>\n</table>\n</div>"
     },
     "execution_count": 232,
     "metadata": {},
     "output_type": "execute_result"
    }
   ],
   "source": [
    "df[df['category'] == 'Film - Adventure']"
   ],
   "metadata": {
    "collapsed": false,
    "pycharm": {
     "name": "#%%\n"
    }
   }
  },
  {
   "cell_type": "code",
   "execution_count": 233,
   "outputs": [],
   "source": [
    "# df.to_csv('temp_bbc.csv', sep=';')"
   ],
   "metadata": {
    "collapsed": false,
    "pycharm": {
     "name": "#%%\n"
    }
   }
  },
  {
   "cell_type": "markdown",
   "source": [
    "## Advanced Dataframe view"
   ],
   "metadata": {
    "collapsed": false
   }
  },
  {
   "cell_type": "markdown",
   "source": [],
   "metadata": {
    "collapsed": false
   }
  },
  {
   "cell_type": "code",
   "execution_count": 234,
   "outputs": [
    {
     "data": {
      "text/plain": "                                    title  \\\n0      The 80s - Music’s Greatest Decade?   \n1                         Top of the Pops   \n2                               BBC Proms   \n3                                    Port   \n4      Sit Down, Stand Up with Greg James   \n...                                   ...   \n36883                     Bob the Builder   \n36886                           Go Buster   \n36891                         Chuggington   \n36893                      Justin's House   \n36897                Oti's Boogie Beebies   \n\n                                    subtitle  \\\n0              Series 1: 1. With Dylan Jones   \n1                                 02/07/1992   \n2      2021: Last Night of the Proms, Part 2   \n3                        Series 5: Episode 4   \n4                                       None   \n...                                      ...   \n36883              Series 8: 7. Ballroom Bob   \n36886           Stories: 5. Buster's Stories   \n36891       Badge Quest: 3. Rainbow Chuggers   \n36893            Series 2: 4. Going for Gold   \n36897              Series 1: 12. Upside Down   \n\n                                             description  \\\n0      Music author Dylan Jones argues that the 1980s...   \n1      With Arrested Development, Altern 8, Def Leppa...   \n2      Australian tenor Stuart Skelton is joined by L...   \n3      Previously unseen music from the series Port, ...   \n4      Tom Holland and Greg James cold call celebrity...   \n...                                                  ...   \n36883  Bob has been making secret early morning trips...   \n36886  Buster the bus has so many stories and adventu...   \n36891  The Chuggers need to solve a number of clues t...   \n36893  Justin's house hosts the Justinship Games, and...   \n36897  In this episode, Oti teaches us how to step an...   \n\n                                                   image  \\\n0      https://ichef.bbci.co.uk/images/ic/{recipe}/p0...   \n1      https://ichef.bbci.co.uk/images/ic/{recipe}/p0...   \n2      https://ichef.bbci.co.uk/images/ic/{recipe}/p0...   \n3      https://ichef.bbci.co.uk/images/ic/{recipe}/p0...   \n4      https://ichef.bbci.co.uk/images/ic/{recipe}/p0...   \n...                                                  ...   \n36883  https://ichef.bbci.co.uk/images/ic/{recipe}/p0...   \n36886  https://ichef.bbci.co.uk/images/ic/{recipe}/p0...   \n36891  https://ichef.bbci.co.uk/images/ic/{recipe}/p0...   \n36893  https://ichef.bbci.co.uk/images/ic/{recipe}/p0...   \n36897  https://ichef.bbci.co.uk/images/ic/{recipe}/p0...   \n\n                                                keywords  \\\n0      BBC, iPlayer, TV, The 80s - Music’s Greatest D...   \n1          BBC, iPlayer, TV, Top of the Pops, 02/07/1992   \n2      BBC, iPlayer, TV, BBC Proms, 2021: Last Night ...   \n3            BBC, iPlayer, TV, Port, Series 5: Episode 4   \n4      BBC, iPlayer, TV, Sit Down, Stand Up with Greg...   \n...                                                  ...   \n36883  BBC, iPlayer, TV, Bob the Builder, Series 8: 7...   \n36886  BBC, iPlayer, TV, Go Buster, Stories: 5. Buste...   \n36891  BBC, iPlayer, TV, Chuggington, Badge Quest: 3....   \n36893  BBC, iPlayer, TV, Justins House, Series 2: 4. ...   \n36897  BBC, iPlayer, TV, Otis Boogie Beebies, Series ...   \n\n                                                  syno_s  \\\n0      Music author Dylan Jones argues that the 1980s...   \n1      With Arrested Development, Altern 8, Def Leppa...   \n2      Australian tenor Stuart Skelton is joined by L...   \n3      Previously unseen music from the series Port, ...   \n4      Tom Holland and Greg James cold call celebrity...   \n...                                                  ...   \n36883  Bob has been making secret early morning trips...   \n36886  Buster the bus has so many stories and adventu...   \n36891  The Chuggers need to solve a number of clues t...   \n36893  Justin's house hosts the Justinship Games, and...   \n36897  In this episode, Oti teaches us how to step an...   \n\n                                                  syno_m  \\\n0      Music writer Dylan Jones puts the case that th...   \n1      Tony Dortie presents the pop chart programme, ...   \n2      Australian tenor Stuart Skelton is joined by L...   \n3      Julie Fowlis a’ lìbhrigeadh ceòl bhon t-sreath...   \n4      Tom Holland and Greg James cold call celebrity...   \n...                                                  ...   \n36883  Bob has been making secret early morning trips...   \n36886  Buster the bus has so many stories and adventu...   \n36891  Koko, Wilson and Brewster learn new skills and...   \n36893  Justin Fletcher entertains children with singi...   \n36897  Series for young children getting them to join...   \n\n                                                  syno_l       category  \\\n0      Eighties music is often dismissed as a joke - ...          Music   \n1      Tony Dortie presents the pop chart programme, ...          Music   \n2      Katie Derham hosts continued live coverage fro...          Music   \n3      Bidh Druthag Bheag Eile a’ tarraing ri chèile ...          Music   \n4      Tom Holland and Greg James cold call celebrity...  Entertainment   \n...                                                  ...            ...   \n36883  Bob has been making secret early morning trips...       CBeebies   \n36886  Buster the bus has so many stories and adventu...       CBeebies   \n36891  Koko, Wilson and Brewster learn new skills and...       CBeebies   \n36893  Justin Fletcher entertains a live audience of ...       CBeebies   \n36897  Series for young children getting them to join...       CBeebies   \n\n               channel language        release_date  duration_sec  \\\n0              bbc_two    False  8:55pm 23 Oct 2021        3534.0   \n1              bbc_one    False      7pm 2 Jul 1992        1759.0   \n2      bbc_radio_three    False     9pm 11 Sep 2021        5247.0   \n3             bbc_alba    False          9 Jul 2020        1037.0   \n4        bbc_radio_one    False         10 Feb 2022         611.0   \n...                ...      ...                 ...           ...   \n36883         cbeebies    False         13 Oct 2003         600.0   \n36886         cbeebies    False         18 Jun 2021        1580.0   \n36891         cbeebies    False         31 Jul 2010         240.0   \n36893         cbeebies    False     11am 2 Sep 2012        1454.0   \n36897         cbeebies    False  8:30am 16 Jun 2020         308.0   \n\n                          topic  \\\n0          music, documentaries   \n1                         music   \n2      music, from-the-archives   \n3                         music   \n4          music, entertainment   \n...                         ...   \n36883                  cbeebees   \n36886                  cbeebees   \n36891                  cbeebees   \n36893                  cbeebees   \n36897                  cbeebees   \n\n                                                 image_l  \\\n0      https://ichef.bbci.co.uk/images/ic/352x198/p09...   \n1      https://ichef.bbci.co.uk/images/ic/352x198/p0b...   \n2      https://ichef.bbci.co.uk/images/ic/352x198/p09...   \n3      https://ichef.bbci.co.uk/images/ic/352x198/p08...   \n4      https://ichef.bbci.co.uk/images/ic/352x198/p0b...   \n...                                                  ...   \n36883  https://ichef.bbci.co.uk/images/ic/352x198/p08...   \n36886  https://ichef.bbci.co.uk/images/ic/352x198/p09...   \n36891  https://ichef.bbci.co.uk/images/ic/352x198/p08...   \n36893  https://ichef.bbci.co.uk/images/ic/352x198/p09...   \n36897  https://ichef.bbci.co.uk/images/ic/352x198/p08...   \n\n                                                image_xl  \n0      https://ichef.bbci.co.uk/images/ic/1200x675/p0...  \n1      https://ichef.bbci.co.uk/images/ic/1200x675/p0...  \n2      https://ichef.bbci.co.uk/images/ic/1200x675/p0...  \n3      https://ichef.bbci.co.uk/images/ic/1200x675/p0...  \n4      https://ichef.bbci.co.uk/images/ic/1200x675/p0...  \n...                                                  ...  \n36883  https://ichef.bbci.co.uk/images/ic/1200x675/p0...  \n36886  https://ichef.bbci.co.uk/images/ic/1200x675/p0...  \n36891  https://ichef.bbci.co.uk/images/ic/1200x675/p0...  \n36893  https://ichef.bbci.co.uk/images/ic/1200x675/p0...  \n36897  https://ichef.bbci.co.uk/images/ic/1200x675/p0...  \n\n[22757 rows x 16 columns]",
      "text/html": "<div>\n<style scoped>\n    .dataframe tbody tr th:only-of-type {\n        vertical-align: middle;\n    }\n\n    .dataframe tbody tr th {\n        vertical-align: top;\n    }\n\n    .dataframe thead th {\n        text-align: right;\n    }\n</style>\n<table border=\"1\" class=\"dataframe\">\n  <thead>\n    <tr style=\"text-align: right;\">\n      <th></th>\n      <th>title</th>\n      <th>subtitle</th>\n      <th>description</th>\n      <th>image</th>\n      <th>keywords</th>\n      <th>syno_s</th>\n      <th>syno_m</th>\n      <th>syno_l</th>\n      <th>category</th>\n      <th>channel</th>\n      <th>language</th>\n      <th>release_date</th>\n      <th>duration_sec</th>\n      <th>topic</th>\n      <th>image_l</th>\n      <th>image_xl</th>\n    </tr>\n  </thead>\n  <tbody>\n    <tr>\n      <th>0</th>\n      <td>The 80s - Music’s Greatest Decade?</td>\n      <td>Series 1: 1. With Dylan Jones</td>\n      <td>Music author Dylan Jones argues that the 1980s...</td>\n      <td>https://ichef.bbci.co.uk/images/ic/{recipe}/p0...</td>\n      <td>BBC, iPlayer, TV, The 80s - Music’s Greatest D...</td>\n      <td>Music author Dylan Jones argues that the 1980s...</td>\n      <td>Music writer Dylan Jones puts the case that th...</td>\n      <td>Eighties music is often dismissed as a joke - ...</td>\n      <td>Music</td>\n      <td>bbc_two</td>\n      <td>False</td>\n      <td>8:55pm 23 Oct 2021</td>\n      <td>3534.0</td>\n      <td>music, documentaries</td>\n      <td>https://ichef.bbci.co.uk/images/ic/352x198/p09...</td>\n      <td>https://ichef.bbci.co.uk/images/ic/1200x675/p0...</td>\n    </tr>\n    <tr>\n      <th>1</th>\n      <td>Top of the Pops</td>\n      <td>02/07/1992</td>\n      <td>With Arrested Development, Altern 8, Def Leppa...</td>\n      <td>https://ichef.bbci.co.uk/images/ic/{recipe}/p0...</td>\n      <td>BBC, iPlayer, TV, Top of the Pops, 02/07/1992</td>\n      <td>With Arrested Development, Altern 8, Def Leppa...</td>\n      <td>Tony Dortie presents the pop chart programme, ...</td>\n      <td>Tony Dortie presents the pop chart programme, ...</td>\n      <td>Music</td>\n      <td>bbc_one</td>\n      <td>False</td>\n      <td>7pm 2 Jul 1992</td>\n      <td>1759.0</td>\n      <td>music</td>\n      <td>https://ichef.bbci.co.uk/images/ic/352x198/p0b...</td>\n      <td>https://ichef.bbci.co.uk/images/ic/1200x675/p0...</td>\n    </tr>\n    <tr>\n      <th>2</th>\n      <td>BBC Proms</td>\n      <td>2021: Last Night of the Proms, Part 2</td>\n      <td>Australian tenor Stuart Skelton is joined by L...</td>\n      <td>https://ichef.bbci.co.uk/images/ic/{recipe}/p0...</td>\n      <td>BBC, iPlayer, TV, BBC Proms, 2021: Last Night ...</td>\n      <td>Australian tenor Stuart Skelton is joined by L...</td>\n      <td>Australian tenor Stuart Skelton is joined by L...</td>\n      <td>Katie Derham hosts continued live coverage fro...</td>\n      <td>Music</td>\n      <td>bbc_radio_three</td>\n      <td>False</td>\n      <td>9pm 11 Sep 2021</td>\n      <td>5247.0</td>\n      <td>music, from-the-archives</td>\n      <td>https://ichef.bbci.co.uk/images/ic/352x198/p09...</td>\n      <td>https://ichef.bbci.co.uk/images/ic/1200x675/p0...</td>\n    </tr>\n    <tr>\n      <th>3</th>\n      <td>Port</td>\n      <td>Series 5: Episode 4</td>\n      <td>Previously unseen music from the series Port, ...</td>\n      <td>https://ichef.bbci.co.uk/images/ic/{recipe}/p0...</td>\n      <td>BBC, iPlayer, TV, Port, Series 5: Episode 4</td>\n      <td>Previously unseen music from the series Port, ...</td>\n      <td>Julie Fowlis a’ lìbhrigeadh ceòl bhon t-sreath...</td>\n      <td>Bidh Druthag Bheag Eile a’ tarraing ri chèile ...</td>\n      <td>Music</td>\n      <td>bbc_alba</td>\n      <td>False</td>\n      <td>9 Jul 2020</td>\n      <td>1037.0</td>\n      <td>music</td>\n      <td>https://ichef.bbci.co.uk/images/ic/352x198/p08...</td>\n      <td>https://ichef.bbci.co.uk/images/ic/1200x675/p0...</td>\n    </tr>\n    <tr>\n      <th>4</th>\n      <td>Sit Down, Stand Up with Greg James</td>\n      <td>None</td>\n      <td>Tom Holland and Greg James cold call celebrity...</td>\n      <td>https://ichef.bbci.co.uk/images/ic/{recipe}/p0...</td>\n      <td>BBC, iPlayer, TV, Sit Down, Stand Up with Greg...</td>\n      <td>Tom Holland and Greg James cold call celebrity...</td>\n      <td>Tom Holland and Greg James cold call celebrity...</td>\n      <td>Tom Holland and Greg James cold call celebrity...</td>\n      <td>Entertainment</td>\n      <td>bbc_radio_one</td>\n      <td>False</td>\n      <td>10 Feb 2022</td>\n      <td>611.0</td>\n      <td>music, entertainment</td>\n      <td>https://ichef.bbci.co.uk/images/ic/352x198/p0b...</td>\n      <td>https://ichef.bbci.co.uk/images/ic/1200x675/p0...</td>\n    </tr>\n    <tr>\n      <th>...</th>\n      <td>...</td>\n      <td>...</td>\n      <td>...</td>\n      <td>...</td>\n      <td>...</td>\n      <td>...</td>\n      <td>...</td>\n      <td>...</td>\n      <td>...</td>\n      <td>...</td>\n      <td>...</td>\n      <td>...</td>\n      <td>...</td>\n      <td>...</td>\n      <td>...</td>\n      <td>...</td>\n    </tr>\n    <tr>\n      <th>36883</th>\n      <td>Bob the Builder</td>\n      <td>Series 8: 7. Ballroom Bob</td>\n      <td>Bob has been making secret early morning trips...</td>\n      <td>https://ichef.bbci.co.uk/images/ic/{recipe}/p0...</td>\n      <td>BBC, iPlayer, TV, Bob the Builder, Series 8: 7...</td>\n      <td>Bob has been making secret early morning trips...</td>\n      <td>Bob has been making secret early morning trips...</td>\n      <td>Bob has been making secret early morning trips...</td>\n      <td>CBeebies</td>\n      <td>cbeebies</td>\n      <td>False</td>\n      <td>13 Oct 2003</td>\n      <td>600.0</td>\n      <td>cbeebees</td>\n      <td>https://ichef.bbci.co.uk/images/ic/352x198/p08...</td>\n      <td>https://ichef.bbci.co.uk/images/ic/1200x675/p0...</td>\n    </tr>\n    <tr>\n      <th>36886</th>\n      <td>Go Buster</td>\n      <td>Stories: 5. Buster's Stories</td>\n      <td>Buster the bus has so many stories and adventu...</td>\n      <td>https://ichef.bbci.co.uk/images/ic/{recipe}/p0...</td>\n      <td>BBC, iPlayer, TV, Go Buster, Stories: 5. Buste...</td>\n      <td>Buster the bus has so many stories and adventu...</td>\n      <td>Buster the bus has so many stories and adventu...</td>\n      <td>Buster the bus has so many stories and adventu...</td>\n      <td>CBeebies</td>\n      <td>cbeebies</td>\n      <td>False</td>\n      <td>18 Jun 2021</td>\n      <td>1580.0</td>\n      <td>cbeebees</td>\n      <td>https://ichef.bbci.co.uk/images/ic/352x198/p09...</td>\n      <td>https://ichef.bbci.co.uk/images/ic/1200x675/p0...</td>\n    </tr>\n    <tr>\n      <th>36891</th>\n      <td>Chuggington</td>\n      <td>Badge Quest: 3. Rainbow Chuggers</td>\n      <td>The Chuggers need to solve a number of clues t...</td>\n      <td>https://ichef.bbci.co.uk/images/ic/{recipe}/p0...</td>\n      <td>BBC, iPlayer, TV, Chuggington, Badge Quest: 3....</td>\n      <td>The Chuggers need to solve a number of clues t...</td>\n      <td>Koko, Wilson and Brewster learn new skills and...</td>\n      <td>Koko, Wilson and Brewster learn new skills and...</td>\n      <td>CBeebies</td>\n      <td>cbeebies</td>\n      <td>False</td>\n      <td>31 Jul 2010</td>\n      <td>240.0</td>\n      <td>cbeebees</td>\n      <td>https://ichef.bbci.co.uk/images/ic/352x198/p08...</td>\n      <td>https://ichef.bbci.co.uk/images/ic/1200x675/p0...</td>\n    </tr>\n    <tr>\n      <th>36893</th>\n      <td>Justin's House</td>\n      <td>Series 2: 4. Going for Gold</td>\n      <td>Justin's house hosts the Justinship Games, and...</td>\n      <td>https://ichef.bbci.co.uk/images/ic/{recipe}/p0...</td>\n      <td>BBC, iPlayer, TV, Justins House, Series 2: 4. ...</td>\n      <td>Justin's house hosts the Justinship Games, and...</td>\n      <td>Justin Fletcher entertains children with singi...</td>\n      <td>Justin Fletcher entertains a live audience of ...</td>\n      <td>CBeebies</td>\n      <td>cbeebies</td>\n      <td>False</td>\n      <td>11am 2 Sep 2012</td>\n      <td>1454.0</td>\n      <td>cbeebees</td>\n      <td>https://ichef.bbci.co.uk/images/ic/352x198/p09...</td>\n      <td>https://ichef.bbci.co.uk/images/ic/1200x675/p0...</td>\n    </tr>\n    <tr>\n      <th>36897</th>\n      <td>Oti's Boogie Beebies</td>\n      <td>Series 1: 12. Upside Down</td>\n      <td>In this episode, Oti teaches us how to step an...</td>\n      <td>https://ichef.bbci.co.uk/images/ic/{recipe}/p0...</td>\n      <td>BBC, iPlayer, TV, Otis Boogie Beebies, Series ...</td>\n      <td>In this episode, Oti teaches us how to step an...</td>\n      <td>Series for young children getting them to join...</td>\n      <td>Series for young children getting them to join...</td>\n      <td>CBeebies</td>\n      <td>cbeebies</td>\n      <td>False</td>\n      <td>8:30am 16 Jun 2020</td>\n      <td>308.0</td>\n      <td>cbeebees</td>\n      <td>https://ichef.bbci.co.uk/images/ic/352x198/p08...</td>\n      <td>https://ichef.bbci.co.uk/images/ic/1200x675/p0...</td>\n    </tr>\n  </tbody>\n</table>\n<p>22757 rows × 16 columns</p>\n</div>"
     },
     "execution_count": 234,
     "metadata": {},
     "output_type": "execute_result"
    }
   ],
   "source": [
    "df"
   ],
   "metadata": {
    "collapsed": false,
    "pycharm": {
     "name": "#%%\n"
    }
   }
  },
  {
   "cell_type": "code",
   "execution_count": 235,
   "outputs": [],
   "source": [
    "def reformat_date(val, date_month_year=True):\n",
    "    val = str(val)\n",
    "    if date_month_year:\n",
    "        if len(val) == 10:\n",
    "            date_str = val[:10]\n",
    "        else:\n",
    "            date_str = val[len(val)-11: len(val)]\n",
    "    else:\n",
    "        length = len(val)\n",
    "        return val[length-4:length]\n",
    "    date_time_obj = datetime.strptime(date_str, '%d %b %Y')\n",
    "    return date_time_obj"
   ],
   "metadata": {
    "collapsed": false,
    "pycharm": {
     "name": "#%%\n"
    }
   }
  },
  {
   "cell_type": "code",
   "execution_count": 237,
   "outputs": [],
   "source": [
    "df.loc[:, 'release_date'] = df['release_date'].apply(lambda x: reformat_date(x, False))"
   ],
   "metadata": {
    "collapsed": false,
    "pycharm": {
     "name": "#%%\n"
    }
   }
  },
  {
   "cell_type": "code",
   "execution_count": 238,
   "outputs": [
    {
     "data": {
      "text/plain": "                                    title  \\\n0      The 80s - Music’s Greatest Decade?   \n1                         Top of the Pops   \n2                               BBC Proms   \n3                                    Port   \n4      Sit Down, Stand Up with Greg James   \n...                                   ...   \n36883                     Bob the Builder   \n36886                           Go Buster   \n36891                         Chuggington   \n36893                      Justin's House   \n36897                Oti's Boogie Beebies   \n\n                                    subtitle  \\\n0              Series 1: 1. With Dylan Jones   \n1                                 02/07/1992   \n2      2021: Last Night of the Proms, Part 2   \n3                        Series 5: Episode 4   \n4                                       None   \n...                                      ...   \n36883              Series 8: 7. Ballroom Bob   \n36886           Stories: 5. Buster's Stories   \n36891       Badge Quest: 3. Rainbow Chuggers   \n36893            Series 2: 4. Going for Gold   \n36897              Series 1: 12. Upside Down   \n\n                                             description  \\\n0      Music author Dylan Jones argues that the 1980s...   \n1      With Arrested Development, Altern 8, Def Leppa...   \n2      Australian tenor Stuart Skelton is joined by L...   \n3      Previously unseen music from the series Port, ...   \n4      Tom Holland and Greg James cold call celebrity...   \n...                                                  ...   \n36883  Bob has been making secret early morning trips...   \n36886  Buster the bus has so many stories and adventu...   \n36891  The Chuggers need to solve a number of clues t...   \n36893  Justin's house hosts the Justinship Games, and...   \n36897  In this episode, Oti teaches us how to step an...   \n\n                                                   image  \\\n0      https://ichef.bbci.co.uk/images/ic/{recipe}/p0...   \n1      https://ichef.bbci.co.uk/images/ic/{recipe}/p0...   \n2      https://ichef.bbci.co.uk/images/ic/{recipe}/p0...   \n3      https://ichef.bbci.co.uk/images/ic/{recipe}/p0...   \n4      https://ichef.bbci.co.uk/images/ic/{recipe}/p0...   \n...                                                  ...   \n36883  https://ichef.bbci.co.uk/images/ic/{recipe}/p0...   \n36886  https://ichef.bbci.co.uk/images/ic/{recipe}/p0...   \n36891  https://ichef.bbci.co.uk/images/ic/{recipe}/p0...   \n36893  https://ichef.bbci.co.uk/images/ic/{recipe}/p0...   \n36897  https://ichef.bbci.co.uk/images/ic/{recipe}/p0...   \n\n                                                keywords  \\\n0      BBC, iPlayer, TV, The 80s - Music’s Greatest D...   \n1          BBC, iPlayer, TV, Top of the Pops, 02/07/1992   \n2      BBC, iPlayer, TV, BBC Proms, 2021: Last Night ...   \n3            BBC, iPlayer, TV, Port, Series 5: Episode 4   \n4      BBC, iPlayer, TV, Sit Down, Stand Up with Greg...   \n...                                                  ...   \n36883  BBC, iPlayer, TV, Bob the Builder, Series 8: 7...   \n36886  BBC, iPlayer, TV, Go Buster, Stories: 5. Buste...   \n36891  BBC, iPlayer, TV, Chuggington, Badge Quest: 3....   \n36893  BBC, iPlayer, TV, Justins House, Series 2: 4. ...   \n36897  BBC, iPlayer, TV, Otis Boogie Beebies, Series ...   \n\n                                                  syno_s  \\\n0      Music author Dylan Jones argues that the 1980s...   \n1      With Arrested Development, Altern 8, Def Leppa...   \n2      Australian tenor Stuart Skelton is joined by L...   \n3      Previously unseen music from the series Port, ...   \n4      Tom Holland and Greg James cold call celebrity...   \n...                                                  ...   \n36883  Bob has been making secret early morning trips...   \n36886  Buster the bus has so many stories and adventu...   \n36891  The Chuggers need to solve a number of clues t...   \n36893  Justin's house hosts the Justinship Games, and...   \n36897  In this episode, Oti teaches us how to step an...   \n\n                                                  syno_m  \\\n0      Music writer Dylan Jones puts the case that th...   \n1      Tony Dortie presents the pop chart programme, ...   \n2      Australian tenor Stuart Skelton is joined by L...   \n3      Julie Fowlis a’ lìbhrigeadh ceòl bhon t-sreath...   \n4      Tom Holland and Greg James cold call celebrity...   \n...                                                  ...   \n36883  Bob has been making secret early morning trips...   \n36886  Buster the bus has so many stories and adventu...   \n36891  Koko, Wilson and Brewster learn new skills and...   \n36893  Justin Fletcher entertains children with singi...   \n36897  Series for young children getting them to join...   \n\n                                                  syno_l       category  \\\n0      Eighties music is often dismissed as a joke - ...          Music   \n1      Tony Dortie presents the pop chart programme, ...          Music   \n2      Katie Derham hosts continued live coverage fro...          Music   \n3      Bidh Druthag Bheag Eile a’ tarraing ri chèile ...          Music   \n4      Tom Holland and Greg James cold call celebrity...  Entertainment   \n...                                                  ...            ...   \n36883  Bob has been making secret early morning trips...       CBeebies   \n36886  Buster the bus has so many stories and adventu...       CBeebies   \n36891  Koko, Wilson and Brewster learn new skills and...       CBeebies   \n36893  Justin Fletcher entertains a live audience of ...       CBeebies   \n36897  Series for young children getting them to join...       CBeebies   \n\n               channel language release_date  duration_sec  \\\n0              bbc_two    False         2021        3534.0   \n1              bbc_one    False         1992        1759.0   \n2      bbc_radio_three    False         2021        5247.0   \n3             bbc_alba    False         2020        1037.0   \n4        bbc_radio_one    False         2022         611.0   \n...                ...      ...          ...           ...   \n36883         cbeebies    False         2003         600.0   \n36886         cbeebies    False         2021        1580.0   \n36891         cbeebies    False         2010         240.0   \n36893         cbeebies    False         2012        1454.0   \n36897         cbeebies    False         2020         308.0   \n\n                          topic  \\\n0          music, documentaries   \n1                         music   \n2      music, from-the-archives   \n3                         music   \n4          music, entertainment   \n...                         ...   \n36883                  cbeebees   \n36886                  cbeebees   \n36891                  cbeebees   \n36893                  cbeebees   \n36897                  cbeebees   \n\n                                                 image_l  \\\n0      https://ichef.bbci.co.uk/images/ic/352x198/p09...   \n1      https://ichef.bbci.co.uk/images/ic/352x198/p0b...   \n2      https://ichef.bbci.co.uk/images/ic/352x198/p09...   \n3      https://ichef.bbci.co.uk/images/ic/352x198/p08...   \n4      https://ichef.bbci.co.uk/images/ic/352x198/p0b...   \n...                                                  ...   \n36883  https://ichef.bbci.co.uk/images/ic/352x198/p08...   \n36886  https://ichef.bbci.co.uk/images/ic/352x198/p09...   \n36891  https://ichef.bbci.co.uk/images/ic/352x198/p08...   \n36893  https://ichef.bbci.co.uk/images/ic/352x198/p09...   \n36897  https://ichef.bbci.co.uk/images/ic/352x198/p08...   \n\n                                                image_xl  \n0      https://ichef.bbci.co.uk/images/ic/1200x675/p0...  \n1      https://ichef.bbci.co.uk/images/ic/1200x675/p0...  \n2      https://ichef.bbci.co.uk/images/ic/1200x675/p0...  \n3      https://ichef.bbci.co.uk/images/ic/1200x675/p0...  \n4      https://ichef.bbci.co.uk/images/ic/1200x675/p0...  \n...                                                  ...  \n36883  https://ichef.bbci.co.uk/images/ic/1200x675/p0...  \n36886  https://ichef.bbci.co.uk/images/ic/1200x675/p0...  \n36891  https://ichef.bbci.co.uk/images/ic/1200x675/p0...  \n36893  https://ichef.bbci.co.uk/images/ic/1200x675/p0...  \n36897  https://ichef.bbci.co.uk/images/ic/1200x675/p0...  \n\n[22757 rows x 16 columns]",
      "text/html": "<div>\n<style scoped>\n    .dataframe tbody tr th:only-of-type {\n        vertical-align: middle;\n    }\n\n    .dataframe tbody tr th {\n        vertical-align: top;\n    }\n\n    .dataframe thead th {\n        text-align: right;\n    }\n</style>\n<table border=\"1\" class=\"dataframe\">\n  <thead>\n    <tr style=\"text-align: right;\">\n      <th></th>\n      <th>title</th>\n      <th>subtitle</th>\n      <th>description</th>\n      <th>image</th>\n      <th>keywords</th>\n      <th>syno_s</th>\n      <th>syno_m</th>\n      <th>syno_l</th>\n      <th>category</th>\n      <th>channel</th>\n      <th>language</th>\n      <th>release_date</th>\n      <th>duration_sec</th>\n      <th>topic</th>\n      <th>image_l</th>\n      <th>image_xl</th>\n    </tr>\n  </thead>\n  <tbody>\n    <tr>\n      <th>0</th>\n      <td>The 80s - Music’s Greatest Decade?</td>\n      <td>Series 1: 1. With Dylan Jones</td>\n      <td>Music author Dylan Jones argues that the 1980s...</td>\n      <td>https://ichef.bbci.co.uk/images/ic/{recipe}/p0...</td>\n      <td>BBC, iPlayer, TV, The 80s - Music’s Greatest D...</td>\n      <td>Music author Dylan Jones argues that the 1980s...</td>\n      <td>Music writer Dylan Jones puts the case that th...</td>\n      <td>Eighties music is often dismissed as a joke - ...</td>\n      <td>Music</td>\n      <td>bbc_two</td>\n      <td>False</td>\n      <td>2021</td>\n      <td>3534.0</td>\n      <td>music, documentaries</td>\n      <td>https://ichef.bbci.co.uk/images/ic/352x198/p09...</td>\n      <td>https://ichef.bbci.co.uk/images/ic/1200x675/p0...</td>\n    </tr>\n    <tr>\n      <th>1</th>\n      <td>Top of the Pops</td>\n      <td>02/07/1992</td>\n      <td>With Arrested Development, Altern 8, Def Leppa...</td>\n      <td>https://ichef.bbci.co.uk/images/ic/{recipe}/p0...</td>\n      <td>BBC, iPlayer, TV, Top of the Pops, 02/07/1992</td>\n      <td>With Arrested Development, Altern 8, Def Leppa...</td>\n      <td>Tony Dortie presents the pop chart programme, ...</td>\n      <td>Tony Dortie presents the pop chart programme, ...</td>\n      <td>Music</td>\n      <td>bbc_one</td>\n      <td>False</td>\n      <td>1992</td>\n      <td>1759.0</td>\n      <td>music</td>\n      <td>https://ichef.bbci.co.uk/images/ic/352x198/p0b...</td>\n      <td>https://ichef.bbci.co.uk/images/ic/1200x675/p0...</td>\n    </tr>\n    <tr>\n      <th>2</th>\n      <td>BBC Proms</td>\n      <td>2021: Last Night of the Proms, Part 2</td>\n      <td>Australian tenor Stuart Skelton is joined by L...</td>\n      <td>https://ichef.bbci.co.uk/images/ic/{recipe}/p0...</td>\n      <td>BBC, iPlayer, TV, BBC Proms, 2021: Last Night ...</td>\n      <td>Australian tenor Stuart Skelton is joined by L...</td>\n      <td>Australian tenor Stuart Skelton is joined by L...</td>\n      <td>Katie Derham hosts continued live coverage fro...</td>\n      <td>Music</td>\n      <td>bbc_radio_three</td>\n      <td>False</td>\n      <td>2021</td>\n      <td>5247.0</td>\n      <td>music, from-the-archives</td>\n      <td>https://ichef.bbci.co.uk/images/ic/352x198/p09...</td>\n      <td>https://ichef.bbci.co.uk/images/ic/1200x675/p0...</td>\n    </tr>\n    <tr>\n      <th>3</th>\n      <td>Port</td>\n      <td>Series 5: Episode 4</td>\n      <td>Previously unseen music from the series Port, ...</td>\n      <td>https://ichef.bbci.co.uk/images/ic/{recipe}/p0...</td>\n      <td>BBC, iPlayer, TV, Port, Series 5: Episode 4</td>\n      <td>Previously unseen music from the series Port, ...</td>\n      <td>Julie Fowlis a’ lìbhrigeadh ceòl bhon t-sreath...</td>\n      <td>Bidh Druthag Bheag Eile a’ tarraing ri chèile ...</td>\n      <td>Music</td>\n      <td>bbc_alba</td>\n      <td>False</td>\n      <td>2020</td>\n      <td>1037.0</td>\n      <td>music</td>\n      <td>https://ichef.bbci.co.uk/images/ic/352x198/p08...</td>\n      <td>https://ichef.bbci.co.uk/images/ic/1200x675/p0...</td>\n    </tr>\n    <tr>\n      <th>4</th>\n      <td>Sit Down, Stand Up with Greg James</td>\n      <td>None</td>\n      <td>Tom Holland and Greg James cold call celebrity...</td>\n      <td>https://ichef.bbci.co.uk/images/ic/{recipe}/p0...</td>\n      <td>BBC, iPlayer, TV, Sit Down, Stand Up with Greg...</td>\n      <td>Tom Holland and Greg James cold call celebrity...</td>\n      <td>Tom Holland and Greg James cold call celebrity...</td>\n      <td>Tom Holland and Greg James cold call celebrity...</td>\n      <td>Entertainment</td>\n      <td>bbc_radio_one</td>\n      <td>False</td>\n      <td>2022</td>\n      <td>611.0</td>\n      <td>music, entertainment</td>\n      <td>https://ichef.bbci.co.uk/images/ic/352x198/p0b...</td>\n      <td>https://ichef.bbci.co.uk/images/ic/1200x675/p0...</td>\n    </tr>\n    <tr>\n      <th>...</th>\n      <td>...</td>\n      <td>...</td>\n      <td>...</td>\n      <td>...</td>\n      <td>...</td>\n      <td>...</td>\n      <td>...</td>\n      <td>...</td>\n      <td>...</td>\n      <td>...</td>\n      <td>...</td>\n      <td>...</td>\n      <td>...</td>\n      <td>...</td>\n      <td>...</td>\n      <td>...</td>\n    </tr>\n    <tr>\n      <th>36883</th>\n      <td>Bob the Builder</td>\n      <td>Series 8: 7. Ballroom Bob</td>\n      <td>Bob has been making secret early morning trips...</td>\n      <td>https://ichef.bbci.co.uk/images/ic/{recipe}/p0...</td>\n      <td>BBC, iPlayer, TV, Bob the Builder, Series 8: 7...</td>\n      <td>Bob has been making secret early morning trips...</td>\n      <td>Bob has been making secret early morning trips...</td>\n      <td>Bob has been making secret early morning trips...</td>\n      <td>CBeebies</td>\n      <td>cbeebies</td>\n      <td>False</td>\n      <td>2003</td>\n      <td>600.0</td>\n      <td>cbeebees</td>\n      <td>https://ichef.bbci.co.uk/images/ic/352x198/p08...</td>\n      <td>https://ichef.bbci.co.uk/images/ic/1200x675/p0...</td>\n    </tr>\n    <tr>\n      <th>36886</th>\n      <td>Go Buster</td>\n      <td>Stories: 5. Buster's Stories</td>\n      <td>Buster the bus has so many stories and adventu...</td>\n      <td>https://ichef.bbci.co.uk/images/ic/{recipe}/p0...</td>\n      <td>BBC, iPlayer, TV, Go Buster, Stories: 5. Buste...</td>\n      <td>Buster the bus has so many stories and adventu...</td>\n      <td>Buster the bus has so many stories and adventu...</td>\n      <td>Buster the bus has so many stories and adventu...</td>\n      <td>CBeebies</td>\n      <td>cbeebies</td>\n      <td>False</td>\n      <td>2021</td>\n      <td>1580.0</td>\n      <td>cbeebees</td>\n      <td>https://ichef.bbci.co.uk/images/ic/352x198/p09...</td>\n      <td>https://ichef.bbci.co.uk/images/ic/1200x675/p0...</td>\n    </tr>\n    <tr>\n      <th>36891</th>\n      <td>Chuggington</td>\n      <td>Badge Quest: 3. Rainbow Chuggers</td>\n      <td>The Chuggers need to solve a number of clues t...</td>\n      <td>https://ichef.bbci.co.uk/images/ic/{recipe}/p0...</td>\n      <td>BBC, iPlayer, TV, Chuggington, Badge Quest: 3....</td>\n      <td>The Chuggers need to solve a number of clues t...</td>\n      <td>Koko, Wilson and Brewster learn new skills and...</td>\n      <td>Koko, Wilson and Brewster learn new skills and...</td>\n      <td>CBeebies</td>\n      <td>cbeebies</td>\n      <td>False</td>\n      <td>2010</td>\n      <td>240.0</td>\n      <td>cbeebees</td>\n      <td>https://ichef.bbci.co.uk/images/ic/352x198/p08...</td>\n      <td>https://ichef.bbci.co.uk/images/ic/1200x675/p0...</td>\n    </tr>\n    <tr>\n      <th>36893</th>\n      <td>Justin's House</td>\n      <td>Series 2: 4. Going for Gold</td>\n      <td>Justin's house hosts the Justinship Games, and...</td>\n      <td>https://ichef.bbci.co.uk/images/ic/{recipe}/p0...</td>\n      <td>BBC, iPlayer, TV, Justins House, Series 2: 4. ...</td>\n      <td>Justin's house hosts the Justinship Games, and...</td>\n      <td>Justin Fletcher entertains children with singi...</td>\n      <td>Justin Fletcher entertains a live audience of ...</td>\n      <td>CBeebies</td>\n      <td>cbeebies</td>\n      <td>False</td>\n      <td>2012</td>\n      <td>1454.0</td>\n      <td>cbeebees</td>\n      <td>https://ichef.bbci.co.uk/images/ic/352x198/p09...</td>\n      <td>https://ichef.bbci.co.uk/images/ic/1200x675/p0...</td>\n    </tr>\n    <tr>\n      <th>36897</th>\n      <td>Oti's Boogie Beebies</td>\n      <td>Series 1: 12. Upside Down</td>\n      <td>In this episode, Oti teaches us how to step an...</td>\n      <td>https://ichef.bbci.co.uk/images/ic/{recipe}/p0...</td>\n      <td>BBC, iPlayer, TV, Otis Boogie Beebies, Series ...</td>\n      <td>In this episode, Oti teaches us how to step an...</td>\n      <td>Series for young children getting them to join...</td>\n      <td>Series for young children getting them to join...</td>\n      <td>CBeebies</td>\n      <td>cbeebies</td>\n      <td>False</td>\n      <td>2020</td>\n      <td>308.0</td>\n      <td>cbeebees</td>\n      <td>https://ichef.bbci.co.uk/images/ic/352x198/p08...</td>\n      <td>https://ichef.bbci.co.uk/images/ic/1200x675/p0...</td>\n    </tr>\n  </tbody>\n</table>\n<p>22757 rows × 16 columns</p>\n</div>"
     },
     "execution_count": 238,
     "metadata": {},
     "output_type": "execute_result"
    }
   ],
   "source": [
    "df"
   ],
   "metadata": {
    "collapsed": false,
    "pycharm": {
     "name": "#%%\n"
    }
   }
  },
  {
   "cell_type": "code",
   "execution_count": 239,
   "outputs": [],
   "source": [
    "df.loc[:, 'duration_sec'] = df['duration_sec'].apply(lambda x: int(round(x/60, 0)))"
   ],
   "metadata": {
    "collapsed": false,
    "pycharm": {
     "name": "#%%\n"
    }
   }
  },
  {
   "cell_type": "code",
   "execution_count": 240,
   "outputs": [],
   "source": [
    "df.loc[:, 'channel'] = df['channel'].apply(lambda x: x.upper())\n",
    "df.loc[:, 'channel'] = df['channel'].apply(lambda x: x.replace('_', ' '))"
   ],
   "metadata": {
    "collapsed": false,
    "pycharm": {
     "name": "#%%\n"
    }
   }
  },
  {
   "cell_type": "code",
   "execution_count": null,
   "outputs": [],
   "source": [
    "df.columns = ['title', 'subtitle', 'description', 'image', 'keywords', 'syno_s',\n",
    "       'syno_m', 'syno_l', 'category', 'channel', 'language', 'release_date',\n",
    "       'duration_min', 'topic', 'image_l', 'image_xl']"
   ],
   "metadata": {
    "collapsed": false,
    "pycharm": {
     "name": "#%%\n"
    }
   }
  },
  {
   "cell_type": "markdown",
   "source": [
    "## Episode and Series"
   ],
   "metadata": {
    "collapsed": false
   }
  },
  {
   "cell_type": "code",
   "execution_count": 268,
   "outputs": [
    {
     "data": {
      "text/plain": "                                    title  \\\n0      The 80s - Music’s Greatest Decade?   \n1                         Top of the Pops   \n2                               BBC Proms   \n3                                    Port   \n4      Sit Down, Stand Up with Greg James   \n...                                   ...   \n36883                     Bob the Builder   \n36886                           Go Buster   \n36891                         Chuggington   \n36893                      Justin's House   \n36897                Oti's Boogie Beebies   \n\n                                    subtitle  \\\n0              Series 1: 1. With Dylan Jones   \n1                                 02/07/1992   \n2      2021: Last Night of the Proms, Part 2   \n3                        Series 5: Episode 4   \n4                                       None   \n...                                      ...   \n36883              Series 8: 7. Ballroom Bob   \n36886           Stories: 5. Buster's Stories   \n36891       Badge Quest: 3. Rainbow Chuggers   \n36893            Series 2: 4. Going for Gold   \n36897              Series 1: 12. Upside Down   \n\n                                             description  \\\n0      Music author Dylan Jones argues that the 1980s...   \n1      With Arrested Development, Altern 8, Def Leppa...   \n2      Australian tenor Stuart Skelton is joined by L...   \n3      Previously unseen music from the series Port, ...   \n4      Tom Holland and Greg James cold call celebrity...   \n...                                                  ...   \n36883  Bob has been making secret early morning trips...   \n36886  Buster the bus has so many stories and adventu...   \n36891  The Chuggers need to solve a number of clues t...   \n36893  Justin's house hosts the Justinship Games, and...   \n36897  In this episode, Oti teaches us how to step an...   \n\n                                                   image  \\\n0      https://ichef.bbci.co.uk/images/ic/{recipe}/p0...   \n1      https://ichef.bbci.co.uk/images/ic/{recipe}/p0...   \n2      https://ichef.bbci.co.uk/images/ic/{recipe}/p0...   \n3      https://ichef.bbci.co.uk/images/ic/{recipe}/p0...   \n4      https://ichef.bbci.co.uk/images/ic/{recipe}/p0...   \n...                                                  ...   \n36883  https://ichef.bbci.co.uk/images/ic/{recipe}/p0...   \n36886  https://ichef.bbci.co.uk/images/ic/{recipe}/p0...   \n36891  https://ichef.bbci.co.uk/images/ic/{recipe}/p0...   \n36893  https://ichef.bbci.co.uk/images/ic/{recipe}/p0...   \n36897  https://ichef.bbci.co.uk/images/ic/{recipe}/p0...   \n\n                                                keywords  \\\n0      BBC, iPlayer, TV, The 80s - Music’s Greatest D...   \n1          BBC, iPlayer, TV, Top of the Pops, 02/07/1992   \n2      BBC, iPlayer, TV, BBC Proms, 2021: Last Night ...   \n3            BBC, iPlayer, TV, Port, Series 5: Episode 4   \n4      BBC, iPlayer, TV, Sit Down, Stand Up with Greg...   \n...                                                  ...   \n36883  BBC, iPlayer, TV, Bob the Builder, Series 8: 7...   \n36886  BBC, iPlayer, TV, Go Buster, Stories: 5. Buste...   \n36891  BBC, iPlayer, TV, Chuggington, Badge Quest: 3....   \n36893  BBC, iPlayer, TV, Justins House, Series 2: 4. ...   \n36897  BBC, iPlayer, TV, Otis Boogie Beebies, Series ...   \n\n                                                  syno_s  \\\n0      Music author Dylan Jones argues that the 1980s...   \n1      With Arrested Development, Altern 8, Def Leppa...   \n2      Australian tenor Stuart Skelton is joined by L...   \n3      Previously unseen music from the series Port, ...   \n4      Tom Holland and Greg James cold call celebrity...   \n...                                                  ...   \n36883  Bob has been making secret early morning trips...   \n36886  Buster the bus has so many stories and adventu...   \n36891  The Chuggers need to solve a number of clues t...   \n36893  Justin's house hosts the Justinship Games, and...   \n36897  In this episode, Oti teaches us how to step an...   \n\n                                                  syno_m  \\\n0      Music writer Dylan Jones puts the case that th...   \n1      Tony Dortie presents the pop chart programme, ...   \n2      Australian tenor Stuart Skelton is joined by L...   \n3      Julie Fowlis a’ lìbhrigeadh ceòl bhon t-sreath...   \n4      Tom Holland and Greg James cold call celebrity...   \n...                                                  ...   \n36883  Bob has been making secret early morning trips...   \n36886  Buster the bus has so many stories and adventu...   \n36891  Koko, Wilson and Brewster learn new skills and...   \n36893  Justin Fletcher entertains children with singi...   \n36897  Series for young children getting them to join...   \n\n                                                  syno_l       category  \\\n0      Eighties music is often dismissed as a joke - ...          Music   \n1      Tony Dortie presents the pop chart programme, ...          Music   \n2      Katie Derham hosts continued live coverage fro...          Music   \n3      Bidh Druthag Bheag Eile a’ tarraing ri chèile ...          Music   \n4      Tom Holland and Greg James cold call celebrity...  Entertainment   \n...                                                  ...            ...   \n36883  Bob has been making secret early morning trips...       CBeebies   \n36886  Buster the bus has so many stories and adventu...       CBeebies   \n36891  Koko, Wilson and Brewster learn new skills and...       CBeebies   \n36893  Justin Fletcher entertains a live audience of ...       CBeebies   \n36897  Series for young children getting them to join...       CBeebies   \n\n               channel language  release_date  duration_min  \\\n0              BBC TWO    False          2021            59   \n1              BBC ONE    False          1992            29   \n2      BBC RADIO THREE    False          2021            87   \n3             BBC ALBA    False          2020            17   \n4        BBC RADIO ONE    False          2022            10   \n...                ...      ...           ...           ...   \n36883         CBEEBIES    False          2003            10   \n36886         CBEEBIES    False          2021            26   \n36891         CBEEBIES    False          2010             4   \n36893         CBEEBIES    False          2012            24   \n36897         CBEEBIES    False          2020             5   \n\n                          topic  \\\n0          music, documentaries   \n1                         music   \n2      music, from-the-archives   \n3                         music   \n4          music, entertainment   \n...                         ...   \n36883                  cbeebees   \n36886                  cbeebees   \n36891                  cbeebees   \n36893                  cbeebees   \n36897                  cbeebees   \n\n                                                 image_l  \\\n0      https://ichef.bbci.co.uk/images/ic/352x198/p09...   \n1      https://ichef.bbci.co.uk/images/ic/352x198/p0b...   \n2      https://ichef.bbci.co.uk/images/ic/352x198/p09...   \n3      https://ichef.bbci.co.uk/images/ic/352x198/p08...   \n4      https://ichef.bbci.co.uk/images/ic/352x198/p0b...   \n...                                                  ...   \n36883  https://ichef.bbci.co.uk/images/ic/352x198/p08...   \n36886  https://ichef.bbci.co.uk/images/ic/352x198/p09...   \n36891  https://ichef.bbci.co.uk/images/ic/352x198/p08...   \n36893  https://ichef.bbci.co.uk/images/ic/352x198/p09...   \n36897  https://ichef.bbci.co.uk/images/ic/352x198/p08...   \n\n                                                image_xl  \n0      https://ichef.bbci.co.uk/images/ic/1200x675/p0...  \n1      https://ichef.bbci.co.uk/images/ic/1200x675/p0...  \n2      https://ichef.bbci.co.uk/images/ic/1200x675/p0...  \n3      https://ichef.bbci.co.uk/images/ic/1200x675/p0...  \n4      https://ichef.bbci.co.uk/images/ic/1200x675/p0...  \n...                                                  ...  \n36883  https://ichef.bbci.co.uk/images/ic/1200x675/p0...  \n36886  https://ichef.bbci.co.uk/images/ic/1200x675/p0...  \n36891  https://ichef.bbci.co.uk/images/ic/1200x675/p0...  \n36893  https://ichef.bbci.co.uk/images/ic/1200x675/p0...  \n36897  https://ichef.bbci.co.uk/images/ic/1200x675/p0...  \n\n[22757 rows x 16 columns]",
      "text/html": "<div>\n<style scoped>\n    .dataframe tbody tr th:only-of-type {\n        vertical-align: middle;\n    }\n\n    .dataframe tbody tr th {\n        vertical-align: top;\n    }\n\n    .dataframe thead th {\n        text-align: right;\n    }\n</style>\n<table border=\"1\" class=\"dataframe\">\n  <thead>\n    <tr style=\"text-align: right;\">\n      <th></th>\n      <th>title</th>\n      <th>subtitle</th>\n      <th>description</th>\n      <th>image</th>\n      <th>keywords</th>\n      <th>syno_s</th>\n      <th>syno_m</th>\n      <th>syno_l</th>\n      <th>category</th>\n      <th>channel</th>\n      <th>language</th>\n      <th>release_date</th>\n      <th>duration_min</th>\n      <th>topic</th>\n      <th>image_l</th>\n      <th>image_xl</th>\n    </tr>\n  </thead>\n  <tbody>\n    <tr>\n      <th>0</th>\n      <td>The 80s - Music’s Greatest Decade?</td>\n      <td>Series 1: 1. With Dylan Jones</td>\n      <td>Music author Dylan Jones argues that the 1980s...</td>\n      <td>https://ichef.bbci.co.uk/images/ic/{recipe}/p0...</td>\n      <td>BBC, iPlayer, TV, The 80s - Music’s Greatest D...</td>\n      <td>Music author Dylan Jones argues that the 1980s...</td>\n      <td>Music writer Dylan Jones puts the case that th...</td>\n      <td>Eighties music is often dismissed as a joke - ...</td>\n      <td>Music</td>\n      <td>BBC TWO</td>\n      <td>False</td>\n      <td>2021</td>\n      <td>59</td>\n      <td>music, documentaries</td>\n      <td>https://ichef.bbci.co.uk/images/ic/352x198/p09...</td>\n      <td>https://ichef.bbci.co.uk/images/ic/1200x675/p0...</td>\n    </tr>\n    <tr>\n      <th>1</th>\n      <td>Top of the Pops</td>\n      <td>02/07/1992</td>\n      <td>With Arrested Development, Altern 8, Def Leppa...</td>\n      <td>https://ichef.bbci.co.uk/images/ic/{recipe}/p0...</td>\n      <td>BBC, iPlayer, TV, Top of the Pops, 02/07/1992</td>\n      <td>With Arrested Development, Altern 8, Def Leppa...</td>\n      <td>Tony Dortie presents the pop chart programme, ...</td>\n      <td>Tony Dortie presents the pop chart programme, ...</td>\n      <td>Music</td>\n      <td>BBC ONE</td>\n      <td>False</td>\n      <td>1992</td>\n      <td>29</td>\n      <td>music</td>\n      <td>https://ichef.bbci.co.uk/images/ic/352x198/p0b...</td>\n      <td>https://ichef.bbci.co.uk/images/ic/1200x675/p0...</td>\n    </tr>\n    <tr>\n      <th>2</th>\n      <td>BBC Proms</td>\n      <td>2021: Last Night of the Proms, Part 2</td>\n      <td>Australian tenor Stuart Skelton is joined by L...</td>\n      <td>https://ichef.bbci.co.uk/images/ic/{recipe}/p0...</td>\n      <td>BBC, iPlayer, TV, BBC Proms, 2021: Last Night ...</td>\n      <td>Australian tenor Stuart Skelton is joined by L...</td>\n      <td>Australian tenor Stuart Skelton is joined by L...</td>\n      <td>Katie Derham hosts continued live coverage fro...</td>\n      <td>Music</td>\n      <td>BBC RADIO THREE</td>\n      <td>False</td>\n      <td>2021</td>\n      <td>87</td>\n      <td>music, from-the-archives</td>\n      <td>https://ichef.bbci.co.uk/images/ic/352x198/p09...</td>\n      <td>https://ichef.bbci.co.uk/images/ic/1200x675/p0...</td>\n    </tr>\n    <tr>\n      <th>3</th>\n      <td>Port</td>\n      <td>Series 5: Episode 4</td>\n      <td>Previously unseen music from the series Port, ...</td>\n      <td>https://ichef.bbci.co.uk/images/ic/{recipe}/p0...</td>\n      <td>BBC, iPlayer, TV, Port, Series 5: Episode 4</td>\n      <td>Previously unseen music from the series Port, ...</td>\n      <td>Julie Fowlis a’ lìbhrigeadh ceòl bhon t-sreath...</td>\n      <td>Bidh Druthag Bheag Eile a’ tarraing ri chèile ...</td>\n      <td>Music</td>\n      <td>BBC ALBA</td>\n      <td>False</td>\n      <td>2020</td>\n      <td>17</td>\n      <td>music</td>\n      <td>https://ichef.bbci.co.uk/images/ic/352x198/p08...</td>\n      <td>https://ichef.bbci.co.uk/images/ic/1200x675/p0...</td>\n    </tr>\n    <tr>\n      <th>4</th>\n      <td>Sit Down, Stand Up with Greg James</td>\n      <td>None</td>\n      <td>Tom Holland and Greg James cold call celebrity...</td>\n      <td>https://ichef.bbci.co.uk/images/ic/{recipe}/p0...</td>\n      <td>BBC, iPlayer, TV, Sit Down, Stand Up with Greg...</td>\n      <td>Tom Holland and Greg James cold call celebrity...</td>\n      <td>Tom Holland and Greg James cold call celebrity...</td>\n      <td>Tom Holland and Greg James cold call celebrity...</td>\n      <td>Entertainment</td>\n      <td>BBC RADIO ONE</td>\n      <td>False</td>\n      <td>2022</td>\n      <td>10</td>\n      <td>music, entertainment</td>\n      <td>https://ichef.bbci.co.uk/images/ic/352x198/p0b...</td>\n      <td>https://ichef.bbci.co.uk/images/ic/1200x675/p0...</td>\n    </tr>\n    <tr>\n      <th>...</th>\n      <td>...</td>\n      <td>...</td>\n      <td>...</td>\n      <td>...</td>\n      <td>...</td>\n      <td>...</td>\n      <td>...</td>\n      <td>...</td>\n      <td>...</td>\n      <td>...</td>\n      <td>...</td>\n      <td>...</td>\n      <td>...</td>\n      <td>...</td>\n      <td>...</td>\n      <td>...</td>\n    </tr>\n    <tr>\n      <th>36883</th>\n      <td>Bob the Builder</td>\n      <td>Series 8: 7. Ballroom Bob</td>\n      <td>Bob has been making secret early morning trips...</td>\n      <td>https://ichef.bbci.co.uk/images/ic/{recipe}/p0...</td>\n      <td>BBC, iPlayer, TV, Bob the Builder, Series 8: 7...</td>\n      <td>Bob has been making secret early morning trips...</td>\n      <td>Bob has been making secret early morning trips...</td>\n      <td>Bob has been making secret early morning trips...</td>\n      <td>CBeebies</td>\n      <td>CBEEBIES</td>\n      <td>False</td>\n      <td>2003</td>\n      <td>10</td>\n      <td>cbeebees</td>\n      <td>https://ichef.bbci.co.uk/images/ic/352x198/p08...</td>\n      <td>https://ichef.bbci.co.uk/images/ic/1200x675/p0...</td>\n    </tr>\n    <tr>\n      <th>36886</th>\n      <td>Go Buster</td>\n      <td>Stories: 5. Buster's Stories</td>\n      <td>Buster the bus has so many stories and adventu...</td>\n      <td>https://ichef.bbci.co.uk/images/ic/{recipe}/p0...</td>\n      <td>BBC, iPlayer, TV, Go Buster, Stories: 5. Buste...</td>\n      <td>Buster the bus has so many stories and adventu...</td>\n      <td>Buster the bus has so many stories and adventu...</td>\n      <td>Buster the bus has so many stories and adventu...</td>\n      <td>CBeebies</td>\n      <td>CBEEBIES</td>\n      <td>False</td>\n      <td>2021</td>\n      <td>26</td>\n      <td>cbeebees</td>\n      <td>https://ichef.bbci.co.uk/images/ic/352x198/p09...</td>\n      <td>https://ichef.bbci.co.uk/images/ic/1200x675/p0...</td>\n    </tr>\n    <tr>\n      <th>36891</th>\n      <td>Chuggington</td>\n      <td>Badge Quest: 3. Rainbow Chuggers</td>\n      <td>The Chuggers need to solve a number of clues t...</td>\n      <td>https://ichef.bbci.co.uk/images/ic/{recipe}/p0...</td>\n      <td>BBC, iPlayer, TV, Chuggington, Badge Quest: 3....</td>\n      <td>The Chuggers need to solve a number of clues t...</td>\n      <td>Koko, Wilson and Brewster learn new skills and...</td>\n      <td>Koko, Wilson and Brewster learn new skills and...</td>\n      <td>CBeebies</td>\n      <td>CBEEBIES</td>\n      <td>False</td>\n      <td>2010</td>\n      <td>4</td>\n      <td>cbeebees</td>\n      <td>https://ichef.bbci.co.uk/images/ic/352x198/p08...</td>\n      <td>https://ichef.bbci.co.uk/images/ic/1200x675/p0...</td>\n    </tr>\n    <tr>\n      <th>36893</th>\n      <td>Justin's House</td>\n      <td>Series 2: 4. Going for Gold</td>\n      <td>Justin's house hosts the Justinship Games, and...</td>\n      <td>https://ichef.bbci.co.uk/images/ic/{recipe}/p0...</td>\n      <td>BBC, iPlayer, TV, Justins House, Series 2: 4. ...</td>\n      <td>Justin's house hosts the Justinship Games, and...</td>\n      <td>Justin Fletcher entertains children with singi...</td>\n      <td>Justin Fletcher entertains a live audience of ...</td>\n      <td>CBeebies</td>\n      <td>CBEEBIES</td>\n      <td>False</td>\n      <td>2012</td>\n      <td>24</td>\n      <td>cbeebees</td>\n      <td>https://ichef.bbci.co.uk/images/ic/352x198/p09...</td>\n      <td>https://ichef.bbci.co.uk/images/ic/1200x675/p0...</td>\n    </tr>\n    <tr>\n      <th>36897</th>\n      <td>Oti's Boogie Beebies</td>\n      <td>Series 1: 12. Upside Down</td>\n      <td>In this episode, Oti teaches us how to step an...</td>\n      <td>https://ichef.bbci.co.uk/images/ic/{recipe}/p0...</td>\n      <td>BBC, iPlayer, TV, Otis Boogie Beebies, Series ...</td>\n      <td>In this episode, Oti teaches us how to step an...</td>\n      <td>Series for young children getting them to join...</td>\n      <td>Series for young children getting them to join...</td>\n      <td>CBeebies</td>\n      <td>CBEEBIES</td>\n      <td>False</td>\n      <td>2020</td>\n      <td>5</td>\n      <td>cbeebees</td>\n      <td>https://ichef.bbci.co.uk/images/ic/352x198/p08...</td>\n      <td>https://ichef.bbci.co.uk/images/ic/1200x675/p0...</td>\n    </tr>\n  </tbody>\n</table>\n<p>22757 rows × 16 columns</p>\n</div>"
     },
     "execution_count": 268,
     "metadata": {},
     "output_type": "execute_result"
    }
   ],
   "source": [
    "df = pd.read_csv('temp_bbc.csv', sep=';', index_col=0)\n",
    "df"
   ],
   "metadata": {
    "collapsed": false,
    "pycharm": {
     "name": "#%%\n"
    }
   }
  },
  {
   "cell_type": "code",
   "execution_count": 253,
   "outputs": [
    {
     "data": {
      "text/plain": "[['Series 1', ' 1. With Dylan Jones'],\n ['Series 5', ' Episode 4'],\n ['Series 5', ' 3. 1978'],\n ['Series 3', ' 1. With Taylor Swift'],\n ['Series 1', ' 1. Foo Fighters and More: Live Lounge Special'],\n ['Series 2', ' Episode 2'],\n ['Series 2', ' 2. George Ezra, Christine and the Queens and more'],\n ['Series 1', ' Episode 3'],\n ['Series 1', ' Episode 1'],\n ['Series 5', ' Episode 11'],\n ['Series 1', ' Episode 1'],\n ['Series 4', ' 2. 1973'],\n ['Series 1', ' Episode 1'],\n ['Series 2', ' Episode 6'],\n ['Series 4', ' 3. 1976'],\n ['Series 2', ' Episode 5'],\n ['Series 1', ' 4. 1985'],\n ['Series 1', ' 3. Sweet Love'],\n ['Series 1', ' Episode 6'],\n ['Series 1', ' 2. Say It Loud'],\n ['Series 5', ' Episode 10'],\n ['Series 3', ' 4. With Stormzy'],\n ['Series 3', ' Episode 6 - The Final'],\n ['Series 8', ' Episode 4'],\n ['Series 1', ' Episode 4'],\n ['Series 3', ' Episode 5'],\n ['Series 1', ' 1. Amazing Grace'],\n ['Series 1', ' 2. Alright, by Kendrick Lamar'],\n ['Series 4', ' 7. 1992'],\n ['Series 1', ' 2. The New Wave of Irish Rap'],\n ['Series 2', ' 1. Welcome to the Rap Game UK'],\n ['Series 5', ' 8. 1991'],\n ['Series 2', ' 3. The 1975, Mumford and Sons: The Live Lounge Show'],\n ['Series 1', ' Episode 2'],\n ['Series 5', ' 9. 1996'],\n ['Series 3', ' 3. 1988'],\n ['Series 1', ' Episode 4'],\n ['Series 1', ' Episode 2'],\n ['Series 2', ' Episode 2'],\n ['Series 3', ' 5. 1997'],\n ['Series 2', ' 5. Beats & Visuals'],\n ['Series 2', ' 2. Collab & Clash'],\n ['Series 1', ' Episode 2'],\n ['Series 1', ' Episode 3'],\n ['Series 3', ' Episode 8'],\n ['Series 1', ' 3. Rock Box, by Run-DMC'],\n ['Series 3', ' Episode 2'],\n ['Series 8', ' Episode 5'],\n ['Series 4', ' 6. 1990'],\n ['Series 1', ' Episode 6'],\n ['Series 1', ' Episode 2'],\n ['Series 5', ' 4. 1980'],\n ['Series 1', ' Episode 3'],\n ['Series 3', ' 2. With Lana Del Rey'],\n ['Series 1', ' Episode 1'],\n ['Series 8', ' Episode 3'],\n ['Series 2', ' 1. Jess Glynne, Hozier, Rita Ora and more'],\n ['Series 8', ' Episode 2'],\n ['Series 1', ' 5. The Bridge, by Marley Marl and MC Shan'],\n ['Series 3', ' 1. 1972'],\n ['Series 1', ' 2. P!nk and More'],\n ['Series 4', ' 4. 1984'],\n ['Series 1', ' 3. The Rise of Asian Rap'],\n ['Series 1', ' Episode 1'],\n ['Series 1', ' 3. Miley Cyrus and More'],\n ['Series 5', ' 2. 1975'],\n ['Series 1', ' 2. 1974'],\n ['Series 3', ' Episode 1'],\n ['Series 2', ' 3. 1982'],\n ['Series 1', ' Episode 2'],\n ['Series 1', ' 1. Liverpool Rap, Drill and Trap'],\n ['Series 1', ' 5. 1994'],\n ['Series 5', ' 10. 1999'],\n ['Series 5', ' Episode 9'],\n ['Series 2', ' 6. The Final'],\n ['Series 5', ' Episode 8'],\n ['Series 2', ' Episode 4'],\n ['Series 3', ' Episode 3'],\n ['Series 1', ' Episode 1'],\n ['Series 5', ' 5. 1983'],\n ['Series 5', ' 6. 1986'],\n ['Series 1', ' 3. 1981'],\n ['Series 1', ' Episode 1'],\n ['Series 5', ' 1. 1963-1968'],\n ['Series 8', ' Episode 6'],\n ['Series 1', ' 4. Elevators, by Outkast'],\n ['Series 3', ' Episode 2'],\n ['Series 2', ' Episode 1'],\n ['Series 3', ' 2. 1977'],\n ['Series 1', ' 1. Jesus Walks, by Kanye West'],\n ['Series 2', ' Episode 4'],\n ['Series 2', ' 1. 1971'],\n ['Series 5', ' Episode 1'],\n ['Series 1', ' Episode 3'],\n ['Series 1', ' Episode 1'],\n ['Series 1', ' 4. Jay-Z and More'],\n ['Series 3', ' Episode 4'],\n ['Series 2', ' Episode 3'],\n ['Series 1', ' Episode 3'],\n ['Series 2', ' 5. 2002'],\n ['Series 1', ' Episode 2'],\n ['Series 1', ' Episode 3'],\n ['Series 1', ' Episode 3'],\n ['Series 3', ' Episode 3'],\n ['Series 2', ' Episode 1'],\n ['Series 5', ' 7. 1989'],\n ['Series 1', ' Episode 3'],\n ['Series 3', ' 3. With Charli XCX'],\n ['Series 1', ' Episode 7'],\n ['Series 1', ' Episode 5'],\n ['Series 1', ' 2. True Originals'],\n ['Series 4', ' 8. 1995'],\n ['Series 3', ' 4. 1993'],\n ['Series 1', ' Episode 2'],\n ['Series 2', ' 4. Sound & Symphony'],\n ['Series 1', ' Episode 5'],\n ['Series 1', ' Episode 6'],\n ['Series 1', ' 3. Alternative Voices'],\n ['Series 2', ' 2. 1979'],\n ['Series 2', ' 3. Pressure & Purpose'],\n ['Series 3', ' Episode 1'],\n ['Series 1', ' Episode 4'],\n ['Series 2', ' Episode 3'],\n ['Series 3', ' Episode 4'],\n ['Series 1', ' Episode 6'],\n ['Series 1', ' Episode 6'],\n ['Series 1', ' Episode 4'],\n ['Series 5', ' Episode 2'],\n ['Series 2', ' Episode 7'],\n ['Series 1', ' Episode 4'],\n ['Series 2', ' 4. 1998'],\n ['Series 1', ' Episode 4'],\n ['Series 1', ' 1. 1969'],\n ['Series 3', ' Episode 4'],\n ['Series 4', ' 1. 1970'],\n ['Series 1', ' Episode 4'],\n ['Series 1', ' Episode 5'],\n ['Series 1', ' Episode 2'],\n ['Series 1', ' Episode 1'],\n ['Series 1', ' Episode 1'],\n ['Series 1', ' 4. Hip-Hop to House'],\n ['Series 1', ' Episode 2'],\n ['Series 1', ' Episode 3'],\n ['Series 4', ' 5. 1987'],\n ['Series 1', ' Episode 5'],\n ['Series 1', ' 6. Ladies First, by Queen Latifah'],\n ['Series 4', ' 1. Why We Laugh'],\n ['Series 9', ' 4. A King’s Last Supper'],\n ['Series 2', ' Episode 3'],\n ['Series 1', ' 3. Black is the New Hollywood'],\n ['Series 2', ' Episode 3'],\n ['Series 1', ' 2. The American Nightmare'],\n ['Series 1', ' 5. Carlos Acosta'],\n ['Series 5', ' 12. Aurora’s Dance'],\n ['Series 5', ' 2. Island in the Wilderness'],\n ['Series 1', ' Episode 1'],\n ['Series 5', ' 20. Reflections of Calm'],\n ['Series 1', ' Episode 4'],\n ['Series 4', ' 3. Hauer-King House'],\n ['Series 5', ' 14. Woodgrain View'],\n ['Series 1', ' 14. The Best of BBYA'],\n ['Series 5', ' 4. Can Art Save the Planet?'],\n ['Series 4', ' 7. Willis Corroon'],\n ['Series 1', ' 7. Radiance'],\n ['Series 3', \" 3. Lloyd's Building\"],\n ['Series 4', ' 2. When Mary Met Hillary Clinton'],\n ['Series 9', ' 3. Landseer'],\n ['Series 1', ' Episode 1'],\n ['Series 2', ' 1. The Great Salvador Dali'],\n ['Series 9', ' 1. A Sculpture in the Brambles'],\n ['Series 5', ' 1. Brighton'],\n ['Series 4', ' 52. Downstream View'],\n ['Series 4', ' 50. Autumn Palette'],\n ['Series 4', ' 4. Humber Bridge'],\n ['Series 5', ' 17. Home in the Valley'],\n ['Series 1', ' 6. Nicole Kidman'],\n ['Series 3', ' Episode 3'],\n ['Series 3', ' Cutting Up Rough'],\n ['Series 1', ' 2. No Grasses No Nonces'],\n ['Series 1', ' Episode 3'],\n ['Series 1', ' Episode 2'],\n ['Series 1', ' 1. Second Moment of Creation'],\n ['Series 5', \" 24. Trail's End\"],\n ['Series 1', ' Episode 2'],\n ['Series 2', ' Episode 2'],\n ['Series 1', \" 1. I'd Like to Speak to the Manager\"],\n ['Series 3', ' Episode 4'],\n ['Series 1', ' 2. To See or Not to See?'],\n ['Series 2', ' 4. Arbroath'],\n ['Series 1', ' Episode 3'],\n ['Series 3', ' Episode 1'],\n ['Series 1', ' 9. The Vital Spark'],\n ['Series 1', ' Episode 1'],\n ['Series 4', ' 46. Enchanted Falls Oval'],\n ['Series 4', ' 2. The Worsley Medical Building'],\n ['Series 2', ' Episode 1'],\n ['Series 5', ' 8. Cypress Creek'],\n ['Series 5', ' 21. Winding Stream'],\n ['Series 4', ' 51. Cypress Swamp'],\n ['Series 3', ' Episode 6'],\n ['Series 1', ' 4. Byker Wall'],\n ['Series 1', ' 3. Hannah'],\n ['Series 3', ' Episode 1'],\n ['Series 1', ' Semi-Final: Jamie Chadwick'],\n ['Series 5', ' 3. Autumn Oval'],\n ['Series 2', ' 2. Epic Iran'],\n ['Series 4', ' 5. Wood Street Police Station'],\n ['Series 5', ' 1. Mountain Serenity'],\n ['Series 1', ' 5. Heart of Glass'],\n ['Series 3', ' Episode 2'],\n ['Series 5', ' 18. Seaside Harmony'],\n ['Series 1', ' 13. The Final'],\n ['Series 4', ' 43. The Footbridge'],\n ['Series 1', ' 3. Life after Death'],\n ['Series 1', ' 2. Bernardine Evaristo'],\n ['Series 1', ' 2. Street Art'],\n ['Series 2', ' Episode 1'],\n ['Series 1', ' 1. Burial'],\n ['Series 4', ' 1. Canary Wharf'],\n ['Series 5', ' 11. A Perfect Winter Day'],\n ['Series 1', ' Episode 3'],\n ['Series 4', ' 6. Alton Estate'],\n ['Series 1', ' 2. How Do We Look?'],\n ['Series 1', ' 2. Dirt Ash Meat'],\n ['Series 3', ' 12. Boarbank Hall Oratory'],\n ['Series 1', ' 8. Evelyn Glennie'],\n ['Series 5', ' 6. Countryside Barn'],\n ['Series 1', ' Semi-Final: Dr Alex'],\n ['Series 2', ' 3. Alice in Wonderland'],\n ['Series 5', ' 3. Glasgow'],\n ['Series 2', ' 6. Painting: The Great Renunciation of the Buddha'],\n ['Series 1', ' Semi-Final: Lindsey Russell'],\n ['Series 1', ' 1. Kenneth Branagh'],\n ['Series 1', ' 4. Bitter Sky'],\n ['Series 1', ' 7. Landscape'],\n ['Series 2', ' Episode 5'],\n ['Series 1', ' 8. The Cult of Progress'],\n ['Series 5', ' 16. Misty Foothills'],\n ['Series 1', ' 3. Collage'],\n ['Series 1', ' 2. Black Film is Not a Genre'],\n ['Series 3', ' Episode 6'],\n ['Series 1', ' 4. Still Life'],\n ['Series 1', ' Episode 3'],\n ['Series 4', ' 44. Covered Bridge Oval'],\n ['Series 4', ' 49. Oriental Falls'],\n ['Series 1', ' 6. First Contact'],\n ['Series 5', ' 2. Back to the 90s'],\n ['Series 3', ' Episode 7'],\n ['Series 3', ' Episode 3'],\n ['Series 1', ' 7. Unicorn'],\n ['Series 3', ' Episode 4'],\n ['Series 4', ' 3. Back to School'],\n ['Series 1', ' Episode 2'],\n ['Series 5', ' 19. A Cold Spring Day'],\n ['Series 5', ' 26. Balmy Beach'],\n ['Series 1', ' Episode 2'],\n ['Series 1', ' 6. Leaf Boat'],\n ['Series 3', ' 2. Women, Sex and Society'],\n ['Series 2', ' 3. Janet Street-Porter'],\n ['Series 1', ' 1. Vile Bodies'],\n ['Series 1', ' 6. Fan Art'],\n ['Series 9', ' 2. Gerome'],\n ['Series 1', ' 1. Living the Dream'],\n ['Series 1', ' 1. Legends and Pioneers'],\n ['Series 1', ' 5. Alexander Fleming House'],\n ['Series 2', ' 4. Turner - Light and Landscape'],\n ['Series 4', ' 45. Hideaway Cove'],\n ['Series 3', ' Episode 3'],\n ['Series 4', ' 5. Down Under'],\n ['Series 2', ' Episode 4'],\n ['Series 3', ' Episode 2'],\n ['Series 1', ' 7. Kwame Kwei-Armah'],\n ['Series 5', ' 13. Babbling Brook'],\n ['Series 4', ' 47. Snowy Morn'],\n ['Series 5', ' 1. Women on Top'],\n ['Series 2', ' 3. Monet - The French Revolutionary'],\n ['Series 1', ' Episode 4'],\n ['Series 5', ' 7. Mountain Lake Falls'],\n ['Series 1', ' 1. Animal Art'],\n ['Series 2', ' 1. Jacob Jordaens: Renaissance Watercolours'],\n ['Series 1', ' 9. Cartoon'],\n ['Series 2', ' 2. Van Gogh - Life and Art'],\n ['Series 1', ' 3. Picturing Paradise'],\n ['Series 3', ' 4. Trellick Tower'],\n ['Series 1', ' 4. The Eye of Faith'],\n ['Series 2', ' 4. Bacchus Vase / Minton'],\n ['Series 5', ' 23. View from Clear Creek'],\n ['Series 1', ' 6. The Taking of Balgrayhill Street'],\n ['Series 1', ' 3. Mike Leigh'],\n ['Series 3', ' Episode 1'],\n ['Series 1', ' 5. The Triumph of Art'],\n ['Series 5', ' 9. Trapper’s Cabin'],\n ['Series 1', ' Episode 3'],\n ['Series 1', ' 5. The Arborist'],\n ['Series 1', ' 4. Regeneration'],\n ['Series 2', ' Episode 5'],\n ['Series 1', ' Episode 1'],\n ['Series 2', ' 5. Bags Inside Out/Churchill Despatch Box'],\n ['Series 4', ' 4. How We Read'],\n ['Series 5', ' 22. Tranquility Cove'],\n ['Series 3', ' Episode 5'],\n ['Series 3', ' Episode 5'],\n ['Series 3', ' Episode 2'],\n ['Series 5', ' 15. Wilderness Trail'],\n ['Series 5', ' 3. The Art of Crying'],\n ['Series 2', ' Episode 2'],\n ['Series 3', ' Episode 8'],\n ['Series 1', ' 3. I Choose'],\n ['Series 5', ' 25. Evergreen Valley'],\n ['Series 1', ' Episode 3'],\n ['Series 1', ' Episode 2'],\n ['Series 1', ' Episode 1'],\n ['Series 1', ' 4. Tracey Emin'],\n ['Series 1', ' 5. Modern Art'],\n ['Series 2', ' Episode 6'],\n ['Series 5', ' 4. Seasonal Progression'],\n ['Series 1', ' 3. Schlumberger Building'],\n ['Series 3', ' Episode 5'],\n ['Series 5', ' 5. Light at the Summit'],\n ['Series 4', ' 48. Splashes of Autumn'],\n ['Series 5', ' 2. Tatton Park'],\n ['Series 1', ' 8. Portrait'],\n ['Series 3', ' 1. Boeing 747'],\n ['Series 1', ' Episode 2'],\n ['Series 2', ' Episode 6'],\n ['Series 5', ' 10. Storm on the Horizon'],\n ['Series 3', ' Episode 4'],\n ['Series 1', ' 5. Europe'],\n ['Series 3', ' 17/10/1986'],\n ['Series 1', ' Episode 2'],\n ['Series 10', ' Episode 7'],\n ['Series 6', ' Tortilla Chips'],\n ['Series 1', ' Episode 1'],\n ['Series 1', ' 1. First Steps'],\n ['Series 1', ' 4. Changing Planet'],\n ['Series 1', ' 1. South West Wales'],\n ['Series 1', ' 4. Black Holes: Heart of Darkness'],\n ['Series 1', ' 2. Change'],\n ['Series 1', ' 10. County Down'],\n ['Series 1', ' 6. North America'],\n ['Series 1', ' 3. Game Changers'],\n ['Series 1', ' 6. Reckoning'],\n ['Series 1', ' 3. Colourful Planet'],\n ['Series 1', ' 7. The Sun and Stars'],\n ['Series 1', ' Episode 8'],\n ['Series 1', ' 4. Is Coronavirus a Chance to Reset the World?'],\n ['Series 7', ' Diggers'],\n ['Series 6', ' 8. Westmorland County Show'],\n ['Series 1', ' 3. The Godfather: Jupiter'],\n ['Series 1', ' 4. Life Beyond the Sun: Saturn'],\n ['Series 1', ' 4. Australia'],\n ['Series 1', ' 4. Misfortune'],\n ['Series 1', ' Episode 3'],\n ['Series 4', ' Episode 6'],\n ['Series 1', ' 4. Desert Worlds'],\n ['Series 1', ' 2. Civilisations'],\n ['Series 1', ' 5. Tiger'],\n ['Series 1 (Shorts)', ' Episode 11'],\n ['Series 1', ' 7. Africa'],\n ['Series 1', ' 1. Destiny'],\n ['Series 1', ' 1. Masterminds'],\n ['Series 1', ' 5. Build a Waste-Free World'],\n ['Series 1', ' Episode 1'],\n ['Series 1', ' 1. The Sun: God Star'],\n ['Series 1', ' 4. Summer'],\n ['Series 1', ' Episode 2'],\n ['Series 1', ' 3. Weather'],\n ['Series 10', ' Episode 3'],\n ['Series 2', ' Episode 8'],\n ['Series 1', ' 4. Oceans'],\n ['Series 1', ' Episode 2'],\n ['Series 1', ' 3. Coniston'],\n ['Series 10', ' Episode 3'],\n ['Series 1', ' Episode 9'],\n ['Series 1', ' 3. Changing'],\n ['Series 1', ' 6. Travellers'],\n ['Series 1', ' Episode 1'],\n ['Series 1', ' 1. Secrets of Survival'],\n ['Series 1', ' 3. Home'],\n ['Series 1', ' 7. The Extraordinary Power of Poo'],\n ['Series 1', ' 5. Human Worlds'],\n ['Series 1', ' 8. Seallaidhean Gleusta/Tuned in Views'],\n ['Series 1', ' Episode 5'],\n ['Series 10', ' Episode 4'],\n ['Series 1', ' 4. Big Blue'],\n ['Series 3', ' Episode 3'],\n ['Series 1', ' 2. Growing Up'],\n ['Series 1', ' 2. Alien Worlds: The Search for Second Earth'],\n ['Series 2', ' 2. Take My Breath Away'],\n ['Series 10', ' Episode 6'],\n ['Series 1', ' 9. Space Explorers'],\n ['Series 1', ' 3. Spring'],\n ['Series 1', ' 4. Rainforests'],\n ['Series 1', ' 10. Easdale'],\n ['Series 8 Reversions', ' 4. The Secret Life of Sea Cliffs 1'],\n ['Series 1', ' 4. Social Networkers'],\n ['Series 1', ' 6. Rathlin'],\n ['Series 4', ' Episode 2'],\n ['Series 1', ' 5. Why Do We Kiss?'],\n ['Series 6', ' 17. Westmorland County Show'],\n ['Series 1', ' 4. Belfast'],\n ['Series 10', ' Episode 5'],\n ['Series 1', ' Episode 3'],\n ['Series 1', ' 2. Fix Our Climate'],\n ['Series 1', ' 8. Loch Lomond'],\n ['Series 1', ' Episode 3'],\n ['Series 1', ' 2. Patterned Planet'],\n ['Series 1', ' 9. Strangford'],\n ['Series 1', ' 1. Zambezi'],\n ['Series 1', ' 2. Derwentwater'],\n ['Series 1', ' 5. Cairngorms'],\n ['Series 1', ' 2. Winter'],\n ['Series 6', ' 10. Abergavenny Food Festival'],\n ['Series 1', ' 3. Coral Reefs'],\n ['Series 2', ' 1. Puma'],\n ['Series 1 (Shorts)', ' Episode 2'],\n ['Series 1', ' 3. Renewal'],\n ['Series 1', ' 1. Africa'],\n ['Series 1', ' 2. Water Worlds'],\n ['Series 1', ' 5. Green Seas'],\n ['Series 1', ' 1. Volcano'],\n ['Series 1', ' Episode 3'],\n ['Series 1', ' 6. Parenthood'],\n ['Series 1', ' 1. One Ocean'],\n ['Series 1', ' 6. Australasia'],\n ['Series 1', ' 1. A Moment in the Sun - The Terrestrial Planets'],\n ['Series 1', ' Episode 3'],\n ['Series 1', ' 2. Aliens: Are We Alone?'],\n ['Series 6', ' 3. Stroud Farmers’ Market'],\n ['Series 3', ' Episode 1'],\n ['Series 2', ' 3. Point to Pap'],\n ['Series 1', ' Episode 2'],\n ['Series 3', ' 2. A Mystical Journey'],\n ['Series 1', ' 2. What’s the Future for the Office?'],\n ['Series 1', ' Episode 2'],\n ['Series 1', ' 1. Autumn'],\n ['Series 2', ' Episode 5'],\n ['Series 6', ' 14. Shipbourne Farmers Market'],\n ['Series 6', ' 7. Lancashire Game & Country Festival'],\n ['Series 1', ' 6. Biohacking: Can You Build a Better You?'],\n ['Series 1', ' 1. A New Perspective'],\n ['Series 1', ' 1. The Quiet Power of Introverts'],\n ['Series 1', ' 2. Oceans: Out of the Blue'],\n ['Series 1', ' 5. Against All Odds'],\n ['Series 1', ' 1. Vaccines'],\n ['Series 1', ' 2. The Frozen North'],\n ['Series 6', ' 9. Edenbridge & Oxted Agricultural Show'],\n ['Series 8 Reversions', ' 13. The Joy of Coast'],\n ['Series 1', ' Episode 1'],\n ['Series 6', ' 15. Staffordshire County Show'],\n ['Series 6', ' 5. Blenheim Palace Food Festival'],\n ['Series 1', ' Episode 2'],\n ['Series 1', ' 5. Fermanagh'],\n ['Series 10', ' Episode 1'],\n ['Series 10', ' Episode 2'],\n ['Series 1', ' 1. Pulse'],\n ['Series 1', ' 3. Data'],\n ['Series 1', ' 2. Understanding'],\n ['Series 1', \" 1. A Shark's Tale\"],\n ['Series 1', ' 5. Power'],\n ['Series 6', ' 10. Vacuums'],\n ['Series 5 (Shortened Versions)', ' 11. Harlech to Criccieth'],\n ['Series 1', ' Episode 1'],\n ['Series 1', ' Episode 4'],\n ['Series 4', ' Episode 5'],\n ['Series 1', ' 3. Jungles: In the Thick of It'],\n ['Series 6', ' 13. Macclesfield Sheep Dog Trials'],\n ['Series 2', ' Cutdowns: Episode 3'],\n ['Series 1 (Shorts)', ' Episode 9'],\n ['Series 1', ' Episode 1'],\n ['Series 1', ' 8. Lough Erne'],\n ['Series 1', ' 4. Living in Space'],\n ['Series 1', ' 5. Welcome to the Smart City of the Future'],\n ['Series 1', ' Episode 2'],\n ['Series 1', ' 5. Exodus'],\n ['Series 1', ' Episode 1'],\n ['Series 1', ' Episode 2'],\n ['Series 10', ' Episode 1'],\n ['Series 1', ' 4. Why Impostor Syndrome Can Be a Strength'],\n ['Series 2', ' Episode 3'],\n ['Series 1', ' Episode 8'],\n ['Series 1', ' 4. North East Coast'],\n ['Series 1', ' Episode 3'],\n ['Series 1', ' 3. North West'],\n ['Series 1', ' 8. Earth from Space'],\n ['Series 1 (Shorts)', ' Episode 8'],\n ['Series 1', ' 5. Into the Darkness: Ice Worlds'],\n ['Series 1', ' 1. Intrigue'],\n ['Series 1', ' 2. The Sun'],\n ['Series 1', ' 2. Family Matters'],\n ['Series 1', ' Episode 3'],\n ['Series 1', ' 1. Madagascar'],\n ['Series 1', ' 3. Hawaii'],\n ['Series 1', ' 1. The Space Race'],\n ['Series 3 Compilations',\n  ' 1. Lost in a Landscape and The Wild Way of the North'],\n ['Series 6', ' 4. Ashbourne Show'],\n ['Series 1', ' 3. Asia'],\n ['Series 1', ' Episode 12'],\n ['Series 1', ' 4. What Is Time?'],\n ['Series 2', ' Episode 9'],\n ['Series 3', ' Episode 2'],\n ['Series 1 (Shorts)', ' Episode 6'],\n ['Series 1', ' 4. Freshwater: Timing Is Everything'],\n ['Series 1', ' Episode 1'],\n ['Series 6', ' 19. Guildford Farmers’ Market'],\n ['Series 1', ' 3. Invasion'],\n ['Series 1', ' 1. Legends of the West'],\n ['Series 1', ' 3. Protecting Primates'],\n ['Series 1', ' 5. North America'],\n ['Series 1', ' 5. A Rock and a Hard Place'],\n ['Series 1', ' 4. Eskdale'],\n ['Series 1', ' 8. The Nuclear Dilemma'],\n ['Series 1', ' 9. Loch Coruisk'],\n ['Series 1', ' 2. The Two Sisters - Earth and Mars'],\n ['Series 6', ' 11. Mid-Somerset Show'],\n ['Series 1', ' Episode 3'],\n ['Series 6', ' Mugs'],\n ['Series 1', ' Episode 6'],\n ['Series 1', ' 2. Medical Drugs'],\n ['Series 1', ' 5. Con Artists'],\n ['Series 1', ' 1. Tropical Worlds'],\n ['Series 1', \" 1. Will we all Live in 'Plyscrapers' in the Future?\"],\n ['Series 1', ' Episode 2'],\n ['Series 1', ' Episode 1'],\n ['Series 1', ' 6. An Enchanted Land'],\n ['Series 10', ' Episode 2'],\n ['Series 1', ' 3. Lake District'],\n ['Series 1', ' Episode 2'],\n ['Series 1', ' 2. Asia'],\n ['Series 1', ' 3. Lion'],\n ['Series 1', ' 4. Through the Rough Bounds'],\n ['Series 4', ' Episode 3'],\n ['Series 1', ' 1. Protect & Restore Nature'],\n ['Series 1', ' Episode 2'],\n ['Series 1', ' Episode 1'],\n ['Series 3', ' 28/03/1987'],\n ['Series 7', ' Christmas Cards'],\n ['Series 1', ' 6. Coasts'],\n ['Series 1', ' 1. Antarctica'],\n ['Series 1', ' 5. Courtship'],\n ['Series 1', ' 3. Why Do Humans Laugh?'],\n ['Series 1', ' 7. Britain and Ireland'],\n ['Series 1', ' Episode 1'],\n ['Series 1', \" 2. What Happens to Humans When We Can't Touch?\"],\n ['Series 1', ' 1. Grasslands: In Plain Sight'],\n ['Series 1', ' 6. Barra On The Foyle'],\n ['Series 1', ' 6. Aliens'],\n ['Series 6', ' 4. Malt Loaf'],\n ['Series 1', ' 4. Revive Our Oceans'],\n ['Series 1', ' Episode 4'],\n ['Series 1', ' 2. Borneo'],\n ['Series 1', ' 1. Windermere'],\n ['Series 1', ' Episode 4'],\n ['Series 1', ' Episode 2'],\n ['Series 2', ' Episode 6'],\n ['Series 1', ' Episode 9'],\n ['Series 1', ' Episode 3'],\n ['Series 1 (Shorts)', ' Episode 3'],\n ['Series 1', ' 3. Builders'],\n ['Series 1', ' 2. Tyrone'],\n ['Series 1', ' Episode 6'],\n ['Series 8 Reversions', ' 2. Joy of the Coast 1'],\n ['Series 6', ' 2. Royal Cheshire County Show'],\n ['Series 1', ' 3. Crisis'],\n ['Series 1 (Shorts)', ' Episode 7'],\n ['Series 1', ' 1. Awakenings'],\n ['Series 1 (Shorts)', ' Episode 10'],\n ['Series 1', ' 2. Great Barrier Reef'],\n ['Series 6', ' 16. Mid Devon Show'],\n ['Series 1', ' Episode 1'],\n ['Series 6', ' 6. Mid Devon Show'],\n ['Series 1', ' Episode 6'],\n ['Series 1', ' 4. Painted Wolf'],\n ['Series 1', ' Episode 1'],\n ['Series 6', ' 1. Edenbridge and Oxted Agricultural Show'],\n ['Series 1', ' 2. Snowdonia'],\n ['Series 1', ' 2. Conflict'],\n ['Series 6', ' Chairs'],\n ['Series 1', ' 3. Clean Our Air'],\n ['Series 1', ' Episode 1'],\n ['Series 22', ' The Race to Mars'],\n ['Series 1', ' Episode 4'],\n ['Series 2', ' Episode 1'],\n ['Series 1', ' 4. Behaviour'],\n ['Series 1', ' Episode 3'],\n ['Series 6', ' 12. Lewes Farmers Market'],\n ['Series 1', ' Episode 1'],\n ['Series 6', ' Ice Cream'],\n ['Series 1', ' 7. Armagh'],\n ['Series 1', ' Episode 4'],\n ['Series 1', ' Episode 3'],\n ['Series 1', ' Episode 11'],\n ['Series 1', ' 1. Carlingford'],\n ['Series 1', ' Episode 2'],\n ['Series 1', ' 3. Seasonal Worlds'],\n ['Series 2', ' Episode 7'],\n ['Series 1', ' 5. The Big Bang: Before the Dawn'],\n ['Series 4', ' Episode 4'],\n ['Series 1', ' 1. Chimpanzee'],\n ['Series 1', ' 3. South America'],\n ['Series 1', ' 5. Humans'],\n ['Series 6', ' 20. The Royal Cheshire County Show'],\n ['Series 1 (Shorts)', ' Episode 1'],\n ['Series 2', ' Episode 2'],\n ['Series 1', ' 6. Rebirth'],\n ['Series 2', ' 1. Gaylet Pot'],\n ['Series 3', ' 1. Tea Bags'],\n ['Series 2', ' Episode 2'],\n ['Series 1', ' Episode 7'],\n ['Series 1', ' 6. Western Isles'],\n ['Series 6', ' Leather Boots'],\n ['Series 6', ' 18. Staffordshire County Show'],\n ['Series 1', ' 4. Power'],\n ['Series 1', ' 10. Built for Space'],\n ['Series 1', ' Episode 2'],\n ['Series 1', ' Episode 1'],\n ['Series 1', ' Episode 2'],\n ['Series 10', ' Episode 4'],\n ['Series 1', ' 2. Hiding in Colour'],\n ['Series 1', ' 3. What Is Gravity?'],\n ['Series 10', ' Episode 8'],\n ['Series 2', ' Episode 1'],\n ['Series 10', ' Episode 5'],\n ['Series 1', ' 2. Communicators'],\n ['Series 1', ' 3. What if the Whole World Went Vegan?'],\n ['Series 1', ' Episode 5'],\n ['Series 1', ' 5. When Things Go Wrong'],\n ['Series 1', ' 1. Seeing in Colour'],\n ['Series 1', ' 8. Land of the Tiger'],\n ['Series 1', ' 7. Our Blue Planet'],\n ['Series 1', ' 2. Emperor'],\n ['Series 1', ' Episode 3'],\n ['Series 1', ' 1. Space: How Far Can We Go?'],\n ['Series 1', ' 3. The Milky Way: Island of Light'],\n ['Series 1', ' Episode 7'],\n ['Series 1', ' 2. Experiments in Space'],\n ['Series 1', ' 4. Leadership'],\n ['Series 1', ' Episode 1'],\n ['Series 2', ' Cutdowns: Episode 2'],\n ['Series 1', ' 2. The Deep'],\n ['Series 1', ' 6. What if Everyone in the World Planted a Tree?'],\n ['Series 2', ' 1. Written in Stone'],\n ['Series 2', ' Episode 10'],\n ['Series 2 Reversions', ' Episode 3'],\n ['Series 1', ' Episode 5'],\n ['Series 1', ' Episode 10'],\n ['Series 2', ' Episode 4'],\n ['Series 2', ' 4. Under Wide Skies'],\n ['Series 1', ' Episode 2'],\n ['Series 1', ' 6. Part Six - Are We Pigeon? Or Are We Dancer?'],\n ['Series 1', ' Education'],\n ['Series 1', ' Episode 2'],\n ['Series 4 - Celebrity Specials', ' Episode 1'],\n ['Series 23', ' Episode 2'],\n ['Series 2', ' Episode 4'],\n ['Series 11', ' Episode 11'],\n ['Series 3', ' Episode 1'],\n ['Series 14', ' Episode 6'],\n ['Series 9', ' 3. USA Special'],\n ['Series 26', ' Episode 33'],\n ['Series 1', ' 5. Minos and Iona'],\n ['Series 10', ' Episode 14'],\n ['Series 14', ' 11. The Best Bits'],\n ['Series 1', ' 4. Isaac & Luke'],\n ['Series 13', ' Episode 12'],\n ['Series 29', ' Episode 8'],\n ['Series 14', ' Episode 7'],\n ['Series 3', ' Episode 3'],\n ['Series 29', ' Episode 4'],\n ['Series 2', ' Episode 15'],\n ['Series 29', ' Episode 7'],\n ['Series 1', ' Episode 24'],\n ['Series 4', ' Episode 4'],\n ['Series 19', ' Week 6 Results'],\n ['Series 1', ' Episode 4'],\n ['Series 3', ' Episode 6'],\n ['Series 2', ' 3. Lunchbox On Wheels'],\n ['Series 2', ' 1. Bristol/Eclectic Electric'],\n ['Series 1', ' Episode 4'],\n ['Series 10', ' Episode 6'],\n ['Series 4 - Celebrity Specials', ' Episode 6'],\n ['Series 18', ' Episode 6'],\n ['Series 7', ' Episode 6'],\n ['Series 12', ' Episode 2'],\n ['Series 15', ' Episode 5'],\n ['Series 3', ' 11/03/2022'],\n ['Series 10', ' Episode 10'],\n ['Series 1', ' 8. Thank U, Next'],\n ['Series 1', ' Episode 6'],\n ['Series 28', ' Episode 21'],\n ['Series 5', ' Episode 2'],\n ['Series 3', ' Episode 4'],\n ['Series 1', ' Episode 20'],\n ['Series 29', ' Episode 4'],\n ['Series 30', ' Episode 1'],\n ['Series 3', ' 24/02/2022'],\n ['Series 1', ' Episode 5'],\n ['Series 29', ' Episode 2'],\n ['Series 2', ' 1. Group 1: Week 1'],\n ['Series 19', ' Week 4'],\n ['Series 1', ' 4. Birmingham Untucked'],\n ['Series 16', ' 5. Gaming'],\n ['Series 15', ' 19/05/2021'],\n ['Series 1', ' Episode 3'],\n ['Series 1', ' Episode 4'],\n ['Series 26', ' Episode 45'],\n ['Series 16', ' Episode 19'],\n ['Series 7', ' 7. Winter Olympics Special'],\n ['Series 21', ' Episode 22'],\n ['Series 16', ' 6. Wales'],\n ['Series 23', ' Episode 21'],\n ['Series 2', ' Episode 9'],\n ['Series 25', ' Episode 5'],\n ['Series 24', ' Episode 25'],\n ['Series 3', ' Episode 6'],\n ['Series 2', ' 4. Cardiff'],\n ['Series 1', ' Episode 16'],\n ['Series 19', ' Episode 10'],\n ['Series 16', ' Episode 2'],\n ['Series 1', ' Episode 23'],\n ['Series 17', ' 16. Ramblers v Data Wizards'],\n ['Series 17 Specials',\n  ' 2. The Birds and the Bees: Birdwatchers v Beekeepers'],\n ['Series 14', ' Episode 15'],\n ['Series 15', ' Episode 12'],\n ['Series 14', ' Episode 18'],\n ['Series 1', ' Episode 4'],\n ['Series 17', ' 13. Librarians v Animal Lovers'],\n ['Series 12', ' Episode 7'],\n ['Series 17', ' 7. Ramblers v Woolgatherers'],\n ['Series 18', ' Episode 11'],\n ['Series 3', ' Episode 3'],\n ['Series 28', ' Episode 23'],\n ['Series 27', ' Episode 2'],\n ['Series 3', ' Episode 2'],\n ['Series 2', ' Episode 7'],\n ['Series 2', ' 1. Halloween'],\n ['Series 10', ' Episode 17'],\n ['Series 1', ' Episode 4'],\n ['Series 4', ' Episode 2'],\n ['Series 13', ' Episode 6'],\n ['Series 19', ' Episode 25'],\n ['Series 17', ' Episode 9'],\n ['Series 4', ' Episode 1'],\n ['Series 2 - Celebrity Specials',\n  ' 2. Kadeena Cox and Tes / Sam Gowland and Georgia Harrison'],\n ['Series 1', ' 2. Passions'],\n ['Series 17 Specials', ' 4. Champions: 007s v Puzzle Hunters'],\n ['Series 21', ' Episode 21'],\n ['Series 19', ' Week 12'],\n ['Series 14', ' Episode 1'],\n ['Series 1', ' 9. Ink'],\n ['Series 5', ' Episode 9'],\n ['Series 17', ' 6. Debuggers v Steelers'],\n ['Series 5', ' Week 16: Wednesday'],\n ['Series 12', ' Episode 4'],\n ['Series 10', ' Episode 10'],\n ['Series 2', ' 4. Fresh'],\n ['Series 2', ' Episode 5'],\n ['Series 1', ' 2. How Many Slaves Do You Own?'],\n ['Series 21', ' Episode 25'],\n ['Series 1', ' Episode 1'],\n ['Series 3', ' 28/02/2022'],\n ['Series 19', ' Episode 58'],\n ['Series 28', ' Episode 19'],\n ['Series 2', ' 3. Manchester'],\n ['Series 1', ' Episode 5'],\n ['Series 14', ' Strictly'],\n ['Series 1', ' 1. Mess Rehearsals'],\n ['Series 13', ' Episode 22'],\n ['Series 4', ' Episode 12'],\n ['Series 3', ' 23/02/2022'],\n ['Series 18', ' Episode 1'],\n ['Series 29', ' Episode 18'],\n ['Series 26', ' Episode 31'],\n ['Series 3', ' 04/03/2022'],\n ['Series 4 - Celebrity Specials', ' Episode 2'],\n ['Series 14', ' Episode 9'],\n ['Series 1', ' 8. Essex'],\n ['Series 60', ' Detling 20'],\n ['Series 2', ' 2. Super Keeks'],\n ['Series 3', ' 09/03/2022'],\n ['Series 19', ' Episode 48'],\n ['Series 15', ' Episode 6'],\n ['Series 13', ' Episode 18'],\n ['Series 5', ' 84. Champions Week 1: Thursday'],\n ['Series 7', ' Episode 1'],\n ['Series 1', ' 5. Therapy For The Mind'],\n ['Series 8', ' Episode 13'],\n ['Series 4', ' 7. Puzzling Patterns and Pattern Cutting'],\n ['Series 24', ' Episode 3'],\n ['Series 26', ' Episode 38'],\n ['Series 6', ' Episode 11'],\n ['Series 6', ' Episode 10'],\n ['Series 18', ' Episode 1'],\n ['Series 30', ' Episode 2'],\n ['Series 6', ' Episode 4'],\n ['Series 5', ' 100. Champions Week 4: Friday'],\n ['Series 1', ' 2. Magic In The Garden'],\n ['Series 26', ' Episode 32'],\n ['Series 3', ' 27/01/2022'],\n ['Series 7', ' Episode 4'],\n ['Series 2', ' Episode 9'],\n ['Series 15', ' Episode 2'],\n ['Series 2', ' 8. Prom'],\n ['Series 1', ' Episode 5'],\n ['Series 2', ' 1. Birmingham'],\n ['Series 13', ' Episode 23'],\n ['Series 2', ' Episode 2'],\n ['Series 1', ' Episode 6'],\n ['Series 1', ' Episode 7'],\n ['Series 2', ' Episode 3'],\n ['Series 2', ' Episode 5'],\n ['Series 4', ' Episode 8'],\n ['Series 1', ' Episode 1'],\n ['Series 12', ' Episode 21'],\n ['Series 10', ' Episode 5'],\n ['Series 3', ' Episode 8'],\n ['Series 1', ' 2. Amber & Pat'],\n ['Series 1', ' Episode 4'],\n ['Series 19', ' Episode 41'],\n ['Series 19', ' Week 4 Results'],\n ['Series 1', ' Episode 1'],\n ['Series 12', ' Episode 12'],\n ['Series 3', ' Episode 2'],\n ['Series 2', ' Christmas Special'],\n ['Series 4', ' Episode 10'],\n ['Series 24', ' Episode 15'],\n ['Series 1', ' Episode 7'],\n ['Series 1', ' Episode 7'],\n ['Series 18', ' Episode 2'],\n ['Series 10', ' Episode 22'],\n ['Series 10', ' Episode 2'],\n ['Series 2', ' 3. You Do You'],\n ['Series 2', ' 8. Emotions and Promotions'],\n ['Series 3', ' Big Tyne: 4. \"Do you wanna shave your leg, or shall I?\"'],\n ['Series 14', ' Episode 8'],\n ['Series 1', ' Final'],\n ['Series 1', ' 5. Feel the bass'],\n ['Series 15', ' Episode 1'],\n ['Series 2', ' Episode 3'],\n ['Series 1', ' 3. Date Night'],\n ['Series 17', ' Episode 6'],\n ['Series 24', ' Episode 17'],\n ['Series 2', ' 2. Group 1: Week 2'],\n ['Series 17', ' 12. Godyn Family v Woolgatherers'],\n ['Series 27', ' Episode 5'],\n ['Series 1', ' Episode 4'],\n ['Series 3', ' 08/03/2022'],\n ['Series 29', ' Episode 1'],\n ['Series 6', ' Episode 5'],\n ['Series 1', ' 4. Why Are We So Anxious?'],\n ['Series 2', ' 1. Lost and Fierce'],\n ['Series 2', ' Episode 8'],\n ['Series 14', ' Episode 19'],\n ['Series 14', ' 10. The Unseen Bits'],\n ['Series 19', ' Episode 43'],\n ['Series 26', ' Episode 3'],\n ['Series 30', ' Episode 4'],\n ['Series 27', ' Episode 3'],\n ['Series 1', ' Episode 49'],\n ['Series 10', ' Episode 9'],\n ['Series 12', ' Episode 5'],\n ['Series 1', ' Episode 47'],\n ['Series 14', ' Episode 12'],\n ['Series 19', ' Week 5 Results'],\n ['Series  61', ' Ardingly 1'],\n ['Series 21', ' 6. Burma Special - Part 1'],\n ['Series 16', ' Meet the Candidates'],\n ['Series 16', ' Episode 24'],\n ['Series 1', ' Episode 5'],\n ['Series 17', ' 22. Golfers v Scrubs'],\n ['Series 23', ' Episode 24'],\n ['Series 3',\n  ' Big Tyne: 6. \"I looked like Phil Mitchell \\'til I was about three\"'],\n ['Series 3', ' 24/01/2022'],\n ['Series 11', ' Episode 6'],\n ['Series 1', ' Episode 8'],\n ['Series 6', ' Episode 7'],\n ['Series 1', ' Episode 15'],\n ['Series 5', ' Week 18: Friday'],\n ['Series 1', ' Episode 43'],\n ['Series 1', ' Episode 8'],\n ['Series 13', ' Episode 2'],\n ['Series 17', ' 19. Godyn Family v Ramblers'],\n ['Series 29', ' Episode 15'],\n ['Series 16', ' Episode 11'],\n ['Series 10', ' Episode 15'],\n ['Series 12', ' Episode 20'],\n ['Series 15', ' Episode 2'],\n ['Series 3', ' Episode 1'],\n ['Series 1', ' 1. Life in the Fast Lane'],\n ['Series 16', ' Episode 7'],\n ['Series 4', ' Episode 4'],\n ['Series 4', ' 3. Lingerie Week'],\n ['Series 1', ' 7. Miss Loose Jaw'],\n ['Series 1', ' Episode 6'],\n ['Series 3 - Celebrity Specials', ' Episode 1'],\n ['Series 28', ' Episode 20'],\n ['Series 15', ' Episode 7'],\n ['Series 1', ' 1. Strictly Special'],\n ['Series 1', ' 4. Scotland Heat'],\n ['Series 27', ' Episode 4'],\n ['Series 1', ' 5. Sleeper'],\n ['Series 15', ' 02/06/2021'],\n ['Series 14', ' Episode 12'],\n ['Series 3', ' Episode 9'],\n ['Series 1', ' Episode 3'],\n ['Series 4 - Celebrity Specials', ' Christmas Special'],\n ['Series 1', ' 5. Lewis'],\n ['Series 4', ' Episode 2'],\n ['Series 1', ' 2. NI Heat'],\n ['Series 19', ' Episode 28'],\n ['Series 12', ' Episode 1'],\n ['Series 1', ' Episode 10'],\n ['Series 20', ' Episode 2'],\n ['Series 15', ' Episode 10'],\n ['Series 13', ' Episode 3'],\n ['Series 1', ' Episode 48'],\n ['Series 10', ' Episode 1'],\n ['Series 14', ' Olympics and Paralympics'],\n ['Series 16', ' Episode 17'],\n ['Series 1', ' Episode 4'],\n ['Series 3', ' Episode 2'],\n ['Series 13', ' Episode 2'],\n ['Series 21', ' Episode 29'],\n ['Series 23', ' Episode 23'],\n ['Series 14', ' Presenters'],\n ['Series 1', ' 10. Christmas Special'],\n ['Series 1', ' Episode 7'],\n ['Series 1', ' Best Bits'],\n ['Series 51', ' Episode 24'],\n ['Series 2', ' 7. Making It Work'],\n ['Series 1', ' Episode 5'],\n ['Series 1', ' 6. Hopes and Dreams'],\n ['Series 29', ' Episode 13'],\n ['Series 2', ' Episode 6'],\n ['Series 1', ' 2. Kelsi and Hassan'],\n ['Series 13', ' Episode 1'],\n ['Series 1', ' 1. Buggy'],\n ['Series 21', ' Episode 16'],\n ['Series 2', ' 10. The Babe Magnet'],\n ['Series 16', ' 7. Pods'],\n ['Series 28', ' Episode 5'],\n ['Series 2', ' Episode 1'],\n ['Series 29', ' Episode 1'],\n ['Series 27', ' Episode 3'],\n ['Series 2', ' Episode 7'],\n ['Series 9', ' Episode 6'],\n ['Series S', ' 4. Sideshows, Stunts & Scavenger Hunts'],\n ['Series 5', ' Episode 6'],\n ['Series 24', ' Episode 24'],\n ['Series 19', ' Week 2 Results'],\n ['Series 1', ' 3. Robbie and Saf'],\n ['Series 10', ' Episode 8'],\n ['Series 14', ' Episode 4'],\n ['Series 2', ' 10. The Crossroads'],\n ['Series 1', ' Semi-Final 2'],\n ['Series 16', ' Episode 10'],\n ['Series 4', \" 2. Children's Week\"],\n ['Series 24', ' Episode 16'],\n ['Series 2', ' Episode 5'],\n ['Series 24', ' Episode 6'],\n ['Series 17', ' 28. The Final'],\n ['Series 1', ' Episode 14'],\n ['Series 3', ' Episode 1'],\n ['Series 60', ' Newark 14'],\n ['Series 1', ' 4. I’m not the best driver in the world'],\n ['Series 3', ' Episode 1'],\n ['Series 60', ' Malvern 31'],\n ['Series 2', ' Episode 3'],\n ['Series 1', ' Episode 50'],\n ['Series 1', ' Episode 2'],\n ['Series 19', ' Episode 31'],\n ['Series 17', ' Episode 8'],\n ['Series 16', ' Episode 6'],\n ['Series 23', ' Episode 19'],\n ['Series 29', ' Episode 3'],\n ['Series 2', ' 14. Happy and Hungover'],\n ['Series 2', ' 4. I don’t know what I’d do without Penny'],\n ['Series 16', ' Episode 4'],\n ['Series 4', ' Episode 1'],\n ['Series 18', ' Episode 7'],\n ['Series 14', ' Kids TV'],\n ['Series 2', ' Episode 2'],\n ['Series 14', ' Special'],\n ['Series 1', ' Episode 2'],\n ['Series 10', ' Episode 17'],\n ['Series 1', ' 1. Maisie Smith'],\n ['Series 1', ' 4. Bristol'],\n ['Series 15', ' Episode 9'],\n ['Series 1', ' 3. Dami'],\n ['Series S', ' 8. Seasons Greetings'],\n ['Series 1', ' 3. Leicestershire'],\n ['Series 3', ' 18/01/2022'],\n ['Series 1', ' Episode 2'],\n ['Series 15', ' Episode 5'],\n ['Series 16', ' Episode 13'],\n ['Series 13', ' Episode 24'],\n ['Series 10', ' Episode 4'],\n ['Series 4', ' Episode 7'],\n ['Series 13', ' Episode 1'],\n ['Series 3', ' 4. Fame and Fortune'],\n ...]"
     },
     "execution_count": 253,
     "metadata": {},
     "output_type": "execute_result"
    }
   ],
   "source": [
    "filter_series = [row.split(':', 1) for row in df['subtitle'] if row.startswith('Series')]\n",
    "filter_series"
   ],
   "metadata": {
    "collapsed": false,
    "pycharm": {
     "name": "#%%\n"
    }
   }
  },
  {
   "cell_type": "code",
   "execution_count": 266,
   "outputs": [
    {
     "data": {
      "text/plain": "                                    title  \\\n0      The 80s - Music’s Greatest Decade?   \n1                         Top of the Pops   \n2                               BBC Proms   \n3                                    Port   \n4      Sit Down, Stand Up with Greg James   \n...                                   ...   \n36883                     Bob the Builder   \n36886                           Go Buster   \n36891                         Chuggington   \n36893                      Justin's House   \n36897                Oti's Boogie Beebies   \n\n                                    subtitle  \\\n0              Series 1: 1. With Dylan Jones   \n1                                 02/07/1992   \n2      2021: Last Night of the Proms, Part 2   \n3                        Series 5: Episode 4   \n4                                       None   \n...                                      ...   \n36883              Series 8: 7. Ballroom Bob   \n36886           Stories: 5. Buster's Stories   \n36891       Badge Quest: 3. Rainbow Chuggers   \n36893            Series 2: 4. Going for Gold   \n36897              Series 1: 12. Upside Down   \n\n                                             description  \\\n0      Music author Dylan Jones argues that the 1980s...   \n1      With Arrested Development, Altern 8, Def Leppa...   \n2      Australian tenor Stuart Skelton is joined by L...   \n3      Previously unseen music from the series Port, ...   \n4      Tom Holland and Greg James cold call celebrity...   \n...                                                  ...   \n36883  Bob has been making secret early morning trips...   \n36886  Buster the bus has so many stories and adventu...   \n36891  The Chuggers need to solve a number of clues t...   \n36893  Justin's house hosts the Justinship Games, and...   \n36897  In this episode, Oti teaches us how to step an...   \n\n                                                   image  \\\n0      https://ichef.bbci.co.uk/images/ic/{recipe}/p0...   \n1      https://ichef.bbci.co.uk/images/ic/{recipe}/p0...   \n2      https://ichef.bbci.co.uk/images/ic/{recipe}/p0...   \n3      https://ichef.bbci.co.uk/images/ic/{recipe}/p0...   \n4      https://ichef.bbci.co.uk/images/ic/{recipe}/p0...   \n...                                                  ...   \n36883  https://ichef.bbci.co.uk/images/ic/{recipe}/p0...   \n36886  https://ichef.bbci.co.uk/images/ic/{recipe}/p0...   \n36891  https://ichef.bbci.co.uk/images/ic/{recipe}/p0...   \n36893  https://ichef.bbci.co.uk/images/ic/{recipe}/p0...   \n36897  https://ichef.bbci.co.uk/images/ic/{recipe}/p0...   \n\n                                                keywords  \\\n0      BBC, iPlayer, TV, The 80s - Music’s Greatest D...   \n1          BBC, iPlayer, TV, Top of the Pops, 02/07/1992   \n2      BBC, iPlayer, TV, BBC Proms, 2021: Last Night ...   \n3            BBC, iPlayer, TV, Port, Series 5: Episode 4   \n4      BBC, iPlayer, TV, Sit Down, Stand Up with Greg...   \n...                                                  ...   \n36883  BBC, iPlayer, TV, Bob the Builder, Series 8: 7...   \n36886  BBC, iPlayer, TV, Go Buster, Stories: 5. Buste...   \n36891  BBC, iPlayer, TV, Chuggington, Badge Quest: 3....   \n36893  BBC, iPlayer, TV, Justins House, Series 2: 4. ...   \n36897  BBC, iPlayer, TV, Otis Boogie Beebies, Series ...   \n\n                                                  syno_s  \\\n0      Music author Dylan Jones argues that the 1980s...   \n1      With Arrested Development, Altern 8, Def Leppa...   \n2      Australian tenor Stuart Skelton is joined by L...   \n3      Previously unseen music from the series Port, ...   \n4      Tom Holland and Greg James cold call celebrity...   \n...                                                  ...   \n36883  Bob has been making secret early morning trips...   \n36886  Buster the bus has so many stories and adventu...   \n36891  The Chuggers need to solve a number of clues t...   \n36893  Justin's house hosts the Justinship Games, and...   \n36897  In this episode, Oti teaches us how to step an...   \n\n                                                  syno_m  \\\n0      Music writer Dylan Jones puts the case that th...   \n1      Tony Dortie presents the pop chart programme, ...   \n2      Australian tenor Stuart Skelton is joined by L...   \n3      Julie Fowlis a’ lìbhrigeadh ceòl bhon t-sreath...   \n4      Tom Holland and Greg James cold call celebrity...   \n...                                                  ...   \n36883  Bob has been making secret early morning trips...   \n36886  Buster the bus has so many stories and adventu...   \n36891  Koko, Wilson and Brewster learn new skills and...   \n36893  Justin Fletcher entertains children with singi...   \n36897  Series for young children getting them to join...   \n\n                                                  syno_l       category  \\\n0      Eighties music is often dismissed as a joke - ...          Music   \n1      Tony Dortie presents the pop chart programme, ...          Music   \n2      Katie Derham hosts continued live coverage fro...          Music   \n3      Bidh Druthag Bheag Eile a’ tarraing ri chèile ...          Music   \n4      Tom Holland and Greg James cold call celebrity...  Entertainment   \n...                                                  ...            ...   \n36883  Bob has been making secret early morning trips...       CBeebies   \n36886  Buster the bus has so many stories and adventu...       CBeebies   \n36891  Koko, Wilson and Brewster learn new skills and...       CBeebies   \n36893  Justin Fletcher entertains a live audience of ...       CBeebies   \n36897  Series for young children getting them to join...       CBeebies   \n\n               channel language release_date  duration_min  \\\n0              BBC TWO    False         2021            59   \n1              BBC ONE    False         1992            29   \n2      BBC RADIO THREE    False         2021            87   \n3             BBC ALBA    False         2020            17   \n4        BBC RADIO ONE    False         2022            10   \n...                ...      ...          ...           ...   \n36883         CBEEBIES    False         2003            10   \n36886         CBEEBIES    False         2021            26   \n36891         CBEEBIES    False         2010             4   \n36893         CBEEBIES    False         2012            24   \n36897         CBEEBIES    False         2020             5   \n\n                          topic  \\\n0          music, documentaries   \n1                         music   \n2      music, from-the-archives   \n3                         music   \n4          music, entertainment   \n...                         ...   \n36883                  cbeebees   \n36886                  cbeebees   \n36891                  cbeebees   \n36893                  cbeebees   \n36897                  cbeebees   \n\n                                                 image_l  \\\n0      https://ichef.bbci.co.uk/images/ic/352x198/p09...   \n1      https://ichef.bbci.co.uk/images/ic/352x198/p0b...   \n2      https://ichef.bbci.co.uk/images/ic/352x198/p09...   \n3      https://ichef.bbci.co.uk/images/ic/352x198/p08...   \n4      https://ichef.bbci.co.uk/images/ic/352x198/p0b...   \n...                                                  ...   \n36883  https://ichef.bbci.co.uk/images/ic/352x198/p08...   \n36886  https://ichef.bbci.co.uk/images/ic/352x198/p09...   \n36891  https://ichef.bbci.co.uk/images/ic/352x198/p08...   \n36893  https://ichef.bbci.co.uk/images/ic/352x198/p09...   \n36897  https://ichef.bbci.co.uk/images/ic/352x198/p08...   \n\n                                                image_xl   first_part  \\\n0      https://ichef.bbci.co.uk/images/ic/1200x675/p0...     Series 1   \n1      https://ichef.bbci.co.uk/images/ic/1200x675/p0...         None   \n2      https://ichef.bbci.co.uk/images/ic/1200x675/p0...         2021   \n3      https://ichef.bbci.co.uk/images/ic/1200x675/p0...     Series 5   \n4      https://ichef.bbci.co.uk/images/ic/1200x675/p0...         None   \n...                                                  ...          ...   \n36883  https://ichef.bbci.co.uk/images/ic/1200x675/p0...     Series 8   \n36886  https://ichef.bbci.co.uk/images/ic/1200x675/p0...      Stories   \n36891  https://ichef.bbci.co.uk/images/ic/1200x675/p0...  Badge Quest   \n36893  https://ichef.bbci.co.uk/images/ic/1200x675/p0...     Series 2   \n36897  https://ichef.bbci.co.uk/images/ic/1200x675/p0...     Series 1   \n\n                            second_part    series               episode  \n0                   1. With Dylan Jones  Series 1   1. With Dylan Jones  \n1                                  None      None                  None  \n2       Last Night of the Proms, Part 2      None                  None  \n3                             Episode 4  Series 5             Episode 4  \n4                                  None      None                  None  \n...                                 ...       ...                   ...  \n36883                   7. Ballroom Bob  Series 8       7. Ballroom Bob  \n36886               5. Buster's Stories      None                  None  \n36891               3. Rainbow Chuggers      None                  None  \n36893                 4. Going for Gold  Series 2     4. Going for Gold  \n36897                   12. Upside Down  Series 1       12. Upside Down  \n\n[22757 rows x 20 columns]",
      "text/html": "<div>\n<style scoped>\n    .dataframe tbody tr th:only-of-type {\n        vertical-align: middle;\n    }\n\n    .dataframe tbody tr th {\n        vertical-align: top;\n    }\n\n    .dataframe thead th {\n        text-align: right;\n    }\n</style>\n<table border=\"1\" class=\"dataframe\">\n  <thead>\n    <tr style=\"text-align: right;\">\n      <th></th>\n      <th>title</th>\n      <th>subtitle</th>\n      <th>description</th>\n      <th>image</th>\n      <th>keywords</th>\n      <th>syno_s</th>\n      <th>syno_m</th>\n      <th>syno_l</th>\n      <th>category</th>\n      <th>channel</th>\n      <th>language</th>\n      <th>release_date</th>\n      <th>duration_min</th>\n      <th>topic</th>\n      <th>image_l</th>\n      <th>image_xl</th>\n      <th>first_part</th>\n      <th>second_part</th>\n      <th>series</th>\n      <th>episode</th>\n    </tr>\n  </thead>\n  <tbody>\n    <tr>\n      <th>0</th>\n      <td>The 80s - Music’s Greatest Decade?</td>\n      <td>Series 1: 1. With Dylan Jones</td>\n      <td>Music author Dylan Jones argues that the 1980s...</td>\n      <td>https://ichef.bbci.co.uk/images/ic/{recipe}/p0...</td>\n      <td>BBC, iPlayer, TV, The 80s - Music’s Greatest D...</td>\n      <td>Music author Dylan Jones argues that the 1980s...</td>\n      <td>Music writer Dylan Jones puts the case that th...</td>\n      <td>Eighties music is often dismissed as a joke - ...</td>\n      <td>Music</td>\n      <td>BBC TWO</td>\n      <td>False</td>\n      <td>2021</td>\n      <td>59</td>\n      <td>music, documentaries</td>\n      <td>https://ichef.bbci.co.uk/images/ic/352x198/p09...</td>\n      <td>https://ichef.bbci.co.uk/images/ic/1200x675/p0...</td>\n      <td>Series 1</td>\n      <td>1. With Dylan Jones</td>\n      <td>Series 1</td>\n      <td>1. With Dylan Jones</td>\n    </tr>\n    <tr>\n      <th>1</th>\n      <td>Top of the Pops</td>\n      <td>02/07/1992</td>\n      <td>With Arrested Development, Altern 8, Def Leppa...</td>\n      <td>https://ichef.bbci.co.uk/images/ic/{recipe}/p0...</td>\n      <td>BBC, iPlayer, TV, Top of the Pops, 02/07/1992</td>\n      <td>With Arrested Development, Altern 8, Def Leppa...</td>\n      <td>Tony Dortie presents the pop chart programme, ...</td>\n      <td>Tony Dortie presents the pop chart programme, ...</td>\n      <td>Music</td>\n      <td>BBC ONE</td>\n      <td>False</td>\n      <td>1992</td>\n      <td>29</td>\n      <td>music</td>\n      <td>https://ichef.bbci.co.uk/images/ic/352x198/p0b...</td>\n      <td>https://ichef.bbci.co.uk/images/ic/1200x675/p0...</td>\n      <td>None</td>\n      <td>None</td>\n      <td>None</td>\n      <td>None</td>\n    </tr>\n    <tr>\n      <th>2</th>\n      <td>BBC Proms</td>\n      <td>2021: Last Night of the Proms, Part 2</td>\n      <td>Australian tenor Stuart Skelton is joined by L...</td>\n      <td>https://ichef.bbci.co.uk/images/ic/{recipe}/p0...</td>\n      <td>BBC, iPlayer, TV, BBC Proms, 2021: Last Night ...</td>\n      <td>Australian tenor Stuart Skelton is joined by L...</td>\n      <td>Australian tenor Stuart Skelton is joined by L...</td>\n      <td>Katie Derham hosts continued live coverage fro...</td>\n      <td>Music</td>\n      <td>BBC RADIO THREE</td>\n      <td>False</td>\n      <td>2021</td>\n      <td>87</td>\n      <td>music, from-the-archives</td>\n      <td>https://ichef.bbci.co.uk/images/ic/352x198/p09...</td>\n      <td>https://ichef.bbci.co.uk/images/ic/1200x675/p0...</td>\n      <td>2021</td>\n      <td>Last Night of the Proms, Part 2</td>\n      <td>None</td>\n      <td>None</td>\n    </tr>\n    <tr>\n      <th>3</th>\n      <td>Port</td>\n      <td>Series 5: Episode 4</td>\n      <td>Previously unseen music from the series Port, ...</td>\n      <td>https://ichef.bbci.co.uk/images/ic/{recipe}/p0...</td>\n      <td>BBC, iPlayer, TV, Port, Series 5: Episode 4</td>\n      <td>Previously unseen music from the series Port, ...</td>\n      <td>Julie Fowlis a’ lìbhrigeadh ceòl bhon t-sreath...</td>\n      <td>Bidh Druthag Bheag Eile a’ tarraing ri chèile ...</td>\n      <td>Music</td>\n      <td>BBC ALBA</td>\n      <td>False</td>\n      <td>2020</td>\n      <td>17</td>\n      <td>music</td>\n      <td>https://ichef.bbci.co.uk/images/ic/352x198/p08...</td>\n      <td>https://ichef.bbci.co.uk/images/ic/1200x675/p0...</td>\n      <td>Series 5</td>\n      <td>Episode 4</td>\n      <td>Series 5</td>\n      <td>Episode 4</td>\n    </tr>\n    <tr>\n      <th>4</th>\n      <td>Sit Down, Stand Up with Greg James</td>\n      <td>None</td>\n      <td>Tom Holland and Greg James cold call celebrity...</td>\n      <td>https://ichef.bbci.co.uk/images/ic/{recipe}/p0...</td>\n      <td>BBC, iPlayer, TV, Sit Down, Stand Up with Greg...</td>\n      <td>Tom Holland and Greg James cold call celebrity...</td>\n      <td>Tom Holland and Greg James cold call celebrity...</td>\n      <td>Tom Holland and Greg James cold call celebrity...</td>\n      <td>Entertainment</td>\n      <td>BBC RADIO ONE</td>\n      <td>False</td>\n      <td>2022</td>\n      <td>10</td>\n      <td>music, entertainment</td>\n      <td>https://ichef.bbci.co.uk/images/ic/352x198/p0b...</td>\n      <td>https://ichef.bbci.co.uk/images/ic/1200x675/p0...</td>\n      <td>None</td>\n      <td>None</td>\n      <td>None</td>\n      <td>None</td>\n    </tr>\n    <tr>\n      <th>...</th>\n      <td>...</td>\n      <td>...</td>\n      <td>...</td>\n      <td>...</td>\n      <td>...</td>\n      <td>...</td>\n      <td>...</td>\n      <td>...</td>\n      <td>...</td>\n      <td>...</td>\n      <td>...</td>\n      <td>...</td>\n      <td>...</td>\n      <td>...</td>\n      <td>...</td>\n      <td>...</td>\n      <td>...</td>\n      <td>...</td>\n      <td>...</td>\n      <td>...</td>\n    </tr>\n    <tr>\n      <th>36883</th>\n      <td>Bob the Builder</td>\n      <td>Series 8: 7. Ballroom Bob</td>\n      <td>Bob has been making secret early morning trips...</td>\n      <td>https://ichef.bbci.co.uk/images/ic/{recipe}/p0...</td>\n      <td>BBC, iPlayer, TV, Bob the Builder, Series 8: 7...</td>\n      <td>Bob has been making secret early morning trips...</td>\n      <td>Bob has been making secret early morning trips...</td>\n      <td>Bob has been making secret early morning trips...</td>\n      <td>CBeebies</td>\n      <td>CBEEBIES</td>\n      <td>False</td>\n      <td>2003</td>\n      <td>10</td>\n      <td>cbeebees</td>\n      <td>https://ichef.bbci.co.uk/images/ic/352x198/p08...</td>\n      <td>https://ichef.bbci.co.uk/images/ic/1200x675/p0...</td>\n      <td>Series 8</td>\n      <td>7. Ballroom Bob</td>\n      <td>Series 8</td>\n      <td>7. Ballroom Bob</td>\n    </tr>\n    <tr>\n      <th>36886</th>\n      <td>Go Buster</td>\n      <td>Stories: 5. Buster's Stories</td>\n      <td>Buster the bus has so many stories and adventu...</td>\n      <td>https://ichef.bbci.co.uk/images/ic/{recipe}/p0...</td>\n      <td>BBC, iPlayer, TV, Go Buster, Stories: 5. Buste...</td>\n      <td>Buster the bus has so many stories and adventu...</td>\n      <td>Buster the bus has so many stories and adventu...</td>\n      <td>Buster the bus has so many stories and adventu...</td>\n      <td>CBeebies</td>\n      <td>CBEEBIES</td>\n      <td>False</td>\n      <td>2021</td>\n      <td>26</td>\n      <td>cbeebees</td>\n      <td>https://ichef.bbci.co.uk/images/ic/352x198/p09...</td>\n      <td>https://ichef.bbci.co.uk/images/ic/1200x675/p0...</td>\n      <td>Stories</td>\n      <td>5. Buster's Stories</td>\n      <td>None</td>\n      <td>None</td>\n    </tr>\n    <tr>\n      <th>36891</th>\n      <td>Chuggington</td>\n      <td>Badge Quest: 3. Rainbow Chuggers</td>\n      <td>The Chuggers need to solve a number of clues t...</td>\n      <td>https://ichef.bbci.co.uk/images/ic/{recipe}/p0...</td>\n      <td>BBC, iPlayer, TV, Chuggington, Badge Quest: 3....</td>\n      <td>The Chuggers need to solve a number of clues t...</td>\n      <td>Koko, Wilson and Brewster learn new skills and...</td>\n      <td>Koko, Wilson and Brewster learn new skills and...</td>\n      <td>CBeebies</td>\n      <td>CBEEBIES</td>\n      <td>False</td>\n      <td>2010</td>\n      <td>4</td>\n      <td>cbeebees</td>\n      <td>https://ichef.bbci.co.uk/images/ic/352x198/p08...</td>\n      <td>https://ichef.bbci.co.uk/images/ic/1200x675/p0...</td>\n      <td>Badge Quest</td>\n      <td>3. Rainbow Chuggers</td>\n      <td>None</td>\n      <td>None</td>\n    </tr>\n    <tr>\n      <th>36893</th>\n      <td>Justin's House</td>\n      <td>Series 2: 4. Going for Gold</td>\n      <td>Justin's house hosts the Justinship Games, and...</td>\n      <td>https://ichef.bbci.co.uk/images/ic/{recipe}/p0...</td>\n      <td>BBC, iPlayer, TV, Justins House, Series 2: 4. ...</td>\n      <td>Justin's house hosts the Justinship Games, and...</td>\n      <td>Justin Fletcher entertains children with singi...</td>\n      <td>Justin Fletcher entertains a live audience of ...</td>\n      <td>CBeebies</td>\n      <td>CBEEBIES</td>\n      <td>False</td>\n      <td>2012</td>\n      <td>24</td>\n      <td>cbeebees</td>\n      <td>https://ichef.bbci.co.uk/images/ic/352x198/p09...</td>\n      <td>https://ichef.bbci.co.uk/images/ic/1200x675/p0...</td>\n      <td>Series 2</td>\n      <td>4. Going for Gold</td>\n      <td>Series 2</td>\n      <td>4. Going for Gold</td>\n    </tr>\n    <tr>\n      <th>36897</th>\n      <td>Oti's Boogie Beebies</td>\n      <td>Series 1: 12. Upside Down</td>\n      <td>In this episode, Oti teaches us how to step an...</td>\n      <td>https://ichef.bbci.co.uk/images/ic/{recipe}/p0...</td>\n      <td>BBC, iPlayer, TV, Otis Boogie Beebies, Series ...</td>\n      <td>In this episode, Oti teaches us how to step an...</td>\n      <td>Series for young children getting them to join...</td>\n      <td>Series for young children getting them to join...</td>\n      <td>CBeebies</td>\n      <td>CBEEBIES</td>\n      <td>False</td>\n      <td>2020</td>\n      <td>5</td>\n      <td>cbeebees</td>\n      <td>https://ichef.bbci.co.uk/images/ic/352x198/p08...</td>\n      <td>https://ichef.bbci.co.uk/images/ic/1200x675/p0...</td>\n      <td>Series 1</td>\n      <td>12. Upside Down</td>\n      <td>Series 1</td>\n      <td>12. Upside Down</td>\n    </tr>\n  </tbody>\n</table>\n<p>22757 rows × 20 columns</p>\n</div>"
     },
     "execution_count": 266,
     "metadata": {},
     "output_type": "execute_result"
    }
   ],
   "source": [
    "df"
   ],
   "metadata": {
    "collapsed": false,
    "pycharm": {
     "name": "#%%\n"
    }
   }
  },
  {
   "cell_type": "code",
   "execution_count": 269,
   "outputs": [],
   "source": [
    "import re\n",
    "def extract_series_episode(df):\n",
    "    df['series'] = 'None'\n",
    "    df['episode'] = 'None'\n",
    "    for i, entry in df.iterrows():\n",
    "        if re.match('Series*:*', entry['subtitle']):\n",
    "            split_array = entry['subtitle'].split(':', 1)\n",
    "            df.loc[i, 'series'] = split_array[0]\n",
    "            df.loc[i, 'episode'] = split_array[1]\n",
    "extract_series_episode(df)"
   ],
   "metadata": {
    "collapsed": false,
    "pycharm": {
     "name": "#%%\n"
    }
   }
  },
  {
   "cell_type": "code",
   "execution_count": 270,
   "outputs": [
    {
     "data": {
      "text/plain": "                                    title  \\\n0      The 80s - Music’s Greatest Decade?   \n1                         Top of the Pops   \n2                               BBC Proms   \n3                                    Port   \n4      Sit Down, Stand Up with Greg James   \n...                                   ...   \n36883                     Bob the Builder   \n36886                           Go Buster   \n36891                         Chuggington   \n36893                      Justin's House   \n36897                Oti's Boogie Beebies   \n\n                                    subtitle  \\\n0              Series 1: 1. With Dylan Jones   \n1                                 02/07/1992   \n2      2021: Last Night of the Proms, Part 2   \n3                        Series 5: Episode 4   \n4                                       None   \n...                                      ...   \n36883              Series 8: 7. Ballroom Bob   \n36886           Stories: 5. Buster's Stories   \n36891       Badge Quest: 3. Rainbow Chuggers   \n36893            Series 2: 4. Going for Gold   \n36897              Series 1: 12. Upside Down   \n\n                                             description  \\\n0      Music author Dylan Jones argues that the 1980s...   \n1      With Arrested Development, Altern 8, Def Leppa...   \n2      Australian tenor Stuart Skelton is joined by L...   \n3      Previously unseen music from the series Port, ...   \n4      Tom Holland and Greg James cold call celebrity...   \n...                                                  ...   \n36883  Bob has been making secret early morning trips...   \n36886  Buster the bus has so many stories and adventu...   \n36891  The Chuggers need to solve a number of clues t...   \n36893  Justin's house hosts the Justinship Games, and...   \n36897  In this episode, Oti teaches us how to step an...   \n\n                                                   image  \\\n0      https://ichef.bbci.co.uk/images/ic/{recipe}/p0...   \n1      https://ichef.bbci.co.uk/images/ic/{recipe}/p0...   \n2      https://ichef.bbci.co.uk/images/ic/{recipe}/p0...   \n3      https://ichef.bbci.co.uk/images/ic/{recipe}/p0...   \n4      https://ichef.bbci.co.uk/images/ic/{recipe}/p0...   \n...                                                  ...   \n36883  https://ichef.bbci.co.uk/images/ic/{recipe}/p0...   \n36886  https://ichef.bbci.co.uk/images/ic/{recipe}/p0...   \n36891  https://ichef.bbci.co.uk/images/ic/{recipe}/p0...   \n36893  https://ichef.bbci.co.uk/images/ic/{recipe}/p0...   \n36897  https://ichef.bbci.co.uk/images/ic/{recipe}/p0...   \n\n                                                keywords  \\\n0      BBC, iPlayer, TV, The 80s - Music’s Greatest D...   \n1          BBC, iPlayer, TV, Top of the Pops, 02/07/1992   \n2      BBC, iPlayer, TV, BBC Proms, 2021: Last Night ...   \n3            BBC, iPlayer, TV, Port, Series 5: Episode 4   \n4      BBC, iPlayer, TV, Sit Down, Stand Up with Greg...   \n...                                                  ...   \n36883  BBC, iPlayer, TV, Bob the Builder, Series 8: 7...   \n36886  BBC, iPlayer, TV, Go Buster, Stories: 5. Buste...   \n36891  BBC, iPlayer, TV, Chuggington, Badge Quest: 3....   \n36893  BBC, iPlayer, TV, Justins House, Series 2: 4. ...   \n36897  BBC, iPlayer, TV, Otis Boogie Beebies, Series ...   \n\n                                                  syno_s  \\\n0      Music author Dylan Jones argues that the 1980s...   \n1      With Arrested Development, Altern 8, Def Leppa...   \n2      Australian tenor Stuart Skelton is joined by L...   \n3      Previously unseen music from the series Port, ...   \n4      Tom Holland and Greg James cold call celebrity...   \n...                                                  ...   \n36883  Bob has been making secret early morning trips...   \n36886  Buster the bus has so many stories and adventu...   \n36891  The Chuggers need to solve a number of clues t...   \n36893  Justin's house hosts the Justinship Games, and...   \n36897  In this episode, Oti teaches us how to step an...   \n\n                                                  syno_m  \\\n0      Music writer Dylan Jones puts the case that th...   \n1      Tony Dortie presents the pop chart programme, ...   \n2      Australian tenor Stuart Skelton is joined by L...   \n3      Julie Fowlis a’ lìbhrigeadh ceòl bhon t-sreath...   \n4      Tom Holland and Greg James cold call celebrity...   \n...                                                  ...   \n36883  Bob has been making secret early morning trips...   \n36886  Buster the bus has so many stories and adventu...   \n36891  Koko, Wilson and Brewster learn new skills and...   \n36893  Justin Fletcher entertains children with singi...   \n36897  Series for young children getting them to join...   \n\n                                                  syno_l       category  \\\n0      Eighties music is often dismissed as a joke - ...          Music   \n1      Tony Dortie presents the pop chart programme, ...          Music   \n2      Katie Derham hosts continued live coverage fro...          Music   \n3      Bidh Druthag Bheag Eile a’ tarraing ri chèile ...          Music   \n4      Tom Holland and Greg James cold call celebrity...  Entertainment   \n...                                                  ...            ...   \n36883  Bob has been making secret early morning trips...       CBeebies   \n36886  Buster the bus has so many stories and adventu...       CBeebies   \n36891  Koko, Wilson and Brewster learn new skills and...       CBeebies   \n36893  Justin Fletcher entertains a live audience of ...       CBeebies   \n36897  Series for young children getting them to join...       CBeebies   \n\n               channel language  release_date  duration_min  \\\n0              BBC TWO    False          2021            59   \n1              BBC ONE    False          1992            29   \n2      BBC RADIO THREE    False          2021            87   \n3             BBC ALBA    False          2020            17   \n4        BBC RADIO ONE    False          2022            10   \n...                ...      ...           ...           ...   \n36883         CBEEBIES    False          2003            10   \n36886         CBEEBIES    False          2021            26   \n36891         CBEEBIES    False          2010             4   \n36893         CBEEBIES    False          2012            24   \n36897         CBEEBIES    False          2020             5   \n\n                          topic  \\\n0          music, documentaries   \n1                         music   \n2      music, from-the-archives   \n3                         music   \n4          music, entertainment   \n...                         ...   \n36883                  cbeebees   \n36886                  cbeebees   \n36891                  cbeebees   \n36893                  cbeebees   \n36897                  cbeebees   \n\n                                                 image_l  \\\n0      https://ichef.bbci.co.uk/images/ic/352x198/p09...   \n1      https://ichef.bbci.co.uk/images/ic/352x198/p0b...   \n2      https://ichef.bbci.co.uk/images/ic/352x198/p09...   \n3      https://ichef.bbci.co.uk/images/ic/352x198/p08...   \n4      https://ichef.bbci.co.uk/images/ic/352x198/p0b...   \n...                                                  ...   \n36883  https://ichef.bbci.co.uk/images/ic/352x198/p08...   \n36886  https://ichef.bbci.co.uk/images/ic/352x198/p09...   \n36891  https://ichef.bbci.co.uk/images/ic/352x198/p08...   \n36893  https://ichef.bbci.co.uk/images/ic/352x198/p09...   \n36897  https://ichef.bbci.co.uk/images/ic/352x198/p08...   \n\n                                                image_xl    series  \\\n0      https://ichef.bbci.co.uk/images/ic/1200x675/p0...  Series 1   \n1      https://ichef.bbci.co.uk/images/ic/1200x675/p0...      None   \n2      https://ichef.bbci.co.uk/images/ic/1200x675/p0...      None   \n3      https://ichef.bbci.co.uk/images/ic/1200x675/p0...  Series 5   \n4      https://ichef.bbci.co.uk/images/ic/1200x675/p0...      None   \n...                                                  ...       ...   \n36883  https://ichef.bbci.co.uk/images/ic/1200x675/p0...  Series 8   \n36886  https://ichef.bbci.co.uk/images/ic/1200x675/p0...      None   \n36891  https://ichef.bbci.co.uk/images/ic/1200x675/p0...      None   \n36893  https://ichef.bbci.co.uk/images/ic/1200x675/p0...  Series 2   \n36897  https://ichef.bbci.co.uk/images/ic/1200x675/p0...  Series 1   \n\n                    episode  \n0       1. With Dylan Jones  \n1                      None  \n2                      None  \n3                 Episode 4  \n4                      None  \n...                     ...  \n36883       7. Ballroom Bob  \n36886                  None  \n36891                  None  \n36893     4. Going for Gold  \n36897       12. Upside Down  \n\n[22757 rows x 18 columns]",
      "text/html": "<div>\n<style scoped>\n    .dataframe tbody tr th:only-of-type {\n        vertical-align: middle;\n    }\n\n    .dataframe tbody tr th {\n        vertical-align: top;\n    }\n\n    .dataframe thead th {\n        text-align: right;\n    }\n</style>\n<table border=\"1\" class=\"dataframe\">\n  <thead>\n    <tr style=\"text-align: right;\">\n      <th></th>\n      <th>title</th>\n      <th>subtitle</th>\n      <th>description</th>\n      <th>image</th>\n      <th>keywords</th>\n      <th>syno_s</th>\n      <th>syno_m</th>\n      <th>syno_l</th>\n      <th>category</th>\n      <th>channel</th>\n      <th>language</th>\n      <th>release_date</th>\n      <th>duration_min</th>\n      <th>topic</th>\n      <th>image_l</th>\n      <th>image_xl</th>\n      <th>series</th>\n      <th>episode</th>\n    </tr>\n  </thead>\n  <tbody>\n    <tr>\n      <th>0</th>\n      <td>The 80s - Music’s Greatest Decade?</td>\n      <td>Series 1: 1. With Dylan Jones</td>\n      <td>Music author Dylan Jones argues that the 1980s...</td>\n      <td>https://ichef.bbci.co.uk/images/ic/{recipe}/p0...</td>\n      <td>BBC, iPlayer, TV, The 80s - Music’s Greatest D...</td>\n      <td>Music author Dylan Jones argues that the 1980s...</td>\n      <td>Music writer Dylan Jones puts the case that th...</td>\n      <td>Eighties music is often dismissed as a joke - ...</td>\n      <td>Music</td>\n      <td>BBC TWO</td>\n      <td>False</td>\n      <td>2021</td>\n      <td>59</td>\n      <td>music, documentaries</td>\n      <td>https://ichef.bbci.co.uk/images/ic/352x198/p09...</td>\n      <td>https://ichef.bbci.co.uk/images/ic/1200x675/p0...</td>\n      <td>Series 1</td>\n      <td>1. With Dylan Jones</td>\n    </tr>\n    <tr>\n      <th>1</th>\n      <td>Top of the Pops</td>\n      <td>02/07/1992</td>\n      <td>With Arrested Development, Altern 8, Def Leppa...</td>\n      <td>https://ichef.bbci.co.uk/images/ic/{recipe}/p0...</td>\n      <td>BBC, iPlayer, TV, Top of the Pops, 02/07/1992</td>\n      <td>With Arrested Development, Altern 8, Def Leppa...</td>\n      <td>Tony Dortie presents the pop chart programme, ...</td>\n      <td>Tony Dortie presents the pop chart programme, ...</td>\n      <td>Music</td>\n      <td>BBC ONE</td>\n      <td>False</td>\n      <td>1992</td>\n      <td>29</td>\n      <td>music</td>\n      <td>https://ichef.bbci.co.uk/images/ic/352x198/p0b...</td>\n      <td>https://ichef.bbci.co.uk/images/ic/1200x675/p0...</td>\n      <td>None</td>\n      <td>None</td>\n    </tr>\n    <tr>\n      <th>2</th>\n      <td>BBC Proms</td>\n      <td>2021: Last Night of the Proms, Part 2</td>\n      <td>Australian tenor Stuart Skelton is joined by L...</td>\n      <td>https://ichef.bbci.co.uk/images/ic/{recipe}/p0...</td>\n      <td>BBC, iPlayer, TV, BBC Proms, 2021: Last Night ...</td>\n      <td>Australian tenor Stuart Skelton is joined by L...</td>\n      <td>Australian tenor Stuart Skelton is joined by L...</td>\n      <td>Katie Derham hosts continued live coverage fro...</td>\n      <td>Music</td>\n      <td>BBC RADIO THREE</td>\n      <td>False</td>\n      <td>2021</td>\n      <td>87</td>\n      <td>music, from-the-archives</td>\n      <td>https://ichef.bbci.co.uk/images/ic/352x198/p09...</td>\n      <td>https://ichef.bbci.co.uk/images/ic/1200x675/p0...</td>\n      <td>None</td>\n      <td>None</td>\n    </tr>\n    <tr>\n      <th>3</th>\n      <td>Port</td>\n      <td>Series 5: Episode 4</td>\n      <td>Previously unseen music from the series Port, ...</td>\n      <td>https://ichef.bbci.co.uk/images/ic/{recipe}/p0...</td>\n      <td>BBC, iPlayer, TV, Port, Series 5: Episode 4</td>\n      <td>Previously unseen music from the series Port, ...</td>\n      <td>Julie Fowlis a’ lìbhrigeadh ceòl bhon t-sreath...</td>\n      <td>Bidh Druthag Bheag Eile a’ tarraing ri chèile ...</td>\n      <td>Music</td>\n      <td>BBC ALBA</td>\n      <td>False</td>\n      <td>2020</td>\n      <td>17</td>\n      <td>music</td>\n      <td>https://ichef.bbci.co.uk/images/ic/352x198/p08...</td>\n      <td>https://ichef.bbci.co.uk/images/ic/1200x675/p0...</td>\n      <td>Series 5</td>\n      <td>Episode 4</td>\n    </tr>\n    <tr>\n      <th>4</th>\n      <td>Sit Down, Stand Up with Greg James</td>\n      <td>None</td>\n      <td>Tom Holland and Greg James cold call celebrity...</td>\n      <td>https://ichef.bbci.co.uk/images/ic/{recipe}/p0...</td>\n      <td>BBC, iPlayer, TV, Sit Down, Stand Up with Greg...</td>\n      <td>Tom Holland and Greg James cold call celebrity...</td>\n      <td>Tom Holland and Greg James cold call celebrity...</td>\n      <td>Tom Holland and Greg James cold call celebrity...</td>\n      <td>Entertainment</td>\n      <td>BBC RADIO ONE</td>\n      <td>False</td>\n      <td>2022</td>\n      <td>10</td>\n      <td>music, entertainment</td>\n      <td>https://ichef.bbci.co.uk/images/ic/352x198/p0b...</td>\n      <td>https://ichef.bbci.co.uk/images/ic/1200x675/p0...</td>\n      <td>None</td>\n      <td>None</td>\n    </tr>\n    <tr>\n      <th>...</th>\n      <td>...</td>\n      <td>...</td>\n      <td>...</td>\n      <td>...</td>\n      <td>...</td>\n      <td>...</td>\n      <td>...</td>\n      <td>...</td>\n      <td>...</td>\n      <td>...</td>\n      <td>...</td>\n      <td>...</td>\n      <td>...</td>\n      <td>...</td>\n      <td>...</td>\n      <td>...</td>\n      <td>...</td>\n      <td>...</td>\n    </tr>\n    <tr>\n      <th>36883</th>\n      <td>Bob the Builder</td>\n      <td>Series 8: 7. Ballroom Bob</td>\n      <td>Bob has been making secret early morning trips...</td>\n      <td>https://ichef.bbci.co.uk/images/ic/{recipe}/p0...</td>\n      <td>BBC, iPlayer, TV, Bob the Builder, Series 8: 7...</td>\n      <td>Bob has been making secret early morning trips...</td>\n      <td>Bob has been making secret early morning trips...</td>\n      <td>Bob has been making secret early morning trips...</td>\n      <td>CBeebies</td>\n      <td>CBEEBIES</td>\n      <td>False</td>\n      <td>2003</td>\n      <td>10</td>\n      <td>cbeebees</td>\n      <td>https://ichef.bbci.co.uk/images/ic/352x198/p08...</td>\n      <td>https://ichef.bbci.co.uk/images/ic/1200x675/p0...</td>\n      <td>Series 8</td>\n      <td>7. Ballroom Bob</td>\n    </tr>\n    <tr>\n      <th>36886</th>\n      <td>Go Buster</td>\n      <td>Stories: 5. Buster's Stories</td>\n      <td>Buster the bus has so many stories and adventu...</td>\n      <td>https://ichef.bbci.co.uk/images/ic/{recipe}/p0...</td>\n      <td>BBC, iPlayer, TV, Go Buster, Stories: 5. Buste...</td>\n      <td>Buster the bus has so many stories and adventu...</td>\n      <td>Buster the bus has so many stories and adventu...</td>\n      <td>Buster the bus has so many stories and adventu...</td>\n      <td>CBeebies</td>\n      <td>CBEEBIES</td>\n      <td>False</td>\n      <td>2021</td>\n      <td>26</td>\n      <td>cbeebees</td>\n      <td>https://ichef.bbci.co.uk/images/ic/352x198/p09...</td>\n      <td>https://ichef.bbci.co.uk/images/ic/1200x675/p0...</td>\n      <td>None</td>\n      <td>None</td>\n    </tr>\n    <tr>\n      <th>36891</th>\n      <td>Chuggington</td>\n      <td>Badge Quest: 3. Rainbow Chuggers</td>\n      <td>The Chuggers need to solve a number of clues t...</td>\n      <td>https://ichef.bbci.co.uk/images/ic/{recipe}/p0...</td>\n      <td>BBC, iPlayer, TV, Chuggington, Badge Quest: 3....</td>\n      <td>The Chuggers need to solve a number of clues t...</td>\n      <td>Koko, Wilson and Brewster learn new skills and...</td>\n      <td>Koko, Wilson and Brewster learn new skills and...</td>\n      <td>CBeebies</td>\n      <td>CBEEBIES</td>\n      <td>False</td>\n      <td>2010</td>\n      <td>4</td>\n      <td>cbeebees</td>\n      <td>https://ichef.bbci.co.uk/images/ic/352x198/p08...</td>\n      <td>https://ichef.bbci.co.uk/images/ic/1200x675/p0...</td>\n      <td>None</td>\n      <td>None</td>\n    </tr>\n    <tr>\n      <th>36893</th>\n      <td>Justin's House</td>\n      <td>Series 2: 4. Going for Gold</td>\n      <td>Justin's house hosts the Justinship Games, and...</td>\n      <td>https://ichef.bbci.co.uk/images/ic/{recipe}/p0...</td>\n      <td>BBC, iPlayer, TV, Justins House, Series 2: 4. ...</td>\n      <td>Justin's house hosts the Justinship Games, and...</td>\n      <td>Justin Fletcher entertains children with singi...</td>\n      <td>Justin Fletcher entertains a live audience of ...</td>\n      <td>CBeebies</td>\n      <td>CBEEBIES</td>\n      <td>False</td>\n      <td>2012</td>\n      <td>24</td>\n      <td>cbeebees</td>\n      <td>https://ichef.bbci.co.uk/images/ic/352x198/p09...</td>\n      <td>https://ichef.bbci.co.uk/images/ic/1200x675/p0...</td>\n      <td>Series 2</td>\n      <td>4. Going for Gold</td>\n    </tr>\n    <tr>\n      <th>36897</th>\n      <td>Oti's Boogie Beebies</td>\n      <td>Series 1: 12. Upside Down</td>\n      <td>In this episode, Oti teaches us how to step an...</td>\n      <td>https://ichef.bbci.co.uk/images/ic/{recipe}/p0...</td>\n      <td>BBC, iPlayer, TV, Otis Boogie Beebies, Series ...</td>\n      <td>In this episode, Oti teaches us how to step an...</td>\n      <td>Series for young children getting them to join...</td>\n      <td>Series for young children getting them to join...</td>\n      <td>CBeebies</td>\n      <td>CBEEBIES</td>\n      <td>False</td>\n      <td>2020</td>\n      <td>5</td>\n      <td>cbeebees</td>\n      <td>https://ichef.bbci.co.uk/images/ic/352x198/p08...</td>\n      <td>https://ichef.bbci.co.uk/images/ic/1200x675/p0...</td>\n      <td>Series 1</td>\n      <td>12. Upside Down</td>\n    </tr>\n  </tbody>\n</table>\n<p>22757 rows × 18 columns</p>\n</div>"
     },
     "execution_count": 270,
     "metadata": {},
     "output_type": "execute_result"
    }
   ],
   "source": [
    "df"
   ],
   "metadata": {
    "collapsed": false,
    "pycharm": {
     "name": "#%%\n"
    }
   }
  },
  {
   "cell_type": "code",
   "execution_count": 272,
   "outputs": [],
   "source": [
    "df.to_csv('bbc.csv', sep=';')"
   ],
   "metadata": {
    "collapsed": false,
    "pycharm": {
     "name": "#%%\n"
    }
   }
  },
  {
   "cell_type": "markdown",
   "source": [],
   "metadata": {
    "collapsed": false
   }
  },
  {
   "cell_type": "markdown",
   "source": [
    "## TF-IDF"
   ],
   "metadata": {
    "collapsed": false
   }
  },
  {
   "cell_type": "code",
   "execution_count": 4,
   "outputs": [],
   "source": [
    "df['mixed_text'] = df['title'] + ' ' + df['description'] + ' ' + df['syno_l'] + ' ' + df['category']"
   ],
   "metadata": {
    "collapsed": false,
    "pycharm": {
     "name": "#%%\n"
    }
   }
  },
  {
   "cell_type": "code",
   "execution_count": 5,
   "outputs": [],
   "source": [
    "import nltk\n",
    "from nltk.corpus import stopwords\n",
    "lemmatizer = nltk.stem.WordNetLemmatizer()\n",
    "\n",
    "def clean_text(x, stop_words):\n",
    "  if pd.isna(x) == False:\n",
    "    x = x.lower()\n",
    "    x = x.translate(str.maketrans(' ', ' ', string.punctuation))\n",
    "    x = x.strip()\n",
    "\n",
    "    x = nltk.word_tokenize(x)\n",
    "    x = [token for token in x if not token in stop_words]\n",
    "    x = ' '.join([lemmatizer.lemmatize(w) for w in x])\n",
    "  else:\n",
    "    x = ''\n",
    "\n",
    "  return x"
   ],
   "metadata": {
    "collapsed": false,
    "pycharm": {
     "name": "#%%\n"
    }
   }
  },
  {
   "cell_type": "code",
   "execution_count": 6,
   "outputs": [],
   "source": [
    "stop_words = stopwords.words('english')\n",
    "df['cleaned_mixed_text'] = df['mixed_text'].apply(lambda x: clean_text(x, stop_words))"
   ],
   "metadata": {
    "collapsed": false,
    "pycharm": {
     "name": "#%%\n"
    }
   }
  },
  {
   "cell_type": "code",
   "execution_count": 7,
   "outputs": [
    {
     "data": {
      "text/plain": "0       bbc prom australian tenor stuart skelton joine...\n1       port previously unseen music series port julie...\n2       sit stand greg james tom holland greg james co...\n3       ceiliúradh na féile pádraig john toal pauline ...\n4       song praise claire mccollum explores edinburgh...\n                              ...                        \n3777    model street catwalk kyra ’ late arrival put m...\n3789    death i95 returning u find happened people met...\n3793    black life still matter grime artist saskilla ...\n3797    ar sliabh paul pack return native armagh siún ...\n3800    avicii true story avicii true story tim bergli...\nName: cleaned_mixed_text, Length: 2326, dtype: object"
     },
     "execution_count": 7,
     "metadata": {},
     "output_type": "execute_result"
    }
   ],
   "source": [
    "df['cleaned_mixed_text']"
   ],
   "metadata": {
    "collapsed": false,
    "pycharm": {
     "name": "#%%\n"
    }
   }
  },
  {
   "cell_type": "code",
   "execution_count": 10,
   "outputs": [
    {
     "name": "stderr",
     "output_type": "stream",
     "text": [
      "/Users/hagenaadfock/miniforge3/envs/default/lib/python3.8/site-packages/sklearn/utils/deprecation.py:87: FutureWarning: Function get_feature_names is deprecated; get_feature_names is deprecated in 1.0 and will be removed in 1.2. Please use get_feature_names_out instead.\n",
      "  warnings.warn(msg, category=FutureWarning)\n"
     ]
    },
    {
     "data": {
      "text/plain": "       10      100  1000  10000  100000  100th  107  10th   11   12  ...  \\\n0     0.0  0.00000   0.0    0.0     0.0    0.0  0.0   0.0  0.0  0.0  ...   \n1     0.0  0.00000   0.0    0.0     0.0    0.0  0.0   0.0  0.0  0.0  ...   \n2     0.0  0.00000   0.0    0.0     0.0    0.0  0.0   0.0  0.0  0.0  ...   \n3     0.0  0.00000   0.0    0.0     0.0    0.0  0.0   0.0  0.0  0.0  ...   \n4     0.0  0.07281   0.0    0.0     0.0    0.0  0.0   0.0  0.0  0.0  ...   \n...   ...      ...   ...    ...     ...    ...  ...   ...  ...  ...  ...   \n2321  0.0  0.00000   0.0    0.0     0.0    0.0  0.0   0.0  0.0  0.0  ...   \n2322  0.0  0.00000   0.0    0.0     0.0    0.0  0.0   0.0  0.0  0.0  ...   \n2323  0.0  0.00000   0.0    0.0     0.0    0.0  0.0   0.0  0.0  0.0  ...   \n2324  0.0  0.00000   0.0    0.0     0.0    0.0  0.0   0.0  0.0  0.0  ...   \n2325  0.0  0.00000   0.0    0.0     0.0    0.0  0.0   0.0  0.0  0.0  ...   \n\n            às   áitiúil   òg  òga  òrain      òran        óg   ùr  ùra  údar  \n0     0.000000  0.000000  0.0  0.0    0.0  0.000000  0.000000  0.0  0.0   0.0  \n1     0.051456  0.000000  0.0  0.0    0.0  0.064423  0.124002  0.0  0.0   0.0  \n2     0.000000  0.000000  0.0  0.0    0.0  0.000000  0.000000  0.0  0.0   0.0  \n3     0.000000  0.000000  0.0  0.0    0.0  0.000000  0.000000  0.0  0.0   0.0  \n4     0.000000  0.000000  0.0  0.0    0.0  0.000000  0.000000  0.0  0.0   0.0  \n...        ...       ...  ...  ...    ...       ...       ...  ...  ...   ...  \n2321  0.000000  0.000000  0.0  0.0    0.0  0.000000  0.000000  0.0  0.0   0.0  \n2322  0.000000  0.000000  0.0  0.0    0.0  0.000000  0.000000  0.0  0.0   0.0  \n2323  0.000000  0.000000  0.0  0.0    0.0  0.000000  0.000000  0.0  0.0   0.0  \n2324  0.000000  0.097653  0.0  0.0    0.0  0.000000  0.000000  0.0  0.0   0.0  \n2325  0.000000  0.000000  0.0  0.0    0.0  0.000000  0.000000  0.0  0.0   0.0  \n\n[2326 rows x 10205 columns]",
      "text/html": "<div>\n<style scoped>\n    .dataframe tbody tr th:only-of-type {\n        vertical-align: middle;\n    }\n\n    .dataframe tbody tr th {\n        vertical-align: top;\n    }\n\n    .dataframe thead th {\n        text-align: right;\n    }\n</style>\n<table border=\"1\" class=\"dataframe\">\n  <thead>\n    <tr style=\"text-align: right;\">\n      <th></th>\n      <th>10</th>\n      <th>100</th>\n      <th>1000</th>\n      <th>10000</th>\n      <th>100000</th>\n      <th>100th</th>\n      <th>107</th>\n      <th>10th</th>\n      <th>11</th>\n      <th>12</th>\n      <th>...</th>\n      <th>às</th>\n      <th>áitiúil</th>\n      <th>òg</th>\n      <th>òga</th>\n      <th>òrain</th>\n      <th>òran</th>\n      <th>óg</th>\n      <th>ùr</th>\n      <th>ùra</th>\n      <th>údar</th>\n    </tr>\n  </thead>\n  <tbody>\n    <tr>\n      <th>0</th>\n      <td>0.0</td>\n      <td>0.00000</td>\n      <td>0.0</td>\n      <td>0.0</td>\n      <td>0.0</td>\n      <td>0.0</td>\n      <td>0.0</td>\n      <td>0.0</td>\n      <td>0.0</td>\n      <td>0.0</td>\n      <td>...</td>\n      <td>0.000000</td>\n      <td>0.000000</td>\n      <td>0.0</td>\n      <td>0.0</td>\n      <td>0.0</td>\n      <td>0.000000</td>\n      <td>0.000000</td>\n      <td>0.0</td>\n      <td>0.0</td>\n      <td>0.0</td>\n    </tr>\n    <tr>\n      <th>1</th>\n      <td>0.0</td>\n      <td>0.00000</td>\n      <td>0.0</td>\n      <td>0.0</td>\n      <td>0.0</td>\n      <td>0.0</td>\n      <td>0.0</td>\n      <td>0.0</td>\n      <td>0.0</td>\n      <td>0.0</td>\n      <td>...</td>\n      <td>0.051456</td>\n      <td>0.000000</td>\n      <td>0.0</td>\n      <td>0.0</td>\n      <td>0.0</td>\n      <td>0.064423</td>\n      <td>0.124002</td>\n      <td>0.0</td>\n      <td>0.0</td>\n      <td>0.0</td>\n    </tr>\n    <tr>\n      <th>2</th>\n      <td>0.0</td>\n      <td>0.00000</td>\n      <td>0.0</td>\n      <td>0.0</td>\n      <td>0.0</td>\n      <td>0.0</td>\n      <td>0.0</td>\n      <td>0.0</td>\n      <td>0.0</td>\n      <td>0.0</td>\n      <td>...</td>\n      <td>0.000000</td>\n      <td>0.000000</td>\n      <td>0.0</td>\n      <td>0.0</td>\n      <td>0.0</td>\n      <td>0.000000</td>\n      <td>0.000000</td>\n      <td>0.0</td>\n      <td>0.0</td>\n      <td>0.0</td>\n    </tr>\n    <tr>\n      <th>3</th>\n      <td>0.0</td>\n      <td>0.00000</td>\n      <td>0.0</td>\n      <td>0.0</td>\n      <td>0.0</td>\n      <td>0.0</td>\n      <td>0.0</td>\n      <td>0.0</td>\n      <td>0.0</td>\n      <td>0.0</td>\n      <td>...</td>\n      <td>0.000000</td>\n      <td>0.000000</td>\n      <td>0.0</td>\n      <td>0.0</td>\n      <td>0.0</td>\n      <td>0.000000</td>\n      <td>0.000000</td>\n      <td>0.0</td>\n      <td>0.0</td>\n      <td>0.0</td>\n    </tr>\n    <tr>\n      <th>4</th>\n      <td>0.0</td>\n      <td>0.07281</td>\n      <td>0.0</td>\n      <td>0.0</td>\n      <td>0.0</td>\n      <td>0.0</td>\n      <td>0.0</td>\n      <td>0.0</td>\n      <td>0.0</td>\n      <td>0.0</td>\n      <td>...</td>\n      <td>0.000000</td>\n      <td>0.000000</td>\n      <td>0.0</td>\n      <td>0.0</td>\n      <td>0.0</td>\n      <td>0.000000</td>\n      <td>0.000000</td>\n      <td>0.0</td>\n      <td>0.0</td>\n      <td>0.0</td>\n    </tr>\n    <tr>\n      <th>...</th>\n      <td>...</td>\n      <td>...</td>\n      <td>...</td>\n      <td>...</td>\n      <td>...</td>\n      <td>...</td>\n      <td>...</td>\n      <td>...</td>\n      <td>...</td>\n      <td>...</td>\n      <td>...</td>\n      <td>...</td>\n      <td>...</td>\n      <td>...</td>\n      <td>...</td>\n      <td>...</td>\n      <td>...</td>\n      <td>...</td>\n      <td>...</td>\n      <td>...</td>\n      <td>...</td>\n    </tr>\n    <tr>\n      <th>2321</th>\n      <td>0.0</td>\n      <td>0.00000</td>\n      <td>0.0</td>\n      <td>0.0</td>\n      <td>0.0</td>\n      <td>0.0</td>\n      <td>0.0</td>\n      <td>0.0</td>\n      <td>0.0</td>\n      <td>0.0</td>\n      <td>...</td>\n      <td>0.000000</td>\n      <td>0.000000</td>\n      <td>0.0</td>\n      <td>0.0</td>\n      <td>0.0</td>\n      <td>0.000000</td>\n      <td>0.000000</td>\n      <td>0.0</td>\n      <td>0.0</td>\n      <td>0.0</td>\n    </tr>\n    <tr>\n      <th>2322</th>\n      <td>0.0</td>\n      <td>0.00000</td>\n      <td>0.0</td>\n      <td>0.0</td>\n      <td>0.0</td>\n      <td>0.0</td>\n      <td>0.0</td>\n      <td>0.0</td>\n      <td>0.0</td>\n      <td>0.0</td>\n      <td>...</td>\n      <td>0.000000</td>\n      <td>0.000000</td>\n      <td>0.0</td>\n      <td>0.0</td>\n      <td>0.0</td>\n      <td>0.000000</td>\n      <td>0.000000</td>\n      <td>0.0</td>\n      <td>0.0</td>\n      <td>0.0</td>\n    </tr>\n    <tr>\n      <th>2323</th>\n      <td>0.0</td>\n      <td>0.00000</td>\n      <td>0.0</td>\n      <td>0.0</td>\n      <td>0.0</td>\n      <td>0.0</td>\n      <td>0.0</td>\n      <td>0.0</td>\n      <td>0.0</td>\n      <td>0.0</td>\n      <td>...</td>\n      <td>0.000000</td>\n      <td>0.000000</td>\n      <td>0.0</td>\n      <td>0.0</td>\n      <td>0.0</td>\n      <td>0.000000</td>\n      <td>0.000000</td>\n      <td>0.0</td>\n      <td>0.0</td>\n      <td>0.0</td>\n    </tr>\n    <tr>\n      <th>2324</th>\n      <td>0.0</td>\n      <td>0.00000</td>\n      <td>0.0</td>\n      <td>0.0</td>\n      <td>0.0</td>\n      <td>0.0</td>\n      <td>0.0</td>\n      <td>0.0</td>\n      <td>0.0</td>\n      <td>0.0</td>\n      <td>...</td>\n      <td>0.000000</td>\n      <td>0.097653</td>\n      <td>0.0</td>\n      <td>0.0</td>\n      <td>0.0</td>\n      <td>0.000000</td>\n      <td>0.000000</td>\n      <td>0.0</td>\n      <td>0.0</td>\n      <td>0.0</td>\n    </tr>\n    <tr>\n      <th>2325</th>\n      <td>0.0</td>\n      <td>0.00000</td>\n      <td>0.0</td>\n      <td>0.0</td>\n      <td>0.0</td>\n      <td>0.0</td>\n      <td>0.0</td>\n      <td>0.0</td>\n      <td>0.0</td>\n      <td>0.0</td>\n      <td>...</td>\n      <td>0.000000</td>\n      <td>0.000000</td>\n      <td>0.0</td>\n      <td>0.0</td>\n      <td>0.0</td>\n      <td>0.000000</td>\n      <td>0.000000</td>\n      <td>0.0</td>\n      <td>0.0</td>\n      <td>0.0</td>\n    </tr>\n  </tbody>\n</table>\n<p>2326 rows × 10205 columns</p>\n</div>"
     },
     "execution_count": 10,
     "metadata": {},
     "output_type": "execute_result"
    }
   ],
   "source": [
    "from sklearn.feature_extraction.text import TfidfVectorizer\n",
    "from sklearn.cluster import KMeans\n",
    "from sklearn import cluster\n",
    "\n",
    "vectorizer = TfidfVectorizer(min_df=3, max_df=0.80, norm='l2')\n",
    "X = vectorizer.fit_transform(df['cleaned_mixed_text'])\n",
    "tf_idf = pd.DataFrame(data = X.toarray(), columns=vectorizer.get_feature_names())\n",
    "tf_idf"
   ],
   "metadata": {
    "collapsed": false,
    "pycharm": {
     "name": "#%%\n"
    }
   }
  },
  {
   "cell_type": "code",
   "execution_count": null,
   "outputs": [],
   "source": [
    "clusters = 3\n",
    "kmeanModel = KMeans(n_clusters=clusters, init='k-means++', max_iter=3000, random_state=0)\n",
    "mod = kmeanModel.fit_transform(tf_idf)\n",
    "df['k_means'] = kmeanModel.predict(tf_idf)"
   ],
   "metadata": {
    "collapsed": false,
    "pycharm": {
     "name": "#%%\n",
     "is_executing": true
    }
   }
  },
  {
   "cell_type": "code",
   "execution_count": null,
   "outputs": [],
   "source": [
    "order_centroids = kmeanModel.cluster_centers_.argsort()[:, ::-1]\n",
    "terms = vectorizer.get_feature_names()\n",
    "dict = []\n",
    "for i in range(clusters):\n",
    "  print('%d' % i, sep='', end=', '),\n",
    "  for ind in order_centroids[i, :20]:\n",
    "    print(terms[ind], sep='', end=', ')\n",
    "  print('')"
   ],
   "metadata": {
    "collapsed": false,
    "pycharm": {
     "name": "#%%\n"
    }
   }
  },
  {
   "cell_type": "code",
   "execution_count": null,
   "outputs": [],
   "source": [
    "df[df['k_means'] == 2]['Title'].head(20)"
   ],
   "metadata": {
    "collapsed": false,
    "pycharm": {
     "name": "#%%\n"
    }
   }
  },
  {
   "cell_type": "markdown",
   "source": [
    "## Cosin Similarity"
   ],
   "metadata": {
    "collapsed": false
   }
  },
  {
   "cell_type": "code",
   "execution_count": 6,
   "outputs": [],
   "source": [
    "df_cos = pd.read_csv('./../data/BBC/cosine_similarity.csv', sep=';', index_col=0)"
   ],
   "metadata": {
    "collapsed": false,
    "pycharm": {
     "name": "#%%\n"
    }
   }
  },
  {
   "cell_type": "code",
   "execution_count": 7,
   "outputs": [
    {
     "data": {
      "text/plain": "             0         1         2         3         4         5         6  \\\n0     1.000000  0.464569  0.456215  0.759457  0.752888  0.817963  0.844283   \n1     0.464569  1.000000  0.276400  0.500826  0.409278  0.324603  0.260997   \n2     0.456215  0.276400  1.000000  0.515068  0.463887  0.565514  0.456465   \n3     0.759457  0.500826  0.515068  1.000000  0.622449  0.738313  0.668563   \n4     0.752888  0.409278  0.463887  0.622449  1.000000  0.705579  0.671373   \n...        ...       ...       ...       ...       ...       ...       ...   \n2321  0.386949  0.175973  0.401385  0.348407  0.580583  0.467882  0.473950   \n2322  0.408679  0.237692  0.337785  0.325590  0.526698  0.464923  0.516740   \n2323  0.504979  0.267875  0.541091  0.466440  0.634509  0.596023  0.577080   \n2324  0.394167  0.877725  0.310047  0.511251  0.369326  0.296917  0.209242   \n2325  0.591685  0.278713  0.442695  0.503900  0.638660  0.703094  0.736998   \n\n             7         8         9  ...      2316      2317      2318  \\\n0     0.833293  0.624325  0.714856  ...  0.494571  0.404984  0.297471   \n1     0.318547  0.332594  0.532213  ...  0.237382  0.313001  0.229477   \n2     0.480797  0.404655  0.434049  ...  0.509228  0.466864  0.372347   \n3     0.714047  0.395446  0.621673  ...  0.470608  0.398964  0.345343   \n4     0.769527  0.730229  0.689653  ...  0.576755  0.506818  0.439136   \n...        ...       ...       ...  ...       ...       ...       ...   \n2321  0.493751  0.578729  0.474601  ...  0.512476  0.594405  0.491411   \n2322  0.520363  0.595682  0.404929  ...  0.571575  0.624707  0.529199   \n2323  0.571917  0.621068  0.463083  ...  0.581656  0.532636  0.577583   \n2324  0.249882  0.257936  0.496477  ...  0.179157  0.238167  0.201336   \n2325  0.730659  0.670514  0.578775  ...  0.650593  0.539832  0.442344   \n\n          2319      2320      2321      2322      2323      2324      2325  \n0     0.484163  0.610856  0.386949  0.408679  0.504979  0.394167  0.591685  \n1     0.322347  0.442119  0.175973  0.237692  0.267875  0.877725  0.278713  \n2     0.358217  0.302932  0.401385  0.337785  0.541091  0.310047  0.442695  \n3     0.394587  0.494136  0.348407  0.325590  0.466440  0.511251  0.503900  \n4     0.587217  0.748822  0.580583  0.526698  0.634509  0.369326  0.638660  \n...        ...       ...       ...       ...       ...       ...       ...  \n2321  0.708732  0.403681  1.000000  0.689001  0.661167  0.149656  0.557155  \n2322  0.794125  0.304786  0.689001  1.000000  0.727510  0.162182  0.680074  \n2323  0.712539  0.392916  0.661167  0.727510  1.000000  0.212749  0.643721  \n2324  0.264322  0.384121  0.149656  0.162182  0.212749  1.000000  0.203437  \n2325  0.702610  0.425400  0.557155  0.680074  0.643721  0.203437  1.000000  \n\n[2326 rows x 2326 columns]",
      "text/html": "<div>\n<style scoped>\n    .dataframe tbody tr th:only-of-type {\n        vertical-align: middle;\n    }\n\n    .dataframe tbody tr th {\n        vertical-align: top;\n    }\n\n    .dataframe thead th {\n        text-align: right;\n    }\n</style>\n<table border=\"1\" class=\"dataframe\">\n  <thead>\n    <tr style=\"text-align: right;\">\n      <th></th>\n      <th>0</th>\n      <th>1</th>\n      <th>2</th>\n      <th>3</th>\n      <th>4</th>\n      <th>5</th>\n      <th>6</th>\n      <th>7</th>\n      <th>8</th>\n      <th>9</th>\n      <th>...</th>\n      <th>2316</th>\n      <th>2317</th>\n      <th>2318</th>\n      <th>2319</th>\n      <th>2320</th>\n      <th>2321</th>\n      <th>2322</th>\n      <th>2323</th>\n      <th>2324</th>\n      <th>2325</th>\n    </tr>\n  </thead>\n  <tbody>\n    <tr>\n      <th>0</th>\n      <td>1.000000</td>\n      <td>0.464569</td>\n      <td>0.456215</td>\n      <td>0.759457</td>\n      <td>0.752888</td>\n      <td>0.817963</td>\n      <td>0.844283</td>\n      <td>0.833293</td>\n      <td>0.624325</td>\n      <td>0.714856</td>\n      <td>...</td>\n      <td>0.494571</td>\n      <td>0.404984</td>\n      <td>0.297471</td>\n      <td>0.484163</td>\n      <td>0.610856</td>\n      <td>0.386949</td>\n      <td>0.408679</td>\n      <td>0.504979</td>\n      <td>0.394167</td>\n      <td>0.591685</td>\n    </tr>\n    <tr>\n      <th>1</th>\n      <td>0.464569</td>\n      <td>1.000000</td>\n      <td>0.276400</td>\n      <td>0.500826</td>\n      <td>0.409278</td>\n      <td>0.324603</td>\n      <td>0.260997</td>\n      <td>0.318547</td>\n      <td>0.332594</td>\n      <td>0.532213</td>\n      <td>...</td>\n      <td>0.237382</td>\n      <td>0.313001</td>\n      <td>0.229477</td>\n      <td>0.322347</td>\n      <td>0.442119</td>\n      <td>0.175973</td>\n      <td>0.237692</td>\n      <td>0.267875</td>\n      <td>0.877725</td>\n      <td>0.278713</td>\n    </tr>\n    <tr>\n      <th>2</th>\n      <td>0.456215</td>\n      <td>0.276400</td>\n      <td>1.000000</td>\n      <td>0.515068</td>\n      <td>0.463887</td>\n      <td>0.565514</td>\n      <td>0.456465</td>\n      <td>0.480797</td>\n      <td>0.404655</td>\n      <td>0.434049</td>\n      <td>...</td>\n      <td>0.509228</td>\n      <td>0.466864</td>\n      <td>0.372347</td>\n      <td>0.358217</td>\n      <td>0.302932</td>\n      <td>0.401385</td>\n      <td>0.337785</td>\n      <td>0.541091</td>\n      <td>0.310047</td>\n      <td>0.442695</td>\n    </tr>\n    <tr>\n      <th>3</th>\n      <td>0.759457</td>\n      <td>0.500826</td>\n      <td>0.515068</td>\n      <td>1.000000</td>\n      <td>0.622449</td>\n      <td>0.738313</td>\n      <td>0.668563</td>\n      <td>0.714047</td>\n      <td>0.395446</td>\n      <td>0.621673</td>\n      <td>...</td>\n      <td>0.470608</td>\n      <td>0.398964</td>\n      <td>0.345343</td>\n      <td>0.394587</td>\n      <td>0.494136</td>\n      <td>0.348407</td>\n      <td>0.325590</td>\n      <td>0.466440</td>\n      <td>0.511251</td>\n      <td>0.503900</td>\n    </tr>\n    <tr>\n      <th>4</th>\n      <td>0.752888</td>\n      <td>0.409278</td>\n      <td>0.463887</td>\n      <td>0.622449</td>\n      <td>1.000000</td>\n      <td>0.705579</td>\n      <td>0.671373</td>\n      <td>0.769527</td>\n      <td>0.730229</td>\n      <td>0.689653</td>\n      <td>...</td>\n      <td>0.576755</td>\n      <td>0.506818</td>\n      <td>0.439136</td>\n      <td>0.587217</td>\n      <td>0.748822</td>\n      <td>0.580583</td>\n      <td>0.526698</td>\n      <td>0.634509</td>\n      <td>0.369326</td>\n      <td>0.638660</td>\n    </tr>\n    <tr>\n      <th>...</th>\n      <td>...</td>\n      <td>...</td>\n      <td>...</td>\n      <td>...</td>\n      <td>...</td>\n      <td>...</td>\n      <td>...</td>\n      <td>...</td>\n      <td>...</td>\n      <td>...</td>\n      <td>...</td>\n      <td>...</td>\n      <td>...</td>\n      <td>...</td>\n      <td>...</td>\n      <td>...</td>\n      <td>...</td>\n      <td>...</td>\n      <td>...</td>\n      <td>...</td>\n      <td>...</td>\n    </tr>\n    <tr>\n      <th>2321</th>\n      <td>0.386949</td>\n      <td>0.175973</td>\n      <td>0.401385</td>\n      <td>0.348407</td>\n      <td>0.580583</td>\n      <td>0.467882</td>\n      <td>0.473950</td>\n      <td>0.493751</td>\n      <td>0.578729</td>\n      <td>0.474601</td>\n      <td>...</td>\n      <td>0.512476</td>\n      <td>0.594405</td>\n      <td>0.491411</td>\n      <td>0.708732</td>\n      <td>0.403681</td>\n      <td>1.000000</td>\n      <td>0.689001</td>\n      <td>0.661167</td>\n      <td>0.149656</td>\n      <td>0.557155</td>\n    </tr>\n    <tr>\n      <th>2322</th>\n      <td>0.408679</td>\n      <td>0.237692</td>\n      <td>0.337785</td>\n      <td>0.325590</td>\n      <td>0.526698</td>\n      <td>0.464923</td>\n      <td>0.516740</td>\n      <td>0.520363</td>\n      <td>0.595682</td>\n      <td>0.404929</td>\n      <td>...</td>\n      <td>0.571575</td>\n      <td>0.624707</td>\n      <td>0.529199</td>\n      <td>0.794125</td>\n      <td>0.304786</td>\n      <td>0.689001</td>\n      <td>1.000000</td>\n      <td>0.727510</td>\n      <td>0.162182</td>\n      <td>0.680074</td>\n    </tr>\n    <tr>\n      <th>2323</th>\n      <td>0.504979</td>\n      <td>0.267875</td>\n      <td>0.541091</td>\n      <td>0.466440</td>\n      <td>0.634509</td>\n      <td>0.596023</td>\n      <td>0.577080</td>\n      <td>0.571917</td>\n      <td>0.621068</td>\n      <td>0.463083</td>\n      <td>...</td>\n      <td>0.581656</td>\n      <td>0.532636</td>\n      <td>0.577583</td>\n      <td>0.712539</td>\n      <td>0.392916</td>\n      <td>0.661167</td>\n      <td>0.727510</td>\n      <td>1.000000</td>\n      <td>0.212749</td>\n      <td>0.643721</td>\n    </tr>\n    <tr>\n      <th>2324</th>\n      <td>0.394167</td>\n      <td>0.877725</td>\n      <td>0.310047</td>\n      <td>0.511251</td>\n      <td>0.369326</td>\n      <td>0.296917</td>\n      <td>0.209242</td>\n      <td>0.249882</td>\n      <td>0.257936</td>\n      <td>0.496477</td>\n      <td>...</td>\n      <td>0.179157</td>\n      <td>0.238167</td>\n      <td>0.201336</td>\n      <td>0.264322</td>\n      <td>0.384121</td>\n      <td>0.149656</td>\n      <td>0.162182</td>\n      <td>0.212749</td>\n      <td>1.000000</td>\n      <td>0.203437</td>\n    </tr>\n    <tr>\n      <th>2325</th>\n      <td>0.591685</td>\n      <td>0.278713</td>\n      <td>0.442695</td>\n      <td>0.503900</td>\n      <td>0.638660</td>\n      <td>0.703094</td>\n      <td>0.736998</td>\n      <td>0.730659</td>\n      <td>0.670514</td>\n      <td>0.578775</td>\n      <td>...</td>\n      <td>0.650593</td>\n      <td>0.539832</td>\n      <td>0.442344</td>\n      <td>0.702610</td>\n      <td>0.425400</td>\n      <td>0.557155</td>\n      <td>0.680074</td>\n      <td>0.643721</td>\n      <td>0.203437</td>\n      <td>1.000000</td>\n    </tr>\n  </tbody>\n</table>\n<p>2326 rows × 2326 columns</p>\n</div>"
     },
     "execution_count": 7,
     "metadata": {},
     "output_type": "execute_result"
    }
   ],
   "source": [
    "df_cos"
   ],
   "metadata": {
    "collapsed": false,
    "pycharm": {
     "name": "#%%\n"
    }
   }
  },
  {
   "cell_type": "markdown",
   "source": [
    "## Slimmed bbc_data_view"
   ],
   "metadata": {
    "collapsed": false
   }
  },
  {
   "cell_type": "code",
   "execution_count": 20,
   "outputs": [],
   "source": [
    "df_bbc = pd.read_csv('./../data/BBC/bbc_data.csv', sep=';', index_col=0)\n",
    "df_img = pd.read_csv('./../data/BBC/bbc_images.csv', sep=';', index_col=0)"
   ],
   "metadata": {
    "collapsed": false,
    "pycharm": {
     "name": "#%%\n"
    }
   }
  },
  {
   "cell_type": "code",
   "execution_count": 21,
   "outputs": [
    {
     "data": {
      "text/plain": "   index                               title  \\\n0      0                           BBC Proms   \n1      1                                Port   \n2      2  Sit Down, Stand Up with Greg James   \n3      3         Ceiliúradh na Féile Pádraig   \n4      4                     Songs of Praise   \n\n                                         description  \\\n0  Australian tenor Stuart Skelton is joined by L...   \n1  Previously unseen music from the series Port, ...   \n2  Tom Holland and Greg James cold call celebrity...   \n3  John Toal and Pauline Scanlon introduce an eve...   \n4  Claire McCollum explores Edinburgh and shares ...   \n\n                                               image  \\\n0  https://ichef.bbci.co.uk/images/ic/{recipe}/p0...   \n1  https://ichef.bbci.co.uk/images/ic/{recipe}/p0...   \n2  https://ichef.bbci.co.uk/images/ic/{recipe}/p0...   \n3  https://ichef.bbci.co.uk/images/ic/{recipe}/p0...   \n4  https://ichef.bbci.co.uk/images/ic/{recipe}/p0...   \n\n                                            keywords  \\\n0  BBC, iPlayer, TV, BBC Proms, 2021: Last Night ...   \n1        BBC, iPlayer, TV, Port, Series 5: Episode 4   \n2  BBC, iPlayer, TV, Sit Down, Stand Up with Greg...   \n3      BBC, iPlayer, TV, Ceiliúradh na Féile Pádraig   \n4       BBC, iPlayer, TV, Songs of Praise, Edinburgh   \n\n                                              syno_s  \\\n0  Australian tenor Stuart Skelton is joined by L...   \n1  Previously unseen music from the series Port, ...   \n2  Tom Holland and Greg James cold call celebrity...   \n3  John Toal and Pauline Scanlon introduce an eve...   \n4  Claire McCollum explores Edinburgh and shares ...   \n\n                                              syno_m  \\\n0  Australian tenor Stuart Skelton is joined by L...   \n1  Julie Fowlis a’ lìbhrigeadh ceòl bhon t-sreath...   \n2  Tom Holland and Greg James cold call celebrity...   \n3  John Toal and Pauline Scanlon introduce an eve...   \n4  Claire McCollum goes on a Christian heritage t...   \n\n                                              syno_l       category  \\\n0  Katie Derham hosts continued live coverage fro...          Music   \n1  Bidh Druthag Bheag Eile a’ tarraing ri chèile ...          Music   \n2  Tom Holland and Greg James cold call celebrity...  Entertainment   \n3  John Toal and Pauline Scanlon introduce an eve...          Music   \n4  Claire McCollum explores Edinburgh and discove...          Music   \n\n                            channel language        release_date  \\\n0                   bbc_radio_three    False     9pm 11 Sep 2021   \n1                          bbc_alba    False          9 Jul 2020   \n2                     bbc_radio_one    False         10 Feb 2022   \n3  bbc_two_northern_ireland_digital    False         17 Mar 2017   \n4                           bbc_one    False  1:15pm 20 Feb 2022   \n\n   duration_sec                           topic  \\\n0          5247  ['music', 'from-the-archives']   \n1          1037                       ['music']   \n2           611      ['music', 'entertainment']   \n3          3538                       ['music']   \n4          2044          ['music', 'lifestyle']   \n\n                                      spacied_syno_l  \\\n0  Katie Derham hosts continued live coverage fro...   \n1  Bidh Druthag Bheag Eile a’ tarraing ri chèile ...   \n2  Tom Holland and Greg James cold call celebrity...   \n3  John Toal and Pauline Scanlon introduce an eve...   \n4  Claire McCollum explores Edinburgh and discove...   \n\n                                    processed_syno_l  \\\n0  ['Katie', 'Derham', 'host', 'continue', 'live'...   \n1  ['Bidh', 'Druthag', 'Bheag', 'Eile', 'tarraing...   \n2  ['Tom', 'Holland', 'Greg', 'James', 'cold', 'c...   \n3  ['John', 'Toal', 'Pauline', 'Scanlon', 'introd...   \n4  ['Claire', 'McCollum', 'explore', 'Edinburgh',...   \n\n                         processed_syno_l_one_string  k_means  \n0  Katie Derham host continue live coverage Royal...       11  \n1  Bidh Druthag Bheag Eile tarraing ri chèile pìo...        7  \n2  Tom Holland Greg James cold celebrity friend f...       10  \n3  John Toal Pauline Scanlon introduce evening mu...        7  \n4  Claire McCollum explore Edinburgh discover ric...        9  ",
      "text/html": "<div>\n<style scoped>\n    .dataframe tbody tr th:only-of-type {\n        vertical-align: middle;\n    }\n\n    .dataframe tbody tr th {\n        vertical-align: top;\n    }\n\n    .dataframe thead th {\n        text-align: right;\n    }\n</style>\n<table border=\"1\" class=\"dataframe\">\n  <thead>\n    <tr style=\"text-align: right;\">\n      <th></th>\n      <th>index</th>\n      <th>title</th>\n      <th>description</th>\n      <th>image</th>\n      <th>keywords</th>\n      <th>syno_s</th>\n      <th>syno_m</th>\n      <th>syno_l</th>\n      <th>category</th>\n      <th>channel</th>\n      <th>language</th>\n      <th>release_date</th>\n      <th>duration_sec</th>\n      <th>topic</th>\n      <th>spacied_syno_l</th>\n      <th>processed_syno_l</th>\n      <th>processed_syno_l_one_string</th>\n      <th>k_means</th>\n    </tr>\n  </thead>\n  <tbody>\n    <tr>\n      <th>0</th>\n      <td>0</td>\n      <td>BBC Proms</td>\n      <td>Australian tenor Stuart Skelton is joined by L...</td>\n      <td>https://ichef.bbci.co.uk/images/ic/{recipe}/p0...</td>\n      <td>BBC, iPlayer, TV, BBC Proms, 2021: Last Night ...</td>\n      <td>Australian tenor Stuart Skelton is joined by L...</td>\n      <td>Australian tenor Stuart Skelton is joined by L...</td>\n      <td>Katie Derham hosts continued live coverage fro...</td>\n      <td>Music</td>\n      <td>bbc_radio_three</td>\n      <td>False</td>\n      <td>9pm 11 Sep 2021</td>\n      <td>5247</td>\n      <td>['music', 'from-the-archives']</td>\n      <td>Katie Derham hosts continued live coverage fro...</td>\n      <td>['Katie', 'Derham', 'host', 'continue', 'live'...</td>\n      <td>Katie Derham host continue live coverage Royal...</td>\n      <td>11</td>\n    </tr>\n    <tr>\n      <th>1</th>\n      <td>1</td>\n      <td>Port</td>\n      <td>Previously unseen music from the series Port, ...</td>\n      <td>https://ichef.bbci.co.uk/images/ic/{recipe}/p0...</td>\n      <td>BBC, iPlayer, TV, Port, Series 5: Episode 4</td>\n      <td>Previously unseen music from the series Port, ...</td>\n      <td>Julie Fowlis a’ lìbhrigeadh ceòl bhon t-sreath...</td>\n      <td>Bidh Druthag Bheag Eile a’ tarraing ri chèile ...</td>\n      <td>Music</td>\n      <td>bbc_alba</td>\n      <td>False</td>\n      <td>9 Jul 2020</td>\n      <td>1037</td>\n      <td>['music']</td>\n      <td>Bidh Druthag Bheag Eile a’ tarraing ri chèile ...</td>\n      <td>['Bidh', 'Druthag', 'Bheag', 'Eile', 'tarraing...</td>\n      <td>Bidh Druthag Bheag Eile tarraing ri chèile pìo...</td>\n      <td>7</td>\n    </tr>\n    <tr>\n      <th>2</th>\n      <td>2</td>\n      <td>Sit Down, Stand Up with Greg James</td>\n      <td>Tom Holland and Greg James cold call celebrity...</td>\n      <td>https://ichef.bbci.co.uk/images/ic/{recipe}/p0...</td>\n      <td>BBC, iPlayer, TV, Sit Down, Stand Up with Greg...</td>\n      <td>Tom Holland and Greg James cold call celebrity...</td>\n      <td>Tom Holland and Greg James cold call celebrity...</td>\n      <td>Tom Holland and Greg James cold call celebrity...</td>\n      <td>Entertainment</td>\n      <td>bbc_radio_one</td>\n      <td>False</td>\n      <td>10 Feb 2022</td>\n      <td>611</td>\n      <td>['music', 'entertainment']</td>\n      <td>Tom Holland and Greg James cold call celebrity...</td>\n      <td>['Tom', 'Holland', 'Greg', 'James', 'cold', 'c...</td>\n      <td>Tom Holland Greg James cold celebrity friend f...</td>\n      <td>10</td>\n    </tr>\n    <tr>\n      <th>3</th>\n      <td>3</td>\n      <td>Ceiliúradh na Féile Pádraig</td>\n      <td>John Toal and Pauline Scanlon introduce an eve...</td>\n      <td>https://ichef.bbci.co.uk/images/ic/{recipe}/p0...</td>\n      <td>BBC, iPlayer, TV, Ceiliúradh na Féile Pádraig</td>\n      <td>John Toal and Pauline Scanlon introduce an eve...</td>\n      <td>John Toal and Pauline Scanlon introduce an eve...</td>\n      <td>John Toal and Pauline Scanlon introduce an eve...</td>\n      <td>Music</td>\n      <td>bbc_two_northern_ireland_digital</td>\n      <td>False</td>\n      <td>17 Mar 2017</td>\n      <td>3538</td>\n      <td>['music']</td>\n      <td>John Toal and Pauline Scanlon introduce an eve...</td>\n      <td>['John', 'Toal', 'Pauline', 'Scanlon', 'introd...</td>\n      <td>John Toal Pauline Scanlon introduce evening mu...</td>\n      <td>7</td>\n    </tr>\n    <tr>\n      <th>4</th>\n      <td>4</td>\n      <td>Songs of Praise</td>\n      <td>Claire McCollum explores Edinburgh and shares ...</td>\n      <td>https://ichef.bbci.co.uk/images/ic/{recipe}/p0...</td>\n      <td>BBC, iPlayer, TV, Songs of Praise, Edinburgh</td>\n      <td>Claire McCollum explores Edinburgh and shares ...</td>\n      <td>Claire McCollum goes on a Christian heritage t...</td>\n      <td>Claire McCollum explores Edinburgh and discove...</td>\n      <td>Music</td>\n      <td>bbc_one</td>\n      <td>False</td>\n      <td>1:15pm 20 Feb 2022</td>\n      <td>2044</td>\n      <td>['music', 'lifestyle']</td>\n      <td>Claire McCollum explores Edinburgh and discove...</td>\n      <td>['Claire', 'McCollum', 'explore', 'Edinburgh',...</td>\n      <td>Claire McCollum explore Edinburgh discover ric...</td>\n      <td>9</td>\n    </tr>\n  </tbody>\n</table>\n</div>"
     },
     "execution_count": 21,
     "metadata": {},
     "output_type": "execute_result"
    }
   ],
   "source": [
    "df_bbc.head()"
   ],
   "metadata": {
    "collapsed": false,
    "pycharm": {
     "name": "#%%\n"
    }
   }
  },
  {
   "cell_type": "code",
   "execution_count": 22,
   "outputs": [
    {
     "data": {
      "text/plain": "   index                                              image  \\\n0      0  https://ichef.bbci.co.uk/images/ic/{recipe}/p0...   \n1      1  https://ichef.bbci.co.uk/images/ic/{recipe}/p0...   \n2      2  https://ichef.bbci.co.uk/images/ic/{recipe}/p0...   \n3      3  https://ichef.bbci.co.uk/images/ic/{recipe}/p0...   \n4      4  https://ichef.bbci.co.uk/images/ic/{recipe}/p0...   \n\n                                             image_s  \\\n0  https://ichef.bbci.co.uk/images/ic/192x108/p09...   \n1  https://ichef.bbci.co.uk/images/ic/192x108/p08...   \n2  https://ichef.bbci.co.uk/images/ic/192x108/p0b...   \n3  https://ichef.bbci.co.uk/images/ic/192x108/p04...   \n4  https://ichef.bbci.co.uk/images/ic/192x108/p0b...   \n\n                                             image_m  \\\n0  https://ichef.bbci.co.uk/images/ic/288x162/p09...   \n1  https://ichef.bbci.co.uk/images/ic/288x162/p08...   \n2  https://ichef.bbci.co.uk/images/ic/288x162/p0b...   \n3  https://ichef.bbci.co.uk/images/ic/288x162/p04...   \n4  https://ichef.bbci.co.uk/images/ic/288x162/p0b...   \n\n                                             image_l  \n0  https://ichef.bbci.co.uk/images/ic/352x198/p09...  \n1  https://ichef.bbci.co.uk/images/ic/352x198/p08...  \n2  https://ichef.bbci.co.uk/images/ic/352x198/p0b...  \n3  https://ichef.bbci.co.uk/images/ic/352x198/p04...  \n4  https://ichef.bbci.co.uk/images/ic/352x198/p0b...  ",
      "text/html": "<div>\n<style scoped>\n    .dataframe tbody tr th:only-of-type {\n        vertical-align: middle;\n    }\n\n    .dataframe tbody tr th {\n        vertical-align: top;\n    }\n\n    .dataframe thead th {\n        text-align: right;\n    }\n</style>\n<table border=\"1\" class=\"dataframe\">\n  <thead>\n    <tr style=\"text-align: right;\">\n      <th></th>\n      <th>index</th>\n      <th>image</th>\n      <th>image_s</th>\n      <th>image_m</th>\n      <th>image_l</th>\n    </tr>\n  </thead>\n  <tbody>\n    <tr>\n      <th>0</th>\n      <td>0</td>\n      <td>https://ichef.bbci.co.uk/images/ic/{recipe}/p0...</td>\n      <td>https://ichef.bbci.co.uk/images/ic/192x108/p09...</td>\n      <td>https://ichef.bbci.co.uk/images/ic/288x162/p09...</td>\n      <td>https://ichef.bbci.co.uk/images/ic/352x198/p09...</td>\n    </tr>\n    <tr>\n      <th>1</th>\n      <td>1</td>\n      <td>https://ichef.bbci.co.uk/images/ic/{recipe}/p0...</td>\n      <td>https://ichef.bbci.co.uk/images/ic/192x108/p08...</td>\n      <td>https://ichef.bbci.co.uk/images/ic/288x162/p08...</td>\n      <td>https://ichef.bbci.co.uk/images/ic/352x198/p08...</td>\n    </tr>\n    <tr>\n      <th>2</th>\n      <td>2</td>\n      <td>https://ichef.bbci.co.uk/images/ic/{recipe}/p0...</td>\n      <td>https://ichef.bbci.co.uk/images/ic/192x108/p0b...</td>\n      <td>https://ichef.bbci.co.uk/images/ic/288x162/p0b...</td>\n      <td>https://ichef.bbci.co.uk/images/ic/352x198/p0b...</td>\n    </tr>\n    <tr>\n      <th>3</th>\n      <td>3</td>\n      <td>https://ichef.bbci.co.uk/images/ic/{recipe}/p0...</td>\n      <td>https://ichef.bbci.co.uk/images/ic/192x108/p04...</td>\n      <td>https://ichef.bbci.co.uk/images/ic/288x162/p04...</td>\n      <td>https://ichef.bbci.co.uk/images/ic/352x198/p04...</td>\n    </tr>\n    <tr>\n      <th>4</th>\n      <td>4</td>\n      <td>https://ichef.bbci.co.uk/images/ic/{recipe}/p0...</td>\n      <td>https://ichef.bbci.co.uk/images/ic/192x108/p0b...</td>\n      <td>https://ichef.bbci.co.uk/images/ic/288x162/p0b...</td>\n      <td>https://ichef.bbci.co.uk/images/ic/352x198/p0b...</td>\n    </tr>\n  </tbody>\n</table>\n</div>"
     },
     "execution_count": 22,
     "metadata": {},
     "output_type": "execute_result"
    }
   ],
   "source": [
    "df_img.head()"
   ],
   "metadata": {
    "collapsed": false,
    "pycharm": {
     "name": "#%%\n"
    }
   }
  },
  {
   "cell_type": "code",
   "execution_count": 23,
   "outputs": [],
   "source": [
    "df_bbc_merg = pd.merge(df_bbc, df_img, on='index')"
   ],
   "metadata": {
    "collapsed": false,
    "pycharm": {
     "name": "#%%\n"
    }
   }
  },
  {
   "cell_type": "code",
   "execution_count": 24,
   "outputs": [
    {
     "data": {
      "text/plain": "      index                               title  \\\n0         0                           BBC Proms   \n1         1                                Port   \n2         2  Sit Down, Stand Up with Greg James   \n3         3         Ceiliúradh na Féile Pádraig   \n4         4                     Songs of Praise   \n...     ...                                 ...   \n2321   3777           Models: Street to Catwalk   \n2322   3789                   Death On The I-95   \n2323   3793        Do Black Lives Still Matter?   \n2324   3797                        Ar An Sliabh   \n2325   3800                Avicii: True Stories   \n\n                                            description       category  \\\n0     Australian tenor Stuart Skelton is joined by L...          Music   \n1     Previously unseen music from the series Port, ...          Music   \n2     Tom Holland and Greg James cold call celebrity...  Entertainment   \n3     John Toal and Pauline Scanlon introduce an eve...          Music   \n4     Claire McCollum explores Edinburgh and shares ...          Music   \n...                                                 ...            ...   \n2321  Kyra’s late arrival puts her modelling career ...    Documentary   \n2322  Returning to the US to find out what happened ...    Documentary   \n2323  Grime artist Saskilla asks, can the music indu...    Documentary   \n2324  Paul packs up to return to his native Armagh a...    Documentary   \n2325  Avicii: True Stories is Tim Bergling’s own sto...    Documentary   \n\n                               channel  k_means  \\\n0                      bbc_radio_three       11   \n1                             bbc_alba        7   \n2                        bbc_radio_one       10   \n3     bbc_two_northern_ireland_digital        7   \n4                              bbc_one        9   \n...                                ...      ...   \n2321                         bbc_three        9   \n2322                         bbc_three        1   \n2323                         bbc_three       11   \n2324                       bbc_webonly        7   \n2325                         bbc_three        9   \n\n                                                image_l  \n0     https://ichef.bbci.co.uk/images/ic/352x198/p09...  \n1     https://ichef.bbci.co.uk/images/ic/352x198/p08...  \n2     https://ichef.bbci.co.uk/images/ic/352x198/p0b...  \n3     https://ichef.bbci.co.uk/images/ic/352x198/p04...  \n4     https://ichef.bbci.co.uk/images/ic/352x198/p0b...  \n...                                                 ...  \n2321  https://ichef.bbci.co.uk/images/ic/352x198/p09...  \n2322  https://ichef.bbci.co.uk/images/ic/352x198/p07...  \n2323  https://ichef.bbci.co.uk/images/ic/352x198/p09...  \n2324  https://ichef.bbci.co.uk/images/ic/352x198/p0b...  \n2325  https://ichef.bbci.co.uk/images/ic/352x198/p07...  \n\n[2326 rows x 7 columns]",
      "text/html": "<div>\n<style scoped>\n    .dataframe tbody tr th:only-of-type {\n        vertical-align: middle;\n    }\n\n    .dataframe tbody tr th {\n        vertical-align: top;\n    }\n\n    .dataframe thead th {\n        text-align: right;\n    }\n</style>\n<table border=\"1\" class=\"dataframe\">\n  <thead>\n    <tr style=\"text-align: right;\">\n      <th></th>\n      <th>index</th>\n      <th>title</th>\n      <th>description</th>\n      <th>category</th>\n      <th>channel</th>\n      <th>k_means</th>\n      <th>image_l</th>\n    </tr>\n  </thead>\n  <tbody>\n    <tr>\n      <th>0</th>\n      <td>0</td>\n      <td>BBC Proms</td>\n      <td>Australian tenor Stuart Skelton is joined by L...</td>\n      <td>Music</td>\n      <td>bbc_radio_three</td>\n      <td>11</td>\n      <td>https://ichef.bbci.co.uk/images/ic/352x198/p09...</td>\n    </tr>\n    <tr>\n      <th>1</th>\n      <td>1</td>\n      <td>Port</td>\n      <td>Previously unseen music from the series Port, ...</td>\n      <td>Music</td>\n      <td>bbc_alba</td>\n      <td>7</td>\n      <td>https://ichef.bbci.co.uk/images/ic/352x198/p08...</td>\n    </tr>\n    <tr>\n      <th>2</th>\n      <td>2</td>\n      <td>Sit Down, Stand Up with Greg James</td>\n      <td>Tom Holland and Greg James cold call celebrity...</td>\n      <td>Entertainment</td>\n      <td>bbc_radio_one</td>\n      <td>10</td>\n      <td>https://ichef.bbci.co.uk/images/ic/352x198/p0b...</td>\n    </tr>\n    <tr>\n      <th>3</th>\n      <td>3</td>\n      <td>Ceiliúradh na Féile Pádraig</td>\n      <td>John Toal and Pauline Scanlon introduce an eve...</td>\n      <td>Music</td>\n      <td>bbc_two_northern_ireland_digital</td>\n      <td>7</td>\n      <td>https://ichef.bbci.co.uk/images/ic/352x198/p04...</td>\n    </tr>\n    <tr>\n      <th>4</th>\n      <td>4</td>\n      <td>Songs of Praise</td>\n      <td>Claire McCollum explores Edinburgh and shares ...</td>\n      <td>Music</td>\n      <td>bbc_one</td>\n      <td>9</td>\n      <td>https://ichef.bbci.co.uk/images/ic/352x198/p0b...</td>\n    </tr>\n    <tr>\n      <th>...</th>\n      <td>...</td>\n      <td>...</td>\n      <td>...</td>\n      <td>...</td>\n      <td>...</td>\n      <td>...</td>\n      <td>...</td>\n    </tr>\n    <tr>\n      <th>2321</th>\n      <td>3777</td>\n      <td>Models: Street to Catwalk</td>\n      <td>Kyra’s late arrival puts her modelling career ...</td>\n      <td>Documentary</td>\n      <td>bbc_three</td>\n      <td>9</td>\n      <td>https://ichef.bbci.co.uk/images/ic/352x198/p09...</td>\n    </tr>\n    <tr>\n      <th>2322</th>\n      <td>3789</td>\n      <td>Death On The I-95</td>\n      <td>Returning to the US to find out what happened ...</td>\n      <td>Documentary</td>\n      <td>bbc_three</td>\n      <td>1</td>\n      <td>https://ichef.bbci.co.uk/images/ic/352x198/p07...</td>\n    </tr>\n    <tr>\n      <th>2323</th>\n      <td>3793</td>\n      <td>Do Black Lives Still Matter?</td>\n      <td>Grime artist Saskilla asks, can the music indu...</td>\n      <td>Documentary</td>\n      <td>bbc_three</td>\n      <td>11</td>\n      <td>https://ichef.bbci.co.uk/images/ic/352x198/p09...</td>\n    </tr>\n    <tr>\n      <th>2324</th>\n      <td>3797</td>\n      <td>Ar An Sliabh</td>\n      <td>Paul packs up to return to his native Armagh a...</td>\n      <td>Documentary</td>\n      <td>bbc_webonly</td>\n      <td>7</td>\n      <td>https://ichef.bbci.co.uk/images/ic/352x198/p0b...</td>\n    </tr>\n    <tr>\n      <th>2325</th>\n      <td>3800</td>\n      <td>Avicii: True Stories</td>\n      <td>Avicii: True Stories is Tim Bergling’s own sto...</td>\n      <td>Documentary</td>\n      <td>bbc_three</td>\n      <td>9</td>\n      <td>https://ichef.bbci.co.uk/images/ic/352x198/p07...</td>\n    </tr>\n  </tbody>\n</table>\n<p>2326 rows × 7 columns</p>\n</div>"
     },
     "execution_count": 24,
     "metadata": {},
     "output_type": "execute_result"
    }
   ],
   "source": [
    "df_bbc_slim = df_bbc_merg.iloc[:, [0, 1, 2, 8, 9, 17, 21]]\n",
    "df_bbc_slim"
   ],
   "metadata": {
    "collapsed": false,
    "pycharm": {
     "name": "#%%\n"
    }
   }
  },
  {
   "cell_type": "code",
   "execution_count": 25,
   "outputs": [],
   "source": [
    "df_bbc_slim.columns = ['index', 'title', 'description', 'category', 'channel', 'adv_category', 'img']"
   ],
   "metadata": {
    "collapsed": false,
    "pycharm": {
     "name": "#%%\n"
    }
   }
  },
  {
   "cell_type": "code",
   "execution_count": 41,
   "outputs": [],
   "source": [
    "df_bbc_slim = df_bbc_slim.reset_index().iloc[:, [0, 2,3,4,5,6, 7]]"
   ],
   "metadata": {
    "collapsed": false,
    "pycharm": {
     "name": "#%%\n"
    }
   }
  },
  {
   "cell_type": "code",
   "execution_count": 42,
   "outputs": [],
   "source": [
    "df_bbc_slim.columns = ['index', 'title', 'description', 'category', 'channel', 'adv_category', 'img']"
   ],
   "metadata": {
    "collapsed": false,
    "pycharm": {
     "name": "#%%\n"
    }
   }
  },
  {
   "cell_type": "code",
   "execution_count": 43,
   "outputs": [],
   "source": [
    "# df_bbc_slim.to_csv('./../data/BBC/bbc_data_slim.csv')"
   ],
   "metadata": {
    "collapsed": false,
    "pycharm": {
     "name": "#%%\n"
    }
   }
  },
  {
   "cell_type": "code",
   "execution_count": 77,
   "outputs": [
    {
     "data": {
      "text/plain": "3       0.671965\n172     0.639252\n183     0.628866\n749     0.625085\n192     0.621512\n          ...   \n1639    0.229174\n2080    0.211944\n935     0.205230\n2055    0.195554\n1385    0.175631\nName: combined, Length: 2326, dtype: float64"
     },
     "execution_count": 77,
     "metadata": {},
     "output_type": "execute_result"
    }
   ],
   "source": [
    "combined = df_cos.iloc[:,[1,2,3]]\n",
    "df_cos['combined'] = combined.mean(axis=1)\n",
    "df_cos['combined'].sort_values(ascending=False)"
   ],
   "metadata": {
    "collapsed": false,
    "pycharm": {
     "name": "#%%\n"
    }
   }
  },
  {
   "cell_type": "code",
   "execution_count": 86,
   "outputs": [
    {
     "data": {
      "text/plain": "    Unnamed: 0         0         1         2         3         4         5  \\\n1            1  0.464569  1.000000  0.276400  0.500826  0.409278  0.324603   \n2            2  0.456215  0.276400  1.000000  0.515068  0.463887  0.565514   \n3            3  0.759457  0.500826  0.515068  1.000000  0.622449  0.738313   \n4            4  0.752888  0.409278  0.463887  0.622449  1.000000  0.705579   \n5            5  0.817963  0.324603  0.565514  0.738313  0.705579  1.000000   \n..         ...       ...       ...       ...       ...       ...       ...   \n95          95  0.650923  0.324623  0.458271  0.536036  0.728032  0.712740   \n96          96  0.609318  0.285616  0.438013  0.532466  0.698091  0.641838   \n97          97  0.737199  0.291181  0.498639  0.608746  0.720109  0.864829   \n98          98  0.750932  0.635492  0.430954  0.715362  0.635712  0.664503   \n99          99  0.783171  0.475602  0.473713  0.691982  0.687798  0.680615   \n\n           6         7         8  ...      2316      2317      2318      2319  \\\n1   0.260997  0.318547  0.332594  ...  0.237382  0.313001  0.229477  0.322347   \n2   0.456465  0.480797  0.404655  ...  0.509228  0.466864  0.372347  0.358217   \n3   0.668563  0.714047  0.395446  ...  0.470608  0.398964  0.345343  0.394587   \n4   0.671373  0.769527  0.730229  ...  0.576755  0.506818  0.439136  0.587217   \n5   0.853889  0.792876  0.535997  ...  0.557160  0.461945  0.336006  0.531765   \n..       ...       ...       ...  ...       ...       ...       ...       ...   \n95  0.723246  0.789703  0.699495  ...  0.573552  0.506305  0.389653  0.661572   \n96  0.629867  0.699402  0.644056  ...  0.488548  0.369026  0.362290  0.524622   \n97  0.825857  0.818352  0.657735  ...  0.679491  0.570903  0.383951  0.659221   \n98  0.649895  0.662768  0.471371  ...  0.372842  0.410879  0.306685  0.407787   \n99  0.723147  0.815812  0.605393  ...  0.393215  0.448816  0.400361  0.454909   \n\n        2320      2321      2322      2323      2324      2325  \n1   0.442119  0.175973  0.237692  0.267875  0.877725  0.278713  \n2   0.302932  0.401385  0.337785  0.541091  0.310047  0.442695  \n3   0.494136  0.348407  0.325590  0.466440  0.511251  0.503900  \n4   0.748822  0.580583  0.526698  0.634509  0.369326  0.638660  \n5   0.459272  0.467882  0.464923  0.596023  0.296917  0.703094  \n..       ...       ...       ...       ...       ...       ...  \n95  0.553825  0.572377  0.643866  0.615163  0.261735  0.823727  \n96  0.545288  0.472625  0.571902  0.614720  0.247530  0.672521  \n97  0.476024  0.589684  0.632455  0.652837  0.223825  0.830106  \n98  0.514606  0.395784  0.371811  0.401731  0.639460  0.483331  \n99  0.590006  0.423053  0.429001  0.491381  0.418946  0.593602  \n\n[99 rows x 2327 columns]",
      "text/html": "<div>\n<style scoped>\n    .dataframe tbody tr th:only-of-type {\n        vertical-align: middle;\n    }\n\n    .dataframe tbody tr th {\n        vertical-align: top;\n    }\n\n    .dataframe thead th {\n        text-align: right;\n    }\n</style>\n<table border=\"1\" class=\"dataframe\">\n  <thead>\n    <tr style=\"text-align: right;\">\n      <th></th>\n      <th>Unnamed: 0</th>\n      <th>0</th>\n      <th>1</th>\n      <th>2</th>\n      <th>3</th>\n      <th>4</th>\n      <th>5</th>\n      <th>6</th>\n      <th>7</th>\n      <th>8</th>\n      <th>...</th>\n      <th>2316</th>\n      <th>2317</th>\n      <th>2318</th>\n      <th>2319</th>\n      <th>2320</th>\n      <th>2321</th>\n      <th>2322</th>\n      <th>2323</th>\n      <th>2324</th>\n      <th>2325</th>\n    </tr>\n  </thead>\n  <tbody>\n    <tr>\n      <th>1</th>\n      <td>1</td>\n      <td>0.464569</td>\n      <td>1.000000</td>\n      <td>0.276400</td>\n      <td>0.500826</td>\n      <td>0.409278</td>\n      <td>0.324603</td>\n      <td>0.260997</td>\n      <td>0.318547</td>\n      <td>0.332594</td>\n      <td>...</td>\n      <td>0.237382</td>\n      <td>0.313001</td>\n      <td>0.229477</td>\n      <td>0.322347</td>\n      <td>0.442119</td>\n      <td>0.175973</td>\n      <td>0.237692</td>\n      <td>0.267875</td>\n      <td>0.877725</td>\n      <td>0.278713</td>\n    </tr>\n    <tr>\n      <th>2</th>\n      <td>2</td>\n      <td>0.456215</td>\n      <td>0.276400</td>\n      <td>1.000000</td>\n      <td>0.515068</td>\n      <td>0.463887</td>\n      <td>0.565514</td>\n      <td>0.456465</td>\n      <td>0.480797</td>\n      <td>0.404655</td>\n      <td>...</td>\n      <td>0.509228</td>\n      <td>0.466864</td>\n      <td>0.372347</td>\n      <td>0.358217</td>\n      <td>0.302932</td>\n      <td>0.401385</td>\n      <td>0.337785</td>\n      <td>0.541091</td>\n      <td>0.310047</td>\n      <td>0.442695</td>\n    </tr>\n    <tr>\n      <th>3</th>\n      <td>3</td>\n      <td>0.759457</td>\n      <td>0.500826</td>\n      <td>0.515068</td>\n      <td>1.000000</td>\n      <td>0.622449</td>\n      <td>0.738313</td>\n      <td>0.668563</td>\n      <td>0.714047</td>\n      <td>0.395446</td>\n      <td>...</td>\n      <td>0.470608</td>\n      <td>0.398964</td>\n      <td>0.345343</td>\n      <td>0.394587</td>\n      <td>0.494136</td>\n      <td>0.348407</td>\n      <td>0.325590</td>\n      <td>0.466440</td>\n      <td>0.511251</td>\n      <td>0.503900</td>\n    </tr>\n    <tr>\n      <th>4</th>\n      <td>4</td>\n      <td>0.752888</td>\n      <td>0.409278</td>\n      <td>0.463887</td>\n      <td>0.622449</td>\n      <td>1.000000</td>\n      <td>0.705579</td>\n      <td>0.671373</td>\n      <td>0.769527</td>\n      <td>0.730229</td>\n      <td>...</td>\n      <td>0.576755</td>\n      <td>0.506818</td>\n      <td>0.439136</td>\n      <td>0.587217</td>\n      <td>0.748822</td>\n      <td>0.580583</td>\n      <td>0.526698</td>\n      <td>0.634509</td>\n      <td>0.369326</td>\n      <td>0.638660</td>\n    </tr>\n    <tr>\n      <th>5</th>\n      <td>5</td>\n      <td>0.817963</td>\n      <td>0.324603</td>\n      <td>0.565514</td>\n      <td>0.738313</td>\n      <td>0.705579</td>\n      <td>1.000000</td>\n      <td>0.853889</td>\n      <td>0.792876</td>\n      <td>0.535997</td>\n      <td>...</td>\n      <td>0.557160</td>\n      <td>0.461945</td>\n      <td>0.336006</td>\n      <td>0.531765</td>\n      <td>0.459272</td>\n      <td>0.467882</td>\n      <td>0.464923</td>\n      <td>0.596023</td>\n      <td>0.296917</td>\n      <td>0.703094</td>\n    </tr>\n    <tr>\n      <th>...</th>\n      <td>...</td>\n      <td>...</td>\n      <td>...</td>\n      <td>...</td>\n      <td>...</td>\n      <td>...</td>\n      <td>...</td>\n      <td>...</td>\n      <td>...</td>\n      <td>...</td>\n      <td>...</td>\n      <td>...</td>\n      <td>...</td>\n      <td>...</td>\n      <td>...</td>\n      <td>...</td>\n      <td>...</td>\n      <td>...</td>\n      <td>...</td>\n      <td>...</td>\n      <td>...</td>\n    </tr>\n    <tr>\n      <th>95</th>\n      <td>95</td>\n      <td>0.650923</td>\n      <td>0.324623</td>\n      <td>0.458271</td>\n      <td>0.536036</td>\n      <td>0.728032</td>\n      <td>0.712740</td>\n      <td>0.723246</td>\n      <td>0.789703</td>\n      <td>0.699495</td>\n      <td>...</td>\n      <td>0.573552</td>\n      <td>0.506305</td>\n      <td>0.389653</td>\n      <td>0.661572</td>\n      <td>0.553825</td>\n      <td>0.572377</td>\n      <td>0.643866</td>\n      <td>0.615163</td>\n      <td>0.261735</td>\n      <td>0.823727</td>\n    </tr>\n    <tr>\n      <th>96</th>\n      <td>96</td>\n      <td>0.609318</td>\n      <td>0.285616</td>\n      <td>0.438013</td>\n      <td>0.532466</td>\n      <td>0.698091</td>\n      <td>0.641838</td>\n      <td>0.629867</td>\n      <td>0.699402</td>\n      <td>0.644056</td>\n      <td>...</td>\n      <td>0.488548</td>\n      <td>0.369026</td>\n      <td>0.362290</td>\n      <td>0.524622</td>\n      <td>0.545288</td>\n      <td>0.472625</td>\n      <td>0.571902</td>\n      <td>0.614720</td>\n      <td>0.247530</td>\n      <td>0.672521</td>\n    </tr>\n    <tr>\n      <th>97</th>\n      <td>97</td>\n      <td>0.737199</td>\n      <td>0.291181</td>\n      <td>0.498639</td>\n      <td>0.608746</td>\n      <td>0.720109</td>\n      <td>0.864829</td>\n      <td>0.825857</td>\n      <td>0.818352</td>\n      <td>0.657735</td>\n      <td>...</td>\n      <td>0.679491</td>\n      <td>0.570903</td>\n      <td>0.383951</td>\n      <td>0.659221</td>\n      <td>0.476024</td>\n      <td>0.589684</td>\n      <td>0.632455</td>\n      <td>0.652837</td>\n      <td>0.223825</td>\n      <td>0.830106</td>\n    </tr>\n    <tr>\n      <th>98</th>\n      <td>98</td>\n      <td>0.750932</td>\n      <td>0.635492</td>\n      <td>0.430954</td>\n      <td>0.715362</td>\n      <td>0.635712</td>\n      <td>0.664503</td>\n      <td>0.649895</td>\n      <td>0.662768</td>\n      <td>0.471371</td>\n      <td>...</td>\n      <td>0.372842</td>\n      <td>0.410879</td>\n      <td>0.306685</td>\n      <td>0.407787</td>\n      <td>0.514606</td>\n      <td>0.395784</td>\n      <td>0.371811</td>\n      <td>0.401731</td>\n      <td>0.639460</td>\n      <td>0.483331</td>\n    </tr>\n    <tr>\n      <th>99</th>\n      <td>99</td>\n      <td>0.783171</td>\n      <td>0.475602</td>\n      <td>0.473713</td>\n      <td>0.691982</td>\n      <td>0.687798</td>\n      <td>0.680615</td>\n      <td>0.723147</td>\n      <td>0.815812</td>\n      <td>0.605393</td>\n      <td>...</td>\n      <td>0.393215</td>\n      <td>0.448816</td>\n      <td>0.400361</td>\n      <td>0.454909</td>\n      <td>0.590006</td>\n      <td>0.423053</td>\n      <td>0.429001</td>\n      <td>0.491381</td>\n      <td>0.418946</td>\n      <td>0.593602</td>\n    </tr>\n  </tbody>\n</table>\n<p>99 rows × 2327 columns</p>\n</div>"
     },
     "execution_count": 86,
     "metadata": {},
     "output_type": "execute_result"
    }
   ],
   "source": [
    "df.iloc[df_img.iloc[1:100].index]"
   ],
   "metadata": {
    "collapsed": false,
    "pycharm": {
     "name": "#%%\n"
    }
   }
  },
  {
   "cell_type": "code",
   "execution_count": 89,
   "outputs": [
    {
     "data": {
      "text/plain": "      index                               title  \\\n0         0                           BBC Proms   \n1         1                                Port   \n2         2  Sit Down, Stand Up with Greg James   \n3         3         Ceiliúradh na Féile Pádraig   \n4         4                     Songs of Praise   \n...     ...                                 ...   \n3777   3777           Models: Street to Catwalk   \n3789   3789                   Death On The I-95   \n3793   3793        Do Black Lives Still Matter?   \n3797   3797                        Ar An Sliabh   \n3800   3800                Avicii: True Stories   \n\n                                            description  \\\n0     Australian tenor Stuart Skelton is joined by L...   \n1     Previously unseen music from the series Port, ...   \n2     Tom Holland and Greg James cold call celebrity...   \n3     John Toal and Pauline Scanlon introduce an eve...   \n4     Claire McCollum explores Edinburgh and shares ...   \n...                                                 ...   \n3777  Kyra’s late arrival puts her modelling career ...   \n3789  Returning to the US to find out what happened ...   \n3793  Grime artist Saskilla asks, can the music indu...   \n3797  Paul packs up to return to his native Armagh a...   \n3800  Avicii: True Stories is Tim Bergling’s own sto...   \n\n                                                  image  \\\n0     https://ichef.bbci.co.uk/images/ic/{recipe}/p0...   \n1     https://ichef.bbci.co.uk/images/ic/{recipe}/p0...   \n2     https://ichef.bbci.co.uk/images/ic/{recipe}/p0...   \n3     https://ichef.bbci.co.uk/images/ic/{recipe}/p0...   \n4     https://ichef.bbci.co.uk/images/ic/{recipe}/p0...   \n...                                                 ...   \n3777  https://ichef.bbci.co.uk/images/ic/{recipe}/p0...   \n3789  https://ichef.bbci.co.uk/images/ic/{recipe}/p0...   \n3793  https://ichef.bbci.co.uk/images/ic/{recipe}/p0...   \n3797  https://ichef.bbci.co.uk/images/ic/{recipe}/p0...   \n3800  https://ichef.bbci.co.uk/images/ic/{recipe}/p0...   \n\n                                               keywords  \\\n0     BBC, iPlayer, TV, BBC Proms, 2021: Last Night ...   \n1           BBC, iPlayer, TV, Port, Series 5: Episode 4   \n2     BBC, iPlayer, TV, Sit Down, Stand Up with Greg...   \n3         BBC, iPlayer, TV, Ceiliúradh na Féile Pádraig   \n4          BBC, iPlayer, TV, Songs of Praise, Edinburgh   \n...                                                 ...   \n3777  BBC, iPlayer, TV, Models: Street to Catwalk, S...   \n3789                BBC, iPlayer, TV, Death On The I-95   \n3793  BBC, iPlayer, TV, Do Black Lives Still Matter?...   \n3797  BBC, iPlayer, TV, Ar An Sliabh, Series 1: Epis...   \n3800             BBC, iPlayer, TV, Avicii: True Stories   \n\n                                                 syno_s  \\\n0     Australian tenor Stuart Skelton is joined by L...   \n1     Previously unseen music from the series Port, ...   \n2     Tom Holland and Greg James cold call celebrity...   \n3     John Toal and Pauline Scanlon introduce an eve...   \n4     Claire McCollum explores Edinburgh and shares ...   \n...                                                 ...   \n3777  Kyra’s late arrival puts her modelling career ...   \n3789  Returning to the US to find out what happened ...   \n3793  Grime artist Saskilla asks, can the music indu...   \n3797  Paul packs up to return to his native Armagh a...   \n3800  Avicii: True Stories is Tim Bergling’s own sto...   \n\n                                                 syno_m  \\\n0     Australian tenor Stuart Skelton is joined by L...   \n1     Julie Fowlis a’ lìbhrigeadh ceòl bhon t-sreath...   \n2     Tom Holland and Greg James cold call celebrity...   \n3     John Toal and Pauline Scanlon introduce an eve...   \n4     Claire McCollum goes on a Christian heritage t...   \n...                                                 ...   \n3777  Kyra jeopardises her modelling career by turni...   \n3789  Following a report on the growing problem of o...   \n3793  The music industry pledged millions in support...   \n3797  Paul packs up to return to his native Armagh a...   \n3800  Avicii: True Stories is Tim Bergling’s own sto...   \n\n                                                 syno_l       category  \\\n0     Katie Derham hosts continued live coverage fro...          Music   \n1     Bidh Druthag Bheag Eile a’ tarraing ri chèile ...          Music   \n2     Tom Holland and Greg James cold call celebrity...  Entertainment   \n3     John Toal and Pauline Scanlon introduce an eve...          Music   \n4     Claire McCollum explores Edinburgh and discove...          Music   \n...                                                 ...            ...   \n3777  How will Kyra cope after a train malfunction m...    Documentary   \n3789  Drug overdose is now the main cause of death f...    Documentary   \n3793  The music industry reacted with a surge of out...    Documentary   \n3797  I Sliabh Eachtaí, tá Cérill ag déanamh réidh d...    Documentary   \n3800  In 2006, Tim Bergling was just a regular teena...    Documentary   \n\n                               channel  \\\n0                      bbc_radio_three   \n1                             bbc_alba   \n2                        bbc_radio_one   \n3     bbc_two_northern_ireland_digital   \n4                              bbc_one   \n...                                ...   \n3777                         bbc_three   \n3789                         bbc_three   \n3793                         bbc_three   \n3797                       bbc_webonly   \n3800                         bbc_three   \n\n                                               language        release_date  \\\n0                                                 False     9pm 11 Sep 2021   \n1                                                 False          9 Jul 2020   \n2                                                 False         10 Feb 2022   \n3                                                 False         17 Mar 2017   \n4                                                 False  1:15pm 20 Feb 2022   \n...                                                 ...                 ...   \n3777  Contains some strong language and some upsetti...          8 Aug 2021   \n3789  Contains some strong language and upsetting sc...         24 Oct 2018   \n3793                                              False         31 May 2021   \n3797                                              False         22 Nov 2021   \n3800                          Contains strong language.         20 Apr 2019   \n\n      duration_sec                           topic  \\\n0             5247  ['music', 'from-the-archives']   \n1             1037                       ['music']   \n2              611      ['music', 'entertainment']   \n3             3538                       ['music']   \n4             2044          ['music', 'lifestyle']   \n...            ...                             ...   \n3777          1843               ['documentaries']   \n3789          3426               ['documentaries']   \n3793          1524               ['documentaries']   \n3797          1740               ['documentaries']   \n3800          5766               ['documentaries']   \n\n                                         spacied_syno_l  \\\n0     Katie Derham hosts continued live coverage fro...   \n1     Bidh Druthag Bheag Eile a’ tarraing ri chèile ...   \n2     Tom Holland and Greg James cold call celebrity...   \n3     John Toal and Pauline Scanlon introduce an eve...   \n4     Claire McCollum explores Edinburgh and discove...   \n...                                                 ...   \n3777  How will Kyra cope after a train malfunction m...   \n3789  Drug overdose is now the main cause of death f...   \n3793  The music industry reacted with a surge of out...   \n3797  I Sliabh Eachtaí, tá Cérill ag déanamh réidh d...   \n3800  In 2006, Tim Bergling was just a regular teena...   \n\n                                       processed_syno_l  \\\n0     ['Katie', 'Derham', 'host', 'continue', 'live'...   \n1     ['Bidh', 'Druthag', 'Bheag', 'Eile', 'tarraing...   \n2     ['Tom', 'Holland', 'Greg', 'James', 'cold', 'c...   \n3     ['John', 'Toal', 'Pauline', 'Scanlon', 'introd...   \n4     ['Claire', 'McCollum', 'explore', 'Edinburgh',...   \n...                                                 ...   \n3777  ['Kyra', 'cope', 'train', 'malfunction', 'make...   \n3789  ['drug', 'main', 'cause', 'death', 'Americans'...   \n3793  ['music', 'industry', 'react', 'surge', 'outra...   \n3797  ['Sliabh', 'Eachtaí', 'tá', 'Cérill', 'ag', 'd...   \n3800  ['Tim', 'Bergling', 'regular', 'teenager', 'li...   \n\n                            processed_syno_l_one_string  k_means  \n0     Katie Derham host continue live coverage Royal...       11  \n1     Bidh Druthag Bheag Eile tarraing ri chèile pìo...        7  \n2     Tom Holland Greg James cold celebrity friend f...       10  \n3     John Toal Pauline Scanlon introduce evening mu...        7  \n4     Claire McCollum explore Edinburgh discover ric...        9  \n...                                                 ...      ...  \n3777  Kyra cope train malfunction make hour crucial ...        9  \n3789  drug main cause death Americans age likely die...        1  \n3793  music industry react surge outrage death Georg...       11  \n3797  Sliabh Eachtaí tá Cérill ag déanamh réidh don ...        7  \n3800  Tim Bergling regular teenager live small apart...        9  \n\n[2326 rows x 18 columns]",
      "text/html": "<div>\n<style scoped>\n    .dataframe tbody tr th:only-of-type {\n        vertical-align: middle;\n    }\n\n    .dataframe tbody tr th {\n        vertical-align: top;\n    }\n\n    .dataframe thead th {\n        text-align: right;\n    }\n</style>\n<table border=\"1\" class=\"dataframe\">\n  <thead>\n    <tr style=\"text-align: right;\">\n      <th></th>\n      <th>index</th>\n      <th>title</th>\n      <th>description</th>\n      <th>image</th>\n      <th>keywords</th>\n      <th>syno_s</th>\n      <th>syno_m</th>\n      <th>syno_l</th>\n      <th>category</th>\n      <th>channel</th>\n      <th>language</th>\n      <th>release_date</th>\n      <th>duration_sec</th>\n      <th>topic</th>\n      <th>spacied_syno_l</th>\n      <th>processed_syno_l</th>\n      <th>processed_syno_l_one_string</th>\n      <th>k_means</th>\n    </tr>\n  </thead>\n  <tbody>\n    <tr>\n      <th>0</th>\n      <td>0</td>\n      <td>BBC Proms</td>\n      <td>Australian tenor Stuart Skelton is joined by L...</td>\n      <td>https://ichef.bbci.co.uk/images/ic/{recipe}/p0...</td>\n      <td>BBC, iPlayer, TV, BBC Proms, 2021: Last Night ...</td>\n      <td>Australian tenor Stuart Skelton is joined by L...</td>\n      <td>Australian tenor Stuart Skelton is joined by L...</td>\n      <td>Katie Derham hosts continued live coverage fro...</td>\n      <td>Music</td>\n      <td>bbc_radio_three</td>\n      <td>False</td>\n      <td>9pm 11 Sep 2021</td>\n      <td>5247</td>\n      <td>['music', 'from-the-archives']</td>\n      <td>Katie Derham hosts continued live coverage fro...</td>\n      <td>['Katie', 'Derham', 'host', 'continue', 'live'...</td>\n      <td>Katie Derham host continue live coverage Royal...</td>\n      <td>11</td>\n    </tr>\n    <tr>\n      <th>1</th>\n      <td>1</td>\n      <td>Port</td>\n      <td>Previously unseen music from the series Port, ...</td>\n      <td>https://ichef.bbci.co.uk/images/ic/{recipe}/p0...</td>\n      <td>BBC, iPlayer, TV, Port, Series 5: Episode 4</td>\n      <td>Previously unseen music from the series Port, ...</td>\n      <td>Julie Fowlis a’ lìbhrigeadh ceòl bhon t-sreath...</td>\n      <td>Bidh Druthag Bheag Eile a’ tarraing ri chèile ...</td>\n      <td>Music</td>\n      <td>bbc_alba</td>\n      <td>False</td>\n      <td>9 Jul 2020</td>\n      <td>1037</td>\n      <td>['music']</td>\n      <td>Bidh Druthag Bheag Eile a’ tarraing ri chèile ...</td>\n      <td>['Bidh', 'Druthag', 'Bheag', 'Eile', 'tarraing...</td>\n      <td>Bidh Druthag Bheag Eile tarraing ri chèile pìo...</td>\n      <td>7</td>\n    </tr>\n    <tr>\n      <th>2</th>\n      <td>2</td>\n      <td>Sit Down, Stand Up with Greg James</td>\n      <td>Tom Holland and Greg James cold call celebrity...</td>\n      <td>https://ichef.bbci.co.uk/images/ic/{recipe}/p0...</td>\n      <td>BBC, iPlayer, TV, Sit Down, Stand Up with Greg...</td>\n      <td>Tom Holland and Greg James cold call celebrity...</td>\n      <td>Tom Holland and Greg James cold call celebrity...</td>\n      <td>Tom Holland and Greg James cold call celebrity...</td>\n      <td>Entertainment</td>\n      <td>bbc_radio_one</td>\n      <td>False</td>\n      <td>10 Feb 2022</td>\n      <td>611</td>\n      <td>['music', 'entertainment']</td>\n      <td>Tom Holland and Greg James cold call celebrity...</td>\n      <td>['Tom', 'Holland', 'Greg', 'James', 'cold', 'c...</td>\n      <td>Tom Holland Greg James cold celebrity friend f...</td>\n      <td>10</td>\n    </tr>\n    <tr>\n      <th>3</th>\n      <td>3</td>\n      <td>Ceiliúradh na Féile Pádraig</td>\n      <td>John Toal and Pauline Scanlon introduce an eve...</td>\n      <td>https://ichef.bbci.co.uk/images/ic/{recipe}/p0...</td>\n      <td>BBC, iPlayer, TV, Ceiliúradh na Féile Pádraig</td>\n      <td>John Toal and Pauline Scanlon introduce an eve...</td>\n      <td>John Toal and Pauline Scanlon introduce an eve...</td>\n      <td>John Toal and Pauline Scanlon introduce an eve...</td>\n      <td>Music</td>\n      <td>bbc_two_northern_ireland_digital</td>\n      <td>False</td>\n      <td>17 Mar 2017</td>\n      <td>3538</td>\n      <td>['music']</td>\n      <td>John Toal and Pauline Scanlon introduce an eve...</td>\n      <td>['John', 'Toal', 'Pauline', 'Scanlon', 'introd...</td>\n      <td>John Toal Pauline Scanlon introduce evening mu...</td>\n      <td>7</td>\n    </tr>\n    <tr>\n      <th>4</th>\n      <td>4</td>\n      <td>Songs of Praise</td>\n      <td>Claire McCollum explores Edinburgh and shares ...</td>\n      <td>https://ichef.bbci.co.uk/images/ic/{recipe}/p0...</td>\n      <td>BBC, iPlayer, TV, Songs of Praise, Edinburgh</td>\n      <td>Claire McCollum explores Edinburgh and shares ...</td>\n      <td>Claire McCollum goes on a Christian heritage t...</td>\n      <td>Claire McCollum explores Edinburgh and discove...</td>\n      <td>Music</td>\n      <td>bbc_one</td>\n      <td>False</td>\n      <td>1:15pm 20 Feb 2022</td>\n      <td>2044</td>\n      <td>['music', 'lifestyle']</td>\n      <td>Claire McCollum explores Edinburgh and discove...</td>\n      <td>['Claire', 'McCollum', 'explore', 'Edinburgh',...</td>\n      <td>Claire McCollum explore Edinburgh discover ric...</td>\n      <td>9</td>\n    </tr>\n    <tr>\n      <th>...</th>\n      <td>...</td>\n      <td>...</td>\n      <td>...</td>\n      <td>...</td>\n      <td>...</td>\n      <td>...</td>\n      <td>...</td>\n      <td>...</td>\n      <td>...</td>\n      <td>...</td>\n      <td>...</td>\n      <td>...</td>\n      <td>...</td>\n      <td>...</td>\n      <td>...</td>\n      <td>...</td>\n      <td>...</td>\n      <td>...</td>\n    </tr>\n    <tr>\n      <th>3777</th>\n      <td>3777</td>\n      <td>Models: Street to Catwalk</td>\n      <td>Kyra’s late arrival puts her modelling career ...</td>\n      <td>https://ichef.bbci.co.uk/images/ic/{recipe}/p0...</td>\n      <td>BBC, iPlayer, TV, Models: Street to Catwalk, S...</td>\n      <td>Kyra’s late arrival puts her modelling career ...</td>\n      <td>Kyra jeopardises her modelling career by turni...</td>\n      <td>How will Kyra cope after a train malfunction m...</td>\n      <td>Documentary</td>\n      <td>bbc_three</td>\n      <td>Contains some strong language and some upsetti...</td>\n      <td>8 Aug 2021</td>\n      <td>1843</td>\n      <td>['documentaries']</td>\n      <td>How will Kyra cope after a train malfunction m...</td>\n      <td>['Kyra', 'cope', 'train', 'malfunction', 'make...</td>\n      <td>Kyra cope train malfunction make hour crucial ...</td>\n      <td>9</td>\n    </tr>\n    <tr>\n      <th>3789</th>\n      <td>3789</td>\n      <td>Death On The I-95</td>\n      <td>Returning to the US to find out what happened ...</td>\n      <td>https://ichef.bbci.co.uk/images/ic/{recipe}/p0...</td>\n      <td>BBC, iPlayer, TV, Death On The I-95</td>\n      <td>Returning to the US to find out what happened ...</td>\n      <td>Following a report on the growing problem of o...</td>\n      <td>Drug overdose is now the main cause of death f...</td>\n      <td>Documentary</td>\n      <td>bbc_three</td>\n      <td>Contains some strong language and upsetting sc...</td>\n      <td>24 Oct 2018</td>\n      <td>3426</td>\n      <td>['documentaries']</td>\n      <td>Drug overdose is now the main cause of death f...</td>\n      <td>['drug', 'main', 'cause', 'death', 'Americans'...</td>\n      <td>drug main cause death Americans age likely die...</td>\n      <td>1</td>\n    </tr>\n    <tr>\n      <th>3793</th>\n      <td>3793</td>\n      <td>Do Black Lives Still Matter?</td>\n      <td>Grime artist Saskilla asks, can the music indu...</td>\n      <td>https://ichef.bbci.co.uk/images/ic/{recipe}/p0...</td>\n      <td>BBC, iPlayer, TV, Do Black Lives Still Matter?...</td>\n      <td>Grime artist Saskilla asks, can the music indu...</td>\n      <td>The music industry pledged millions in support...</td>\n      <td>The music industry reacted with a surge of out...</td>\n      <td>Documentary</td>\n      <td>bbc_three</td>\n      <td>False</td>\n      <td>31 May 2021</td>\n      <td>1524</td>\n      <td>['documentaries']</td>\n      <td>The music industry reacted with a surge of out...</td>\n      <td>['music', 'industry', 'react', 'surge', 'outra...</td>\n      <td>music industry react surge outrage death Georg...</td>\n      <td>11</td>\n    </tr>\n    <tr>\n      <th>3797</th>\n      <td>3797</td>\n      <td>Ar An Sliabh</td>\n      <td>Paul packs up to return to his native Armagh a...</td>\n      <td>https://ichef.bbci.co.uk/images/ic/{recipe}/p0...</td>\n      <td>BBC, iPlayer, TV, Ar An Sliabh, Series 1: Epis...</td>\n      <td>Paul packs up to return to his native Armagh a...</td>\n      <td>Paul packs up to return to his native Armagh a...</td>\n      <td>I Sliabh Eachtaí, tá Cérill ag déanamh réidh d...</td>\n      <td>Documentary</td>\n      <td>bbc_webonly</td>\n      <td>False</td>\n      <td>22 Nov 2021</td>\n      <td>1740</td>\n      <td>['documentaries']</td>\n      <td>I Sliabh Eachtaí, tá Cérill ag déanamh réidh d...</td>\n      <td>['Sliabh', 'Eachtaí', 'tá', 'Cérill', 'ag', 'd...</td>\n      <td>Sliabh Eachtaí tá Cérill ag déanamh réidh don ...</td>\n      <td>7</td>\n    </tr>\n    <tr>\n      <th>3800</th>\n      <td>3800</td>\n      <td>Avicii: True Stories</td>\n      <td>Avicii: True Stories is Tim Bergling’s own sto...</td>\n      <td>https://ichef.bbci.co.uk/images/ic/{recipe}/p0...</td>\n      <td>BBC, iPlayer, TV, Avicii: True Stories</td>\n      <td>Avicii: True Stories is Tim Bergling’s own sto...</td>\n      <td>Avicii: True Stories is Tim Bergling’s own sto...</td>\n      <td>In 2006, Tim Bergling was just a regular teena...</td>\n      <td>Documentary</td>\n      <td>bbc_three</td>\n      <td>Contains strong language.</td>\n      <td>20 Apr 2019</td>\n      <td>5766</td>\n      <td>['documentaries']</td>\n      <td>In 2006, Tim Bergling was just a regular teena...</td>\n      <td>['Tim', 'Bergling', 'regular', 'teenager', 'li...</td>\n      <td>Tim Bergling regular teenager live small apart...</td>\n      <td>9</td>\n    </tr>\n  </tbody>\n</table>\n<p>2326 rows × 18 columns</p>\n</div>"
     },
     "execution_count": 89,
     "metadata": {},
     "output_type": "execute_result"
    }
   ],
   "source": [
    "df"
   ],
   "metadata": {
    "collapsed": false,
    "pycharm": {
     "name": "#%%\n"
    }
   }
  },
  {
   "cell_type": "markdown",
   "source": [
    "## Messing around with similarity measures"
   ],
   "metadata": {
    "collapsed": false
   }
  },
  {
   "cell_type": "code",
   "execution_count": 2,
   "outputs": [],
   "source": [
    "df_bbc = pd.read_csv('./../data/BBC/bbc_data_slim.csv', sep=',', index_col=0)\n",
    "cos = pd.read_csv('./../data/BBC/cosine_similarity.csv', sep=';', index_col=0)"
   ],
   "metadata": {
    "collapsed": false,
    "pycharm": {
     "name": "#%%\n"
    }
   }
  },
  {
   "cell_type": "code",
   "execution_count": 5,
   "outputs": [
    {
     "data": {
      "text/plain": "      index                               title  \\\n0         0                           BBC Proms   \n1         1                                Port   \n2         2  Sit Down, Stand Up with Greg James   \n3         3         Ceiliúradh na Féile Pádraig   \n4         4                     Songs of Praise   \n...     ...                                 ...   \n2321   2321           Models: Street to Catwalk   \n2322   2322                   Death On The I-95   \n2323   2323        Do Black Lives Still Matter?   \n2324   2324                        Ar An Sliabh   \n2325   2325                Avicii: True Stories   \n\n                                            description       category  \\\n0     Australian tenor Stuart Skelton is joined by L...          Music   \n1     Previously unseen music from the series Port, ...          Music   \n2     Tom Holland and Greg James cold call celebrity...  Entertainment   \n3     John Toal and Pauline Scanlon introduce an eve...          Music   \n4     Claire McCollum explores Edinburgh and shares ...          Music   \n...                                                 ...            ...   \n2321  Kyra’s late arrival puts her modelling career ...    Documentary   \n2322  Returning to the US to find out what happened ...    Documentary   \n2323  Grime artist Saskilla asks, can the music indu...    Documentary   \n2324  Paul packs up to return to his native Armagh a...    Documentary   \n2325  Avicii: True Stories is Tim Bergling’s own sto...    Documentary   \n\n                               channel  adv_category  \\\n0                      bbc_radio_three            11   \n1                             bbc_alba             7   \n2                        bbc_radio_one            10   \n3     bbc_two_northern_ireland_digital             7   \n4                              bbc_one             9   \n...                                ...           ...   \n2321                         bbc_three             9   \n2322                         bbc_three             1   \n2323                         bbc_three            11   \n2324                       bbc_webonly             7   \n2325                         bbc_three             9   \n\n                                                    img  \n0     https://ichef.bbci.co.uk/images/ic/352x198/p09...  \n1     https://ichef.bbci.co.uk/images/ic/352x198/p08...  \n2     https://ichef.bbci.co.uk/images/ic/352x198/p0b...  \n3     https://ichef.bbci.co.uk/images/ic/352x198/p04...  \n4     https://ichef.bbci.co.uk/images/ic/352x198/p0b...  \n...                                                 ...  \n2321  https://ichef.bbci.co.uk/images/ic/352x198/p09...  \n2322  https://ichef.bbci.co.uk/images/ic/352x198/p07...  \n2323  https://ichef.bbci.co.uk/images/ic/352x198/p09...  \n2324  https://ichef.bbci.co.uk/images/ic/352x198/p0b...  \n2325  https://ichef.bbci.co.uk/images/ic/352x198/p07...  \n\n[2326 rows x 7 columns]",
      "text/html": "<div>\n<style scoped>\n    .dataframe tbody tr th:only-of-type {\n        vertical-align: middle;\n    }\n\n    .dataframe tbody tr th {\n        vertical-align: top;\n    }\n\n    .dataframe thead th {\n        text-align: right;\n    }\n</style>\n<table border=\"1\" class=\"dataframe\">\n  <thead>\n    <tr style=\"text-align: right;\">\n      <th></th>\n      <th>index</th>\n      <th>title</th>\n      <th>description</th>\n      <th>category</th>\n      <th>channel</th>\n      <th>adv_category</th>\n      <th>img</th>\n    </tr>\n  </thead>\n  <tbody>\n    <tr>\n      <th>0</th>\n      <td>0</td>\n      <td>BBC Proms</td>\n      <td>Australian tenor Stuart Skelton is joined by L...</td>\n      <td>Music</td>\n      <td>bbc_radio_three</td>\n      <td>11</td>\n      <td>https://ichef.bbci.co.uk/images/ic/352x198/p09...</td>\n    </tr>\n    <tr>\n      <th>1</th>\n      <td>1</td>\n      <td>Port</td>\n      <td>Previously unseen music from the series Port, ...</td>\n      <td>Music</td>\n      <td>bbc_alba</td>\n      <td>7</td>\n      <td>https://ichef.bbci.co.uk/images/ic/352x198/p08...</td>\n    </tr>\n    <tr>\n      <th>2</th>\n      <td>2</td>\n      <td>Sit Down, Stand Up with Greg James</td>\n      <td>Tom Holland and Greg James cold call celebrity...</td>\n      <td>Entertainment</td>\n      <td>bbc_radio_one</td>\n      <td>10</td>\n      <td>https://ichef.bbci.co.uk/images/ic/352x198/p0b...</td>\n    </tr>\n    <tr>\n      <th>3</th>\n      <td>3</td>\n      <td>Ceiliúradh na Féile Pádraig</td>\n      <td>John Toal and Pauline Scanlon introduce an eve...</td>\n      <td>Music</td>\n      <td>bbc_two_northern_ireland_digital</td>\n      <td>7</td>\n      <td>https://ichef.bbci.co.uk/images/ic/352x198/p04...</td>\n    </tr>\n    <tr>\n      <th>4</th>\n      <td>4</td>\n      <td>Songs of Praise</td>\n      <td>Claire McCollum explores Edinburgh and shares ...</td>\n      <td>Music</td>\n      <td>bbc_one</td>\n      <td>9</td>\n      <td>https://ichef.bbci.co.uk/images/ic/352x198/p0b...</td>\n    </tr>\n    <tr>\n      <th>...</th>\n      <td>...</td>\n      <td>...</td>\n      <td>...</td>\n      <td>...</td>\n      <td>...</td>\n      <td>...</td>\n      <td>...</td>\n    </tr>\n    <tr>\n      <th>2321</th>\n      <td>2321</td>\n      <td>Models: Street to Catwalk</td>\n      <td>Kyra’s late arrival puts her modelling career ...</td>\n      <td>Documentary</td>\n      <td>bbc_three</td>\n      <td>9</td>\n      <td>https://ichef.bbci.co.uk/images/ic/352x198/p09...</td>\n    </tr>\n    <tr>\n      <th>2322</th>\n      <td>2322</td>\n      <td>Death On The I-95</td>\n      <td>Returning to the US to find out what happened ...</td>\n      <td>Documentary</td>\n      <td>bbc_three</td>\n      <td>1</td>\n      <td>https://ichef.bbci.co.uk/images/ic/352x198/p07...</td>\n    </tr>\n    <tr>\n      <th>2323</th>\n      <td>2323</td>\n      <td>Do Black Lives Still Matter?</td>\n      <td>Grime artist Saskilla asks, can the music indu...</td>\n      <td>Documentary</td>\n      <td>bbc_three</td>\n      <td>11</td>\n      <td>https://ichef.bbci.co.uk/images/ic/352x198/p09...</td>\n    </tr>\n    <tr>\n      <th>2324</th>\n      <td>2324</td>\n      <td>Ar An Sliabh</td>\n      <td>Paul packs up to return to his native Armagh a...</td>\n      <td>Documentary</td>\n      <td>bbc_webonly</td>\n      <td>7</td>\n      <td>https://ichef.bbci.co.uk/images/ic/352x198/p0b...</td>\n    </tr>\n    <tr>\n      <th>2325</th>\n      <td>2325</td>\n      <td>Avicii: True Stories</td>\n      <td>Avicii: True Stories is Tim Bergling’s own sto...</td>\n      <td>Documentary</td>\n      <td>bbc_three</td>\n      <td>9</td>\n      <td>https://ichef.bbci.co.uk/images/ic/352x198/p07...</td>\n    </tr>\n  </tbody>\n</table>\n<p>2326 rows × 7 columns</p>\n</div>"
     },
     "execution_count": 5,
     "metadata": {},
     "output_type": "execute_result"
    }
   ],
   "source": [
    "df_bbc"
   ],
   "metadata": {
    "collapsed": false,
    "pycharm": {
     "name": "#%%\n"
    }
   }
  },
  {
   "cell_type": "code",
   "execution_count": 6,
   "outputs": [
    {
     "data": {
      "text/plain": "             0         1         2         3         4         5         6  \\\n0     1.000000  0.464569  0.456215  0.759457  0.752888  0.817963  0.844283   \n1     0.464569  1.000000  0.276400  0.500826  0.409278  0.324603  0.260997   \n2     0.456215  0.276400  1.000000  0.515068  0.463887  0.565514  0.456465   \n3     0.759457  0.500826  0.515068  1.000000  0.622449  0.738313  0.668563   \n4     0.752888  0.409278  0.463887  0.622449  1.000000  0.705579  0.671373   \n...        ...       ...       ...       ...       ...       ...       ...   \n2321  0.386949  0.175973  0.401385  0.348407  0.580583  0.467882  0.473950   \n2322  0.408679  0.237692  0.337785  0.325590  0.526698  0.464923  0.516740   \n2323  0.504979  0.267875  0.541091  0.466440  0.634509  0.596023  0.577080   \n2324  0.394167  0.877725  0.310047  0.511251  0.369326  0.296917  0.209242   \n2325  0.591685  0.278713  0.442695  0.503900  0.638660  0.703094  0.736998   \n\n             7         8         9  ...      2316      2317      2318  \\\n0     0.833293  0.624325  0.714856  ...  0.494571  0.404984  0.297471   \n1     0.318547  0.332594  0.532213  ...  0.237382  0.313001  0.229477   \n2     0.480797  0.404655  0.434049  ...  0.509228  0.466864  0.372347   \n3     0.714047  0.395446  0.621673  ...  0.470608  0.398964  0.345343   \n4     0.769527  0.730229  0.689653  ...  0.576755  0.506818  0.439136   \n...        ...       ...       ...  ...       ...       ...       ...   \n2321  0.493751  0.578729  0.474601  ...  0.512476  0.594405  0.491411   \n2322  0.520363  0.595682  0.404929  ...  0.571575  0.624707  0.529199   \n2323  0.571917  0.621068  0.463083  ...  0.581656  0.532636  0.577583   \n2324  0.249882  0.257936  0.496477  ...  0.179157  0.238167  0.201336   \n2325  0.730659  0.670514  0.578775  ...  0.650593  0.539832  0.442344   \n\n          2319      2320      2321      2322      2323      2324      2325  \n0     0.484163  0.610856  0.386949  0.408679  0.504979  0.394167  0.591685  \n1     0.322347  0.442119  0.175973  0.237692  0.267875  0.877725  0.278713  \n2     0.358217  0.302932  0.401385  0.337785  0.541091  0.310047  0.442695  \n3     0.394587  0.494136  0.348407  0.325590  0.466440  0.511251  0.503900  \n4     0.587217  0.748822  0.580583  0.526698  0.634509  0.369326  0.638660  \n...        ...       ...       ...       ...       ...       ...       ...  \n2321  0.708732  0.403681  1.000000  0.689001  0.661167  0.149656  0.557155  \n2322  0.794125  0.304786  0.689001  1.000000  0.727510  0.162182  0.680074  \n2323  0.712539  0.392916  0.661167  0.727510  1.000000  0.212749  0.643721  \n2324  0.264322  0.384121  0.149656  0.162182  0.212749  1.000000  0.203437  \n2325  0.702610  0.425400  0.557155  0.680074  0.643721  0.203437  1.000000  \n\n[2326 rows x 2326 columns]",
      "text/html": "<div>\n<style scoped>\n    .dataframe tbody tr th:only-of-type {\n        vertical-align: middle;\n    }\n\n    .dataframe tbody tr th {\n        vertical-align: top;\n    }\n\n    .dataframe thead th {\n        text-align: right;\n    }\n</style>\n<table border=\"1\" class=\"dataframe\">\n  <thead>\n    <tr style=\"text-align: right;\">\n      <th></th>\n      <th>0</th>\n      <th>1</th>\n      <th>2</th>\n      <th>3</th>\n      <th>4</th>\n      <th>5</th>\n      <th>6</th>\n      <th>7</th>\n      <th>8</th>\n      <th>9</th>\n      <th>...</th>\n      <th>2316</th>\n      <th>2317</th>\n      <th>2318</th>\n      <th>2319</th>\n      <th>2320</th>\n      <th>2321</th>\n      <th>2322</th>\n      <th>2323</th>\n      <th>2324</th>\n      <th>2325</th>\n    </tr>\n  </thead>\n  <tbody>\n    <tr>\n      <th>0</th>\n      <td>1.000000</td>\n      <td>0.464569</td>\n      <td>0.456215</td>\n      <td>0.759457</td>\n      <td>0.752888</td>\n      <td>0.817963</td>\n      <td>0.844283</td>\n      <td>0.833293</td>\n      <td>0.624325</td>\n      <td>0.714856</td>\n      <td>...</td>\n      <td>0.494571</td>\n      <td>0.404984</td>\n      <td>0.297471</td>\n      <td>0.484163</td>\n      <td>0.610856</td>\n      <td>0.386949</td>\n      <td>0.408679</td>\n      <td>0.504979</td>\n      <td>0.394167</td>\n      <td>0.591685</td>\n    </tr>\n    <tr>\n      <th>1</th>\n      <td>0.464569</td>\n      <td>1.000000</td>\n      <td>0.276400</td>\n      <td>0.500826</td>\n      <td>0.409278</td>\n      <td>0.324603</td>\n      <td>0.260997</td>\n      <td>0.318547</td>\n      <td>0.332594</td>\n      <td>0.532213</td>\n      <td>...</td>\n      <td>0.237382</td>\n      <td>0.313001</td>\n      <td>0.229477</td>\n      <td>0.322347</td>\n      <td>0.442119</td>\n      <td>0.175973</td>\n      <td>0.237692</td>\n      <td>0.267875</td>\n      <td>0.877725</td>\n      <td>0.278713</td>\n    </tr>\n    <tr>\n      <th>2</th>\n      <td>0.456215</td>\n      <td>0.276400</td>\n      <td>1.000000</td>\n      <td>0.515068</td>\n      <td>0.463887</td>\n      <td>0.565514</td>\n      <td>0.456465</td>\n      <td>0.480797</td>\n      <td>0.404655</td>\n      <td>0.434049</td>\n      <td>...</td>\n      <td>0.509228</td>\n      <td>0.466864</td>\n      <td>0.372347</td>\n      <td>0.358217</td>\n      <td>0.302932</td>\n      <td>0.401385</td>\n      <td>0.337785</td>\n      <td>0.541091</td>\n      <td>0.310047</td>\n      <td>0.442695</td>\n    </tr>\n    <tr>\n      <th>3</th>\n      <td>0.759457</td>\n      <td>0.500826</td>\n      <td>0.515068</td>\n      <td>1.000000</td>\n      <td>0.622449</td>\n      <td>0.738313</td>\n      <td>0.668563</td>\n      <td>0.714047</td>\n      <td>0.395446</td>\n      <td>0.621673</td>\n      <td>...</td>\n      <td>0.470608</td>\n      <td>0.398964</td>\n      <td>0.345343</td>\n      <td>0.394587</td>\n      <td>0.494136</td>\n      <td>0.348407</td>\n      <td>0.325590</td>\n      <td>0.466440</td>\n      <td>0.511251</td>\n      <td>0.503900</td>\n    </tr>\n    <tr>\n      <th>4</th>\n      <td>0.752888</td>\n      <td>0.409278</td>\n      <td>0.463887</td>\n      <td>0.622449</td>\n      <td>1.000000</td>\n      <td>0.705579</td>\n      <td>0.671373</td>\n      <td>0.769527</td>\n      <td>0.730229</td>\n      <td>0.689653</td>\n      <td>...</td>\n      <td>0.576755</td>\n      <td>0.506818</td>\n      <td>0.439136</td>\n      <td>0.587217</td>\n      <td>0.748822</td>\n      <td>0.580583</td>\n      <td>0.526698</td>\n      <td>0.634509</td>\n      <td>0.369326</td>\n      <td>0.638660</td>\n    </tr>\n    <tr>\n      <th>...</th>\n      <td>...</td>\n      <td>...</td>\n      <td>...</td>\n      <td>...</td>\n      <td>...</td>\n      <td>...</td>\n      <td>...</td>\n      <td>...</td>\n      <td>...</td>\n      <td>...</td>\n      <td>...</td>\n      <td>...</td>\n      <td>...</td>\n      <td>...</td>\n      <td>...</td>\n      <td>...</td>\n      <td>...</td>\n      <td>...</td>\n      <td>...</td>\n      <td>...</td>\n      <td>...</td>\n    </tr>\n    <tr>\n      <th>2321</th>\n      <td>0.386949</td>\n      <td>0.175973</td>\n      <td>0.401385</td>\n      <td>0.348407</td>\n      <td>0.580583</td>\n      <td>0.467882</td>\n      <td>0.473950</td>\n      <td>0.493751</td>\n      <td>0.578729</td>\n      <td>0.474601</td>\n      <td>...</td>\n      <td>0.512476</td>\n      <td>0.594405</td>\n      <td>0.491411</td>\n      <td>0.708732</td>\n      <td>0.403681</td>\n      <td>1.000000</td>\n      <td>0.689001</td>\n      <td>0.661167</td>\n      <td>0.149656</td>\n      <td>0.557155</td>\n    </tr>\n    <tr>\n      <th>2322</th>\n      <td>0.408679</td>\n      <td>0.237692</td>\n      <td>0.337785</td>\n      <td>0.325590</td>\n      <td>0.526698</td>\n      <td>0.464923</td>\n      <td>0.516740</td>\n      <td>0.520363</td>\n      <td>0.595682</td>\n      <td>0.404929</td>\n      <td>...</td>\n      <td>0.571575</td>\n      <td>0.624707</td>\n      <td>0.529199</td>\n      <td>0.794125</td>\n      <td>0.304786</td>\n      <td>0.689001</td>\n      <td>1.000000</td>\n      <td>0.727510</td>\n      <td>0.162182</td>\n      <td>0.680074</td>\n    </tr>\n    <tr>\n      <th>2323</th>\n      <td>0.504979</td>\n      <td>0.267875</td>\n      <td>0.541091</td>\n      <td>0.466440</td>\n      <td>0.634509</td>\n      <td>0.596023</td>\n      <td>0.577080</td>\n      <td>0.571917</td>\n      <td>0.621068</td>\n      <td>0.463083</td>\n      <td>...</td>\n      <td>0.581656</td>\n      <td>0.532636</td>\n      <td>0.577583</td>\n      <td>0.712539</td>\n      <td>0.392916</td>\n      <td>0.661167</td>\n      <td>0.727510</td>\n      <td>1.000000</td>\n      <td>0.212749</td>\n      <td>0.643721</td>\n    </tr>\n    <tr>\n      <th>2324</th>\n      <td>0.394167</td>\n      <td>0.877725</td>\n      <td>0.310047</td>\n      <td>0.511251</td>\n      <td>0.369326</td>\n      <td>0.296917</td>\n      <td>0.209242</td>\n      <td>0.249882</td>\n      <td>0.257936</td>\n      <td>0.496477</td>\n      <td>...</td>\n      <td>0.179157</td>\n      <td>0.238167</td>\n      <td>0.201336</td>\n      <td>0.264322</td>\n      <td>0.384121</td>\n      <td>0.149656</td>\n      <td>0.162182</td>\n      <td>0.212749</td>\n      <td>1.000000</td>\n      <td>0.203437</td>\n    </tr>\n    <tr>\n      <th>2325</th>\n      <td>0.591685</td>\n      <td>0.278713</td>\n      <td>0.442695</td>\n      <td>0.503900</td>\n      <td>0.638660</td>\n      <td>0.703094</td>\n      <td>0.736998</td>\n      <td>0.730659</td>\n      <td>0.670514</td>\n      <td>0.578775</td>\n      <td>...</td>\n      <td>0.650593</td>\n      <td>0.539832</td>\n      <td>0.442344</td>\n      <td>0.702610</td>\n      <td>0.425400</td>\n      <td>0.557155</td>\n      <td>0.680074</td>\n      <td>0.643721</td>\n      <td>0.203437</td>\n      <td>1.000000</td>\n    </tr>\n  </tbody>\n</table>\n<p>2326 rows × 2326 columns</p>\n</div>"
     },
     "execution_count": 6,
     "metadata": {},
     "output_type": "execute_result"
    }
   ],
   "source": [
    "cos"
   ],
   "metadata": {
    "collapsed": false,
    "pycharm": {
     "name": "#%%\n"
    }
   }
  },
  {
   "cell_type": "code",
   "execution_count": 5,
   "outputs": [],
   "source": [
    "def sim_title_by_genre(df, df_cosin_similarity, index, number_of_recom, genre):\n",
    "    fitting_genre = df[df['category'] == genre]\n",
    "    return fitting_genre\n",
    "    # print(len(fitting_genre))\n",
    "    # df_cosin_genre_exc = df_cosin_similarity.iloc[[fitting_genre.index, index]]\n",
    "    # recoms = df_cosin_genre_exc.loc[index].sort_values(ascending=False).index.tolist()[1:number_of_recom]\n",
    "    # return list(map(int, recoms))"
   ],
   "metadata": {
    "collapsed": false,
    "pycharm": {
     "name": "#%%\n"
    }
   }
  },
  {
   "cell_type": "code",
   "execution_count": null,
   "outputs": [
    {
     "name": "stdout",
     "output_type": "stream",
     "text": [
      "127\n"
     ]
    },
    {
     "name": "stderr",
     "output_type": "stream",
     "text": [
      "/Users/hagenaadfock/miniforge3/envs/default/lib/python3.8/site-packages/pandas/core/indexing.py:1503: VisibleDeprecationWarning: Creating an ndarray from ragged nested sequences (which is a list-or-tuple of lists-or-tuples-or ndarrays with different lengths or shapes) is deprecated. If you meant to do this, you must specify 'dtype=object' when creating the ndarray.\n",
      "  key = np.asarray(key)\n"
     ]
    }
   ],
   "source": [
    "sim_title_by_genre(df_bbc, cos, 3, 8, genre='Entertainment')"
   ],
   "metadata": {
    "collapsed": false,
    "pycharm": {
     "name": "#%%\n",
     "is_executing": true
    }
   }
  },
  {
   "cell_type": "code",
   "execution_count": 44,
   "outputs": [
    {
     "data": {
      "text/plain": "      index                               title  \\\n0         0                           BBC Proms   \n1         1                                Port   \n2         2  Sit Down, Stand Up with Greg James   \n3         3         Ceiliúradh na Féile Pádraig   \n4         4                     Songs of Praise   \n...     ...                                 ...   \n2321   2321           Models: Street to Catwalk   \n2322   2322                   Death On The I-95   \n2323   2323        Do Black Lives Still Matter?   \n2324   2324                        Ar An Sliabh   \n2325   2325                Avicii: True Stories   \n\n                                            description       category  \\\n0     Australian tenor Stuart Skelton is joined by L...          Music   \n1     Previously unseen music from the series Port, ...          Music   \n2     Tom Holland and Greg James cold call celebrity...  Entertainment   \n3     John Toal and Pauline Scanlon introduce an eve...          Music   \n4     Claire McCollum explores Edinburgh and shares ...          Music   \n...                                                 ...            ...   \n2321  Kyra’s late arrival puts her modelling career ...    Documentary   \n2322  Returning to the US to find out what happened ...    Documentary   \n2323  Grime artist Saskilla asks, can the music indu...    Documentary   \n2324  Paul packs up to return to his native Armagh a...    Documentary   \n2325  Avicii: True Stories is Tim Bergling’s own sto...    Documentary   \n\n                               channel  adv_category  \\\n0                      bbc_radio_three            11   \n1                             bbc_alba             7   \n2                        bbc_radio_one            10   \n3     bbc_two_northern_ireland_digital             7   \n4                              bbc_one             9   \n...                                ...           ...   \n2321                         bbc_three             9   \n2322                         bbc_three             1   \n2323                         bbc_three            11   \n2324                       bbc_webonly             7   \n2325                         bbc_three             9   \n\n                                                    img  \n0     https://ichef.bbci.co.uk/images/ic/352x198/p09...  \n1     https://ichef.bbci.co.uk/images/ic/352x198/p08...  \n2     https://ichef.bbci.co.uk/images/ic/352x198/p0b...  \n3     https://ichef.bbci.co.uk/images/ic/352x198/p04...  \n4     https://ichef.bbci.co.uk/images/ic/352x198/p0b...  \n...                                                 ...  \n2321  https://ichef.bbci.co.uk/images/ic/352x198/p09...  \n2322  https://ichef.bbci.co.uk/images/ic/352x198/p07...  \n2323  https://ichef.bbci.co.uk/images/ic/352x198/p09...  \n2324  https://ichef.bbci.co.uk/images/ic/352x198/p0b...  \n2325  https://ichef.bbci.co.uk/images/ic/352x198/p07...  \n\n[2326 rows x 7 columns]",
      "text/html": "<div>\n<style scoped>\n    .dataframe tbody tr th:only-of-type {\n        vertical-align: middle;\n    }\n\n    .dataframe tbody tr th {\n        vertical-align: top;\n    }\n\n    .dataframe thead th {\n        text-align: right;\n    }\n</style>\n<table border=\"1\" class=\"dataframe\">\n  <thead>\n    <tr style=\"text-align: right;\">\n      <th></th>\n      <th>index</th>\n      <th>title</th>\n      <th>description</th>\n      <th>category</th>\n      <th>channel</th>\n      <th>adv_category</th>\n      <th>img</th>\n    </tr>\n  </thead>\n  <tbody>\n    <tr>\n      <th>0</th>\n      <td>0</td>\n      <td>BBC Proms</td>\n      <td>Australian tenor Stuart Skelton is joined by L...</td>\n      <td>Music</td>\n      <td>bbc_radio_three</td>\n      <td>11</td>\n      <td>https://ichef.bbci.co.uk/images/ic/352x198/p09...</td>\n    </tr>\n    <tr>\n      <th>1</th>\n      <td>1</td>\n      <td>Port</td>\n      <td>Previously unseen music from the series Port, ...</td>\n      <td>Music</td>\n      <td>bbc_alba</td>\n      <td>7</td>\n      <td>https://ichef.bbci.co.uk/images/ic/352x198/p08...</td>\n    </tr>\n    <tr>\n      <th>2</th>\n      <td>2</td>\n      <td>Sit Down, Stand Up with Greg James</td>\n      <td>Tom Holland and Greg James cold call celebrity...</td>\n      <td>Entertainment</td>\n      <td>bbc_radio_one</td>\n      <td>10</td>\n      <td>https://ichef.bbci.co.uk/images/ic/352x198/p0b...</td>\n    </tr>\n    <tr>\n      <th>3</th>\n      <td>3</td>\n      <td>Ceiliúradh na Féile Pádraig</td>\n      <td>John Toal and Pauline Scanlon introduce an eve...</td>\n      <td>Music</td>\n      <td>bbc_two_northern_ireland_digital</td>\n      <td>7</td>\n      <td>https://ichef.bbci.co.uk/images/ic/352x198/p04...</td>\n    </tr>\n    <tr>\n      <th>4</th>\n      <td>4</td>\n      <td>Songs of Praise</td>\n      <td>Claire McCollum explores Edinburgh and shares ...</td>\n      <td>Music</td>\n      <td>bbc_one</td>\n      <td>9</td>\n      <td>https://ichef.bbci.co.uk/images/ic/352x198/p0b...</td>\n    </tr>\n    <tr>\n      <th>...</th>\n      <td>...</td>\n      <td>...</td>\n      <td>...</td>\n      <td>...</td>\n      <td>...</td>\n      <td>...</td>\n      <td>...</td>\n    </tr>\n    <tr>\n      <th>2321</th>\n      <td>2321</td>\n      <td>Models: Street to Catwalk</td>\n      <td>Kyra’s late arrival puts her modelling career ...</td>\n      <td>Documentary</td>\n      <td>bbc_three</td>\n      <td>9</td>\n      <td>https://ichef.bbci.co.uk/images/ic/352x198/p09...</td>\n    </tr>\n    <tr>\n      <th>2322</th>\n      <td>2322</td>\n      <td>Death On The I-95</td>\n      <td>Returning to the US to find out what happened ...</td>\n      <td>Documentary</td>\n      <td>bbc_three</td>\n      <td>1</td>\n      <td>https://ichef.bbci.co.uk/images/ic/352x198/p07...</td>\n    </tr>\n    <tr>\n      <th>2323</th>\n      <td>2323</td>\n      <td>Do Black Lives Still Matter?</td>\n      <td>Grime artist Saskilla asks, can the music indu...</td>\n      <td>Documentary</td>\n      <td>bbc_three</td>\n      <td>11</td>\n      <td>https://ichef.bbci.co.uk/images/ic/352x198/p09...</td>\n    </tr>\n    <tr>\n      <th>2324</th>\n      <td>2324</td>\n      <td>Ar An Sliabh</td>\n      <td>Paul packs up to return to his native Armagh a...</td>\n      <td>Documentary</td>\n      <td>bbc_webonly</td>\n      <td>7</td>\n      <td>https://ichef.bbci.co.uk/images/ic/352x198/p0b...</td>\n    </tr>\n    <tr>\n      <th>2325</th>\n      <td>2325</td>\n      <td>Avicii: True Stories</td>\n      <td>Avicii: True Stories is Tim Bergling’s own sto...</td>\n      <td>Documentary</td>\n      <td>bbc_three</td>\n      <td>9</td>\n      <td>https://ichef.bbci.co.uk/images/ic/352x198/p07...</td>\n    </tr>\n  </tbody>\n</table>\n<p>2326 rows × 7 columns</p>\n</div>"
     },
     "execution_count": 44,
     "metadata": {},
     "output_type": "execute_result"
    }
   ],
   "source": [
    "df_bbc\n",
    "\n",
    "#cos"
   ],
   "metadata": {
    "collapsed": false,
    "pycharm": {
     "name": "#%%\n"
    }
   }
  },
  {
   "cell_type": "code",
   "execution_count": 46,
   "outputs": [
    {
     "data": {
      "text/plain": "6      0.844283\n48     0.840854\n134    0.840419\n179    0.840170\n85     0.839027\nName: 0, dtype: float64"
     },
     "execution_count": 46,
     "metadata": {},
     "output_type": "execute_result"
    }
   ],
   "source": [
    "fitting_genre = df_bbc[df_bbc['category'] == 'Music']\n",
    "cosin_df = cos.loc[0].iloc[fitting_genre.index].sort_values(ascending=False)[1:6]\n",
    "cosin_df\n",
    "# cosin_df = cos.loc[1].sort_values(ascending=False)\n",
    "# cosin_df = cosin_df.iloc[fitting_genre.index]\n",
    "# cosin_df.index\n",
    "# recoms = cosin_df[1:6].index.tolist()\n",
    "# recoms"
   ],
   "metadata": {
    "collapsed": false,
    "pycharm": {
     "name": "#%%\n"
    }
   }
  },
  {
   "cell_type": "code",
   "execution_count": 23,
   "outputs": [
    {
     "data": {
      "text/plain": "      index                                title  \\\n1770   1770                        Politics Live   \n1851   1851  The Data Guardian: Elizabeth Denham   \n854     854    Tropic of Cancer with Simon Reeve   \n1845   1845            Northern Ireland Assembly   \n295     295                       Life Cinematic   \n...     ...                                  ...   \n1332   1332          Rugby League: Challenge Cup   \n33       33             Canadian Hits at the BBC   \n1980   1980     Back in Time for the Corner Shop   \n1642   1642                The Grand Party Hotel   \n396     396             Earth’s Tropical Islands   \n\n                                            description     category  \\\n1770  Jo Coburn and guests discuss the military assa...         News   \n1851  BBC Media Editor Amol Rajan talks to UK Inform...         News   \n854   Simon travels from the jungles of Southeast As...  Documentary   \n1845  Tributes to the DUP MLA Christopher Stalford, ...         News   \n295   Amma Asante selects clips from the films that ...         Arts   \n...                                                 ...          ...   \n1332  Third Round of the Challenge Cup live from the...        Sport   \n33    A selection of performances by Canadian artist...        Music   \n1980  The Arderns’ shopkeeping adventure continues i...         Food   \n1642  MD Kris is asked to fight in a charity boxing ...  Documentary   \n396   Exploring Hawaii, a tropical sanctuary for any...       Nature   \n\n             channel  adv_category  \\\n1770         bbc_two            10   \n1851      bbc_news24            13   \n854          bbc_two             6   \n1845  bbc_parliament             2   \n295         bbc_four             9   \n...              ...           ...   \n1332       bbc_sport             2   \n33          bbc_four            11   \n1980         bbc_two             4   \n1642         bbc_one             4   \n396          bbc_two            12   \n\n                                                    img  \n1770  https://ichef.bbci.co.uk/images/ic/352x198/p09...  \n1851  https://ichef.bbci.co.uk/images/ic/352x198/p0b...  \n854   https://ichef.bbci.co.uk/images/ic/352x198/p01...  \n1845  https://ichef.bbci.co.uk/images/ic/352x198/p0b...  \n295   https://ichef.bbci.co.uk/images/ic/352x198/p09...  \n...                                                 ...  \n1332  https://ichef.bbci.co.uk/images/ic/352x198/p0b...  \n33    https://ichef.bbci.co.uk/images/ic/352x198/p09...  \n1980  https://ichef.bbci.co.uk/images/ic/352x198/p08...  \n1642  https://ichef.bbci.co.uk/images/ic/352x198/p08...  \n396   https://ichef.bbci.co.uk/images/ic/352x198/p07...  \n\n[68 rows x 7 columns]",
      "text/html": "<div>\n<style scoped>\n    .dataframe tbody tr th:only-of-type {\n        vertical-align: middle;\n    }\n\n    .dataframe tbody tr th {\n        vertical-align: top;\n    }\n\n    .dataframe thead th {\n        text-align: right;\n    }\n</style>\n<table border=\"1\" class=\"dataframe\">\n  <thead>\n    <tr style=\"text-align: right;\">\n      <th></th>\n      <th>index</th>\n      <th>title</th>\n      <th>description</th>\n      <th>category</th>\n      <th>channel</th>\n      <th>adv_category</th>\n      <th>img</th>\n    </tr>\n  </thead>\n  <tbody>\n    <tr>\n      <th>1770</th>\n      <td>1770</td>\n      <td>Politics Live</td>\n      <td>Jo Coburn and guests discuss the military assa...</td>\n      <td>News</td>\n      <td>bbc_two</td>\n      <td>10</td>\n      <td>https://ichef.bbci.co.uk/images/ic/352x198/p09...</td>\n    </tr>\n    <tr>\n      <th>1851</th>\n      <td>1851</td>\n      <td>The Data Guardian: Elizabeth Denham</td>\n      <td>BBC Media Editor Amol Rajan talks to UK Inform...</td>\n      <td>News</td>\n      <td>bbc_news24</td>\n      <td>13</td>\n      <td>https://ichef.bbci.co.uk/images/ic/352x198/p0b...</td>\n    </tr>\n    <tr>\n      <th>854</th>\n      <td>854</td>\n      <td>Tropic of Cancer with Simon Reeve</td>\n      <td>Simon travels from the jungles of Southeast As...</td>\n      <td>Documentary</td>\n      <td>bbc_two</td>\n      <td>6</td>\n      <td>https://ichef.bbci.co.uk/images/ic/352x198/p01...</td>\n    </tr>\n    <tr>\n      <th>1845</th>\n      <td>1845</td>\n      <td>Northern Ireland Assembly</td>\n      <td>Tributes to the DUP MLA Christopher Stalford, ...</td>\n      <td>News</td>\n      <td>bbc_parliament</td>\n      <td>2</td>\n      <td>https://ichef.bbci.co.uk/images/ic/352x198/p0b...</td>\n    </tr>\n    <tr>\n      <th>295</th>\n      <td>295</td>\n      <td>Life Cinematic</td>\n      <td>Amma Asante selects clips from the films that ...</td>\n      <td>Arts</td>\n      <td>bbc_four</td>\n      <td>9</td>\n      <td>https://ichef.bbci.co.uk/images/ic/352x198/p09...</td>\n    </tr>\n    <tr>\n      <th>...</th>\n      <td>...</td>\n      <td>...</td>\n      <td>...</td>\n      <td>...</td>\n      <td>...</td>\n      <td>...</td>\n      <td>...</td>\n    </tr>\n    <tr>\n      <th>1332</th>\n      <td>1332</td>\n      <td>Rugby League: Challenge Cup</td>\n      <td>Third Round of the Challenge Cup live from the...</td>\n      <td>Sport</td>\n      <td>bbc_sport</td>\n      <td>2</td>\n      <td>https://ichef.bbci.co.uk/images/ic/352x198/p0b...</td>\n    </tr>\n    <tr>\n      <th>33</th>\n      <td>33</td>\n      <td>Canadian Hits at the BBC</td>\n      <td>A selection of performances by Canadian artist...</td>\n      <td>Music</td>\n      <td>bbc_four</td>\n      <td>11</td>\n      <td>https://ichef.bbci.co.uk/images/ic/352x198/p09...</td>\n    </tr>\n    <tr>\n      <th>1980</th>\n      <td>1980</td>\n      <td>Back in Time for the Corner Shop</td>\n      <td>The Arderns’ shopkeeping adventure continues i...</td>\n      <td>Food</td>\n      <td>bbc_two</td>\n      <td>4</td>\n      <td>https://ichef.bbci.co.uk/images/ic/352x198/p08...</td>\n    </tr>\n    <tr>\n      <th>1642</th>\n      <td>1642</td>\n      <td>The Grand Party Hotel</td>\n      <td>MD Kris is asked to fight in a charity boxing ...</td>\n      <td>Documentary</td>\n      <td>bbc_one</td>\n      <td>4</td>\n      <td>https://ichef.bbci.co.uk/images/ic/352x198/p08...</td>\n    </tr>\n    <tr>\n      <th>396</th>\n      <td>396</td>\n      <td>Earth’s Tropical Islands</td>\n      <td>Exploring Hawaii, a tropical sanctuary for any...</td>\n      <td>Nature</td>\n      <td>bbc_two</td>\n      <td>12</td>\n      <td>https://ichef.bbci.co.uk/images/ic/352x198/p07...</td>\n    </tr>\n  </tbody>\n</table>\n<p>68 rows × 7 columns</p>\n</div>"
     },
     "execution_count": 23,
     "metadata": {},
     "output_type": "execute_result"
    }
   ],
   "source": [
    "df_bbc.iloc[cosin_df.index]"
   ],
   "metadata": {
    "collapsed": false,
    "pycharm": {
     "name": "#%%\n"
    }
   }
  },
  {
   "cell_type": "code",
   "execution_count": 47,
   "outputs": [
    {
     "data": {
      "text/plain": "      index                               title  \\\n0         0                           BBC Proms   \n1         1                                Port   \n2         2  Sit Down, Stand Up with Greg James   \n3         3         Ceiliúradh na Féile Pádraig   \n4         4                     Songs of Praise   \n...     ...                                 ...   \n2321   2321           Models: Street to Catwalk   \n2322   2322                   Death On The I-95   \n2323   2323        Do Black Lives Still Matter?   \n2324   2324                        Ar An Sliabh   \n2325   2325                Avicii: True Stories   \n\n                                            description       category  \\\n0     Australian tenor Stuart Skelton is joined by L...          Music   \n1     Previously unseen music from the series Port, ...          Music   \n2     Tom Holland and Greg James cold call celebrity...  Entertainment   \n3     John Toal and Pauline Scanlon introduce an eve...          Music   \n4     Claire McCollum explores Edinburgh and shares ...          Music   \n...                                                 ...            ...   \n2321  Kyra’s late arrival puts her modelling career ...    Documentary   \n2322  Returning to the US to find out what happened ...    Documentary   \n2323  Grime artist Saskilla asks, can the music indu...    Documentary   \n2324  Paul packs up to return to his native Armagh a...    Documentary   \n2325  Avicii: True Stories is Tim Bergling’s own sto...    Documentary   \n\n                               channel  adv_category  \\\n0                      bbc_radio_three            11   \n1                             bbc_alba             7   \n2                        bbc_radio_one            10   \n3     bbc_two_northern_ireland_digital             7   \n4                              bbc_one             9   \n...                                ...           ...   \n2321                         bbc_three             9   \n2322                         bbc_three             1   \n2323                         bbc_three            11   \n2324                       bbc_webonly             7   \n2325                         bbc_three             9   \n\n                                                    img  \n0     https://ichef.bbci.co.uk/images/ic/352x198/p09...  \n1     https://ichef.bbci.co.uk/images/ic/352x198/p08...  \n2     https://ichef.bbci.co.uk/images/ic/352x198/p0b...  \n3     https://ichef.bbci.co.uk/images/ic/352x198/p04...  \n4     https://ichef.bbci.co.uk/images/ic/352x198/p0b...  \n...                                                 ...  \n2321  https://ichef.bbci.co.uk/images/ic/352x198/p09...  \n2322  https://ichef.bbci.co.uk/images/ic/352x198/p07...  \n2323  https://ichef.bbci.co.uk/images/ic/352x198/p09...  \n2324  https://ichef.bbci.co.uk/images/ic/352x198/p0b...  \n2325  https://ichef.bbci.co.uk/images/ic/352x198/p07...  \n\n[2326 rows x 7 columns]",
      "text/html": "<div>\n<style scoped>\n    .dataframe tbody tr th:only-of-type {\n        vertical-align: middle;\n    }\n\n    .dataframe tbody tr th {\n        vertical-align: top;\n    }\n\n    .dataframe thead th {\n        text-align: right;\n    }\n</style>\n<table border=\"1\" class=\"dataframe\">\n  <thead>\n    <tr style=\"text-align: right;\">\n      <th></th>\n      <th>index</th>\n      <th>title</th>\n      <th>description</th>\n      <th>category</th>\n      <th>channel</th>\n      <th>adv_category</th>\n      <th>img</th>\n    </tr>\n  </thead>\n  <tbody>\n    <tr>\n      <th>0</th>\n      <td>0</td>\n      <td>BBC Proms</td>\n      <td>Australian tenor Stuart Skelton is joined by L...</td>\n      <td>Music</td>\n      <td>bbc_radio_three</td>\n      <td>11</td>\n      <td>https://ichef.bbci.co.uk/images/ic/352x198/p09...</td>\n    </tr>\n    <tr>\n      <th>1</th>\n      <td>1</td>\n      <td>Port</td>\n      <td>Previously unseen music from the series Port, ...</td>\n      <td>Music</td>\n      <td>bbc_alba</td>\n      <td>7</td>\n      <td>https://ichef.bbci.co.uk/images/ic/352x198/p08...</td>\n    </tr>\n    <tr>\n      <th>2</th>\n      <td>2</td>\n      <td>Sit Down, Stand Up with Greg James</td>\n      <td>Tom Holland and Greg James cold call celebrity...</td>\n      <td>Entertainment</td>\n      <td>bbc_radio_one</td>\n      <td>10</td>\n      <td>https://ichef.bbci.co.uk/images/ic/352x198/p0b...</td>\n    </tr>\n    <tr>\n      <th>3</th>\n      <td>3</td>\n      <td>Ceiliúradh na Féile Pádraig</td>\n      <td>John Toal and Pauline Scanlon introduce an eve...</td>\n      <td>Music</td>\n      <td>bbc_two_northern_ireland_digital</td>\n      <td>7</td>\n      <td>https://ichef.bbci.co.uk/images/ic/352x198/p04...</td>\n    </tr>\n    <tr>\n      <th>4</th>\n      <td>4</td>\n      <td>Songs of Praise</td>\n      <td>Claire McCollum explores Edinburgh and shares ...</td>\n      <td>Music</td>\n      <td>bbc_one</td>\n      <td>9</td>\n      <td>https://ichef.bbci.co.uk/images/ic/352x198/p0b...</td>\n    </tr>\n    <tr>\n      <th>...</th>\n      <td>...</td>\n      <td>...</td>\n      <td>...</td>\n      <td>...</td>\n      <td>...</td>\n      <td>...</td>\n      <td>...</td>\n    </tr>\n    <tr>\n      <th>2321</th>\n      <td>2321</td>\n      <td>Models: Street to Catwalk</td>\n      <td>Kyra’s late arrival puts her modelling career ...</td>\n      <td>Documentary</td>\n      <td>bbc_three</td>\n      <td>9</td>\n      <td>https://ichef.bbci.co.uk/images/ic/352x198/p09...</td>\n    </tr>\n    <tr>\n      <th>2322</th>\n      <td>2322</td>\n      <td>Death On The I-95</td>\n      <td>Returning to the US to find out what happened ...</td>\n      <td>Documentary</td>\n      <td>bbc_three</td>\n      <td>1</td>\n      <td>https://ichef.bbci.co.uk/images/ic/352x198/p07...</td>\n    </tr>\n    <tr>\n      <th>2323</th>\n      <td>2323</td>\n      <td>Do Black Lives Still Matter?</td>\n      <td>Grime artist Saskilla asks, can the music indu...</td>\n      <td>Documentary</td>\n      <td>bbc_three</td>\n      <td>11</td>\n      <td>https://ichef.bbci.co.uk/images/ic/352x198/p09...</td>\n    </tr>\n    <tr>\n      <th>2324</th>\n      <td>2324</td>\n      <td>Ar An Sliabh</td>\n      <td>Paul packs up to return to his native Armagh a...</td>\n      <td>Documentary</td>\n      <td>bbc_webonly</td>\n      <td>7</td>\n      <td>https://ichef.bbci.co.uk/images/ic/352x198/p0b...</td>\n    </tr>\n    <tr>\n      <th>2325</th>\n      <td>2325</td>\n      <td>Avicii: True Stories</td>\n      <td>Avicii: True Stories is Tim Bergling’s own sto...</td>\n      <td>Documentary</td>\n      <td>bbc_three</td>\n      <td>9</td>\n      <td>https://ichef.bbci.co.uk/images/ic/352x198/p07...</td>\n    </tr>\n  </tbody>\n</table>\n<p>2326 rows × 7 columns</p>\n</div>"
     },
     "execution_count": 47,
     "metadata": {},
     "output_type": "execute_result"
    }
   ],
   "source": [
    "df_bbc"
   ],
   "metadata": {
    "collapsed": false,
    "pycharm": {
     "name": "#%%\n"
    }
   }
  },
  {
   "cell_type": "code",
   "execution_count": 70,
   "outputs": [
    {
     "data": {
      "text/plain": "11"
     },
     "execution_count": 70,
     "metadata": {},
     "output_type": "execute_result"
    }
   ],
   "source": [
    "df_bbc[df_bbc['index'] == 5]['adv_category'].iloc[0]"
   ],
   "metadata": {
    "collapsed": false,
    "pycharm": {
     "name": "#%%\n"
    }
   }
  },
  {
   "cell_type": "code",
   "execution_count": 64,
   "outputs": [
    {
     "data": {
      "text/plain": "[247,\n 324,\n 434,\n 473,\n 509,\n 533,\n 537,\n 541,\n 593,\n 597,\n 599,\n 613,\n 619,\n 621,\n 625,\n 691,\n 706,\n 708,\n 717,\n 742,\n 748,\n 778,\n 791,\n 792,\n 808,\n 809,\n 811,\n 814,\n 825,\n 826,\n 827,\n 851,\n 858,\n 863,\n 868,\n 871,\n 873,\n 874,\n 880,\n 897,\n 904,\n 907,\n 918,\n 921,\n 923,\n 927,\n 934,\n 940,\n 946,\n 949,\n 954,\n 963,\n 964,\n 971,\n 975,\n 980,\n 983,\n 989,\n 990,\n 992,\n 995,\n 1059,\n 1096,\n 1110,\n 1322,\n 1366,\n 1376,\n 1379,\n 1392,\n 1401,\n 1413,\n 1481,\n 1496,\n 1526,\n 1578,\n 1605,\n 1608,\n 1611,\n 1614,\n 1617,\n 1618,\n 1621,\n 1625,\n 1643,\n 1644,\n 1658,\n 1680,\n 1698,\n 1702,\n 1707,\n 1754,\n 1755,\n 1765,\n 1775,\n 1789,\n 1814,\n 1829,\n 1830,\n 1838,\n 1916,\n 1938,\n 1961,\n 2049,\n 2120,\n 2121,\n 2123,\n 2124,\n 2125,\n 2127,\n 2132,\n 2135,\n 2139,\n 2145,\n 2152,\n 2156,\n 2158,\n 2161,\n 2162,\n 2166,\n 2172,\n 2183,\n 2184,\n 2192,\n 2194,\n 2199,\n 2206,\n 2207,\n 2209,\n 2214,\n 2217,\n 2219,\n 2224,\n 2228,\n 2229,\n 2230,\n 2237,\n 2239,\n 2243,\n 2245,\n 2256,\n 2257,\n 2262,\n 2270,\n 2279,\n 2282,\n 2283,\n 2289,\n 2293,\n 2295,\n 2308,\n 2310,\n 2312,\n 2322]"
     },
     "execution_count": 64,
     "metadata": {},
     "output_type": "execute_result"
    }
   ],
   "source": [
    "df_bbc[df_bbc['adv_category'] == df_bbc[df_bbc['index'] == 1].iloc[0, 0]].index.tolist()"
   ],
   "metadata": {
    "collapsed": false,
    "pycharm": {
     "name": "#%%\n"
    }
   }
  }
 ],
 "metadata": {
  "kernelspec": {
   "display_name": "Python 3",
   "language": "python",
   "name": "python3"
  },
  "language_info": {
   "codemirror_mode": {
    "name": "ipython",
    "version": 2
   },
   "file_extension": ".py",
   "mimetype": "text/x-python",
   "name": "python",
   "nbconvert_exporter": "python",
   "pygments_lexer": "ipython2",
   "version": "2.7.6"
  }
 },
 "nbformat": 4,
 "nbformat_minor": 0
}