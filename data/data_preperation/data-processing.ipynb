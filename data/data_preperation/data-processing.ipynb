{
 "cells": [
  {
   "cell_type": "code",
   "execution_count": 54,
   "metadata": {
    "collapsed": true
   },
   "outputs": [],
   "source": [
    "import pandas as pd\n",
    "import numpy as np\n",
    "\n",
    "from datetime import datetime\n"
   ]
  },
  {
   "cell_type": "code",
   "execution_count": 55,
   "outputs": [],
   "source": [
    "RAW_DATA = './../bbc_webscraping/bbc_data_raw.csv'"
   ],
   "metadata": {
    "collapsed": false,
    "pycharm": {
     "name": "#%%\n"
    }
   }
  },
  {
   "cell_type": "code",
   "execution_count": 56,
   "outputs": [],
   "source": [
    "df = pd.read_csv(RAW_DATA, sep=';')\n",
    "# df = pd.read_csv('./../data/BBC/bbc_images.csv', sep=';', index_col=0)"
   ],
   "metadata": {
    "collapsed": false,
    "pycharm": {
     "name": "#%%\n"
    }
   }
  },
  {
   "cell_type": "code",
   "execution_count": 57,
   "outputs": [
    {
     "data": {
      "text/plain": "        id                                              title  \\\n0        0                                          BBC Proms   \n1        1                                               Port   \n2        2                 Sit Down, Stand Up with Greg James   \n3        3                        Ceiliúradh na Féile Pádraig   \n4        4                                    Songs of Praise   \n...    ...                                                ...   \n3798  3798  Murder Trial: The Disappearance of Margaret Fl...   \n3799  3799             Paul Merson: Football, Gambling and Me   \n3800  3800                               Avicii: True Stories   \n3801  3801                                        Heaven Made   \n3802  3802                                  The Wild Gardener   \n\n                                   subtitle  \\\n0     2021: Last Night of the Proms, Part 2   \n1                       Series 5: Episode 4   \n2                                       NaN   \n3                                       NaN   \n4                                 Edinburgh   \n...                                     ...   \n3798                    Series 1: Episode 2   \n3799                                    NaN   \n3800                                    NaN   \n3801                    Series 1: Episode 3   \n3802                    Series 1: Episode 2   \n\n                                            description  \\\n0     Australian tenor Stuart Skelton is joined by L...   \n1     Previously unseen music from the series Port, ...   \n2     Tom Holland and Greg James cold call celebrity...   \n3     John Toal and Pauline Scanlon introduce an eve...   \n4     Claire McCollum explores Edinburgh and shares ...   \n...                                                 ...   \n3798  The trial continues as Cairney and Jones stand...   \n3799  Footballer Paul Merson sets out to understand ...   \n3800  Avicii: True Stories is Tim Bergling’s own sto...   \n3801  On the Isle of Wight, Brother Matthew, a monk ...   \n3802  Colin Stafford-Johnson turns his childhood gar...   \n\n                                                  image  \\\n0     https://ichef.bbci.co.uk/images/ic/{recipe}/p0...   \n1     https://ichef.bbci.co.uk/images/ic/{recipe}/p0...   \n2     https://ichef.bbci.co.uk/images/ic/{recipe}/p0...   \n3     https://ichef.bbci.co.uk/images/ic/{recipe}/p0...   \n4     https://ichef.bbci.co.uk/images/ic/{recipe}/p0...   \n...                                                 ...   \n3798  https://ichef.bbci.co.uk/images/ic/{recipe}/p0...   \n3799  https://ichef.bbci.co.uk/images/ic/{recipe}/p0...   \n3800  https://ichef.bbci.co.uk/images/ic/{recipe}/p0...   \n3801  https://ichef.bbci.co.uk/images/ic/{recipe}/p0...   \n3802  https://ichef.bbci.co.uk/images/ic/{recipe}/p0...   \n\n                                               keywords  \\\n0     BBC, iPlayer, TV, BBC Proms, 2021: Last Night ...   \n1           BBC, iPlayer, TV, Port, Series 5: Episode 4   \n2     BBC, iPlayer, TV, Sit Down, Stand Up with Greg...   \n3         BBC, iPlayer, TV, Ceiliúradh na Féile Pádraig   \n4          BBC, iPlayer, TV, Songs of Praise, Edinburgh   \n...                                                 ...   \n3798  BBC, iPlayer, TV, Murder Trial: The Disappeara...   \n3799  BBC, iPlayer, TV, Paul Merson: Football, Gambl...   \n3800             BBC, iPlayer, TV, Avicii: True Stories   \n3801  BBC, iPlayer, TV, Heaven Made, Series 1: Episo...   \n3802  BBC, iPlayer, TV, The Wild Gardener, Series 1:...   \n\n                                         synopses_small  \\\n0     Australian tenor Stuart Skelton is joined by L...   \n1     Previously unseen music from the series Port, ...   \n2     Tom Holland and Greg James cold call celebrity...   \n3     John Toal and Pauline Scanlon introduce an eve...   \n4     Claire McCollum explores Edinburgh and shares ...   \n...                                                 ...   \n3798  The trial continues as Cairney and Jones stand...   \n3799  Footballer Paul Merson sets out to understand ...   \n3800  Avicii: True Stories is Tim Bergling’s own sto...   \n3801  On the Isle of Wight, Brother Matthew, a monk ...   \n3802  Colin Stafford-Johnson turns his childhood gar...   \n\n                                             synops_med  \\\n0     Australian tenor Stuart Skelton is joined by L...   \n1     Julie Fowlis a’ lìbhrigeadh ceòl bhon t-sreath...   \n2     Tom Holland and Greg James cold call celebrity...   \n3     John Toal and Pauline Scanlon introduce an eve...   \n4     Claire McCollum goes on a Christian heritage t...   \n...                                                 ...   \n3798  Second part of the documentary about the trial...   \n3799  Former footballer Paul Merson sets out to unde...   \n3800  Avicii: True Stories is Tim Bergling’s own sto...   \n3801  At Quarr Abbey on the Isle of Wight, Brother M...   \n3802  Wildlife cameraman Colin Stafford-Johnson retu...   \n\n                                            synops_long       category  \\\n0     Katie Derham hosts continued live coverage fro...          Music   \n1     Bidh Druthag Bheag Eile a’ tarraing ri chèile ...          Music   \n2                                                   NaN  Entertainment   \n3     John Toal and Pauline Scanlon introduce an eve...          Music   \n4     Claire McCollum explores Edinburgh and discove...          Music   \n...                                                 ...            ...   \n3798  As the murder trial that gripped a nation cont...    Documentary   \n3799  Over the past 35 years, former Arsenal and Eng...          Sport   \n3800  In 2006, Tim Bergling was just a regular teena...    Documentary   \n3801  The Benedictine nuns of Kylemore Abbey on the ...    Documentary   \n3802  Wildlife cameraman Colin Stafford-Johnson retu...         Nature   \n\n                               channel                         language  \\\n0                      bbc_radio_three                            False   \n1                             bbc_alba                            False   \n2                        bbc_radio_one                            False   \n3     bbc_two_northern_ireland_digital                            False   \n4                              bbc_one                            False   \n...                                ...                              ...   \n3798                           bbc_two  Contains some upsetting scenes.   \n3799                           bbc_one   Contains some strong language.   \n3800                         bbc_three        Contains strong language.   \n3801                           bbc_one                            False   \n3802                           bbc_two                            False   \n\n             release_date  duration_sec          topic  \n0         9pm 11 Sep 2021          5247          music  \n1              9 Jul 2020          1037          music  \n2             10 Feb 2022           611          music  \n3             17 Mar 2017          3538          music  \n4      1:15pm 20 Feb 2022          2044          music  \n...                   ...           ...            ...  \n3798      10pm 8 Jan 2020          3540  documentaries  \n3799      9pm 11 Oct 2021          3480  documentaries  \n3800          20 Apr 2019          5766  documentaries  \n3801  10:30am 13 Feb 2022          3244  documentaries  \n3802      8pm 26 Nov 2021          3540  documentaries  \n\n[3803 rows x 15 columns]",
      "text/html": "<div>\n<style scoped>\n    .dataframe tbody tr th:only-of-type {\n        vertical-align: middle;\n    }\n\n    .dataframe tbody tr th {\n        vertical-align: top;\n    }\n\n    .dataframe thead th {\n        text-align: right;\n    }\n</style>\n<table border=\"1\" class=\"dataframe\">\n  <thead>\n    <tr style=\"text-align: right;\">\n      <th></th>\n      <th>id</th>\n      <th>title</th>\n      <th>subtitle</th>\n      <th>description</th>\n      <th>image</th>\n      <th>keywords</th>\n      <th>synopses_small</th>\n      <th>synops_med</th>\n      <th>synops_long</th>\n      <th>category</th>\n      <th>channel</th>\n      <th>language</th>\n      <th>release_date</th>\n      <th>duration_sec</th>\n      <th>topic</th>\n    </tr>\n  </thead>\n  <tbody>\n    <tr>\n      <th>0</th>\n      <td>0</td>\n      <td>BBC Proms</td>\n      <td>2021: Last Night of the Proms, Part 2</td>\n      <td>Australian tenor Stuart Skelton is joined by L...</td>\n      <td>https://ichef.bbci.co.uk/images/ic/{recipe}/p0...</td>\n      <td>BBC, iPlayer, TV, BBC Proms, 2021: Last Night ...</td>\n      <td>Australian tenor Stuart Skelton is joined by L...</td>\n      <td>Australian tenor Stuart Skelton is joined by L...</td>\n      <td>Katie Derham hosts continued live coverage fro...</td>\n      <td>Music</td>\n      <td>bbc_radio_three</td>\n      <td>False</td>\n      <td>9pm 11 Sep 2021</td>\n      <td>5247</td>\n      <td>music</td>\n    </tr>\n    <tr>\n      <th>1</th>\n      <td>1</td>\n      <td>Port</td>\n      <td>Series 5: Episode 4</td>\n      <td>Previously unseen music from the series Port, ...</td>\n      <td>https://ichef.bbci.co.uk/images/ic/{recipe}/p0...</td>\n      <td>BBC, iPlayer, TV, Port, Series 5: Episode 4</td>\n      <td>Previously unseen music from the series Port, ...</td>\n      <td>Julie Fowlis a’ lìbhrigeadh ceòl bhon t-sreath...</td>\n      <td>Bidh Druthag Bheag Eile a’ tarraing ri chèile ...</td>\n      <td>Music</td>\n      <td>bbc_alba</td>\n      <td>False</td>\n      <td>9 Jul 2020</td>\n      <td>1037</td>\n      <td>music</td>\n    </tr>\n    <tr>\n      <th>2</th>\n      <td>2</td>\n      <td>Sit Down, Stand Up with Greg James</td>\n      <td>NaN</td>\n      <td>Tom Holland and Greg James cold call celebrity...</td>\n      <td>https://ichef.bbci.co.uk/images/ic/{recipe}/p0...</td>\n      <td>BBC, iPlayer, TV, Sit Down, Stand Up with Greg...</td>\n      <td>Tom Holland and Greg James cold call celebrity...</td>\n      <td>Tom Holland and Greg James cold call celebrity...</td>\n      <td>NaN</td>\n      <td>Entertainment</td>\n      <td>bbc_radio_one</td>\n      <td>False</td>\n      <td>10 Feb 2022</td>\n      <td>611</td>\n      <td>music</td>\n    </tr>\n    <tr>\n      <th>3</th>\n      <td>3</td>\n      <td>Ceiliúradh na Féile Pádraig</td>\n      <td>NaN</td>\n      <td>John Toal and Pauline Scanlon introduce an eve...</td>\n      <td>https://ichef.bbci.co.uk/images/ic/{recipe}/p0...</td>\n      <td>BBC, iPlayer, TV, Ceiliúradh na Féile Pádraig</td>\n      <td>John Toal and Pauline Scanlon introduce an eve...</td>\n      <td>John Toal and Pauline Scanlon introduce an eve...</td>\n      <td>John Toal and Pauline Scanlon introduce an eve...</td>\n      <td>Music</td>\n      <td>bbc_two_northern_ireland_digital</td>\n      <td>False</td>\n      <td>17 Mar 2017</td>\n      <td>3538</td>\n      <td>music</td>\n    </tr>\n    <tr>\n      <th>4</th>\n      <td>4</td>\n      <td>Songs of Praise</td>\n      <td>Edinburgh</td>\n      <td>Claire McCollum explores Edinburgh and shares ...</td>\n      <td>https://ichef.bbci.co.uk/images/ic/{recipe}/p0...</td>\n      <td>BBC, iPlayer, TV, Songs of Praise, Edinburgh</td>\n      <td>Claire McCollum explores Edinburgh and shares ...</td>\n      <td>Claire McCollum goes on a Christian heritage t...</td>\n      <td>Claire McCollum explores Edinburgh and discove...</td>\n      <td>Music</td>\n      <td>bbc_one</td>\n      <td>False</td>\n      <td>1:15pm 20 Feb 2022</td>\n      <td>2044</td>\n      <td>music</td>\n    </tr>\n    <tr>\n      <th>...</th>\n      <td>...</td>\n      <td>...</td>\n      <td>...</td>\n      <td>...</td>\n      <td>...</td>\n      <td>...</td>\n      <td>...</td>\n      <td>...</td>\n      <td>...</td>\n      <td>...</td>\n      <td>...</td>\n      <td>...</td>\n      <td>...</td>\n      <td>...</td>\n      <td>...</td>\n    </tr>\n    <tr>\n      <th>3798</th>\n      <td>3798</td>\n      <td>Murder Trial: The Disappearance of Margaret Fl...</td>\n      <td>Series 1: Episode 2</td>\n      <td>The trial continues as Cairney and Jones stand...</td>\n      <td>https://ichef.bbci.co.uk/images/ic/{recipe}/p0...</td>\n      <td>BBC, iPlayer, TV, Murder Trial: The Disappeara...</td>\n      <td>The trial continues as Cairney and Jones stand...</td>\n      <td>Second part of the documentary about the trial...</td>\n      <td>As the murder trial that gripped a nation cont...</td>\n      <td>Documentary</td>\n      <td>bbc_two</td>\n      <td>Contains some upsetting scenes.</td>\n      <td>10pm 8 Jan 2020</td>\n      <td>3540</td>\n      <td>documentaries</td>\n    </tr>\n    <tr>\n      <th>3799</th>\n      <td>3799</td>\n      <td>Paul Merson: Football, Gambling and Me</td>\n      <td>NaN</td>\n      <td>Footballer Paul Merson sets out to understand ...</td>\n      <td>https://ichef.bbci.co.uk/images/ic/{recipe}/p0...</td>\n      <td>BBC, iPlayer, TV, Paul Merson: Football, Gambl...</td>\n      <td>Footballer Paul Merson sets out to understand ...</td>\n      <td>Former footballer Paul Merson sets out to unde...</td>\n      <td>Over the past 35 years, former Arsenal and Eng...</td>\n      <td>Sport</td>\n      <td>bbc_one</td>\n      <td>Contains some strong language.</td>\n      <td>9pm 11 Oct 2021</td>\n      <td>3480</td>\n      <td>documentaries</td>\n    </tr>\n    <tr>\n      <th>3800</th>\n      <td>3800</td>\n      <td>Avicii: True Stories</td>\n      <td>NaN</td>\n      <td>Avicii: True Stories is Tim Bergling’s own sto...</td>\n      <td>https://ichef.bbci.co.uk/images/ic/{recipe}/p0...</td>\n      <td>BBC, iPlayer, TV, Avicii: True Stories</td>\n      <td>Avicii: True Stories is Tim Bergling’s own sto...</td>\n      <td>Avicii: True Stories is Tim Bergling’s own sto...</td>\n      <td>In 2006, Tim Bergling was just a regular teena...</td>\n      <td>Documentary</td>\n      <td>bbc_three</td>\n      <td>Contains strong language.</td>\n      <td>20 Apr 2019</td>\n      <td>5766</td>\n      <td>documentaries</td>\n    </tr>\n    <tr>\n      <th>3801</th>\n      <td>3801</td>\n      <td>Heaven Made</td>\n      <td>Series 1: Episode 3</td>\n      <td>On the Isle of Wight, Brother Matthew, a monk ...</td>\n      <td>https://ichef.bbci.co.uk/images/ic/{recipe}/p0...</td>\n      <td>BBC, iPlayer, TV, Heaven Made, Series 1: Episo...</td>\n      <td>On the Isle of Wight, Brother Matthew, a monk ...</td>\n      <td>At Quarr Abbey on the Isle of Wight, Brother M...</td>\n      <td>The Benedictine nuns of Kylemore Abbey on the ...</td>\n      <td>Documentary</td>\n      <td>bbc_one</td>\n      <td>False</td>\n      <td>10:30am 13 Feb 2022</td>\n      <td>3244</td>\n      <td>documentaries</td>\n    </tr>\n    <tr>\n      <th>3802</th>\n      <td>3802</td>\n      <td>The Wild Gardener</td>\n      <td>Series 1: Episode 2</td>\n      <td>Colin Stafford-Johnson turns his childhood gar...</td>\n      <td>https://ichef.bbci.co.uk/images/ic/{recipe}/p0...</td>\n      <td>BBC, iPlayer, TV, The Wild Gardener, Series 1:...</td>\n      <td>Colin Stafford-Johnson turns his childhood gar...</td>\n      <td>Wildlife cameraman Colin Stafford-Johnson retu...</td>\n      <td>Wildlife cameraman Colin Stafford-Johnson retu...</td>\n      <td>Nature</td>\n      <td>bbc_two</td>\n      <td>False</td>\n      <td>8pm 26 Nov 2021</td>\n      <td>3540</td>\n      <td>documentaries</td>\n    </tr>\n  </tbody>\n</table>\n<p>3803 rows × 15 columns</p>\n</div>"
     },
     "execution_count": 57,
     "metadata": {},
     "output_type": "execute_result"
    }
   ],
   "source": [
    "df"
   ],
   "metadata": {
    "collapsed": false,
    "pycharm": {
     "name": "#%%\n"
    }
   }
  },
  {
   "cell_type": "code",
   "execution_count": 58,
   "outputs": [
    {
     "data": {
      "text/plain": "Index(['id', 'title', 'subtitle', 'description', 'image', 'keywords',\n       'synopses_small', 'synops_med', 'synops_long', 'category', 'channel',\n       'language', 'release_date', 'duration_sec', 'topic'],\n      dtype='object')"
     },
     "execution_count": 58,
     "metadata": {},
     "output_type": "execute_result"
    }
   ],
   "source": [
    "df.columns"
   ],
   "metadata": {
    "collapsed": false,
    "pycharm": {
     "name": "#%%\n"
    }
   }
  },
  {
   "cell_type": "code",
   "execution_count": 59,
   "outputs": [],
   "source": [
    "columns = ['index', 'title', 'subtitle', 'description', 'image', 'keywords', 'syno_s', 'syno_m', 'syno_l', 'category', 'channel', 'language', 'release_date', 'duration_sec', 'topic']\n",
    "#\n",
    "df.columns = columns"
   ],
   "metadata": {
    "collapsed": false,
    "pycharm": {
     "name": "#%%\n"
    }
   }
  },
  {
   "cell_type": "code",
   "execution_count": 60,
   "outputs": [
    {
     "data": {
      "text/plain": "      index                                              title  \\\n0         0                                          BBC Proms   \n1         1                                               Port   \n2         2                 Sit Down, Stand Up with Greg James   \n3         3                        Ceiliúradh na Féile Pádraig   \n4         4                                    Songs of Praise   \n...     ...                                                ...   \n3798   3798  Murder Trial: The Disappearance of Margaret Fl...   \n3799   3799             Paul Merson: Football, Gambling and Me   \n3800   3800                               Avicii: True Stories   \n3801   3801                                        Heaven Made   \n3802   3802                                  The Wild Gardener   \n\n                                   subtitle  \\\n0     2021: Last Night of the Proms, Part 2   \n1                       Series 5: Episode 4   \n2                                       NaN   \n3                                       NaN   \n4                                 Edinburgh   \n...                                     ...   \n3798                    Series 1: Episode 2   \n3799                                    NaN   \n3800                                    NaN   \n3801                    Series 1: Episode 3   \n3802                    Series 1: Episode 2   \n\n                                            description  \\\n0     Australian tenor Stuart Skelton is joined by L...   \n1     Previously unseen music from the series Port, ...   \n2     Tom Holland and Greg James cold call celebrity...   \n3     John Toal and Pauline Scanlon introduce an eve...   \n4     Claire McCollum explores Edinburgh and shares ...   \n...                                                 ...   \n3798  The trial continues as Cairney and Jones stand...   \n3799  Footballer Paul Merson sets out to understand ...   \n3800  Avicii: True Stories is Tim Bergling’s own sto...   \n3801  On the Isle of Wight, Brother Matthew, a monk ...   \n3802  Colin Stafford-Johnson turns his childhood gar...   \n\n                                                  image  \\\n0     https://ichef.bbci.co.uk/images/ic/{recipe}/p0...   \n1     https://ichef.bbci.co.uk/images/ic/{recipe}/p0...   \n2     https://ichef.bbci.co.uk/images/ic/{recipe}/p0...   \n3     https://ichef.bbci.co.uk/images/ic/{recipe}/p0...   \n4     https://ichef.bbci.co.uk/images/ic/{recipe}/p0...   \n...                                                 ...   \n3798  https://ichef.bbci.co.uk/images/ic/{recipe}/p0...   \n3799  https://ichef.bbci.co.uk/images/ic/{recipe}/p0...   \n3800  https://ichef.bbci.co.uk/images/ic/{recipe}/p0...   \n3801  https://ichef.bbci.co.uk/images/ic/{recipe}/p0...   \n3802  https://ichef.bbci.co.uk/images/ic/{recipe}/p0...   \n\n                                               keywords  \\\n0     BBC, iPlayer, TV, BBC Proms, 2021: Last Night ...   \n1           BBC, iPlayer, TV, Port, Series 5: Episode 4   \n2     BBC, iPlayer, TV, Sit Down, Stand Up with Greg...   \n3         BBC, iPlayer, TV, Ceiliúradh na Féile Pádraig   \n4          BBC, iPlayer, TV, Songs of Praise, Edinburgh   \n...                                                 ...   \n3798  BBC, iPlayer, TV, Murder Trial: The Disappeara...   \n3799  BBC, iPlayer, TV, Paul Merson: Football, Gambl...   \n3800             BBC, iPlayer, TV, Avicii: True Stories   \n3801  BBC, iPlayer, TV, Heaven Made, Series 1: Episo...   \n3802  BBC, iPlayer, TV, The Wild Gardener, Series 1:...   \n\n                                                 syno_s  \\\n0     Australian tenor Stuart Skelton is joined by L...   \n1     Previously unseen music from the series Port, ...   \n2     Tom Holland and Greg James cold call celebrity...   \n3     John Toal and Pauline Scanlon introduce an eve...   \n4     Claire McCollum explores Edinburgh and shares ...   \n...                                                 ...   \n3798  The trial continues as Cairney and Jones stand...   \n3799  Footballer Paul Merson sets out to understand ...   \n3800  Avicii: True Stories is Tim Bergling’s own sto...   \n3801  On the Isle of Wight, Brother Matthew, a monk ...   \n3802  Colin Stafford-Johnson turns his childhood gar...   \n\n                                                 syno_m  \\\n0     Australian tenor Stuart Skelton is joined by L...   \n1     Julie Fowlis a’ lìbhrigeadh ceòl bhon t-sreath...   \n2     Tom Holland and Greg James cold call celebrity...   \n3     John Toal and Pauline Scanlon introduce an eve...   \n4     Claire McCollum goes on a Christian heritage t...   \n...                                                 ...   \n3798  Second part of the documentary about the trial...   \n3799  Former footballer Paul Merson sets out to unde...   \n3800  Avicii: True Stories is Tim Bergling’s own sto...   \n3801  At Quarr Abbey on the Isle of Wight, Brother M...   \n3802  Wildlife cameraman Colin Stafford-Johnson retu...   \n\n                                                 syno_l       category  \\\n0     Katie Derham hosts continued live coverage fro...          Music   \n1     Bidh Druthag Bheag Eile a’ tarraing ri chèile ...          Music   \n2                                                   NaN  Entertainment   \n3     John Toal and Pauline Scanlon introduce an eve...          Music   \n4     Claire McCollum explores Edinburgh and discove...          Music   \n...                                                 ...            ...   \n3798  As the murder trial that gripped a nation cont...    Documentary   \n3799  Over the past 35 years, former Arsenal and Eng...          Sport   \n3800  In 2006, Tim Bergling was just a regular teena...    Documentary   \n3801  The Benedictine nuns of Kylemore Abbey on the ...    Documentary   \n3802  Wildlife cameraman Colin Stafford-Johnson retu...         Nature   \n\n                               channel                         language  \\\n0                      bbc_radio_three                            False   \n1                             bbc_alba                            False   \n2                        bbc_radio_one                            False   \n3     bbc_two_northern_ireland_digital                            False   \n4                              bbc_one                            False   \n...                                ...                              ...   \n3798                           bbc_two  Contains some upsetting scenes.   \n3799                           bbc_one   Contains some strong language.   \n3800                         bbc_three        Contains strong language.   \n3801                           bbc_one                            False   \n3802                           bbc_two                            False   \n\n             release_date  duration_sec          topic  \n0         9pm 11 Sep 2021          5247          music  \n1              9 Jul 2020          1037          music  \n2             10 Feb 2022           611          music  \n3             17 Mar 2017          3538          music  \n4      1:15pm 20 Feb 2022          2044          music  \n...                   ...           ...            ...  \n3798      10pm 8 Jan 2020          3540  documentaries  \n3799      9pm 11 Oct 2021          3480  documentaries  \n3800          20 Apr 2019          5766  documentaries  \n3801  10:30am 13 Feb 2022          3244  documentaries  \n3802      8pm 26 Nov 2021          3540  documentaries  \n\n[3803 rows x 15 columns]",
      "text/html": "<div>\n<style scoped>\n    .dataframe tbody tr th:only-of-type {\n        vertical-align: middle;\n    }\n\n    .dataframe tbody tr th {\n        vertical-align: top;\n    }\n\n    .dataframe thead th {\n        text-align: right;\n    }\n</style>\n<table border=\"1\" class=\"dataframe\">\n  <thead>\n    <tr style=\"text-align: right;\">\n      <th></th>\n      <th>index</th>\n      <th>title</th>\n      <th>subtitle</th>\n      <th>description</th>\n      <th>image</th>\n      <th>keywords</th>\n      <th>syno_s</th>\n      <th>syno_m</th>\n      <th>syno_l</th>\n      <th>category</th>\n      <th>channel</th>\n      <th>language</th>\n      <th>release_date</th>\n      <th>duration_sec</th>\n      <th>topic</th>\n    </tr>\n  </thead>\n  <tbody>\n    <tr>\n      <th>0</th>\n      <td>0</td>\n      <td>BBC Proms</td>\n      <td>2021: Last Night of the Proms, Part 2</td>\n      <td>Australian tenor Stuart Skelton is joined by L...</td>\n      <td>https://ichef.bbci.co.uk/images/ic/{recipe}/p0...</td>\n      <td>BBC, iPlayer, TV, BBC Proms, 2021: Last Night ...</td>\n      <td>Australian tenor Stuart Skelton is joined by L...</td>\n      <td>Australian tenor Stuart Skelton is joined by L...</td>\n      <td>Katie Derham hosts continued live coverage fro...</td>\n      <td>Music</td>\n      <td>bbc_radio_three</td>\n      <td>False</td>\n      <td>9pm 11 Sep 2021</td>\n      <td>5247</td>\n      <td>music</td>\n    </tr>\n    <tr>\n      <th>1</th>\n      <td>1</td>\n      <td>Port</td>\n      <td>Series 5: Episode 4</td>\n      <td>Previously unseen music from the series Port, ...</td>\n      <td>https://ichef.bbci.co.uk/images/ic/{recipe}/p0...</td>\n      <td>BBC, iPlayer, TV, Port, Series 5: Episode 4</td>\n      <td>Previously unseen music from the series Port, ...</td>\n      <td>Julie Fowlis a’ lìbhrigeadh ceòl bhon t-sreath...</td>\n      <td>Bidh Druthag Bheag Eile a’ tarraing ri chèile ...</td>\n      <td>Music</td>\n      <td>bbc_alba</td>\n      <td>False</td>\n      <td>9 Jul 2020</td>\n      <td>1037</td>\n      <td>music</td>\n    </tr>\n    <tr>\n      <th>2</th>\n      <td>2</td>\n      <td>Sit Down, Stand Up with Greg James</td>\n      <td>NaN</td>\n      <td>Tom Holland and Greg James cold call celebrity...</td>\n      <td>https://ichef.bbci.co.uk/images/ic/{recipe}/p0...</td>\n      <td>BBC, iPlayer, TV, Sit Down, Stand Up with Greg...</td>\n      <td>Tom Holland and Greg James cold call celebrity...</td>\n      <td>Tom Holland and Greg James cold call celebrity...</td>\n      <td>NaN</td>\n      <td>Entertainment</td>\n      <td>bbc_radio_one</td>\n      <td>False</td>\n      <td>10 Feb 2022</td>\n      <td>611</td>\n      <td>music</td>\n    </tr>\n    <tr>\n      <th>3</th>\n      <td>3</td>\n      <td>Ceiliúradh na Féile Pádraig</td>\n      <td>NaN</td>\n      <td>John Toal and Pauline Scanlon introduce an eve...</td>\n      <td>https://ichef.bbci.co.uk/images/ic/{recipe}/p0...</td>\n      <td>BBC, iPlayer, TV, Ceiliúradh na Féile Pádraig</td>\n      <td>John Toal and Pauline Scanlon introduce an eve...</td>\n      <td>John Toal and Pauline Scanlon introduce an eve...</td>\n      <td>John Toal and Pauline Scanlon introduce an eve...</td>\n      <td>Music</td>\n      <td>bbc_two_northern_ireland_digital</td>\n      <td>False</td>\n      <td>17 Mar 2017</td>\n      <td>3538</td>\n      <td>music</td>\n    </tr>\n    <tr>\n      <th>4</th>\n      <td>4</td>\n      <td>Songs of Praise</td>\n      <td>Edinburgh</td>\n      <td>Claire McCollum explores Edinburgh and shares ...</td>\n      <td>https://ichef.bbci.co.uk/images/ic/{recipe}/p0...</td>\n      <td>BBC, iPlayer, TV, Songs of Praise, Edinburgh</td>\n      <td>Claire McCollum explores Edinburgh and shares ...</td>\n      <td>Claire McCollum goes on a Christian heritage t...</td>\n      <td>Claire McCollum explores Edinburgh and discove...</td>\n      <td>Music</td>\n      <td>bbc_one</td>\n      <td>False</td>\n      <td>1:15pm 20 Feb 2022</td>\n      <td>2044</td>\n      <td>music</td>\n    </tr>\n    <tr>\n      <th>...</th>\n      <td>...</td>\n      <td>...</td>\n      <td>...</td>\n      <td>...</td>\n      <td>...</td>\n      <td>...</td>\n      <td>...</td>\n      <td>...</td>\n      <td>...</td>\n      <td>...</td>\n      <td>...</td>\n      <td>...</td>\n      <td>...</td>\n      <td>...</td>\n      <td>...</td>\n    </tr>\n    <tr>\n      <th>3798</th>\n      <td>3798</td>\n      <td>Murder Trial: The Disappearance of Margaret Fl...</td>\n      <td>Series 1: Episode 2</td>\n      <td>The trial continues as Cairney and Jones stand...</td>\n      <td>https://ichef.bbci.co.uk/images/ic/{recipe}/p0...</td>\n      <td>BBC, iPlayer, TV, Murder Trial: The Disappeara...</td>\n      <td>The trial continues as Cairney and Jones stand...</td>\n      <td>Second part of the documentary about the trial...</td>\n      <td>As the murder trial that gripped a nation cont...</td>\n      <td>Documentary</td>\n      <td>bbc_two</td>\n      <td>Contains some upsetting scenes.</td>\n      <td>10pm 8 Jan 2020</td>\n      <td>3540</td>\n      <td>documentaries</td>\n    </tr>\n    <tr>\n      <th>3799</th>\n      <td>3799</td>\n      <td>Paul Merson: Football, Gambling and Me</td>\n      <td>NaN</td>\n      <td>Footballer Paul Merson sets out to understand ...</td>\n      <td>https://ichef.bbci.co.uk/images/ic/{recipe}/p0...</td>\n      <td>BBC, iPlayer, TV, Paul Merson: Football, Gambl...</td>\n      <td>Footballer Paul Merson sets out to understand ...</td>\n      <td>Former footballer Paul Merson sets out to unde...</td>\n      <td>Over the past 35 years, former Arsenal and Eng...</td>\n      <td>Sport</td>\n      <td>bbc_one</td>\n      <td>Contains some strong language.</td>\n      <td>9pm 11 Oct 2021</td>\n      <td>3480</td>\n      <td>documentaries</td>\n    </tr>\n    <tr>\n      <th>3800</th>\n      <td>3800</td>\n      <td>Avicii: True Stories</td>\n      <td>NaN</td>\n      <td>Avicii: True Stories is Tim Bergling’s own sto...</td>\n      <td>https://ichef.bbci.co.uk/images/ic/{recipe}/p0...</td>\n      <td>BBC, iPlayer, TV, Avicii: True Stories</td>\n      <td>Avicii: True Stories is Tim Bergling’s own sto...</td>\n      <td>Avicii: True Stories is Tim Bergling’s own sto...</td>\n      <td>In 2006, Tim Bergling was just a regular teena...</td>\n      <td>Documentary</td>\n      <td>bbc_three</td>\n      <td>Contains strong language.</td>\n      <td>20 Apr 2019</td>\n      <td>5766</td>\n      <td>documentaries</td>\n    </tr>\n    <tr>\n      <th>3801</th>\n      <td>3801</td>\n      <td>Heaven Made</td>\n      <td>Series 1: Episode 3</td>\n      <td>On the Isle of Wight, Brother Matthew, a monk ...</td>\n      <td>https://ichef.bbci.co.uk/images/ic/{recipe}/p0...</td>\n      <td>BBC, iPlayer, TV, Heaven Made, Series 1: Episo...</td>\n      <td>On the Isle of Wight, Brother Matthew, a monk ...</td>\n      <td>At Quarr Abbey on the Isle of Wight, Brother M...</td>\n      <td>The Benedictine nuns of Kylemore Abbey on the ...</td>\n      <td>Documentary</td>\n      <td>bbc_one</td>\n      <td>False</td>\n      <td>10:30am 13 Feb 2022</td>\n      <td>3244</td>\n      <td>documentaries</td>\n    </tr>\n    <tr>\n      <th>3802</th>\n      <td>3802</td>\n      <td>The Wild Gardener</td>\n      <td>Series 1: Episode 2</td>\n      <td>Colin Stafford-Johnson turns his childhood gar...</td>\n      <td>https://ichef.bbci.co.uk/images/ic/{recipe}/p0...</td>\n      <td>BBC, iPlayer, TV, The Wild Gardener, Series 1:...</td>\n      <td>Colin Stafford-Johnson turns his childhood gar...</td>\n      <td>Wildlife cameraman Colin Stafford-Johnson retu...</td>\n      <td>Wildlife cameraman Colin Stafford-Johnson retu...</td>\n      <td>Nature</td>\n      <td>bbc_two</td>\n      <td>False</td>\n      <td>8pm 26 Nov 2021</td>\n      <td>3540</td>\n      <td>documentaries</td>\n    </tr>\n  </tbody>\n</table>\n<p>3803 rows × 15 columns</p>\n</div>"
     },
     "execution_count": 60,
     "metadata": {},
     "output_type": "execute_result"
    }
   ],
   "source": [
    "df"
   ],
   "metadata": {
    "collapsed": false,
    "pycharm": {
     "name": "#%%\n"
    }
   }
  },
  {
   "cell_type": "markdown",
   "source": [
    "## Missing Data processing"
   ],
   "metadata": {
    "collapsed": false
   }
  },
  {
   "cell_type": "code",
   "execution_count": 61,
   "outputs": [
    {
     "data": {
      "text/plain": "index              0\ntitle              0\nsubtitle        1350\ndescription        0\nimage              0\nkeywords           0\nsyno_s             0\nsyno_m           106\nsyno_l           561\ncategory         103\nchannel            0\nlanguage           0\nrelease_date       1\nduration_sec       0\ntopic              0\ndtype: int64"
     },
     "execution_count": 61,
     "metadata": {},
     "output_type": "execute_result"
    }
   ],
   "source": [
    "df.isna().sum()"
   ],
   "metadata": {
    "collapsed": false,
    "pycharm": {
     "name": "#%%\n"
    }
   }
  },
  {
   "cell_type": "code",
   "execution_count": 62,
   "outputs": [],
   "source": [
    "df_nona = df.dropna(subset=['image', 'release_date', 'description'])"
   ],
   "metadata": {
    "collapsed": false,
    "pycharm": {
     "name": "#%%\n"
    }
   }
  },
  {
   "cell_type": "code",
   "execution_count": 63,
   "outputs": [
    {
     "data": {
      "text/plain": "index              0\ntitle              0\nsubtitle        1350\ndescription        0\nimage              0\nkeywords           0\nsyno_s             0\nsyno_m           105\nsyno_l           560\ncategory         103\nchannel            0\nlanguage           0\nrelease_date       0\nduration_sec       0\ntopic              0\ndtype: int64"
     },
     "execution_count": 63,
     "metadata": {},
     "output_type": "execute_result"
    }
   ],
   "source": [
    "df_nona.isna().sum()"
   ],
   "metadata": {
    "collapsed": false,
    "pycharm": {
     "name": "#%%\n"
    }
   }
  },
  {
   "cell_type": "code",
   "execution_count": 64,
   "outputs": [],
   "source": [
    "df_nona.loc[df_nona['category'].isna(), 'category'] = df_nona[df_nona['category'].isna()]['topic']"
   ],
   "metadata": {
    "collapsed": false,
    "pycharm": {
     "name": "#%%\n"
    }
   }
  },
  {
   "cell_type": "code",
   "execution_count": 65,
   "outputs": [
    {
     "data": {
      "text/plain": "index              0\ntitle              0\nsubtitle        1350\ndescription        0\nimage              0\nkeywords           0\nsyno_s             0\nsyno_m           105\nsyno_l           560\ncategory           0\nchannel            0\nlanguage           0\nrelease_date       0\nduration_sec       0\ntopic              0\ndtype: int64"
     },
     "execution_count": 65,
     "metadata": {},
     "output_type": "execute_result"
    }
   ],
   "source": [
    "df_nona.isna().sum()"
   ],
   "metadata": {
    "collapsed": false,
    "pycharm": {
     "name": "#%%\n"
    }
   }
  },
  {
   "cell_type": "code",
   "execution_count": 66,
   "outputs": [],
   "source": [
    "df = df_nona"
   ],
   "metadata": {
    "collapsed": false,
    "pycharm": {
     "name": "#%%\n"
    }
   }
  },
  {
   "cell_type": "markdown",
   "source": [
    "## Image Processing"
   ],
   "metadata": {
    "collapsed": false
   }
  },
  {
   "cell_type": "code",
   "execution_count": 67,
   "outputs": [
    {
     "name": "stderr",
     "output_type": "stream",
     "text": [
      "/var/folders/2s/d47mm4m157l7p7yy3xrkwqsh0000gn/T/ipykernel_45916/4222878445.py:7: SettingWithCopyWarning: \n",
      "A value is trying to be set on a copy of a slice from a DataFrame.\n",
      "Try using .loc[row_indexer,col_indexer] = value instead\n",
      "\n",
      "See the caveats in the documentation: https://pandas.pydata.org/pandas-docs/stable/user_guide/indexing.html#returning-a-view-versus-a-copy\n",
      "  df['image_l'] = generate_img(df, l)\n",
      "/var/folders/2s/d47mm4m157l7p7yy3xrkwqsh0000gn/T/ipykernel_45916/4222878445.py:8: SettingWithCopyWarning: \n",
      "A value is trying to be set on a copy of a slice from a DataFrame.\n",
      "Try using .loc[row_indexer,col_indexer] = value instead\n",
      "\n",
      "See the caveats in the documentation: https://pandas.pydata.org/pandas-docs/stable/user_guide/indexing.html#returning-a-view-versus-a-copy\n",
      "  df['image_xl'] = generate_img(df, xl)\n"
     ]
    }
   ],
   "source": [
    "s = '192x108'\n",
    "m = '288x162'\n",
    "l = '352x198'\n",
    "xl = '1200x675'\n",
    "def generate_img(df_inp, size):\n",
    "    return [image.replace('{recipe}', size) for image in df_inp['image']]\n",
    "df['image_l'] = generate_img(df, l)\n",
    "df['image_xl'] = generate_img(df, xl)"
   ],
   "metadata": {
    "collapsed": false,
    "pycharm": {
     "name": "#%%\n"
    }
   }
  },
  {
   "cell_type": "code",
   "execution_count": 211,
   "outputs": [],
   "source": [
    "# df_img = df.loc[:, ['index', 'image', 'image_s', 'image_m', 'image_l']]\n",
    "# df_img.to_csv('../data/BBC/bbc_images.csv', sep=';')"
   ],
   "metadata": {
    "collapsed": false,
    "pycharm": {
     "name": "#%%\n"
    }
   }
  },
  {
   "cell_type": "markdown",
   "source": [
    "## Synopses clearing"
   ],
   "metadata": {
    "collapsed": false,
    "pycharm": {
     "name": "#%% md\n"
    }
   }
  },
  {
   "cell_type": "code",
   "execution_count": 68,
   "outputs": [
    {
     "data": {
      "text/plain": "0"
     },
     "execution_count": 68,
     "metadata": {},
     "output_type": "execute_result"
    }
   ],
   "source": [
    "len(df[df['syno_s'].isna()])"
   ],
   "metadata": {
    "collapsed": false,
    "pycharm": {
     "name": "#%%\n"
    }
   }
  },
  {
   "cell_type": "code",
   "execution_count": 69,
   "outputs": [
    {
     "data": {
      "text/plain": "105"
     },
     "execution_count": 69,
     "metadata": {},
     "output_type": "execute_result"
    }
   ],
   "source": [
    "len(df[df['syno_m'].isna()])"
   ],
   "metadata": {
    "collapsed": false,
    "pycharm": {
     "name": "#%%\n"
    }
   }
  },
  {
   "cell_type": "code",
   "execution_count": 44,
   "outputs": [
    {
     "data": {
      "text/plain": "560"
     },
     "execution_count": 44,
     "metadata": {},
     "output_type": "execute_result"
    }
   ],
   "source": [
    "len(df[df['syno_l'].isna()])"
   ],
   "metadata": {
    "collapsed": false,
    "pycharm": {
     "name": "#%%\n"
    }
   }
  },
  {
   "cell_type": "code",
   "execution_count": 70,
   "outputs": [],
   "source": [
    "def fill_column(df_input, origin_col, gap_filler_col):\n",
    "    for index, df_entry in df_input.iterrows():\n",
    "        # checks if the value is the same, if not it is a NaN\n",
    "        if not df_entry[origin_col] == df_entry[origin_col]:\n",
    "            df_input.loc[index, [origin_col]] = df_entry[gap_filler_col]"
   ],
   "metadata": {
    "collapsed": false,
    "pycharm": {
     "name": "#%%\n"
    }
   }
  },
  {
   "cell_type": "code",
   "execution_count": 71,
   "outputs": [],
   "source": [
    "# Substitute all nan syno_m with the syno_s values\n",
    "fill_column(df, origin_col='syno_m', gap_filler_col='syno_s')\n",
    "# Substitute all nan syno_l with the syno_m values\n",
    "fill_column(df, origin_col='syno_l', gap_filler_col='syno_m')"
   ],
   "metadata": {
    "collapsed": false,
    "pycharm": {
     "name": "#%%\n"
    }
   }
  },
  {
   "cell_type": "code",
   "execution_count": 217,
   "outputs": [],
   "source": [
    "# df.to_csv('../data/BBC/bbc_data.csv', sep=';')"
   ],
   "metadata": {
    "collapsed": false,
    "pycharm": {
     "name": "#%%\n"
    }
   }
  },
  {
   "cell_type": "code",
   "execution_count": 72,
   "outputs": [],
   "source": [
    "df.loc[df['subtitle'].isna(), 'subtitle'] = 'None'"
   ],
   "metadata": {
    "collapsed": false,
    "pycharm": {
     "name": "#%%\n"
    }
   }
  },
  {
   "cell_type": "code",
   "execution_count": 73,
   "outputs": [
    {
     "data": {
      "text/plain": "index           0\ntitle           0\nsubtitle        0\ndescription     0\nimage           0\nkeywords        0\nsyno_s          0\nsyno_m          0\nsyno_l          0\ncategory        0\nchannel         0\nlanguage        0\nrelease_date    0\nduration_sec    0\ntopic           0\nimage_l         0\nimage_xl        0\ndtype: int64"
     },
     "execution_count": 73,
     "metadata": {},
     "output_type": "execute_result"
    }
   ],
   "source": [
    "df.isna().sum()"
   ],
   "metadata": {
    "collapsed": false,
    "pycharm": {
     "name": "#%%\n"
    }
   }
  },
  {
   "cell_type": "markdown",
   "source": [
    "## Remove duplicates"
   ],
   "metadata": {
    "collapsed": false
   }
  },
  {
   "cell_type": "code",
   "execution_count": 78,
   "outputs": [
    {
     "data": {
      "text/plain": "      index                   title                    subtitle  \\\n1956   1956  A Life in Ten Pictures  Series 1: 6. Amy Winehouse   \n2835   2836  A Life in Ten Pictures  Series 1: 6. Amy Winehouse   \n3485   3486  A Life in Ten Pictures  Series 1: 6. Amy Winehouse   \n\n                                            description  \\\n1956  Ten pictures, from iconic shots to private sna...   \n2835  Ten pictures, from iconic shots to private sna...   \n3485  Ten pictures, from iconic shots to private sna...   \n\n                                                  image  \\\n1956  https://ichef.bbci.co.uk/images/ic/{recipe}/p0...   \n2835  https://ichef.bbci.co.uk/images/ic/{recipe}/p0...   \n3485  https://ichef.bbci.co.uk/images/ic/{recipe}/p0...   \n\n                                               keywords  \\\n1956  BBC, iPlayer, TV, A Life in Ten Pictures, Seri...   \n2835  BBC, iPlayer, TV, A Life in Ten Pictures, Seri...   \n3485  BBC, iPlayer, TV, A Life in Ten Pictures, Seri...   \n\n                                                 syno_s  \\\n1956  Ten pictures, from iconic shots to private sna...   \n2835  Ten pictures, from iconic shots to private sna...   \n3485  Ten pictures, from iconic shots to private sna...   \n\n                                                 syno_m  \\\n1956  Amy Winehouse’s image is known around the worl...   \n2835  Amy Winehouse’s image is known around the worl...   \n3485  Amy Winehouse’s image is known around the worl...   \n\n                                                 syno_l category  channel  \\\n1956  Amy Winehouse’s image is known around the worl...  History  bbc_two   \n2835  Amy Winehouse’s image is known around the worl...  History  bbc_two   \n3485  Amy Winehouse’s image is known around the worl...  History  bbc_two   \n\n                       language     release_date  duration_sec          topic  \\\n1956  Contains strong language.  9pm 11 Sep 2021          3550         signed   \n2835  Contains strong language.  9pm 11 Sep 2021          3550        history   \n3485  Contains strong language.  9pm 11 Sep 2021          3550  documentaries   \n\n                                                image_l  \\\n1956  https://ichef.bbci.co.uk/images/ic/352x198/p09...   \n2835  https://ichef.bbci.co.uk/images/ic/352x198/p09...   \n3485  https://ichef.bbci.co.uk/images/ic/352x198/p09...   \n\n                                               image_xl  \n1956  https://ichef.bbci.co.uk/images/ic/1200x675/p0...  \n2835  https://ichef.bbci.co.uk/images/ic/1200x675/p0...  \n3485  https://ichef.bbci.co.uk/images/ic/1200x675/p0...  ",
      "text/html": "<div>\n<style scoped>\n    .dataframe tbody tr th:only-of-type {\n        vertical-align: middle;\n    }\n\n    .dataframe tbody tr th {\n        vertical-align: top;\n    }\n\n    .dataframe thead th {\n        text-align: right;\n    }\n</style>\n<table border=\"1\" class=\"dataframe\">\n  <thead>\n    <tr style=\"text-align: right;\">\n      <th></th>\n      <th>index</th>\n      <th>title</th>\n      <th>subtitle</th>\n      <th>description</th>\n      <th>image</th>\n      <th>keywords</th>\n      <th>syno_s</th>\n      <th>syno_m</th>\n      <th>syno_l</th>\n      <th>category</th>\n      <th>channel</th>\n      <th>language</th>\n      <th>release_date</th>\n      <th>duration_sec</th>\n      <th>topic</th>\n      <th>image_l</th>\n      <th>image_xl</th>\n    </tr>\n  </thead>\n  <tbody>\n    <tr>\n      <th>1956</th>\n      <td>1956</td>\n      <td>A Life in Ten Pictures</td>\n      <td>Series 1: 6. Amy Winehouse</td>\n      <td>Ten pictures, from iconic shots to private sna...</td>\n      <td>https://ichef.bbci.co.uk/images/ic/{recipe}/p0...</td>\n      <td>BBC, iPlayer, TV, A Life in Ten Pictures, Seri...</td>\n      <td>Ten pictures, from iconic shots to private sna...</td>\n      <td>Amy Winehouse’s image is known around the worl...</td>\n      <td>Amy Winehouse’s image is known around the worl...</td>\n      <td>History</td>\n      <td>bbc_two</td>\n      <td>Contains strong language.</td>\n      <td>9pm 11 Sep 2021</td>\n      <td>3550</td>\n      <td>signed</td>\n      <td>https://ichef.bbci.co.uk/images/ic/352x198/p09...</td>\n      <td>https://ichef.bbci.co.uk/images/ic/1200x675/p0...</td>\n    </tr>\n    <tr>\n      <th>2835</th>\n      <td>2836</td>\n      <td>A Life in Ten Pictures</td>\n      <td>Series 1: 6. Amy Winehouse</td>\n      <td>Ten pictures, from iconic shots to private sna...</td>\n      <td>https://ichef.bbci.co.uk/images/ic/{recipe}/p0...</td>\n      <td>BBC, iPlayer, TV, A Life in Ten Pictures, Seri...</td>\n      <td>Ten pictures, from iconic shots to private sna...</td>\n      <td>Amy Winehouse’s image is known around the worl...</td>\n      <td>Amy Winehouse’s image is known around the worl...</td>\n      <td>History</td>\n      <td>bbc_two</td>\n      <td>Contains strong language.</td>\n      <td>9pm 11 Sep 2021</td>\n      <td>3550</td>\n      <td>history</td>\n      <td>https://ichef.bbci.co.uk/images/ic/352x198/p09...</td>\n      <td>https://ichef.bbci.co.uk/images/ic/1200x675/p0...</td>\n    </tr>\n    <tr>\n      <th>3485</th>\n      <td>3486</td>\n      <td>A Life in Ten Pictures</td>\n      <td>Series 1: 6. Amy Winehouse</td>\n      <td>Ten pictures, from iconic shots to private sna...</td>\n      <td>https://ichef.bbci.co.uk/images/ic/{recipe}/p0...</td>\n      <td>BBC, iPlayer, TV, A Life in Ten Pictures, Seri...</td>\n      <td>Ten pictures, from iconic shots to private sna...</td>\n      <td>Amy Winehouse’s image is known around the worl...</td>\n      <td>Amy Winehouse’s image is known around the worl...</td>\n      <td>History</td>\n      <td>bbc_two</td>\n      <td>Contains strong language.</td>\n      <td>9pm 11 Sep 2021</td>\n      <td>3550</td>\n      <td>documentaries</td>\n      <td>https://ichef.bbci.co.uk/images/ic/352x198/p09...</td>\n      <td>https://ichef.bbci.co.uk/images/ic/1200x675/p0...</td>\n    </tr>\n  </tbody>\n</table>\n</div>"
     },
     "execution_count": 78,
     "metadata": {},
     "output_type": "execute_result"
    }
   ],
   "source": [
    "df[df['title'] == 'A Life in Ten Pictures']"
   ],
   "metadata": {
    "collapsed": false,
    "pycharm": {
     "name": "#%%\n"
    }
   }
  },
  {
   "cell_type": "code",
   "execution_count": 79,
   "outputs": [
    {
     "data": {
      "text/plain": "title                                      subtitle                                 \n#CancelKarenDunbar                         None                                         2\n'Go Back To Where You Came From'           None                                         1\n'Hideous and Barbaric Venture'             None                                         1\n'Til Kingdom Come: Trump, Faith and Money  None                                         1\n... Sings Musicals                         None                                         1\n                                                                                       ..\nimagine...                                 2022: Wayne McGregor: Dancing on the Edge    2\n                                           Winter 2009: 1. The Year of Anish Kapoor     1\nÉadaí SOS                                  Series 1: Episode 4                          1\n‘San Fhuil/It's in the Blood               Series 1: Episode 3                          3\n’S E Iasg a Th’Annam (I’m a Fish)          Series 1: 38. Iasg Garibaldi                 1\nLength: 2473, dtype: int64"
     },
     "execution_count": 79,
     "metadata": {},
     "output_type": "execute_result"
    }
   ],
   "source": [
    "df.groupby(['title', 'subtitle']).size()"
   ],
   "metadata": {
    "collapsed": false,
    "pycharm": {
     "name": "#%%\n"
    }
   }
  },
  {
   "cell_type": "code",
   "execution_count": 80,
   "outputs": [],
   "source": [
    "grouped_by_title_subtitle = df.groupby(['title', 'subtitle'])\n",
    "def remove_duplicates_by_title(df, grouped_by_title_subtitle):\n",
    "    for group, entries in grouped_by_title_subtitle:\n",
    "        if len(entries) == 1:\n",
    "            continue\n",
    "\n",
    "        indices = []\n",
    "        topics = []\n",
    "\n",
    "        for i, value in entries.iterrows():\n",
    "            topics.append(value['topic'])\n",
    "            indices.append(i)\n",
    "        df.loc[indices[0], 'topic'] = ', '.join(topics)\n",
    "        df = df.drop(labels=indices[1:], axis=0)\n",
    "    return df\n",
    "df = remove_duplicates_by_title(df, grouped_by_title_subtitle)"
   ],
   "metadata": {
    "collapsed": false,
    "pycharm": {
     "name": "#%%\n"
    }
   }
  },
  {
   "cell_type": "code",
   "execution_count": 81,
   "outputs": [
    {
     "data": {
      "text/plain": "title                                      subtitle                                 \n#CancelKarenDunbar                         None                                         1\n'Go Back To Where You Came From'           None                                         1\n'Hideous and Barbaric Venture'             None                                         1\n'Til Kingdom Come: Trump, Faith and Money  None                                         1\n... Sings Musicals                         None                                         1\n                                                                                       ..\nimagine...                                 2022: Wayne McGregor: Dancing on the Edge    1\n                                           Winter 2009: 1. The Year of Anish Kapoor     1\nÉadaí SOS                                  Series 1: Episode 4                          1\n‘San Fhuil/It's in the Blood               Series 1: Episode 3                          1\n’S E Iasg a Th’Annam (I’m a Fish)          Series 1: 38. Iasg Garibaldi                 1\nLength: 2473, dtype: int64"
     },
     "execution_count": 81,
     "metadata": {},
     "output_type": "execute_result"
    }
   ],
   "source": [
    "df.groupby(['title', 'subtitle']).size()"
   ],
   "metadata": {
    "collapsed": false,
    "pycharm": {
     "name": "#%%\n"
    }
   }
  },
  {
   "cell_type": "code",
   "execution_count": 82,
   "outputs": [
    {
     "data": {
      "text/plain": "      index                   title                    subtitle  \\\n1956   1956  A Life in Ten Pictures  Series 1: 6. Amy Winehouse   \n\n                                            description  \\\n1956  Ten pictures, from iconic shots to private sna...   \n\n                                                  image  \\\n1956  https://ichef.bbci.co.uk/images/ic/{recipe}/p0...   \n\n                                               keywords  \\\n1956  BBC, iPlayer, TV, A Life in Ten Pictures, Seri...   \n\n                                                 syno_s  \\\n1956  Ten pictures, from iconic shots to private sna...   \n\n                                                 syno_m  \\\n1956  Amy Winehouse’s image is known around the worl...   \n\n                                                 syno_l category  channel  \\\n1956  Amy Winehouse’s image is known around the worl...  History  bbc_two   \n\n                       language     release_date  duration_sec  \\\n1956  Contains strong language.  9pm 11 Sep 2021          3550   \n\n                               topic  \\\n1956  signed, history, documentaries   \n\n                                                image_l  \\\n1956  https://ichef.bbci.co.uk/images/ic/352x198/p09...   \n\n                                               image_xl  \n1956  https://ichef.bbci.co.uk/images/ic/1200x675/p0...  ",
      "text/html": "<div>\n<style scoped>\n    .dataframe tbody tr th:only-of-type {\n        vertical-align: middle;\n    }\n\n    .dataframe tbody tr th {\n        vertical-align: top;\n    }\n\n    .dataframe thead th {\n        text-align: right;\n    }\n</style>\n<table border=\"1\" class=\"dataframe\">\n  <thead>\n    <tr style=\"text-align: right;\">\n      <th></th>\n      <th>index</th>\n      <th>title</th>\n      <th>subtitle</th>\n      <th>description</th>\n      <th>image</th>\n      <th>keywords</th>\n      <th>syno_s</th>\n      <th>syno_m</th>\n      <th>syno_l</th>\n      <th>category</th>\n      <th>channel</th>\n      <th>language</th>\n      <th>release_date</th>\n      <th>duration_sec</th>\n      <th>topic</th>\n      <th>image_l</th>\n      <th>image_xl</th>\n    </tr>\n  </thead>\n  <tbody>\n    <tr>\n      <th>1956</th>\n      <td>1956</td>\n      <td>A Life in Ten Pictures</td>\n      <td>Series 1: 6. Amy Winehouse</td>\n      <td>Ten pictures, from iconic shots to private sna...</td>\n      <td>https://ichef.bbci.co.uk/images/ic/{recipe}/p0...</td>\n      <td>BBC, iPlayer, TV, A Life in Ten Pictures, Seri...</td>\n      <td>Ten pictures, from iconic shots to private sna...</td>\n      <td>Amy Winehouse’s image is known around the worl...</td>\n      <td>Amy Winehouse’s image is known around the worl...</td>\n      <td>History</td>\n      <td>bbc_two</td>\n      <td>Contains strong language.</td>\n      <td>9pm 11 Sep 2021</td>\n      <td>3550</td>\n      <td>signed, history, documentaries</td>\n      <td>https://ichef.bbci.co.uk/images/ic/352x198/p09...</td>\n      <td>https://ichef.bbci.co.uk/images/ic/1200x675/p0...</td>\n    </tr>\n  </tbody>\n</table>\n</div>"
     },
     "execution_count": 82,
     "metadata": {},
     "output_type": "execute_result"
    }
   ],
   "source": [
    "df[df['title'] == 'A Life in Ten Pictures']"
   ],
   "metadata": {
    "collapsed": false,
    "pycharm": {
     "name": "#%%\n"
    }
   }
  },
  {
   "cell_type": "code",
   "execution_count": 226,
   "outputs": [],
   "source": [
    "# df.to_csv('temp_bbc.csv', sep=';')"
   ],
   "metadata": {
    "collapsed": false,
    "pycharm": {
     "name": "#%%\n"
    }
   }
  },
  {
   "cell_type": "markdown",
   "source": [
    "## Genre and Keyword extraction"
   ],
   "metadata": {
    "collapsed": false
   }
  },
  {
   "cell_type": "code",
   "execution_count": 85,
   "outputs": [
    {
     "data": {
      "text/plain": "{'Arts',\n 'Beauty',\n 'CBBC',\n 'CBeebies',\n 'Comedy',\n 'Comedy Drama',\n 'Crime Drama',\n 'Current Affairs',\n 'Dating',\n 'Documentary',\n 'Documentary Film',\n 'Drama',\n 'Entertainment',\n 'Fantasy',\n 'Film',\n 'Film - Action',\n 'Film - Adventure',\n 'Film - Biopic',\n 'Film - Comedy',\n 'Film - Crime',\n 'Film - Drama',\n 'Film - Family',\n 'Film - Horror',\n 'Film - Musical',\n 'Film - Period',\n 'Film - Rom-Com',\n 'Film - Romance',\n 'Film - Sci-Fi',\n 'Film - Thriller',\n 'Film - War',\n 'Film - Western',\n 'Food',\n 'From the Archives',\n 'History',\n 'Lifestyle',\n 'Music',\n 'Nature',\n 'News',\n 'Period Drama',\n 'Reality',\n 'Rom-com',\n 'Sci-Fi',\n 'Science',\n 'Science & Nature',\n 'Signed',\n 'Sport'}"
     },
     "execution_count": 85,
     "metadata": {},
     "output_type": "execute_result"
    }
   ],
   "source": [
    "categories = set(df['category'].tolist())\n",
    "categories"
   ],
   "metadata": {
    "collapsed": false,
    "pycharm": {
     "name": "#%%\n"
    }
   }
  },
  {
   "cell_type": "code",
   "execution_count": 84,
   "outputs": [],
   "source": [
    "df.loc[df['category'] == 'signed', 'category'] = 'Signed'\n",
    "df.loc[df['category'] == 'science-and-nature', 'category'] = 'Science & Nature'\n",
    "df.loc[df['category'] == 'news', 'category'] = 'News'\n",
    "df.loc[df['category'] == 'lifestyle', 'category'] = 'Lifestyle'\n",
    "df.loc[df['category'] == 'from-the-archives', 'category'] = 'From the Archives'\n",
    "df.loc[df['category'] == 'food', 'category'] = 'Food'\n",
    "df.loc[df['category'] == 'entertainment', 'category'] = 'Entertainment'\n",
    "df.loc[df['category'] == 'documentaries', 'category'] = 'Documentary'\n",
    "df.loc[df['category'] == 'cbbc', 'category'] = 'CBBC'\n",
    "df.loc[df['category'] == 'arts', 'category'] = 'Arts'\n",
    "df.loc[df['category'] == 'Sci-fi', 'category'] = 'Sci-Fi'"
   ],
   "metadata": {
    "collapsed": false,
    "pycharm": {
     "name": "#%%\n"
    }
   }
  },
  {
   "cell_type": "code",
   "execution_count": 86,
   "outputs": [
    {
     "data": {
      "text/plain": "     index                                       title subtitle  \\\n515    515                                     Ivanhoe     None   \n538    538                     Lara Croft: Tomb Raider     None   \n546    546                                      El Cid     None   \n568    568                            The Spanish Main     None   \n576    576  Lara Croft Tomb Raider: The Cradle of Life     None   \n590    590                       Blackbeard the Pirate     None   \n\n                                           description  \\\n515  Ivanhoe fights for the honour of the kidnapped...   \n538  The heroine races against time to find a relic...   \n546  The epic story of the 11th-century Spanish her...   \n568  Swashbuckling adventure in which a crew of ens...   \n576  Archaeologist Lara Croft faces a race against ...   \n590  Swashbuckling adventure set on the high seas i...   \n\n                                                 image  \\\n515  https://ichef.bbci.co.uk/images/ic/{recipe}/p0...   \n538  https://ichef.bbci.co.uk/images/ic/{recipe}/p0...   \n546  https://ichef.bbci.co.uk/images/ic/{recipe}/p0...   \n568  https://ichef.bbci.co.uk/images/ic/{recipe}/p0...   \n576  https://ichef.bbci.co.uk/images/ic/{recipe}/p0...   \n590  https://ichef.bbci.co.uk/images/ic/{recipe}/p0...   \n\n                                              keywords  \\\n515                          BBC, iPlayer, TV, Ivanhoe   \n538          BBC, iPlayer, TV, Lara Croft: Tomb Raider   \n546                           BBC, iPlayer, TV, El Cid   \n568                 BBC, iPlayer, TV, The Spanish Main   \n576  BBC, iPlayer, TV, Lara Croft Tomb Raider: The ...   \n590            BBC, iPlayer, TV, Blackbeard the Pirate   \n\n                                                syno_s  \\\n515  Ivanhoe fights for the honour of the kidnapped...   \n538  The heroine races against time to find a relic...   \n546  The epic story of the 11th-century Spanish her...   \n568  Swashbuckling adventure in which a crew of ens...   \n576  Archaeologist Lara Croft faces a race against ...   \n590  Swashbuckling adventure set on the high seas i...   \n\n                                                syno_m  \\\n515  Swashbuckling spectacular based on the novel b...   \n538  Action tale adapted from the popular video gam...   \n546  Epic story of the Spanish hero (Charlton Hesto...   \n568  Swashbuckling adventure in which a Spanish gov...   \n576  Globetrotting action sequel in which archaeolo...   \n590  Swashbuckler set on the high seas in the 17th ...   \n\n                                                syno_l          category  \\\n515  Swashbuckling spectacular based on the novel b...  Film - Adventure   \n538  Action tale adapted from the popular video gam...  Film - Adventure   \n546  The epic story of the 11th-century Spanish her...  Film - Adventure   \n568  Early RKO Technicolor swashbuckling adventure....  Film - Adventure   \n576  Globetrotting action sequel in which intrepid ...  Film - Adventure   \n590  Swashbuckling adventure set on the high seas i...  Film - Adventure   \n\n       channel language release_date  duration_sec                   topic  \\\n515    bbc_two    False         1952          6136  films, drama-and-soaps   \n538  bbc_three    False         2001          5614  films, drama-and-soaps   \n546    bbc_two    False         1961         10297  films, drama-and-soaps   \n568    bbc_two    False         1945          5741  films, drama-and-soaps   \n576  bbc_three    False         2003          6320  films, drama-and-soaps   \n590    bbc_two    False         1952          5913  films, drama-and-soaps   \n\n                                               image_l  \\\n515  https://ichef.bbci.co.uk/images/ic/352x198/p0b...   \n538  https://ichef.bbci.co.uk/images/ic/352x198/p07...   \n546  https://ichef.bbci.co.uk/images/ic/352x198/p0b...   \n568  https://ichef.bbci.co.uk/images/ic/352x198/p08...   \n576  https://ichef.bbci.co.uk/images/ic/352x198/p08...   \n590  https://ichef.bbci.co.uk/images/ic/352x198/p08...   \n\n                                              image_xl  \n515  https://ichef.bbci.co.uk/images/ic/1200x675/p0...  \n538  https://ichef.bbci.co.uk/images/ic/1200x675/p0...  \n546  https://ichef.bbci.co.uk/images/ic/1200x675/p0...  \n568  https://ichef.bbci.co.uk/images/ic/1200x675/p0...  \n576  https://ichef.bbci.co.uk/images/ic/1200x675/p0...  \n590  https://ichef.bbci.co.uk/images/ic/1200x675/p0...  ",
      "text/html": "<div>\n<style scoped>\n    .dataframe tbody tr th:only-of-type {\n        vertical-align: middle;\n    }\n\n    .dataframe tbody tr th {\n        vertical-align: top;\n    }\n\n    .dataframe thead th {\n        text-align: right;\n    }\n</style>\n<table border=\"1\" class=\"dataframe\">\n  <thead>\n    <tr style=\"text-align: right;\">\n      <th></th>\n      <th>index</th>\n      <th>title</th>\n      <th>subtitle</th>\n      <th>description</th>\n      <th>image</th>\n      <th>keywords</th>\n      <th>syno_s</th>\n      <th>syno_m</th>\n      <th>syno_l</th>\n      <th>category</th>\n      <th>channel</th>\n      <th>language</th>\n      <th>release_date</th>\n      <th>duration_sec</th>\n      <th>topic</th>\n      <th>image_l</th>\n      <th>image_xl</th>\n    </tr>\n  </thead>\n  <tbody>\n    <tr>\n      <th>515</th>\n      <td>515</td>\n      <td>Ivanhoe</td>\n      <td>None</td>\n      <td>Ivanhoe fights for the honour of the kidnapped...</td>\n      <td>https://ichef.bbci.co.uk/images/ic/{recipe}/p0...</td>\n      <td>BBC, iPlayer, TV, Ivanhoe</td>\n      <td>Ivanhoe fights for the honour of the kidnapped...</td>\n      <td>Swashbuckling spectacular based on the novel b...</td>\n      <td>Swashbuckling spectacular based on the novel b...</td>\n      <td>Film - Adventure</td>\n      <td>bbc_two</td>\n      <td>False</td>\n      <td>1952</td>\n      <td>6136</td>\n      <td>films, drama-and-soaps</td>\n      <td>https://ichef.bbci.co.uk/images/ic/352x198/p0b...</td>\n      <td>https://ichef.bbci.co.uk/images/ic/1200x675/p0...</td>\n    </tr>\n    <tr>\n      <th>538</th>\n      <td>538</td>\n      <td>Lara Croft: Tomb Raider</td>\n      <td>None</td>\n      <td>The heroine races against time to find a relic...</td>\n      <td>https://ichef.bbci.co.uk/images/ic/{recipe}/p0...</td>\n      <td>BBC, iPlayer, TV, Lara Croft: Tomb Raider</td>\n      <td>The heroine races against time to find a relic...</td>\n      <td>Action tale adapted from the popular video gam...</td>\n      <td>Action tale adapted from the popular video gam...</td>\n      <td>Film - Adventure</td>\n      <td>bbc_three</td>\n      <td>False</td>\n      <td>2001</td>\n      <td>5614</td>\n      <td>films, drama-and-soaps</td>\n      <td>https://ichef.bbci.co.uk/images/ic/352x198/p07...</td>\n      <td>https://ichef.bbci.co.uk/images/ic/1200x675/p0...</td>\n    </tr>\n    <tr>\n      <th>546</th>\n      <td>546</td>\n      <td>El Cid</td>\n      <td>None</td>\n      <td>The epic story of the 11th-century Spanish her...</td>\n      <td>https://ichef.bbci.co.uk/images/ic/{recipe}/p0...</td>\n      <td>BBC, iPlayer, TV, El Cid</td>\n      <td>The epic story of the 11th-century Spanish her...</td>\n      <td>Epic story of the Spanish hero (Charlton Hesto...</td>\n      <td>The epic story of the 11th-century Spanish her...</td>\n      <td>Film - Adventure</td>\n      <td>bbc_two</td>\n      <td>False</td>\n      <td>1961</td>\n      <td>10297</td>\n      <td>films, drama-and-soaps</td>\n      <td>https://ichef.bbci.co.uk/images/ic/352x198/p0b...</td>\n      <td>https://ichef.bbci.co.uk/images/ic/1200x675/p0...</td>\n    </tr>\n    <tr>\n      <th>568</th>\n      <td>568</td>\n      <td>The Spanish Main</td>\n      <td>None</td>\n      <td>Swashbuckling adventure in which a crew of ens...</td>\n      <td>https://ichef.bbci.co.uk/images/ic/{recipe}/p0...</td>\n      <td>BBC, iPlayer, TV, The Spanish Main</td>\n      <td>Swashbuckling adventure in which a crew of ens...</td>\n      <td>Swashbuckling adventure in which a Spanish gov...</td>\n      <td>Early RKO Technicolor swashbuckling adventure....</td>\n      <td>Film - Adventure</td>\n      <td>bbc_two</td>\n      <td>False</td>\n      <td>1945</td>\n      <td>5741</td>\n      <td>films, drama-and-soaps</td>\n      <td>https://ichef.bbci.co.uk/images/ic/352x198/p08...</td>\n      <td>https://ichef.bbci.co.uk/images/ic/1200x675/p0...</td>\n    </tr>\n    <tr>\n      <th>576</th>\n      <td>576</td>\n      <td>Lara Croft Tomb Raider: The Cradle of Life</td>\n      <td>None</td>\n      <td>Archaeologist Lara Croft faces a race against ...</td>\n      <td>https://ichef.bbci.co.uk/images/ic/{recipe}/p0...</td>\n      <td>BBC, iPlayer, TV, Lara Croft Tomb Raider: The ...</td>\n      <td>Archaeologist Lara Croft faces a race against ...</td>\n      <td>Globetrotting action sequel in which archaeolo...</td>\n      <td>Globetrotting action sequel in which intrepid ...</td>\n      <td>Film - Adventure</td>\n      <td>bbc_three</td>\n      <td>False</td>\n      <td>2003</td>\n      <td>6320</td>\n      <td>films, drama-and-soaps</td>\n      <td>https://ichef.bbci.co.uk/images/ic/352x198/p08...</td>\n      <td>https://ichef.bbci.co.uk/images/ic/1200x675/p0...</td>\n    </tr>\n    <tr>\n      <th>590</th>\n      <td>590</td>\n      <td>Blackbeard the Pirate</td>\n      <td>None</td>\n      <td>Swashbuckling adventure set on the high seas i...</td>\n      <td>https://ichef.bbci.co.uk/images/ic/{recipe}/p0...</td>\n      <td>BBC, iPlayer, TV, Blackbeard the Pirate</td>\n      <td>Swashbuckling adventure set on the high seas i...</td>\n      <td>Swashbuckler set on the high seas in the 17th ...</td>\n      <td>Swashbuckling adventure set on the high seas i...</td>\n      <td>Film - Adventure</td>\n      <td>bbc_two</td>\n      <td>False</td>\n      <td>1952</td>\n      <td>5913</td>\n      <td>films, drama-and-soaps</td>\n      <td>https://ichef.bbci.co.uk/images/ic/352x198/p08...</td>\n      <td>https://ichef.bbci.co.uk/images/ic/1200x675/p0...</td>\n    </tr>\n  </tbody>\n</table>\n</div>"
     },
     "execution_count": 86,
     "metadata": {},
     "output_type": "execute_result"
    }
   ],
   "source": [
    "df[df['category'] == 'Film - Adventure']"
   ],
   "metadata": {
    "collapsed": false,
    "pycharm": {
     "name": "#%%\n"
    }
   }
  },
  {
   "cell_type": "code",
   "execution_count": 233,
   "outputs": [],
   "source": [
    "# df.to_csv('temp_bbc.csv', sep=';')"
   ],
   "metadata": {
    "collapsed": false,
    "pycharm": {
     "name": "#%%\n"
    }
   }
  },
  {
   "cell_type": "markdown",
   "source": [
    "## Advanced Dataframe view"
   ],
   "metadata": {
    "collapsed": false
   }
  },
  {
   "cell_type": "markdown",
   "source": [],
   "metadata": {
    "collapsed": false
   }
  },
  {
   "cell_type": "code",
   "execution_count": 87,
   "outputs": [
    {
     "data": {
      "text/plain": "      index                               title  \\\n0         0                           BBC Proms   \n1         1                                Port   \n2         2  Sit Down, Stand Up with Greg James   \n3         3         Ceiliúradh na Féile Pádraig   \n4         4                     Songs of Praise   \n...     ...                                 ...   \n3776   3777           Models: Street to Catwalk   \n3788   3789                   Death On The I-95   \n3792   3793        Do Black Lives Still Matter?   \n3796   3797                        Ar An Sliabh   \n3799   3800                Avicii: True Stories   \n\n                                   subtitle  \\\n0     2021: Last Night of the Proms, Part 2   \n1                       Series 5: Episode 4   \n2                                      None   \n3                                      None   \n4                                 Edinburgh   \n...                                     ...   \n3776                    Series 2: Episode 4   \n3788                                   None   \n3792                     Series 1: 3. Music   \n3796                    Series 1: Episode 6   \n3799                                   None   \n\n                                            description  \\\n0     Australian tenor Stuart Skelton is joined by L...   \n1     Previously unseen music from the series Port, ...   \n2     Tom Holland and Greg James cold call celebrity...   \n3     John Toal and Pauline Scanlon introduce an eve...   \n4     Claire McCollum explores Edinburgh and shares ...   \n...                                                 ...   \n3776  Kyra’s late arrival puts her modelling career ...   \n3788  Returning to the US to find out what happened ...   \n3792  Grime artist Saskilla asks, can the music indu...   \n3796  Paul packs up to return to his native Armagh a...   \n3799  Avicii: True Stories is Tim Bergling’s own sto...   \n\n                                                  image  \\\n0     https://ichef.bbci.co.uk/images/ic/{recipe}/p0...   \n1     https://ichef.bbci.co.uk/images/ic/{recipe}/p0...   \n2     https://ichef.bbci.co.uk/images/ic/{recipe}/p0...   \n3     https://ichef.bbci.co.uk/images/ic/{recipe}/p0...   \n4     https://ichef.bbci.co.uk/images/ic/{recipe}/p0...   \n...                                                 ...   \n3776  https://ichef.bbci.co.uk/images/ic/{recipe}/p0...   \n3788  https://ichef.bbci.co.uk/images/ic/{recipe}/p0...   \n3792  https://ichef.bbci.co.uk/images/ic/{recipe}/p0...   \n3796  https://ichef.bbci.co.uk/images/ic/{recipe}/p0...   \n3799  https://ichef.bbci.co.uk/images/ic/{recipe}/p0...   \n\n                                               keywords  \\\n0     BBC, iPlayer, TV, BBC Proms, 2021: Last Night ...   \n1           BBC, iPlayer, TV, Port, Series 5: Episode 4   \n2     BBC, iPlayer, TV, Sit Down, Stand Up with Greg...   \n3         BBC, iPlayer, TV, Ceiliúradh na Féile Pádraig   \n4          BBC, iPlayer, TV, Songs of Praise, Edinburgh   \n...                                                 ...   \n3776  BBC, iPlayer, TV, Models: Street to Catwalk, S...   \n3788                BBC, iPlayer, TV, Death On The I-95   \n3792  BBC, iPlayer, TV, Do Black Lives Still Matter?...   \n3796  BBC, iPlayer, TV, Ar An Sliabh, Series 1: Epis...   \n3799             BBC, iPlayer, TV, Avicii: True Stories   \n\n                                                 syno_s  \\\n0     Australian tenor Stuart Skelton is joined by L...   \n1     Previously unseen music from the series Port, ...   \n2     Tom Holland and Greg James cold call celebrity...   \n3     John Toal and Pauline Scanlon introduce an eve...   \n4     Claire McCollum explores Edinburgh and shares ...   \n...                                                 ...   \n3776  Kyra’s late arrival puts her modelling career ...   \n3788  Returning to the US to find out what happened ...   \n3792  Grime artist Saskilla asks, can the music indu...   \n3796  Paul packs up to return to his native Armagh a...   \n3799  Avicii: True Stories is Tim Bergling’s own sto...   \n\n                                                 syno_m  \\\n0     Australian tenor Stuart Skelton is joined by L...   \n1     Julie Fowlis a’ lìbhrigeadh ceòl bhon t-sreath...   \n2     Tom Holland and Greg James cold call celebrity...   \n3     John Toal and Pauline Scanlon introduce an eve...   \n4     Claire McCollum goes on a Christian heritage t...   \n...                                                 ...   \n3776  Kyra jeopardises her modelling career by turni...   \n3788  Following a report on the growing problem of o...   \n3792  The music industry pledged millions in support...   \n3796  Paul packs up to return to his native Armagh a...   \n3799  Avicii: True Stories is Tim Bergling’s own sto...   \n\n                                                 syno_l       category  \\\n0     Katie Derham hosts continued live coverage fro...          Music   \n1     Bidh Druthag Bheag Eile a’ tarraing ri chèile ...          Music   \n2     Tom Holland and Greg James cold call celebrity...  Entertainment   \n3     John Toal and Pauline Scanlon introduce an eve...          Music   \n4     Claire McCollum explores Edinburgh and discove...          Music   \n...                                                 ...            ...   \n3776  How will Kyra cope after a train malfunction m...    Documentary   \n3788  Drug overdose is now the main cause of death f...    Documentary   \n3792  The music industry reacted with a surge of out...    Documentary   \n3796  I Sliabh Eachtaí, tá Cérill ag déanamh réidh d...    Documentary   \n3799  In 2006, Tim Bergling was just a regular teena...    Documentary   \n\n                               channel  \\\n0                      bbc_radio_three   \n1                             bbc_alba   \n2                        bbc_radio_one   \n3     bbc_two_northern_ireland_digital   \n4                              bbc_one   \n...                                ...   \n3776                         bbc_three   \n3788                         bbc_three   \n3792                         bbc_three   \n3796                       bbc_webonly   \n3799                         bbc_three   \n\n                                               language        release_date  \\\n0                                                 False     9pm 11 Sep 2021   \n1                                                 False          9 Jul 2020   \n2                                                 False         10 Feb 2022   \n3                                                 False         17 Mar 2017   \n4                                                 False  1:15pm 20 Feb 2022   \n...                                                 ...                 ...   \n3776  Contains some strong language and some upsetti...          8 Aug 2021   \n3788  Contains some strong language and upsetting sc...         24 Oct 2018   \n3792                                              False         31 May 2021   \n3796                                              False         22 Nov 2021   \n3799                          Contains strong language.         20 Apr 2019   \n\n      duration_sec                 topic  \\\n0             5247                 music   \n1             1037                 music   \n2              611  music, entertainment   \n3             3538                 music   \n4             2044      music, lifestyle   \n...            ...                   ...   \n3776          1843         documentaries   \n3788          3426         documentaries   \n3792          1524         documentaries   \n3796          1740         documentaries   \n3799          5766         documentaries   \n\n                                                image_l  \\\n0     https://ichef.bbci.co.uk/images/ic/352x198/p09...   \n1     https://ichef.bbci.co.uk/images/ic/352x198/p08...   \n2     https://ichef.bbci.co.uk/images/ic/352x198/p0b...   \n3     https://ichef.bbci.co.uk/images/ic/352x198/p04...   \n4     https://ichef.bbci.co.uk/images/ic/352x198/p0b...   \n...                                                 ...   \n3776  https://ichef.bbci.co.uk/images/ic/352x198/p09...   \n3788  https://ichef.bbci.co.uk/images/ic/352x198/p07...   \n3792  https://ichef.bbci.co.uk/images/ic/352x198/p09...   \n3796  https://ichef.bbci.co.uk/images/ic/352x198/p0b...   \n3799  https://ichef.bbci.co.uk/images/ic/352x198/p07...   \n\n                                               image_xl  \n0     https://ichef.bbci.co.uk/images/ic/1200x675/p0...  \n1     https://ichef.bbci.co.uk/images/ic/1200x675/p0...  \n2     https://ichef.bbci.co.uk/images/ic/1200x675/p0...  \n3     https://ichef.bbci.co.uk/images/ic/1200x675/p0...  \n4     https://ichef.bbci.co.uk/images/ic/1200x675/p0...  \n...                                                 ...  \n3776  https://ichef.bbci.co.uk/images/ic/1200x675/p0...  \n3788  https://ichef.bbci.co.uk/images/ic/1200x675/p0...  \n3792  https://ichef.bbci.co.uk/images/ic/1200x675/p0...  \n3796  https://ichef.bbci.co.uk/images/ic/1200x675/p0...  \n3799  https://ichef.bbci.co.uk/images/ic/1200x675/p0...  \n\n[2473 rows x 17 columns]",
      "text/html": "<div>\n<style scoped>\n    .dataframe tbody tr th:only-of-type {\n        vertical-align: middle;\n    }\n\n    .dataframe tbody tr th {\n        vertical-align: top;\n    }\n\n    .dataframe thead th {\n        text-align: right;\n    }\n</style>\n<table border=\"1\" class=\"dataframe\">\n  <thead>\n    <tr style=\"text-align: right;\">\n      <th></th>\n      <th>index</th>\n      <th>title</th>\n      <th>subtitle</th>\n      <th>description</th>\n      <th>image</th>\n      <th>keywords</th>\n      <th>syno_s</th>\n      <th>syno_m</th>\n      <th>syno_l</th>\n      <th>category</th>\n      <th>channel</th>\n      <th>language</th>\n      <th>release_date</th>\n      <th>duration_sec</th>\n      <th>topic</th>\n      <th>image_l</th>\n      <th>image_xl</th>\n    </tr>\n  </thead>\n  <tbody>\n    <tr>\n      <th>0</th>\n      <td>0</td>\n      <td>BBC Proms</td>\n      <td>2021: Last Night of the Proms, Part 2</td>\n      <td>Australian tenor Stuart Skelton is joined by L...</td>\n      <td>https://ichef.bbci.co.uk/images/ic/{recipe}/p0...</td>\n      <td>BBC, iPlayer, TV, BBC Proms, 2021: Last Night ...</td>\n      <td>Australian tenor Stuart Skelton is joined by L...</td>\n      <td>Australian tenor Stuart Skelton is joined by L...</td>\n      <td>Katie Derham hosts continued live coverage fro...</td>\n      <td>Music</td>\n      <td>bbc_radio_three</td>\n      <td>False</td>\n      <td>9pm 11 Sep 2021</td>\n      <td>5247</td>\n      <td>music</td>\n      <td>https://ichef.bbci.co.uk/images/ic/352x198/p09...</td>\n      <td>https://ichef.bbci.co.uk/images/ic/1200x675/p0...</td>\n    </tr>\n    <tr>\n      <th>1</th>\n      <td>1</td>\n      <td>Port</td>\n      <td>Series 5: Episode 4</td>\n      <td>Previously unseen music from the series Port, ...</td>\n      <td>https://ichef.bbci.co.uk/images/ic/{recipe}/p0...</td>\n      <td>BBC, iPlayer, TV, Port, Series 5: Episode 4</td>\n      <td>Previously unseen music from the series Port, ...</td>\n      <td>Julie Fowlis a’ lìbhrigeadh ceòl bhon t-sreath...</td>\n      <td>Bidh Druthag Bheag Eile a’ tarraing ri chèile ...</td>\n      <td>Music</td>\n      <td>bbc_alba</td>\n      <td>False</td>\n      <td>9 Jul 2020</td>\n      <td>1037</td>\n      <td>music</td>\n      <td>https://ichef.bbci.co.uk/images/ic/352x198/p08...</td>\n      <td>https://ichef.bbci.co.uk/images/ic/1200x675/p0...</td>\n    </tr>\n    <tr>\n      <th>2</th>\n      <td>2</td>\n      <td>Sit Down, Stand Up with Greg James</td>\n      <td>None</td>\n      <td>Tom Holland and Greg James cold call celebrity...</td>\n      <td>https://ichef.bbci.co.uk/images/ic/{recipe}/p0...</td>\n      <td>BBC, iPlayer, TV, Sit Down, Stand Up with Greg...</td>\n      <td>Tom Holland and Greg James cold call celebrity...</td>\n      <td>Tom Holland and Greg James cold call celebrity...</td>\n      <td>Tom Holland and Greg James cold call celebrity...</td>\n      <td>Entertainment</td>\n      <td>bbc_radio_one</td>\n      <td>False</td>\n      <td>10 Feb 2022</td>\n      <td>611</td>\n      <td>music, entertainment</td>\n      <td>https://ichef.bbci.co.uk/images/ic/352x198/p0b...</td>\n      <td>https://ichef.bbci.co.uk/images/ic/1200x675/p0...</td>\n    </tr>\n    <tr>\n      <th>3</th>\n      <td>3</td>\n      <td>Ceiliúradh na Féile Pádraig</td>\n      <td>None</td>\n      <td>John Toal and Pauline Scanlon introduce an eve...</td>\n      <td>https://ichef.bbci.co.uk/images/ic/{recipe}/p0...</td>\n      <td>BBC, iPlayer, TV, Ceiliúradh na Féile Pádraig</td>\n      <td>John Toal and Pauline Scanlon introduce an eve...</td>\n      <td>John Toal and Pauline Scanlon introduce an eve...</td>\n      <td>John Toal and Pauline Scanlon introduce an eve...</td>\n      <td>Music</td>\n      <td>bbc_two_northern_ireland_digital</td>\n      <td>False</td>\n      <td>17 Mar 2017</td>\n      <td>3538</td>\n      <td>music</td>\n      <td>https://ichef.bbci.co.uk/images/ic/352x198/p04...</td>\n      <td>https://ichef.bbci.co.uk/images/ic/1200x675/p0...</td>\n    </tr>\n    <tr>\n      <th>4</th>\n      <td>4</td>\n      <td>Songs of Praise</td>\n      <td>Edinburgh</td>\n      <td>Claire McCollum explores Edinburgh and shares ...</td>\n      <td>https://ichef.bbci.co.uk/images/ic/{recipe}/p0...</td>\n      <td>BBC, iPlayer, TV, Songs of Praise, Edinburgh</td>\n      <td>Claire McCollum explores Edinburgh and shares ...</td>\n      <td>Claire McCollum goes on a Christian heritage t...</td>\n      <td>Claire McCollum explores Edinburgh and discove...</td>\n      <td>Music</td>\n      <td>bbc_one</td>\n      <td>False</td>\n      <td>1:15pm 20 Feb 2022</td>\n      <td>2044</td>\n      <td>music, lifestyle</td>\n      <td>https://ichef.bbci.co.uk/images/ic/352x198/p0b...</td>\n      <td>https://ichef.bbci.co.uk/images/ic/1200x675/p0...</td>\n    </tr>\n    <tr>\n      <th>...</th>\n      <td>...</td>\n      <td>...</td>\n      <td>...</td>\n      <td>...</td>\n      <td>...</td>\n      <td>...</td>\n      <td>...</td>\n      <td>...</td>\n      <td>...</td>\n      <td>...</td>\n      <td>...</td>\n      <td>...</td>\n      <td>...</td>\n      <td>...</td>\n      <td>...</td>\n      <td>...</td>\n      <td>...</td>\n    </tr>\n    <tr>\n      <th>3776</th>\n      <td>3777</td>\n      <td>Models: Street to Catwalk</td>\n      <td>Series 2: Episode 4</td>\n      <td>Kyra’s late arrival puts her modelling career ...</td>\n      <td>https://ichef.bbci.co.uk/images/ic/{recipe}/p0...</td>\n      <td>BBC, iPlayer, TV, Models: Street to Catwalk, S...</td>\n      <td>Kyra’s late arrival puts her modelling career ...</td>\n      <td>Kyra jeopardises her modelling career by turni...</td>\n      <td>How will Kyra cope after a train malfunction m...</td>\n      <td>Documentary</td>\n      <td>bbc_three</td>\n      <td>Contains some strong language and some upsetti...</td>\n      <td>8 Aug 2021</td>\n      <td>1843</td>\n      <td>documentaries</td>\n      <td>https://ichef.bbci.co.uk/images/ic/352x198/p09...</td>\n      <td>https://ichef.bbci.co.uk/images/ic/1200x675/p0...</td>\n    </tr>\n    <tr>\n      <th>3788</th>\n      <td>3789</td>\n      <td>Death On The I-95</td>\n      <td>None</td>\n      <td>Returning to the US to find out what happened ...</td>\n      <td>https://ichef.bbci.co.uk/images/ic/{recipe}/p0...</td>\n      <td>BBC, iPlayer, TV, Death On The I-95</td>\n      <td>Returning to the US to find out what happened ...</td>\n      <td>Following a report on the growing problem of o...</td>\n      <td>Drug overdose is now the main cause of death f...</td>\n      <td>Documentary</td>\n      <td>bbc_three</td>\n      <td>Contains some strong language and upsetting sc...</td>\n      <td>24 Oct 2018</td>\n      <td>3426</td>\n      <td>documentaries</td>\n      <td>https://ichef.bbci.co.uk/images/ic/352x198/p07...</td>\n      <td>https://ichef.bbci.co.uk/images/ic/1200x675/p0...</td>\n    </tr>\n    <tr>\n      <th>3792</th>\n      <td>3793</td>\n      <td>Do Black Lives Still Matter?</td>\n      <td>Series 1: 3. Music</td>\n      <td>Grime artist Saskilla asks, can the music indu...</td>\n      <td>https://ichef.bbci.co.uk/images/ic/{recipe}/p0...</td>\n      <td>BBC, iPlayer, TV, Do Black Lives Still Matter?...</td>\n      <td>Grime artist Saskilla asks, can the music indu...</td>\n      <td>The music industry pledged millions in support...</td>\n      <td>The music industry reacted with a surge of out...</td>\n      <td>Documentary</td>\n      <td>bbc_three</td>\n      <td>False</td>\n      <td>31 May 2021</td>\n      <td>1524</td>\n      <td>documentaries</td>\n      <td>https://ichef.bbci.co.uk/images/ic/352x198/p09...</td>\n      <td>https://ichef.bbci.co.uk/images/ic/1200x675/p0...</td>\n    </tr>\n    <tr>\n      <th>3796</th>\n      <td>3797</td>\n      <td>Ar An Sliabh</td>\n      <td>Series 1: Episode 6</td>\n      <td>Paul packs up to return to his native Armagh a...</td>\n      <td>https://ichef.bbci.co.uk/images/ic/{recipe}/p0...</td>\n      <td>BBC, iPlayer, TV, Ar An Sliabh, Series 1: Epis...</td>\n      <td>Paul packs up to return to his native Armagh a...</td>\n      <td>Paul packs up to return to his native Armagh a...</td>\n      <td>I Sliabh Eachtaí, tá Cérill ag déanamh réidh d...</td>\n      <td>Documentary</td>\n      <td>bbc_webonly</td>\n      <td>False</td>\n      <td>22 Nov 2021</td>\n      <td>1740</td>\n      <td>documentaries</td>\n      <td>https://ichef.bbci.co.uk/images/ic/352x198/p0b...</td>\n      <td>https://ichef.bbci.co.uk/images/ic/1200x675/p0...</td>\n    </tr>\n    <tr>\n      <th>3799</th>\n      <td>3800</td>\n      <td>Avicii: True Stories</td>\n      <td>None</td>\n      <td>Avicii: True Stories is Tim Bergling’s own sto...</td>\n      <td>https://ichef.bbci.co.uk/images/ic/{recipe}/p0...</td>\n      <td>BBC, iPlayer, TV, Avicii: True Stories</td>\n      <td>Avicii: True Stories is Tim Bergling’s own sto...</td>\n      <td>Avicii: True Stories is Tim Bergling’s own sto...</td>\n      <td>In 2006, Tim Bergling was just a regular teena...</td>\n      <td>Documentary</td>\n      <td>bbc_three</td>\n      <td>Contains strong language.</td>\n      <td>20 Apr 2019</td>\n      <td>5766</td>\n      <td>documentaries</td>\n      <td>https://ichef.bbci.co.uk/images/ic/352x198/p07...</td>\n      <td>https://ichef.bbci.co.uk/images/ic/1200x675/p0...</td>\n    </tr>\n  </tbody>\n</table>\n<p>2473 rows × 17 columns</p>\n</div>"
     },
     "execution_count": 87,
     "metadata": {},
     "output_type": "execute_result"
    }
   ],
   "source": [
    "df"
   ],
   "metadata": {
    "collapsed": false,
    "pycharm": {
     "name": "#%%\n"
    }
   }
  },
  {
   "cell_type": "code",
   "execution_count": 88,
   "outputs": [],
   "source": [
    "def reformat_date(val, date_month_year=True):\n",
    "    val = str(val)\n",
    "    if date_month_year:\n",
    "        if len(val) == 10:\n",
    "            date_str = val[:10]\n",
    "        else:\n",
    "            date_str = val[len(val)-11: len(val)]\n",
    "    else:\n",
    "        length = len(val)\n",
    "        return val[length-4:length]\n",
    "    date_time_obj = datetime.strptime(date_str, '%d %b %Y')\n",
    "    return date_time_obj"
   ],
   "metadata": {
    "collapsed": false,
    "pycharm": {
     "name": "#%%\n"
    }
   }
  },
  {
   "cell_type": "code",
   "execution_count": 89,
   "outputs": [],
   "source": [
    "df.loc[:, 'release_date'] = df['release_date'].apply(lambda x: reformat_date(x, False))"
   ],
   "metadata": {
    "collapsed": false,
    "pycharm": {
     "name": "#%%\n"
    }
   }
  },
  {
   "cell_type": "code",
   "execution_count": 90,
   "outputs": [
    {
     "data": {
      "text/plain": "      index                               title  \\\n0         0                           BBC Proms   \n1         1                                Port   \n2         2  Sit Down, Stand Up with Greg James   \n3         3         Ceiliúradh na Féile Pádraig   \n4         4                     Songs of Praise   \n...     ...                                 ...   \n3776   3777           Models: Street to Catwalk   \n3788   3789                   Death On The I-95   \n3792   3793        Do Black Lives Still Matter?   \n3796   3797                        Ar An Sliabh   \n3799   3800                Avicii: True Stories   \n\n                                   subtitle  \\\n0     2021: Last Night of the Proms, Part 2   \n1                       Series 5: Episode 4   \n2                                      None   \n3                                      None   \n4                                 Edinburgh   \n...                                     ...   \n3776                    Series 2: Episode 4   \n3788                                   None   \n3792                     Series 1: 3. Music   \n3796                    Series 1: Episode 6   \n3799                                   None   \n\n                                            description  \\\n0     Australian tenor Stuart Skelton is joined by L...   \n1     Previously unseen music from the series Port, ...   \n2     Tom Holland and Greg James cold call celebrity...   \n3     John Toal and Pauline Scanlon introduce an eve...   \n4     Claire McCollum explores Edinburgh and shares ...   \n...                                                 ...   \n3776  Kyra’s late arrival puts her modelling career ...   \n3788  Returning to the US to find out what happened ...   \n3792  Grime artist Saskilla asks, can the music indu...   \n3796  Paul packs up to return to his native Armagh a...   \n3799  Avicii: True Stories is Tim Bergling’s own sto...   \n\n                                                  image  \\\n0     https://ichef.bbci.co.uk/images/ic/{recipe}/p0...   \n1     https://ichef.bbci.co.uk/images/ic/{recipe}/p0...   \n2     https://ichef.bbci.co.uk/images/ic/{recipe}/p0...   \n3     https://ichef.bbci.co.uk/images/ic/{recipe}/p0...   \n4     https://ichef.bbci.co.uk/images/ic/{recipe}/p0...   \n...                                                 ...   \n3776  https://ichef.bbci.co.uk/images/ic/{recipe}/p0...   \n3788  https://ichef.bbci.co.uk/images/ic/{recipe}/p0...   \n3792  https://ichef.bbci.co.uk/images/ic/{recipe}/p0...   \n3796  https://ichef.bbci.co.uk/images/ic/{recipe}/p0...   \n3799  https://ichef.bbci.co.uk/images/ic/{recipe}/p0...   \n\n                                               keywords  \\\n0     BBC, iPlayer, TV, BBC Proms, 2021: Last Night ...   \n1           BBC, iPlayer, TV, Port, Series 5: Episode 4   \n2     BBC, iPlayer, TV, Sit Down, Stand Up with Greg...   \n3         BBC, iPlayer, TV, Ceiliúradh na Féile Pádraig   \n4          BBC, iPlayer, TV, Songs of Praise, Edinburgh   \n...                                                 ...   \n3776  BBC, iPlayer, TV, Models: Street to Catwalk, S...   \n3788                BBC, iPlayer, TV, Death On The I-95   \n3792  BBC, iPlayer, TV, Do Black Lives Still Matter?...   \n3796  BBC, iPlayer, TV, Ar An Sliabh, Series 1: Epis...   \n3799             BBC, iPlayer, TV, Avicii: True Stories   \n\n                                                 syno_s  \\\n0     Australian tenor Stuart Skelton is joined by L...   \n1     Previously unseen music from the series Port, ...   \n2     Tom Holland and Greg James cold call celebrity...   \n3     John Toal and Pauline Scanlon introduce an eve...   \n4     Claire McCollum explores Edinburgh and shares ...   \n...                                                 ...   \n3776  Kyra’s late arrival puts her modelling career ...   \n3788  Returning to the US to find out what happened ...   \n3792  Grime artist Saskilla asks, can the music indu...   \n3796  Paul packs up to return to his native Armagh a...   \n3799  Avicii: True Stories is Tim Bergling’s own sto...   \n\n                                                 syno_m  \\\n0     Australian tenor Stuart Skelton is joined by L...   \n1     Julie Fowlis a’ lìbhrigeadh ceòl bhon t-sreath...   \n2     Tom Holland and Greg James cold call celebrity...   \n3     John Toal and Pauline Scanlon introduce an eve...   \n4     Claire McCollum goes on a Christian heritage t...   \n...                                                 ...   \n3776  Kyra jeopardises her modelling career by turni...   \n3788  Following a report on the growing problem of o...   \n3792  The music industry pledged millions in support...   \n3796  Paul packs up to return to his native Armagh a...   \n3799  Avicii: True Stories is Tim Bergling’s own sto...   \n\n                                                 syno_l       category  \\\n0     Katie Derham hosts continued live coverage fro...          Music   \n1     Bidh Druthag Bheag Eile a’ tarraing ri chèile ...          Music   \n2     Tom Holland and Greg James cold call celebrity...  Entertainment   \n3     John Toal and Pauline Scanlon introduce an eve...          Music   \n4     Claire McCollum explores Edinburgh and discove...          Music   \n...                                                 ...            ...   \n3776  How will Kyra cope after a train malfunction m...    Documentary   \n3788  Drug overdose is now the main cause of death f...    Documentary   \n3792  The music industry reacted with a surge of out...    Documentary   \n3796  I Sliabh Eachtaí, tá Cérill ag déanamh réidh d...    Documentary   \n3799  In 2006, Tim Bergling was just a regular teena...    Documentary   \n\n                               channel  \\\n0                      bbc_radio_three   \n1                             bbc_alba   \n2                        bbc_radio_one   \n3     bbc_two_northern_ireland_digital   \n4                              bbc_one   \n...                                ...   \n3776                         bbc_three   \n3788                         bbc_three   \n3792                         bbc_three   \n3796                       bbc_webonly   \n3799                         bbc_three   \n\n                                               language release_date  \\\n0                                                 False         2021   \n1                                                 False         2020   \n2                                                 False         2022   \n3                                                 False         2017   \n4                                                 False         2022   \n...                                                 ...          ...   \n3776  Contains some strong language and some upsetti...         2021   \n3788  Contains some strong language and upsetting sc...         2018   \n3792                                              False         2021   \n3796                                              False         2021   \n3799                          Contains strong language.         2019   \n\n      duration_sec                 topic  \\\n0             5247                 music   \n1             1037                 music   \n2              611  music, entertainment   \n3             3538                 music   \n4             2044      music, lifestyle   \n...            ...                   ...   \n3776          1843         documentaries   \n3788          3426         documentaries   \n3792          1524         documentaries   \n3796          1740         documentaries   \n3799          5766         documentaries   \n\n                                                image_l  \\\n0     https://ichef.bbci.co.uk/images/ic/352x198/p09...   \n1     https://ichef.bbci.co.uk/images/ic/352x198/p08...   \n2     https://ichef.bbci.co.uk/images/ic/352x198/p0b...   \n3     https://ichef.bbci.co.uk/images/ic/352x198/p04...   \n4     https://ichef.bbci.co.uk/images/ic/352x198/p0b...   \n...                                                 ...   \n3776  https://ichef.bbci.co.uk/images/ic/352x198/p09...   \n3788  https://ichef.bbci.co.uk/images/ic/352x198/p07...   \n3792  https://ichef.bbci.co.uk/images/ic/352x198/p09...   \n3796  https://ichef.bbci.co.uk/images/ic/352x198/p0b...   \n3799  https://ichef.bbci.co.uk/images/ic/352x198/p07...   \n\n                                               image_xl  \n0     https://ichef.bbci.co.uk/images/ic/1200x675/p0...  \n1     https://ichef.bbci.co.uk/images/ic/1200x675/p0...  \n2     https://ichef.bbci.co.uk/images/ic/1200x675/p0...  \n3     https://ichef.bbci.co.uk/images/ic/1200x675/p0...  \n4     https://ichef.bbci.co.uk/images/ic/1200x675/p0...  \n...                                                 ...  \n3776  https://ichef.bbci.co.uk/images/ic/1200x675/p0...  \n3788  https://ichef.bbci.co.uk/images/ic/1200x675/p0...  \n3792  https://ichef.bbci.co.uk/images/ic/1200x675/p0...  \n3796  https://ichef.bbci.co.uk/images/ic/1200x675/p0...  \n3799  https://ichef.bbci.co.uk/images/ic/1200x675/p0...  \n\n[2473 rows x 17 columns]",
      "text/html": "<div>\n<style scoped>\n    .dataframe tbody tr th:only-of-type {\n        vertical-align: middle;\n    }\n\n    .dataframe tbody tr th {\n        vertical-align: top;\n    }\n\n    .dataframe thead th {\n        text-align: right;\n    }\n</style>\n<table border=\"1\" class=\"dataframe\">\n  <thead>\n    <tr style=\"text-align: right;\">\n      <th></th>\n      <th>index</th>\n      <th>title</th>\n      <th>subtitle</th>\n      <th>description</th>\n      <th>image</th>\n      <th>keywords</th>\n      <th>syno_s</th>\n      <th>syno_m</th>\n      <th>syno_l</th>\n      <th>category</th>\n      <th>channel</th>\n      <th>language</th>\n      <th>release_date</th>\n      <th>duration_sec</th>\n      <th>topic</th>\n      <th>image_l</th>\n      <th>image_xl</th>\n    </tr>\n  </thead>\n  <tbody>\n    <tr>\n      <th>0</th>\n      <td>0</td>\n      <td>BBC Proms</td>\n      <td>2021: Last Night of the Proms, Part 2</td>\n      <td>Australian tenor Stuart Skelton is joined by L...</td>\n      <td>https://ichef.bbci.co.uk/images/ic/{recipe}/p0...</td>\n      <td>BBC, iPlayer, TV, BBC Proms, 2021: Last Night ...</td>\n      <td>Australian tenor Stuart Skelton is joined by L...</td>\n      <td>Australian tenor Stuart Skelton is joined by L...</td>\n      <td>Katie Derham hosts continued live coverage fro...</td>\n      <td>Music</td>\n      <td>bbc_radio_three</td>\n      <td>False</td>\n      <td>2021</td>\n      <td>5247</td>\n      <td>music</td>\n      <td>https://ichef.bbci.co.uk/images/ic/352x198/p09...</td>\n      <td>https://ichef.bbci.co.uk/images/ic/1200x675/p0...</td>\n    </tr>\n    <tr>\n      <th>1</th>\n      <td>1</td>\n      <td>Port</td>\n      <td>Series 5: Episode 4</td>\n      <td>Previously unseen music from the series Port, ...</td>\n      <td>https://ichef.bbci.co.uk/images/ic/{recipe}/p0...</td>\n      <td>BBC, iPlayer, TV, Port, Series 5: Episode 4</td>\n      <td>Previously unseen music from the series Port, ...</td>\n      <td>Julie Fowlis a’ lìbhrigeadh ceòl bhon t-sreath...</td>\n      <td>Bidh Druthag Bheag Eile a’ tarraing ri chèile ...</td>\n      <td>Music</td>\n      <td>bbc_alba</td>\n      <td>False</td>\n      <td>2020</td>\n      <td>1037</td>\n      <td>music</td>\n      <td>https://ichef.bbci.co.uk/images/ic/352x198/p08...</td>\n      <td>https://ichef.bbci.co.uk/images/ic/1200x675/p0...</td>\n    </tr>\n    <tr>\n      <th>2</th>\n      <td>2</td>\n      <td>Sit Down, Stand Up with Greg James</td>\n      <td>None</td>\n      <td>Tom Holland and Greg James cold call celebrity...</td>\n      <td>https://ichef.bbci.co.uk/images/ic/{recipe}/p0...</td>\n      <td>BBC, iPlayer, TV, Sit Down, Stand Up with Greg...</td>\n      <td>Tom Holland and Greg James cold call celebrity...</td>\n      <td>Tom Holland and Greg James cold call celebrity...</td>\n      <td>Tom Holland and Greg James cold call celebrity...</td>\n      <td>Entertainment</td>\n      <td>bbc_radio_one</td>\n      <td>False</td>\n      <td>2022</td>\n      <td>611</td>\n      <td>music, entertainment</td>\n      <td>https://ichef.bbci.co.uk/images/ic/352x198/p0b...</td>\n      <td>https://ichef.bbci.co.uk/images/ic/1200x675/p0...</td>\n    </tr>\n    <tr>\n      <th>3</th>\n      <td>3</td>\n      <td>Ceiliúradh na Féile Pádraig</td>\n      <td>None</td>\n      <td>John Toal and Pauline Scanlon introduce an eve...</td>\n      <td>https://ichef.bbci.co.uk/images/ic/{recipe}/p0...</td>\n      <td>BBC, iPlayer, TV, Ceiliúradh na Féile Pádraig</td>\n      <td>John Toal and Pauline Scanlon introduce an eve...</td>\n      <td>John Toal and Pauline Scanlon introduce an eve...</td>\n      <td>John Toal and Pauline Scanlon introduce an eve...</td>\n      <td>Music</td>\n      <td>bbc_two_northern_ireland_digital</td>\n      <td>False</td>\n      <td>2017</td>\n      <td>3538</td>\n      <td>music</td>\n      <td>https://ichef.bbci.co.uk/images/ic/352x198/p04...</td>\n      <td>https://ichef.bbci.co.uk/images/ic/1200x675/p0...</td>\n    </tr>\n    <tr>\n      <th>4</th>\n      <td>4</td>\n      <td>Songs of Praise</td>\n      <td>Edinburgh</td>\n      <td>Claire McCollum explores Edinburgh and shares ...</td>\n      <td>https://ichef.bbci.co.uk/images/ic/{recipe}/p0...</td>\n      <td>BBC, iPlayer, TV, Songs of Praise, Edinburgh</td>\n      <td>Claire McCollum explores Edinburgh and shares ...</td>\n      <td>Claire McCollum goes on a Christian heritage t...</td>\n      <td>Claire McCollum explores Edinburgh and discove...</td>\n      <td>Music</td>\n      <td>bbc_one</td>\n      <td>False</td>\n      <td>2022</td>\n      <td>2044</td>\n      <td>music, lifestyle</td>\n      <td>https://ichef.bbci.co.uk/images/ic/352x198/p0b...</td>\n      <td>https://ichef.bbci.co.uk/images/ic/1200x675/p0...</td>\n    </tr>\n    <tr>\n      <th>...</th>\n      <td>...</td>\n      <td>...</td>\n      <td>...</td>\n      <td>...</td>\n      <td>...</td>\n      <td>...</td>\n      <td>...</td>\n      <td>...</td>\n      <td>...</td>\n      <td>...</td>\n      <td>...</td>\n      <td>...</td>\n      <td>...</td>\n      <td>...</td>\n      <td>...</td>\n      <td>...</td>\n      <td>...</td>\n    </tr>\n    <tr>\n      <th>3776</th>\n      <td>3777</td>\n      <td>Models: Street to Catwalk</td>\n      <td>Series 2: Episode 4</td>\n      <td>Kyra’s late arrival puts her modelling career ...</td>\n      <td>https://ichef.bbci.co.uk/images/ic/{recipe}/p0...</td>\n      <td>BBC, iPlayer, TV, Models: Street to Catwalk, S...</td>\n      <td>Kyra’s late arrival puts her modelling career ...</td>\n      <td>Kyra jeopardises her modelling career by turni...</td>\n      <td>How will Kyra cope after a train malfunction m...</td>\n      <td>Documentary</td>\n      <td>bbc_three</td>\n      <td>Contains some strong language and some upsetti...</td>\n      <td>2021</td>\n      <td>1843</td>\n      <td>documentaries</td>\n      <td>https://ichef.bbci.co.uk/images/ic/352x198/p09...</td>\n      <td>https://ichef.bbci.co.uk/images/ic/1200x675/p0...</td>\n    </tr>\n    <tr>\n      <th>3788</th>\n      <td>3789</td>\n      <td>Death On The I-95</td>\n      <td>None</td>\n      <td>Returning to the US to find out what happened ...</td>\n      <td>https://ichef.bbci.co.uk/images/ic/{recipe}/p0...</td>\n      <td>BBC, iPlayer, TV, Death On The I-95</td>\n      <td>Returning to the US to find out what happened ...</td>\n      <td>Following a report on the growing problem of o...</td>\n      <td>Drug overdose is now the main cause of death f...</td>\n      <td>Documentary</td>\n      <td>bbc_three</td>\n      <td>Contains some strong language and upsetting sc...</td>\n      <td>2018</td>\n      <td>3426</td>\n      <td>documentaries</td>\n      <td>https://ichef.bbci.co.uk/images/ic/352x198/p07...</td>\n      <td>https://ichef.bbci.co.uk/images/ic/1200x675/p0...</td>\n    </tr>\n    <tr>\n      <th>3792</th>\n      <td>3793</td>\n      <td>Do Black Lives Still Matter?</td>\n      <td>Series 1: 3. Music</td>\n      <td>Grime artist Saskilla asks, can the music indu...</td>\n      <td>https://ichef.bbci.co.uk/images/ic/{recipe}/p0...</td>\n      <td>BBC, iPlayer, TV, Do Black Lives Still Matter?...</td>\n      <td>Grime artist Saskilla asks, can the music indu...</td>\n      <td>The music industry pledged millions in support...</td>\n      <td>The music industry reacted with a surge of out...</td>\n      <td>Documentary</td>\n      <td>bbc_three</td>\n      <td>False</td>\n      <td>2021</td>\n      <td>1524</td>\n      <td>documentaries</td>\n      <td>https://ichef.bbci.co.uk/images/ic/352x198/p09...</td>\n      <td>https://ichef.bbci.co.uk/images/ic/1200x675/p0...</td>\n    </tr>\n    <tr>\n      <th>3796</th>\n      <td>3797</td>\n      <td>Ar An Sliabh</td>\n      <td>Series 1: Episode 6</td>\n      <td>Paul packs up to return to his native Armagh a...</td>\n      <td>https://ichef.bbci.co.uk/images/ic/{recipe}/p0...</td>\n      <td>BBC, iPlayer, TV, Ar An Sliabh, Series 1: Epis...</td>\n      <td>Paul packs up to return to his native Armagh a...</td>\n      <td>Paul packs up to return to his native Armagh a...</td>\n      <td>I Sliabh Eachtaí, tá Cérill ag déanamh réidh d...</td>\n      <td>Documentary</td>\n      <td>bbc_webonly</td>\n      <td>False</td>\n      <td>2021</td>\n      <td>1740</td>\n      <td>documentaries</td>\n      <td>https://ichef.bbci.co.uk/images/ic/352x198/p0b...</td>\n      <td>https://ichef.bbci.co.uk/images/ic/1200x675/p0...</td>\n    </tr>\n    <tr>\n      <th>3799</th>\n      <td>3800</td>\n      <td>Avicii: True Stories</td>\n      <td>None</td>\n      <td>Avicii: True Stories is Tim Bergling’s own sto...</td>\n      <td>https://ichef.bbci.co.uk/images/ic/{recipe}/p0...</td>\n      <td>BBC, iPlayer, TV, Avicii: True Stories</td>\n      <td>Avicii: True Stories is Tim Bergling’s own sto...</td>\n      <td>Avicii: True Stories is Tim Bergling’s own sto...</td>\n      <td>In 2006, Tim Bergling was just a regular teena...</td>\n      <td>Documentary</td>\n      <td>bbc_three</td>\n      <td>Contains strong language.</td>\n      <td>2019</td>\n      <td>5766</td>\n      <td>documentaries</td>\n      <td>https://ichef.bbci.co.uk/images/ic/352x198/p07...</td>\n      <td>https://ichef.bbci.co.uk/images/ic/1200x675/p0...</td>\n    </tr>\n  </tbody>\n</table>\n<p>2473 rows × 17 columns</p>\n</div>"
     },
     "execution_count": 90,
     "metadata": {},
     "output_type": "execute_result"
    }
   ],
   "source": [
    "df"
   ],
   "metadata": {
    "collapsed": false,
    "pycharm": {
     "name": "#%%\n"
    }
   }
  },
  {
   "cell_type": "code",
   "execution_count": 91,
   "outputs": [],
   "source": [
    "df.loc[:, 'duration_sec'] = df['duration_sec'].apply(lambda x: int(round(x/60, 0)))"
   ],
   "metadata": {
    "collapsed": false,
    "pycharm": {
     "name": "#%%\n"
    }
   }
  },
  {
   "cell_type": "code",
   "execution_count": 92,
   "outputs": [],
   "source": [
    "df.loc[:, 'channel'] = df['channel'].apply(lambda x: x.upper())\n",
    "df.loc[:, 'channel'] = df['channel'].apply(lambda x: x.replace('_', ' '))"
   ],
   "metadata": {
    "collapsed": false,
    "pycharm": {
     "name": "#%%\n"
    }
   }
  },
  {
   "cell_type": "code",
   "execution_count": 94,
   "outputs": [],
   "source": [
    "df.columns = ['index', 'title', 'subtitle', 'description', 'image', 'keywords', 'syno_s',\n",
    "       'syno_m', 'syno_l', 'category', 'channel', 'language', 'release_date',\n",
    "       'duration_min', 'topic', 'image_l', 'image_xl']"
   ],
   "metadata": {
    "collapsed": false,
    "pycharm": {
     "name": "#%%\n"
    }
   }
  },
  {
   "cell_type": "markdown",
   "source": [
    "## Episode and Series"
   ],
   "metadata": {
    "collapsed": false
   }
  },
  {
   "cell_type": "code",
   "execution_count": 268,
   "outputs": [
    {
     "data": {
      "text/plain": "                                    title  \\\n0      The 80s - Music’s Greatest Decade?   \n1                         Top of the Pops   \n2                               BBC Proms   \n3                                    Port   \n4      Sit Down, Stand Up with Greg James   \n...                                   ...   \n36883                     Bob the Builder   \n36886                           Go Buster   \n36891                         Chuggington   \n36893                      Justin's House   \n36897                Oti's Boogie Beebies   \n\n                                    subtitle  \\\n0              Series 1: 1. With Dylan Jones   \n1                                 02/07/1992   \n2      2021: Last Night of the Proms, Part 2   \n3                        Series 5: Episode 4   \n4                                       None   \n...                                      ...   \n36883              Series 8: 7. Ballroom Bob   \n36886           Stories: 5. Buster's Stories   \n36891       Badge Quest: 3. Rainbow Chuggers   \n36893            Series 2: 4. Going for Gold   \n36897              Series 1: 12. Upside Down   \n\n                                             description  \\\n0      Music author Dylan Jones argues that the 1980s...   \n1      With Arrested Development, Altern 8, Def Leppa...   \n2      Australian tenor Stuart Skelton is joined by L...   \n3      Previously unseen music from the series Port, ...   \n4      Tom Holland and Greg James cold call celebrity...   \n...                                                  ...   \n36883  Bob has been making secret early morning trips...   \n36886  Buster the bus has so many stories and adventu...   \n36891  The Chuggers need to solve a number of clues t...   \n36893  Justin's house hosts the Justinship Games, and...   \n36897  In this episode, Oti teaches us how to step an...   \n\n                                                   image  \\\n0      https://ichef.bbci.co.uk/images/ic/{recipe}/p0...   \n1      https://ichef.bbci.co.uk/images/ic/{recipe}/p0...   \n2      https://ichef.bbci.co.uk/images/ic/{recipe}/p0...   \n3      https://ichef.bbci.co.uk/images/ic/{recipe}/p0...   \n4      https://ichef.bbci.co.uk/images/ic/{recipe}/p0...   \n...                                                  ...   \n36883  https://ichef.bbci.co.uk/images/ic/{recipe}/p0...   \n36886  https://ichef.bbci.co.uk/images/ic/{recipe}/p0...   \n36891  https://ichef.bbci.co.uk/images/ic/{recipe}/p0...   \n36893  https://ichef.bbci.co.uk/images/ic/{recipe}/p0...   \n36897  https://ichef.bbci.co.uk/images/ic/{recipe}/p0...   \n\n                                                keywords  \\\n0      BBC, iPlayer, TV, The 80s - Music’s Greatest D...   \n1          BBC, iPlayer, TV, Top of the Pops, 02/07/1992   \n2      BBC, iPlayer, TV, BBC Proms, 2021: Last Night ...   \n3            BBC, iPlayer, TV, Port, Series 5: Episode 4   \n4      BBC, iPlayer, TV, Sit Down, Stand Up with Greg...   \n...                                                  ...   \n36883  BBC, iPlayer, TV, Bob the Builder, Series 8: 7...   \n36886  BBC, iPlayer, TV, Go Buster, Stories: 5. Buste...   \n36891  BBC, iPlayer, TV, Chuggington, Badge Quest: 3....   \n36893  BBC, iPlayer, TV, Justins House, Series 2: 4. ...   \n36897  BBC, iPlayer, TV, Otis Boogie Beebies, Series ...   \n\n                                                  syno_s  \\\n0      Music author Dylan Jones argues that the 1980s...   \n1      With Arrested Development, Altern 8, Def Leppa...   \n2      Australian tenor Stuart Skelton is joined by L...   \n3      Previously unseen music from the series Port, ...   \n4      Tom Holland and Greg James cold call celebrity...   \n...                                                  ...   \n36883  Bob has been making secret early morning trips...   \n36886  Buster the bus has so many stories and adventu...   \n36891  The Chuggers need to solve a number of clues t...   \n36893  Justin's house hosts the Justinship Games, and...   \n36897  In this episode, Oti teaches us how to step an...   \n\n                                                  syno_m  \\\n0      Music writer Dylan Jones puts the case that th...   \n1      Tony Dortie presents the pop chart programme, ...   \n2      Australian tenor Stuart Skelton is joined by L...   \n3      Julie Fowlis a’ lìbhrigeadh ceòl bhon t-sreath...   \n4      Tom Holland and Greg James cold call celebrity...   \n...                                                  ...   \n36883  Bob has been making secret early morning trips...   \n36886  Buster the bus has so many stories and adventu...   \n36891  Koko, Wilson and Brewster learn new skills and...   \n36893  Justin Fletcher entertains children with singi...   \n36897  Series for young children getting them to join...   \n\n                                                  syno_l       category  \\\n0      Eighties music is often dismissed as a joke - ...          Music   \n1      Tony Dortie presents the pop chart programme, ...          Music   \n2      Katie Derham hosts continued live coverage fro...          Music   \n3      Bidh Druthag Bheag Eile a’ tarraing ri chèile ...          Music   \n4      Tom Holland and Greg James cold call celebrity...  Entertainment   \n...                                                  ...            ...   \n36883  Bob has been making secret early morning trips...       CBeebies   \n36886  Buster the bus has so many stories and adventu...       CBeebies   \n36891  Koko, Wilson and Brewster learn new skills and...       CBeebies   \n36893  Justin Fletcher entertains a live audience of ...       CBeebies   \n36897  Series for young children getting them to join...       CBeebies   \n\n               channel language  release_date  duration_min  \\\n0              BBC TWO    False          2021            59   \n1              BBC ONE    False          1992            29   \n2      BBC RADIO THREE    False          2021            87   \n3             BBC ALBA    False          2020            17   \n4        BBC RADIO ONE    False          2022            10   \n...                ...      ...           ...           ...   \n36883         CBEEBIES    False          2003            10   \n36886         CBEEBIES    False          2021            26   \n36891         CBEEBIES    False          2010             4   \n36893         CBEEBIES    False          2012            24   \n36897         CBEEBIES    False          2020             5   \n\n                          topic  \\\n0          music, documentaries   \n1                         music   \n2      music, from-the-archives   \n3                         music   \n4          music, entertainment   \n...                         ...   \n36883                  cbeebees   \n36886                  cbeebees   \n36891                  cbeebees   \n36893                  cbeebees   \n36897                  cbeebees   \n\n                                                 image_l  \\\n0      https://ichef.bbci.co.uk/images/ic/352x198/p09...   \n1      https://ichef.bbci.co.uk/images/ic/352x198/p0b...   \n2      https://ichef.bbci.co.uk/images/ic/352x198/p09...   \n3      https://ichef.bbci.co.uk/images/ic/352x198/p08...   \n4      https://ichef.bbci.co.uk/images/ic/352x198/p0b...   \n...                                                  ...   \n36883  https://ichef.bbci.co.uk/images/ic/352x198/p08...   \n36886  https://ichef.bbci.co.uk/images/ic/352x198/p09...   \n36891  https://ichef.bbci.co.uk/images/ic/352x198/p08...   \n36893  https://ichef.bbci.co.uk/images/ic/352x198/p09...   \n36897  https://ichef.bbci.co.uk/images/ic/352x198/p08...   \n\n                                                image_xl  \n0      https://ichef.bbci.co.uk/images/ic/1200x675/p0...  \n1      https://ichef.bbci.co.uk/images/ic/1200x675/p0...  \n2      https://ichef.bbci.co.uk/images/ic/1200x675/p0...  \n3      https://ichef.bbci.co.uk/images/ic/1200x675/p0...  \n4      https://ichef.bbci.co.uk/images/ic/1200x675/p0...  \n...                                                  ...  \n36883  https://ichef.bbci.co.uk/images/ic/1200x675/p0...  \n36886  https://ichef.bbci.co.uk/images/ic/1200x675/p0...  \n36891  https://ichef.bbci.co.uk/images/ic/1200x675/p0...  \n36893  https://ichef.bbci.co.uk/images/ic/1200x675/p0...  \n36897  https://ichef.bbci.co.uk/images/ic/1200x675/p0...  \n\n[22757 rows x 16 columns]",
      "text/html": "<div>\n<style scoped>\n    .dataframe tbody tr th:only-of-type {\n        vertical-align: middle;\n    }\n\n    .dataframe tbody tr th {\n        vertical-align: top;\n    }\n\n    .dataframe thead th {\n        text-align: right;\n    }\n</style>\n<table border=\"1\" class=\"dataframe\">\n  <thead>\n    <tr style=\"text-align: right;\">\n      <th></th>\n      <th>title</th>\n      <th>subtitle</th>\n      <th>description</th>\n      <th>image</th>\n      <th>keywords</th>\n      <th>syno_s</th>\n      <th>syno_m</th>\n      <th>syno_l</th>\n      <th>category</th>\n      <th>channel</th>\n      <th>language</th>\n      <th>release_date</th>\n      <th>duration_min</th>\n      <th>topic</th>\n      <th>image_l</th>\n      <th>image_xl</th>\n    </tr>\n  </thead>\n  <tbody>\n    <tr>\n      <th>0</th>\n      <td>The 80s - Music’s Greatest Decade?</td>\n      <td>Series 1: 1. With Dylan Jones</td>\n      <td>Music author Dylan Jones argues that the 1980s...</td>\n      <td>https://ichef.bbci.co.uk/images/ic/{recipe}/p0...</td>\n      <td>BBC, iPlayer, TV, The 80s - Music’s Greatest D...</td>\n      <td>Music author Dylan Jones argues that the 1980s...</td>\n      <td>Music writer Dylan Jones puts the case that th...</td>\n      <td>Eighties music is often dismissed as a joke - ...</td>\n      <td>Music</td>\n      <td>BBC TWO</td>\n      <td>False</td>\n      <td>2021</td>\n      <td>59</td>\n      <td>music, documentaries</td>\n      <td>https://ichef.bbci.co.uk/images/ic/352x198/p09...</td>\n      <td>https://ichef.bbci.co.uk/images/ic/1200x675/p0...</td>\n    </tr>\n    <tr>\n      <th>1</th>\n      <td>Top of the Pops</td>\n      <td>02/07/1992</td>\n      <td>With Arrested Development, Altern 8, Def Leppa...</td>\n      <td>https://ichef.bbci.co.uk/images/ic/{recipe}/p0...</td>\n      <td>BBC, iPlayer, TV, Top of the Pops, 02/07/1992</td>\n      <td>With Arrested Development, Altern 8, Def Leppa...</td>\n      <td>Tony Dortie presents the pop chart programme, ...</td>\n      <td>Tony Dortie presents the pop chart programme, ...</td>\n      <td>Music</td>\n      <td>BBC ONE</td>\n      <td>False</td>\n      <td>1992</td>\n      <td>29</td>\n      <td>music</td>\n      <td>https://ichef.bbci.co.uk/images/ic/352x198/p0b...</td>\n      <td>https://ichef.bbci.co.uk/images/ic/1200x675/p0...</td>\n    </tr>\n    <tr>\n      <th>2</th>\n      <td>BBC Proms</td>\n      <td>2021: Last Night of the Proms, Part 2</td>\n      <td>Australian tenor Stuart Skelton is joined by L...</td>\n      <td>https://ichef.bbci.co.uk/images/ic/{recipe}/p0...</td>\n      <td>BBC, iPlayer, TV, BBC Proms, 2021: Last Night ...</td>\n      <td>Australian tenor Stuart Skelton is joined by L...</td>\n      <td>Australian tenor Stuart Skelton is joined by L...</td>\n      <td>Katie Derham hosts continued live coverage fro...</td>\n      <td>Music</td>\n      <td>BBC RADIO THREE</td>\n      <td>False</td>\n      <td>2021</td>\n      <td>87</td>\n      <td>music, from-the-archives</td>\n      <td>https://ichef.bbci.co.uk/images/ic/352x198/p09...</td>\n      <td>https://ichef.bbci.co.uk/images/ic/1200x675/p0...</td>\n    </tr>\n    <tr>\n      <th>3</th>\n      <td>Port</td>\n      <td>Series 5: Episode 4</td>\n      <td>Previously unseen music from the series Port, ...</td>\n      <td>https://ichef.bbci.co.uk/images/ic/{recipe}/p0...</td>\n      <td>BBC, iPlayer, TV, Port, Series 5: Episode 4</td>\n      <td>Previously unseen music from the series Port, ...</td>\n      <td>Julie Fowlis a’ lìbhrigeadh ceòl bhon t-sreath...</td>\n      <td>Bidh Druthag Bheag Eile a’ tarraing ri chèile ...</td>\n      <td>Music</td>\n      <td>BBC ALBA</td>\n      <td>False</td>\n      <td>2020</td>\n      <td>17</td>\n      <td>music</td>\n      <td>https://ichef.bbci.co.uk/images/ic/352x198/p08...</td>\n      <td>https://ichef.bbci.co.uk/images/ic/1200x675/p0...</td>\n    </tr>\n    <tr>\n      <th>4</th>\n      <td>Sit Down, Stand Up with Greg James</td>\n      <td>None</td>\n      <td>Tom Holland and Greg James cold call celebrity...</td>\n      <td>https://ichef.bbci.co.uk/images/ic/{recipe}/p0...</td>\n      <td>BBC, iPlayer, TV, Sit Down, Stand Up with Greg...</td>\n      <td>Tom Holland and Greg James cold call celebrity...</td>\n      <td>Tom Holland and Greg James cold call celebrity...</td>\n      <td>Tom Holland and Greg James cold call celebrity...</td>\n      <td>Entertainment</td>\n      <td>BBC RADIO ONE</td>\n      <td>False</td>\n      <td>2022</td>\n      <td>10</td>\n      <td>music, entertainment</td>\n      <td>https://ichef.bbci.co.uk/images/ic/352x198/p0b...</td>\n      <td>https://ichef.bbci.co.uk/images/ic/1200x675/p0...</td>\n    </tr>\n    <tr>\n      <th>...</th>\n      <td>...</td>\n      <td>...</td>\n      <td>...</td>\n      <td>...</td>\n      <td>...</td>\n      <td>...</td>\n      <td>...</td>\n      <td>...</td>\n      <td>...</td>\n      <td>...</td>\n      <td>...</td>\n      <td>...</td>\n      <td>...</td>\n      <td>...</td>\n      <td>...</td>\n      <td>...</td>\n    </tr>\n    <tr>\n      <th>36883</th>\n      <td>Bob the Builder</td>\n      <td>Series 8: 7. Ballroom Bob</td>\n      <td>Bob has been making secret early morning trips...</td>\n      <td>https://ichef.bbci.co.uk/images/ic/{recipe}/p0...</td>\n      <td>BBC, iPlayer, TV, Bob the Builder, Series 8: 7...</td>\n      <td>Bob has been making secret early morning trips...</td>\n      <td>Bob has been making secret early morning trips...</td>\n      <td>Bob has been making secret early morning trips...</td>\n      <td>CBeebies</td>\n      <td>CBEEBIES</td>\n      <td>False</td>\n      <td>2003</td>\n      <td>10</td>\n      <td>cbeebees</td>\n      <td>https://ichef.bbci.co.uk/images/ic/352x198/p08...</td>\n      <td>https://ichef.bbci.co.uk/images/ic/1200x675/p0...</td>\n    </tr>\n    <tr>\n      <th>36886</th>\n      <td>Go Buster</td>\n      <td>Stories: 5. Buster's Stories</td>\n      <td>Buster the bus has so many stories and adventu...</td>\n      <td>https://ichef.bbci.co.uk/images/ic/{recipe}/p0...</td>\n      <td>BBC, iPlayer, TV, Go Buster, Stories: 5. Buste...</td>\n      <td>Buster the bus has so many stories and adventu...</td>\n      <td>Buster the bus has so many stories and adventu...</td>\n      <td>Buster the bus has so many stories and adventu...</td>\n      <td>CBeebies</td>\n      <td>CBEEBIES</td>\n      <td>False</td>\n      <td>2021</td>\n      <td>26</td>\n      <td>cbeebees</td>\n      <td>https://ichef.bbci.co.uk/images/ic/352x198/p09...</td>\n      <td>https://ichef.bbci.co.uk/images/ic/1200x675/p0...</td>\n    </tr>\n    <tr>\n      <th>36891</th>\n      <td>Chuggington</td>\n      <td>Badge Quest: 3. Rainbow Chuggers</td>\n      <td>The Chuggers need to solve a number of clues t...</td>\n      <td>https://ichef.bbci.co.uk/images/ic/{recipe}/p0...</td>\n      <td>BBC, iPlayer, TV, Chuggington, Badge Quest: 3....</td>\n      <td>The Chuggers need to solve a number of clues t...</td>\n      <td>Koko, Wilson and Brewster learn new skills and...</td>\n      <td>Koko, Wilson and Brewster learn new skills and...</td>\n      <td>CBeebies</td>\n      <td>CBEEBIES</td>\n      <td>False</td>\n      <td>2010</td>\n      <td>4</td>\n      <td>cbeebees</td>\n      <td>https://ichef.bbci.co.uk/images/ic/352x198/p08...</td>\n      <td>https://ichef.bbci.co.uk/images/ic/1200x675/p0...</td>\n    </tr>\n    <tr>\n      <th>36893</th>\n      <td>Justin's House</td>\n      <td>Series 2: 4. Going for Gold</td>\n      <td>Justin's house hosts the Justinship Games, and...</td>\n      <td>https://ichef.bbci.co.uk/images/ic/{recipe}/p0...</td>\n      <td>BBC, iPlayer, TV, Justins House, Series 2: 4. ...</td>\n      <td>Justin's house hosts the Justinship Games, and...</td>\n      <td>Justin Fletcher entertains children with singi...</td>\n      <td>Justin Fletcher entertains a live audience of ...</td>\n      <td>CBeebies</td>\n      <td>CBEEBIES</td>\n      <td>False</td>\n      <td>2012</td>\n      <td>24</td>\n      <td>cbeebees</td>\n      <td>https://ichef.bbci.co.uk/images/ic/352x198/p09...</td>\n      <td>https://ichef.bbci.co.uk/images/ic/1200x675/p0...</td>\n    </tr>\n    <tr>\n      <th>36897</th>\n      <td>Oti's Boogie Beebies</td>\n      <td>Series 1: 12. Upside Down</td>\n      <td>In this episode, Oti teaches us how to step an...</td>\n      <td>https://ichef.bbci.co.uk/images/ic/{recipe}/p0...</td>\n      <td>BBC, iPlayer, TV, Otis Boogie Beebies, Series ...</td>\n      <td>In this episode, Oti teaches us how to step an...</td>\n      <td>Series for young children getting them to join...</td>\n      <td>Series for young children getting them to join...</td>\n      <td>CBeebies</td>\n      <td>CBEEBIES</td>\n      <td>False</td>\n      <td>2020</td>\n      <td>5</td>\n      <td>cbeebees</td>\n      <td>https://ichef.bbci.co.uk/images/ic/352x198/p08...</td>\n      <td>https://ichef.bbci.co.uk/images/ic/1200x675/p0...</td>\n    </tr>\n  </tbody>\n</table>\n<p>22757 rows × 16 columns</p>\n</div>"
     },
     "execution_count": 268,
     "metadata": {},
     "output_type": "execute_result"
    }
   ],
   "source": [
    "df = pd.read_csv('temp_bbc.csv', sep=';', index_col=0)\n",
    "df"
   ],
   "metadata": {
    "collapsed": false,
    "pycharm": {
     "name": "#%%\n"
    }
   }
  },
  {
   "cell_type": "code",
   "execution_count": 253,
   "outputs": [
    {
     "data": {
      "text/plain": "[['Series 1', ' 1. With Dylan Jones'],\n ['Series 5', ' Episode 4'],\n ['Series 5', ' 3. 1978'],\n ['Series 3', ' 1. With Taylor Swift'],\n ['Series 1', ' 1. Foo Fighters and More: Live Lounge Special'],\n ['Series 2', ' Episode 2'],\n ['Series 2', ' 2. George Ezra, Christine and the Queens and more'],\n ['Series 1', ' Episode 3'],\n ['Series 1', ' Episode 1'],\n ['Series 5', ' Episode 11'],\n ['Series 1', ' Episode 1'],\n ['Series 4', ' 2. 1973'],\n ['Series 1', ' Episode 1'],\n ['Series 2', ' Episode 6'],\n ['Series 4', ' 3. 1976'],\n ['Series 2', ' Episode 5'],\n ['Series 1', ' 4. 1985'],\n ['Series 1', ' 3. Sweet Love'],\n ['Series 1', ' Episode 6'],\n ['Series 1', ' 2. Say It Loud'],\n ['Series 5', ' Episode 10'],\n ['Series 3', ' 4. With Stormzy'],\n ['Series 3', ' Episode 6 - The Final'],\n ['Series 8', ' Episode 4'],\n ['Series 1', ' Episode 4'],\n ['Series 3', ' Episode 5'],\n ['Series 1', ' 1. Amazing Grace'],\n ['Series 1', ' 2. Alright, by Kendrick Lamar'],\n ['Series 4', ' 7. 1992'],\n ['Series 1', ' 2. The New Wave of Irish Rap'],\n ['Series 2', ' 1. Welcome to the Rap Game UK'],\n ['Series 5', ' 8. 1991'],\n ['Series 2', ' 3. The 1975, Mumford and Sons: The Live Lounge Show'],\n ['Series 1', ' Episode 2'],\n ['Series 5', ' 9. 1996'],\n ['Series 3', ' 3. 1988'],\n ['Series 1', ' Episode 4'],\n ['Series 1', ' Episode 2'],\n ['Series 2', ' Episode 2'],\n ['Series 3', ' 5. 1997'],\n ['Series 2', ' 5. Beats & Visuals'],\n ['Series 2', ' 2. Collab & Clash'],\n ['Series 1', ' Episode 2'],\n ['Series 1', ' Episode 3'],\n ['Series 3', ' Episode 8'],\n ['Series 1', ' 3. Rock Box, by Run-DMC'],\n ['Series 3', ' Episode 2'],\n ['Series 8', ' Episode 5'],\n ['Series 4', ' 6. 1990'],\n ['Series 1', ' Episode 6'],\n ['Series 1', ' Episode 2'],\n ['Series 5', ' 4. 1980'],\n ['Series 1', ' Episode 3'],\n ['Series 3', ' 2. With Lana Del Rey'],\n ['Series 1', ' Episode 1'],\n ['Series 8', ' Episode 3'],\n ['Series 2', ' 1. Jess Glynne, Hozier, Rita Ora and more'],\n ['Series 8', ' Episode 2'],\n ['Series 1', ' 5. The Bridge, by Marley Marl and MC Shan'],\n ['Series 3', ' 1. 1972'],\n ['Series 1', ' 2. P!nk and More'],\n ['Series 4', ' 4. 1984'],\n ['Series 1', ' 3. The Rise of Asian Rap'],\n ['Series 1', ' Episode 1'],\n ['Series 1', ' 3. Miley Cyrus and More'],\n ['Series 5', ' 2. 1975'],\n ['Series 1', ' 2. 1974'],\n ['Series 3', ' Episode 1'],\n ['Series 2', ' 3. 1982'],\n ['Series 1', ' Episode 2'],\n ['Series 1', ' 1. Liverpool Rap, Drill and Trap'],\n ['Series 1', ' 5. 1994'],\n ['Series 5', ' 10. 1999'],\n ['Series 5', ' Episode 9'],\n ['Series 2', ' 6. The Final'],\n ['Series 5', ' Episode 8'],\n ['Series 2', ' Episode 4'],\n ['Series 3', ' Episode 3'],\n ['Series 1', ' Episode 1'],\n ['Series 5', ' 5. 1983'],\n ['Series 5', ' 6. 1986'],\n ['Series 1', ' 3. 1981'],\n ['Series 1', ' Episode 1'],\n ['Series 5', ' 1. 1963-1968'],\n ['Series 8', ' Episode 6'],\n ['Series 1', ' 4. Elevators, by Outkast'],\n ['Series 3', ' Episode 2'],\n ['Series 2', ' Episode 1'],\n ['Series 3', ' 2. 1977'],\n ['Series 1', ' 1. Jesus Walks, by Kanye West'],\n ['Series 2', ' Episode 4'],\n ['Series 2', ' 1. 1971'],\n ['Series 5', ' Episode 1'],\n ['Series 1', ' Episode 3'],\n ['Series 1', ' Episode 1'],\n ['Series 1', ' 4. Jay-Z and More'],\n ['Series 3', ' Episode 4'],\n ['Series 2', ' Episode 3'],\n ['Series 1', ' Episode 3'],\n ['Series 2', ' 5. 2002'],\n ['Series 1', ' Episode 2'],\n ['Series 1', ' Episode 3'],\n ['Series 1', ' Episode 3'],\n ['Series 3', ' Episode 3'],\n ['Series 2', ' Episode 1'],\n ['Series 5', ' 7. 1989'],\n ['Series 1', ' Episode 3'],\n ['Series 3', ' 3. With Charli XCX'],\n ['Series 1', ' Episode 7'],\n ['Series 1', ' Episode 5'],\n ['Series 1', ' 2. True Originals'],\n ['Series 4', ' 8. 1995'],\n ['Series 3', ' 4. 1993'],\n ['Series 1', ' Episode 2'],\n ['Series 2', ' 4. Sound & Symphony'],\n ['Series 1', ' Episode 5'],\n ['Series 1', ' Episode 6'],\n ['Series 1', ' 3. Alternative Voices'],\n ['Series 2', ' 2. 1979'],\n ['Series 2', ' 3. Pressure & Purpose'],\n ['Series 3', ' Episode 1'],\n ['Series 1', ' Episode 4'],\n ['Series 2', ' Episode 3'],\n ['Series 3', ' Episode 4'],\n ['Series 1', ' Episode 6'],\n ['Series 1', ' Episode 6'],\n ['Series 1', ' Episode 4'],\n ['Series 5', ' Episode 2'],\n ['Series 2', ' Episode 7'],\n ['Series 1', ' Episode 4'],\n ['Series 2', ' 4. 1998'],\n ['Series 1', ' Episode 4'],\n ['Series 1', ' 1. 1969'],\n ['Series 3', ' Episode 4'],\n ['Series 4', ' 1. 1970'],\n ['Series 1', ' Episode 4'],\n ['Series 1', ' Episode 5'],\n ['Series 1', ' Episode 2'],\n ['Series 1', ' Episode 1'],\n ['Series 1', ' Episode 1'],\n ['Series 1', ' 4. Hip-Hop to House'],\n ['Series 1', ' Episode 2'],\n ['Series 1', ' Episode 3'],\n ['Series 4', ' 5. 1987'],\n ['Series 1', ' Episode 5'],\n ['Series 1', ' 6. Ladies First, by Queen Latifah'],\n ['Series 4', ' 1. Why We Laugh'],\n ['Series 9', ' 4. A King’s Last Supper'],\n ['Series 2', ' Episode 3'],\n ['Series 1', ' 3. Black is the New Hollywood'],\n ['Series 2', ' Episode 3'],\n ['Series 1', ' 2. The American Nightmare'],\n ['Series 1', ' 5. Carlos Acosta'],\n ['Series 5', ' 12. Aurora’s Dance'],\n ['Series 5', ' 2. Island in the Wilderness'],\n ['Series 1', ' Episode 1'],\n ['Series 5', ' 20. Reflections of Calm'],\n ['Series 1', ' Episode 4'],\n ['Series 4', ' 3. Hauer-King House'],\n ['Series 5', ' 14. Woodgrain View'],\n ['Series 1', ' 14. The Best of BBYA'],\n ['Series 5', ' 4. Can Art Save the Planet?'],\n ['Series 4', ' 7. Willis Corroon'],\n ['Series 1', ' 7. Radiance'],\n ['Series 3', \" 3. Lloyd's Building\"],\n ['Series 4', ' 2. When Mary Met Hillary Clinton'],\n ['Series 9', ' 3. Landseer'],\n ['Series 1', ' Episode 1'],\n ['Series 2', ' 1. The Great Salvador Dali'],\n ['Series 9', ' 1. A Sculpture in the Brambles'],\n ['Series 5', ' 1. Brighton'],\n ['Series 4', ' 52. Downstream View'],\n ['Series 4', ' 50. Autumn Palette'],\n ['Series 4', ' 4. Humber Bridge'],\n ['Series 5', ' 17. Home in the Valley'],\n ['Series 1', ' 6. Nicole Kidman'],\n ['Series 3', ' Episode 3'],\n ['Series 3', ' Cutting Up Rough'],\n ['Series 1', ' 2. No Grasses No Nonces'],\n ['Series 1', ' Episode 3'],\n ['Series 1', ' Episode 2'],\n ['Series 1', ' 1. Second Moment of Creation'],\n ['Series 5', \" 24. Trail's End\"],\n ['Series 1', ' Episode 2'],\n ['Series 2', ' Episode 2'],\n ['Series 1', \" 1. I'd Like to Speak to the Manager\"],\n ['Series 3', ' Episode 4'],\n ['Series 1', ' 2. To See or Not to See?'],\n ['Series 2', ' 4. Arbroath'],\n ['Series 1', ' Episode 3'],\n ['Series 3', ' Episode 1'],\n ['Series 1', ' 9. The Vital Spark'],\n ['Series 1', ' Episode 1'],\n ['Series 4', ' 46. Enchanted Falls Oval'],\n ['Series 4', ' 2. The Worsley Medical Building'],\n ['Series 2', ' Episode 1'],\n ['Series 5', ' 8. Cypress Creek'],\n ['Series 5', ' 21. Winding Stream'],\n ['Series 4', ' 51. Cypress Swamp'],\n ['Series 3', ' Episode 6'],\n ['Series 1', ' 4. Byker Wall'],\n ['Series 1', ' 3. Hannah'],\n ['Series 3', ' Episode 1'],\n ['Series 1', ' Semi-Final: Jamie Chadwick'],\n ['Series 5', ' 3. Autumn Oval'],\n ['Series 2', ' 2. Epic Iran'],\n ['Series 4', ' 5. Wood Street Police Station'],\n ['Series 5', ' 1. Mountain Serenity'],\n ['Series 1', ' 5. Heart of Glass'],\n ['Series 3', ' Episode 2'],\n ['Series 5', ' 18. Seaside Harmony'],\n ['Series 1', ' 13. The Final'],\n ['Series 4', ' 43. The Footbridge'],\n ['Series 1', ' 3. Life after Death'],\n ['Series 1', ' 2. Bernardine Evaristo'],\n ['Series 1', ' 2. Street Art'],\n ['Series 2', ' Episode 1'],\n ['Series 1', ' 1. Burial'],\n ['Series 4', ' 1. Canary Wharf'],\n ['Series 5', ' 11. A Perfect Winter Day'],\n ['Series 1', ' Episode 3'],\n ['Series 4', ' 6. Alton Estate'],\n ['Series 1', ' 2. How Do We Look?'],\n ['Series 1', ' 2. Dirt Ash Meat'],\n ['Series 3', ' 12. Boarbank Hall Oratory'],\n ['Series 1', ' 8. Evelyn Glennie'],\n ['Series 5', ' 6. Countryside Barn'],\n ['Series 1', ' Semi-Final: Dr Alex'],\n ['Series 2', ' 3. Alice in Wonderland'],\n ['Series 5', ' 3. Glasgow'],\n ['Series 2', ' 6. Painting: The Great Renunciation of the Buddha'],\n ['Series 1', ' Semi-Final: Lindsey Russell'],\n ['Series 1', ' 1. Kenneth Branagh'],\n ['Series 1', ' 4. Bitter Sky'],\n ['Series 1', ' 7. Landscape'],\n ['Series 2', ' Episode 5'],\n ['Series 1', ' 8. The Cult of Progress'],\n ['Series 5', ' 16. Misty Foothills'],\n ['Series 1', ' 3. Collage'],\n ['Series 1', ' 2. Black Film is Not a Genre'],\n ['Series 3', ' Episode 6'],\n ['Series 1', ' 4. Still Life'],\n ['Series 1', ' Episode 3'],\n ['Series 4', ' 44. Covered Bridge Oval'],\n ['Series 4', ' 49. Oriental Falls'],\n ['Series 1', ' 6. First Contact'],\n ['Series 5', ' 2. Back to the 90s'],\n ['Series 3', ' Episode 7'],\n ['Series 3', ' Episode 3'],\n ['Series 1', ' 7. Unicorn'],\n ['Series 3', ' Episode 4'],\n ['Series 4', ' 3. Back to School'],\n ['Series 1', ' Episode 2'],\n ['Series 5', ' 19. A Cold Spring Day'],\n ['Series 5', ' 26. Balmy Beach'],\n ['Series 1', ' Episode 2'],\n ['Series 1', ' 6. Leaf Boat'],\n ['Series 3', ' 2. Women, Sex and Society'],\n ['Series 2', ' 3. Janet Street-Porter'],\n ['Series 1', ' 1. Vile Bodies'],\n ['Series 1', ' 6. Fan Art'],\n ['Series 9', ' 2. Gerome'],\n ['Series 1', ' 1. Living the Dream'],\n ['Series 1', ' 1. Legends and Pioneers'],\n ['Series 1', ' 5. Alexander Fleming House'],\n ['Series 2', ' 4. Turner - Light and Landscape'],\n ['Series 4', ' 45. Hideaway Cove'],\n ['Series 3', ' Episode 3'],\n ['Series 4', ' 5. Down Under'],\n ['Series 2', ' Episode 4'],\n ['Series 3', ' Episode 2'],\n ['Series 1', ' 7. Kwame Kwei-Armah'],\n ['Series 5', ' 13. Babbling Brook'],\n ['Series 4', ' 47. Snowy Morn'],\n ['Series 5', ' 1. Women on Top'],\n ['Series 2', ' 3. Monet - The French Revolutionary'],\n ['Series 1', ' Episode 4'],\n ['Series 5', ' 7. Mountain Lake Falls'],\n ['Series 1', ' 1. Animal Art'],\n ['Series 2', ' 1. Jacob Jordaens: Renaissance Watercolours'],\n ['Series 1', ' 9. Cartoon'],\n ['Series 2', ' 2. Van Gogh - Life and Art'],\n ['Series 1', ' 3. Picturing Paradise'],\n ['Series 3', ' 4. Trellick Tower'],\n ['Series 1', ' 4. The Eye of Faith'],\n ['Series 2', ' 4. Bacchus Vase / Minton'],\n ['Series 5', ' 23. View from Clear Creek'],\n ['Series 1', ' 6. The Taking of Balgrayhill Street'],\n ['Series 1', ' 3. Mike Leigh'],\n ['Series 3', ' Episode 1'],\n ['Series 1', ' 5. The Triumph of Art'],\n ['Series 5', ' 9. Trapper’s Cabin'],\n ['Series 1', ' Episode 3'],\n ['Series 1', ' 5. The Arborist'],\n ['Series 1', ' 4. Regeneration'],\n ['Series 2', ' Episode 5'],\n ['Series 1', ' Episode 1'],\n ['Series 2', ' 5. Bags Inside Out/Churchill Despatch Box'],\n ['Series 4', ' 4. How We Read'],\n ['Series 5', ' 22. Tranquility Cove'],\n ['Series 3', ' Episode 5'],\n ['Series 3', ' Episode 5'],\n ['Series 3', ' Episode 2'],\n ['Series 5', ' 15. Wilderness Trail'],\n ['Series 5', ' 3. The Art of Crying'],\n ['Series 2', ' Episode 2'],\n ['Series 3', ' Episode 8'],\n ['Series 1', ' 3. I Choose'],\n ['Series 5', ' 25. Evergreen Valley'],\n ['Series 1', ' Episode 3'],\n ['Series 1', ' Episode 2'],\n ['Series 1', ' Episode 1'],\n ['Series 1', ' 4. Tracey Emin'],\n ['Series 1', ' 5. Modern Art'],\n ['Series 2', ' Episode 6'],\n ['Series 5', ' 4. Seasonal Progression'],\n ['Series 1', ' 3. Schlumberger Building'],\n ['Series 3', ' Episode 5'],\n ['Series 5', ' 5. Light at the Summit'],\n ['Series 4', ' 48. Splashes of Autumn'],\n ['Series 5', ' 2. Tatton Park'],\n ['Series 1', ' 8. Portrait'],\n ['Series 3', ' 1. Boeing 747'],\n ['Series 1', ' Episode 2'],\n ['Series 2', ' Episode 6'],\n ['Series 5', ' 10. Storm on the Horizon'],\n ['Series 3', ' Episode 4'],\n ['Series 1', ' 5. Europe'],\n ['Series 3', ' 17/10/1986'],\n ['Series 1', ' Episode 2'],\n ['Series 10', ' Episode 7'],\n ['Series 6', ' Tortilla Chips'],\n ['Series 1', ' Episode 1'],\n ['Series 1', ' 1. First Steps'],\n ['Series 1', ' 4. Changing Planet'],\n ['Series 1', ' 1. South West Wales'],\n ['Series 1', ' 4. Black Holes: Heart of Darkness'],\n ['Series 1', ' 2. Change'],\n ['Series 1', ' 10. County Down'],\n ['Series 1', ' 6. North America'],\n ['Series 1', ' 3. Game Changers'],\n ['Series 1', ' 6. Reckoning'],\n ['Series 1', ' 3. Colourful Planet'],\n ['Series 1', ' 7. The Sun and Stars'],\n ['Series 1', ' Episode 8'],\n ['Series 1', ' 4. Is Coronavirus a Chance to Reset the World?'],\n ['Series 7', ' Diggers'],\n ['Series 6', ' 8. Westmorland County Show'],\n ['Series 1', ' 3. The Godfather: Jupiter'],\n ['Series 1', ' 4. Life Beyond the Sun: Saturn'],\n ['Series 1', ' 4. Australia'],\n ['Series 1', ' 4. Misfortune'],\n ['Series 1', ' Episode 3'],\n ['Series 4', ' Episode 6'],\n ['Series 1', ' 4. Desert Worlds'],\n ['Series 1', ' 2. Civilisations'],\n ['Series 1', ' 5. Tiger'],\n ['Series 1 (Shorts)', ' Episode 11'],\n ['Series 1', ' 7. Africa'],\n ['Series 1', ' 1. Destiny'],\n ['Series 1', ' 1. Masterminds'],\n ['Series 1', ' 5. Build a Waste-Free World'],\n ['Series 1', ' Episode 1'],\n ['Series 1', ' 1. The Sun: God Star'],\n ['Series 1', ' 4. Summer'],\n ['Series 1', ' Episode 2'],\n ['Series 1', ' 3. Weather'],\n ['Series 10', ' Episode 3'],\n ['Series 2', ' Episode 8'],\n ['Series 1', ' 4. Oceans'],\n ['Series 1', ' Episode 2'],\n ['Series 1', ' 3. Coniston'],\n ['Series 10', ' Episode 3'],\n ['Series 1', ' Episode 9'],\n ['Series 1', ' 3. Changing'],\n ['Series 1', ' 6. Travellers'],\n ['Series 1', ' Episode 1'],\n ['Series 1', ' 1. Secrets of Survival'],\n ['Series 1', ' 3. Home'],\n ['Series 1', ' 7. The Extraordinary Power of Poo'],\n ['Series 1', ' 5. Human Worlds'],\n ['Series 1', ' 8. Seallaidhean Gleusta/Tuned in Views'],\n ['Series 1', ' Episode 5'],\n ['Series 10', ' Episode 4'],\n ['Series 1', ' 4. Big Blue'],\n ['Series 3', ' Episode 3'],\n ['Series 1', ' 2. Growing Up'],\n ['Series 1', ' 2. Alien Worlds: The Search for Second Earth'],\n ['Series 2', ' 2. Take My Breath Away'],\n ['Series 10', ' Episode 6'],\n ['Series 1', ' 9. Space Explorers'],\n ['Series 1', ' 3. Spring'],\n ['Series 1', ' 4. Rainforests'],\n ['Series 1', ' 10. Easdale'],\n ['Series 8 Reversions', ' 4. The Secret Life of Sea Cliffs 1'],\n ['Series 1', ' 4. Social Networkers'],\n ['Series 1', ' 6. Rathlin'],\n ['Series 4', ' Episode 2'],\n ['Series 1', ' 5. Why Do We Kiss?'],\n ['Series 6', ' 17. Westmorland County Show'],\n ['Series 1', ' 4. Belfast'],\n ['Series 10', ' Episode 5'],\n ['Series 1', ' Episode 3'],\n ['Series 1', ' 2. Fix Our Climate'],\n ['Series 1', ' 8. Loch Lomond'],\n ['Series 1', ' Episode 3'],\n ['Series 1', ' 2. Patterned Planet'],\n ['Series 1', ' 9. Strangford'],\n ['Series 1', ' 1. Zambezi'],\n ['Series 1', ' 2. Derwentwater'],\n ['Series 1', ' 5. Cairngorms'],\n ['Series 1', ' 2. Winter'],\n ['Series 6', ' 10. Abergavenny Food Festival'],\n ['Series 1', ' 3. Coral Reefs'],\n ['Series 2', ' 1. Puma'],\n ['Series 1 (Shorts)', ' Episode 2'],\n ['Series 1', ' 3. Renewal'],\n ['Series 1', ' 1. Africa'],\n ['Series 1', ' 2. Water Worlds'],\n ['Series 1', ' 5. Green Seas'],\n ['Series 1', ' 1. Volcano'],\n ['Series 1', ' Episode 3'],\n ['Series 1', ' 6. Parenthood'],\n ['Series 1', ' 1. One Ocean'],\n ['Series 1', ' 6. Australasia'],\n ['Series 1', ' 1. A Moment in the Sun - The Terrestrial Planets'],\n ['Series 1', ' Episode 3'],\n ['Series 1', ' 2. Aliens: Are We Alone?'],\n ['Series 6', ' 3. Stroud Farmers’ Market'],\n ['Series 3', ' Episode 1'],\n ['Series 2', ' 3. Point to Pap'],\n ['Series 1', ' Episode 2'],\n ['Series 3', ' 2. A Mystical Journey'],\n ['Series 1', ' 2. What’s the Future for the Office?'],\n ['Series 1', ' Episode 2'],\n ['Series 1', ' 1. Autumn'],\n ['Series 2', ' Episode 5'],\n ['Series 6', ' 14. Shipbourne Farmers Market'],\n ['Series 6', ' 7. Lancashire Game & Country Festival'],\n ['Series 1', ' 6. Biohacking: Can You Build a Better You?'],\n ['Series 1', ' 1. A New Perspective'],\n ['Series 1', ' 1. The Quiet Power of Introverts'],\n ['Series 1', ' 2. Oceans: Out of the Blue'],\n ['Series 1', ' 5. Against All Odds'],\n ['Series 1', ' 1. Vaccines'],\n ['Series 1', ' 2. The Frozen North'],\n ['Series 6', ' 9. Edenbridge & Oxted Agricultural Show'],\n ['Series 8 Reversions', ' 13. The Joy of Coast'],\n ['Series 1', ' Episode 1'],\n ['Series 6', ' 15. Staffordshire County Show'],\n ['Series 6', ' 5. Blenheim Palace Food Festival'],\n ['Series 1', ' Episode 2'],\n ['Series 1', ' 5. Fermanagh'],\n ['Series 10', ' Episode 1'],\n ['Series 10', ' Episode 2'],\n ['Series 1', ' 1. Pulse'],\n ['Series 1', ' 3. Data'],\n ['Series 1', ' 2. Understanding'],\n ['Series 1', \" 1. A Shark's Tale\"],\n ['Series 1', ' 5. Power'],\n ['Series 6', ' 10. Vacuums'],\n ['Series 5 (Shortened Versions)', ' 11. Harlech to Criccieth'],\n ['Series 1', ' Episode 1'],\n ['Series 1', ' Episode 4'],\n ['Series 4', ' Episode 5'],\n ['Series 1', ' 3. Jungles: In the Thick of It'],\n ['Series 6', ' 13. Macclesfield Sheep Dog Trials'],\n ['Series 2', ' Cutdowns: Episode 3'],\n ['Series 1 (Shorts)', ' Episode 9'],\n ['Series 1', ' Episode 1'],\n ['Series 1', ' 8. Lough Erne'],\n ['Series 1', ' 4. Living in Space'],\n ['Series 1', ' 5. Welcome to the Smart City of the Future'],\n ['Series 1', ' Episode 2'],\n ['Series 1', ' 5. Exodus'],\n ['Series 1', ' Episode 1'],\n ['Series 1', ' Episode 2'],\n ['Series 10', ' Episode 1'],\n ['Series 1', ' 4. Why Impostor Syndrome Can Be a Strength'],\n ['Series 2', ' Episode 3'],\n ['Series 1', ' Episode 8'],\n ['Series 1', ' 4. North East Coast'],\n ['Series 1', ' Episode 3'],\n ['Series 1', ' 3. North West'],\n ['Series 1', ' 8. Earth from Space'],\n ['Series 1 (Shorts)', ' Episode 8'],\n ['Series 1', ' 5. Into the Darkness: Ice Worlds'],\n ['Series 1', ' 1. Intrigue'],\n ['Series 1', ' 2. The Sun'],\n ['Series 1', ' 2. Family Matters'],\n ['Series 1', ' Episode 3'],\n ['Series 1', ' 1. Madagascar'],\n ['Series 1', ' 3. Hawaii'],\n ['Series 1', ' 1. The Space Race'],\n ['Series 3 Compilations',\n  ' 1. Lost in a Landscape and The Wild Way of the North'],\n ['Series 6', ' 4. Ashbourne Show'],\n ['Series 1', ' 3. Asia'],\n ['Series 1', ' Episode 12'],\n ['Series 1', ' 4. What Is Time?'],\n ['Series 2', ' Episode 9'],\n ['Series 3', ' Episode 2'],\n ['Series 1 (Shorts)', ' Episode 6'],\n ['Series 1', ' 4. Freshwater: Timing Is Everything'],\n ['Series 1', ' Episode 1'],\n ['Series 6', ' 19. Guildford Farmers’ Market'],\n ['Series 1', ' 3. Invasion'],\n ['Series 1', ' 1. Legends of the West'],\n ['Series 1', ' 3. Protecting Primates'],\n ['Series 1', ' 5. North America'],\n ['Series 1', ' 5. A Rock and a Hard Place'],\n ['Series 1', ' 4. Eskdale'],\n ['Series 1', ' 8. The Nuclear Dilemma'],\n ['Series 1', ' 9. Loch Coruisk'],\n ['Series 1', ' 2. The Two Sisters - Earth and Mars'],\n ['Series 6', ' 11. Mid-Somerset Show'],\n ['Series 1', ' Episode 3'],\n ['Series 6', ' Mugs'],\n ['Series 1', ' Episode 6'],\n ['Series 1', ' 2. Medical Drugs'],\n ['Series 1', ' 5. Con Artists'],\n ['Series 1', ' 1. Tropical Worlds'],\n ['Series 1', \" 1. Will we all Live in 'Plyscrapers' in the Future?\"],\n ['Series 1', ' Episode 2'],\n ['Series 1', ' Episode 1'],\n ['Series 1', ' 6. An Enchanted Land'],\n ['Series 10', ' Episode 2'],\n ['Series 1', ' 3. Lake District'],\n ['Series 1', ' Episode 2'],\n ['Series 1', ' 2. Asia'],\n ['Series 1', ' 3. Lion'],\n ['Series 1', ' 4. Through the Rough Bounds'],\n ['Series 4', ' Episode 3'],\n ['Series 1', ' 1. Protect & Restore Nature'],\n ['Series 1', ' Episode 2'],\n ['Series 1', ' Episode 1'],\n ['Series 3', ' 28/03/1987'],\n ['Series 7', ' Christmas Cards'],\n ['Series 1', ' 6. Coasts'],\n ['Series 1', ' 1. Antarctica'],\n ['Series 1', ' 5. Courtship'],\n ['Series 1', ' 3. Why Do Humans Laugh?'],\n ['Series 1', ' 7. Britain and Ireland'],\n ['Series 1', ' Episode 1'],\n ['Series 1', \" 2. What Happens to Humans When We Can't Touch?\"],\n ['Series 1', ' 1. Grasslands: In Plain Sight'],\n ['Series 1', ' 6. Barra On The Foyle'],\n ['Series 1', ' 6. Aliens'],\n ['Series 6', ' 4. Malt Loaf'],\n ['Series 1', ' 4. Revive Our Oceans'],\n ['Series 1', ' Episode 4'],\n ['Series 1', ' 2. Borneo'],\n ['Series 1', ' 1. Windermere'],\n ['Series 1', ' Episode 4'],\n ['Series 1', ' Episode 2'],\n ['Series 2', ' Episode 6'],\n ['Series 1', ' Episode 9'],\n ['Series 1', ' Episode 3'],\n ['Series 1 (Shorts)', ' Episode 3'],\n ['Series 1', ' 3. Builders'],\n ['Series 1', ' 2. Tyrone'],\n ['Series 1', ' Episode 6'],\n ['Series 8 Reversions', ' 2. Joy of the Coast 1'],\n ['Series 6', ' 2. Royal Cheshire County Show'],\n ['Series 1', ' 3. Crisis'],\n ['Series 1 (Shorts)', ' Episode 7'],\n ['Series 1', ' 1. Awakenings'],\n ['Series 1 (Shorts)', ' Episode 10'],\n ['Series 1', ' 2. Great Barrier Reef'],\n ['Series 6', ' 16. Mid Devon Show'],\n ['Series 1', ' Episode 1'],\n ['Series 6', ' 6. Mid Devon Show'],\n ['Series 1', ' Episode 6'],\n ['Series 1', ' 4. Painted Wolf'],\n ['Series 1', ' Episode 1'],\n ['Series 6', ' 1. Edenbridge and Oxted Agricultural Show'],\n ['Series 1', ' 2. Snowdonia'],\n ['Series 1', ' 2. Conflict'],\n ['Series 6', ' Chairs'],\n ['Series 1', ' 3. Clean Our Air'],\n ['Series 1', ' Episode 1'],\n ['Series 22', ' The Race to Mars'],\n ['Series 1', ' Episode 4'],\n ['Series 2', ' Episode 1'],\n ['Series 1', ' 4. Behaviour'],\n ['Series 1', ' Episode 3'],\n ['Series 6', ' 12. Lewes Farmers Market'],\n ['Series 1', ' Episode 1'],\n ['Series 6', ' Ice Cream'],\n ['Series 1', ' 7. Armagh'],\n ['Series 1', ' Episode 4'],\n ['Series 1', ' Episode 3'],\n ['Series 1', ' Episode 11'],\n ['Series 1', ' 1. Carlingford'],\n ['Series 1', ' Episode 2'],\n ['Series 1', ' 3. Seasonal Worlds'],\n ['Series 2', ' Episode 7'],\n ['Series 1', ' 5. The Big Bang: Before the Dawn'],\n ['Series 4', ' Episode 4'],\n ['Series 1', ' 1. Chimpanzee'],\n ['Series 1', ' 3. South America'],\n ['Series 1', ' 5. Humans'],\n ['Series 6', ' 20. The Royal Cheshire County Show'],\n ['Series 1 (Shorts)', ' Episode 1'],\n ['Series 2', ' Episode 2'],\n ['Series 1', ' 6. Rebirth'],\n ['Series 2', ' 1. Gaylet Pot'],\n ['Series 3', ' 1. Tea Bags'],\n ['Series 2', ' Episode 2'],\n ['Series 1', ' Episode 7'],\n ['Series 1', ' 6. Western Isles'],\n ['Series 6', ' Leather Boots'],\n ['Series 6', ' 18. Staffordshire County Show'],\n ['Series 1', ' 4. Power'],\n ['Series 1', ' 10. Built for Space'],\n ['Series 1', ' Episode 2'],\n ['Series 1', ' Episode 1'],\n ['Series 1', ' Episode 2'],\n ['Series 10', ' Episode 4'],\n ['Series 1', ' 2. Hiding in Colour'],\n ['Series 1', ' 3. What Is Gravity?'],\n ['Series 10', ' Episode 8'],\n ['Series 2', ' Episode 1'],\n ['Series 10', ' Episode 5'],\n ['Series 1', ' 2. Communicators'],\n ['Series 1', ' 3. What if the Whole World Went Vegan?'],\n ['Series 1', ' Episode 5'],\n ['Series 1', ' 5. When Things Go Wrong'],\n ['Series 1', ' 1. Seeing in Colour'],\n ['Series 1', ' 8. Land of the Tiger'],\n ['Series 1', ' 7. Our Blue Planet'],\n ['Series 1', ' 2. Emperor'],\n ['Series 1', ' Episode 3'],\n ['Series 1', ' 1. Space: How Far Can We Go?'],\n ['Series 1', ' 3. The Milky Way: Island of Light'],\n ['Series 1', ' Episode 7'],\n ['Series 1', ' 2. Experiments in Space'],\n ['Series 1', ' 4. Leadership'],\n ['Series 1', ' Episode 1'],\n ['Series 2', ' Cutdowns: Episode 2'],\n ['Series 1', ' 2. The Deep'],\n ['Series 1', ' 6. What if Everyone in the World Planted a Tree?'],\n ['Series 2', ' 1. Written in Stone'],\n ['Series 2', ' Episode 10'],\n ['Series 2 Reversions', ' Episode 3'],\n ['Series 1', ' Episode 5'],\n ['Series 1', ' Episode 10'],\n ['Series 2', ' Episode 4'],\n ['Series 2', ' 4. Under Wide Skies'],\n ['Series 1', ' Episode 2'],\n ['Series 1', ' 6. Part Six - Are We Pigeon? Or Are We Dancer?'],\n ['Series 1', ' Education'],\n ['Series 1', ' Episode 2'],\n ['Series 4 - Celebrity Specials', ' Episode 1'],\n ['Series 23', ' Episode 2'],\n ['Series 2', ' Episode 4'],\n ['Series 11', ' Episode 11'],\n ['Series 3', ' Episode 1'],\n ['Series 14', ' Episode 6'],\n ['Series 9', ' 3. USA Special'],\n ['Series 26', ' Episode 33'],\n ['Series 1', ' 5. Minos and Iona'],\n ['Series 10', ' Episode 14'],\n ['Series 14', ' 11. The Best Bits'],\n ['Series 1', ' 4. Isaac & Luke'],\n ['Series 13', ' Episode 12'],\n ['Series 29', ' Episode 8'],\n ['Series 14', ' Episode 7'],\n ['Series 3', ' Episode 3'],\n ['Series 29', ' Episode 4'],\n ['Series 2', ' Episode 15'],\n ['Series 29', ' Episode 7'],\n ['Series 1', ' Episode 24'],\n ['Series 4', ' Episode 4'],\n ['Series 19', ' Week 6 Results'],\n ['Series 1', ' Episode 4'],\n ['Series 3', ' Episode 6'],\n ['Series 2', ' 3. Lunchbox On Wheels'],\n ['Series 2', ' 1. Bristol/Eclectic Electric'],\n ['Series 1', ' Episode 4'],\n ['Series 10', ' Episode 6'],\n ['Series 4 - Celebrity Specials', ' Episode 6'],\n ['Series 18', ' Episode 6'],\n ['Series 7', ' Episode 6'],\n ['Series 12', ' Episode 2'],\n ['Series 15', ' Episode 5'],\n ['Series 3', ' 11/03/2022'],\n ['Series 10', ' Episode 10'],\n ['Series 1', ' 8. Thank U, Next'],\n ['Series 1', ' Episode 6'],\n ['Series 28', ' Episode 21'],\n ['Series 5', ' Episode 2'],\n ['Series 3', ' Episode 4'],\n ['Series 1', ' Episode 20'],\n ['Series 29', ' Episode 4'],\n ['Series 30', ' Episode 1'],\n ['Series 3', ' 24/02/2022'],\n ['Series 1', ' Episode 5'],\n ['Series 29', ' Episode 2'],\n ['Series 2', ' 1. Group 1: Week 1'],\n ['Series 19', ' Week 4'],\n ['Series 1', ' 4. Birmingham Untucked'],\n ['Series 16', ' 5. Gaming'],\n ['Series 15', ' 19/05/2021'],\n ['Series 1', ' Episode 3'],\n ['Series 1', ' Episode 4'],\n ['Series 26', ' Episode 45'],\n ['Series 16', ' Episode 19'],\n ['Series 7', ' 7. Winter Olympics Special'],\n ['Series 21', ' Episode 22'],\n ['Series 16', ' 6. Wales'],\n ['Series 23', ' Episode 21'],\n ['Series 2', ' Episode 9'],\n ['Series 25', ' Episode 5'],\n ['Series 24', ' Episode 25'],\n ['Series 3', ' Episode 6'],\n ['Series 2', ' 4. Cardiff'],\n ['Series 1', ' Episode 16'],\n ['Series 19', ' Episode 10'],\n ['Series 16', ' Episode 2'],\n ['Series 1', ' Episode 23'],\n ['Series 17', ' 16. Ramblers v Data Wizards'],\n ['Series 17 Specials',\n  ' 2. The Birds and the Bees: Birdwatchers v Beekeepers'],\n ['Series 14', ' Episode 15'],\n ['Series 15', ' Episode 12'],\n ['Series 14', ' Episode 18'],\n ['Series 1', ' Episode 4'],\n ['Series 17', ' 13. Librarians v Animal Lovers'],\n ['Series 12', ' Episode 7'],\n ['Series 17', ' 7. Ramblers v Woolgatherers'],\n ['Series 18', ' Episode 11'],\n ['Series 3', ' Episode 3'],\n ['Series 28', ' Episode 23'],\n ['Series 27', ' Episode 2'],\n ['Series 3', ' Episode 2'],\n ['Series 2', ' Episode 7'],\n ['Series 2', ' 1. Halloween'],\n ['Series 10', ' Episode 17'],\n ['Series 1', ' Episode 4'],\n ['Series 4', ' Episode 2'],\n ['Series 13', ' Episode 6'],\n ['Series 19', ' Episode 25'],\n ['Series 17', ' Episode 9'],\n ['Series 4', ' Episode 1'],\n ['Series 2 - Celebrity Specials',\n  ' 2. Kadeena Cox and Tes / Sam Gowland and Georgia Harrison'],\n ['Series 1', ' 2. Passions'],\n ['Series 17 Specials', ' 4. Champions: 007s v Puzzle Hunters'],\n ['Series 21', ' Episode 21'],\n ['Series 19', ' Week 12'],\n ['Series 14', ' Episode 1'],\n ['Series 1', ' 9. Ink'],\n ['Series 5', ' Episode 9'],\n ['Series 17', ' 6. Debuggers v Steelers'],\n ['Series 5', ' Week 16: Wednesday'],\n ['Series 12', ' Episode 4'],\n ['Series 10', ' Episode 10'],\n ['Series 2', ' 4. Fresh'],\n ['Series 2', ' Episode 5'],\n ['Series 1', ' 2. How Many Slaves Do You Own?'],\n ['Series 21', ' Episode 25'],\n ['Series 1', ' Episode 1'],\n ['Series 3', ' 28/02/2022'],\n ['Series 19', ' Episode 58'],\n ['Series 28', ' Episode 19'],\n ['Series 2', ' 3. Manchester'],\n ['Series 1', ' Episode 5'],\n ['Series 14', ' Strictly'],\n ['Series 1', ' 1. Mess Rehearsals'],\n ['Series 13', ' Episode 22'],\n ['Series 4', ' Episode 12'],\n ['Series 3', ' 23/02/2022'],\n ['Series 18', ' Episode 1'],\n ['Series 29', ' Episode 18'],\n ['Series 26', ' Episode 31'],\n ['Series 3', ' 04/03/2022'],\n ['Series 4 - Celebrity Specials', ' Episode 2'],\n ['Series 14', ' Episode 9'],\n ['Series 1', ' 8. Essex'],\n ['Series 60', ' Detling 20'],\n ['Series 2', ' 2. Super Keeks'],\n ['Series 3', ' 09/03/2022'],\n ['Series 19', ' Episode 48'],\n ['Series 15', ' Episode 6'],\n ['Series 13', ' Episode 18'],\n ['Series 5', ' 84. Champions Week 1: Thursday'],\n ['Series 7', ' Episode 1'],\n ['Series 1', ' 5. Therapy For The Mind'],\n ['Series 8', ' Episode 13'],\n ['Series 4', ' 7. Puzzling Patterns and Pattern Cutting'],\n ['Series 24', ' Episode 3'],\n ['Series 26', ' Episode 38'],\n ['Series 6', ' Episode 11'],\n ['Series 6', ' Episode 10'],\n ['Series 18', ' Episode 1'],\n ['Series 30', ' Episode 2'],\n ['Series 6', ' Episode 4'],\n ['Series 5', ' 100. Champions Week 4: Friday'],\n ['Series 1', ' 2. Magic In The Garden'],\n ['Series 26', ' Episode 32'],\n ['Series 3', ' 27/01/2022'],\n ['Series 7', ' Episode 4'],\n ['Series 2', ' Episode 9'],\n ['Series 15', ' Episode 2'],\n ['Series 2', ' 8. Prom'],\n ['Series 1', ' Episode 5'],\n ['Series 2', ' 1. Birmingham'],\n ['Series 13', ' Episode 23'],\n ['Series 2', ' Episode 2'],\n ['Series 1', ' Episode 6'],\n ['Series 1', ' Episode 7'],\n ['Series 2', ' Episode 3'],\n ['Series 2', ' Episode 5'],\n ['Series 4', ' Episode 8'],\n ['Series 1', ' Episode 1'],\n ['Series 12', ' Episode 21'],\n ['Series 10', ' Episode 5'],\n ['Series 3', ' Episode 8'],\n ['Series 1', ' 2. Amber & Pat'],\n ['Series 1', ' Episode 4'],\n ['Series 19', ' Episode 41'],\n ['Series 19', ' Week 4 Results'],\n ['Series 1', ' Episode 1'],\n ['Series 12', ' Episode 12'],\n ['Series 3', ' Episode 2'],\n ['Series 2', ' Christmas Special'],\n ['Series 4', ' Episode 10'],\n ['Series 24', ' Episode 15'],\n ['Series 1', ' Episode 7'],\n ['Series 1', ' Episode 7'],\n ['Series 18', ' Episode 2'],\n ['Series 10', ' Episode 22'],\n ['Series 10', ' Episode 2'],\n ['Series 2', ' 3. You Do You'],\n ['Series 2', ' 8. Emotions and Promotions'],\n ['Series 3', ' Big Tyne: 4. \"Do you wanna shave your leg, or shall I?\"'],\n ['Series 14', ' Episode 8'],\n ['Series 1', ' Final'],\n ['Series 1', ' 5. Feel the bass'],\n ['Series 15', ' Episode 1'],\n ['Series 2', ' Episode 3'],\n ['Series 1', ' 3. Date Night'],\n ['Series 17', ' Episode 6'],\n ['Series 24', ' Episode 17'],\n ['Series 2', ' 2. Group 1: Week 2'],\n ['Series 17', ' 12. Godyn Family v Woolgatherers'],\n ['Series 27', ' Episode 5'],\n ['Series 1', ' Episode 4'],\n ['Series 3', ' 08/03/2022'],\n ['Series 29', ' Episode 1'],\n ['Series 6', ' Episode 5'],\n ['Series 1', ' 4. Why Are We So Anxious?'],\n ['Series 2', ' 1. Lost and Fierce'],\n ['Series 2', ' Episode 8'],\n ['Series 14', ' Episode 19'],\n ['Series 14', ' 10. The Unseen Bits'],\n ['Series 19', ' Episode 43'],\n ['Series 26', ' Episode 3'],\n ['Series 30', ' Episode 4'],\n ['Series 27', ' Episode 3'],\n ['Series 1', ' Episode 49'],\n ['Series 10', ' Episode 9'],\n ['Series 12', ' Episode 5'],\n ['Series 1', ' Episode 47'],\n ['Series 14', ' Episode 12'],\n ['Series 19', ' Week 5 Results'],\n ['Series  61', ' Ardingly 1'],\n ['Series 21', ' 6. Burma Special - Part 1'],\n ['Series 16', ' Meet the Candidates'],\n ['Series 16', ' Episode 24'],\n ['Series 1', ' Episode 5'],\n ['Series 17', ' 22. Golfers v Scrubs'],\n ['Series 23', ' Episode 24'],\n ['Series 3',\n  ' Big Tyne: 6. \"I looked like Phil Mitchell \\'til I was about three\"'],\n ['Series 3', ' 24/01/2022'],\n ['Series 11', ' Episode 6'],\n ['Series 1', ' Episode 8'],\n ['Series 6', ' Episode 7'],\n ['Series 1', ' Episode 15'],\n ['Series 5', ' Week 18: Friday'],\n ['Series 1', ' Episode 43'],\n ['Series 1', ' Episode 8'],\n ['Series 13', ' Episode 2'],\n ['Series 17', ' 19. Godyn Family v Ramblers'],\n ['Series 29', ' Episode 15'],\n ['Series 16', ' Episode 11'],\n ['Series 10', ' Episode 15'],\n ['Series 12', ' Episode 20'],\n ['Series 15', ' Episode 2'],\n ['Series 3', ' Episode 1'],\n ['Series 1', ' 1. Life in the Fast Lane'],\n ['Series 16', ' Episode 7'],\n ['Series 4', ' Episode 4'],\n ['Series 4', ' 3. Lingerie Week'],\n ['Series 1', ' 7. Miss Loose Jaw'],\n ['Series 1', ' Episode 6'],\n ['Series 3 - Celebrity Specials', ' Episode 1'],\n ['Series 28', ' Episode 20'],\n ['Series 15', ' Episode 7'],\n ['Series 1', ' 1. Strictly Special'],\n ['Series 1', ' 4. Scotland Heat'],\n ['Series 27', ' Episode 4'],\n ['Series 1', ' 5. Sleeper'],\n ['Series 15', ' 02/06/2021'],\n ['Series 14', ' Episode 12'],\n ['Series 3', ' Episode 9'],\n ['Series 1', ' Episode 3'],\n ['Series 4 - Celebrity Specials', ' Christmas Special'],\n ['Series 1', ' 5. Lewis'],\n ['Series 4', ' Episode 2'],\n ['Series 1', ' 2. NI Heat'],\n ['Series 19', ' Episode 28'],\n ['Series 12', ' Episode 1'],\n ['Series 1', ' Episode 10'],\n ['Series 20', ' Episode 2'],\n ['Series 15', ' Episode 10'],\n ['Series 13', ' Episode 3'],\n ['Series 1', ' Episode 48'],\n ['Series 10', ' Episode 1'],\n ['Series 14', ' Olympics and Paralympics'],\n ['Series 16', ' Episode 17'],\n ['Series 1', ' Episode 4'],\n ['Series 3', ' Episode 2'],\n ['Series 13', ' Episode 2'],\n ['Series 21', ' Episode 29'],\n ['Series 23', ' Episode 23'],\n ['Series 14', ' Presenters'],\n ['Series 1', ' 10. Christmas Special'],\n ['Series 1', ' Episode 7'],\n ['Series 1', ' Best Bits'],\n ['Series 51', ' Episode 24'],\n ['Series 2', ' 7. Making It Work'],\n ['Series 1', ' Episode 5'],\n ['Series 1', ' 6. Hopes and Dreams'],\n ['Series 29', ' Episode 13'],\n ['Series 2', ' Episode 6'],\n ['Series 1', ' 2. Kelsi and Hassan'],\n ['Series 13', ' Episode 1'],\n ['Series 1', ' 1. Buggy'],\n ['Series 21', ' Episode 16'],\n ['Series 2', ' 10. The Babe Magnet'],\n ['Series 16', ' 7. Pods'],\n ['Series 28', ' Episode 5'],\n ['Series 2', ' Episode 1'],\n ['Series 29', ' Episode 1'],\n ['Series 27', ' Episode 3'],\n ['Series 2', ' Episode 7'],\n ['Series 9', ' Episode 6'],\n ['Series S', ' 4. Sideshows, Stunts & Scavenger Hunts'],\n ['Series 5', ' Episode 6'],\n ['Series 24', ' Episode 24'],\n ['Series 19', ' Week 2 Results'],\n ['Series 1', ' 3. Robbie and Saf'],\n ['Series 10', ' Episode 8'],\n ['Series 14', ' Episode 4'],\n ['Series 2', ' 10. The Crossroads'],\n ['Series 1', ' Semi-Final 2'],\n ['Series 16', ' Episode 10'],\n ['Series 4', \" 2. Children's Week\"],\n ['Series 24', ' Episode 16'],\n ['Series 2', ' Episode 5'],\n ['Series 24', ' Episode 6'],\n ['Series 17', ' 28. The Final'],\n ['Series 1', ' Episode 14'],\n ['Series 3', ' Episode 1'],\n ['Series 60', ' Newark 14'],\n ['Series 1', ' 4. I’m not the best driver in the world'],\n ['Series 3', ' Episode 1'],\n ['Series 60', ' Malvern 31'],\n ['Series 2', ' Episode 3'],\n ['Series 1', ' Episode 50'],\n ['Series 1', ' Episode 2'],\n ['Series 19', ' Episode 31'],\n ['Series 17', ' Episode 8'],\n ['Series 16', ' Episode 6'],\n ['Series 23', ' Episode 19'],\n ['Series 29', ' Episode 3'],\n ['Series 2', ' 14. Happy and Hungover'],\n ['Series 2', ' 4. I don’t know what I’d do without Penny'],\n ['Series 16', ' Episode 4'],\n ['Series 4', ' Episode 1'],\n ['Series 18', ' Episode 7'],\n ['Series 14', ' Kids TV'],\n ['Series 2', ' Episode 2'],\n ['Series 14', ' Special'],\n ['Series 1', ' Episode 2'],\n ['Series 10', ' Episode 17'],\n ['Series 1', ' 1. Maisie Smith'],\n ['Series 1', ' 4. Bristol'],\n ['Series 15', ' Episode 9'],\n ['Series 1', ' 3. Dami'],\n ['Series S', ' 8. Seasons Greetings'],\n ['Series 1', ' 3. Leicestershire'],\n ['Series 3', ' 18/01/2022'],\n ['Series 1', ' Episode 2'],\n ['Series 15', ' Episode 5'],\n ['Series 16', ' Episode 13'],\n ['Series 13', ' Episode 24'],\n ['Series 10', ' Episode 4'],\n ['Series 4', ' Episode 7'],\n ['Series 13', ' Episode 1'],\n ['Series 3', ' 4. Fame and Fortune'],\n ...]"
     },
     "execution_count": 253,
     "metadata": {},
     "output_type": "execute_result"
    }
   ],
   "source": [
    "filter_series = [row.split(':', 1) for row in df['subtitle'] if row.startswith('Series')]\n",
    "filter_series"
   ],
   "metadata": {
    "collapsed": false,
    "pycharm": {
     "name": "#%%\n"
    }
   }
  },
  {
   "cell_type": "code",
   "execution_count": 266,
   "outputs": [
    {
     "data": {
      "text/plain": "                                    title  \\\n0      The 80s - Music’s Greatest Decade?   \n1                         Top of the Pops   \n2                               BBC Proms   \n3                                    Port   \n4      Sit Down, Stand Up with Greg James   \n...                                   ...   \n36883                     Bob the Builder   \n36886                           Go Buster   \n36891                         Chuggington   \n36893                      Justin's House   \n36897                Oti's Boogie Beebies   \n\n                                    subtitle  \\\n0              Series 1: 1. With Dylan Jones   \n1                                 02/07/1992   \n2      2021: Last Night of the Proms, Part 2   \n3                        Series 5: Episode 4   \n4                                       None   \n...                                      ...   \n36883              Series 8: 7. Ballroom Bob   \n36886           Stories: 5. Buster's Stories   \n36891       Badge Quest: 3. Rainbow Chuggers   \n36893            Series 2: 4. Going for Gold   \n36897              Series 1: 12. Upside Down   \n\n                                             description  \\\n0      Music author Dylan Jones argues that the 1980s...   \n1      With Arrested Development, Altern 8, Def Leppa...   \n2      Australian tenor Stuart Skelton is joined by L...   \n3      Previously unseen music from the series Port, ...   \n4      Tom Holland and Greg James cold call celebrity...   \n...                                                  ...   \n36883  Bob has been making secret early morning trips...   \n36886  Buster the bus has so many stories and adventu...   \n36891  The Chuggers need to solve a number of clues t...   \n36893  Justin's house hosts the Justinship Games, and...   \n36897  In this episode, Oti teaches us how to step an...   \n\n                                                   image  \\\n0      https://ichef.bbci.co.uk/images/ic/{recipe}/p0...   \n1      https://ichef.bbci.co.uk/images/ic/{recipe}/p0...   \n2      https://ichef.bbci.co.uk/images/ic/{recipe}/p0...   \n3      https://ichef.bbci.co.uk/images/ic/{recipe}/p0...   \n4      https://ichef.bbci.co.uk/images/ic/{recipe}/p0...   \n...                                                  ...   \n36883  https://ichef.bbci.co.uk/images/ic/{recipe}/p0...   \n36886  https://ichef.bbci.co.uk/images/ic/{recipe}/p0...   \n36891  https://ichef.bbci.co.uk/images/ic/{recipe}/p0...   \n36893  https://ichef.bbci.co.uk/images/ic/{recipe}/p0...   \n36897  https://ichef.bbci.co.uk/images/ic/{recipe}/p0...   \n\n                                                keywords  \\\n0      BBC, iPlayer, TV, The 80s - Music’s Greatest D...   \n1          BBC, iPlayer, TV, Top of the Pops, 02/07/1992   \n2      BBC, iPlayer, TV, BBC Proms, 2021: Last Night ...   \n3            BBC, iPlayer, TV, Port, Series 5: Episode 4   \n4      BBC, iPlayer, TV, Sit Down, Stand Up with Greg...   \n...                                                  ...   \n36883  BBC, iPlayer, TV, Bob the Builder, Series 8: 7...   \n36886  BBC, iPlayer, TV, Go Buster, Stories: 5. Buste...   \n36891  BBC, iPlayer, TV, Chuggington, Badge Quest: 3....   \n36893  BBC, iPlayer, TV, Justins House, Series 2: 4. ...   \n36897  BBC, iPlayer, TV, Otis Boogie Beebies, Series ...   \n\n                                                  syno_s  \\\n0      Music author Dylan Jones argues that the 1980s...   \n1      With Arrested Development, Altern 8, Def Leppa...   \n2      Australian tenor Stuart Skelton is joined by L...   \n3      Previously unseen music from the series Port, ...   \n4      Tom Holland and Greg James cold call celebrity...   \n...                                                  ...   \n36883  Bob has been making secret early morning trips...   \n36886  Buster the bus has so many stories and adventu...   \n36891  The Chuggers need to solve a number of clues t...   \n36893  Justin's house hosts the Justinship Games, and...   \n36897  In this episode, Oti teaches us how to step an...   \n\n                                                  syno_m  \\\n0      Music writer Dylan Jones puts the case that th...   \n1      Tony Dortie presents the pop chart programme, ...   \n2      Australian tenor Stuart Skelton is joined by L...   \n3      Julie Fowlis a’ lìbhrigeadh ceòl bhon t-sreath...   \n4      Tom Holland and Greg James cold call celebrity...   \n...                                                  ...   \n36883  Bob has been making secret early morning trips...   \n36886  Buster the bus has so many stories and adventu...   \n36891  Koko, Wilson and Brewster learn new skills and...   \n36893  Justin Fletcher entertains children with singi...   \n36897  Series for young children getting them to join...   \n\n                                                  syno_l       category  \\\n0      Eighties music is often dismissed as a joke - ...          Music   \n1      Tony Dortie presents the pop chart programme, ...          Music   \n2      Katie Derham hosts continued live coverage fro...          Music   \n3      Bidh Druthag Bheag Eile a’ tarraing ri chèile ...          Music   \n4      Tom Holland and Greg James cold call celebrity...  Entertainment   \n...                                                  ...            ...   \n36883  Bob has been making secret early morning trips...       CBeebies   \n36886  Buster the bus has so many stories and adventu...       CBeebies   \n36891  Koko, Wilson and Brewster learn new skills and...       CBeebies   \n36893  Justin Fletcher entertains a live audience of ...       CBeebies   \n36897  Series for young children getting them to join...       CBeebies   \n\n               channel language release_date  duration_min  \\\n0              BBC TWO    False         2021            59   \n1              BBC ONE    False         1992            29   \n2      BBC RADIO THREE    False         2021            87   \n3             BBC ALBA    False         2020            17   \n4        BBC RADIO ONE    False         2022            10   \n...                ...      ...          ...           ...   \n36883         CBEEBIES    False         2003            10   \n36886         CBEEBIES    False         2021            26   \n36891         CBEEBIES    False         2010             4   \n36893         CBEEBIES    False         2012            24   \n36897         CBEEBIES    False         2020             5   \n\n                          topic  \\\n0          music, documentaries   \n1                         music   \n2      music, from-the-archives   \n3                         music   \n4          music, entertainment   \n...                         ...   \n36883                  cbeebees   \n36886                  cbeebees   \n36891                  cbeebees   \n36893                  cbeebees   \n36897                  cbeebees   \n\n                                                 image_l  \\\n0      https://ichef.bbci.co.uk/images/ic/352x198/p09...   \n1      https://ichef.bbci.co.uk/images/ic/352x198/p0b...   \n2      https://ichef.bbci.co.uk/images/ic/352x198/p09...   \n3      https://ichef.bbci.co.uk/images/ic/352x198/p08...   \n4      https://ichef.bbci.co.uk/images/ic/352x198/p0b...   \n...                                                  ...   \n36883  https://ichef.bbci.co.uk/images/ic/352x198/p08...   \n36886  https://ichef.bbci.co.uk/images/ic/352x198/p09...   \n36891  https://ichef.bbci.co.uk/images/ic/352x198/p08...   \n36893  https://ichef.bbci.co.uk/images/ic/352x198/p09...   \n36897  https://ichef.bbci.co.uk/images/ic/352x198/p08...   \n\n                                                image_xl   first_part  \\\n0      https://ichef.bbci.co.uk/images/ic/1200x675/p0...     Series 1   \n1      https://ichef.bbci.co.uk/images/ic/1200x675/p0...         None   \n2      https://ichef.bbci.co.uk/images/ic/1200x675/p0...         2021   \n3      https://ichef.bbci.co.uk/images/ic/1200x675/p0...     Series 5   \n4      https://ichef.bbci.co.uk/images/ic/1200x675/p0...         None   \n...                                                  ...          ...   \n36883  https://ichef.bbci.co.uk/images/ic/1200x675/p0...     Series 8   \n36886  https://ichef.bbci.co.uk/images/ic/1200x675/p0...      Stories   \n36891  https://ichef.bbci.co.uk/images/ic/1200x675/p0...  Badge Quest   \n36893  https://ichef.bbci.co.uk/images/ic/1200x675/p0...     Series 2   \n36897  https://ichef.bbci.co.uk/images/ic/1200x675/p0...     Series 1   \n\n                            second_part    series               episode  \n0                   1. With Dylan Jones  Series 1   1. With Dylan Jones  \n1                                  None      None                  None  \n2       Last Night of the Proms, Part 2      None                  None  \n3                             Episode 4  Series 5             Episode 4  \n4                                  None      None                  None  \n...                                 ...       ...                   ...  \n36883                   7. Ballroom Bob  Series 8       7. Ballroom Bob  \n36886               5. Buster's Stories      None                  None  \n36891               3. Rainbow Chuggers      None                  None  \n36893                 4. Going for Gold  Series 2     4. Going for Gold  \n36897                   12. Upside Down  Series 1       12. Upside Down  \n\n[22757 rows x 20 columns]",
      "text/html": "<div>\n<style scoped>\n    .dataframe tbody tr th:only-of-type {\n        vertical-align: middle;\n    }\n\n    .dataframe tbody tr th {\n        vertical-align: top;\n    }\n\n    .dataframe thead th {\n        text-align: right;\n    }\n</style>\n<table border=\"1\" class=\"dataframe\">\n  <thead>\n    <tr style=\"text-align: right;\">\n      <th></th>\n      <th>title</th>\n      <th>subtitle</th>\n      <th>description</th>\n      <th>image</th>\n      <th>keywords</th>\n      <th>syno_s</th>\n      <th>syno_m</th>\n      <th>syno_l</th>\n      <th>category</th>\n      <th>channel</th>\n      <th>language</th>\n      <th>release_date</th>\n      <th>duration_min</th>\n      <th>topic</th>\n      <th>image_l</th>\n      <th>image_xl</th>\n      <th>first_part</th>\n      <th>second_part</th>\n      <th>series</th>\n      <th>episode</th>\n    </tr>\n  </thead>\n  <tbody>\n    <tr>\n      <th>0</th>\n      <td>The 80s - Music’s Greatest Decade?</td>\n      <td>Series 1: 1. With Dylan Jones</td>\n      <td>Music author Dylan Jones argues that the 1980s...</td>\n      <td>https://ichef.bbci.co.uk/images/ic/{recipe}/p0...</td>\n      <td>BBC, iPlayer, TV, The 80s - Music’s Greatest D...</td>\n      <td>Music author Dylan Jones argues that the 1980s...</td>\n      <td>Music writer Dylan Jones puts the case that th...</td>\n      <td>Eighties music is often dismissed as a joke - ...</td>\n      <td>Music</td>\n      <td>BBC TWO</td>\n      <td>False</td>\n      <td>2021</td>\n      <td>59</td>\n      <td>music, documentaries</td>\n      <td>https://ichef.bbci.co.uk/images/ic/352x198/p09...</td>\n      <td>https://ichef.bbci.co.uk/images/ic/1200x675/p0...</td>\n      <td>Series 1</td>\n      <td>1. With Dylan Jones</td>\n      <td>Series 1</td>\n      <td>1. With Dylan Jones</td>\n    </tr>\n    <tr>\n      <th>1</th>\n      <td>Top of the Pops</td>\n      <td>02/07/1992</td>\n      <td>With Arrested Development, Altern 8, Def Leppa...</td>\n      <td>https://ichef.bbci.co.uk/images/ic/{recipe}/p0...</td>\n      <td>BBC, iPlayer, TV, Top of the Pops, 02/07/1992</td>\n      <td>With Arrested Development, Altern 8, Def Leppa...</td>\n      <td>Tony Dortie presents the pop chart programme, ...</td>\n      <td>Tony Dortie presents the pop chart programme, ...</td>\n      <td>Music</td>\n      <td>BBC ONE</td>\n      <td>False</td>\n      <td>1992</td>\n      <td>29</td>\n      <td>music</td>\n      <td>https://ichef.bbci.co.uk/images/ic/352x198/p0b...</td>\n      <td>https://ichef.bbci.co.uk/images/ic/1200x675/p0...</td>\n      <td>None</td>\n      <td>None</td>\n      <td>None</td>\n      <td>None</td>\n    </tr>\n    <tr>\n      <th>2</th>\n      <td>BBC Proms</td>\n      <td>2021: Last Night of the Proms, Part 2</td>\n      <td>Australian tenor Stuart Skelton is joined by L...</td>\n      <td>https://ichef.bbci.co.uk/images/ic/{recipe}/p0...</td>\n      <td>BBC, iPlayer, TV, BBC Proms, 2021: Last Night ...</td>\n      <td>Australian tenor Stuart Skelton is joined by L...</td>\n      <td>Australian tenor Stuart Skelton is joined by L...</td>\n      <td>Katie Derham hosts continued live coverage fro...</td>\n      <td>Music</td>\n      <td>BBC RADIO THREE</td>\n      <td>False</td>\n      <td>2021</td>\n      <td>87</td>\n      <td>music, from-the-archives</td>\n      <td>https://ichef.bbci.co.uk/images/ic/352x198/p09...</td>\n      <td>https://ichef.bbci.co.uk/images/ic/1200x675/p0...</td>\n      <td>2021</td>\n      <td>Last Night of the Proms, Part 2</td>\n      <td>None</td>\n      <td>None</td>\n    </tr>\n    <tr>\n      <th>3</th>\n      <td>Port</td>\n      <td>Series 5: Episode 4</td>\n      <td>Previously unseen music from the series Port, ...</td>\n      <td>https://ichef.bbci.co.uk/images/ic/{recipe}/p0...</td>\n      <td>BBC, iPlayer, TV, Port, Series 5: Episode 4</td>\n      <td>Previously unseen music from the series Port, ...</td>\n      <td>Julie Fowlis a’ lìbhrigeadh ceòl bhon t-sreath...</td>\n      <td>Bidh Druthag Bheag Eile a’ tarraing ri chèile ...</td>\n      <td>Music</td>\n      <td>BBC ALBA</td>\n      <td>False</td>\n      <td>2020</td>\n      <td>17</td>\n      <td>music</td>\n      <td>https://ichef.bbci.co.uk/images/ic/352x198/p08...</td>\n      <td>https://ichef.bbci.co.uk/images/ic/1200x675/p0...</td>\n      <td>Series 5</td>\n      <td>Episode 4</td>\n      <td>Series 5</td>\n      <td>Episode 4</td>\n    </tr>\n    <tr>\n      <th>4</th>\n      <td>Sit Down, Stand Up with Greg James</td>\n      <td>None</td>\n      <td>Tom Holland and Greg James cold call celebrity...</td>\n      <td>https://ichef.bbci.co.uk/images/ic/{recipe}/p0...</td>\n      <td>BBC, iPlayer, TV, Sit Down, Stand Up with Greg...</td>\n      <td>Tom Holland and Greg James cold call celebrity...</td>\n      <td>Tom Holland and Greg James cold call celebrity...</td>\n      <td>Tom Holland and Greg James cold call celebrity...</td>\n      <td>Entertainment</td>\n      <td>BBC RADIO ONE</td>\n      <td>False</td>\n      <td>2022</td>\n      <td>10</td>\n      <td>music, entertainment</td>\n      <td>https://ichef.bbci.co.uk/images/ic/352x198/p0b...</td>\n      <td>https://ichef.bbci.co.uk/images/ic/1200x675/p0...</td>\n      <td>None</td>\n      <td>None</td>\n      <td>None</td>\n      <td>None</td>\n    </tr>\n    <tr>\n      <th>...</th>\n      <td>...</td>\n      <td>...</td>\n      <td>...</td>\n      <td>...</td>\n      <td>...</td>\n      <td>...</td>\n      <td>...</td>\n      <td>...</td>\n      <td>...</td>\n      <td>...</td>\n      <td>...</td>\n      <td>...</td>\n      <td>...</td>\n      <td>...</td>\n      <td>...</td>\n      <td>...</td>\n      <td>...</td>\n      <td>...</td>\n      <td>...</td>\n      <td>...</td>\n    </tr>\n    <tr>\n      <th>36883</th>\n      <td>Bob the Builder</td>\n      <td>Series 8: 7. Ballroom Bob</td>\n      <td>Bob has been making secret early morning trips...</td>\n      <td>https://ichef.bbci.co.uk/images/ic/{recipe}/p0...</td>\n      <td>BBC, iPlayer, TV, Bob the Builder, Series 8: 7...</td>\n      <td>Bob has been making secret early morning trips...</td>\n      <td>Bob has been making secret early morning trips...</td>\n      <td>Bob has been making secret early morning trips...</td>\n      <td>CBeebies</td>\n      <td>CBEEBIES</td>\n      <td>False</td>\n      <td>2003</td>\n      <td>10</td>\n      <td>cbeebees</td>\n      <td>https://ichef.bbci.co.uk/images/ic/352x198/p08...</td>\n      <td>https://ichef.bbci.co.uk/images/ic/1200x675/p0...</td>\n      <td>Series 8</td>\n      <td>7. Ballroom Bob</td>\n      <td>Series 8</td>\n      <td>7. Ballroom Bob</td>\n    </tr>\n    <tr>\n      <th>36886</th>\n      <td>Go Buster</td>\n      <td>Stories: 5. Buster's Stories</td>\n      <td>Buster the bus has so many stories and adventu...</td>\n      <td>https://ichef.bbci.co.uk/images/ic/{recipe}/p0...</td>\n      <td>BBC, iPlayer, TV, Go Buster, Stories: 5. Buste...</td>\n      <td>Buster the bus has so many stories and adventu...</td>\n      <td>Buster the bus has so many stories and adventu...</td>\n      <td>Buster the bus has so many stories and adventu...</td>\n      <td>CBeebies</td>\n      <td>CBEEBIES</td>\n      <td>False</td>\n      <td>2021</td>\n      <td>26</td>\n      <td>cbeebees</td>\n      <td>https://ichef.bbci.co.uk/images/ic/352x198/p09...</td>\n      <td>https://ichef.bbci.co.uk/images/ic/1200x675/p0...</td>\n      <td>Stories</td>\n      <td>5. Buster's Stories</td>\n      <td>None</td>\n      <td>None</td>\n    </tr>\n    <tr>\n      <th>36891</th>\n      <td>Chuggington</td>\n      <td>Badge Quest: 3. Rainbow Chuggers</td>\n      <td>The Chuggers need to solve a number of clues t...</td>\n      <td>https://ichef.bbci.co.uk/images/ic/{recipe}/p0...</td>\n      <td>BBC, iPlayer, TV, Chuggington, Badge Quest: 3....</td>\n      <td>The Chuggers need to solve a number of clues t...</td>\n      <td>Koko, Wilson and Brewster learn new skills and...</td>\n      <td>Koko, Wilson and Brewster learn new skills and...</td>\n      <td>CBeebies</td>\n      <td>CBEEBIES</td>\n      <td>False</td>\n      <td>2010</td>\n      <td>4</td>\n      <td>cbeebees</td>\n      <td>https://ichef.bbci.co.uk/images/ic/352x198/p08...</td>\n      <td>https://ichef.bbci.co.uk/images/ic/1200x675/p0...</td>\n      <td>Badge Quest</td>\n      <td>3. Rainbow Chuggers</td>\n      <td>None</td>\n      <td>None</td>\n    </tr>\n    <tr>\n      <th>36893</th>\n      <td>Justin's House</td>\n      <td>Series 2: 4. Going for Gold</td>\n      <td>Justin's house hosts the Justinship Games, and...</td>\n      <td>https://ichef.bbci.co.uk/images/ic/{recipe}/p0...</td>\n      <td>BBC, iPlayer, TV, Justins House, Series 2: 4. ...</td>\n      <td>Justin's house hosts the Justinship Games, and...</td>\n      <td>Justin Fletcher entertains children with singi...</td>\n      <td>Justin Fletcher entertains a live audience of ...</td>\n      <td>CBeebies</td>\n      <td>CBEEBIES</td>\n      <td>False</td>\n      <td>2012</td>\n      <td>24</td>\n      <td>cbeebees</td>\n      <td>https://ichef.bbci.co.uk/images/ic/352x198/p09...</td>\n      <td>https://ichef.bbci.co.uk/images/ic/1200x675/p0...</td>\n      <td>Series 2</td>\n      <td>4. Going for Gold</td>\n      <td>Series 2</td>\n      <td>4. Going for Gold</td>\n    </tr>\n    <tr>\n      <th>36897</th>\n      <td>Oti's Boogie Beebies</td>\n      <td>Series 1: 12. Upside Down</td>\n      <td>In this episode, Oti teaches us how to step an...</td>\n      <td>https://ichef.bbci.co.uk/images/ic/{recipe}/p0...</td>\n      <td>BBC, iPlayer, TV, Otis Boogie Beebies, Series ...</td>\n      <td>In this episode, Oti teaches us how to step an...</td>\n      <td>Series for young children getting them to join...</td>\n      <td>Series for young children getting them to join...</td>\n      <td>CBeebies</td>\n      <td>CBEEBIES</td>\n      <td>False</td>\n      <td>2020</td>\n      <td>5</td>\n      <td>cbeebees</td>\n      <td>https://ichef.bbci.co.uk/images/ic/352x198/p08...</td>\n      <td>https://ichef.bbci.co.uk/images/ic/1200x675/p0...</td>\n      <td>Series 1</td>\n      <td>12. Upside Down</td>\n      <td>Series 1</td>\n      <td>12. Upside Down</td>\n    </tr>\n  </tbody>\n</table>\n<p>22757 rows × 20 columns</p>\n</div>"
     },
     "execution_count": 266,
     "metadata": {},
     "output_type": "execute_result"
    }
   ],
   "source": [
    "df"
   ],
   "metadata": {
    "collapsed": false,
    "pycharm": {
     "name": "#%%\n"
    }
   }
  },
  {
   "cell_type": "code",
   "execution_count": 269,
   "outputs": [],
   "source": [
    "import re\n",
    "def extract_series_episode(df):\n",
    "    df['series'] = 'None'\n",
    "    df['episode'] = 'None'\n",
    "    for i, entry in df.iterrows():\n",
    "        if re.match('Series*:*', entry['subtitle']):\n",
    "            split_array = entry['subtitle'].split(':', 1)\n",
    "            df.loc[i, 'series'] = split_array[0]\n",
    "            df.loc[i, 'episode'] = split_array[1]\n",
    "extract_series_episode(df)"
   ],
   "metadata": {
    "collapsed": false,
    "pycharm": {
     "name": "#%%\n"
    }
   }
  },
  {
   "cell_type": "code",
   "execution_count": 270,
   "outputs": [
    {
     "data": {
      "text/plain": "                                    title  \\\n0      The 80s - Music’s Greatest Decade?   \n1                         Top of the Pops   \n2                               BBC Proms   \n3                                    Port   \n4      Sit Down, Stand Up with Greg James   \n...                                   ...   \n36883                     Bob the Builder   \n36886                           Go Buster   \n36891                         Chuggington   \n36893                      Justin's House   \n36897                Oti's Boogie Beebies   \n\n                                    subtitle  \\\n0              Series 1: 1. With Dylan Jones   \n1                                 02/07/1992   \n2      2021: Last Night of the Proms, Part 2   \n3                        Series 5: Episode 4   \n4                                       None   \n...                                      ...   \n36883              Series 8: 7. Ballroom Bob   \n36886           Stories: 5. Buster's Stories   \n36891       Badge Quest: 3. Rainbow Chuggers   \n36893            Series 2: 4. Going for Gold   \n36897              Series 1: 12. Upside Down   \n\n                                             description  \\\n0      Music author Dylan Jones argues that the 1980s...   \n1      With Arrested Development, Altern 8, Def Leppa...   \n2      Australian tenor Stuart Skelton is joined by L...   \n3      Previously unseen music from the series Port, ...   \n4      Tom Holland and Greg James cold call celebrity...   \n...                                                  ...   \n36883  Bob has been making secret early morning trips...   \n36886  Buster the bus has so many stories and adventu...   \n36891  The Chuggers need to solve a number of clues t...   \n36893  Justin's house hosts the Justinship Games, and...   \n36897  In this episode, Oti teaches us how to step an...   \n\n                                                   image  \\\n0      https://ichef.bbci.co.uk/images/ic/{recipe}/p0...   \n1      https://ichef.bbci.co.uk/images/ic/{recipe}/p0...   \n2      https://ichef.bbci.co.uk/images/ic/{recipe}/p0...   \n3      https://ichef.bbci.co.uk/images/ic/{recipe}/p0...   \n4      https://ichef.bbci.co.uk/images/ic/{recipe}/p0...   \n...                                                  ...   \n36883  https://ichef.bbci.co.uk/images/ic/{recipe}/p0...   \n36886  https://ichef.bbci.co.uk/images/ic/{recipe}/p0...   \n36891  https://ichef.bbci.co.uk/images/ic/{recipe}/p0...   \n36893  https://ichef.bbci.co.uk/images/ic/{recipe}/p0...   \n36897  https://ichef.bbci.co.uk/images/ic/{recipe}/p0...   \n\n                                                keywords  \\\n0      BBC, iPlayer, TV, The 80s - Music’s Greatest D...   \n1          BBC, iPlayer, TV, Top of the Pops, 02/07/1992   \n2      BBC, iPlayer, TV, BBC Proms, 2021: Last Night ...   \n3            BBC, iPlayer, TV, Port, Series 5: Episode 4   \n4      BBC, iPlayer, TV, Sit Down, Stand Up with Greg...   \n...                                                  ...   \n36883  BBC, iPlayer, TV, Bob the Builder, Series 8: 7...   \n36886  BBC, iPlayer, TV, Go Buster, Stories: 5. Buste...   \n36891  BBC, iPlayer, TV, Chuggington, Badge Quest: 3....   \n36893  BBC, iPlayer, TV, Justins House, Series 2: 4. ...   \n36897  BBC, iPlayer, TV, Otis Boogie Beebies, Series ...   \n\n                                                  syno_s  \\\n0      Music author Dylan Jones argues that the 1980s...   \n1      With Arrested Development, Altern 8, Def Leppa...   \n2      Australian tenor Stuart Skelton is joined by L...   \n3      Previously unseen music from the series Port, ...   \n4      Tom Holland and Greg James cold call celebrity...   \n...                                                  ...   \n36883  Bob has been making secret early morning trips...   \n36886  Buster the bus has so many stories and adventu...   \n36891  The Chuggers need to solve a number of clues t...   \n36893  Justin's house hosts the Justinship Games, and...   \n36897  In this episode, Oti teaches us how to step an...   \n\n                                                  syno_m  \\\n0      Music writer Dylan Jones puts the case that th...   \n1      Tony Dortie presents the pop chart programme, ...   \n2      Australian tenor Stuart Skelton is joined by L...   \n3      Julie Fowlis a’ lìbhrigeadh ceòl bhon t-sreath...   \n4      Tom Holland and Greg James cold call celebrity...   \n...                                                  ...   \n36883  Bob has been making secret early morning trips...   \n36886  Buster the bus has so many stories and adventu...   \n36891  Koko, Wilson and Brewster learn new skills and...   \n36893  Justin Fletcher entertains children with singi...   \n36897  Series for young children getting them to join...   \n\n                                                  syno_l       category  \\\n0      Eighties music is often dismissed as a joke - ...          Music   \n1      Tony Dortie presents the pop chart programme, ...          Music   \n2      Katie Derham hosts continued live coverage fro...          Music   \n3      Bidh Druthag Bheag Eile a’ tarraing ri chèile ...          Music   \n4      Tom Holland and Greg James cold call celebrity...  Entertainment   \n...                                                  ...            ...   \n36883  Bob has been making secret early morning trips...       CBeebies   \n36886  Buster the bus has so many stories and adventu...       CBeebies   \n36891  Koko, Wilson and Brewster learn new skills and...       CBeebies   \n36893  Justin Fletcher entertains a live audience of ...       CBeebies   \n36897  Series for young children getting them to join...       CBeebies   \n\n               channel language  release_date  duration_min  \\\n0              BBC TWO    False          2021            59   \n1              BBC ONE    False          1992            29   \n2      BBC RADIO THREE    False          2021            87   \n3             BBC ALBA    False          2020            17   \n4        BBC RADIO ONE    False          2022            10   \n...                ...      ...           ...           ...   \n36883         CBEEBIES    False          2003            10   \n36886         CBEEBIES    False          2021            26   \n36891         CBEEBIES    False          2010             4   \n36893         CBEEBIES    False          2012            24   \n36897         CBEEBIES    False          2020             5   \n\n                          topic  \\\n0          music, documentaries   \n1                         music   \n2      music, from-the-archives   \n3                         music   \n4          music, entertainment   \n...                         ...   \n36883                  cbeebees   \n36886                  cbeebees   \n36891                  cbeebees   \n36893                  cbeebees   \n36897                  cbeebees   \n\n                                                 image_l  \\\n0      https://ichef.bbci.co.uk/images/ic/352x198/p09...   \n1      https://ichef.bbci.co.uk/images/ic/352x198/p0b...   \n2      https://ichef.bbci.co.uk/images/ic/352x198/p09...   \n3      https://ichef.bbci.co.uk/images/ic/352x198/p08...   \n4      https://ichef.bbci.co.uk/images/ic/352x198/p0b...   \n...                                                  ...   \n36883  https://ichef.bbci.co.uk/images/ic/352x198/p08...   \n36886  https://ichef.bbci.co.uk/images/ic/352x198/p09...   \n36891  https://ichef.bbci.co.uk/images/ic/352x198/p08...   \n36893  https://ichef.bbci.co.uk/images/ic/352x198/p09...   \n36897  https://ichef.bbci.co.uk/images/ic/352x198/p08...   \n\n                                                image_xl    series  \\\n0      https://ichef.bbci.co.uk/images/ic/1200x675/p0...  Series 1   \n1      https://ichef.bbci.co.uk/images/ic/1200x675/p0...      None   \n2      https://ichef.bbci.co.uk/images/ic/1200x675/p0...      None   \n3      https://ichef.bbci.co.uk/images/ic/1200x675/p0...  Series 5   \n4      https://ichef.bbci.co.uk/images/ic/1200x675/p0...      None   \n...                                                  ...       ...   \n36883  https://ichef.bbci.co.uk/images/ic/1200x675/p0...  Series 8   \n36886  https://ichef.bbci.co.uk/images/ic/1200x675/p0...      None   \n36891  https://ichef.bbci.co.uk/images/ic/1200x675/p0...      None   \n36893  https://ichef.bbci.co.uk/images/ic/1200x675/p0...  Series 2   \n36897  https://ichef.bbci.co.uk/images/ic/1200x675/p0...  Series 1   \n\n                    episode  \n0       1. With Dylan Jones  \n1                      None  \n2                      None  \n3                 Episode 4  \n4                      None  \n...                     ...  \n36883       7. Ballroom Bob  \n36886                  None  \n36891                  None  \n36893     4. Going for Gold  \n36897       12. Upside Down  \n\n[22757 rows x 18 columns]",
      "text/html": "<div>\n<style scoped>\n    .dataframe tbody tr th:only-of-type {\n        vertical-align: middle;\n    }\n\n    .dataframe tbody tr th {\n        vertical-align: top;\n    }\n\n    .dataframe thead th {\n        text-align: right;\n    }\n</style>\n<table border=\"1\" class=\"dataframe\">\n  <thead>\n    <tr style=\"text-align: right;\">\n      <th></th>\n      <th>title</th>\n      <th>subtitle</th>\n      <th>description</th>\n      <th>image</th>\n      <th>keywords</th>\n      <th>syno_s</th>\n      <th>syno_m</th>\n      <th>syno_l</th>\n      <th>category</th>\n      <th>channel</th>\n      <th>language</th>\n      <th>release_date</th>\n      <th>duration_min</th>\n      <th>topic</th>\n      <th>image_l</th>\n      <th>image_xl</th>\n      <th>series</th>\n      <th>episode</th>\n    </tr>\n  </thead>\n  <tbody>\n    <tr>\n      <th>0</th>\n      <td>The 80s - Music’s Greatest Decade?</td>\n      <td>Series 1: 1. With Dylan Jones</td>\n      <td>Music author Dylan Jones argues that the 1980s...</td>\n      <td>https://ichef.bbci.co.uk/images/ic/{recipe}/p0...</td>\n      <td>BBC, iPlayer, TV, The 80s - Music’s Greatest D...</td>\n      <td>Music author Dylan Jones argues that the 1980s...</td>\n      <td>Music writer Dylan Jones puts the case that th...</td>\n      <td>Eighties music is often dismissed as a joke - ...</td>\n      <td>Music</td>\n      <td>BBC TWO</td>\n      <td>False</td>\n      <td>2021</td>\n      <td>59</td>\n      <td>music, documentaries</td>\n      <td>https://ichef.bbci.co.uk/images/ic/352x198/p09...</td>\n      <td>https://ichef.bbci.co.uk/images/ic/1200x675/p0...</td>\n      <td>Series 1</td>\n      <td>1. With Dylan Jones</td>\n    </tr>\n    <tr>\n      <th>1</th>\n      <td>Top of the Pops</td>\n      <td>02/07/1992</td>\n      <td>With Arrested Development, Altern 8, Def Leppa...</td>\n      <td>https://ichef.bbci.co.uk/images/ic/{recipe}/p0...</td>\n      <td>BBC, iPlayer, TV, Top of the Pops, 02/07/1992</td>\n      <td>With Arrested Development, Altern 8, Def Leppa...</td>\n      <td>Tony Dortie presents the pop chart programme, ...</td>\n      <td>Tony Dortie presents the pop chart programme, ...</td>\n      <td>Music</td>\n      <td>BBC ONE</td>\n      <td>False</td>\n      <td>1992</td>\n      <td>29</td>\n      <td>music</td>\n      <td>https://ichef.bbci.co.uk/images/ic/352x198/p0b...</td>\n      <td>https://ichef.bbci.co.uk/images/ic/1200x675/p0...</td>\n      <td>None</td>\n      <td>None</td>\n    </tr>\n    <tr>\n      <th>2</th>\n      <td>BBC Proms</td>\n      <td>2021: Last Night of the Proms, Part 2</td>\n      <td>Australian tenor Stuart Skelton is joined by L...</td>\n      <td>https://ichef.bbci.co.uk/images/ic/{recipe}/p0...</td>\n      <td>BBC, iPlayer, TV, BBC Proms, 2021: Last Night ...</td>\n      <td>Australian tenor Stuart Skelton is joined by L...</td>\n      <td>Australian tenor Stuart Skelton is joined by L...</td>\n      <td>Katie Derham hosts continued live coverage fro...</td>\n      <td>Music</td>\n      <td>BBC RADIO THREE</td>\n      <td>False</td>\n      <td>2021</td>\n      <td>87</td>\n      <td>music, from-the-archives</td>\n      <td>https://ichef.bbci.co.uk/images/ic/352x198/p09...</td>\n      <td>https://ichef.bbci.co.uk/images/ic/1200x675/p0...</td>\n      <td>None</td>\n      <td>None</td>\n    </tr>\n    <tr>\n      <th>3</th>\n      <td>Port</td>\n      <td>Series 5: Episode 4</td>\n      <td>Previously unseen music from the series Port, ...</td>\n      <td>https://ichef.bbci.co.uk/images/ic/{recipe}/p0...</td>\n      <td>BBC, iPlayer, TV, Port, Series 5: Episode 4</td>\n      <td>Previously unseen music from the series Port, ...</td>\n      <td>Julie Fowlis a’ lìbhrigeadh ceòl bhon t-sreath...</td>\n      <td>Bidh Druthag Bheag Eile a’ tarraing ri chèile ...</td>\n      <td>Music</td>\n      <td>BBC ALBA</td>\n      <td>False</td>\n      <td>2020</td>\n      <td>17</td>\n      <td>music</td>\n      <td>https://ichef.bbci.co.uk/images/ic/352x198/p08...</td>\n      <td>https://ichef.bbci.co.uk/images/ic/1200x675/p0...</td>\n      <td>Series 5</td>\n      <td>Episode 4</td>\n    </tr>\n    <tr>\n      <th>4</th>\n      <td>Sit Down, Stand Up with Greg James</td>\n      <td>None</td>\n      <td>Tom Holland and Greg James cold call celebrity...</td>\n      <td>https://ichef.bbci.co.uk/images/ic/{recipe}/p0...</td>\n      <td>BBC, iPlayer, TV, Sit Down, Stand Up with Greg...</td>\n      <td>Tom Holland and Greg James cold call celebrity...</td>\n      <td>Tom Holland and Greg James cold call celebrity...</td>\n      <td>Tom Holland and Greg James cold call celebrity...</td>\n      <td>Entertainment</td>\n      <td>BBC RADIO ONE</td>\n      <td>False</td>\n      <td>2022</td>\n      <td>10</td>\n      <td>music, entertainment</td>\n      <td>https://ichef.bbci.co.uk/images/ic/352x198/p0b...</td>\n      <td>https://ichef.bbci.co.uk/images/ic/1200x675/p0...</td>\n      <td>None</td>\n      <td>None</td>\n    </tr>\n    <tr>\n      <th>...</th>\n      <td>...</td>\n      <td>...</td>\n      <td>...</td>\n      <td>...</td>\n      <td>...</td>\n      <td>...</td>\n      <td>...</td>\n      <td>...</td>\n      <td>...</td>\n      <td>...</td>\n      <td>...</td>\n      <td>...</td>\n      <td>...</td>\n      <td>...</td>\n      <td>...</td>\n      <td>...</td>\n      <td>...</td>\n      <td>...</td>\n    </tr>\n    <tr>\n      <th>36883</th>\n      <td>Bob the Builder</td>\n      <td>Series 8: 7. Ballroom Bob</td>\n      <td>Bob has been making secret early morning trips...</td>\n      <td>https://ichef.bbci.co.uk/images/ic/{recipe}/p0...</td>\n      <td>BBC, iPlayer, TV, Bob the Builder, Series 8: 7...</td>\n      <td>Bob has been making secret early morning trips...</td>\n      <td>Bob has been making secret early morning trips...</td>\n      <td>Bob has been making secret early morning trips...</td>\n      <td>CBeebies</td>\n      <td>CBEEBIES</td>\n      <td>False</td>\n      <td>2003</td>\n      <td>10</td>\n      <td>cbeebees</td>\n      <td>https://ichef.bbci.co.uk/images/ic/352x198/p08...</td>\n      <td>https://ichef.bbci.co.uk/images/ic/1200x675/p0...</td>\n      <td>Series 8</td>\n      <td>7. Ballroom Bob</td>\n    </tr>\n    <tr>\n      <th>36886</th>\n      <td>Go Buster</td>\n      <td>Stories: 5. Buster's Stories</td>\n      <td>Buster the bus has so many stories and adventu...</td>\n      <td>https://ichef.bbci.co.uk/images/ic/{recipe}/p0...</td>\n      <td>BBC, iPlayer, TV, Go Buster, Stories: 5. Buste...</td>\n      <td>Buster the bus has so many stories and adventu...</td>\n      <td>Buster the bus has so many stories and adventu...</td>\n      <td>Buster the bus has so many stories and adventu...</td>\n      <td>CBeebies</td>\n      <td>CBEEBIES</td>\n      <td>False</td>\n      <td>2021</td>\n      <td>26</td>\n      <td>cbeebees</td>\n      <td>https://ichef.bbci.co.uk/images/ic/352x198/p09...</td>\n      <td>https://ichef.bbci.co.uk/images/ic/1200x675/p0...</td>\n      <td>None</td>\n      <td>None</td>\n    </tr>\n    <tr>\n      <th>36891</th>\n      <td>Chuggington</td>\n      <td>Badge Quest: 3. Rainbow Chuggers</td>\n      <td>The Chuggers need to solve a number of clues t...</td>\n      <td>https://ichef.bbci.co.uk/images/ic/{recipe}/p0...</td>\n      <td>BBC, iPlayer, TV, Chuggington, Badge Quest: 3....</td>\n      <td>The Chuggers need to solve a number of clues t...</td>\n      <td>Koko, Wilson and Brewster learn new skills and...</td>\n      <td>Koko, Wilson and Brewster learn new skills and...</td>\n      <td>CBeebies</td>\n      <td>CBEEBIES</td>\n      <td>False</td>\n      <td>2010</td>\n      <td>4</td>\n      <td>cbeebees</td>\n      <td>https://ichef.bbci.co.uk/images/ic/352x198/p08...</td>\n      <td>https://ichef.bbci.co.uk/images/ic/1200x675/p0...</td>\n      <td>None</td>\n      <td>None</td>\n    </tr>\n    <tr>\n      <th>36893</th>\n      <td>Justin's House</td>\n      <td>Series 2: 4. Going for Gold</td>\n      <td>Justin's house hosts the Justinship Games, and...</td>\n      <td>https://ichef.bbci.co.uk/images/ic/{recipe}/p0...</td>\n      <td>BBC, iPlayer, TV, Justins House, Series 2: 4. ...</td>\n      <td>Justin's house hosts the Justinship Games, and...</td>\n      <td>Justin Fletcher entertains children with singi...</td>\n      <td>Justin Fletcher entertains a live audience of ...</td>\n      <td>CBeebies</td>\n      <td>CBEEBIES</td>\n      <td>False</td>\n      <td>2012</td>\n      <td>24</td>\n      <td>cbeebees</td>\n      <td>https://ichef.bbci.co.uk/images/ic/352x198/p09...</td>\n      <td>https://ichef.bbci.co.uk/images/ic/1200x675/p0...</td>\n      <td>Series 2</td>\n      <td>4. Going for Gold</td>\n    </tr>\n    <tr>\n      <th>36897</th>\n      <td>Oti's Boogie Beebies</td>\n      <td>Series 1: 12. Upside Down</td>\n      <td>In this episode, Oti teaches us how to step an...</td>\n      <td>https://ichef.bbci.co.uk/images/ic/{recipe}/p0...</td>\n      <td>BBC, iPlayer, TV, Otis Boogie Beebies, Series ...</td>\n      <td>In this episode, Oti teaches us how to step an...</td>\n      <td>Series for young children getting them to join...</td>\n      <td>Series for young children getting them to join...</td>\n      <td>CBeebies</td>\n      <td>CBEEBIES</td>\n      <td>False</td>\n      <td>2020</td>\n      <td>5</td>\n      <td>cbeebees</td>\n      <td>https://ichef.bbci.co.uk/images/ic/352x198/p08...</td>\n      <td>https://ichef.bbci.co.uk/images/ic/1200x675/p0...</td>\n      <td>Series 1</td>\n      <td>12. Upside Down</td>\n    </tr>\n  </tbody>\n</table>\n<p>22757 rows × 18 columns</p>\n</div>"
     },
     "execution_count": 270,
     "metadata": {},
     "output_type": "execute_result"
    }
   ],
   "source": [
    "df"
   ],
   "metadata": {
    "collapsed": false,
    "pycharm": {
     "name": "#%%\n"
    }
   }
  },
  {
   "cell_type": "code",
   "execution_count": 272,
   "outputs": [],
   "source": [
    "df.to_csv('bbc.csv', sep=';')"
   ],
   "metadata": {
    "collapsed": false,
    "pycharm": {
     "name": "#%%\n"
    }
   }
  },
  {
   "cell_type": "markdown",
   "source": [
    "## Add Index"
   ],
   "metadata": {
    "collapsed": false
   }
  },
  {
   "cell_type": "code",
   "execution_count": 19,
   "outputs": [],
   "source": [
    "df = pd.read_csv('../bbc.csv', sep=';', index_col=0)"
   ],
   "metadata": {
    "collapsed": false,
    "pycharm": {
     "name": "#%%\n"
    }
   }
  },
  {
   "cell_type": "code",
   "execution_count": 97,
   "outputs": [],
   "source": [
    "df = df.reset_index()"
   ],
   "metadata": {
    "collapsed": false,
    "pycharm": {
     "name": "#%%\n"
    }
   }
  },
  {
   "cell_type": "code",
   "execution_count": 98,
   "outputs": [],
   "source": [
    "df = df.drop(axis=0, columns='index')"
   ],
   "metadata": {
    "collapsed": false,
    "pycharm": {
     "name": "#%%\n"
    }
   }
  },
  {
   "cell_type": "code",
   "execution_count": 100,
   "outputs": [],
   "source": [
    "df = df.rename(columns={'level_0': 'index'})"
   ],
   "metadata": {
    "collapsed": false,
    "pycharm": {
     "name": "#%%\n"
    }
   }
  },
  {
   "cell_type": "code",
   "execution_count": 101,
   "outputs": [],
   "source": [
    "df.to_csv('../bbc_small.csv', sep=';')"
   ],
   "metadata": {
    "collapsed": false,
    "pycharm": {
     "name": "#%%\n"
    }
   }
  },
  {
   "cell_type": "markdown",
   "source": [
    "## BBC Small"
   ],
   "metadata": {
    "collapsed": false
   }
  },
  {
   "cell_type": "code",
   "execution_count": 5,
   "outputs": [],
   "source": [
    "df = pd.read_csv('../bbc_small.csv', sep=';', index_col=0)"
   ],
   "metadata": {
    "collapsed": false,
    "pycharm": {
     "name": "#%%\n"
    }
   }
  },
  {
   "cell_type": "markdown",
   "source": [],
   "metadata": {
    "collapsed": false
   }
  },
  {
   "cell_type": "code",
   "execution_count": 95,
   "outputs": [
    {
     "data": {
      "text/plain": "      index                               title  \\\n0         0                           BBC Proms   \n1         1                                Port   \n2         2  Sit Down, Stand Up with Greg James   \n3         3         Ceiliúradh na Féile Pádraig   \n4         4                     Songs of Praise   \n...     ...                                 ...   \n3776   3777           Models: Street to Catwalk   \n3788   3789                   Death On The I-95   \n3792   3793        Do Black Lives Still Matter?   \n3796   3797                        Ar An Sliabh   \n3799   3800                Avicii: True Stories   \n\n                                   subtitle  \\\n0     2021: Last Night of the Proms, Part 2   \n1                       Series 5: Episode 4   \n2                                      None   \n3                                      None   \n4                                 Edinburgh   \n...                                     ...   \n3776                    Series 2: Episode 4   \n3788                                   None   \n3792                     Series 1: 3. Music   \n3796                    Series 1: Episode 6   \n3799                                   None   \n\n                                            description  \\\n0     Australian tenor Stuart Skelton is joined by L...   \n1     Previously unseen music from the series Port, ...   \n2     Tom Holland and Greg James cold call celebrity...   \n3     John Toal and Pauline Scanlon introduce an eve...   \n4     Claire McCollum explores Edinburgh and shares ...   \n...                                                 ...   \n3776  Kyra’s late arrival puts her modelling career ...   \n3788  Returning to the US to find out what happened ...   \n3792  Grime artist Saskilla asks, can the music indu...   \n3796  Paul packs up to return to his native Armagh a...   \n3799  Avicii: True Stories is Tim Bergling’s own sto...   \n\n                                                  image  \\\n0     https://ichef.bbci.co.uk/images/ic/{recipe}/p0...   \n1     https://ichef.bbci.co.uk/images/ic/{recipe}/p0...   \n2     https://ichef.bbci.co.uk/images/ic/{recipe}/p0...   \n3     https://ichef.bbci.co.uk/images/ic/{recipe}/p0...   \n4     https://ichef.bbci.co.uk/images/ic/{recipe}/p0...   \n...                                                 ...   \n3776  https://ichef.bbci.co.uk/images/ic/{recipe}/p0...   \n3788  https://ichef.bbci.co.uk/images/ic/{recipe}/p0...   \n3792  https://ichef.bbci.co.uk/images/ic/{recipe}/p0...   \n3796  https://ichef.bbci.co.uk/images/ic/{recipe}/p0...   \n3799  https://ichef.bbci.co.uk/images/ic/{recipe}/p0...   \n\n                                               keywords  \\\n0     BBC, iPlayer, TV, BBC Proms, 2021: Last Night ...   \n1           BBC, iPlayer, TV, Port, Series 5: Episode 4   \n2     BBC, iPlayer, TV, Sit Down, Stand Up with Greg...   \n3         BBC, iPlayer, TV, Ceiliúradh na Féile Pádraig   \n4          BBC, iPlayer, TV, Songs of Praise, Edinburgh   \n...                                                 ...   \n3776  BBC, iPlayer, TV, Models: Street to Catwalk, S...   \n3788                BBC, iPlayer, TV, Death On The I-95   \n3792  BBC, iPlayer, TV, Do Black Lives Still Matter?...   \n3796  BBC, iPlayer, TV, Ar An Sliabh, Series 1: Epis...   \n3799             BBC, iPlayer, TV, Avicii: True Stories   \n\n                                                 syno_s  \\\n0     Australian tenor Stuart Skelton is joined by L...   \n1     Previously unseen music from the series Port, ...   \n2     Tom Holland and Greg James cold call celebrity...   \n3     John Toal and Pauline Scanlon introduce an eve...   \n4     Claire McCollum explores Edinburgh and shares ...   \n...                                                 ...   \n3776  Kyra’s late arrival puts her modelling career ...   \n3788  Returning to the US to find out what happened ...   \n3792  Grime artist Saskilla asks, can the music indu...   \n3796  Paul packs up to return to his native Armagh a...   \n3799  Avicii: True Stories is Tim Bergling’s own sto...   \n\n                                                 syno_m  \\\n0     Australian tenor Stuart Skelton is joined by L...   \n1     Julie Fowlis a’ lìbhrigeadh ceòl bhon t-sreath...   \n2     Tom Holland and Greg James cold call celebrity...   \n3     John Toal and Pauline Scanlon introduce an eve...   \n4     Claire McCollum goes on a Christian heritage t...   \n...                                                 ...   \n3776  Kyra jeopardises her modelling career by turni...   \n3788  Following a report on the growing problem of o...   \n3792  The music industry pledged millions in support...   \n3796  Paul packs up to return to his native Armagh a...   \n3799  Avicii: True Stories is Tim Bergling’s own sto...   \n\n                                                 syno_l       category  \\\n0     Katie Derham hosts continued live coverage fro...          Music   \n1     Bidh Druthag Bheag Eile a’ tarraing ri chèile ...          Music   \n2     Tom Holland and Greg James cold call celebrity...  Entertainment   \n3     John Toal and Pauline Scanlon introduce an eve...          Music   \n4     Claire McCollum explores Edinburgh and discove...          Music   \n...                                                 ...            ...   \n3776  How will Kyra cope after a train malfunction m...    Documentary   \n3788  Drug overdose is now the main cause of death f...    Documentary   \n3792  The music industry reacted with a surge of out...    Documentary   \n3796  I Sliabh Eachtaí, tá Cérill ag déanamh réidh d...    Documentary   \n3799  In 2006, Tim Bergling was just a regular teena...    Documentary   \n\n                               channel  \\\n0                      BBC RADIO THREE   \n1                             BBC ALBA   \n2                        BBC RADIO ONE   \n3     BBC TWO NORTHERN IRELAND DIGITAL   \n4                              BBC ONE   \n...                                ...   \n3776                         BBC THREE   \n3788                         BBC THREE   \n3792                         BBC THREE   \n3796                       BBC WEBONLY   \n3799                         BBC THREE   \n\n                                               language release_date  \\\n0                                                 False         2021   \n1                                                 False         2020   \n2                                                 False         2022   \n3                                                 False         2017   \n4                                                 False         2022   \n...                                                 ...          ...   \n3776  Contains some strong language and some upsetti...         2021   \n3788  Contains some strong language and upsetting sc...         2018   \n3792                                              False         2021   \n3796                                              False         2021   \n3799                          Contains strong language.         2019   \n\n      duration_min                 topic  \\\n0               87                 music   \n1               17                 music   \n2               10  music, entertainment   \n3               59                 music   \n4               34      music, lifestyle   \n...            ...                   ...   \n3776            31         documentaries   \n3788            57         documentaries   \n3792            25         documentaries   \n3796            29         documentaries   \n3799            96         documentaries   \n\n                                                image_l  \\\n0     https://ichef.bbci.co.uk/images/ic/352x198/p09...   \n1     https://ichef.bbci.co.uk/images/ic/352x198/p08...   \n2     https://ichef.bbci.co.uk/images/ic/352x198/p0b...   \n3     https://ichef.bbci.co.uk/images/ic/352x198/p04...   \n4     https://ichef.bbci.co.uk/images/ic/352x198/p0b...   \n...                                                 ...   \n3776  https://ichef.bbci.co.uk/images/ic/352x198/p09...   \n3788  https://ichef.bbci.co.uk/images/ic/352x198/p07...   \n3792  https://ichef.bbci.co.uk/images/ic/352x198/p09...   \n3796  https://ichef.bbci.co.uk/images/ic/352x198/p0b...   \n3799  https://ichef.bbci.co.uk/images/ic/352x198/p07...   \n\n                                               image_xl  \n0     https://ichef.bbci.co.uk/images/ic/1200x675/p0...  \n1     https://ichef.bbci.co.uk/images/ic/1200x675/p0...  \n2     https://ichef.bbci.co.uk/images/ic/1200x675/p0...  \n3     https://ichef.bbci.co.uk/images/ic/1200x675/p0...  \n4     https://ichef.bbci.co.uk/images/ic/1200x675/p0...  \n...                                                 ...  \n3776  https://ichef.bbci.co.uk/images/ic/1200x675/p0...  \n3788  https://ichef.bbci.co.uk/images/ic/1200x675/p0...  \n3792  https://ichef.bbci.co.uk/images/ic/1200x675/p0...  \n3796  https://ichef.bbci.co.uk/images/ic/1200x675/p0...  \n3799  https://ichef.bbci.co.uk/images/ic/1200x675/p0...  \n\n[2473 rows x 17 columns]",
      "text/html": "<div>\n<style scoped>\n    .dataframe tbody tr th:only-of-type {\n        vertical-align: middle;\n    }\n\n    .dataframe tbody tr th {\n        vertical-align: top;\n    }\n\n    .dataframe thead th {\n        text-align: right;\n    }\n</style>\n<table border=\"1\" class=\"dataframe\">\n  <thead>\n    <tr style=\"text-align: right;\">\n      <th></th>\n      <th>index</th>\n      <th>title</th>\n      <th>subtitle</th>\n      <th>description</th>\n      <th>image</th>\n      <th>keywords</th>\n      <th>syno_s</th>\n      <th>syno_m</th>\n      <th>syno_l</th>\n      <th>category</th>\n      <th>channel</th>\n      <th>language</th>\n      <th>release_date</th>\n      <th>duration_min</th>\n      <th>topic</th>\n      <th>image_l</th>\n      <th>image_xl</th>\n    </tr>\n  </thead>\n  <tbody>\n    <tr>\n      <th>0</th>\n      <td>0</td>\n      <td>BBC Proms</td>\n      <td>2021: Last Night of the Proms, Part 2</td>\n      <td>Australian tenor Stuart Skelton is joined by L...</td>\n      <td>https://ichef.bbci.co.uk/images/ic/{recipe}/p0...</td>\n      <td>BBC, iPlayer, TV, BBC Proms, 2021: Last Night ...</td>\n      <td>Australian tenor Stuart Skelton is joined by L...</td>\n      <td>Australian tenor Stuart Skelton is joined by L...</td>\n      <td>Katie Derham hosts continued live coverage fro...</td>\n      <td>Music</td>\n      <td>BBC RADIO THREE</td>\n      <td>False</td>\n      <td>2021</td>\n      <td>87</td>\n      <td>music</td>\n      <td>https://ichef.bbci.co.uk/images/ic/352x198/p09...</td>\n      <td>https://ichef.bbci.co.uk/images/ic/1200x675/p0...</td>\n    </tr>\n    <tr>\n      <th>1</th>\n      <td>1</td>\n      <td>Port</td>\n      <td>Series 5: Episode 4</td>\n      <td>Previously unseen music from the series Port, ...</td>\n      <td>https://ichef.bbci.co.uk/images/ic/{recipe}/p0...</td>\n      <td>BBC, iPlayer, TV, Port, Series 5: Episode 4</td>\n      <td>Previously unseen music from the series Port, ...</td>\n      <td>Julie Fowlis a’ lìbhrigeadh ceòl bhon t-sreath...</td>\n      <td>Bidh Druthag Bheag Eile a’ tarraing ri chèile ...</td>\n      <td>Music</td>\n      <td>BBC ALBA</td>\n      <td>False</td>\n      <td>2020</td>\n      <td>17</td>\n      <td>music</td>\n      <td>https://ichef.bbci.co.uk/images/ic/352x198/p08...</td>\n      <td>https://ichef.bbci.co.uk/images/ic/1200x675/p0...</td>\n    </tr>\n    <tr>\n      <th>2</th>\n      <td>2</td>\n      <td>Sit Down, Stand Up with Greg James</td>\n      <td>None</td>\n      <td>Tom Holland and Greg James cold call celebrity...</td>\n      <td>https://ichef.bbci.co.uk/images/ic/{recipe}/p0...</td>\n      <td>BBC, iPlayer, TV, Sit Down, Stand Up with Greg...</td>\n      <td>Tom Holland and Greg James cold call celebrity...</td>\n      <td>Tom Holland and Greg James cold call celebrity...</td>\n      <td>Tom Holland and Greg James cold call celebrity...</td>\n      <td>Entertainment</td>\n      <td>BBC RADIO ONE</td>\n      <td>False</td>\n      <td>2022</td>\n      <td>10</td>\n      <td>music, entertainment</td>\n      <td>https://ichef.bbci.co.uk/images/ic/352x198/p0b...</td>\n      <td>https://ichef.bbci.co.uk/images/ic/1200x675/p0...</td>\n    </tr>\n    <tr>\n      <th>3</th>\n      <td>3</td>\n      <td>Ceiliúradh na Féile Pádraig</td>\n      <td>None</td>\n      <td>John Toal and Pauline Scanlon introduce an eve...</td>\n      <td>https://ichef.bbci.co.uk/images/ic/{recipe}/p0...</td>\n      <td>BBC, iPlayer, TV, Ceiliúradh na Féile Pádraig</td>\n      <td>John Toal and Pauline Scanlon introduce an eve...</td>\n      <td>John Toal and Pauline Scanlon introduce an eve...</td>\n      <td>John Toal and Pauline Scanlon introduce an eve...</td>\n      <td>Music</td>\n      <td>BBC TWO NORTHERN IRELAND DIGITAL</td>\n      <td>False</td>\n      <td>2017</td>\n      <td>59</td>\n      <td>music</td>\n      <td>https://ichef.bbci.co.uk/images/ic/352x198/p04...</td>\n      <td>https://ichef.bbci.co.uk/images/ic/1200x675/p0...</td>\n    </tr>\n    <tr>\n      <th>4</th>\n      <td>4</td>\n      <td>Songs of Praise</td>\n      <td>Edinburgh</td>\n      <td>Claire McCollum explores Edinburgh and shares ...</td>\n      <td>https://ichef.bbci.co.uk/images/ic/{recipe}/p0...</td>\n      <td>BBC, iPlayer, TV, Songs of Praise, Edinburgh</td>\n      <td>Claire McCollum explores Edinburgh and shares ...</td>\n      <td>Claire McCollum goes on a Christian heritage t...</td>\n      <td>Claire McCollum explores Edinburgh and discove...</td>\n      <td>Music</td>\n      <td>BBC ONE</td>\n      <td>False</td>\n      <td>2022</td>\n      <td>34</td>\n      <td>music, lifestyle</td>\n      <td>https://ichef.bbci.co.uk/images/ic/352x198/p0b...</td>\n      <td>https://ichef.bbci.co.uk/images/ic/1200x675/p0...</td>\n    </tr>\n    <tr>\n      <th>...</th>\n      <td>...</td>\n      <td>...</td>\n      <td>...</td>\n      <td>...</td>\n      <td>...</td>\n      <td>...</td>\n      <td>...</td>\n      <td>...</td>\n      <td>...</td>\n      <td>...</td>\n      <td>...</td>\n      <td>...</td>\n      <td>...</td>\n      <td>...</td>\n      <td>...</td>\n      <td>...</td>\n      <td>...</td>\n    </tr>\n    <tr>\n      <th>3776</th>\n      <td>3777</td>\n      <td>Models: Street to Catwalk</td>\n      <td>Series 2: Episode 4</td>\n      <td>Kyra’s late arrival puts her modelling career ...</td>\n      <td>https://ichef.bbci.co.uk/images/ic/{recipe}/p0...</td>\n      <td>BBC, iPlayer, TV, Models: Street to Catwalk, S...</td>\n      <td>Kyra’s late arrival puts her modelling career ...</td>\n      <td>Kyra jeopardises her modelling career by turni...</td>\n      <td>How will Kyra cope after a train malfunction m...</td>\n      <td>Documentary</td>\n      <td>BBC THREE</td>\n      <td>Contains some strong language and some upsetti...</td>\n      <td>2021</td>\n      <td>31</td>\n      <td>documentaries</td>\n      <td>https://ichef.bbci.co.uk/images/ic/352x198/p09...</td>\n      <td>https://ichef.bbci.co.uk/images/ic/1200x675/p0...</td>\n    </tr>\n    <tr>\n      <th>3788</th>\n      <td>3789</td>\n      <td>Death On The I-95</td>\n      <td>None</td>\n      <td>Returning to the US to find out what happened ...</td>\n      <td>https://ichef.bbci.co.uk/images/ic/{recipe}/p0...</td>\n      <td>BBC, iPlayer, TV, Death On The I-95</td>\n      <td>Returning to the US to find out what happened ...</td>\n      <td>Following a report on the growing problem of o...</td>\n      <td>Drug overdose is now the main cause of death f...</td>\n      <td>Documentary</td>\n      <td>BBC THREE</td>\n      <td>Contains some strong language and upsetting sc...</td>\n      <td>2018</td>\n      <td>57</td>\n      <td>documentaries</td>\n      <td>https://ichef.bbci.co.uk/images/ic/352x198/p07...</td>\n      <td>https://ichef.bbci.co.uk/images/ic/1200x675/p0...</td>\n    </tr>\n    <tr>\n      <th>3792</th>\n      <td>3793</td>\n      <td>Do Black Lives Still Matter?</td>\n      <td>Series 1: 3. Music</td>\n      <td>Grime artist Saskilla asks, can the music indu...</td>\n      <td>https://ichef.bbci.co.uk/images/ic/{recipe}/p0...</td>\n      <td>BBC, iPlayer, TV, Do Black Lives Still Matter?...</td>\n      <td>Grime artist Saskilla asks, can the music indu...</td>\n      <td>The music industry pledged millions in support...</td>\n      <td>The music industry reacted with a surge of out...</td>\n      <td>Documentary</td>\n      <td>BBC THREE</td>\n      <td>False</td>\n      <td>2021</td>\n      <td>25</td>\n      <td>documentaries</td>\n      <td>https://ichef.bbci.co.uk/images/ic/352x198/p09...</td>\n      <td>https://ichef.bbci.co.uk/images/ic/1200x675/p0...</td>\n    </tr>\n    <tr>\n      <th>3796</th>\n      <td>3797</td>\n      <td>Ar An Sliabh</td>\n      <td>Series 1: Episode 6</td>\n      <td>Paul packs up to return to his native Armagh a...</td>\n      <td>https://ichef.bbci.co.uk/images/ic/{recipe}/p0...</td>\n      <td>BBC, iPlayer, TV, Ar An Sliabh, Series 1: Epis...</td>\n      <td>Paul packs up to return to his native Armagh a...</td>\n      <td>Paul packs up to return to his native Armagh a...</td>\n      <td>I Sliabh Eachtaí, tá Cérill ag déanamh réidh d...</td>\n      <td>Documentary</td>\n      <td>BBC WEBONLY</td>\n      <td>False</td>\n      <td>2021</td>\n      <td>29</td>\n      <td>documentaries</td>\n      <td>https://ichef.bbci.co.uk/images/ic/352x198/p0b...</td>\n      <td>https://ichef.bbci.co.uk/images/ic/1200x675/p0...</td>\n    </tr>\n    <tr>\n      <th>3799</th>\n      <td>3800</td>\n      <td>Avicii: True Stories</td>\n      <td>None</td>\n      <td>Avicii: True Stories is Tim Bergling’s own sto...</td>\n      <td>https://ichef.bbci.co.uk/images/ic/{recipe}/p0...</td>\n      <td>BBC, iPlayer, TV, Avicii: True Stories</td>\n      <td>Avicii: True Stories is Tim Bergling’s own sto...</td>\n      <td>Avicii: True Stories is Tim Bergling’s own sto...</td>\n      <td>In 2006, Tim Bergling was just a regular teena...</td>\n      <td>Documentary</td>\n      <td>BBC THREE</td>\n      <td>Contains strong language.</td>\n      <td>2019</td>\n      <td>96</td>\n      <td>documentaries</td>\n      <td>https://ichef.bbci.co.uk/images/ic/352x198/p07...</td>\n      <td>https://ichef.bbci.co.uk/images/ic/1200x675/p0...</td>\n    </tr>\n  </tbody>\n</table>\n<p>2473 rows × 17 columns</p>\n</div>"
     },
     "execution_count": 95,
     "metadata": {},
     "output_type": "execute_result"
    }
   ],
   "source": [
    "df"
   ],
   "metadata": {
    "collapsed": false,
    "pycharm": {
     "name": "#%%\n"
    }
   }
  },
  {
   "cell_type": "code",
   "execution_count": 12,
   "outputs": [],
   "source": [
    "df = df.reset_index().iloc[:, 2:].reset_index()"
   ],
   "metadata": {
    "collapsed": false,
    "pycharm": {
     "name": "#%%\n"
    }
   }
  },
  {
   "cell_type": "code",
   "execution_count": 13,
   "outputs": [],
   "source": [
    "df.to_csv('../bbc_small.csv', sep=';')"
   ],
   "metadata": {
    "collapsed": false,
    "pycharm": {
     "name": "#%%\n"
    }
   }
  },
  {
   "cell_type": "code",
   "execution_count": 18,
   "outputs": [],
   "source": [
    "vals = ['642', '725', '1800', '580', '1986', '1421', '1588']\n",
    "\n",
    "vals = list(map(int, vals))"
   ],
   "metadata": {
    "collapsed": false,
    "pycharm": {
     "name": "#%%\n"
    }
   }
  },
  {
   "cell_type": "code",
   "execution_count": 19,
   "outputs": [
    {
     "data": {
      "text/plain": "[642, 725, 1800, 580, 1986, 1421, 1588]"
     },
     "execution_count": 19,
     "metadata": {},
     "output_type": "execute_result"
    }
   ],
   "source": [
    "vals"
   ],
   "metadata": {
    "collapsed": false,
    "pycharm": {
     "name": "#%%\n"
    }
   }
  },
  {
   "cell_type": "code",
   "execution_count": 20,
   "outputs": [
    {
     "data": {
      "text/plain": "      index                        title  \\\n642     642       Becoming… Nathan Drake   \n725     725   Ali Plumb's Greatest Clips   \n1800   1800               Talking Movies   \n580     580        Papadopoulos and Sons   \n1986   1986  Saturday Kitchen Best Bites   \n1421   1421                       Spooks   \n1588   1588  Mary Berry's Festive Feasts   \n\n                                            description  \\\n642   Tom Holland reveals all about taking on the ic...   \n725   Radio 1 film critic Ali Plumb dives into his i...   \n1800  Talking Movies speculates on the likely conten...   \n580   After a financial crisis, a millionaire loses ...   \n1986  The best bits and favourite moments from Satur...   \n1421  Harry is handed over to the CIA, ready for dep...   \n1588  Mary Berry teaches novice cooks tasty festive ...   \n\n                                                  image  \\\n642   https://ichef.bbci.co.uk/images/ic/{recipe}/p0...   \n725   https://ichef.bbci.co.uk/images/ic/{recipe}/p0...   \n1800  https://ichef.bbci.co.uk/images/ic/{recipe}/p0...   \n580   https://ichef.bbci.co.uk/images/ic/{recipe}/p0...   \n1986  https://ichef.bbci.co.uk/images/ic/{recipe}/p0...   \n1421  https://ichef.bbci.co.uk/images/ic/{recipe}/p0...   \n1588  https://ichef.bbci.co.uk/images/ic/{recipe}/p0...   \n\n                                               keywords  \\\n642            BBC, iPlayer, TV, Becoming… Nathan Drake   \n725         BBC, iPlayer, TV, Ali Plumbs Greatest Clips   \n1800  BBC, iPlayer, TV, Talking Movies, Awards Looka...   \n580             BBC, iPlayer, TV, Papadopoulos and Sons   \n1986  BBC, iPlayer, TV, Saturday Kitchen Best Bites,...   \n1421     BBC, iPlayer, TV, Spooks, Series 10: Episode 6   \n1588       BBC, iPlayer, TV, Mary Berrys Festive Feasts   \n\n                                                 syno_s  \\\n642   Tom Holland reveals all about taking on the ic...   \n725   Radio 1 film critic Ali Plumb dives into his i...   \n1800  Talking Movies speculates on the likely conten...   \n580   After a financial crisis, a millionaire loses ...   \n1986  The best bits and favourite moments from Satur...   \n1421  Harry is handed over to the CIA, ready for dep...   \n1588  Mary Berry teaches novice cooks tasty festive ...   \n\n                                                 syno_m  \\\n642   Tom Holland reveals all about taking on the ic...   \n725   Radio 1 film critic Ali Plumb dives into his i...   \n1800  On the eve of this year's Oscar nominations an...   \n580   Comedy drama. After a financial market collaps...   \n1986  Matt Tebbutt takes a look back at some of his ...   \n1421  Drama series. Harry is handed over to the CIA,...   \n1588  Mary Berry teaches three novice cooks deliciou...   \n\n                                                 syno_l       category  \\\n642   Tom Holland reveals all about taking on the ic...  Entertainment   \n725   Radio 1 film critic Ali Plumb dives into his i...  Entertainment   \n1800  On the eve of this year's Oscar nominations an...           News   \n580   After a financial market collapse, self-made m...   Comedy Drama   \n1986  Matt Tebbutt takes a look back at some of his ...           Food   \n1421  Harry finally discovers who is behind the rece...          Drama   \n1588  Dame Merry Berry knows a thing or two about co...           Food   \n\n          channel                         language         release_date  \\\n642     bbc_three                            False          11 Feb 2022   \n725   bbc_webonly                            False    5:20pm 6 Mar 2021   \n1800   bbc_news24                            False    2:30am 5 Feb 2022   \n580       bbc_one   Contains some strong language.                 2012   \n1986      bbc_one                            False  11:15am 20 Feb 2022   \n1421      bbc_one  Contains some upsetting scenes.      9pm 23 Oct 2011   \n1588      bbc_one                            False   7:05pm 20 Dec 2021   \n\n      duration_sec                                     topic  \\\n642           1097                         ['entertainment']   \n725           3180                         ['entertainment']   \n1800          1370                                  ['news']   \n580           6184    ['films', 'comedy', 'drama-and-soaps']   \n1986          5070                                  ['food']   \n1421          3524  ['drama-and-soaps', 'from-the-archives']   \n1588          3428                        ['signed', 'food']   \n\n                                         spacied_syno_l  \\\n642   Tom Holland reveals all about taking on the ic...   \n725   Radio 1 film critic Ali Plumb dives into his i...   \n1800  On the eve of this year's Oscar nominations an...   \n580   After a financial market collapse, self-made m...   \n1986  Matt Tebbutt takes a look back at some of his ...   \n1421  Harry finally discovers who is behind the rece...   \n1588  Dame Merry Berry knows a thing or two about co...   \n\n                                       processed_syno_l  \\\n642   ['Tom', 'Holland', 'reveal', 'take', 'iconic',...   \n725   ['radio', 'film', 'critic', 'Ali', 'Plumb', 'd...   \n1800  ['eve', 'year', 'Oscar', 'nomination', 'announ...   \n580   ['financial', 'market', 'collapse', 'self', 'm...   \n1986  ['Matt', 'Tebbutt', 'take', 'look', 'favourite...   \n1421  ['Harry', 'discover', 'recent', 'attack', 'UK'...   \n1588  ['Dame', 'Merry', 'Berry', 'know', 'thing', 'c...   \n\n                            processed_syno_l_one_string  k_means  \\\n642   Tom Holland reveal take iconic character Uncha...        3   \n725   radio film critic Ali Plumb dive interview arc...       15   \n1800  eve year Oscar nomination announcement Talking...        7   \n580   financial market collapse self millionaire Har...        9   \n1986  Matt Tebbutt take look favourite recipe good m...       13   \n1421  Harry discover recent attack UK confirm suspic...        1   \n1588  Dame Merry Berry know thing cook festive feast...        8   \n\n                                         cleaned_syno_l  \n642   tom holland reveals taking iconic character un...  \n725   radio 1 film critic ali plumb dive interview a...  \n1800  eve year oscar nomination announcement talking...  \n580   financial market collapse selfmade millionaire...  \n1986  matt tebbutt take look back favourite recipe b...  \n1421  harry finally discovers behind recent attack u...  \n1588  dame merry berry know thing two cooking festiv...  ",
      "text/html": "<div>\n<style scoped>\n    .dataframe tbody tr th:only-of-type {\n        vertical-align: middle;\n    }\n\n    .dataframe tbody tr th {\n        vertical-align: top;\n    }\n\n    .dataframe thead th {\n        text-align: right;\n    }\n</style>\n<table border=\"1\" class=\"dataframe\">\n  <thead>\n    <tr style=\"text-align: right;\">\n      <th></th>\n      <th>index</th>\n      <th>title</th>\n      <th>description</th>\n      <th>image</th>\n      <th>keywords</th>\n      <th>syno_s</th>\n      <th>syno_m</th>\n      <th>syno_l</th>\n      <th>category</th>\n      <th>channel</th>\n      <th>language</th>\n      <th>release_date</th>\n      <th>duration_sec</th>\n      <th>topic</th>\n      <th>spacied_syno_l</th>\n      <th>processed_syno_l</th>\n      <th>processed_syno_l_one_string</th>\n      <th>k_means</th>\n      <th>cleaned_syno_l</th>\n    </tr>\n  </thead>\n  <tbody>\n    <tr>\n      <th>642</th>\n      <td>642</td>\n      <td>Becoming… Nathan Drake</td>\n      <td>Tom Holland reveals all about taking on the ic...</td>\n      <td>https://ichef.bbci.co.uk/images/ic/{recipe}/p0...</td>\n      <td>BBC, iPlayer, TV, Becoming… Nathan Drake</td>\n      <td>Tom Holland reveals all about taking on the ic...</td>\n      <td>Tom Holland reveals all about taking on the ic...</td>\n      <td>Tom Holland reveals all about taking on the ic...</td>\n      <td>Entertainment</td>\n      <td>bbc_three</td>\n      <td>False</td>\n      <td>11 Feb 2022</td>\n      <td>1097</td>\n      <td>['entertainment']</td>\n      <td>Tom Holland reveals all about taking on the ic...</td>\n      <td>['Tom', 'Holland', 'reveal', 'take', 'iconic',...</td>\n      <td>Tom Holland reveal take iconic character Uncha...</td>\n      <td>3</td>\n      <td>tom holland reveals taking iconic character un...</td>\n    </tr>\n    <tr>\n      <th>725</th>\n      <td>725</td>\n      <td>Ali Plumb's Greatest Clips</td>\n      <td>Radio 1 film critic Ali Plumb dives into his i...</td>\n      <td>https://ichef.bbci.co.uk/images/ic/{recipe}/p0...</td>\n      <td>BBC, iPlayer, TV, Ali Plumbs Greatest Clips</td>\n      <td>Radio 1 film critic Ali Plumb dives into his i...</td>\n      <td>Radio 1 film critic Ali Plumb dives into his i...</td>\n      <td>Radio 1 film critic Ali Plumb dives into his i...</td>\n      <td>Entertainment</td>\n      <td>bbc_webonly</td>\n      <td>False</td>\n      <td>5:20pm 6 Mar 2021</td>\n      <td>3180</td>\n      <td>['entertainment']</td>\n      <td>Radio 1 film critic Ali Plumb dives into his i...</td>\n      <td>['radio', 'film', 'critic', 'Ali', 'Plumb', 'd...</td>\n      <td>radio film critic Ali Plumb dive interview arc...</td>\n      <td>15</td>\n      <td>radio 1 film critic ali plumb dive interview a...</td>\n    </tr>\n    <tr>\n      <th>1800</th>\n      <td>1800</td>\n      <td>Talking Movies</td>\n      <td>Talking Movies speculates on the likely conten...</td>\n      <td>https://ichef.bbci.co.uk/images/ic/{recipe}/p0...</td>\n      <td>BBC, iPlayer, TV, Talking Movies, Awards Looka...</td>\n      <td>Talking Movies speculates on the likely conten...</td>\n      <td>On the eve of this year's Oscar nominations an...</td>\n      <td>On the eve of this year's Oscar nominations an...</td>\n      <td>News</td>\n      <td>bbc_news24</td>\n      <td>False</td>\n      <td>2:30am 5 Feb 2022</td>\n      <td>1370</td>\n      <td>['news']</td>\n      <td>On the eve of this year's Oscar nominations an...</td>\n      <td>['eve', 'year', 'Oscar', 'nomination', 'announ...</td>\n      <td>eve year Oscar nomination announcement Talking...</td>\n      <td>7</td>\n      <td>eve year oscar nomination announcement talking...</td>\n    </tr>\n    <tr>\n      <th>580</th>\n      <td>580</td>\n      <td>Papadopoulos and Sons</td>\n      <td>After a financial crisis, a millionaire loses ...</td>\n      <td>https://ichef.bbci.co.uk/images/ic/{recipe}/p0...</td>\n      <td>BBC, iPlayer, TV, Papadopoulos and Sons</td>\n      <td>After a financial crisis, a millionaire loses ...</td>\n      <td>Comedy drama. After a financial market collaps...</td>\n      <td>After a financial market collapse, self-made m...</td>\n      <td>Comedy Drama</td>\n      <td>bbc_one</td>\n      <td>Contains some strong language.</td>\n      <td>2012</td>\n      <td>6184</td>\n      <td>['films', 'comedy', 'drama-and-soaps']</td>\n      <td>After a financial market collapse, self-made m...</td>\n      <td>['financial', 'market', 'collapse', 'self', 'm...</td>\n      <td>financial market collapse self millionaire Har...</td>\n      <td>9</td>\n      <td>financial market collapse selfmade millionaire...</td>\n    </tr>\n    <tr>\n      <th>1986</th>\n      <td>1986</td>\n      <td>Saturday Kitchen Best Bites</td>\n      <td>The best bits and favourite moments from Satur...</td>\n      <td>https://ichef.bbci.co.uk/images/ic/{recipe}/p0...</td>\n      <td>BBC, iPlayer, TV, Saturday Kitchen Best Bites,...</td>\n      <td>The best bits and favourite moments from Satur...</td>\n      <td>Matt Tebbutt takes a look back at some of his ...</td>\n      <td>Matt Tebbutt takes a look back at some of his ...</td>\n      <td>Food</td>\n      <td>bbc_one</td>\n      <td>False</td>\n      <td>11:15am 20 Feb 2022</td>\n      <td>5070</td>\n      <td>['food']</td>\n      <td>Matt Tebbutt takes a look back at some of his ...</td>\n      <td>['Matt', 'Tebbutt', 'take', 'look', 'favourite...</td>\n      <td>Matt Tebbutt take look favourite recipe good m...</td>\n      <td>13</td>\n      <td>matt tebbutt take look back favourite recipe b...</td>\n    </tr>\n    <tr>\n      <th>1421</th>\n      <td>1421</td>\n      <td>Spooks</td>\n      <td>Harry is handed over to the CIA, ready for dep...</td>\n      <td>https://ichef.bbci.co.uk/images/ic/{recipe}/p0...</td>\n      <td>BBC, iPlayer, TV, Spooks, Series 10: Episode 6</td>\n      <td>Harry is handed over to the CIA, ready for dep...</td>\n      <td>Drama series. Harry is handed over to the CIA,...</td>\n      <td>Harry finally discovers who is behind the rece...</td>\n      <td>Drama</td>\n      <td>bbc_one</td>\n      <td>Contains some upsetting scenes.</td>\n      <td>9pm 23 Oct 2011</td>\n      <td>3524</td>\n      <td>['drama-and-soaps', 'from-the-archives']</td>\n      <td>Harry finally discovers who is behind the rece...</td>\n      <td>['Harry', 'discover', 'recent', 'attack', 'UK'...</td>\n      <td>Harry discover recent attack UK confirm suspic...</td>\n      <td>1</td>\n      <td>harry finally discovers behind recent attack u...</td>\n    </tr>\n    <tr>\n      <th>1588</th>\n      <td>1588</td>\n      <td>Mary Berry's Festive Feasts</td>\n      <td>Mary Berry teaches novice cooks tasty festive ...</td>\n      <td>https://ichef.bbci.co.uk/images/ic/{recipe}/p0...</td>\n      <td>BBC, iPlayer, TV, Mary Berrys Festive Feasts</td>\n      <td>Mary Berry teaches novice cooks tasty festive ...</td>\n      <td>Mary Berry teaches three novice cooks deliciou...</td>\n      <td>Dame Merry Berry knows a thing or two about co...</td>\n      <td>Food</td>\n      <td>bbc_one</td>\n      <td>False</td>\n      <td>7:05pm 20 Dec 2021</td>\n      <td>3428</td>\n      <td>['signed', 'food']</td>\n      <td>Dame Merry Berry knows a thing or two about co...</td>\n      <td>['Dame', 'Merry', 'Berry', 'know', 'thing', 'c...</td>\n      <td>Dame Merry Berry know thing cook festive feast...</td>\n      <td>8</td>\n      <td>dame merry berry know thing two cooking festiv...</td>\n    </tr>\n  </tbody>\n</table>\n</div>"
     },
     "execution_count": 20,
     "metadata": {},
     "output_type": "execute_result"
    }
   ],
   "source": [
    "df.iloc[vals]"
   ],
   "metadata": {
    "collapsed": false,
    "pycharm": {
     "name": "#%%\n"
    }
   }
  }
 ],
 "metadata": {
  "kernelspec": {
   "display_name": "Python 3",
   "language": "python",
   "name": "python3"
  },
  "language_info": {
   "codemirror_mode": {
    "name": "ipython",
    "version": 2
   },
   "file_extension": ".py",
   "mimetype": "text/x-python",
   "name": "python",
   "nbconvert_exporter": "python",
   "pygments_lexer": "ipython2",
   "version": "2.7.6"
  }
 },
 "nbformat": 4,
 "nbformat_minor": 0
}