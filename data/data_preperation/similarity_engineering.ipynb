{
 "cells": [
  {
   "cell_type": "code",
   "execution_count": 2,
   "outputs": [],
   "source": [
    "import pandas as pd\n",
    "import numpy as np\n",
    "import string\n",
    "from sklearn.feature_extraction.text import TfidfVectorizer\n",
    "from sklearn.cluster import KMeans\n",
    "\n",
    "from sklearn.metrics.pairwise import cosine_similarity"
   ],
   "metadata": {
    "collapsed": false,
    "pycharm": {
     "name": "#%%\n"
    }
   }
  },
  {
   "cell_type": "code",
   "execution_count": 3,
   "metadata": {
    "collapsed": true
   },
   "outputs": [
    {
     "data": {
      "text/plain": "      index                               title  \\\n0         0                           BBC Proms   \n1         1                                Port   \n2         2  Sit Down, Stand Up with Greg James   \n3         3         Ceiliúradh na Féile Pádraig   \n4         4                     Songs of Praise   \n...     ...                                 ...   \n2468   2468           Models: Street to Catwalk   \n2469   2469                   Death On The I-95   \n2470   2470        Do Black Lives Still Matter?   \n2471   2471                        Ar An Sliabh   \n2472   2472                Avicii: True Stories   \n\n                                   subtitle  \\\n0     2021: Last Night of the Proms, Part 2   \n1                       Series 5: Episode 4   \n2                                      None   \n3                                      None   \n4                                 Edinburgh   \n...                                     ...   \n2468                    Series 2: Episode 4   \n2469                                   None   \n2470                     Series 1: 3. Music   \n2471                    Series 1: Episode 6   \n2472                                   None   \n\n                                            description  \\\n0     Australian tenor Stuart Skelton is joined by L...   \n1     Previously unseen music from the series Port, ...   \n2     Tom Holland and Greg James cold call celebrity...   \n3     John Toal and Pauline Scanlon introduce an eve...   \n4     Claire McCollum explores Edinburgh and shares ...   \n...                                                 ...   \n2468  Kyra’s late arrival puts her modelling career ...   \n2469  Returning to the US to find out what happened ...   \n2470  Grime artist Saskilla asks, can the music indu...   \n2471  Paul packs up to return to his native Armagh a...   \n2472  Avicii: True Stories is Tim Bergling’s own sto...   \n\n                                                  image  \\\n0     https://ichef.bbci.co.uk/images/ic/{recipe}/p0...   \n1     https://ichef.bbci.co.uk/images/ic/{recipe}/p0...   \n2     https://ichef.bbci.co.uk/images/ic/{recipe}/p0...   \n3     https://ichef.bbci.co.uk/images/ic/{recipe}/p0...   \n4     https://ichef.bbci.co.uk/images/ic/{recipe}/p0...   \n...                                                 ...   \n2468  https://ichef.bbci.co.uk/images/ic/{recipe}/p0...   \n2469  https://ichef.bbci.co.uk/images/ic/{recipe}/p0...   \n2470  https://ichef.bbci.co.uk/images/ic/{recipe}/p0...   \n2471  https://ichef.bbci.co.uk/images/ic/{recipe}/p0...   \n2472  https://ichef.bbci.co.uk/images/ic/{recipe}/p0...   \n\n                                               keywords  \\\n0     BBC, iPlayer, TV, BBC Proms, 2021: Last Night ...   \n1           BBC, iPlayer, TV, Port, Series 5: Episode 4   \n2     BBC, iPlayer, TV, Sit Down, Stand Up with Greg...   \n3         BBC, iPlayer, TV, Ceiliúradh na Féile Pádraig   \n4          BBC, iPlayer, TV, Songs of Praise, Edinburgh   \n...                                                 ...   \n2468  BBC, iPlayer, TV, Models: Street to Catwalk, S...   \n2469                BBC, iPlayer, TV, Death On The I-95   \n2470  BBC, iPlayer, TV, Do Black Lives Still Matter?...   \n2471  BBC, iPlayer, TV, Ar An Sliabh, Series 1: Epis...   \n2472             BBC, iPlayer, TV, Avicii: True Stories   \n\n                                                 syno_s  \\\n0     Australian tenor Stuart Skelton is joined by L...   \n1     Previously unseen music from the series Port, ...   \n2     Tom Holland and Greg James cold call celebrity...   \n3     John Toal and Pauline Scanlon introduce an eve...   \n4     Claire McCollum explores Edinburgh and shares ...   \n...                                                 ...   \n2468  Kyra’s late arrival puts her modelling career ...   \n2469  Returning to the US to find out what happened ...   \n2470  Grime artist Saskilla asks, can the music indu...   \n2471  Paul packs up to return to his native Armagh a...   \n2472  Avicii: True Stories is Tim Bergling’s own sto...   \n\n                                                 syno_m  \\\n0     Australian tenor Stuart Skelton is joined by L...   \n1     Julie Fowlis a’ lìbhrigeadh ceòl bhon t-sreath...   \n2     Tom Holland and Greg James cold call celebrity...   \n3     John Toal and Pauline Scanlon introduce an eve...   \n4     Claire McCollum goes on a Christian heritage t...   \n...                                                 ...   \n2468  Kyra jeopardises her modelling career by turni...   \n2469  Following a report on the growing problem of o...   \n2470  The music industry pledged millions in support...   \n2471  Paul packs up to return to his native Armagh a...   \n2472  Avicii: True Stories is Tim Bergling’s own sto...   \n\n                                                 syno_l       category  \\\n0     Katie Derham hosts continued live coverage fro...          Music   \n1     Bidh Druthag Bheag Eile a’ tarraing ri chèile ...          Music   \n2     Tom Holland and Greg James cold call celebrity...  Entertainment   \n3     John Toal and Pauline Scanlon introduce an eve...          Music   \n4     Claire McCollum explores Edinburgh and discove...          Music   \n...                                                 ...            ...   \n2468  How will Kyra cope after a train malfunction m...    Documentary   \n2469  Drug overdose is now the main cause of death f...    Documentary   \n2470  The music industry reacted with a surge of out...    Documentary   \n2471  I Sliabh Eachtaí, tá Cérill ag déanamh réidh d...    Documentary   \n2472  In 2006, Tim Bergling was just a regular teena...    Documentary   \n\n                               channel  \\\n0                      BBC RADIO THREE   \n1                             BBC ALBA   \n2                        BBC RADIO ONE   \n3     BBC TWO NORTHERN IRELAND DIGITAL   \n4                              BBC ONE   \n...                                ...   \n2468                         BBC THREE   \n2469                         BBC THREE   \n2470                         BBC THREE   \n2471                       BBC WEBONLY   \n2472                         BBC THREE   \n\n                                               language  release_date  \\\n0                                                 False          2021   \n1                                                 False          2020   \n2                                                 False          2022   \n3                                                 False          2017   \n4                                                 False          2022   \n...                                                 ...           ...   \n2468  Contains some strong language and some upsetti...          2021   \n2469  Contains some strong language and upsetting sc...          2018   \n2470                                              False          2021   \n2471                                              False          2021   \n2472                          Contains strong language.          2019   \n\n      duration_min                 topic  \\\n0               87                 music   \n1               17                 music   \n2               10  music, entertainment   \n3               59                 music   \n4               34      music, lifestyle   \n...            ...                   ...   \n2468            31         documentaries   \n2469            57         documentaries   \n2470            25         documentaries   \n2471            29         documentaries   \n2472            96         documentaries   \n\n                                                image_l  \\\n0     https://ichef.bbci.co.uk/images/ic/352x198/p09...   \n1     https://ichef.bbci.co.uk/images/ic/352x198/p08...   \n2     https://ichef.bbci.co.uk/images/ic/352x198/p0b...   \n3     https://ichef.bbci.co.uk/images/ic/352x198/p04...   \n4     https://ichef.bbci.co.uk/images/ic/352x198/p0b...   \n...                                                 ...   \n2468  https://ichef.bbci.co.uk/images/ic/352x198/p09...   \n2469  https://ichef.bbci.co.uk/images/ic/352x198/p07...   \n2470  https://ichef.bbci.co.uk/images/ic/352x198/p09...   \n2471  https://ichef.bbci.co.uk/images/ic/352x198/p0b...   \n2472  https://ichef.bbci.co.uk/images/ic/352x198/p07...   \n\n                                               image_xl  \\\n0     https://ichef.bbci.co.uk/images/ic/1200x675/p0...   \n1     https://ichef.bbci.co.uk/images/ic/1200x675/p0...   \n2     https://ichef.bbci.co.uk/images/ic/1200x675/p0...   \n3     https://ichef.bbci.co.uk/images/ic/1200x675/p0...   \n4     https://ichef.bbci.co.uk/images/ic/1200x675/p0...   \n...                                                 ...   \n2468  https://ichef.bbci.co.uk/images/ic/1200x675/p0...   \n2469  https://ichef.bbci.co.uk/images/ic/1200x675/p0...   \n2470  https://ichef.bbci.co.uk/images/ic/1200x675/p0...   \n2471  https://ichef.bbci.co.uk/images/ic/1200x675/p0...   \n2472  https://ichef.bbci.co.uk/images/ic/1200x675/p0...   \n\n                                         cleaned_syno_l  k_means  \n0     katie derham host continued live coverage roya...       19  \n1     bidh druthag bheag eile ’ tarraing ri chèile p...        6  \n2     tom holland greg james cold call celebrity fri...        7  \n3     john toal pauline scanlon introduce evening mu...       14  \n4     claire mccollum explores edinburgh discovers r...        3  \n...                                                 ...      ...  \n2468  kyra cope train malfunction make two hour late...        4  \n2469  drug overdose main cause death american age 50...        1  \n2470  music industry reacted surge outrage death geo...       19  \n2471  sliabh eachtaí tá cérill ag déanamh réidh mheá...       14  \n2472  2006 tim bergling regular teenager living smal...        1  \n\n[2473 rows x 19 columns]",
      "text/html": "<div>\n<style scoped>\n    .dataframe tbody tr th:only-of-type {\n        vertical-align: middle;\n    }\n\n    .dataframe tbody tr th {\n        vertical-align: top;\n    }\n\n    .dataframe thead th {\n        text-align: right;\n    }\n</style>\n<table border=\"1\" class=\"dataframe\">\n  <thead>\n    <tr style=\"text-align: right;\">\n      <th></th>\n      <th>index</th>\n      <th>title</th>\n      <th>subtitle</th>\n      <th>description</th>\n      <th>image</th>\n      <th>keywords</th>\n      <th>syno_s</th>\n      <th>syno_m</th>\n      <th>syno_l</th>\n      <th>category</th>\n      <th>channel</th>\n      <th>language</th>\n      <th>release_date</th>\n      <th>duration_min</th>\n      <th>topic</th>\n      <th>image_l</th>\n      <th>image_xl</th>\n      <th>cleaned_syno_l</th>\n      <th>k_means</th>\n    </tr>\n  </thead>\n  <tbody>\n    <tr>\n      <th>0</th>\n      <td>0</td>\n      <td>BBC Proms</td>\n      <td>2021: Last Night of the Proms, Part 2</td>\n      <td>Australian tenor Stuart Skelton is joined by L...</td>\n      <td>https://ichef.bbci.co.uk/images/ic/{recipe}/p0...</td>\n      <td>BBC, iPlayer, TV, BBC Proms, 2021: Last Night ...</td>\n      <td>Australian tenor Stuart Skelton is joined by L...</td>\n      <td>Australian tenor Stuart Skelton is joined by L...</td>\n      <td>Katie Derham hosts continued live coverage fro...</td>\n      <td>Music</td>\n      <td>BBC RADIO THREE</td>\n      <td>False</td>\n      <td>2021</td>\n      <td>87</td>\n      <td>music</td>\n      <td>https://ichef.bbci.co.uk/images/ic/352x198/p09...</td>\n      <td>https://ichef.bbci.co.uk/images/ic/1200x675/p0...</td>\n      <td>katie derham host continued live coverage roya...</td>\n      <td>19</td>\n    </tr>\n    <tr>\n      <th>1</th>\n      <td>1</td>\n      <td>Port</td>\n      <td>Series 5: Episode 4</td>\n      <td>Previously unseen music from the series Port, ...</td>\n      <td>https://ichef.bbci.co.uk/images/ic/{recipe}/p0...</td>\n      <td>BBC, iPlayer, TV, Port, Series 5: Episode 4</td>\n      <td>Previously unseen music from the series Port, ...</td>\n      <td>Julie Fowlis a’ lìbhrigeadh ceòl bhon t-sreath...</td>\n      <td>Bidh Druthag Bheag Eile a’ tarraing ri chèile ...</td>\n      <td>Music</td>\n      <td>BBC ALBA</td>\n      <td>False</td>\n      <td>2020</td>\n      <td>17</td>\n      <td>music</td>\n      <td>https://ichef.bbci.co.uk/images/ic/352x198/p08...</td>\n      <td>https://ichef.bbci.co.uk/images/ic/1200x675/p0...</td>\n      <td>bidh druthag bheag eile ’ tarraing ri chèile p...</td>\n      <td>6</td>\n    </tr>\n    <tr>\n      <th>2</th>\n      <td>2</td>\n      <td>Sit Down, Stand Up with Greg James</td>\n      <td>None</td>\n      <td>Tom Holland and Greg James cold call celebrity...</td>\n      <td>https://ichef.bbci.co.uk/images/ic/{recipe}/p0...</td>\n      <td>BBC, iPlayer, TV, Sit Down, Stand Up with Greg...</td>\n      <td>Tom Holland and Greg James cold call celebrity...</td>\n      <td>Tom Holland and Greg James cold call celebrity...</td>\n      <td>Tom Holland and Greg James cold call celebrity...</td>\n      <td>Entertainment</td>\n      <td>BBC RADIO ONE</td>\n      <td>False</td>\n      <td>2022</td>\n      <td>10</td>\n      <td>music, entertainment</td>\n      <td>https://ichef.bbci.co.uk/images/ic/352x198/p0b...</td>\n      <td>https://ichef.bbci.co.uk/images/ic/1200x675/p0...</td>\n      <td>tom holland greg james cold call celebrity fri...</td>\n      <td>7</td>\n    </tr>\n    <tr>\n      <th>3</th>\n      <td>3</td>\n      <td>Ceiliúradh na Féile Pádraig</td>\n      <td>None</td>\n      <td>John Toal and Pauline Scanlon introduce an eve...</td>\n      <td>https://ichef.bbci.co.uk/images/ic/{recipe}/p0...</td>\n      <td>BBC, iPlayer, TV, Ceiliúradh na Féile Pádraig</td>\n      <td>John Toal and Pauline Scanlon introduce an eve...</td>\n      <td>John Toal and Pauline Scanlon introduce an eve...</td>\n      <td>John Toal and Pauline Scanlon introduce an eve...</td>\n      <td>Music</td>\n      <td>BBC TWO NORTHERN IRELAND DIGITAL</td>\n      <td>False</td>\n      <td>2017</td>\n      <td>59</td>\n      <td>music</td>\n      <td>https://ichef.bbci.co.uk/images/ic/352x198/p04...</td>\n      <td>https://ichef.bbci.co.uk/images/ic/1200x675/p0...</td>\n      <td>john toal pauline scanlon introduce evening mu...</td>\n      <td>14</td>\n    </tr>\n    <tr>\n      <th>4</th>\n      <td>4</td>\n      <td>Songs of Praise</td>\n      <td>Edinburgh</td>\n      <td>Claire McCollum explores Edinburgh and shares ...</td>\n      <td>https://ichef.bbci.co.uk/images/ic/{recipe}/p0...</td>\n      <td>BBC, iPlayer, TV, Songs of Praise, Edinburgh</td>\n      <td>Claire McCollum explores Edinburgh and shares ...</td>\n      <td>Claire McCollum goes on a Christian heritage t...</td>\n      <td>Claire McCollum explores Edinburgh and discove...</td>\n      <td>Music</td>\n      <td>BBC ONE</td>\n      <td>False</td>\n      <td>2022</td>\n      <td>34</td>\n      <td>music, lifestyle</td>\n      <td>https://ichef.bbci.co.uk/images/ic/352x198/p0b...</td>\n      <td>https://ichef.bbci.co.uk/images/ic/1200x675/p0...</td>\n      <td>claire mccollum explores edinburgh discovers r...</td>\n      <td>3</td>\n    </tr>\n    <tr>\n      <th>...</th>\n      <td>...</td>\n      <td>...</td>\n      <td>...</td>\n      <td>...</td>\n      <td>...</td>\n      <td>...</td>\n      <td>...</td>\n      <td>...</td>\n      <td>...</td>\n      <td>...</td>\n      <td>...</td>\n      <td>...</td>\n      <td>...</td>\n      <td>...</td>\n      <td>...</td>\n      <td>...</td>\n      <td>...</td>\n      <td>...</td>\n      <td>...</td>\n    </tr>\n    <tr>\n      <th>2468</th>\n      <td>2468</td>\n      <td>Models: Street to Catwalk</td>\n      <td>Series 2: Episode 4</td>\n      <td>Kyra’s late arrival puts her modelling career ...</td>\n      <td>https://ichef.bbci.co.uk/images/ic/{recipe}/p0...</td>\n      <td>BBC, iPlayer, TV, Models: Street to Catwalk, S...</td>\n      <td>Kyra’s late arrival puts her modelling career ...</td>\n      <td>Kyra jeopardises her modelling career by turni...</td>\n      <td>How will Kyra cope after a train malfunction m...</td>\n      <td>Documentary</td>\n      <td>BBC THREE</td>\n      <td>Contains some strong language and some upsetti...</td>\n      <td>2021</td>\n      <td>31</td>\n      <td>documentaries</td>\n      <td>https://ichef.bbci.co.uk/images/ic/352x198/p09...</td>\n      <td>https://ichef.bbci.co.uk/images/ic/1200x675/p0...</td>\n      <td>kyra cope train malfunction make two hour late...</td>\n      <td>4</td>\n    </tr>\n    <tr>\n      <th>2469</th>\n      <td>2469</td>\n      <td>Death On The I-95</td>\n      <td>None</td>\n      <td>Returning to the US to find out what happened ...</td>\n      <td>https://ichef.bbci.co.uk/images/ic/{recipe}/p0...</td>\n      <td>BBC, iPlayer, TV, Death On The I-95</td>\n      <td>Returning to the US to find out what happened ...</td>\n      <td>Following a report on the growing problem of o...</td>\n      <td>Drug overdose is now the main cause of death f...</td>\n      <td>Documentary</td>\n      <td>BBC THREE</td>\n      <td>Contains some strong language and upsetting sc...</td>\n      <td>2018</td>\n      <td>57</td>\n      <td>documentaries</td>\n      <td>https://ichef.bbci.co.uk/images/ic/352x198/p07...</td>\n      <td>https://ichef.bbci.co.uk/images/ic/1200x675/p0...</td>\n      <td>drug overdose main cause death american age 50...</td>\n      <td>1</td>\n    </tr>\n    <tr>\n      <th>2470</th>\n      <td>2470</td>\n      <td>Do Black Lives Still Matter?</td>\n      <td>Series 1: 3. Music</td>\n      <td>Grime artist Saskilla asks, can the music indu...</td>\n      <td>https://ichef.bbci.co.uk/images/ic/{recipe}/p0...</td>\n      <td>BBC, iPlayer, TV, Do Black Lives Still Matter?...</td>\n      <td>Grime artist Saskilla asks, can the music indu...</td>\n      <td>The music industry pledged millions in support...</td>\n      <td>The music industry reacted with a surge of out...</td>\n      <td>Documentary</td>\n      <td>BBC THREE</td>\n      <td>False</td>\n      <td>2021</td>\n      <td>25</td>\n      <td>documentaries</td>\n      <td>https://ichef.bbci.co.uk/images/ic/352x198/p09...</td>\n      <td>https://ichef.bbci.co.uk/images/ic/1200x675/p0...</td>\n      <td>music industry reacted surge outrage death geo...</td>\n      <td>19</td>\n    </tr>\n    <tr>\n      <th>2471</th>\n      <td>2471</td>\n      <td>Ar An Sliabh</td>\n      <td>Series 1: Episode 6</td>\n      <td>Paul packs up to return to his native Armagh a...</td>\n      <td>https://ichef.bbci.co.uk/images/ic/{recipe}/p0...</td>\n      <td>BBC, iPlayer, TV, Ar An Sliabh, Series 1: Epis...</td>\n      <td>Paul packs up to return to his native Armagh a...</td>\n      <td>Paul packs up to return to his native Armagh a...</td>\n      <td>I Sliabh Eachtaí, tá Cérill ag déanamh réidh d...</td>\n      <td>Documentary</td>\n      <td>BBC WEBONLY</td>\n      <td>False</td>\n      <td>2021</td>\n      <td>29</td>\n      <td>documentaries</td>\n      <td>https://ichef.bbci.co.uk/images/ic/352x198/p0b...</td>\n      <td>https://ichef.bbci.co.uk/images/ic/1200x675/p0...</td>\n      <td>sliabh eachtaí tá cérill ag déanamh réidh mheá...</td>\n      <td>14</td>\n    </tr>\n    <tr>\n      <th>2472</th>\n      <td>2472</td>\n      <td>Avicii: True Stories</td>\n      <td>None</td>\n      <td>Avicii: True Stories is Tim Bergling’s own sto...</td>\n      <td>https://ichef.bbci.co.uk/images/ic/{recipe}/p0...</td>\n      <td>BBC, iPlayer, TV, Avicii: True Stories</td>\n      <td>Avicii: True Stories is Tim Bergling’s own sto...</td>\n      <td>Avicii: True Stories is Tim Bergling’s own sto...</td>\n      <td>In 2006, Tim Bergling was just a regular teena...</td>\n      <td>Documentary</td>\n      <td>BBC THREE</td>\n      <td>Contains strong language.</td>\n      <td>2019</td>\n      <td>96</td>\n      <td>documentaries</td>\n      <td>https://ichef.bbci.co.uk/images/ic/352x198/p07...</td>\n      <td>https://ichef.bbci.co.uk/images/ic/1200x675/p0...</td>\n      <td>2006 tim bergling regular teenager living smal...</td>\n      <td>1</td>\n    </tr>\n  </tbody>\n</table>\n<p>2473 rows × 19 columns</p>\n</div>"
     },
     "execution_count": 3,
     "metadata": {},
     "output_type": "execute_result"
    }
   ],
   "source": [
    "df = pd.read_csv('../bbc_small.csv', sep=';', index_col=0)\n",
    "df"
   ]
  },
  {
   "cell_type": "markdown",
   "source": [
    "## TF-IDF"
   ],
   "metadata": {
    "collapsed": false
   }
  },
  {
   "cell_type": "code",
   "execution_count": 3,
   "outputs": [],
   "source": [
    "# df['mixed_text'] = df['title'] + ' ' + df['description'] + ' ' + df['syno_l'] + ' ' + df['category'] + ' ' + str(df['release_date'])"
   ],
   "metadata": {
    "collapsed": false,
    "pycharm": {
     "name": "#%%\n"
    }
   }
  },
  {
   "cell_type": "code",
   "execution_count": 4,
   "outputs": [],
   "source": [
    "import nltk\n",
    "from nltk.corpus import stopwords\n",
    "lemmatizer = nltk.stem.WordNetLemmatizer()\n",
    "\n",
    "def clean_text(x, stop_words):\n",
    "  if pd.isna(x) == False:\n",
    "    x = x.lower()\n",
    "    x = x.translate(str.maketrans(' ', ' ', string.punctuation))\n",
    "    x = x.strip()\n",
    "\n",
    "    x = nltk.word_tokenize(x)\n",
    "    x = [token for token in x if not token in stop_words]\n",
    "    x = ' '.join([lemmatizer.lemmatize(w) for w in x])\n",
    "  else:\n",
    "    x = ''\n",
    "\n",
    "  return x"
   ],
   "metadata": {
    "collapsed": false,
    "pycharm": {
     "name": "#%%\n"
    }
   }
  },
  {
   "cell_type": "code",
   "execution_count": 5,
   "outputs": [],
   "source": [
    "stop_words = stopwords.words('english')\n",
    "df['cleaned_syno_l'] = df['syno_l'].apply(lambda x: clean_text(x, stop_words))"
   ],
   "metadata": {
    "collapsed": false,
    "pycharm": {
     "name": "#%%\n"
    }
   }
  },
  {
   "cell_type": "code",
   "execution_count": 6,
   "outputs": [
    {
     "data": {
      "text/plain": "0       katie derham host continued live coverage roya...\n1       bidh druthag bheag eile ’ tarraing ri chèile p...\n2       tom holland greg james cold call celebrity fri...\n3       john toal pauline scanlon introduce evening mu...\n4       claire mccollum explores edinburgh discovers r...\n                              ...                        \n2468    kyra cope train malfunction make two hour late...\n2469    drug overdose main cause death american age 50...\n2470    music industry reacted surge outrage death geo...\n2471    sliabh eachtaí tá cérill ag déanamh réidh mheá...\n2472    2006 tim bergling regular teenager living smal...\nName: cleaned_syno_l, Length: 2473, dtype: object"
     },
     "execution_count": 6,
     "metadata": {},
     "output_type": "execute_result"
    }
   ],
   "source": [
    "df['cleaned_syno_l']"
   ],
   "metadata": {
    "collapsed": false,
    "pycharm": {
     "name": "#%%\n"
    }
   }
  },
  {
   "cell_type": "code",
   "execution_count": 7,
   "outputs": [
    {
     "name": "stderr",
     "output_type": "stream",
     "text": [
      "/Users/hagenaadfock/miniforge3/envs/default/lib/python3.8/site-packages/sklearn/utils/deprecation.py:87: FutureWarning: Function get_feature_names is deprecated; get_feature_names is deprecated in 1.0 and will be removed in 1.2. Please use get_feature_names_out instead.\n",
      "  warnings.warn(msg, category=FutureWarning)\n"
     ]
    },
    {
     "data": {
      "text/plain": "       10       100  1000  10000  100000   11   12  120  12yearold   13  ...  \\\n0     0.0  0.000000   0.0    0.0     0.0  0.0  0.0  0.0        0.0  0.0  ...   \n1     0.0  0.000000   0.0    0.0     0.0  0.0  0.0  0.0        0.0  0.0  ...   \n2     0.0  0.000000   0.0    0.0     0.0  0.0  0.0  0.0        0.0  0.0  ...   \n3     0.0  0.000000   0.0    0.0     0.0  0.0  0.0  0.0        0.0  0.0  ...   \n4     0.0  0.082349   0.0    0.0     0.0  0.0  0.0  0.0        0.0  0.0  ...   \n...   ...       ...   ...    ...     ...  ...  ...  ...        ...  ...  ...   \n2468  0.0  0.000000   0.0    0.0     0.0  0.0  0.0  0.0        0.0  0.0  ...   \n2469  0.0  0.000000   0.0    0.0     0.0  0.0  0.0  0.0        0.0  0.0  ...   \n2470  0.0  0.000000   0.0    0.0     0.0  0.0  0.0  0.0        0.0  0.0  ...   \n2471  0.0  0.000000   0.0    0.0     0.0  0.0  0.0  0.0        0.0  0.0  ...   \n2472  0.0  0.000000   0.0    0.0     0.0  0.0  0.0  0.0        0.0  0.0  ...   \n\n        àlainn  àrdùrlar        às   èideann   òg  òga  òrain        óg   ùr  \\\n0     0.000000       0.0  0.000000  0.000000  0.0  0.0    0.0  0.000000  0.0   \n1     0.067534       0.0  0.056143  0.067534  0.0  0.0    0.0  0.135069  0.0   \n2     0.000000       0.0  0.000000  0.000000  0.0  0.0    0.0  0.000000  0.0   \n3     0.000000       0.0  0.000000  0.000000  0.0  0.0    0.0  0.000000  0.0   \n4     0.000000       0.0  0.000000  0.000000  0.0  0.0    0.0  0.000000  0.0   \n...        ...       ...       ...       ...  ...  ...    ...       ...  ...   \n2468  0.000000       0.0  0.000000  0.000000  0.0  0.0    0.0  0.000000  0.0   \n2469  0.000000       0.0  0.000000  0.000000  0.0  0.0    0.0  0.000000  0.0   \n2470  0.000000       0.0  0.000000  0.000000  0.0  0.0    0.0  0.000000  0.0   \n2471  0.000000       0.0  0.000000  0.000000  0.0  0.0    0.0  0.000000  0.0   \n2472  0.000000       0.0  0.000000  0.000000  0.0  0.0    0.0  0.000000  0.0   \n\n      ùra  \n0     0.0  \n1     0.0  \n2     0.0  \n3     0.0  \n4     0.0  \n...   ...  \n2468  0.0  \n2469  0.0  \n2470  0.0  \n2471  0.0  \n2472  0.0  \n\n[2473 rows x 7171 columns]",
      "text/html": "<div>\n<style scoped>\n    .dataframe tbody tr th:only-of-type {\n        vertical-align: middle;\n    }\n\n    .dataframe tbody tr th {\n        vertical-align: top;\n    }\n\n    .dataframe thead th {\n        text-align: right;\n    }\n</style>\n<table border=\"1\" class=\"dataframe\">\n  <thead>\n    <tr style=\"text-align: right;\">\n      <th></th>\n      <th>10</th>\n      <th>100</th>\n      <th>1000</th>\n      <th>10000</th>\n      <th>100000</th>\n      <th>11</th>\n      <th>12</th>\n      <th>120</th>\n      <th>12yearold</th>\n      <th>13</th>\n      <th>...</th>\n      <th>àlainn</th>\n      <th>àrdùrlar</th>\n      <th>às</th>\n      <th>èideann</th>\n      <th>òg</th>\n      <th>òga</th>\n      <th>òrain</th>\n      <th>óg</th>\n      <th>ùr</th>\n      <th>ùra</th>\n    </tr>\n  </thead>\n  <tbody>\n    <tr>\n      <th>0</th>\n      <td>0.0</td>\n      <td>0.000000</td>\n      <td>0.0</td>\n      <td>0.0</td>\n      <td>0.0</td>\n      <td>0.0</td>\n      <td>0.0</td>\n      <td>0.0</td>\n      <td>0.0</td>\n      <td>0.0</td>\n      <td>...</td>\n      <td>0.000000</td>\n      <td>0.0</td>\n      <td>0.000000</td>\n      <td>0.000000</td>\n      <td>0.0</td>\n      <td>0.0</td>\n      <td>0.0</td>\n      <td>0.000000</td>\n      <td>0.0</td>\n      <td>0.0</td>\n    </tr>\n    <tr>\n      <th>1</th>\n      <td>0.0</td>\n      <td>0.000000</td>\n      <td>0.0</td>\n      <td>0.0</td>\n      <td>0.0</td>\n      <td>0.0</td>\n      <td>0.0</td>\n      <td>0.0</td>\n      <td>0.0</td>\n      <td>0.0</td>\n      <td>...</td>\n      <td>0.067534</td>\n      <td>0.0</td>\n      <td>0.056143</td>\n      <td>0.067534</td>\n      <td>0.0</td>\n      <td>0.0</td>\n      <td>0.0</td>\n      <td>0.135069</td>\n      <td>0.0</td>\n      <td>0.0</td>\n    </tr>\n    <tr>\n      <th>2</th>\n      <td>0.0</td>\n      <td>0.000000</td>\n      <td>0.0</td>\n      <td>0.0</td>\n      <td>0.0</td>\n      <td>0.0</td>\n      <td>0.0</td>\n      <td>0.0</td>\n      <td>0.0</td>\n      <td>0.0</td>\n      <td>...</td>\n      <td>0.000000</td>\n      <td>0.0</td>\n      <td>0.000000</td>\n      <td>0.000000</td>\n      <td>0.0</td>\n      <td>0.0</td>\n      <td>0.0</td>\n      <td>0.000000</td>\n      <td>0.0</td>\n      <td>0.0</td>\n    </tr>\n    <tr>\n      <th>3</th>\n      <td>0.0</td>\n      <td>0.000000</td>\n      <td>0.0</td>\n      <td>0.0</td>\n      <td>0.0</td>\n      <td>0.0</td>\n      <td>0.0</td>\n      <td>0.0</td>\n      <td>0.0</td>\n      <td>0.0</td>\n      <td>...</td>\n      <td>0.000000</td>\n      <td>0.0</td>\n      <td>0.000000</td>\n      <td>0.000000</td>\n      <td>0.0</td>\n      <td>0.0</td>\n      <td>0.0</td>\n      <td>0.000000</td>\n      <td>0.0</td>\n      <td>0.0</td>\n    </tr>\n    <tr>\n      <th>4</th>\n      <td>0.0</td>\n      <td>0.082349</td>\n      <td>0.0</td>\n      <td>0.0</td>\n      <td>0.0</td>\n      <td>0.0</td>\n      <td>0.0</td>\n      <td>0.0</td>\n      <td>0.0</td>\n      <td>0.0</td>\n      <td>...</td>\n      <td>0.000000</td>\n      <td>0.0</td>\n      <td>0.000000</td>\n      <td>0.000000</td>\n      <td>0.0</td>\n      <td>0.0</td>\n      <td>0.0</td>\n      <td>0.000000</td>\n      <td>0.0</td>\n      <td>0.0</td>\n    </tr>\n    <tr>\n      <th>...</th>\n      <td>...</td>\n      <td>...</td>\n      <td>...</td>\n      <td>...</td>\n      <td>...</td>\n      <td>...</td>\n      <td>...</td>\n      <td>...</td>\n      <td>...</td>\n      <td>...</td>\n      <td>...</td>\n      <td>...</td>\n      <td>...</td>\n      <td>...</td>\n      <td>...</td>\n      <td>...</td>\n      <td>...</td>\n      <td>...</td>\n      <td>...</td>\n      <td>...</td>\n      <td>...</td>\n    </tr>\n    <tr>\n      <th>2468</th>\n      <td>0.0</td>\n      <td>0.000000</td>\n      <td>0.0</td>\n      <td>0.0</td>\n      <td>0.0</td>\n      <td>0.0</td>\n      <td>0.0</td>\n      <td>0.0</td>\n      <td>0.0</td>\n      <td>0.0</td>\n      <td>...</td>\n      <td>0.000000</td>\n      <td>0.0</td>\n      <td>0.000000</td>\n      <td>0.000000</td>\n      <td>0.0</td>\n      <td>0.0</td>\n      <td>0.0</td>\n      <td>0.000000</td>\n      <td>0.0</td>\n      <td>0.0</td>\n    </tr>\n    <tr>\n      <th>2469</th>\n      <td>0.0</td>\n      <td>0.000000</td>\n      <td>0.0</td>\n      <td>0.0</td>\n      <td>0.0</td>\n      <td>0.0</td>\n      <td>0.0</td>\n      <td>0.0</td>\n      <td>0.0</td>\n      <td>0.0</td>\n      <td>...</td>\n      <td>0.000000</td>\n      <td>0.0</td>\n      <td>0.000000</td>\n      <td>0.000000</td>\n      <td>0.0</td>\n      <td>0.0</td>\n      <td>0.0</td>\n      <td>0.000000</td>\n      <td>0.0</td>\n      <td>0.0</td>\n    </tr>\n    <tr>\n      <th>2470</th>\n      <td>0.0</td>\n      <td>0.000000</td>\n      <td>0.0</td>\n      <td>0.0</td>\n      <td>0.0</td>\n      <td>0.0</td>\n      <td>0.0</td>\n      <td>0.0</td>\n      <td>0.0</td>\n      <td>0.0</td>\n      <td>...</td>\n      <td>0.000000</td>\n      <td>0.0</td>\n      <td>0.000000</td>\n      <td>0.000000</td>\n      <td>0.0</td>\n      <td>0.0</td>\n      <td>0.0</td>\n      <td>0.000000</td>\n      <td>0.0</td>\n      <td>0.0</td>\n    </tr>\n    <tr>\n      <th>2471</th>\n      <td>0.0</td>\n      <td>0.000000</td>\n      <td>0.0</td>\n      <td>0.0</td>\n      <td>0.0</td>\n      <td>0.0</td>\n      <td>0.0</td>\n      <td>0.0</td>\n      <td>0.0</td>\n      <td>0.0</td>\n      <td>...</td>\n      <td>0.000000</td>\n      <td>0.0</td>\n      <td>0.000000</td>\n      <td>0.000000</td>\n      <td>0.0</td>\n      <td>0.0</td>\n      <td>0.0</td>\n      <td>0.000000</td>\n      <td>0.0</td>\n      <td>0.0</td>\n    </tr>\n    <tr>\n      <th>2472</th>\n      <td>0.0</td>\n      <td>0.000000</td>\n      <td>0.0</td>\n      <td>0.0</td>\n      <td>0.0</td>\n      <td>0.0</td>\n      <td>0.0</td>\n      <td>0.0</td>\n      <td>0.0</td>\n      <td>0.0</td>\n      <td>...</td>\n      <td>0.000000</td>\n      <td>0.0</td>\n      <td>0.000000</td>\n      <td>0.000000</td>\n      <td>0.0</td>\n      <td>0.0</td>\n      <td>0.0</td>\n      <td>0.000000</td>\n      <td>0.0</td>\n      <td>0.0</td>\n    </tr>\n  </tbody>\n</table>\n<p>2473 rows × 7171 columns</p>\n</div>"
     },
     "execution_count": 7,
     "metadata": {},
     "output_type": "execute_result"
    }
   ],
   "source": [
    "from sklearn.feature_extraction.text import TfidfVectorizer\n",
    "from sklearn.cluster import KMeans\n",
    "from sklearn import cluster\n",
    "\n",
    "vectorizer = TfidfVectorizer(min_df=3, max_df=0.80, norm='l2')\n",
    "tf_idf_matrix = vectorizer.fit_transform(df['cleaned_syno_l'])\n",
    "tf_idf = pd.DataFrame(data = tf_idf_matrix.toarray(), columns=vectorizer.get_feature_names())\n",
    "tf_idf"
   ],
   "metadata": {
    "collapsed": false,
    "pycharm": {
     "name": "#%%\n"
    }
   }
  },
  {
   "cell_type": "markdown",
   "source": [
    "## K-Mean Clustering"
   ],
   "metadata": {
    "collapsed": false
   }
  },
  {
   "cell_type": "code",
   "execution_count": 61,
   "outputs": [],
   "source": [
    "clusters = 20\n",
    "kmeanModel = KMeans(n_clusters=clusters, init='k-means++', max_iter=3000, random_state=0)\n",
    "mod = kmeanModel.fit_transform(tf_idf)\n",
    "df['k_means'] = kmeanModel.predict(tf_idf)"
   ],
   "metadata": {
    "collapsed": false,
    "pycharm": {
     "name": "#%%\n"
    }
   }
  },
  {
   "cell_type": "code",
   "execution_count": 8,
   "outputs": [
    {
     "name": "stdout",
     "output_type": "stream",
     "text": [
      "0, learn, numberblocks, number, kylie, miss, routine, help, numberblock, mr, ten, 7yearolds, one, time, word, shape, friend, square, adding, count, 9yearolds, \n",
      "1, family, garden, home, life, new, mum, space, dad, help, year, make, back, house, get, time, visit, find, want, come, love, \n",
      "2, topsy, squirrel, gran, timmy, duggee, book, jojo, chloe, make, gaz, watch, tim, donna, explore, janet, play, jonny, friend, sitcom, five, \n",
      "3, find, make, help, new, go, take, friend, try, team, come, day, meanwhile, one, face, plan, life, turn, time, must, back, \n",
      "4, chef, dish, cook, masterchef, judge, gregg, one, challenge, two, celebrity, three, must, competition, four, john, contestant, week, test, kitchen, champion, \n",
      "5, car, jeremy, richard, reasonably, priced, james, clarkson, hammond, star, test, may, track, chris, motoring, quiz, week, new, round, drive, gamer, \n",
      "6, guest, week, queen, bbc, judge, show, special, joined, sewer, challenge, star, panel, strictly, look, chat, music, drag, celebrity, jones, host, \n",
      "7, murder, case, police, english, subtitle, investigation, team, killer, victim, evidence, death, found, suspect, crime, man, detective, body, find, dead, woman, \n",
      "8, ash, pokémon, battle, gym, dawn, city, hero, run, way, player, quiz, brock, friend, rocket, iris, steal, trainer, contest, sinnoh, cilan, \n",
      "9, baby, song, dance, dancer, realitystyle, grownup, bear, step, bag, studio, next, inside, group, following, drama, story, everyone, home, pillowcase, goodbye, \n",
      "10, school, pupil, teacher, get, new, day, mr, hank, high, miss, go, make, class, help, life, find, year, series, waffle, josh, \n",
      "11, andy, steve, adventure, duck, animal, sarah, deadly, kip, world, search, island, embark, way, hammond, find, friend, abney, band, time, rap, \n",
      "12, parliament, question, minister, march, tuesday, wednesday, common, coverage, thursday, house, scottish, westminster, unbeatable, highlight, cornock, proceeding, answer, welsh, player, drakeford, \n",
      "13, world, life, year, first, one, people, film, new, story, time, also, meet, take, episode, country, history, journey, scotland, look, music, \n",
      "14, mr, tumble, justin, friend, dee, word, khan, robert, day, help, today, makaton, special, go, fletcher, fun, along, child, sign, see, \n",
      "15, dr, xand, doctor, ouch, emergency, patient, chris, ranj, body, medical, accident, show, lab, meanwhile, another, operation, department, morag, helper, healthy, \n",
      "16, get, thing, help, new, back, want, go, find, day, monster, make, love, try, meanwhile, friend, time, odd, need, big, take, \n",
      "17, news, latest, political, comprehensive, debate, mp, website, gadget, computer, interview, guide, industry, bbc, analysis, samira, international, comment, important, ahmed, national, \n",
      "18, drama, series, tracy, grace, dipdap, amazing, machine, show, young, episode, team, home, line, life, childrens, pathologist, girl, comedy, three, animated, \n",
      "19, wilson, brewster, koko, chuggington, badge, driver, train, talk, think, need, animation, childrens, dont, special, trainee, quest, place, learn, new, lesson, \n"
     ]
    },
    {
     "name": "stderr",
     "output_type": "stream",
     "text": [
      "/Users/hagenaadfock/miniforge3/envs/tf/lib/python3.8/site-packages/sklearn/utils/deprecation.py:87: FutureWarning: Function get_feature_names is deprecated; get_feature_names is deprecated in 1.0 and will be removed in 1.2. Please use get_feature_names_out instead.\n",
      "  warnings.warn(msg, category=FutureWarning)\n"
     ]
    }
   ],
   "source": [
    "order_centroids = kmeanModel.cluster_centers_.argsort()[:, ::-1]\n",
    "terms = vectorizer.get_feature_names()\n",
    "dict = []\n",
    "for i in range(clusters):\n",
    "  print('%d' % i, sep='', end=', '),\n",
    "  for ind in order_centroids[i, :20]:\n",
    "    print(terms[ind], sep='', end=', ')\n",
    "  print('')"
   ],
   "metadata": {
    "collapsed": false,
    "pycharm": {
     "name": "#%%\n"
    }
   }
  },
  {
   "cell_type": "code",
   "execution_count": 47,
   "outputs": [
    {
     "data": {
      "text/plain": "2226                              North West Tonight\n2233                              Reporting Scotland\n2249                            Channel Islands News\n2257                                        BBC News\n2258                                 BBC Wales Today\n2265                             East Midlands Today\n2272                                      BBC London\n2275                            South Today - Oxford\n2282                                 BBC News at Ten\n2298                                       Spotlight\n2311                                Look East (West)\n2314             Look North (North East and Cumbria)\n2324                                South East Today\n2334                                     South Today\n2335    Look North (East Yorkshire and Lincolnshire)\n2336                           World Business Report\n2338                          Look North (Yorkshire)\n2339                                        The Nine\n2344                                     Points West\n2345                                North West Today\nName: title, dtype: object"
     },
     "execution_count": 47,
     "metadata": {},
     "output_type": "execute_result"
    }
   ],
   "source": [
    "df[df['k_means'] == 2]['title'].head(20)"
   ],
   "metadata": {
    "collapsed": false,
    "pycharm": {
     "name": "#%%\n"
    }
   }
  },
  {
   "cell_type": "code",
   "execution_count": 49,
   "outputs": [
    {
     "data": {
      "text/plain": "      index                               title  \\\n0         0                           BBC Proms   \n1         1                                Port   \n2         2  Sit Down, Stand Up with Greg James   \n3         3         Ceiliúradh na Féile Pádraig   \n4         4                     Songs of Praise   \n...     ...                                 ...   \n3777   3777           Models: Street to Catwalk   \n3789   3789                   Death On The I-95   \n3793   3793        Do Black Lives Still Matter?   \n3797   3797                        Ar An Sliabh   \n3800   3800                Avicii: True Stories   \n\n                                            description  \\\n0     Australian tenor Stuart Skelton is joined by L...   \n1     Previously unseen music from the series Port, ...   \n2     Tom Holland and Greg James cold call celebrity...   \n3     John Toal and Pauline Scanlon introduce an eve...   \n4     Claire McCollum explores Edinburgh and shares ...   \n...                                                 ...   \n3777  Kyra’s late arrival puts her modelling career ...   \n3789  Returning to the US to find out what happened ...   \n3793  Grime artist Saskilla asks, can the music indu...   \n3797  Paul packs up to return to his native Armagh a...   \n3800  Avicii: True Stories is Tim Bergling’s own sto...   \n\n                                                  image  \\\n0     https://ichef.bbci.co.uk/images/ic/{recipe}/p0...   \n1     https://ichef.bbci.co.uk/images/ic/{recipe}/p0...   \n2     https://ichef.bbci.co.uk/images/ic/{recipe}/p0...   \n3     https://ichef.bbci.co.uk/images/ic/{recipe}/p0...   \n4     https://ichef.bbci.co.uk/images/ic/{recipe}/p0...   \n...                                                 ...   \n3777  https://ichef.bbci.co.uk/images/ic/{recipe}/p0...   \n3789  https://ichef.bbci.co.uk/images/ic/{recipe}/p0...   \n3793  https://ichef.bbci.co.uk/images/ic/{recipe}/p0...   \n3797  https://ichef.bbci.co.uk/images/ic/{recipe}/p0...   \n3800  https://ichef.bbci.co.uk/images/ic/{recipe}/p0...   \n\n                                               keywords  \\\n0     BBC, iPlayer, TV, BBC Proms, 2021: Last Night ...   \n1           BBC, iPlayer, TV, Port, Series 5: Episode 4   \n2     BBC, iPlayer, TV, Sit Down, Stand Up with Greg...   \n3         BBC, iPlayer, TV, Ceiliúradh na Féile Pádraig   \n4          BBC, iPlayer, TV, Songs of Praise, Edinburgh   \n...                                                 ...   \n3777  BBC, iPlayer, TV, Models: Street to Catwalk, S...   \n3789                BBC, iPlayer, TV, Death On The I-95   \n3793  BBC, iPlayer, TV, Do Black Lives Still Matter?...   \n3797  BBC, iPlayer, TV, Ar An Sliabh, Series 1: Epis...   \n3800             BBC, iPlayer, TV, Avicii: True Stories   \n\n                                                 syno_s  \\\n0     Australian tenor Stuart Skelton is joined by L...   \n1     Previously unseen music from the series Port, ...   \n2     Tom Holland and Greg James cold call celebrity...   \n3     John Toal and Pauline Scanlon introduce an eve...   \n4     Claire McCollum explores Edinburgh and shares ...   \n...                                                 ...   \n3777  Kyra’s late arrival puts her modelling career ...   \n3789  Returning to the US to find out what happened ...   \n3793  Grime artist Saskilla asks, can the music indu...   \n3797  Paul packs up to return to his native Armagh a...   \n3800  Avicii: True Stories is Tim Bergling’s own sto...   \n\n                                                 syno_m  \\\n0     Australian tenor Stuart Skelton is joined by L...   \n1     Julie Fowlis a’ lìbhrigeadh ceòl bhon t-sreath...   \n2     Tom Holland and Greg James cold call celebrity...   \n3     John Toal and Pauline Scanlon introduce an eve...   \n4     Claire McCollum goes on a Christian heritage t...   \n...                                                 ...   \n3777  Kyra jeopardises her modelling career by turni...   \n3789  Following a report on the growing problem of o...   \n3793  The music industry pledged millions in support...   \n3797  Paul packs up to return to his native Armagh a...   \n3800  Avicii: True Stories is Tim Bergling’s own sto...   \n\n                                                 syno_l       category  \\\n0     Katie Derham hosts continued live coverage fro...          Music   \n1     Bidh Druthag Bheag Eile a’ tarraing ri chèile ...          Music   \n2     Tom Holland and Greg James cold call celebrity...  Entertainment   \n3     John Toal and Pauline Scanlon introduce an eve...          Music   \n4     Claire McCollum explores Edinburgh and discove...          Music   \n...                                                 ...            ...   \n3777  How will Kyra cope after a train malfunction m...    Documentary   \n3789  Drug overdose is now the main cause of death f...    Documentary   \n3793  The music industry reacted with a surge of out...    Documentary   \n3797  I Sliabh Eachtaí, tá Cérill ag déanamh réidh d...    Documentary   \n3800  In 2006, Tim Bergling was just a regular teena...    Documentary   \n\n                               channel  \\\n0                      bbc_radio_three   \n1                             bbc_alba   \n2                        bbc_radio_one   \n3     bbc_two_northern_ireland_digital   \n4                              bbc_one   \n...                                ...   \n3777                         bbc_three   \n3789                         bbc_three   \n3793                         bbc_three   \n3797                       bbc_webonly   \n3800                         bbc_three   \n\n                                               language        release_date  \\\n0                                                 False     9pm 11 Sep 2021   \n1                                                 False          9 Jul 2020   \n2                                                 False         10 Feb 2022   \n3                                                 False         17 Mar 2017   \n4                                                 False  1:15pm 20 Feb 2022   \n...                                                 ...                 ...   \n3777  Contains some strong language and some upsetti...          8 Aug 2021   \n3789  Contains some strong language and upsetting sc...         24 Oct 2018   \n3793                                              False         31 May 2021   \n3797                                              False         22 Nov 2021   \n3800                          Contains strong language.         20 Apr 2019   \n\n      duration_sec                           topic  \\\n0             5247  ['music', 'from-the-archives']   \n1             1037                       ['music']   \n2              611      ['music', 'entertainment']   \n3             3538                       ['music']   \n4             2044          ['music', 'lifestyle']   \n...            ...                             ...   \n3777          1843               ['documentaries']   \n3789          3426               ['documentaries']   \n3793          1524               ['documentaries']   \n3797          1740               ['documentaries']   \n3800          5766               ['documentaries']   \n\n                                         spacied_syno_l  \\\n0     Katie Derham hosts continued live coverage fro...   \n1     Bidh Druthag Bheag Eile a’ tarraing ri chèile ...   \n2     Tom Holland and Greg James cold call celebrity...   \n3     John Toal and Pauline Scanlon introduce an eve...   \n4     Claire McCollum explores Edinburgh and discove...   \n...                                                 ...   \n3777  How will Kyra cope after a train malfunction m...   \n3789  Drug overdose is now the main cause of death f...   \n3793  The music industry reacted with a surge of out...   \n3797  I Sliabh Eachtaí, tá Cérill ag déanamh réidh d...   \n3800  In 2006, Tim Bergling was just a regular teena...   \n\n                                       processed_syno_l  \\\n0     ['Katie', 'Derham', 'host', 'continue', 'live'...   \n1     ['Bidh', 'Druthag', 'Bheag', 'Eile', 'tarraing...   \n2     ['Tom', 'Holland', 'Greg', 'James', 'cold', 'c...   \n3     ['John', 'Toal', 'Pauline', 'Scanlon', 'introd...   \n4     ['Claire', 'McCollum', 'explore', 'Edinburgh',...   \n...                                                 ...   \n3777  ['Kyra', 'cope', 'train', 'malfunction', 'make...   \n3789  ['drug', 'main', 'cause', 'death', 'Americans'...   \n3793  ['music', 'industry', 'react', 'surge', 'outra...   \n3797  ['Sliabh', 'Eachtaí', 'tá', 'Cérill', 'ag', 'd...   \n3800  ['Tim', 'Bergling', 'regular', 'teenager', 'li...   \n\n                            processed_syno_l_one_string  k_means  \\\n0     Katie Derham host continue live coverage Royal...       18   \n1     Bidh Druthag Bheag Eile tarraing ri chèile pìo...        0   \n2     Tom Holland Greg James cold celebrity friend f...        9   \n3     John Toal Pauline Scanlon introduce evening mu...        0   \n4     Claire McCollum explore Edinburgh discover ric...       18   \n...                                                 ...      ...   \n3777  Kyra cope train malfunction make hour crucial ...       15   \n3789  drug main cause death Americans age likely die...        3   \n3793  music industry react surge outrage death Georg...       17   \n3797  Sliabh Eachtaí tá Cérill ag déanamh réidh don ...        0   \n3800  Tim Bergling regular teenager live small apart...       15   \n\n                                         cleaned_syno_l  \n0     katie derham host continued live coverage roya...  \n1     bidh druthag bheag eile ’ tarraing ri chèile p...  \n2     tom holland greg james cold call celebrity fri...  \n3     john toal pauline scanlon introduce evening mu...  \n4     claire mccollum explores edinburgh discovers r...  \n...                                                 ...  \n3777  kyra cope train malfunction make two hour late...  \n3789  drug overdose main cause death american age 50...  \n3793  music industry reacted surge outrage death geo...  \n3797  sliabh eachtaí tá cérill ag déanamh réidh mheá...  \n3800  2006 tim bergling regular teenager living smal...  \n\n[2326 rows x 19 columns]",
      "text/html": "<div>\n<style scoped>\n    .dataframe tbody tr th:only-of-type {\n        vertical-align: middle;\n    }\n\n    .dataframe tbody tr th {\n        vertical-align: top;\n    }\n\n    .dataframe thead th {\n        text-align: right;\n    }\n</style>\n<table border=\"1\" class=\"dataframe\">\n  <thead>\n    <tr style=\"text-align: right;\">\n      <th></th>\n      <th>index</th>\n      <th>title</th>\n      <th>description</th>\n      <th>image</th>\n      <th>keywords</th>\n      <th>syno_s</th>\n      <th>syno_m</th>\n      <th>syno_l</th>\n      <th>category</th>\n      <th>channel</th>\n      <th>language</th>\n      <th>release_date</th>\n      <th>duration_sec</th>\n      <th>topic</th>\n      <th>spacied_syno_l</th>\n      <th>processed_syno_l</th>\n      <th>processed_syno_l_one_string</th>\n      <th>k_means</th>\n      <th>cleaned_syno_l</th>\n    </tr>\n  </thead>\n  <tbody>\n    <tr>\n      <th>0</th>\n      <td>0</td>\n      <td>BBC Proms</td>\n      <td>Australian tenor Stuart Skelton is joined by L...</td>\n      <td>https://ichef.bbci.co.uk/images/ic/{recipe}/p0...</td>\n      <td>BBC, iPlayer, TV, BBC Proms, 2021: Last Night ...</td>\n      <td>Australian tenor Stuart Skelton is joined by L...</td>\n      <td>Australian tenor Stuart Skelton is joined by L...</td>\n      <td>Katie Derham hosts continued live coverage fro...</td>\n      <td>Music</td>\n      <td>bbc_radio_three</td>\n      <td>False</td>\n      <td>9pm 11 Sep 2021</td>\n      <td>5247</td>\n      <td>['music', 'from-the-archives']</td>\n      <td>Katie Derham hosts continued live coverage fro...</td>\n      <td>['Katie', 'Derham', 'host', 'continue', 'live'...</td>\n      <td>Katie Derham host continue live coverage Royal...</td>\n      <td>18</td>\n      <td>katie derham host continued live coverage roya...</td>\n    </tr>\n    <tr>\n      <th>1</th>\n      <td>1</td>\n      <td>Port</td>\n      <td>Previously unseen music from the series Port, ...</td>\n      <td>https://ichef.bbci.co.uk/images/ic/{recipe}/p0...</td>\n      <td>BBC, iPlayer, TV, Port, Series 5: Episode 4</td>\n      <td>Previously unseen music from the series Port, ...</td>\n      <td>Julie Fowlis a’ lìbhrigeadh ceòl bhon t-sreath...</td>\n      <td>Bidh Druthag Bheag Eile a’ tarraing ri chèile ...</td>\n      <td>Music</td>\n      <td>bbc_alba</td>\n      <td>False</td>\n      <td>9 Jul 2020</td>\n      <td>1037</td>\n      <td>['music']</td>\n      <td>Bidh Druthag Bheag Eile a’ tarraing ri chèile ...</td>\n      <td>['Bidh', 'Druthag', 'Bheag', 'Eile', 'tarraing...</td>\n      <td>Bidh Druthag Bheag Eile tarraing ri chèile pìo...</td>\n      <td>0</td>\n      <td>bidh druthag bheag eile ’ tarraing ri chèile p...</td>\n    </tr>\n    <tr>\n      <th>2</th>\n      <td>2</td>\n      <td>Sit Down, Stand Up with Greg James</td>\n      <td>Tom Holland and Greg James cold call celebrity...</td>\n      <td>https://ichef.bbci.co.uk/images/ic/{recipe}/p0...</td>\n      <td>BBC, iPlayer, TV, Sit Down, Stand Up with Greg...</td>\n      <td>Tom Holland and Greg James cold call celebrity...</td>\n      <td>Tom Holland and Greg James cold call celebrity...</td>\n      <td>Tom Holland and Greg James cold call celebrity...</td>\n      <td>Entertainment</td>\n      <td>bbc_radio_one</td>\n      <td>False</td>\n      <td>10 Feb 2022</td>\n      <td>611</td>\n      <td>['music', 'entertainment']</td>\n      <td>Tom Holland and Greg James cold call celebrity...</td>\n      <td>['Tom', 'Holland', 'Greg', 'James', 'cold', 'c...</td>\n      <td>Tom Holland Greg James cold celebrity friend f...</td>\n      <td>9</td>\n      <td>tom holland greg james cold call celebrity fri...</td>\n    </tr>\n    <tr>\n      <th>3</th>\n      <td>3</td>\n      <td>Ceiliúradh na Féile Pádraig</td>\n      <td>John Toal and Pauline Scanlon introduce an eve...</td>\n      <td>https://ichef.bbci.co.uk/images/ic/{recipe}/p0...</td>\n      <td>BBC, iPlayer, TV, Ceiliúradh na Féile Pádraig</td>\n      <td>John Toal and Pauline Scanlon introduce an eve...</td>\n      <td>John Toal and Pauline Scanlon introduce an eve...</td>\n      <td>John Toal and Pauline Scanlon introduce an eve...</td>\n      <td>Music</td>\n      <td>bbc_two_northern_ireland_digital</td>\n      <td>False</td>\n      <td>17 Mar 2017</td>\n      <td>3538</td>\n      <td>['music']</td>\n      <td>John Toal and Pauline Scanlon introduce an eve...</td>\n      <td>['John', 'Toal', 'Pauline', 'Scanlon', 'introd...</td>\n      <td>John Toal Pauline Scanlon introduce evening mu...</td>\n      <td>0</td>\n      <td>john toal pauline scanlon introduce evening mu...</td>\n    </tr>\n    <tr>\n      <th>4</th>\n      <td>4</td>\n      <td>Songs of Praise</td>\n      <td>Claire McCollum explores Edinburgh and shares ...</td>\n      <td>https://ichef.bbci.co.uk/images/ic/{recipe}/p0...</td>\n      <td>BBC, iPlayer, TV, Songs of Praise, Edinburgh</td>\n      <td>Claire McCollum explores Edinburgh and shares ...</td>\n      <td>Claire McCollum goes on a Christian heritage t...</td>\n      <td>Claire McCollum explores Edinburgh and discove...</td>\n      <td>Music</td>\n      <td>bbc_one</td>\n      <td>False</td>\n      <td>1:15pm 20 Feb 2022</td>\n      <td>2044</td>\n      <td>['music', 'lifestyle']</td>\n      <td>Claire McCollum explores Edinburgh and discove...</td>\n      <td>['Claire', 'McCollum', 'explore', 'Edinburgh',...</td>\n      <td>Claire McCollum explore Edinburgh discover ric...</td>\n      <td>18</td>\n      <td>claire mccollum explores edinburgh discovers r...</td>\n    </tr>\n    <tr>\n      <th>...</th>\n      <td>...</td>\n      <td>...</td>\n      <td>...</td>\n      <td>...</td>\n      <td>...</td>\n      <td>...</td>\n      <td>...</td>\n      <td>...</td>\n      <td>...</td>\n      <td>...</td>\n      <td>...</td>\n      <td>...</td>\n      <td>...</td>\n      <td>...</td>\n      <td>...</td>\n      <td>...</td>\n      <td>...</td>\n      <td>...</td>\n      <td>...</td>\n    </tr>\n    <tr>\n      <th>3777</th>\n      <td>3777</td>\n      <td>Models: Street to Catwalk</td>\n      <td>Kyra’s late arrival puts her modelling career ...</td>\n      <td>https://ichef.bbci.co.uk/images/ic/{recipe}/p0...</td>\n      <td>BBC, iPlayer, TV, Models: Street to Catwalk, S...</td>\n      <td>Kyra’s late arrival puts her modelling career ...</td>\n      <td>Kyra jeopardises her modelling career by turni...</td>\n      <td>How will Kyra cope after a train malfunction m...</td>\n      <td>Documentary</td>\n      <td>bbc_three</td>\n      <td>Contains some strong language and some upsetti...</td>\n      <td>8 Aug 2021</td>\n      <td>1843</td>\n      <td>['documentaries']</td>\n      <td>How will Kyra cope after a train malfunction m...</td>\n      <td>['Kyra', 'cope', 'train', 'malfunction', 'make...</td>\n      <td>Kyra cope train malfunction make hour crucial ...</td>\n      <td>15</td>\n      <td>kyra cope train malfunction make two hour late...</td>\n    </tr>\n    <tr>\n      <th>3789</th>\n      <td>3789</td>\n      <td>Death On The I-95</td>\n      <td>Returning to the US to find out what happened ...</td>\n      <td>https://ichef.bbci.co.uk/images/ic/{recipe}/p0...</td>\n      <td>BBC, iPlayer, TV, Death On The I-95</td>\n      <td>Returning to the US to find out what happened ...</td>\n      <td>Following a report on the growing problem of o...</td>\n      <td>Drug overdose is now the main cause of death f...</td>\n      <td>Documentary</td>\n      <td>bbc_three</td>\n      <td>Contains some strong language and upsetting sc...</td>\n      <td>24 Oct 2018</td>\n      <td>3426</td>\n      <td>['documentaries']</td>\n      <td>Drug overdose is now the main cause of death f...</td>\n      <td>['drug', 'main', 'cause', 'death', 'Americans'...</td>\n      <td>drug main cause death Americans age likely die...</td>\n      <td>3</td>\n      <td>drug overdose main cause death american age 50...</td>\n    </tr>\n    <tr>\n      <th>3793</th>\n      <td>3793</td>\n      <td>Do Black Lives Still Matter?</td>\n      <td>Grime artist Saskilla asks, can the music indu...</td>\n      <td>https://ichef.bbci.co.uk/images/ic/{recipe}/p0...</td>\n      <td>BBC, iPlayer, TV, Do Black Lives Still Matter?...</td>\n      <td>Grime artist Saskilla asks, can the music indu...</td>\n      <td>The music industry pledged millions in support...</td>\n      <td>The music industry reacted with a surge of out...</td>\n      <td>Documentary</td>\n      <td>bbc_three</td>\n      <td>False</td>\n      <td>31 May 2021</td>\n      <td>1524</td>\n      <td>['documentaries']</td>\n      <td>The music industry reacted with a surge of out...</td>\n      <td>['music', 'industry', 'react', 'surge', 'outra...</td>\n      <td>music industry react surge outrage death Georg...</td>\n      <td>17</td>\n      <td>music industry reacted surge outrage death geo...</td>\n    </tr>\n    <tr>\n      <th>3797</th>\n      <td>3797</td>\n      <td>Ar An Sliabh</td>\n      <td>Paul packs up to return to his native Armagh a...</td>\n      <td>https://ichef.bbci.co.uk/images/ic/{recipe}/p0...</td>\n      <td>BBC, iPlayer, TV, Ar An Sliabh, Series 1: Epis...</td>\n      <td>Paul packs up to return to his native Armagh a...</td>\n      <td>Paul packs up to return to his native Armagh a...</td>\n      <td>I Sliabh Eachtaí, tá Cérill ag déanamh réidh d...</td>\n      <td>Documentary</td>\n      <td>bbc_webonly</td>\n      <td>False</td>\n      <td>22 Nov 2021</td>\n      <td>1740</td>\n      <td>['documentaries']</td>\n      <td>I Sliabh Eachtaí, tá Cérill ag déanamh réidh d...</td>\n      <td>['Sliabh', 'Eachtaí', 'tá', 'Cérill', 'ag', 'd...</td>\n      <td>Sliabh Eachtaí tá Cérill ag déanamh réidh don ...</td>\n      <td>0</td>\n      <td>sliabh eachtaí tá cérill ag déanamh réidh mheá...</td>\n    </tr>\n    <tr>\n      <th>3800</th>\n      <td>3800</td>\n      <td>Avicii: True Stories</td>\n      <td>Avicii: True Stories is Tim Bergling’s own sto...</td>\n      <td>https://ichef.bbci.co.uk/images/ic/{recipe}/p0...</td>\n      <td>BBC, iPlayer, TV, Avicii: True Stories</td>\n      <td>Avicii: True Stories is Tim Bergling’s own sto...</td>\n      <td>Avicii: True Stories is Tim Bergling’s own sto...</td>\n      <td>In 2006, Tim Bergling was just a regular teena...</td>\n      <td>Documentary</td>\n      <td>bbc_three</td>\n      <td>Contains strong language.</td>\n      <td>20 Apr 2019</td>\n      <td>5766</td>\n      <td>['documentaries']</td>\n      <td>In 2006, Tim Bergling was just a regular teena...</td>\n      <td>['Tim', 'Bergling', 'regular', 'teenager', 'li...</td>\n      <td>Tim Bergling regular teenager live small apart...</td>\n      <td>15</td>\n      <td>2006 tim bergling regular teenager living smal...</td>\n    </tr>\n  </tbody>\n</table>\n<p>2326 rows × 19 columns</p>\n</div>"
     },
     "execution_count": 49,
     "metadata": {},
     "output_type": "execute_result"
    }
   ],
   "source": [
    "df"
   ],
   "metadata": {
    "collapsed": false,
    "pycharm": {
     "name": "#%%\n"
    }
   }
  },
  {
   "cell_type": "code",
   "execution_count": 62,
   "outputs": [],
   "source": [
    "df.to_csv('../bbc_small.csv', sep=';')"
   ],
   "metadata": {
    "collapsed": false,
    "pycharm": {
     "name": "#%%\n"
    }
   }
  },
  {
   "cell_type": "markdown",
   "source": [
    "## Cosin Similarity"
   ],
   "metadata": {
    "collapsed": false
   }
  },
  {
   "cell_type": "code",
   "execution_count": 8,
   "outputs": [],
   "source": [
    "cosine = cosine_similarity(tf_idf_matrix, tf_idf_matrix)"
   ],
   "metadata": {
    "collapsed": false,
    "pycharm": {
     "name": "#%%\n"
    }
   }
  },
  {
   "cell_type": "code",
   "execution_count": 25,
   "outputs": [],
   "source": [
    "# with open('../bbc_cosine.npy', 'wb') as f:\n",
    "#     np.save(f, cosine)"
   ],
   "metadata": {
    "collapsed": false,
    "pycharm": {
     "name": "#%%\n"
    }
   }
  },
  {
   "cell_type": "code",
   "execution_count": 9,
   "outputs": [
    {
     "data": {
      "text/plain": "array([[1.        , 0.01713783, 0.        , ..., 0.07864291, 0.        ,\n        0.02013837],\n       [0.01713783, 1.        , 0.        , ..., 0.01306602, 0.13176427,\n        0.0110393 ],\n       [0.        , 0.        , 1.        , ..., 0.06031908, 0.00973088,\n        0.        ],\n       ...,\n       [0.07864291, 0.01306602, 0.06031908, ..., 1.        , 0.        ,\n        0.06651762],\n       [0.        , 0.13176427, 0.00973088, ..., 0.        , 1.        ,\n        0.        ],\n       [0.02013837, 0.0110393 , 0.        , ..., 0.06651762, 0.        ,\n        1.        ]])"
     },
     "execution_count": 9,
     "metadata": {},
     "output_type": "execute_result"
    }
   ],
   "source": [
    "cosine"
   ],
   "metadata": {
    "collapsed": false,
    "pycharm": {
     "name": "#%%\n"
    }
   }
  },
  {
   "cell_type": "code",
   "execution_count": 10,
   "outputs": [
    {
     "data": {
      "text/plain": "          0         1         2         3         4         5         6     \\\n0     1.000000  0.017138  0.000000  0.014938  0.027364  0.108092  0.028579   \n1     0.017138  1.000000  0.000000  0.124017  0.018052  0.003390  0.049918   \n2     0.000000  0.000000  1.000000  0.000000  0.000000  0.089031  0.000000   \n3     0.014938  0.124017  0.000000  1.000000  0.004501  0.008006  0.009224   \n4     0.027364  0.018052  0.000000  0.004501  1.000000  0.011410  0.018659   \n...        ...       ...       ...       ...       ...       ...       ...   \n2468  0.000000  0.005860  0.000000  0.000000  0.000000  0.013219  0.004256   \n2469  0.015148  0.000000  0.011730  0.000000  0.025265  0.018788  0.002634   \n2470  0.078643  0.013066  0.060319  0.030853  0.047036  0.039358  0.009078   \n2471  0.000000  0.131764  0.009731  0.287673  0.002389  0.009463  0.008239   \n2472  0.020138  0.011039  0.000000  0.006592  0.037674  0.038907  0.024911   \n\n          7         8         9     ...      2463      2464      2465  \\\n0     0.133374  0.029517  0.000000  ...  0.000000  0.000000  0.010969   \n1     0.048575  0.018918  0.000000  ...  0.000000  0.000000  0.000000   \n2     0.024758  0.015056  0.000000  ...  0.000000  0.000000  0.000000   \n3     0.028847  0.006662  0.085284  ...  0.000000  0.000000  0.000000   \n4     0.028506  0.024186  0.003457  ...  0.004644  0.014201  0.013220   \n...        ...       ...       ...  ...       ...       ...       ...   \n2468  0.022604  0.000000  0.000000  ...  0.014349  0.023401  0.000000   \n2469  0.006407  0.018951  0.000000  ...  0.033063  0.048845  0.000000   \n2470  0.094621  0.054468  0.000000  ...  0.025582  0.020342  0.011328   \n2471  0.063299  0.012455  0.000000  ...  0.000000  0.000000  0.000000   \n2472  0.039035  0.141876  0.005063  ...  0.089726  0.000000  0.009681   \n\n          2466      2467      2468      2469      2470      2471      2472  \n0     0.011114  0.000000  0.000000  0.015148  0.078643  0.000000  0.020138  \n1     0.003028  0.000000  0.005860  0.000000  0.013066  0.131764  0.011039  \n2     0.000000  0.000000  0.000000  0.011730  0.060319  0.009731  0.000000  \n3     0.011499  0.000000  0.000000  0.000000  0.030853  0.287673  0.006592  \n4     0.010136  0.111495  0.000000  0.025265  0.047036  0.002389  0.037674  \n...        ...       ...       ...       ...       ...       ...       ...  \n2468  0.007389  0.000000  1.000000  0.018303  0.008240  0.008550  0.038546  \n2469  0.031561  0.025864  0.018303  1.000000  0.038243  0.000000  0.042264  \n2470  0.012224  0.000000  0.008240  0.038243  1.000000  0.000000  0.066518  \n2471  0.002986  0.000000  0.008550  0.000000  0.000000  1.000000  0.000000  \n2472  0.035734  0.000000  0.038546  0.042264  0.066518  0.000000  1.000000  \n\n[2473 rows x 2473 columns]",
      "text/html": "<div>\n<style scoped>\n    .dataframe tbody tr th:only-of-type {\n        vertical-align: middle;\n    }\n\n    .dataframe tbody tr th {\n        vertical-align: top;\n    }\n\n    .dataframe thead th {\n        text-align: right;\n    }\n</style>\n<table border=\"1\" class=\"dataframe\">\n  <thead>\n    <tr style=\"text-align: right;\">\n      <th></th>\n      <th>0</th>\n      <th>1</th>\n      <th>2</th>\n      <th>3</th>\n      <th>4</th>\n      <th>5</th>\n      <th>6</th>\n      <th>7</th>\n      <th>8</th>\n      <th>9</th>\n      <th>...</th>\n      <th>2463</th>\n      <th>2464</th>\n      <th>2465</th>\n      <th>2466</th>\n      <th>2467</th>\n      <th>2468</th>\n      <th>2469</th>\n      <th>2470</th>\n      <th>2471</th>\n      <th>2472</th>\n    </tr>\n  </thead>\n  <tbody>\n    <tr>\n      <th>0</th>\n      <td>1.000000</td>\n      <td>0.017138</td>\n      <td>0.000000</td>\n      <td>0.014938</td>\n      <td>0.027364</td>\n      <td>0.108092</td>\n      <td>0.028579</td>\n      <td>0.133374</td>\n      <td>0.029517</td>\n      <td>0.000000</td>\n      <td>...</td>\n      <td>0.000000</td>\n      <td>0.000000</td>\n      <td>0.010969</td>\n      <td>0.011114</td>\n      <td>0.000000</td>\n      <td>0.000000</td>\n      <td>0.015148</td>\n      <td>0.078643</td>\n      <td>0.000000</td>\n      <td>0.020138</td>\n    </tr>\n    <tr>\n      <th>1</th>\n      <td>0.017138</td>\n      <td>1.000000</td>\n      <td>0.000000</td>\n      <td>0.124017</td>\n      <td>0.018052</td>\n      <td>0.003390</td>\n      <td>0.049918</td>\n      <td>0.048575</td>\n      <td>0.018918</td>\n      <td>0.000000</td>\n      <td>...</td>\n      <td>0.000000</td>\n      <td>0.000000</td>\n      <td>0.000000</td>\n      <td>0.003028</td>\n      <td>0.000000</td>\n      <td>0.005860</td>\n      <td>0.000000</td>\n      <td>0.013066</td>\n      <td>0.131764</td>\n      <td>0.011039</td>\n    </tr>\n    <tr>\n      <th>2</th>\n      <td>0.000000</td>\n      <td>0.000000</td>\n      <td>1.000000</td>\n      <td>0.000000</td>\n      <td>0.000000</td>\n      <td>0.089031</td>\n      <td>0.000000</td>\n      <td>0.024758</td>\n      <td>0.015056</td>\n      <td>0.000000</td>\n      <td>...</td>\n      <td>0.000000</td>\n      <td>0.000000</td>\n      <td>0.000000</td>\n      <td>0.000000</td>\n      <td>0.000000</td>\n      <td>0.000000</td>\n      <td>0.011730</td>\n      <td>0.060319</td>\n      <td>0.009731</td>\n      <td>0.000000</td>\n    </tr>\n    <tr>\n      <th>3</th>\n      <td>0.014938</td>\n      <td>0.124017</td>\n      <td>0.000000</td>\n      <td>1.000000</td>\n      <td>0.004501</td>\n      <td>0.008006</td>\n      <td>0.009224</td>\n      <td>0.028847</td>\n      <td>0.006662</td>\n      <td>0.085284</td>\n      <td>...</td>\n      <td>0.000000</td>\n      <td>0.000000</td>\n      <td>0.000000</td>\n      <td>0.011499</td>\n      <td>0.000000</td>\n      <td>0.000000</td>\n      <td>0.000000</td>\n      <td>0.030853</td>\n      <td>0.287673</td>\n      <td>0.006592</td>\n    </tr>\n    <tr>\n      <th>4</th>\n      <td>0.027364</td>\n      <td>0.018052</td>\n      <td>0.000000</td>\n      <td>0.004501</td>\n      <td>1.000000</td>\n      <td>0.011410</td>\n      <td>0.018659</td>\n      <td>0.028506</td>\n      <td>0.024186</td>\n      <td>0.003457</td>\n      <td>...</td>\n      <td>0.004644</td>\n      <td>0.014201</td>\n      <td>0.013220</td>\n      <td>0.010136</td>\n      <td>0.111495</td>\n      <td>0.000000</td>\n      <td>0.025265</td>\n      <td>0.047036</td>\n      <td>0.002389</td>\n      <td>0.037674</td>\n    </tr>\n    <tr>\n      <th>...</th>\n      <td>...</td>\n      <td>...</td>\n      <td>...</td>\n      <td>...</td>\n      <td>...</td>\n      <td>...</td>\n      <td>...</td>\n      <td>...</td>\n      <td>...</td>\n      <td>...</td>\n      <td>...</td>\n      <td>...</td>\n      <td>...</td>\n      <td>...</td>\n      <td>...</td>\n      <td>...</td>\n      <td>...</td>\n      <td>...</td>\n      <td>...</td>\n      <td>...</td>\n      <td>...</td>\n    </tr>\n    <tr>\n      <th>2468</th>\n      <td>0.000000</td>\n      <td>0.005860</td>\n      <td>0.000000</td>\n      <td>0.000000</td>\n      <td>0.000000</td>\n      <td>0.013219</td>\n      <td>0.004256</td>\n      <td>0.022604</td>\n      <td>0.000000</td>\n      <td>0.000000</td>\n      <td>...</td>\n      <td>0.014349</td>\n      <td>0.023401</td>\n      <td>0.000000</td>\n      <td>0.007389</td>\n      <td>0.000000</td>\n      <td>1.000000</td>\n      <td>0.018303</td>\n      <td>0.008240</td>\n      <td>0.008550</td>\n      <td>0.038546</td>\n    </tr>\n    <tr>\n      <th>2469</th>\n      <td>0.015148</td>\n      <td>0.000000</td>\n      <td>0.011730</td>\n      <td>0.000000</td>\n      <td>0.025265</td>\n      <td>0.018788</td>\n      <td>0.002634</td>\n      <td>0.006407</td>\n      <td>0.018951</td>\n      <td>0.000000</td>\n      <td>...</td>\n      <td>0.033063</td>\n      <td>0.048845</td>\n      <td>0.000000</td>\n      <td>0.031561</td>\n      <td>0.025864</td>\n      <td>0.018303</td>\n      <td>1.000000</td>\n      <td>0.038243</td>\n      <td>0.000000</td>\n      <td>0.042264</td>\n    </tr>\n    <tr>\n      <th>2470</th>\n      <td>0.078643</td>\n      <td>0.013066</td>\n      <td>0.060319</td>\n      <td>0.030853</td>\n      <td>0.047036</td>\n      <td>0.039358</td>\n      <td>0.009078</td>\n      <td>0.094621</td>\n      <td>0.054468</td>\n      <td>0.000000</td>\n      <td>...</td>\n      <td>0.025582</td>\n      <td>0.020342</td>\n      <td>0.011328</td>\n      <td>0.012224</td>\n      <td>0.000000</td>\n      <td>0.008240</td>\n      <td>0.038243</td>\n      <td>1.000000</td>\n      <td>0.000000</td>\n      <td>0.066518</td>\n    </tr>\n    <tr>\n      <th>2471</th>\n      <td>0.000000</td>\n      <td>0.131764</td>\n      <td>0.009731</td>\n      <td>0.287673</td>\n      <td>0.002389</td>\n      <td>0.009463</td>\n      <td>0.008239</td>\n      <td>0.063299</td>\n      <td>0.012455</td>\n      <td>0.000000</td>\n      <td>...</td>\n      <td>0.000000</td>\n      <td>0.000000</td>\n      <td>0.000000</td>\n      <td>0.002986</td>\n      <td>0.000000</td>\n      <td>0.008550</td>\n      <td>0.000000</td>\n      <td>0.000000</td>\n      <td>1.000000</td>\n      <td>0.000000</td>\n    </tr>\n    <tr>\n      <th>2472</th>\n      <td>0.020138</td>\n      <td>0.011039</td>\n      <td>0.000000</td>\n      <td>0.006592</td>\n      <td>0.037674</td>\n      <td>0.038907</td>\n      <td>0.024911</td>\n      <td>0.039035</td>\n      <td>0.141876</td>\n      <td>0.005063</td>\n      <td>...</td>\n      <td>0.089726</td>\n      <td>0.000000</td>\n      <td>0.009681</td>\n      <td>0.035734</td>\n      <td>0.000000</td>\n      <td>0.038546</td>\n      <td>0.042264</td>\n      <td>0.066518</td>\n      <td>0.000000</td>\n      <td>1.000000</td>\n    </tr>\n  </tbody>\n</table>\n<p>2473 rows × 2473 columns</p>\n</div>"
     },
     "execution_count": 10,
     "metadata": {},
     "output_type": "execute_result"
    }
   ],
   "source": [
    "df_cosine = pd.DataFrame(cosine)\n",
    "df_cosine"
   ],
   "metadata": {
    "collapsed": false,
    "pycharm": {
     "name": "#%%\n"
    }
   }
  },
  {
   "cell_type": "code",
   "execution_count": 54,
   "outputs": [
    {
     "data": {
      "text/plain": "[2111, 1058, 357, 191, 2014, 786, 1741, 4, 948]"
     },
     "execution_count": 54,
     "metadata": {},
     "output_type": "execute_result"
    }
   ],
   "source": [
    "df_cosine.loc[300].sort_values(ascending=False).index.tolist()[1:10]"
   ],
   "metadata": {
    "collapsed": false,
    "pycharm": {
     "name": "#%%\n"
    }
   }
  },
  {
   "cell_type": "code",
   "execution_count": 11,
   "outputs": [],
   "source": [
    "df_cosine.to_csv('../bbc_cosine_small.csv', sep=';')"
   ],
   "metadata": {
    "collapsed": false,
    "pycharm": {
     "name": "#%%\n"
    }
   }
  },
  {
   "cell_type": "code",
   "execution_count": 38,
   "outputs": [
    {
     "data": {
      "text/plain": "array([[1.        , 0.06513971, 0.0341602 , ..., 0.        , 0.        ,\n        0.        ],\n       [0.06513971, 1.        , 0.01425866, ..., 0.        , 0.00966852,\n        0.        ],\n       [0.0341602 , 0.01425866, 1.        , ..., 0.        , 0.02305491,\n        0.01791652],\n       ...,\n       [0.        , 0.        , 0.        , ..., 1.        , 0.        ,\n        0.        ],\n       [0.        , 0.00966852, 0.02305491, ..., 0.        , 1.        ,\n        0.0299961 ],\n       [0.        , 0.        , 0.01791652, ..., 0.        , 0.0299961 ,\n        1.        ]])"
     },
     "execution_count": 38,
     "metadata": {},
     "output_type": "execute_result"
    }
   ],
   "source": [
    "cosine"
   ],
   "metadata": {
    "collapsed": false,
    "pycharm": {
     "name": "#%%\n"
    }
   }
  },
  {
   "cell_type": "code",
   "execution_count": 37,
   "outputs": [
    {
     "data": {
      "text/plain": "array([1.        , 1.        , 0.29444264, ..., 0.        , 0.        ,\n       0.        ])"
     },
     "execution_count": 37,
     "metadata": {},
     "output_type": "execute_result"
    }
   ],
   "source": [
    "np.sort(cosine[300, :])[::-1]"
   ],
   "metadata": {
    "collapsed": false,
    "pycharm": {
     "name": "#%%\n"
    }
   }
  }
 ],
 "metadata": {
  "kernelspec": {
   "display_name": "Python 3",
   "language": "python",
   "name": "python3"
  },
  "language_info": {
   "codemirror_mode": {
    "name": "ipython",
    "version": 2
   },
   "file_extension": ".py",
   "mimetype": "text/x-python",
   "name": "python",
   "nbconvert_exporter": "python",
   "pygments_lexer": "ipython2",
   "version": "2.7.6"
  }
 },
 "nbformat": 4,
 "nbformat_minor": 0
}