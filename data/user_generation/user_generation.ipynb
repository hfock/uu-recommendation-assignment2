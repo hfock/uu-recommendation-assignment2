{
 "cells": [
  {
   "cell_type": "code",
   "execution_count": 26,
   "metadata": {
    "collapsed": true
   },
   "outputs": [],
   "source": [
    "import json\n",
    "import random\n",
    "from datetime import datetime\n",
    "\n",
    "import pandas as pd"
   ]
  },
  {
   "cell_type": "code",
   "execution_count": 27,
   "outputs": [],
   "source": [
    "WATCHED = 'watched'"
   ],
   "metadata": {
    "collapsed": false,
    "pycharm": {
     "name": "#%%\n"
    }
   }
  },
  {
   "cell_type": "code",
   "execution_count": 10,
   "outputs": [],
   "source": [
    "df = pd.read_csv('../bbc_small.csv', sep=';', index_col=0)"
   ],
   "metadata": {
    "collapsed": false,
    "pycharm": {
     "name": "#%%\n"
    }
   }
  },
  {
   "cell_type": "code",
   "execution_count": 60,
   "outputs": [],
   "source": [
    "def create_new_user(name):\n",
    "    file_location = \"./../users.json\"\n",
    "    with open(file_location) as json_file:\n",
    "        users = json.load(json_file)\n",
    "\n",
    "    last_user = users[len(users)-1]\n",
    "    last_id = last_user['id']\n",
    "\n",
    "    users.append({\n",
    "        'id': last_id + 1,\n",
    "        'name': name,\n",
    "        'password': name,\n",
    "    })\n",
    "\n",
    "    with open(file_location, 'w') as outfile:\n",
    "        json.dump(users, outfile, indent=4)\n",
    "\n",
    "create_new_user('Bart Simpson')"
   ],
   "metadata": {
    "collapsed": false,
    "pycharm": {
     "name": "#%%\n"
    }
   }
  },
  {
   "cell_type": "code",
   "execution_count": 16,
   "outputs": [
    {
     "data": {
      "text/plain": "array(['Music', 'Entertainment', 'Documentary', 'Sport', 'Arts', 'Food',\n       'History', 'Comedy', 'Nature', 'Film', 'Documentary Film', 'CBBC',\n       'Science & Nature', 'Science', 'Lifestyle', 'Film - Drama',\n       'Film - Crime', 'Film - Family', 'Film - Romance',\n       'Film - Thriller', 'Film - Musical', 'Film - Comedy',\n       'Film - Western', 'Comedy Drama', 'Film - Horror',\n       'Film - Adventure', 'Film - Period', 'Film - Biopic', 'Film - War',\n       'Film - Action', 'Film - Sci-Fi', 'Film - Rom-Com', 'Dating',\n       'Reality', 'News', 'Beauty', 'Rom-com', 'Drama', 'CBeebies',\n       'Fantasy', 'Crime Drama', 'Sci-Fi', 'Period Drama',\n       'Current Affairs', 'Signed', 'From the Archives'], dtype=object)"
     },
     "execution_count": 16,
     "metadata": {},
     "output_type": "execute_result"
    }
   ],
   "source": [
    "cat_list = df['category'].unique()\n",
    "cat_list"
   ],
   "metadata": {
    "collapsed": false,
    "pycharm": {
     "name": "#%%\n"
    }
   }
  },
  {
   "cell_type": "code",
   "execution_count": 25,
   "outputs": [],
   "source": [],
   "metadata": {
    "collapsed": false,
    "pycharm": {
     "name": "#%%\n"
    }
   }
  },
  {
   "cell_type": "code",
   "execution_count": 24,
   "outputs": [
    {
     "data": {
      "text/plain": "[235, 617, 504, 2988]"
     },
     "execution_count": 24,
     "metadata": {},
     "output_type": "execute_result"
    }
   ],
   "source": [
    "random.sample(df[df['category'] == 'Film']['index'].tolist(), 4)"
   ],
   "metadata": {
    "collapsed": false,
    "pycharm": {
     "name": "#%%\n"
    }
   }
  },
  {
   "cell_type": "code",
   "execution_count": 57,
   "outputs": [],
   "source": [
    "def populate_user(df: pd.DataFrame, user_id: id, genres):\n",
    "\n",
    "    file_location = \"../activities.json\"\n",
    "    with open(file_location) as json_file:\n",
    "        activities = json.load(json_file)\n",
    "\n",
    "    for genre in genres:\n",
    "        contents = get_random_sample_by_genre(df, genre, 10)\n",
    "        for entry in contents:\n",
    "\n",
    "            data = {\n",
    "                \"content_id\": entry,\n",
    "                \"activity\": WATCHED,\n",
    "                \"user_id\": int(user_id),\n",
    "                \"rating\": random.randint(8, 10),\n",
    "                \"datetime\": str(datetime.now())}\n",
    "            activities.append(data)\n",
    "\n",
    "    with open(file_location, 'w') as outfile:\n",
    "        json.dump(activities, outfile, indent=4)\n",
    "\n",
    "def get_random_sample_by_genre(df, genre, amount):\n",
    "\n",
    "    possible_content = df[df['category'] == genre]['index'].tolist()\n",
    "\n",
    "    if amount > len(possible_content):\n",
    "        amount = len(possible_content)\n",
    "\n",
    "    return random.sample(possible_content, amount)"
   ],
   "metadata": {
    "collapsed": false,
    "pycharm": {
     "name": "#%%\n"
    }
   }
  },
  {
   "cell_type": "code",
   "execution_count": 69,
   "outputs": [],
   "source": [
    "lisa = ['Documentary', 'Arts', 'History', 'Nature', 'Science', 'News', 'Period Drama']\n",
    "homer = ['Entertainment', 'Sport', 'Food', 'Comedy', 'News', 'Rom-com']\n",
    "marge = ['Documentary', 'Lifestyle', 'Dating', 'News', 'Rom-com', 'Period Drama']\n",
    "bart = ['Sport', 'Film', 'Dating', 'News', 'Sci-Fi']\n",
    "simpsons_fam = {1: lisa, 2: homer, 3: marge, 4:bart}"
   ],
   "metadata": {
    "collapsed": false,
    "pycharm": {
     "name": "#%%\n"
    }
   }
  },
  {
   "cell_type": "code",
   "execution_count": 71,
   "outputs": [],
   "source": [
    "for key, value in simpsons_fam.items():\n",
    "    populate_user(df, key, value)"
   ],
   "metadata": {
    "collapsed": false,
    "pycharm": {
     "name": "#%%\n"
    }
   }
  }
 ],
 "metadata": {
  "kernelspec": {
   "display_name": "Python 3",
   "language": "python",
   "name": "python3"
  },
  "language_info": {
   "codemirror_mode": {
    "name": "ipython",
    "version": 2
   },
   "file_extension": ".py",
   "mimetype": "text/x-python",
   "name": "python",
   "nbconvert_exporter": "python",
   "pygments_lexer": "ipython2",
   "version": "2.7.6"
  }
 },
 "nbformat": 4,
 "nbformat_minor": 0
}