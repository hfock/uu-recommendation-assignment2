{
 "cells": [
  {
   "cell_type": "code",
   "execution_count": 1,
   "metadata": {
    "collapsed": true
   },
   "outputs": [],
   "source": [
    "import json\n",
    "import uuid"
   ]
  },
  {
   "cell_type": "code",
   "execution_count": null,
   "outputs": [],
   "source": [
    "LIKE = 'like'\n",
    "DISLIKE = 'dislike'\n",
    "SELECT = 'select'\n",
    "WATCH_PERCENTAGE = 'watch_percentage'\n",
    "# Watching at screen, not starting the movie, maybe reading the synopses\n",
    "#"
   ],
   "metadata": {
    "collapsed": false,
    "pycharm": {
     "name": "#%%\n"
    }
   }
  },
  {
   "cell_type": "code",
   "execution_count": null,
   "outputs": [],
   "source": [
    "def create_new_user(name, password):\n",
    "    file_location = \"./../users.json\"\n",
    "    with open(file_location) as json_file:\n",
    "        users = json.load(json_file)\n",
    "\n",
    "    users.append({\n",
    "        'uuid': uuid.uuid4().hex\n",
    "        'name': name,\n",
    "        'password': password,\n",
    "    })\n",
    "\n",
    "    with open(file_location, 'w') as outfile:\n",
    "        json.dump(st.session_state[c.ACTIVITIES], outfile, indent=4)"
   ],
   "metadata": {
    "collapsed": false,
    "pycharm": {
     "name": "#%%\n"
    }
   }
  },
  {
   "cell_type": "code",
   "execution_count": null,
   "outputs": [],
   "source": [
    "def populate_user(user_uuid: str, df: None):\n",
    "    '''\n",
    "    :param userid:\n",
    "    :param df:\n",
    "    :return:\n",
    "    '''\n",
    "\n",
    "    # go for a liked genre\n",
    "\n",
    "        # completly watch some series within a genre\n",
    "\n",
    "    # go to a unfavoured genre\n",
    "\n",
    "        # only watch some\n",
    "\n",
    "    data = {'content_id': int(id),\n",
    "            'activity': activity,\n",
    "            'watch_percentage': watch_percentage,\n",
    "            'user_uuid': user_uuid,\n",
    "            'datetime': str(datetime.datetime.now())}"
   ],
   "metadata": {
    "collapsed": false,
    "pycharm": {
     "name": "#%%\n"
    }
   }
  },
  {
   "cell_type": "code",
   "execution_count": null,
   "outputs": [],
   "source": [
    "    with open('./../activities.json', 'w') as outfile:\n",
    "        json.dump(json_file, outfile, indent=4)"
   ],
   "metadata": {
    "collapsed": false,
    "pycharm": {
     "name": "#%%\n"
    }
   }
  }
 ],
 "metadata": {
  "kernelspec": {
   "display_name": "Python 3",
   "language": "python",
   "name": "python3"
  },
  "language_info": {
   "codemirror_mode": {
    "name": "ipython",
    "version": 2
   },
   "file_extension": ".py",
   "mimetype": "text/x-python",
   "name": "python",
   "nbconvert_exporter": "python",
   "pygments_lexer": "ipython2",
   "version": "2.7.6"
  }
 },
 "nbformat": 4,
 "nbformat_minor": 0
}