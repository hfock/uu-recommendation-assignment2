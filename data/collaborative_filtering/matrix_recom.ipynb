{
 "cells": [
  {
   "cell_type": "code",
   "execution_count": 2,
   "metadata": {
    "collapsed": true
   },
   "outputs": [],
   "source": [
    "import pandas as pd\n",
    "import numpy as np"
   ]
  },
  {
   "cell_type": "code",
   "execution_count": 11,
   "outputs": [],
   "source": [
    "df_user_activity = pd.read_json(f'../activities.json')\n",
    "df = pd.read_csv(f'../bbc_small.csv', index_col=0, delimiter=';')\n",
    "with open('collab_filter_random_features.npy', 'rb') as f:\n",
    "    numpy_colab_matrix = np.load(f)\n",
    "df_colab = pd.DataFrame(numpy_colab_matrix)"
   ],
   "metadata": {
    "collapsed": false,
    "pycharm": {
     "name": "#%%\n"
    }
   }
  },
  {
   "cell_type": "code",
   "execution_count": 17,
   "outputs": [],
   "source": [
    "def extract_user_movie_dict(df_user_activity):\n",
    "    user_list = df_user_activity.user_id.unique()\n",
    "    user_movie_dict = {}\n",
    "    for user_id in user_list:\n",
    "        user_entries = df_user_activity[df_user_activity['user_id'] == user_id]\n",
    "        user_movie_dict[user_id - 1] = user_entries.content_id.unique()\n",
    "    return user_movie_dict\n",
    "user_movie_dict = extract_user_movie_dict(df_user_activity)"
   ],
   "metadata": {
    "collapsed": false,
    "pycharm": {
     "name": "#%%\n"
    }
   }
  },
  {
   "cell_type": "code",
   "execution_count": 6,
   "outputs": [
    {
     "data": {
      "text/plain": "   index                               title  \\\n0      0                           BBC Proms   \n1      1                                Port   \n2      2  Sit Down, Stand Up with Greg James   \n\n                                subtitle  \\\n0  2021: Last Night of the Proms, Part 2   \n1                    Series 5: Episode 4   \n2                                   None   \n\n                                         description  \\\n0  Australian tenor Stuart Skelton is joined by L...   \n1  Previously unseen music from the series Port, ...   \n2  Tom Holland and Greg James cold call celebrity...   \n\n                                               image  \\\n0  https://ichef.bbci.co.uk/images/ic/{recipe}/p0...   \n1  https://ichef.bbci.co.uk/images/ic/{recipe}/p0...   \n2  https://ichef.bbci.co.uk/images/ic/{recipe}/p0...   \n\n                                            keywords  \\\n0  BBC, iPlayer, TV, BBC Proms, 2021: Last Night ...   \n1        BBC, iPlayer, TV, Port, Series 5: Episode 4   \n2  BBC, iPlayer, TV, Sit Down, Stand Up with Greg...   \n\n                                              syno_s  \\\n0  Australian tenor Stuart Skelton is joined by L...   \n1  Previously unseen music from the series Port, ...   \n2  Tom Holland and Greg James cold call celebrity...   \n\n                                              syno_m  \\\n0  Australian tenor Stuart Skelton is joined by L...   \n1  Julie Fowlis a’ lìbhrigeadh ceòl bhon t-sreath...   \n2  Tom Holland and Greg James cold call celebrity...   \n\n                                              syno_l       category  \\\n0  Katie Derham hosts continued live coverage fro...          Music   \n1  Bidh Druthag Bheag Eile a’ tarraing ri chèile ...          Music   \n2  Tom Holland and Greg James cold call celebrity...  Entertainment   \n\n           channel language  release_date  duration_min                 topic  \\\n0  BBC RADIO THREE    False          2021            87                 music   \n1         BBC ALBA    False          2020            17                 music   \n2    BBC RADIO ONE    False          2022            10  music, entertainment   \n\n                                             image_l  \\\n0  https://ichef.bbci.co.uk/images/ic/352x198/p09...   \n1  https://ichef.bbci.co.uk/images/ic/352x198/p08...   \n2  https://ichef.bbci.co.uk/images/ic/352x198/p0b...   \n\n                                            image_xl  \\\n0  https://ichef.bbci.co.uk/images/ic/1200x675/p0...   \n1  https://ichef.bbci.co.uk/images/ic/1200x675/p0...   \n2  https://ichef.bbci.co.uk/images/ic/1200x675/p0...   \n\n                                      cleaned_syno_l  k_means  \n0  katie derham host continued live coverage roya...       19  \n1  bidh druthag bheag eile ’ tarraing ri chèile p...        6  \n2  tom holland greg james cold call celebrity fri...        7  ",
      "text/html": "<div>\n<style scoped>\n    .dataframe tbody tr th:only-of-type {\n        vertical-align: middle;\n    }\n\n    .dataframe tbody tr th {\n        vertical-align: top;\n    }\n\n    .dataframe thead th {\n        text-align: right;\n    }\n</style>\n<table border=\"1\" class=\"dataframe\">\n  <thead>\n    <tr style=\"text-align: right;\">\n      <th></th>\n      <th>index</th>\n      <th>title</th>\n      <th>subtitle</th>\n      <th>description</th>\n      <th>image</th>\n      <th>keywords</th>\n      <th>syno_s</th>\n      <th>syno_m</th>\n      <th>syno_l</th>\n      <th>category</th>\n      <th>channel</th>\n      <th>language</th>\n      <th>release_date</th>\n      <th>duration_min</th>\n      <th>topic</th>\n      <th>image_l</th>\n      <th>image_xl</th>\n      <th>cleaned_syno_l</th>\n      <th>k_means</th>\n    </tr>\n  </thead>\n  <tbody>\n    <tr>\n      <th>0</th>\n      <td>0</td>\n      <td>BBC Proms</td>\n      <td>2021: Last Night of the Proms, Part 2</td>\n      <td>Australian tenor Stuart Skelton is joined by L...</td>\n      <td>https://ichef.bbci.co.uk/images/ic/{recipe}/p0...</td>\n      <td>BBC, iPlayer, TV, BBC Proms, 2021: Last Night ...</td>\n      <td>Australian tenor Stuart Skelton is joined by L...</td>\n      <td>Australian tenor Stuart Skelton is joined by L...</td>\n      <td>Katie Derham hosts continued live coverage fro...</td>\n      <td>Music</td>\n      <td>BBC RADIO THREE</td>\n      <td>False</td>\n      <td>2021</td>\n      <td>87</td>\n      <td>music</td>\n      <td>https://ichef.bbci.co.uk/images/ic/352x198/p09...</td>\n      <td>https://ichef.bbci.co.uk/images/ic/1200x675/p0...</td>\n      <td>katie derham host continued live coverage roya...</td>\n      <td>19</td>\n    </tr>\n    <tr>\n      <th>1</th>\n      <td>1</td>\n      <td>Port</td>\n      <td>Series 5: Episode 4</td>\n      <td>Previously unseen music from the series Port, ...</td>\n      <td>https://ichef.bbci.co.uk/images/ic/{recipe}/p0...</td>\n      <td>BBC, iPlayer, TV, Port, Series 5: Episode 4</td>\n      <td>Previously unseen music from the series Port, ...</td>\n      <td>Julie Fowlis a’ lìbhrigeadh ceòl bhon t-sreath...</td>\n      <td>Bidh Druthag Bheag Eile a’ tarraing ri chèile ...</td>\n      <td>Music</td>\n      <td>BBC ALBA</td>\n      <td>False</td>\n      <td>2020</td>\n      <td>17</td>\n      <td>music</td>\n      <td>https://ichef.bbci.co.uk/images/ic/352x198/p08...</td>\n      <td>https://ichef.bbci.co.uk/images/ic/1200x675/p0...</td>\n      <td>bidh druthag bheag eile ’ tarraing ri chèile p...</td>\n      <td>6</td>\n    </tr>\n    <tr>\n      <th>2</th>\n      <td>2</td>\n      <td>Sit Down, Stand Up with Greg James</td>\n      <td>None</td>\n      <td>Tom Holland and Greg James cold call celebrity...</td>\n      <td>https://ichef.bbci.co.uk/images/ic/{recipe}/p0...</td>\n      <td>BBC, iPlayer, TV, Sit Down, Stand Up with Greg...</td>\n      <td>Tom Holland and Greg James cold call celebrity...</td>\n      <td>Tom Holland and Greg James cold call celebrity...</td>\n      <td>Tom Holland and Greg James cold call celebrity...</td>\n      <td>Entertainment</td>\n      <td>BBC RADIO ONE</td>\n      <td>False</td>\n      <td>2022</td>\n      <td>10</td>\n      <td>music, entertainment</td>\n      <td>https://ichef.bbci.co.uk/images/ic/352x198/p0b...</td>\n      <td>https://ichef.bbci.co.uk/images/ic/1200x675/p0...</td>\n      <td>tom holland greg james cold call celebrity fri...</td>\n      <td>7</td>\n    </tr>\n  </tbody>\n</table>\n</div>"
     },
     "execution_count": 6,
     "metadata": {},
     "output_type": "execute_result"
    }
   ],
   "source": [
    "df.head(3)"
   ],
   "metadata": {
    "collapsed": false,
    "pycharm": {
     "name": "#%%\n"
    }
   }
  },
  {
   "cell_type": "code",
   "execution_count": 8,
   "outputs": [
    {
     "data": {
      "text/plain": "   content_id activity  user_id  rating                   datetime\n0        2387  watched        1       8 2022-04-01 11:53:07.317820\n1        2446  watched        1       8 2022-04-01 11:53:07.317846\n2        1869  watched        1       9 2022-04-01 11:53:07.317850",
      "text/html": "<div>\n<style scoped>\n    .dataframe tbody tr th:only-of-type {\n        vertical-align: middle;\n    }\n\n    .dataframe tbody tr th {\n        vertical-align: top;\n    }\n\n    .dataframe thead th {\n        text-align: right;\n    }\n</style>\n<table border=\"1\" class=\"dataframe\">\n  <thead>\n    <tr style=\"text-align: right;\">\n      <th></th>\n      <th>content_id</th>\n      <th>activity</th>\n      <th>user_id</th>\n      <th>rating</th>\n      <th>datetime</th>\n    </tr>\n  </thead>\n  <tbody>\n    <tr>\n      <th>0</th>\n      <td>2387</td>\n      <td>watched</td>\n      <td>1</td>\n      <td>8</td>\n      <td>2022-04-01 11:53:07.317820</td>\n    </tr>\n    <tr>\n      <th>1</th>\n      <td>2446</td>\n      <td>watched</td>\n      <td>1</td>\n      <td>8</td>\n      <td>2022-04-01 11:53:07.317846</td>\n    </tr>\n    <tr>\n      <th>2</th>\n      <td>1869</td>\n      <td>watched</td>\n      <td>1</td>\n      <td>9</td>\n      <td>2022-04-01 11:53:07.317850</td>\n    </tr>\n  </tbody>\n</table>\n</div>"
     },
     "execution_count": 8,
     "metadata": {},
     "output_type": "execute_result"
    }
   ],
   "source": [
    "df_user_activity.head(3)"
   ],
   "metadata": {
    "collapsed": false,
    "pycharm": {
     "name": "#%%\n"
    }
   }
  },
  {
   "cell_type": "code",
   "execution_count": 12,
   "outputs": [
    {
     "data": {
      "text/plain": "       0         1         2         3         4         5         6     \\\n0  2.749695  4.047272  0.941226  3.586765  4.462734  4.877353  1.511387   \n1  2.687126  4.113308  0.939722  3.713906  4.338429  4.871265  1.518961   \n2  2.437312  4.008444  0.989521  4.285539  3.857944  4.311255  1.523472   \n3  2.612470  3.694550  1.073434  4.276093  4.189551  3.969281  1.535685   \n\n       7         8         9     ...      2463      2464      2465       2466  \\\n0  2.410278  5.641886  7.003099  ...  2.268970  3.590198  5.884356   9.347645   \n1  2.498072  5.724820  7.051456  ...  2.271878  3.637414  5.937133   9.504561   \n2  3.277961  5.996644  7.075305  ...  2.498161  4.066669  5.799774  10.002677   \n3  3.630949  5.998695  7.066016  ...  2.766368  4.337342  5.581343   9.949933   \n\n       2467      2468      2469      2470      2471      2472  \n0  4.984092  2.701607  2.680396  6.293361  4.752721  4.142768  \n1  5.012028  2.655116  2.835801  6.311259  4.813359  4.195113  \n2  4.972354  2.281055  2.778381  6.177082  5.088641  3.921386  \n3  4.946094  2.254846  2.003803  6.154934  5.181582  3.522808  \n\n[4 rows x 2473 columns]",
      "text/html": "<div>\n<style scoped>\n    .dataframe tbody tr th:only-of-type {\n        vertical-align: middle;\n    }\n\n    .dataframe tbody tr th {\n        vertical-align: top;\n    }\n\n    .dataframe thead th {\n        text-align: right;\n    }\n</style>\n<table border=\"1\" class=\"dataframe\">\n  <thead>\n    <tr style=\"text-align: right;\">\n      <th></th>\n      <th>0</th>\n      <th>1</th>\n      <th>2</th>\n      <th>3</th>\n      <th>4</th>\n      <th>5</th>\n      <th>6</th>\n      <th>7</th>\n      <th>8</th>\n      <th>9</th>\n      <th>...</th>\n      <th>2463</th>\n      <th>2464</th>\n      <th>2465</th>\n      <th>2466</th>\n      <th>2467</th>\n      <th>2468</th>\n      <th>2469</th>\n      <th>2470</th>\n      <th>2471</th>\n      <th>2472</th>\n    </tr>\n  </thead>\n  <tbody>\n    <tr>\n      <th>0</th>\n      <td>2.749695</td>\n      <td>4.047272</td>\n      <td>0.941226</td>\n      <td>3.586765</td>\n      <td>4.462734</td>\n      <td>4.877353</td>\n      <td>1.511387</td>\n      <td>2.410278</td>\n      <td>5.641886</td>\n      <td>7.003099</td>\n      <td>...</td>\n      <td>2.268970</td>\n      <td>3.590198</td>\n      <td>5.884356</td>\n      <td>9.347645</td>\n      <td>4.984092</td>\n      <td>2.701607</td>\n      <td>2.680396</td>\n      <td>6.293361</td>\n      <td>4.752721</td>\n      <td>4.142768</td>\n    </tr>\n    <tr>\n      <th>1</th>\n      <td>2.687126</td>\n      <td>4.113308</td>\n      <td>0.939722</td>\n      <td>3.713906</td>\n      <td>4.338429</td>\n      <td>4.871265</td>\n      <td>1.518961</td>\n      <td>2.498072</td>\n      <td>5.724820</td>\n      <td>7.051456</td>\n      <td>...</td>\n      <td>2.271878</td>\n      <td>3.637414</td>\n      <td>5.937133</td>\n      <td>9.504561</td>\n      <td>5.012028</td>\n      <td>2.655116</td>\n      <td>2.835801</td>\n      <td>6.311259</td>\n      <td>4.813359</td>\n      <td>4.195113</td>\n    </tr>\n    <tr>\n      <th>2</th>\n      <td>2.437312</td>\n      <td>4.008444</td>\n      <td>0.989521</td>\n      <td>4.285539</td>\n      <td>3.857944</td>\n      <td>4.311255</td>\n      <td>1.523472</td>\n      <td>3.277961</td>\n      <td>5.996644</td>\n      <td>7.075305</td>\n      <td>...</td>\n      <td>2.498161</td>\n      <td>4.066669</td>\n      <td>5.799774</td>\n      <td>10.002677</td>\n      <td>4.972354</td>\n      <td>2.281055</td>\n      <td>2.778381</td>\n      <td>6.177082</td>\n      <td>5.088641</td>\n      <td>3.921386</td>\n    </tr>\n    <tr>\n      <th>3</th>\n      <td>2.612470</td>\n      <td>3.694550</td>\n      <td>1.073434</td>\n      <td>4.276093</td>\n      <td>4.189551</td>\n      <td>3.969281</td>\n      <td>1.535685</td>\n      <td>3.630949</td>\n      <td>5.998695</td>\n      <td>7.066016</td>\n      <td>...</td>\n      <td>2.766368</td>\n      <td>4.337342</td>\n      <td>5.581343</td>\n      <td>9.949933</td>\n      <td>4.946094</td>\n      <td>2.254846</td>\n      <td>2.003803</td>\n      <td>6.154934</td>\n      <td>5.181582</td>\n      <td>3.522808</td>\n    </tr>\n  </tbody>\n</table>\n<p>4 rows × 2473 columns</p>\n</div>"
     },
     "execution_count": 12,
     "metadata": {},
     "output_type": "execute_result"
    }
   ],
   "source": [
    "df_colab"
   ],
   "metadata": {
    "collapsed": false,
    "pycharm": {
     "name": "#%%\n"
    }
   }
  },
  {
   "cell_type": "code",
   "execution_count": 18,
   "outputs": [
    {
     "data": {
      "text/plain": "{0: array([2387, 2446, 1869, 1765, 1920, 2379,  943, 1726, 1280,  815,  281,\n         323,  227,  311,  312,  292,  214,  296, 1969,  218, 1779, 1955,\n        1634, 1686, 2122, 2118, 1991, 2129, 1675, 2145,  387,  369,  460,\n        1784,  433,  414,  432,  357,  470,  427,  425,  401,  380,  372,\n         344,  378,  381,  361,  442,  417, 1809, 1856, 1871, 1945, 1818,\n         859, 1886, 1860, 1852, 1875, 1537, 1430, 1396, 1470, 1462, 1467,\n        1417, 1411, 1465, 1447]),\n 1: array([2051,  738,  648,  758,  700,  685,  713, 1613,  658,  678, 1305,\n        1318, 1370,  640, 1298, 1294,  776, 1364,  649, 1310,  799, 2082,\n          96, 1692, 1773, 2098, 1604, 2080, 2104,  734, 1012, 1999, 1088,\n        1078, 1043, 1028, 1038, 1032, 1943,  646, 1807, 1904, 1862, 1822,\n        1826, 1880, 1850, 1792, 1836, 1945, 1018]),\n 2: array([ 276,  148, 2466, 2003,  106,  419, 2411, 2303,  921, 1583,  932,\n         914,  962,  456,  974,  832,  867,  960,  803,  999,  759,  636,\n         761, 1865, 1830, 1880, 1857, 1813, 1909, 1847, 1841, 1855, 1914,\n        1018, 1462, 1470, 1553, 1430, 1411, 1417, 1396, 1527, 1467, 1537]),\n 3: array([1357, 1343, 1335, 1321,  669, 1326, 1327, 1368, 1300, 1319, 2246,\n         142,  484,  594,  502,  590,  606,  298,  234,  324,  636,  759,\n         761, 1822, 1907, 1798, 1891, 1812, 1912, 1865, 1850, 1800, 1804,\n        2011, 1530, 1521, 1385, 1469, 1475, 1546, 1474, 1513, 1514])}"
     },
     "execution_count": 18,
     "metadata": {},
     "output_type": "execute_result"
    }
   ],
   "source": [
    "user_movie_dict"
   ],
   "metadata": {
    "collapsed": false,
    "pycharm": {
     "name": "#%%\n"
    }
   }
  },
  {
   "cell_type": "code",
   "execution_count": 19,
   "outputs": [],
   "source": [
    "for user, movie in user_movie_dict.items():\n",
    "    df_colab.loc[user, movie] = 0"
   ],
   "metadata": {
    "collapsed": false,
    "pycharm": {
     "name": "#%%\n"
    }
   }
  },
  {
   "cell_type": "code",
   "execution_count": 27,
   "outputs": [
    {
     "data": {
      "text/plain": "1865    10.386962\n974     10.240006\n2303    10.116850\n738     10.115595\n799     10.051114\n          ...    \n2387     0.000000\n1430     0.000000\n1869     0.000000\n1871     0.000000\n1634     0.000000\nName: 0, Length: 2473, dtype: float64"
     },
     "execution_count": 27,
     "metadata": {},
     "output_type": "execute_result"
    }
   ],
   "source": [
    "df_colab.T[0].sort_values(ascending=False)"
   ],
   "metadata": {
    "collapsed": false,
    "pycharm": {
     "name": "#%%\n"
    }
   }
  }
 ],
 "metadata": {
  "kernelspec": {
   "display_name": "Python 3",
   "language": "python",
   "name": "python3"
  },
  "language_info": {
   "codemirror_mode": {
    "name": "ipython",
    "version": 2
   },
   "file_extension": ".py",
   "mimetype": "text/x-python",
   "name": "python",
   "nbconvert_exporter": "python",
   "pygments_lexer": "ipython2",
   "version": "2.7.6"
  }
 },
 "nbformat": 4,
 "nbformat_minor": 0
}