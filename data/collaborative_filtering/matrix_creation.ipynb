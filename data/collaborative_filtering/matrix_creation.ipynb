{
 "cells": [
  {
   "cell_type": "code",
   "execution_count": 62,
   "metadata": {
    "collapsed": true
   },
   "outputs": [],
   "source": [
    "import json\n",
    "import pandas as pd\n",
    "import numpy as np"
   ]
  },
  {
   "cell_type": "markdown",
   "source": [
    "## Load Data"
   ],
   "metadata": {
    "collapsed": false
   }
  },
  {
   "cell_type": "code",
   "execution_count": 63,
   "outputs": [],
   "source": [
    "df_movies =  pd.read_csv('../bbc_small.csv', sep=';', index_col=0)\n",
    "df_user_activity = pd.read_json('../activities.json')"
   ],
   "metadata": {
    "collapsed": false,
    "pycharm": {
     "name": "#%%\n"
    }
   }
  },
  {
   "cell_type": "markdown",
   "source": [
    "## Create User-Movie Matrix"
   ],
   "metadata": {
    "collapsed": false
   }
  },
  {
   "cell_type": "code",
   "execution_count": 64,
   "outputs": [
    {
     "data": {
      "text/plain": "     content_id activity  user_id  rating                   datetime\n0          2387  watched        1       8 2022-04-01 11:53:07.317820\n1          2446  watched        1       8 2022-04-01 11:53:07.317846\n2          1869  watched        1       9 2022-04-01 11:53:07.317850\n3          1765  watched        1       9 2022-04-01 11:53:07.317853\n4          1920  watched        1       8 2022-04-01 11:53:07.317855\n..          ...      ...      ...     ...                        ...\n203        1475  watched        4       8 2022-04-01 11:53:07.331050\n204        1546  watched        4      10 2022-04-01 11:53:07.331052\n205        1474  watched        4       8 2022-04-01 11:53:07.331054\n206        1513  watched        4       8 2022-04-01 11:53:07.331056\n207        1514  watched        4       8 2022-04-01 11:53:07.331059\n\n[208 rows x 5 columns]",
      "text/html": "<div>\n<style scoped>\n    .dataframe tbody tr th:only-of-type {\n        vertical-align: middle;\n    }\n\n    .dataframe tbody tr th {\n        vertical-align: top;\n    }\n\n    .dataframe thead th {\n        text-align: right;\n    }\n</style>\n<table border=\"1\" class=\"dataframe\">\n  <thead>\n    <tr style=\"text-align: right;\">\n      <th></th>\n      <th>content_id</th>\n      <th>activity</th>\n      <th>user_id</th>\n      <th>rating</th>\n      <th>datetime</th>\n    </tr>\n  </thead>\n  <tbody>\n    <tr>\n      <th>0</th>\n      <td>2387</td>\n      <td>watched</td>\n      <td>1</td>\n      <td>8</td>\n      <td>2022-04-01 11:53:07.317820</td>\n    </tr>\n    <tr>\n      <th>1</th>\n      <td>2446</td>\n      <td>watched</td>\n      <td>1</td>\n      <td>8</td>\n      <td>2022-04-01 11:53:07.317846</td>\n    </tr>\n    <tr>\n      <th>2</th>\n      <td>1869</td>\n      <td>watched</td>\n      <td>1</td>\n      <td>9</td>\n      <td>2022-04-01 11:53:07.317850</td>\n    </tr>\n    <tr>\n      <th>3</th>\n      <td>1765</td>\n      <td>watched</td>\n      <td>1</td>\n      <td>9</td>\n      <td>2022-04-01 11:53:07.317853</td>\n    </tr>\n    <tr>\n      <th>4</th>\n      <td>1920</td>\n      <td>watched</td>\n      <td>1</td>\n      <td>8</td>\n      <td>2022-04-01 11:53:07.317855</td>\n    </tr>\n    <tr>\n      <th>...</th>\n      <td>...</td>\n      <td>...</td>\n      <td>...</td>\n      <td>...</td>\n      <td>...</td>\n    </tr>\n    <tr>\n      <th>203</th>\n      <td>1475</td>\n      <td>watched</td>\n      <td>4</td>\n      <td>8</td>\n      <td>2022-04-01 11:53:07.331050</td>\n    </tr>\n    <tr>\n      <th>204</th>\n      <td>1546</td>\n      <td>watched</td>\n      <td>4</td>\n      <td>10</td>\n      <td>2022-04-01 11:53:07.331052</td>\n    </tr>\n    <tr>\n      <th>205</th>\n      <td>1474</td>\n      <td>watched</td>\n      <td>4</td>\n      <td>8</td>\n      <td>2022-04-01 11:53:07.331054</td>\n    </tr>\n    <tr>\n      <th>206</th>\n      <td>1513</td>\n      <td>watched</td>\n      <td>4</td>\n      <td>8</td>\n      <td>2022-04-01 11:53:07.331056</td>\n    </tr>\n    <tr>\n      <th>207</th>\n      <td>1514</td>\n      <td>watched</td>\n      <td>4</td>\n      <td>8</td>\n      <td>2022-04-01 11:53:07.331059</td>\n    </tr>\n  </tbody>\n</table>\n<p>208 rows × 5 columns</p>\n</div>"
     },
     "execution_count": 64,
     "metadata": {},
     "output_type": "execute_result"
    }
   ],
   "source": [
    "df_user_activity"
   ],
   "metadata": {
    "collapsed": false,
    "pycharm": {
     "name": "#%%\n"
    }
   }
  },
  {
   "cell_type": "code",
   "execution_count": 65,
   "outputs": [],
   "source": [
    "user_list = df_user_activity.user_id.unique()"
   ],
   "metadata": {
    "collapsed": false,
    "pycharm": {
     "name": "#%%\n"
    }
   }
  },
  {
   "cell_type": "code",
   "execution_count": 66,
   "outputs": [],
   "source": [
    "user_movie_dict = {}\n",
    "for user_id in user_list:\n",
    "    movie_rating_dict = {}\n",
    "    user_entries = df_user_activity[df_user_activity['user_id'] == user_id]\n",
    "    for i, entry in user_entries.iterrows():\n",
    "        movie_rating_dict[entry['content_id']] = entry['rating']\n",
    "    user_movie_dict[user_id] = movie_rating_dict"
   ],
   "metadata": {
    "collapsed": false,
    "pycharm": {
     "name": "#%%\n"
    }
   }
  },
  {
   "cell_type": "code",
   "execution_count": 67,
   "outputs": [
    {
     "data": {
      "text/plain": "{1: {2387: 8,\n  2446: 8,\n  1869: 9,\n  1765: 9,\n  1920: 8,\n  2379: 9,\n  943: 8,\n  1726: 8,\n  1280: 10,\n  815: 8,\n  281: 10,\n  323: 10,\n  227: 9,\n  311: 8,\n  312: 8,\n  292: 8,\n  214: 9,\n  296: 9,\n  1969: 10,\n  218: 8,\n  1779: 9,\n  1955: 10,\n  1634: 10,\n  1686: 9,\n  2122: 8,\n  2118: 9,\n  1991: 10,\n  2129: 8,\n  1675: 10,\n  2145: 9,\n  387: 10,\n  369: 8,\n  460: 10,\n  1784: 8,\n  433: 10,\n  414: 10,\n  432: 8,\n  357: 8,\n  470: 10,\n  427: 8,\n  425: 10,\n  401: 9,\n  380: 8,\n  372: 8,\n  344: 9,\n  378: 10,\n  381: 9,\n  361: 9,\n  442: 8,\n  417: 9,\n  1809: 9,\n  1856: 10,\n  1871: 10,\n  1945: 8,\n  1818: 8,\n  859: 9,\n  1886: 9,\n  1860: 8,\n  1852: 9,\n  1875: 10,\n  1537: 9,\n  1430: 8,\n  1396: 9,\n  1470: 10,\n  1462: 8,\n  1467: 9,\n  1417: 10,\n  1411: 8,\n  1465: 10,\n  1447: 10},\n 2: {2051: 10,\n  738: 10,\n  648: 9,\n  758: 8,\n  700: 8,\n  685: 10,\n  713: 8,\n  1613: 8,\n  658: 8,\n  678: 10,\n  1305: 8,\n  1318: 9,\n  1370: 8,\n  640: 10,\n  1298: 8,\n  1294: 10,\n  776: 9,\n  1364: 8,\n  649: 9,\n  1310: 9,\n  799: 10,\n  2082: 8,\n  96: 9,\n  1692: 8,\n  1773: 9,\n  2098: 10,\n  1604: 8,\n  2080: 9,\n  2104: 9,\n  734: 10,\n  1012: 10,\n  1999: 9,\n  1088: 9,\n  1078: 8,\n  1043: 8,\n  1028: 10,\n  1038: 10,\n  1032: 8,\n  1943: 10,\n  646: 10,\n  1807: 10,\n  1904: 8,\n  1862: 10,\n  1822: 10,\n  1826: 10,\n  1880: 10,\n  1850: 8,\n  1792: 9,\n  1836: 8,\n  1945: 10,\n  1018: 9},\n 3: {276: 9,\n  148: 10,\n  2466: 10,\n  2003: 10,\n  106: 8,\n  419: 8,\n  2411: 9,\n  2303: 10,\n  921: 8,\n  1583: 8,\n  932: 8,\n  914: 10,\n  962: 8,\n  456: 9,\n  974: 10,\n  832: 10,\n  867: 10,\n  960: 9,\n  803: 10,\n  999: 8,\n  759: 10,\n  636: 8,\n  761: 10,\n  1865: 10,\n  1830: 10,\n  1880: 8,\n  1857: 8,\n  1813: 10,\n  1909: 10,\n  1847: 9,\n  1841: 10,\n  1855: 10,\n  1914: 9,\n  1018: 9,\n  1462: 10,\n  1470: 9,\n  1553: 8,\n  1430: 10,\n  1411: 9,\n  1417: 9,\n  1396: 8,\n  1527: 9,\n  1467: 10,\n  1537: 9},\n 4: {1357: 10,\n  1343: 8,\n  1335: 9,\n  1321: 8,\n  669: 10,\n  1326: 9,\n  1327: 9,\n  1368: 9,\n  1300: 8,\n  1319: 9,\n  2246: 8,\n  142: 8,\n  484: 10,\n  594: 10,\n  502: 8,\n  590: 10,\n  606: 8,\n  298: 10,\n  234: 9,\n  324: 10,\n  636: 8,\n  759: 10,\n  761: 8,\n  1822: 9,\n  1907: 9,\n  1798: 9,\n  1891: 8,\n  1812: 8,\n  1912: 10,\n  1865: 10,\n  1850: 10,\n  1800: 10,\n  1804: 8,\n  2011: 8,\n  1530: 10,\n  1521: 9,\n  1385: 9,\n  1469: 9,\n  1475: 8,\n  1546: 10,\n  1474: 8,\n  1513: 8,\n  1514: 8}}"
     },
     "execution_count": 67,
     "metadata": {},
     "output_type": "execute_result"
    }
   ],
   "source": [
    "user_movie_dict"
   ],
   "metadata": {
    "collapsed": false,
    "pycharm": {
     "name": "#%%\n"
    }
   }
  },
  {
   "cell_type": "code",
   "execution_count": 68,
   "outputs": [],
   "source": [
    "matrix_factor = np.zeros((len(user_list), len(df_movies)))"
   ],
   "metadata": {
    "collapsed": false,
    "pycharm": {
     "name": "#%%\n"
    }
   }
  },
  {
   "cell_type": "code",
   "execution_count": 69,
   "outputs": [
    {
     "data": {
      "text/plain": "numpy.ndarray"
     },
     "execution_count": 69,
     "metadata": {},
     "output_type": "execute_result"
    }
   ],
   "source": [
    "type(matrix_factor)"
   ],
   "metadata": {
    "collapsed": false,
    "pycharm": {
     "name": "#%%\n"
    }
   }
  },
  {
   "cell_type": "code",
   "execution_count": 71,
   "outputs": [],
   "source": [
    "for user, movie_rating_dict in user_movie_dict.items():\n",
    "    for movie, rating in movie_rating_dict.items():\n",
    "        matrix_factor[user - 1][movie] = rating"
   ],
   "metadata": {
    "collapsed": false,
    "pycharm": {
     "name": "#%%\n"
    }
   }
  },
  {
   "cell_type": "code",
   "execution_count": 72,
   "outputs": [
    {
     "data": {
      "text/plain": "array([[0., 0., 0., ..., 0., 0., 0.],\n       [0., 0., 0., ..., 0., 0., 0.],\n       [0., 0., 0., ..., 0., 0., 0.],\n       [0., 0., 0., ..., 0., 0., 0.]])"
     },
     "execution_count": 72,
     "metadata": {},
     "output_type": "execute_result"
    }
   ],
   "source": [
    "matrix_factor"
   ],
   "metadata": {
    "collapsed": false,
    "pycharm": {
     "name": "#%%\n"
    }
   }
  },
  {
   "cell_type": "code",
   "execution_count": 73,
   "outputs": [],
   "source": [
    "with open('user_movie_matrix.npy', 'wb') as f:\n",
    "    np.save(f, matrix_factor)"
   ],
   "metadata": {
    "collapsed": false,
    "pycharm": {
     "name": "#%%\n"
    }
   }
  }
 ],
 "metadata": {
  "kernelspec": {
   "display_name": "Python 3",
   "language": "python",
   "name": "python3"
  },
  "language_info": {
   "codemirror_mode": {
    "name": "ipython",
    "version": 2
   },
   "file_extension": ".py",
   "mimetype": "text/x-python",
   "name": "python",
   "nbconvert_exporter": "python",
   "pygments_lexer": "ipython2",
   "version": "2.7.6"
  }
 },
 "nbformat": 4,
 "nbformat_minor": 0
}