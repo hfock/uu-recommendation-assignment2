{
 "cells": [
  {
   "cell_type": "code",
   "execution_count": 2,
   "metadata": {
    "collapsed": true
   },
   "outputs": [],
   "source": [
    "import json\n",
    "import random\n",
    "from datetime import datetime\n",
    "\n",
    "import pandas as pd"
   ]
  },
  {
   "cell_type": "code",
   "execution_count": 3,
   "outputs": [],
   "source": [
    "WATCHED = 'watched'"
   ],
   "metadata": {
    "collapsed": false,
    "pycharm": {
     "name": "#%%\n"
    }
   }
  },
  {
   "cell_type": "code",
   "execution_count": 20,
   "outputs": [],
   "source": [
    "df = pd.read_csv('../bbc_small.csv', sep=';', index_col=0)"
   ],
   "metadata": {
    "collapsed": false,
    "pycharm": {
     "name": "#%%\n"
    }
   }
  },
  {
   "cell_type": "code",
   "execution_count": 12,
   "outputs": [
    {
     "data": {
      "text/plain": "      level_0                               title  \\\n0           0                           BBC Proms   \n1           1                                Port   \n2           2  Sit Down, Stand Up with Greg James   \n3           3         Ceiliúradh na Féile Pádraig   \n4           4                     Songs of Praise   \n...       ...                                 ...   \n2468     2468           Models: Street to Catwalk   \n2469     2469                   Death On The I-95   \n2470     2470        Do Black Lives Still Matter?   \n2471     2471                        Ar An Sliabh   \n2472     2472                Avicii: True Stories   \n\n                                   subtitle  \\\n0     2021: Last Night of the Proms, Part 2   \n1                       Series 5: Episode 4   \n2                                      None   \n3                                      None   \n4                                 Edinburgh   \n...                                     ...   \n2468                    Series 2: Episode 4   \n2469                                   None   \n2470                     Series 1: 3. Music   \n2471                    Series 1: Episode 6   \n2472                                   None   \n\n                                            description  \\\n0     Australian tenor Stuart Skelton is joined by L...   \n1     Previously unseen music from the series Port, ...   \n2     Tom Holland and Greg James cold call celebrity...   \n3     John Toal and Pauline Scanlon introduce an eve...   \n4     Claire McCollum explores Edinburgh and shares ...   \n...                                                 ...   \n2468  Kyra’s late arrival puts her modelling career ...   \n2469  Returning to the US to find out what happened ...   \n2470  Grime artist Saskilla asks, can the music indu...   \n2471  Paul packs up to return to his native Armagh a...   \n2472  Avicii: True Stories is Tim Bergling’s own sto...   \n\n                                                  image  \\\n0     https://ichef.bbci.co.uk/images/ic/{recipe}/p0...   \n1     https://ichef.bbci.co.uk/images/ic/{recipe}/p0...   \n2     https://ichef.bbci.co.uk/images/ic/{recipe}/p0...   \n3     https://ichef.bbci.co.uk/images/ic/{recipe}/p0...   \n4     https://ichef.bbci.co.uk/images/ic/{recipe}/p0...   \n...                                                 ...   \n2468  https://ichef.bbci.co.uk/images/ic/{recipe}/p0...   \n2469  https://ichef.bbci.co.uk/images/ic/{recipe}/p0...   \n2470  https://ichef.bbci.co.uk/images/ic/{recipe}/p0...   \n2471  https://ichef.bbci.co.uk/images/ic/{recipe}/p0...   \n2472  https://ichef.bbci.co.uk/images/ic/{recipe}/p0...   \n\n                                               keywords  \\\n0     BBC, iPlayer, TV, BBC Proms, 2021: Last Night ...   \n1           BBC, iPlayer, TV, Port, Series 5: Episode 4   \n2     BBC, iPlayer, TV, Sit Down, Stand Up with Greg...   \n3         BBC, iPlayer, TV, Ceiliúradh na Féile Pádraig   \n4          BBC, iPlayer, TV, Songs of Praise, Edinburgh   \n...                                                 ...   \n2468  BBC, iPlayer, TV, Models: Street to Catwalk, S...   \n2469                BBC, iPlayer, TV, Death On The I-95   \n2470  BBC, iPlayer, TV, Do Black Lives Still Matter?...   \n2471  BBC, iPlayer, TV, Ar An Sliabh, Series 1: Epis...   \n2472             BBC, iPlayer, TV, Avicii: True Stories   \n\n                                                 syno_s  \\\n0     Australian tenor Stuart Skelton is joined by L...   \n1     Previously unseen music from the series Port, ...   \n2     Tom Holland and Greg James cold call celebrity...   \n3     John Toal and Pauline Scanlon introduce an eve...   \n4     Claire McCollum explores Edinburgh and shares ...   \n...                                                 ...   \n2468  Kyra’s late arrival puts her modelling career ...   \n2469  Returning to the US to find out what happened ...   \n2470  Grime artist Saskilla asks, can the music indu...   \n2471  Paul packs up to return to his native Armagh a...   \n2472  Avicii: True Stories is Tim Bergling’s own sto...   \n\n                                                 syno_m  \\\n0     Australian tenor Stuart Skelton is joined by L...   \n1     Julie Fowlis a’ lìbhrigeadh ceòl bhon t-sreath...   \n2     Tom Holland and Greg James cold call celebrity...   \n3     John Toal and Pauline Scanlon introduce an eve...   \n4     Claire McCollum goes on a Christian heritage t...   \n...                                                 ...   \n2468  Kyra jeopardises her modelling career by turni...   \n2469  Following a report on the growing problem of o...   \n2470  The music industry pledged millions in support...   \n2471  Paul packs up to return to his native Armagh a...   \n2472  Avicii: True Stories is Tim Bergling’s own sto...   \n\n                                                 syno_l       category  \\\n0     Katie Derham hosts continued live coverage fro...          Music   \n1     Bidh Druthag Bheag Eile a’ tarraing ri chèile ...          Music   \n2     Tom Holland and Greg James cold call celebrity...  Entertainment   \n3     John Toal and Pauline Scanlon introduce an eve...          Music   \n4     Claire McCollum explores Edinburgh and discove...          Music   \n...                                                 ...            ...   \n2468  How will Kyra cope after a train malfunction m...    Documentary   \n2469  Drug overdose is now the main cause of death f...    Documentary   \n2470  The music industry reacted with a surge of out...    Documentary   \n2471  I Sliabh Eachtaí, tá Cérill ag déanamh réidh d...    Documentary   \n2472  In 2006, Tim Bergling was just a regular teena...    Documentary   \n\n                               channel  \\\n0                      BBC RADIO THREE   \n1                             BBC ALBA   \n2                        BBC RADIO ONE   \n3     BBC TWO NORTHERN IRELAND DIGITAL   \n4                              BBC ONE   \n...                                ...   \n2468                         BBC THREE   \n2469                         BBC THREE   \n2470                         BBC THREE   \n2471                       BBC WEBONLY   \n2472                         BBC THREE   \n\n                                               language  release_date  \\\n0                                                 False          2021   \n1                                                 False          2020   \n2                                                 False          2022   \n3                                                 False          2017   \n4                                                 False          2022   \n...                                                 ...           ...   \n2468  Contains some strong language and some upsetti...          2021   \n2469  Contains some strong language and upsetting sc...          2018   \n2470                                              False          2021   \n2471                                              False          2021   \n2472                          Contains strong language.          2019   \n\n      duration_min                 topic  \\\n0               87                 music   \n1               17                 music   \n2               10  music, entertainment   \n3               59                 music   \n4               34      music, lifestyle   \n...            ...                   ...   \n2468            31         documentaries   \n2469            57         documentaries   \n2470            25         documentaries   \n2471            29         documentaries   \n2472            96         documentaries   \n\n                                                image_l  \\\n0     https://ichef.bbci.co.uk/images/ic/352x198/p09...   \n1     https://ichef.bbci.co.uk/images/ic/352x198/p08...   \n2     https://ichef.bbci.co.uk/images/ic/352x198/p0b...   \n3     https://ichef.bbci.co.uk/images/ic/352x198/p04...   \n4     https://ichef.bbci.co.uk/images/ic/352x198/p0b...   \n...                                                 ...   \n2468  https://ichef.bbci.co.uk/images/ic/352x198/p09...   \n2469  https://ichef.bbci.co.uk/images/ic/352x198/p07...   \n2470  https://ichef.bbci.co.uk/images/ic/352x198/p09...   \n2471  https://ichef.bbci.co.uk/images/ic/352x198/p0b...   \n2472  https://ichef.bbci.co.uk/images/ic/352x198/p07...   \n\n                                               image_xl  \\\n0     https://ichef.bbci.co.uk/images/ic/1200x675/p0...   \n1     https://ichef.bbci.co.uk/images/ic/1200x675/p0...   \n2     https://ichef.bbci.co.uk/images/ic/1200x675/p0...   \n3     https://ichef.bbci.co.uk/images/ic/1200x675/p0...   \n4     https://ichef.bbci.co.uk/images/ic/1200x675/p0...   \n...                                                 ...   \n2468  https://ichef.bbci.co.uk/images/ic/1200x675/p0...   \n2469  https://ichef.bbci.co.uk/images/ic/1200x675/p0...   \n2470  https://ichef.bbci.co.uk/images/ic/1200x675/p0...   \n2471  https://ichef.bbci.co.uk/images/ic/1200x675/p0...   \n2472  https://ichef.bbci.co.uk/images/ic/1200x675/p0...   \n\n                                         cleaned_syno_l  k_means  \n0     katie derham host continued live coverage roya...       19  \n1     bidh druthag bheag eile ’ tarraing ri chèile p...        6  \n2     tom holland greg james cold call celebrity fri...        7  \n3     john toal pauline scanlon introduce evening mu...       14  \n4     claire mccollum explores edinburgh discovers r...        3  \n...                                                 ...      ...  \n2468  kyra cope train malfunction make two hour late...        4  \n2469  drug overdose main cause death american age 50...        1  \n2470  music industry reacted surge outrage death geo...       19  \n2471  sliabh eachtaí tá cérill ag déanamh réidh mheá...       14  \n2472  2006 tim bergling regular teenager living smal...        1  \n\n[2473 rows x 19 columns]",
      "text/html": "<div>\n<style scoped>\n    .dataframe tbody tr th:only-of-type {\n        vertical-align: middle;\n    }\n\n    .dataframe tbody tr th {\n        vertical-align: top;\n    }\n\n    .dataframe thead th {\n        text-align: right;\n    }\n</style>\n<table border=\"1\" class=\"dataframe\">\n  <thead>\n    <tr style=\"text-align: right;\">\n      <th></th>\n      <th>level_0</th>\n      <th>title</th>\n      <th>subtitle</th>\n      <th>description</th>\n      <th>image</th>\n      <th>keywords</th>\n      <th>syno_s</th>\n      <th>syno_m</th>\n      <th>syno_l</th>\n      <th>category</th>\n      <th>channel</th>\n      <th>language</th>\n      <th>release_date</th>\n      <th>duration_min</th>\n      <th>topic</th>\n      <th>image_l</th>\n      <th>image_xl</th>\n      <th>cleaned_syno_l</th>\n      <th>k_means</th>\n    </tr>\n  </thead>\n  <tbody>\n    <tr>\n      <th>0</th>\n      <td>0</td>\n      <td>BBC Proms</td>\n      <td>2021: Last Night of the Proms, Part 2</td>\n      <td>Australian tenor Stuart Skelton is joined by L...</td>\n      <td>https://ichef.bbci.co.uk/images/ic/{recipe}/p0...</td>\n      <td>BBC, iPlayer, TV, BBC Proms, 2021: Last Night ...</td>\n      <td>Australian tenor Stuart Skelton is joined by L...</td>\n      <td>Australian tenor Stuart Skelton is joined by L...</td>\n      <td>Katie Derham hosts continued live coverage fro...</td>\n      <td>Music</td>\n      <td>BBC RADIO THREE</td>\n      <td>False</td>\n      <td>2021</td>\n      <td>87</td>\n      <td>music</td>\n      <td>https://ichef.bbci.co.uk/images/ic/352x198/p09...</td>\n      <td>https://ichef.bbci.co.uk/images/ic/1200x675/p0...</td>\n      <td>katie derham host continued live coverage roya...</td>\n      <td>19</td>\n    </tr>\n    <tr>\n      <th>1</th>\n      <td>1</td>\n      <td>Port</td>\n      <td>Series 5: Episode 4</td>\n      <td>Previously unseen music from the series Port, ...</td>\n      <td>https://ichef.bbci.co.uk/images/ic/{recipe}/p0...</td>\n      <td>BBC, iPlayer, TV, Port, Series 5: Episode 4</td>\n      <td>Previously unseen music from the series Port, ...</td>\n      <td>Julie Fowlis a’ lìbhrigeadh ceòl bhon t-sreath...</td>\n      <td>Bidh Druthag Bheag Eile a’ tarraing ri chèile ...</td>\n      <td>Music</td>\n      <td>BBC ALBA</td>\n      <td>False</td>\n      <td>2020</td>\n      <td>17</td>\n      <td>music</td>\n      <td>https://ichef.bbci.co.uk/images/ic/352x198/p08...</td>\n      <td>https://ichef.bbci.co.uk/images/ic/1200x675/p0...</td>\n      <td>bidh druthag bheag eile ’ tarraing ri chèile p...</td>\n      <td>6</td>\n    </tr>\n    <tr>\n      <th>2</th>\n      <td>2</td>\n      <td>Sit Down, Stand Up with Greg James</td>\n      <td>None</td>\n      <td>Tom Holland and Greg James cold call celebrity...</td>\n      <td>https://ichef.bbci.co.uk/images/ic/{recipe}/p0...</td>\n      <td>BBC, iPlayer, TV, Sit Down, Stand Up with Greg...</td>\n      <td>Tom Holland and Greg James cold call celebrity...</td>\n      <td>Tom Holland and Greg James cold call celebrity...</td>\n      <td>Tom Holland and Greg James cold call celebrity...</td>\n      <td>Entertainment</td>\n      <td>BBC RADIO ONE</td>\n      <td>False</td>\n      <td>2022</td>\n      <td>10</td>\n      <td>music, entertainment</td>\n      <td>https://ichef.bbci.co.uk/images/ic/352x198/p0b...</td>\n      <td>https://ichef.bbci.co.uk/images/ic/1200x675/p0...</td>\n      <td>tom holland greg james cold call celebrity fri...</td>\n      <td>7</td>\n    </tr>\n    <tr>\n      <th>3</th>\n      <td>3</td>\n      <td>Ceiliúradh na Féile Pádraig</td>\n      <td>None</td>\n      <td>John Toal and Pauline Scanlon introduce an eve...</td>\n      <td>https://ichef.bbci.co.uk/images/ic/{recipe}/p0...</td>\n      <td>BBC, iPlayer, TV, Ceiliúradh na Féile Pádraig</td>\n      <td>John Toal and Pauline Scanlon introduce an eve...</td>\n      <td>John Toal and Pauline Scanlon introduce an eve...</td>\n      <td>John Toal and Pauline Scanlon introduce an eve...</td>\n      <td>Music</td>\n      <td>BBC TWO NORTHERN IRELAND DIGITAL</td>\n      <td>False</td>\n      <td>2017</td>\n      <td>59</td>\n      <td>music</td>\n      <td>https://ichef.bbci.co.uk/images/ic/352x198/p04...</td>\n      <td>https://ichef.bbci.co.uk/images/ic/1200x675/p0...</td>\n      <td>john toal pauline scanlon introduce evening mu...</td>\n      <td>14</td>\n    </tr>\n    <tr>\n      <th>4</th>\n      <td>4</td>\n      <td>Songs of Praise</td>\n      <td>Edinburgh</td>\n      <td>Claire McCollum explores Edinburgh and shares ...</td>\n      <td>https://ichef.bbci.co.uk/images/ic/{recipe}/p0...</td>\n      <td>BBC, iPlayer, TV, Songs of Praise, Edinburgh</td>\n      <td>Claire McCollum explores Edinburgh and shares ...</td>\n      <td>Claire McCollum goes on a Christian heritage t...</td>\n      <td>Claire McCollum explores Edinburgh and discove...</td>\n      <td>Music</td>\n      <td>BBC ONE</td>\n      <td>False</td>\n      <td>2022</td>\n      <td>34</td>\n      <td>music, lifestyle</td>\n      <td>https://ichef.bbci.co.uk/images/ic/352x198/p0b...</td>\n      <td>https://ichef.bbci.co.uk/images/ic/1200x675/p0...</td>\n      <td>claire mccollum explores edinburgh discovers r...</td>\n      <td>3</td>\n    </tr>\n    <tr>\n      <th>...</th>\n      <td>...</td>\n      <td>...</td>\n      <td>...</td>\n      <td>...</td>\n      <td>...</td>\n      <td>...</td>\n      <td>...</td>\n      <td>...</td>\n      <td>...</td>\n      <td>...</td>\n      <td>...</td>\n      <td>...</td>\n      <td>...</td>\n      <td>...</td>\n      <td>...</td>\n      <td>...</td>\n      <td>...</td>\n      <td>...</td>\n      <td>...</td>\n    </tr>\n    <tr>\n      <th>2468</th>\n      <td>2468</td>\n      <td>Models: Street to Catwalk</td>\n      <td>Series 2: Episode 4</td>\n      <td>Kyra’s late arrival puts her modelling career ...</td>\n      <td>https://ichef.bbci.co.uk/images/ic/{recipe}/p0...</td>\n      <td>BBC, iPlayer, TV, Models: Street to Catwalk, S...</td>\n      <td>Kyra’s late arrival puts her modelling career ...</td>\n      <td>Kyra jeopardises her modelling career by turni...</td>\n      <td>How will Kyra cope after a train malfunction m...</td>\n      <td>Documentary</td>\n      <td>BBC THREE</td>\n      <td>Contains some strong language and some upsetti...</td>\n      <td>2021</td>\n      <td>31</td>\n      <td>documentaries</td>\n      <td>https://ichef.bbci.co.uk/images/ic/352x198/p09...</td>\n      <td>https://ichef.bbci.co.uk/images/ic/1200x675/p0...</td>\n      <td>kyra cope train malfunction make two hour late...</td>\n      <td>4</td>\n    </tr>\n    <tr>\n      <th>2469</th>\n      <td>2469</td>\n      <td>Death On The I-95</td>\n      <td>None</td>\n      <td>Returning to the US to find out what happened ...</td>\n      <td>https://ichef.bbci.co.uk/images/ic/{recipe}/p0...</td>\n      <td>BBC, iPlayer, TV, Death On The I-95</td>\n      <td>Returning to the US to find out what happened ...</td>\n      <td>Following a report on the growing problem of o...</td>\n      <td>Drug overdose is now the main cause of death f...</td>\n      <td>Documentary</td>\n      <td>BBC THREE</td>\n      <td>Contains some strong language and upsetting sc...</td>\n      <td>2018</td>\n      <td>57</td>\n      <td>documentaries</td>\n      <td>https://ichef.bbci.co.uk/images/ic/352x198/p07...</td>\n      <td>https://ichef.bbci.co.uk/images/ic/1200x675/p0...</td>\n      <td>drug overdose main cause death american age 50...</td>\n      <td>1</td>\n    </tr>\n    <tr>\n      <th>2470</th>\n      <td>2470</td>\n      <td>Do Black Lives Still Matter?</td>\n      <td>Series 1: 3. Music</td>\n      <td>Grime artist Saskilla asks, can the music indu...</td>\n      <td>https://ichef.bbci.co.uk/images/ic/{recipe}/p0...</td>\n      <td>BBC, iPlayer, TV, Do Black Lives Still Matter?...</td>\n      <td>Grime artist Saskilla asks, can the music indu...</td>\n      <td>The music industry pledged millions in support...</td>\n      <td>The music industry reacted with a surge of out...</td>\n      <td>Documentary</td>\n      <td>BBC THREE</td>\n      <td>False</td>\n      <td>2021</td>\n      <td>25</td>\n      <td>documentaries</td>\n      <td>https://ichef.bbci.co.uk/images/ic/352x198/p09...</td>\n      <td>https://ichef.bbci.co.uk/images/ic/1200x675/p0...</td>\n      <td>music industry reacted surge outrage death geo...</td>\n      <td>19</td>\n    </tr>\n    <tr>\n      <th>2471</th>\n      <td>2471</td>\n      <td>Ar An Sliabh</td>\n      <td>Series 1: Episode 6</td>\n      <td>Paul packs up to return to his native Armagh a...</td>\n      <td>https://ichef.bbci.co.uk/images/ic/{recipe}/p0...</td>\n      <td>BBC, iPlayer, TV, Ar An Sliabh, Series 1: Epis...</td>\n      <td>Paul packs up to return to his native Armagh a...</td>\n      <td>Paul packs up to return to his native Armagh a...</td>\n      <td>I Sliabh Eachtaí, tá Cérill ag déanamh réidh d...</td>\n      <td>Documentary</td>\n      <td>BBC WEBONLY</td>\n      <td>False</td>\n      <td>2021</td>\n      <td>29</td>\n      <td>documentaries</td>\n      <td>https://ichef.bbci.co.uk/images/ic/352x198/p0b...</td>\n      <td>https://ichef.bbci.co.uk/images/ic/1200x675/p0...</td>\n      <td>sliabh eachtaí tá cérill ag déanamh réidh mheá...</td>\n      <td>14</td>\n    </tr>\n    <tr>\n      <th>2472</th>\n      <td>2472</td>\n      <td>Avicii: True Stories</td>\n      <td>None</td>\n      <td>Avicii: True Stories is Tim Bergling’s own sto...</td>\n      <td>https://ichef.bbci.co.uk/images/ic/{recipe}/p0...</td>\n      <td>BBC, iPlayer, TV, Avicii: True Stories</td>\n      <td>Avicii: True Stories is Tim Bergling’s own sto...</td>\n      <td>Avicii: True Stories is Tim Bergling’s own sto...</td>\n      <td>In 2006, Tim Bergling was just a regular teena...</td>\n      <td>Documentary</td>\n      <td>BBC THREE</td>\n      <td>Contains strong language.</td>\n      <td>2019</td>\n      <td>96</td>\n      <td>documentaries</td>\n      <td>https://ichef.bbci.co.uk/images/ic/352x198/p07...</td>\n      <td>https://ichef.bbci.co.uk/images/ic/1200x675/p0...</td>\n      <td>2006 tim bergling regular teenager living smal...</td>\n      <td>1</td>\n    </tr>\n  </tbody>\n</table>\n<p>2473 rows × 19 columns</p>\n</div>"
     },
     "execution_count": 12,
     "metadata": {},
     "output_type": "execute_result"
    }
   ],
   "source": [
    "df"
   ],
   "metadata": {
    "collapsed": false,
    "pycharm": {
     "name": "#%%\n"
    }
   }
  },
  {
   "cell_type": "code",
   "execution_count": 60,
   "outputs": [],
   "source": [
    "def create_new_user(name):\n",
    "    file_location = \"./../users.json\"\n",
    "    with open(file_location) as json_file:\n",
    "        users = json.load(json_file)\n",
    "\n",
    "    last_user = users[len(users)-1]\n",
    "    last_id = last_user['id']\n",
    "\n",
    "    users.append({\n",
    "        'id': last_id + 1,\n",
    "        'name': name,\n",
    "        'password': name,\n",
    "    })\n",
    "\n",
    "    with open(file_location, 'w') as outfile:\n",
    "        json.dump(users, outfile, indent=4)\n",
    "\n",
    "# create_new_user('Bart Simpson')"
   ],
   "metadata": {
    "collapsed": false,
    "pycharm": {
     "name": "#%%\n"
    }
   }
  },
  {
   "cell_type": "code",
   "execution_count": 16,
   "outputs": [
    {
     "data": {
      "text/plain": "array(['Music', 'Entertainment', 'Documentary', 'Sport', 'Arts', 'Food',\n       'History', 'Comedy', 'Nature', 'Film', 'Documentary Film', 'CBBC',\n       'Science & Nature', 'Science', 'Lifestyle', 'Film - Drama',\n       'Film - Crime', 'Film - Family', 'Film - Romance',\n       'Film - Thriller', 'Film - Musical', 'Film - Comedy',\n       'Film - Western', 'Comedy Drama', 'Film - Horror',\n       'Film - Adventure', 'Film - Period', 'Film - Biopic', 'Film - War',\n       'Film - Action', 'Film - Sci-Fi', 'Film - Rom-Com', 'Dating',\n       'Reality', 'News', 'Beauty', 'Rom-com', 'Drama', 'CBeebies',\n       'Fantasy', 'Crime Drama', 'Sci-Fi', 'Period Drama',\n       'Current Affairs', 'Signed', 'From the Archives'], dtype=object)"
     },
     "execution_count": 16,
     "metadata": {},
     "output_type": "execute_result"
    }
   ],
   "source": [
    "cat_list = df['category'].unique()\n",
    "cat_list"
   ],
   "metadata": {
    "collapsed": false,
    "pycharm": {
     "name": "#%%\n"
    }
   }
  },
  {
   "cell_type": "code",
   "execution_count": 25,
   "outputs": [],
   "source": [],
   "metadata": {
    "collapsed": false,
    "pycharm": {
     "name": "#%%\n"
    }
   }
  },
  {
   "cell_type": "code",
   "execution_count": 24,
   "outputs": [
    {
     "data": {
      "text/plain": "[235, 617, 504, 2988]"
     },
     "execution_count": 24,
     "metadata": {},
     "output_type": "execute_result"
    }
   ],
   "source": [
    "random.sample(df[df['category'] == 'Film']['index'].tolist(), 4)"
   ],
   "metadata": {
    "collapsed": false,
    "pycharm": {
     "name": "#%%\n"
    }
   }
  },
  {
   "cell_type": "code",
   "execution_count": 22,
   "outputs": [],
   "source": [
    "def populate_user(df: pd.DataFrame, user_id: id, genres):\n",
    "\n",
    "    file_location = \"../activities.json\"\n",
    "    with open(file_location) as json_file:\n",
    "        activities = json.load(json_file)\n",
    "\n",
    "    for genre in genres:\n",
    "        contents = get_random_sample_by_genre(df, genre, 10)\n",
    "        for entry in contents:\n",
    "\n",
    "            data = {\n",
    "                \"content_id\": entry,\n",
    "                \"activity\": WATCHED,\n",
    "                \"user_id\": int(user_id),\n",
    "                \"rating\": random.randint(8, 10),\n",
    "                \"datetime\": str(datetime.now())}\n",
    "            activities.append(data)\n",
    "\n",
    "    with open(file_location, 'w') as outfile:\n",
    "        json.dump(activities, outfile, indent=4)\n",
    "\n",
    "def get_random_sample_by_genre(df, genre, amount):\n",
    "\n",
    "    possible_content = df[df['category'] == genre]['index'].tolist()\n",
    "\n",
    "    if amount > len(possible_content):\n",
    "        amount = len(possible_content)\n",
    "\n",
    "    return random.sample(possible_content, amount)"
   ],
   "metadata": {
    "collapsed": false,
    "pycharm": {
     "name": "#%%\n"
    }
   }
  },
  {
   "cell_type": "code",
   "execution_count": 23,
   "outputs": [],
   "source": [
    "lisa = ['Documentary', 'Arts', 'History', 'Nature', 'Science', 'News', 'Period Drama']\n",
    "homer = ['Entertainment', 'Sport', 'Food', 'Comedy', 'News', 'Rom-com']\n",
    "marge = ['Documentary', 'Lifestyle', 'Dating', 'News', 'Rom-com', 'Period Drama']\n",
    "bart = ['Sport', 'Film', 'Dating', 'News', 'Sci-Fi']\n",
    "simpsons_fam = {1: lisa, 2: homer, 3: marge, 4:bart}"
   ],
   "metadata": {
    "collapsed": false,
    "pycharm": {
     "name": "#%%\n"
    }
   }
  },
  {
   "cell_type": "code",
   "execution_count": 26,
   "outputs": [],
   "source": [
    "for key, value in simpsons_fam.items():\n",
    "    populate_user(df, key, value)"
   ],
   "metadata": {
    "collapsed": false,
    "pycharm": {
     "name": "#%%\n"
    }
   }
  }
 ],
 "metadata": {
  "kernelspec": {
   "display_name": "Python 3",
   "language": "python",
   "name": "python3"
  },
  "language_info": {
   "codemirror_mode": {
    "name": "ipython",
    "version": 2
   },
   "file_extension": ".py",
   "mimetype": "text/x-python",
   "name": "python",
   "nbconvert_exporter": "python",
   "pygments_lexer": "ipython2",
   "version": "2.7.6"
  }
 },
 "nbformat": 4,
 "nbformat_minor": 0
}