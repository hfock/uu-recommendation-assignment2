{
 "cells": [
  {
   "cell_type": "code",
   "execution_count": 1,
   "metadata": {
    "collapsed": true
   },
   "outputs": [],
   "source": [
    "import pandas as pd\n",
    "import numpy as np"
   ]
  },
  {
   "cell_type": "code",
   "execution_count": 18,
   "outputs": [],
   "source": [
    "df = pd.read_csv(f'bbc_small.csv', index_col=0, delimiter=';')\n",
    "df_cosine = pd.read_csv(f'bbc_cosine_small.csv', index_col=0, delimiter=';')\n",
    "with open(f'collaborative_filtering/collab_filter_random_features.npy', 'rb') as f:\n",
    "    numpy_colab_matrix = np.load(f)\n",
    "df_colab = pd.DataFrame(numpy_colab_matrix)"
   ],
   "metadata": {
    "collapsed": false,
    "pycharm": {
     "name": "#%%\n"
    }
   }
  },
  {
   "cell_type": "code",
   "execution_count": 19,
   "outputs": [
    {
     "data": {
      "text/plain": "             0         1         2         3         4         5         6  \\\n0     1.000000  0.017138  0.000000  0.014938  0.027364  0.108092  0.028579   \n1     0.017138  1.000000  0.000000  0.124017  0.018052  0.003390  0.049918   \n2     0.000000  0.000000  1.000000  0.000000  0.000000  0.089031  0.000000   \n3     0.014938  0.124017  0.000000  1.000000  0.004501  0.008006  0.009224   \n4     0.027364  0.018052  0.000000  0.004501  1.000000  0.011410  0.018659   \n...        ...       ...       ...       ...       ...       ...       ...   \n2468  0.000000  0.005860  0.000000  0.000000  0.000000  0.013219  0.004256   \n2469  0.015148  0.000000  0.011730  0.000000  0.025265  0.018788  0.002634   \n2470  0.078643  0.013066  0.060319  0.030853  0.047036  0.039358  0.009078   \n2471  0.000000  0.131764  0.009731  0.287673  0.002389  0.009463  0.008239   \n2472  0.020138  0.011039  0.000000  0.006592  0.037674  0.038907  0.024911   \n\n             7         8         9  ...      2463      2464      2465  \\\n0     0.133374  0.029517  0.000000  ...  0.000000  0.000000  0.010969   \n1     0.048575  0.018918  0.000000  ...  0.000000  0.000000  0.000000   \n2     0.024758  0.015056  0.000000  ...  0.000000  0.000000  0.000000   \n3     0.028847  0.006662  0.085284  ...  0.000000  0.000000  0.000000   \n4     0.028506  0.024186  0.003457  ...  0.004644  0.014201  0.013220   \n...        ...       ...       ...  ...       ...       ...       ...   \n2468  0.022604  0.000000  0.000000  ...  0.014349  0.023401  0.000000   \n2469  0.006407  0.018951  0.000000  ...  0.033063  0.048845  0.000000   \n2470  0.094621  0.054468  0.000000  ...  0.025582  0.020342  0.011328   \n2471  0.063299  0.012455  0.000000  ...  0.000000  0.000000  0.000000   \n2472  0.039035  0.141876  0.005063  ...  0.089726  0.000000  0.009681   \n\n          2466      2467      2468      2469      2470      2471      2472  \n0     0.011114  0.000000  0.000000  0.015148  0.078643  0.000000  0.020138  \n1     0.003028  0.000000  0.005860  0.000000  0.013066  0.131764  0.011039  \n2     0.000000  0.000000  0.000000  0.011730  0.060319  0.009731  0.000000  \n3     0.011499  0.000000  0.000000  0.000000  0.030853  0.287673  0.006592  \n4     0.010136  0.111495  0.000000  0.025265  0.047036  0.002389  0.037674  \n...        ...       ...       ...       ...       ...       ...       ...  \n2468  0.007389  0.000000  1.000000  0.018303  0.008240  0.008550  0.038546  \n2469  0.031561  0.025864  0.018303  1.000000  0.038243  0.000000  0.042264  \n2470  0.012224  0.000000  0.008240  0.038243  1.000000  0.000000  0.066518  \n2471  0.002986  0.000000  0.008550  0.000000  0.000000  1.000000  0.000000  \n2472  0.035734  0.000000  0.038546  0.042264  0.066518  0.000000  1.000000  \n\n[2473 rows x 2473 columns]",
      "text/html": "<div>\n<style scoped>\n    .dataframe tbody tr th:only-of-type {\n        vertical-align: middle;\n    }\n\n    .dataframe tbody tr th {\n        vertical-align: top;\n    }\n\n    .dataframe thead th {\n        text-align: right;\n    }\n</style>\n<table border=\"1\" class=\"dataframe\">\n  <thead>\n    <tr style=\"text-align: right;\">\n      <th></th>\n      <th>0</th>\n      <th>1</th>\n      <th>2</th>\n      <th>3</th>\n      <th>4</th>\n      <th>5</th>\n      <th>6</th>\n      <th>7</th>\n      <th>8</th>\n      <th>9</th>\n      <th>...</th>\n      <th>2463</th>\n      <th>2464</th>\n      <th>2465</th>\n      <th>2466</th>\n      <th>2467</th>\n      <th>2468</th>\n      <th>2469</th>\n      <th>2470</th>\n      <th>2471</th>\n      <th>2472</th>\n    </tr>\n  </thead>\n  <tbody>\n    <tr>\n      <th>0</th>\n      <td>1.000000</td>\n      <td>0.017138</td>\n      <td>0.000000</td>\n      <td>0.014938</td>\n      <td>0.027364</td>\n      <td>0.108092</td>\n      <td>0.028579</td>\n      <td>0.133374</td>\n      <td>0.029517</td>\n      <td>0.000000</td>\n      <td>...</td>\n      <td>0.000000</td>\n      <td>0.000000</td>\n      <td>0.010969</td>\n      <td>0.011114</td>\n      <td>0.000000</td>\n      <td>0.000000</td>\n      <td>0.015148</td>\n      <td>0.078643</td>\n      <td>0.000000</td>\n      <td>0.020138</td>\n    </tr>\n    <tr>\n      <th>1</th>\n      <td>0.017138</td>\n      <td>1.000000</td>\n      <td>0.000000</td>\n      <td>0.124017</td>\n      <td>0.018052</td>\n      <td>0.003390</td>\n      <td>0.049918</td>\n      <td>0.048575</td>\n      <td>0.018918</td>\n      <td>0.000000</td>\n      <td>...</td>\n      <td>0.000000</td>\n      <td>0.000000</td>\n      <td>0.000000</td>\n      <td>0.003028</td>\n      <td>0.000000</td>\n      <td>0.005860</td>\n      <td>0.000000</td>\n      <td>0.013066</td>\n      <td>0.131764</td>\n      <td>0.011039</td>\n    </tr>\n    <tr>\n      <th>2</th>\n      <td>0.000000</td>\n      <td>0.000000</td>\n      <td>1.000000</td>\n      <td>0.000000</td>\n      <td>0.000000</td>\n      <td>0.089031</td>\n      <td>0.000000</td>\n      <td>0.024758</td>\n      <td>0.015056</td>\n      <td>0.000000</td>\n      <td>...</td>\n      <td>0.000000</td>\n      <td>0.000000</td>\n      <td>0.000000</td>\n      <td>0.000000</td>\n      <td>0.000000</td>\n      <td>0.000000</td>\n      <td>0.011730</td>\n      <td>0.060319</td>\n      <td>0.009731</td>\n      <td>0.000000</td>\n    </tr>\n    <tr>\n      <th>3</th>\n      <td>0.014938</td>\n      <td>0.124017</td>\n      <td>0.000000</td>\n      <td>1.000000</td>\n      <td>0.004501</td>\n      <td>0.008006</td>\n      <td>0.009224</td>\n      <td>0.028847</td>\n      <td>0.006662</td>\n      <td>0.085284</td>\n      <td>...</td>\n      <td>0.000000</td>\n      <td>0.000000</td>\n      <td>0.000000</td>\n      <td>0.011499</td>\n      <td>0.000000</td>\n      <td>0.000000</td>\n      <td>0.000000</td>\n      <td>0.030853</td>\n      <td>0.287673</td>\n      <td>0.006592</td>\n    </tr>\n    <tr>\n      <th>4</th>\n      <td>0.027364</td>\n      <td>0.018052</td>\n      <td>0.000000</td>\n      <td>0.004501</td>\n      <td>1.000000</td>\n      <td>0.011410</td>\n      <td>0.018659</td>\n      <td>0.028506</td>\n      <td>0.024186</td>\n      <td>0.003457</td>\n      <td>...</td>\n      <td>0.004644</td>\n      <td>0.014201</td>\n      <td>0.013220</td>\n      <td>0.010136</td>\n      <td>0.111495</td>\n      <td>0.000000</td>\n      <td>0.025265</td>\n      <td>0.047036</td>\n      <td>0.002389</td>\n      <td>0.037674</td>\n    </tr>\n    <tr>\n      <th>...</th>\n      <td>...</td>\n      <td>...</td>\n      <td>...</td>\n      <td>...</td>\n      <td>...</td>\n      <td>...</td>\n      <td>...</td>\n      <td>...</td>\n      <td>...</td>\n      <td>...</td>\n      <td>...</td>\n      <td>...</td>\n      <td>...</td>\n      <td>...</td>\n      <td>...</td>\n      <td>...</td>\n      <td>...</td>\n      <td>...</td>\n      <td>...</td>\n      <td>...</td>\n      <td>...</td>\n    </tr>\n    <tr>\n      <th>2468</th>\n      <td>0.000000</td>\n      <td>0.005860</td>\n      <td>0.000000</td>\n      <td>0.000000</td>\n      <td>0.000000</td>\n      <td>0.013219</td>\n      <td>0.004256</td>\n      <td>0.022604</td>\n      <td>0.000000</td>\n      <td>0.000000</td>\n      <td>...</td>\n      <td>0.014349</td>\n      <td>0.023401</td>\n      <td>0.000000</td>\n      <td>0.007389</td>\n      <td>0.000000</td>\n      <td>1.000000</td>\n      <td>0.018303</td>\n      <td>0.008240</td>\n      <td>0.008550</td>\n      <td>0.038546</td>\n    </tr>\n    <tr>\n      <th>2469</th>\n      <td>0.015148</td>\n      <td>0.000000</td>\n      <td>0.011730</td>\n      <td>0.000000</td>\n      <td>0.025265</td>\n      <td>0.018788</td>\n      <td>0.002634</td>\n      <td>0.006407</td>\n      <td>0.018951</td>\n      <td>0.000000</td>\n      <td>...</td>\n      <td>0.033063</td>\n      <td>0.048845</td>\n      <td>0.000000</td>\n      <td>0.031561</td>\n      <td>0.025864</td>\n      <td>0.018303</td>\n      <td>1.000000</td>\n      <td>0.038243</td>\n      <td>0.000000</td>\n      <td>0.042264</td>\n    </tr>\n    <tr>\n      <th>2470</th>\n      <td>0.078643</td>\n      <td>0.013066</td>\n      <td>0.060319</td>\n      <td>0.030853</td>\n      <td>0.047036</td>\n      <td>0.039358</td>\n      <td>0.009078</td>\n      <td>0.094621</td>\n      <td>0.054468</td>\n      <td>0.000000</td>\n      <td>...</td>\n      <td>0.025582</td>\n      <td>0.020342</td>\n      <td>0.011328</td>\n      <td>0.012224</td>\n      <td>0.000000</td>\n      <td>0.008240</td>\n      <td>0.038243</td>\n      <td>1.000000</td>\n      <td>0.000000</td>\n      <td>0.066518</td>\n    </tr>\n    <tr>\n      <th>2471</th>\n      <td>0.000000</td>\n      <td>0.131764</td>\n      <td>0.009731</td>\n      <td>0.287673</td>\n      <td>0.002389</td>\n      <td>0.009463</td>\n      <td>0.008239</td>\n      <td>0.063299</td>\n      <td>0.012455</td>\n      <td>0.000000</td>\n      <td>...</td>\n      <td>0.000000</td>\n      <td>0.000000</td>\n      <td>0.000000</td>\n      <td>0.002986</td>\n      <td>0.000000</td>\n      <td>0.008550</td>\n      <td>0.000000</td>\n      <td>0.000000</td>\n      <td>1.000000</td>\n      <td>0.000000</td>\n    </tr>\n    <tr>\n      <th>2472</th>\n      <td>0.020138</td>\n      <td>0.011039</td>\n      <td>0.000000</td>\n      <td>0.006592</td>\n      <td>0.037674</td>\n      <td>0.038907</td>\n      <td>0.024911</td>\n      <td>0.039035</td>\n      <td>0.141876</td>\n      <td>0.005063</td>\n      <td>...</td>\n      <td>0.089726</td>\n      <td>0.000000</td>\n      <td>0.009681</td>\n      <td>0.035734</td>\n      <td>0.000000</td>\n      <td>0.038546</td>\n      <td>0.042264</td>\n      <td>0.066518</td>\n      <td>0.000000</td>\n      <td>1.000000</td>\n    </tr>\n  </tbody>\n</table>\n<p>2473 rows × 2473 columns</p>\n</div>"
     },
     "execution_count": 19,
     "metadata": {},
     "output_type": "execute_result"
    }
   ],
   "source": [
    "df_cosine"
   ],
   "metadata": {
    "collapsed": false,
    "pycharm": {
     "name": "#%%\n"
    }
   }
  },
  {
   "cell_type": "code",
   "execution_count": 20,
   "outputs": [
    {
     "data": {
      "text/plain": "       0         1         2         3         4         5         6     \\\n0  2.749695  4.047272  0.941226  3.586765  4.462734  4.877353  1.511387   \n1  2.687126  4.113308  0.939722  3.713906  4.338429  4.871265  1.518961   \n2  2.437312  4.008444  0.989521  4.285539  3.857944  4.311255  1.523472   \n3  2.612470  3.694550  1.073434  4.276093  4.189551  3.969281  1.535685   \n\n       7         8         9     ...      2463      2464      2465       2466  \\\n0  2.410278  5.641886  7.003099  ...  2.268970  3.590198  5.884356   9.347645   \n1  2.498072  5.724820  7.051456  ...  2.271878  3.637414  5.937133   9.504561   \n2  3.277961  5.996644  7.075305  ...  2.498161  4.066669  5.799774  10.002677   \n3  3.630949  5.998695  7.066016  ...  2.766368  4.337342  5.581343   9.949933   \n\n       2467      2468      2469      2470      2471      2472  \n0  4.984092  2.701607  2.680396  6.293361  4.752721  4.142768  \n1  5.012028  2.655116  2.835801  6.311259  4.813359  4.195113  \n2  4.972354  2.281055  2.778381  6.177082  5.088641  3.921386  \n3  4.946094  2.254846  2.003803  6.154934  5.181582  3.522808  \n\n[4 rows x 2473 columns]",
      "text/html": "<div>\n<style scoped>\n    .dataframe tbody tr th:only-of-type {\n        vertical-align: middle;\n    }\n\n    .dataframe tbody tr th {\n        vertical-align: top;\n    }\n\n    .dataframe thead th {\n        text-align: right;\n    }\n</style>\n<table border=\"1\" class=\"dataframe\">\n  <thead>\n    <tr style=\"text-align: right;\">\n      <th></th>\n      <th>0</th>\n      <th>1</th>\n      <th>2</th>\n      <th>3</th>\n      <th>4</th>\n      <th>5</th>\n      <th>6</th>\n      <th>7</th>\n      <th>8</th>\n      <th>9</th>\n      <th>...</th>\n      <th>2463</th>\n      <th>2464</th>\n      <th>2465</th>\n      <th>2466</th>\n      <th>2467</th>\n      <th>2468</th>\n      <th>2469</th>\n      <th>2470</th>\n      <th>2471</th>\n      <th>2472</th>\n    </tr>\n  </thead>\n  <tbody>\n    <tr>\n      <th>0</th>\n      <td>2.749695</td>\n      <td>4.047272</td>\n      <td>0.941226</td>\n      <td>3.586765</td>\n      <td>4.462734</td>\n      <td>4.877353</td>\n      <td>1.511387</td>\n      <td>2.410278</td>\n      <td>5.641886</td>\n      <td>7.003099</td>\n      <td>...</td>\n      <td>2.268970</td>\n      <td>3.590198</td>\n      <td>5.884356</td>\n      <td>9.347645</td>\n      <td>4.984092</td>\n      <td>2.701607</td>\n      <td>2.680396</td>\n      <td>6.293361</td>\n      <td>4.752721</td>\n      <td>4.142768</td>\n    </tr>\n    <tr>\n      <th>1</th>\n      <td>2.687126</td>\n      <td>4.113308</td>\n      <td>0.939722</td>\n      <td>3.713906</td>\n      <td>4.338429</td>\n      <td>4.871265</td>\n      <td>1.518961</td>\n      <td>2.498072</td>\n      <td>5.724820</td>\n      <td>7.051456</td>\n      <td>...</td>\n      <td>2.271878</td>\n      <td>3.637414</td>\n      <td>5.937133</td>\n      <td>9.504561</td>\n      <td>5.012028</td>\n      <td>2.655116</td>\n      <td>2.835801</td>\n      <td>6.311259</td>\n      <td>4.813359</td>\n      <td>4.195113</td>\n    </tr>\n    <tr>\n      <th>2</th>\n      <td>2.437312</td>\n      <td>4.008444</td>\n      <td>0.989521</td>\n      <td>4.285539</td>\n      <td>3.857944</td>\n      <td>4.311255</td>\n      <td>1.523472</td>\n      <td>3.277961</td>\n      <td>5.996644</td>\n      <td>7.075305</td>\n      <td>...</td>\n      <td>2.498161</td>\n      <td>4.066669</td>\n      <td>5.799774</td>\n      <td>10.002677</td>\n      <td>4.972354</td>\n      <td>2.281055</td>\n      <td>2.778381</td>\n      <td>6.177082</td>\n      <td>5.088641</td>\n      <td>3.921386</td>\n    </tr>\n    <tr>\n      <th>3</th>\n      <td>2.612470</td>\n      <td>3.694550</td>\n      <td>1.073434</td>\n      <td>4.276093</td>\n      <td>4.189551</td>\n      <td>3.969281</td>\n      <td>1.535685</td>\n      <td>3.630949</td>\n      <td>5.998695</td>\n      <td>7.066016</td>\n      <td>...</td>\n      <td>2.766368</td>\n      <td>4.337342</td>\n      <td>5.581343</td>\n      <td>9.949933</td>\n      <td>4.946094</td>\n      <td>2.254846</td>\n      <td>2.003803</td>\n      <td>6.154934</td>\n      <td>5.181582</td>\n      <td>3.522808</td>\n    </tr>\n  </tbody>\n</table>\n<p>4 rows × 2473 columns</p>\n</div>"
     },
     "execution_count": 20,
     "metadata": {},
     "output_type": "execute_result"
    }
   ],
   "source": [
    "df_colab"
   ],
   "metadata": {
    "collapsed": false,
    "pycharm": {
     "name": "#%%\n"
    }
   }
  },
  {
   "cell_type": "code",
   "execution_count": 25,
   "outputs": [
    {
     "data": {
      "text/plain": "0       0.014938\n1       0.124017\n2       0.000000\n3       1.000000\n4       0.004501\n          ...   \n2468    0.000000\n2469    0.000000\n2470    0.030853\n2471    0.287673\n2472    0.006592\nName: 3, Length: 2473, dtype: float64"
     },
     "execution_count": 25,
     "metadata": {},
     "output_type": "execute_result"
    }
   ],
   "source": [
    "df_cosine.loc[3]"
   ],
   "metadata": {
    "collapsed": false,
    "pycharm": {
     "name": "#%%\n"
    }
   }
  },
  {
   "cell_type": "code",
   "execution_count": 36,
   "outputs": [],
   "source": [
    "np1 = np.array(df_colab.loc[0].tolist())"
   ],
   "metadata": {
    "collapsed": false,
    "pycharm": {
     "name": "#%%\n"
    }
   }
  },
  {
   "cell_type": "code",
   "execution_count": 37,
   "outputs": [],
   "source": [
    "np2 = np.array(df_cosine.loc[3].tolist())"
   ],
   "metadata": {
    "collapsed": false,
    "pycharm": {
     "name": "#%%\n"
    }
   }
  },
  {
   "cell_type": "code",
   "execution_count": 38,
   "outputs": [],
   "source": [
    "hybrid = np.multiply(np1, np2)"
   ],
   "metadata": {
    "collapsed": false,
    "pycharm": {
     "name": "#%%\n"
    }
   }
  },
  {
   "cell_type": "code",
   "execution_count": 43,
   "outputs": [
    {
     "data": {
      "text/plain": "             0\n3     3.586765\n1396  2.346463\n2131  2.054855\n2104  1.980688\n88    1.906209\n...        ...\n1164  0.000000\n1163  0.000000\n1162  0.000000\n1161  0.000000\n1480  0.000000\n\n[2473 rows x 1 columns]",
      "text/html": "<div>\n<style scoped>\n    .dataframe tbody tr th:only-of-type {\n        vertical-align: middle;\n    }\n\n    .dataframe tbody tr th {\n        vertical-align: top;\n    }\n\n    .dataframe thead th {\n        text-align: right;\n    }\n</style>\n<table border=\"1\" class=\"dataframe\">\n  <thead>\n    <tr style=\"text-align: right;\">\n      <th></th>\n      <th>0</th>\n    </tr>\n  </thead>\n  <tbody>\n    <tr>\n      <th>3</th>\n      <td>3.586765</td>\n    </tr>\n    <tr>\n      <th>1396</th>\n      <td>2.346463</td>\n    </tr>\n    <tr>\n      <th>2131</th>\n      <td>2.054855</td>\n    </tr>\n    <tr>\n      <th>2104</th>\n      <td>1.980688</td>\n    </tr>\n    <tr>\n      <th>88</th>\n      <td>1.906209</td>\n    </tr>\n    <tr>\n      <th>...</th>\n      <td>...</td>\n    </tr>\n    <tr>\n      <th>1164</th>\n      <td>0.000000</td>\n    </tr>\n    <tr>\n      <th>1163</th>\n      <td>0.000000</td>\n    </tr>\n    <tr>\n      <th>1162</th>\n      <td>0.000000</td>\n    </tr>\n    <tr>\n      <th>1161</th>\n      <td>0.000000</td>\n    </tr>\n    <tr>\n      <th>1480</th>\n      <td>0.000000</td>\n    </tr>\n  </tbody>\n</table>\n<p>2473 rows × 1 columns</p>\n</div>"
     },
     "execution_count": 43,
     "metadata": {},
     "output_type": "execute_result"
    }
   ],
   "source": [
    "pd.DataFrame(hybrid).sort_values(by=0, ascending=False)"
   ],
   "metadata": {
    "collapsed": false,
    "pycharm": {
     "name": "#%%\n"
    }
   }
  },
  {
   "cell_type": "code",
   "execution_count": 21,
   "outputs": [],
   "source": [
    "def most_similar_collab_content(df, df_cosine, df_colab, user_movie_dict, user_id, index):\n",
    "    cosin_np = np.array(df_colab.loc[user_id].tolist())\n",
    "    colab_np = np.array(df_cosine.loc[index].tolist())\n",
    "    hybrid_solution = np.multiply(cosin_np, colab_np)\n",
    "    recom_indices = pd.DataFrame(hybrid_solution).sort_values(by=0, ascending=False).index.tolist()[1:c.RECOM_COUNT]\n",
    "    recom_entries = df.loc[list(map(int, recom_indices)), :]\n",
    "    return recom_entries"
   ],
   "metadata": {
    "collapsed": false,
    "pycharm": {
     "name": "#%%\n"
    }
   }
  }
 ],
 "metadata": {
  "kernelspec": {
   "display_name": "Python 3",
   "language": "python",
   "name": "python3"
  },
  "language_info": {
   "codemirror_mode": {
    "name": "ipython",
    "version": 2
   },
   "file_extension": ".py",
   "mimetype": "text/x-python",
   "name": "python",
   "nbconvert_exporter": "python",
   "pygments_lexer": "ipython2",
   "version": "2.7.6"
  }
 },
 "nbformat": 4,
 "nbformat_minor": 0
}