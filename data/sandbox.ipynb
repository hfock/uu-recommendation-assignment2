{
 "cells": [
  {
   "cell_type": "code",
   "execution_count": 1,
   "metadata": {
    "collapsed": true
   },
   "outputs": [],
   "source": [
    "import pandas as pd"
   ]
  },
  {
   "cell_type": "code",
   "execution_count": 4,
   "outputs": [],
   "source": [
    "df = pd.read_csv('bbc_small.csv', delimiter=';', index_col=0)"
   ],
   "metadata": {
    "collapsed": false,
    "pycharm": {
     "name": "#%%\n"
    }
   }
  },
  {
   "cell_type": "code",
   "execution_count": 6,
   "outputs": [
    {
     "data": {
      "text/plain": "      index      title                  subtitle  \\\n1018   1018  Love Life  Series 1: 10. The Person   \n\n                                  description  \\\n1018  Darby relishes a rare night to herself.   \n\n                                                  image  \\\n1018  https://ichef.bbci.co.uk/images/ic/{recipe}/p0...   \n\n                                               keywords  \\\n1018  BBC, iPlayer, TV, Love Life, Series 1: 10. The...   \n\n                                       syno_s  \\\n1018  Darby relishes a rare night to herself.   \n\n                                                 syno_m  \\\n1018  As she juggles an overwhelming amount of adult...   \n\n                                                 syno_l category  channel  \\\n1018  As she juggles an overwhelming amount of adult...  Rom-com  BBC ONE   \n\n                       language  release_date  duration_min  \\\n1018  Contains strong language.          2020            35   \n\n                        topic  \\\n1018  comedy, drama-and-soaps   \n\n                                                image_l  \\\n1018  https://ichef.bbci.co.uk/images/ic/352x198/p08...   \n\n                                               image_xl  \\\n1018  https://ichef.bbci.co.uk/images/ic/1200x675/p0...   \n\n                                         cleaned_syno_l  k_means  \n1018  juggle overwhelming amount adult responsibilit...       11  ",
      "text/html": "<div>\n<style scoped>\n    .dataframe tbody tr th:only-of-type {\n        vertical-align: middle;\n    }\n\n    .dataframe tbody tr th {\n        vertical-align: top;\n    }\n\n    .dataframe thead th {\n        text-align: right;\n    }\n</style>\n<table border=\"1\" class=\"dataframe\">\n  <thead>\n    <tr style=\"text-align: right;\">\n      <th></th>\n      <th>index</th>\n      <th>title</th>\n      <th>subtitle</th>\n      <th>description</th>\n      <th>image</th>\n      <th>keywords</th>\n      <th>syno_s</th>\n      <th>syno_m</th>\n      <th>syno_l</th>\n      <th>category</th>\n      <th>channel</th>\n      <th>language</th>\n      <th>release_date</th>\n      <th>duration_min</th>\n      <th>topic</th>\n      <th>image_l</th>\n      <th>image_xl</th>\n      <th>cleaned_syno_l</th>\n      <th>k_means</th>\n    </tr>\n  </thead>\n  <tbody>\n    <tr>\n      <th>1018</th>\n      <td>1018</td>\n      <td>Love Life</td>\n      <td>Series 1: 10. The Person</td>\n      <td>Darby relishes a rare night to herself.</td>\n      <td>https://ichef.bbci.co.uk/images/ic/{recipe}/p0...</td>\n      <td>BBC, iPlayer, TV, Love Life, Series 1: 10. The...</td>\n      <td>Darby relishes a rare night to herself.</td>\n      <td>As she juggles an overwhelming amount of adult...</td>\n      <td>As she juggles an overwhelming amount of adult...</td>\n      <td>Rom-com</td>\n      <td>BBC ONE</td>\n      <td>Contains strong language.</td>\n      <td>2020</td>\n      <td>35</td>\n      <td>comedy, drama-and-soaps</td>\n      <td>https://ichef.bbci.co.uk/images/ic/352x198/p08...</td>\n      <td>https://ichef.bbci.co.uk/images/ic/1200x675/p0...</td>\n      <td>juggle overwhelming amount adult responsibilit...</td>\n      <td>11</td>\n    </tr>\n  </tbody>\n</table>\n</div>"
     },
     "execution_count": 6,
     "metadata": {},
     "output_type": "execute_result"
    }
   ],
   "source": [
    "df[df['category'] == 'Rom-com']"
   ],
   "metadata": {
    "collapsed": false,
    "pycharm": {
     "name": "#%%\n"
    }
   }
  }
 ],
 "metadata": {
  "kernelspec": {
   "display_name": "Python 3",
   "language": "python",
   "name": "python3"
  },
  "language_info": {
   "codemirror_mode": {
    "name": "ipython",
    "version": 2
   },
   "file_extension": ".py",
   "mimetype": "text/x-python",
   "name": "python",
   "nbconvert_exporter": "python",
   "pygments_lexer": "ipython2",
   "version": "2.7.6"
  }
 },
 "nbformat": 4,
 "nbformat_minor": 0
}