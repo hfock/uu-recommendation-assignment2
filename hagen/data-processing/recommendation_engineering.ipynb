{
 "cells": [
  {
   "cell_type": "code",
   "execution_count": 31,
   "outputs": [],
   "source": [
    "import pandas as pd"
   ],
   "metadata": {
    "collapsed": false,
    "pycharm": {
     "name": "#%%\n"
    }
   }
  },
  {
   "cell_type": "code",
   "execution_count": 32,
   "metadata": {
    "collapsed": true
   },
   "outputs": [],
   "source": [
    "df = pd.read_csv('./../data/BBC/bbc_data.csv', sep=';', index_col=0)"
   ]
  },
  {
   "cell_type": "code",
   "execution_count": 33,
   "outputs": [
    {
     "data": {
      "text/plain": "      index                               title  \\\n0         0                           BBC Proms   \n1         1                                Port   \n2         2  Sit Down, Stand Up with Greg James   \n3         3         Ceiliúradh na Féile Pádraig   \n4         4                     Songs of Praise   \n...     ...                                 ...   \n3777   3777           Models: Street to Catwalk   \n3789   3789                   Death On The I-95   \n3793   3793        Do Black Lives Still Matter?   \n3797   3797                        Ar An Sliabh   \n3800   3800                Avicii: True Stories   \n\n                                            description  \\\n0     Australian tenor Stuart Skelton is joined by L...   \n1     Previously unseen music from the series Port, ...   \n2     Tom Holland and Greg James cold call celebrity...   \n3     John Toal and Pauline Scanlon introduce an eve...   \n4     Claire McCollum explores Edinburgh and shares ...   \n...                                                 ...   \n3777  Kyra’s late arrival puts her modelling career ...   \n3789  Returning to the US to find out what happened ...   \n3793  Grime artist Saskilla asks, can the music indu...   \n3797  Paul packs up to return to his native Armagh a...   \n3800  Avicii: True Stories is Tim Bergling’s own sto...   \n\n                                                  image  \\\n0     https://ichef.bbci.co.uk/images/ic/{recipe}/p0...   \n1     https://ichef.bbci.co.uk/images/ic/{recipe}/p0...   \n2     https://ichef.bbci.co.uk/images/ic/{recipe}/p0...   \n3     https://ichef.bbci.co.uk/images/ic/{recipe}/p0...   \n4     https://ichef.bbci.co.uk/images/ic/{recipe}/p0...   \n...                                                 ...   \n3777  https://ichef.bbci.co.uk/images/ic/{recipe}/p0...   \n3789  https://ichef.bbci.co.uk/images/ic/{recipe}/p0...   \n3793  https://ichef.bbci.co.uk/images/ic/{recipe}/p0...   \n3797  https://ichef.bbci.co.uk/images/ic/{recipe}/p0...   \n3800  https://ichef.bbci.co.uk/images/ic/{recipe}/p0...   \n\n                                               keywords  \\\n0     BBC, iPlayer, TV, BBC Proms, 2021: Last Night ...   \n1           BBC, iPlayer, TV, Port, Series 5: Episode 4   \n2     BBC, iPlayer, TV, Sit Down, Stand Up with Greg...   \n3         BBC, iPlayer, TV, Ceiliúradh na Féile Pádraig   \n4          BBC, iPlayer, TV, Songs of Praise, Edinburgh   \n...                                                 ...   \n3777  BBC, iPlayer, TV, Models: Street to Catwalk, S...   \n3789                BBC, iPlayer, TV, Death On The I-95   \n3793  BBC, iPlayer, TV, Do Black Lives Still Matter?...   \n3797  BBC, iPlayer, TV, Ar An Sliabh, Series 1: Epis...   \n3800             BBC, iPlayer, TV, Avicii: True Stories   \n\n                                                 syno_s  \\\n0     Australian tenor Stuart Skelton is joined by L...   \n1     Previously unseen music from the series Port, ...   \n2     Tom Holland and Greg James cold call celebrity...   \n3     John Toal and Pauline Scanlon introduce an eve...   \n4     Claire McCollum explores Edinburgh and shares ...   \n...                                                 ...   \n3777  Kyra’s late arrival puts her modelling career ...   \n3789  Returning to the US to find out what happened ...   \n3793  Grime artist Saskilla asks, can the music indu...   \n3797  Paul packs up to return to his native Armagh a...   \n3800  Avicii: True Stories is Tim Bergling’s own sto...   \n\n                                                 syno_m  \\\n0     Australian tenor Stuart Skelton is joined by L...   \n1     Julie Fowlis a’ lìbhrigeadh ceòl bhon t-sreath...   \n2     Tom Holland and Greg James cold call celebrity...   \n3     John Toal and Pauline Scanlon introduce an eve...   \n4     Claire McCollum goes on a Christian heritage t...   \n...                                                 ...   \n3777  Kyra jeopardises her modelling career by turni...   \n3789  Following a report on the growing problem of o...   \n3793  The music industry pledged millions in support...   \n3797  Paul packs up to return to his native Armagh a...   \n3800  Avicii: True Stories is Tim Bergling’s own sto...   \n\n                                                 syno_l       category  \\\n0     Katie Derham hosts continued live coverage fro...          Music   \n1     Bidh Druthag Bheag Eile a’ tarraing ri chèile ...          Music   \n2     Tom Holland and Greg James cold call celebrity...  Entertainment   \n3     John Toal and Pauline Scanlon introduce an eve...          Music   \n4     Claire McCollum explores Edinburgh and discove...          Music   \n...                                                 ...            ...   \n3777  How will Kyra cope after a train malfunction m...    Documentary   \n3789  Drug overdose is now the main cause of death f...    Documentary   \n3793  The music industry reacted with a surge of out...    Documentary   \n3797  I Sliabh Eachtaí, tá Cérill ag déanamh réidh d...    Documentary   \n3800  In 2006, Tim Bergling was just a regular teena...    Documentary   \n\n                               channel  \\\n0                      bbc_radio_three   \n1                             bbc_alba   \n2                        bbc_radio_one   \n3     bbc_two_northern_ireland_digital   \n4                              bbc_one   \n...                                ...   \n3777                         bbc_three   \n3789                         bbc_three   \n3793                         bbc_three   \n3797                       bbc_webonly   \n3800                         bbc_three   \n\n                                               language        release_date  \\\n0                                                 False     9pm 11 Sep 2021   \n1                                                 False          9 Jul 2020   \n2                                                 False         10 Feb 2022   \n3                                                 False         17 Mar 2017   \n4                                                 False  1:15pm 20 Feb 2022   \n...                                                 ...                 ...   \n3777  Contains some strong language and some upsetti...          8 Aug 2021   \n3789  Contains some strong language and upsetting sc...         24 Oct 2018   \n3793                                              False         31 May 2021   \n3797                                              False         22 Nov 2021   \n3800                          Contains strong language.         20 Apr 2019   \n\n      duration_sec                           topic  \\\n0             5247  ['music', 'from-the-archives']   \n1             1037                       ['music']   \n2              611      ['music', 'entertainment']   \n3             3538                       ['music']   \n4             2044          ['music', 'lifestyle']   \n...            ...                             ...   \n3777          1843               ['documentaries']   \n3789          3426               ['documentaries']   \n3793          1524               ['documentaries']   \n3797          1740               ['documentaries']   \n3800          5766               ['documentaries']   \n\n                                         spacied_syno_l  \\\n0     Katie Derham hosts continued live coverage fro...   \n1     Bidh Druthag Bheag Eile a’ tarraing ri chèile ...   \n2     Tom Holland and Greg James cold call celebrity...   \n3     John Toal and Pauline Scanlon introduce an eve...   \n4     Claire McCollum explores Edinburgh and discove...   \n...                                                 ...   \n3777  How will Kyra cope after a train malfunction m...   \n3789  Drug overdose is now the main cause of death f...   \n3793  The music industry reacted with a surge of out...   \n3797  I Sliabh Eachtaí, tá Cérill ag déanamh réidh d...   \n3800  In 2006, Tim Bergling was just a regular teena...   \n\n                                       processed_syno_l  \\\n0     ['Katie', 'Derham', 'host', 'continue', 'live'...   \n1     ['Bidh', 'Druthag', 'Bheag', 'Eile', 'tarraing...   \n2     ['Tom', 'Holland', 'Greg', 'James', 'cold', 'c...   \n3     ['John', 'Toal', 'Pauline', 'Scanlon', 'introd...   \n4     ['Claire', 'McCollum', 'explore', 'Edinburgh',...   \n...                                                 ...   \n3777  ['Kyra', 'cope', 'train', 'malfunction', 'make...   \n3789  ['drug', 'main', 'cause', 'death', 'Americans'...   \n3793  ['music', 'industry', 'react', 'surge', 'outra...   \n3797  ['Sliabh', 'Eachtaí', 'tá', 'Cérill', 'ag', 'd...   \n3800  ['Tim', 'Bergling', 'regular', 'teenager', 'li...   \n\n                            processed_syno_l_one_string  k_means  \n0     Katie Derham host continue live coverage Royal...       11  \n1     Bidh Druthag Bheag Eile tarraing ri chèile pìo...        7  \n2     Tom Holland Greg James cold celebrity friend f...       10  \n3     John Toal Pauline Scanlon introduce evening mu...        7  \n4     Claire McCollum explore Edinburgh discover ric...        9  \n...                                                 ...      ...  \n3777  Kyra cope train malfunction make hour crucial ...        9  \n3789  drug main cause death Americans age likely die...        1  \n3793  music industry react surge outrage death Georg...       11  \n3797  Sliabh Eachtaí tá Cérill ag déanamh réidh don ...        7  \n3800  Tim Bergling regular teenager live small apart...        9  \n\n[2326 rows x 18 columns]",
      "text/html": "<div>\n<style scoped>\n    .dataframe tbody tr th:only-of-type {\n        vertical-align: middle;\n    }\n\n    .dataframe tbody tr th {\n        vertical-align: top;\n    }\n\n    .dataframe thead th {\n        text-align: right;\n    }\n</style>\n<table border=\"1\" class=\"dataframe\">\n  <thead>\n    <tr style=\"text-align: right;\">\n      <th></th>\n      <th>index</th>\n      <th>title</th>\n      <th>description</th>\n      <th>image</th>\n      <th>keywords</th>\n      <th>syno_s</th>\n      <th>syno_m</th>\n      <th>syno_l</th>\n      <th>category</th>\n      <th>channel</th>\n      <th>language</th>\n      <th>release_date</th>\n      <th>duration_sec</th>\n      <th>topic</th>\n      <th>spacied_syno_l</th>\n      <th>processed_syno_l</th>\n      <th>processed_syno_l_one_string</th>\n      <th>k_means</th>\n    </tr>\n  </thead>\n  <tbody>\n    <tr>\n      <th>0</th>\n      <td>0</td>\n      <td>BBC Proms</td>\n      <td>Australian tenor Stuart Skelton is joined by L...</td>\n      <td>https://ichef.bbci.co.uk/images/ic/{recipe}/p0...</td>\n      <td>BBC, iPlayer, TV, BBC Proms, 2021: Last Night ...</td>\n      <td>Australian tenor Stuart Skelton is joined by L...</td>\n      <td>Australian tenor Stuart Skelton is joined by L...</td>\n      <td>Katie Derham hosts continued live coverage fro...</td>\n      <td>Music</td>\n      <td>bbc_radio_three</td>\n      <td>False</td>\n      <td>9pm 11 Sep 2021</td>\n      <td>5247</td>\n      <td>['music', 'from-the-archives']</td>\n      <td>Katie Derham hosts continued live coverage fro...</td>\n      <td>['Katie', 'Derham', 'host', 'continue', 'live'...</td>\n      <td>Katie Derham host continue live coverage Royal...</td>\n      <td>11</td>\n    </tr>\n    <tr>\n      <th>1</th>\n      <td>1</td>\n      <td>Port</td>\n      <td>Previously unseen music from the series Port, ...</td>\n      <td>https://ichef.bbci.co.uk/images/ic/{recipe}/p0...</td>\n      <td>BBC, iPlayer, TV, Port, Series 5: Episode 4</td>\n      <td>Previously unseen music from the series Port, ...</td>\n      <td>Julie Fowlis a’ lìbhrigeadh ceòl bhon t-sreath...</td>\n      <td>Bidh Druthag Bheag Eile a’ tarraing ri chèile ...</td>\n      <td>Music</td>\n      <td>bbc_alba</td>\n      <td>False</td>\n      <td>9 Jul 2020</td>\n      <td>1037</td>\n      <td>['music']</td>\n      <td>Bidh Druthag Bheag Eile a’ tarraing ri chèile ...</td>\n      <td>['Bidh', 'Druthag', 'Bheag', 'Eile', 'tarraing...</td>\n      <td>Bidh Druthag Bheag Eile tarraing ri chèile pìo...</td>\n      <td>7</td>\n    </tr>\n    <tr>\n      <th>2</th>\n      <td>2</td>\n      <td>Sit Down, Stand Up with Greg James</td>\n      <td>Tom Holland and Greg James cold call celebrity...</td>\n      <td>https://ichef.bbci.co.uk/images/ic/{recipe}/p0...</td>\n      <td>BBC, iPlayer, TV, Sit Down, Stand Up with Greg...</td>\n      <td>Tom Holland and Greg James cold call celebrity...</td>\n      <td>Tom Holland and Greg James cold call celebrity...</td>\n      <td>Tom Holland and Greg James cold call celebrity...</td>\n      <td>Entertainment</td>\n      <td>bbc_radio_one</td>\n      <td>False</td>\n      <td>10 Feb 2022</td>\n      <td>611</td>\n      <td>['music', 'entertainment']</td>\n      <td>Tom Holland and Greg James cold call celebrity...</td>\n      <td>['Tom', 'Holland', 'Greg', 'James', 'cold', 'c...</td>\n      <td>Tom Holland Greg James cold celebrity friend f...</td>\n      <td>10</td>\n    </tr>\n    <tr>\n      <th>3</th>\n      <td>3</td>\n      <td>Ceiliúradh na Féile Pádraig</td>\n      <td>John Toal and Pauline Scanlon introduce an eve...</td>\n      <td>https://ichef.bbci.co.uk/images/ic/{recipe}/p0...</td>\n      <td>BBC, iPlayer, TV, Ceiliúradh na Féile Pádraig</td>\n      <td>John Toal and Pauline Scanlon introduce an eve...</td>\n      <td>John Toal and Pauline Scanlon introduce an eve...</td>\n      <td>John Toal and Pauline Scanlon introduce an eve...</td>\n      <td>Music</td>\n      <td>bbc_two_northern_ireland_digital</td>\n      <td>False</td>\n      <td>17 Mar 2017</td>\n      <td>3538</td>\n      <td>['music']</td>\n      <td>John Toal and Pauline Scanlon introduce an eve...</td>\n      <td>['John', 'Toal', 'Pauline', 'Scanlon', 'introd...</td>\n      <td>John Toal Pauline Scanlon introduce evening mu...</td>\n      <td>7</td>\n    </tr>\n    <tr>\n      <th>4</th>\n      <td>4</td>\n      <td>Songs of Praise</td>\n      <td>Claire McCollum explores Edinburgh and shares ...</td>\n      <td>https://ichef.bbci.co.uk/images/ic/{recipe}/p0...</td>\n      <td>BBC, iPlayer, TV, Songs of Praise, Edinburgh</td>\n      <td>Claire McCollum explores Edinburgh and shares ...</td>\n      <td>Claire McCollum goes on a Christian heritage t...</td>\n      <td>Claire McCollum explores Edinburgh and discove...</td>\n      <td>Music</td>\n      <td>bbc_one</td>\n      <td>False</td>\n      <td>1:15pm 20 Feb 2022</td>\n      <td>2044</td>\n      <td>['music', 'lifestyle']</td>\n      <td>Claire McCollum explores Edinburgh and discove...</td>\n      <td>['Claire', 'McCollum', 'explore', 'Edinburgh',...</td>\n      <td>Claire McCollum explore Edinburgh discover ric...</td>\n      <td>9</td>\n    </tr>\n    <tr>\n      <th>...</th>\n      <td>...</td>\n      <td>...</td>\n      <td>...</td>\n      <td>...</td>\n      <td>...</td>\n      <td>...</td>\n      <td>...</td>\n      <td>...</td>\n      <td>...</td>\n      <td>...</td>\n      <td>...</td>\n      <td>...</td>\n      <td>...</td>\n      <td>...</td>\n      <td>...</td>\n      <td>...</td>\n      <td>...</td>\n      <td>...</td>\n    </tr>\n    <tr>\n      <th>3777</th>\n      <td>3777</td>\n      <td>Models: Street to Catwalk</td>\n      <td>Kyra’s late arrival puts her modelling career ...</td>\n      <td>https://ichef.bbci.co.uk/images/ic/{recipe}/p0...</td>\n      <td>BBC, iPlayer, TV, Models: Street to Catwalk, S...</td>\n      <td>Kyra’s late arrival puts her modelling career ...</td>\n      <td>Kyra jeopardises her modelling career by turni...</td>\n      <td>How will Kyra cope after a train malfunction m...</td>\n      <td>Documentary</td>\n      <td>bbc_three</td>\n      <td>Contains some strong language and some upsetti...</td>\n      <td>8 Aug 2021</td>\n      <td>1843</td>\n      <td>['documentaries']</td>\n      <td>How will Kyra cope after a train malfunction m...</td>\n      <td>['Kyra', 'cope', 'train', 'malfunction', 'make...</td>\n      <td>Kyra cope train malfunction make hour crucial ...</td>\n      <td>9</td>\n    </tr>\n    <tr>\n      <th>3789</th>\n      <td>3789</td>\n      <td>Death On The I-95</td>\n      <td>Returning to the US to find out what happened ...</td>\n      <td>https://ichef.bbci.co.uk/images/ic/{recipe}/p0...</td>\n      <td>BBC, iPlayer, TV, Death On The I-95</td>\n      <td>Returning to the US to find out what happened ...</td>\n      <td>Following a report on the growing problem of o...</td>\n      <td>Drug overdose is now the main cause of death f...</td>\n      <td>Documentary</td>\n      <td>bbc_three</td>\n      <td>Contains some strong language and upsetting sc...</td>\n      <td>24 Oct 2018</td>\n      <td>3426</td>\n      <td>['documentaries']</td>\n      <td>Drug overdose is now the main cause of death f...</td>\n      <td>['drug', 'main', 'cause', 'death', 'Americans'...</td>\n      <td>drug main cause death Americans age likely die...</td>\n      <td>1</td>\n    </tr>\n    <tr>\n      <th>3793</th>\n      <td>3793</td>\n      <td>Do Black Lives Still Matter?</td>\n      <td>Grime artist Saskilla asks, can the music indu...</td>\n      <td>https://ichef.bbci.co.uk/images/ic/{recipe}/p0...</td>\n      <td>BBC, iPlayer, TV, Do Black Lives Still Matter?...</td>\n      <td>Grime artist Saskilla asks, can the music indu...</td>\n      <td>The music industry pledged millions in support...</td>\n      <td>The music industry reacted with a surge of out...</td>\n      <td>Documentary</td>\n      <td>bbc_three</td>\n      <td>False</td>\n      <td>31 May 2021</td>\n      <td>1524</td>\n      <td>['documentaries']</td>\n      <td>The music industry reacted with a surge of out...</td>\n      <td>['music', 'industry', 'react', 'surge', 'outra...</td>\n      <td>music industry react surge outrage death Georg...</td>\n      <td>11</td>\n    </tr>\n    <tr>\n      <th>3797</th>\n      <td>3797</td>\n      <td>Ar An Sliabh</td>\n      <td>Paul packs up to return to his native Armagh a...</td>\n      <td>https://ichef.bbci.co.uk/images/ic/{recipe}/p0...</td>\n      <td>BBC, iPlayer, TV, Ar An Sliabh, Series 1: Epis...</td>\n      <td>Paul packs up to return to his native Armagh a...</td>\n      <td>Paul packs up to return to his native Armagh a...</td>\n      <td>I Sliabh Eachtaí, tá Cérill ag déanamh réidh d...</td>\n      <td>Documentary</td>\n      <td>bbc_webonly</td>\n      <td>False</td>\n      <td>22 Nov 2021</td>\n      <td>1740</td>\n      <td>['documentaries']</td>\n      <td>I Sliabh Eachtaí, tá Cérill ag déanamh réidh d...</td>\n      <td>['Sliabh', 'Eachtaí', 'tá', 'Cérill', 'ag', 'd...</td>\n      <td>Sliabh Eachtaí tá Cérill ag déanamh réidh don ...</td>\n      <td>7</td>\n    </tr>\n    <tr>\n      <th>3800</th>\n      <td>3800</td>\n      <td>Avicii: True Stories</td>\n      <td>Avicii: True Stories is Tim Bergling’s own sto...</td>\n      <td>https://ichef.bbci.co.uk/images/ic/{recipe}/p0...</td>\n      <td>BBC, iPlayer, TV, Avicii: True Stories</td>\n      <td>Avicii: True Stories is Tim Bergling’s own sto...</td>\n      <td>Avicii: True Stories is Tim Bergling’s own sto...</td>\n      <td>In 2006, Tim Bergling was just a regular teena...</td>\n      <td>Documentary</td>\n      <td>bbc_three</td>\n      <td>Contains strong language.</td>\n      <td>20 Apr 2019</td>\n      <td>5766</td>\n      <td>['documentaries']</td>\n      <td>In 2006, Tim Bergling was just a regular teena...</td>\n      <td>['Tim', 'Bergling', 'regular', 'teenager', 'li...</td>\n      <td>Tim Bergling regular teenager live small apart...</td>\n      <td>9</td>\n    </tr>\n  </tbody>\n</table>\n<p>2326 rows × 18 columns</p>\n</div>"
     },
     "execution_count": 33,
     "metadata": {},
     "output_type": "execute_result"
    }
   ],
   "source": [
    "df"
   ],
   "metadata": {
    "collapsed": false,
    "pycharm": {
     "name": "#%%\n"
    }
   }
  },
  {
   "cell_type": "code",
   "execution_count": 34,
   "outputs": [],
   "source": [
    "import spacy\n",
    "from tqdm.auto import tqdm\n",
    "\n",
    "def spacy_text(texts):\n",
    "    # the pipeline’s config.cfg tells spaCy to use the language \"en\" and the pipeline\n",
    "    # [\"tok2vec\", \"tagger\", \"parser\", \"ner\", \"attribute_ruler\", \"lemmatizer\"].\n",
    "    # spaCy will then initialize spacy.lang.en.English, and create each pipeline component and add it to the processing pipeline.\n",
    "    # It’ll then load in the model data from the data directory and return the modified Language class for you to use as the nlp object.\n",
    "    # https://spacy.io/usage/processing-pipelines\n",
    "    nlp = spacy.load(\"en_core_web_sm\")\n",
    "\n",
    "    # extract all values from the text column\n",
    "    text_list = []\n",
    "    if isinstance(texts, str):\n",
    "        text_list.append(texts)\n",
    "    else:\n",
    "        text_list = texts.tolist()\n",
    "\n",
    "    # When you call nlp on a text, spaCy first tokenizes the text to produce a Doc object.\n",
    "    # We disable {parser = Assign dependency labels, ner = Detect and label named entities} out of reasons I frankly don't know but follow as it is stated in the manual.\n",
    "    disable = [\"ner\", \"parser\"]\n",
    "\n",
    "    # Here the input (text) is transformed into spacy.tokens.doc.Doc.\n",
    "    # In addition with tqdm the progress of the transformation is shown.\n",
    "    return [text for text in tqdm(nlp.pipe(text_list, n_process=1, disable=disable), total=len(text_list))]"
   ],
   "metadata": {
    "collapsed": false,
    "pycharm": {
     "name": "#%%\n"
    }
   }
  },
  {
   "cell_type": "code",
   "execution_count": 35,
   "outputs": [
    {
     "data": {
      "text/plain": "  0%|          | 0/2326 [00:00<?, ?it/s]",
      "application/vnd.jupyter.widget-view+json": {
       "version_major": 2,
       "version_minor": 0,
       "model_id": "d284548fcc054f8ca9ba8283495b5829"
      }
     },
     "metadata": {},
     "output_type": "display_data"
    }
   ],
   "source": [
    "df['spacied_syno_l'] = spacy_text(df['syno_l'])"
   ],
   "metadata": {
    "collapsed": false,
    "pycharm": {
     "name": "#%%\n"
    }
   }
  },
  {
   "cell_type": "code",
   "execution_count": 36,
   "outputs": [],
   "source": [
    "from enum import Enum\n",
    "from nltk.stem.porter import PorterStemmer\n",
    "\"\"\"\n",
    "Pre processes spacied values.\n",
    "\n",
    "This function is able to\n",
    "    - remove punctuation\n",
    "        - is always removed\n",
    "    - remove stopwords\n",
    "        - removed when @param rm_stopwords = True\n",
    "    - filter for specific token.pos (see SpacyPos for all possibilities)\n",
    "        - does not filter for specific tokens if param is []\n",
    "    - lemmatize the spacied values\n",
    "        - lemmatize the values if lemma = True\n",
    "    - stems the spacied values\n",
    "        - stems the values if lemma = False\n",
    "    - always lower cases all values\n",
    "\n",
    "@return a list of all preprocessed tokenized values\n",
    "\"\"\"\n",
    "def pre_process(spacied_values, pos, base_form = 'lemma', rm_stopwords = True, min_length_word=2, token=False):\n",
    "    result = []\n",
    "    for text in spacied_values:\n",
    "        # removes all unnecessary text like punctuations and stop words\n",
    "        processed_text = rm_unnecessary_text(text, rm_stopwords)\n",
    "        # filters for specific words\n",
    "        if pos:\n",
    "            processed_text = filter_specific_pos(processed_text, pos)\n",
    "        # transforms the base form depending on the base_form input\n",
    "        if base_form == 'lemma':\n",
    "            processed_text = lemmatization(processed_text)\n",
    "        elif base_form == 'stem':\n",
    "                processed_text = stemming(processed_text)\n",
    "        else:\n",
    "            processed_text = text_values(processed_text)\n",
    "        # Lowers all the tokens\n",
    "        processed_text = remove_words_with_length(min_length_word, processed_text)\n",
    "        if token:\n",
    "            result.append(processed_text)\n",
    "        else:\n",
    "            result.append(lower(processed_text))\n",
    "\n",
    "    return result\n",
    "\n",
    "def lower(values):\n",
    "    return [token.lower() for token in values]\n",
    "\n",
    "def rm_unnecessary_text(values, rm_stopwords):\n",
    "    if rm_stopwords:\n",
    "        return [token for token in values if not token.is_punct and not token.is_stop]\n",
    "    else:\n",
    "        return [token for token in values if not token.is_punct]\n",
    "\n",
    "def filter_specific_pos(values, pos):\n",
    "    pos_values = []\n",
    "    for val in pos:\n",
    "        if not isinstance(val, SpacyPos):\n",
    "            raise TypeError('pos must be an instance of SpacyPos')\n",
    "        pos_values.append(val.value)\n",
    "    return [token for token in values if token.pos_ in pos_values]\n",
    "\n",
    "def text_values(values):\n",
    "    return [token.text for token in values]\n",
    "\n",
    "def lemmatization(values):\n",
    "    return [token.lemma_ for token in values]\n",
    "\n",
    "def stemming(values):\n",
    "    stemmer = PorterStemmer()\n",
    "    return [stemmer.stem(token.text) for token in values]\n",
    "\n",
    "def remove_words_with_length(min_length, values):\n",
    "    return [token for token in values if len(token) >= min_length]\n",
    "\n",
    "\"\"\"\n",
    "I made a SpacyEnum so I assure that I do not get an exception when I accidentally misspelled a POS Tag.\n",
    "\n",
    "URLs to remember:\n",
    "- https://spacy.io/api/token\n",
    "- https://universaldependencies.org/u/pos/\n",
    "- https://web.archive.org/web/20190206204307/https://www.clips.uantwerpen.be/pages/mbsp-tags\n",
    "\"\"\"\n",
    "class SpacyPos(Enum):\n",
    "    ADJ = 'ADJ'      # adjective                     e.g. nice, easy\n",
    "    ADP = 'ADP'      # adposition\n",
    "    ADV = 'ADV'      # adverb                        e.g. extremely, loudly, hard\n",
    "    AUX = 'AUX'      # auxiliary                     e.g. may, should\n",
    "    CCONJ = 'CCONJ'  # coordinating conjunction      e.g. and, or, but\n",
    "    DET = 'DET'      # determiner                    e.g. the, a, these\n",
    "    INTJ = 'INTJ'    # interjection                  e.g. oh, oops, gosh\n",
    "    NOUN = 'NOUN'    # noun                          e.g. tiger, chair, laughter\n",
    "    NUM = 'NUM'      # numeral\n",
    "    PART = 'PART'    # particle                      e.g. about, off, up\n",
    "    PRON = 'PRON'    # pronoun                       e.g. my, your, our\n",
    "    PROPN = 'PROPN'  # proper noun                   e.g. Germany, God, Alice\n",
    "    PUNCT = 'PUNCT'  # punctuation                   e.g. .;?*\n",
    "    SCONJ = 'SCONJ'  # subordinating conjunction     e.g. whether or not\n",
    "    SYM = 'SYM'      # symbol                        e.g. %\n",
    "    VERB = 'VERB'    # verb                          e.g. think, eat, talk\n",
    "    X = 'X'          # other"
   ],
   "metadata": {
    "collapsed": false,
    "pycharm": {
     "name": "#%%\n"
    }
   }
  },
  {
   "cell_type": "code",
   "execution_count": 37,
   "outputs": [],
   "source": [
    "pos_napv = [SpacyPos.NOUN, SpacyPos.ADJ, SpacyPos.PROPN, SpacyPos.VERB]\n",
    "df['processed_syno_l']  = pre_process(df['spacied_syno_l'], pos=pos_napv, base_form='lemma', rm_stopwords=True, token=True)"
   ],
   "metadata": {
    "collapsed": false,
    "pycharm": {
     "name": "#%%\n"
    }
   }
  },
  {
   "cell_type": "code",
   "execution_count": 38,
   "outputs": [
    {
     "data": {
      "text/plain": "0       [Katie, Derham, host, continue, live, coverage...\n1       [Bidh, Druthag, Bheag, Eile, tarraing, ri, chè...\n2       [Tom, Holland, Greg, James, cold, celebrity, f...\n3       [John, Toal, Pauline, Scanlon, introduce, even...\n4       [Claire, McCollum, explore, Edinburgh, discove...\n                              ...                        \n3777    [Kyra, cope, train, malfunction, make, hour, c...\n3789    [drug, main, cause, death, Americans, age, lik...\n3793    [music, industry, react, surge, outrage, death...\n3797    [Sliabh, Eachtaí, tá, Cérill, ag, déanamh, réi...\n3800    [Tim, Bergling, regular, teenager, live, small...\nName: processed_syno_l, Length: 2326, dtype: object"
     },
     "execution_count": 38,
     "metadata": {},
     "output_type": "execute_result"
    }
   ],
   "source": [
    "df['processed_syno_l']"
   ],
   "metadata": {
    "collapsed": false,
    "pycharm": {
     "name": "#%%\n"
    }
   }
  },
  {
   "cell_type": "code",
   "execution_count": 39,
   "outputs": [
    {
     "data": {
      "text/plain": "      index                               title  \\\n0         0                           BBC Proms   \n1         1                                Port   \n2         2  Sit Down, Stand Up with Greg James   \n3         3         Ceiliúradh na Féile Pádraig   \n4         4                     Songs of Praise   \n...     ...                                 ...   \n3777   3777           Models: Street to Catwalk   \n3789   3789                   Death On The I-95   \n3793   3793        Do Black Lives Still Matter?   \n3797   3797                        Ar An Sliabh   \n3800   3800                Avicii: True Stories   \n\n                                            description  \\\n0     Australian tenor Stuart Skelton is joined by L...   \n1     Previously unseen music from the series Port, ...   \n2     Tom Holland and Greg James cold call celebrity...   \n3     John Toal and Pauline Scanlon introduce an eve...   \n4     Claire McCollum explores Edinburgh and shares ...   \n...                                                 ...   \n3777  Kyra’s late arrival puts her modelling career ...   \n3789  Returning to the US to find out what happened ...   \n3793  Grime artist Saskilla asks, can the music indu...   \n3797  Paul packs up to return to his native Armagh a...   \n3800  Avicii: True Stories is Tim Bergling’s own sto...   \n\n                                                  image  \\\n0     https://ichef.bbci.co.uk/images/ic/{recipe}/p0...   \n1     https://ichef.bbci.co.uk/images/ic/{recipe}/p0...   \n2     https://ichef.bbci.co.uk/images/ic/{recipe}/p0...   \n3     https://ichef.bbci.co.uk/images/ic/{recipe}/p0...   \n4     https://ichef.bbci.co.uk/images/ic/{recipe}/p0...   \n...                                                 ...   \n3777  https://ichef.bbci.co.uk/images/ic/{recipe}/p0...   \n3789  https://ichef.bbci.co.uk/images/ic/{recipe}/p0...   \n3793  https://ichef.bbci.co.uk/images/ic/{recipe}/p0...   \n3797  https://ichef.bbci.co.uk/images/ic/{recipe}/p0...   \n3800  https://ichef.bbci.co.uk/images/ic/{recipe}/p0...   \n\n                                               keywords  \\\n0     BBC, iPlayer, TV, BBC Proms, 2021: Last Night ...   \n1           BBC, iPlayer, TV, Port, Series 5: Episode 4   \n2     BBC, iPlayer, TV, Sit Down, Stand Up with Greg...   \n3         BBC, iPlayer, TV, Ceiliúradh na Féile Pádraig   \n4          BBC, iPlayer, TV, Songs of Praise, Edinburgh   \n...                                                 ...   \n3777  BBC, iPlayer, TV, Models: Street to Catwalk, S...   \n3789                BBC, iPlayer, TV, Death On The I-95   \n3793  BBC, iPlayer, TV, Do Black Lives Still Matter?...   \n3797  BBC, iPlayer, TV, Ar An Sliabh, Series 1: Epis...   \n3800             BBC, iPlayer, TV, Avicii: True Stories   \n\n                                                 syno_s  \\\n0     Australian tenor Stuart Skelton is joined by L...   \n1     Previously unseen music from the series Port, ...   \n2     Tom Holland and Greg James cold call celebrity...   \n3     John Toal and Pauline Scanlon introduce an eve...   \n4     Claire McCollum explores Edinburgh and shares ...   \n...                                                 ...   \n3777  Kyra’s late arrival puts her modelling career ...   \n3789  Returning to the US to find out what happened ...   \n3793  Grime artist Saskilla asks, can the music indu...   \n3797  Paul packs up to return to his native Armagh a...   \n3800  Avicii: True Stories is Tim Bergling’s own sto...   \n\n                                                 syno_m  \\\n0     Australian tenor Stuart Skelton is joined by L...   \n1     Julie Fowlis a’ lìbhrigeadh ceòl bhon t-sreath...   \n2     Tom Holland and Greg James cold call celebrity...   \n3     John Toal and Pauline Scanlon introduce an eve...   \n4     Claire McCollum goes on a Christian heritage t...   \n...                                                 ...   \n3777  Kyra jeopardises her modelling career by turni...   \n3789  Following a report on the growing problem of o...   \n3793  The music industry pledged millions in support...   \n3797  Paul packs up to return to his native Armagh a...   \n3800  Avicii: True Stories is Tim Bergling’s own sto...   \n\n                                                 syno_l       category  \\\n0     Katie Derham hosts continued live coverage fro...          Music   \n1     Bidh Druthag Bheag Eile a’ tarraing ri chèile ...          Music   \n2     Tom Holland and Greg James cold call celebrity...  Entertainment   \n3     John Toal and Pauline Scanlon introduce an eve...          Music   \n4     Claire McCollum explores Edinburgh and discove...          Music   \n...                                                 ...            ...   \n3777  How will Kyra cope after a train malfunction m...    Documentary   \n3789  Drug overdose is now the main cause of death f...    Documentary   \n3793  The music industry reacted with a surge of out...    Documentary   \n3797  I Sliabh Eachtaí, tá Cérill ag déanamh réidh d...    Documentary   \n3800  In 2006, Tim Bergling was just a regular teena...    Documentary   \n\n                               channel  \\\n0                      bbc_radio_three   \n1                             bbc_alba   \n2                        bbc_radio_one   \n3     bbc_two_northern_ireland_digital   \n4                              bbc_one   \n...                                ...   \n3777                         bbc_three   \n3789                         bbc_three   \n3793                         bbc_three   \n3797                       bbc_webonly   \n3800                         bbc_three   \n\n                                               language        release_date  \\\n0                                                 False     9pm 11 Sep 2021   \n1                                                 False          9 Jul 2020   \n2                                                 False         10 Feb 2022   \n3                                                 False         17 Mar 2017   \n4                                                 False  1:15pm 20 Feb 2022   \n...                                                 ...                 ...   \n3777  Contains some strong language and some upsetti...          8 Aug 2021   \n3789  Contains some strong language and upsetting sc...         24 Oct 2018   \n3793                                              False         31 May 2021   \n3797                                              False         22 Nov 2021   \n3800                          Contains strong language.         20 Apr 2019   \n\n      duration_sec                           topic  \\\n0             5247  ['music', 'from-the-archives']   \n1             1037                       ['music']   \n2              611      ['music', 'entertainment']   \n3             3538                       ['music']   \n4             2044          ['music', 'lifestyle']   \n...            ...                             ...   \n3777          1843               ['documentaries']   \n3789          3426               ['documentaries']   \n3793          1524               ['documentaries']   \n3797          1740               ['documentaries']   \n3800          5766               ['documentaries']   \n\n                                         spacied_syno_l  \\\n0     (Katie, Derham, hosts, continued, live, covera...   \n1     (Bidh, Druthag, Bheag, Eile, a, ’, tarraing, r...   \n2     (Tom, Holland, and, Greg, James, cold, call, c...   \n3     (John, Toal, and, Pauline, Scanlon, introduce,...   \n4     (Claire, McCollum, explores, Edinburgh, and, d...   \n...                                                 ...   \n3777  (How, will, Kyra, cope, after, a, train, malfu...   \n3789  (Drug, overdose, is, now, the, main, cause, of...   \n3793  (The, music, industry, reacted, with, a, surge...   \n3797  (I, Sliabh, Eachtaí, ,, tá, Cérill, ag, déanam...   \n3800  (In, 2006, ,, Tim, Bergling, was, just, a, reg...   \n\n                                       processed_syno_l  \\\n0     [Katie, Derham, host, continue, live, coverage...   \n1     [Bidh, Druthag, Bheag, Eile, tarraing, ri, chè...   \n2     [Tom, Holland, Greg, James, cold, celebrity, f...   \n3     [John, Toal, Pauline, Scanlon, introduce, even...   \n4     [Claire, McCollum, explore, Edinburgh, discove...   \n...                                                 ...   \n3777  [Kyra, cope, train, malfunction, make, hour, c...   \n3789  [drug, main, cause, death, Americans, age, lik...   \n3793  [music, industry, react, surge, outrage, death...   \n3797  [Sliabh, Eachtaí, tá, Cérill, ag, déanamh, réi...   \n3800  [Tim, Bergling, regular, teenager, live, small...   \n\n                            processed_syno_l_one_string  k_means  \n0     Katie Derham host continue live coverage Royal...       11  \n1     Bidh Druthag Bheag Eile tarraing ri chèile pìo...        7  \n2     Tom Holland Greg James cold celebrity friend f...       10  \n3     John Toal Pauline Scanlon introduce evening mu...        7  \n4     Claire McCollum explore Edinburgh discover ric...        9  \n...                                                 ...      ...  \n3777  Kyra cope train malfunction make hour crucial ...        9  \n3789  drug main cause death Americans age likely die...        1  \n3793  music industry react surge outrage death Georg...       11  \n3797  Sliabh Eachtaí tá Cérill ag déanamh réidh don ...        7  \n3800  Tim Bergling regular teenager live small apart...        9  \n\n[2326 rows x 18 columns]",
      "text/html": "<div>\n<style scoped>\n    .dataframe tbody tr th:only-of-type {\n        vertical-align: middle;\n    }\n\n    .dataframe tbody tr th {\n        vertical-align: top;\n    }\n\n    .dataframe thead th {\n        text-align: right;\n    }\n</style>\n<table border=\"1\" class=\"dataframe\">\n  <thead>\n    <tr style=\"text-align: right;\">\n      <th></th>\n      <th>index</th>\n      <th>title</th>\n      <th>description</th>\n      <th>image</th>\n      <th>keywords</th>\n      <th>syno_s</th>\n      <th>syno_m</th>\n      <th>syno_l</th>\n      <th>category</th>\n      <th>channel</th>\n      <th>language</th>\n      <th>release_date</th>\n      <th>duration_sec</th>\n      <th>topic</th>\n      <th>spacied_syno_l</th>\n      <th>processed_syno_l</th>\n      <th>processed_syno_l_one_string</th>\n      <th>k_means</th>\n    </tr>\n  </thead>\n  <tbody>\n    <tr>\n      <th>0</th>\n      <td>0</td>\n      <td>BBC Proms</td>\n      <td>Australian tenor Stuart Skelton is joined by L...</td>\n      <td>https://ichef.bbci.co.uk/images/ic/{recipe}/p0...</td>\n      <td>BBC, iPlayer, TV, BBC Proms, 2021: Last Night ...</td>\n      <td>Australian tenor Stuart Skelton is joined by L...</td>\n      <td>Australian tenor Stuart Skelton is joined by L...</td>\n      <td>Katie Derham hosts continued live coverage fro...</td>\n      <td>Music</td>\n      <td>bbc_radio_three</td>\n      <td>False</td>\n      <td>9pm 11 Sep 2021</td>\n      <td>5247</td>\n      <td>['music', 'from-the-archives']</td>\n      <td>(Katie, Derham, hosts, continued, live, covera...</td>\n      <td>[Katie, Derham, host, continue, live, coverage...</td>\n      <td>Katie Derham host continue live coverage Royal...</td>\n      <td>11</td>\n    </tr>\n    <tr>\n      <th>1</th>\n      <td>1</td>\n      <td>Port</td>\n      <td>Previously unseen music from the series Port, ...</td>\n      <td>https://ichef.bbci.co.uk/images/ic/{recipe}/p0...</td>\n      <td>BBC, iPlayer, TV, Port, Series 5: Episode 4</td>\n      <td>Previously unseen music from the series Port, ...</td>\n      <td>Julie Fowlis a’ lìbhrigeadh ceòl bhon t-sreath...</td>\n      <td>Bidh Druthag Bheag Eile a’ tarraing ri chèile ...</td>\n      <td>Music</td>\n      <td>bbc_alba</td>\n      <td>False</td>\n      <td>9 Jul 2020</td>\n      <td>1037</td>\n      <td>['music']</td>\n      <td>(Bidh, Druthag, Bheag, Eile, a, ’, tarraing, r...</td>\n      <td>[Bidh, Druthag, Bheag, Eile, tarraing, ri, chè...</td>\n      <td>Bidh Druthag Bheag Eile tarraing ri chèile pìo...</td>\n      <td>7</td>\n    </tr>\n    <tr>\n      <th>2</th>\n      <td>2</td>\n      <td>Sit Down, Stand Up with Greg James</td>\n      <td>Tom Holland and Greg James cold call celebrity...</td>\n      <td>https://ichef.bbci.co.uk/images/ic/{recipe}/p0...</td>\n      <td>BBC, iPlayer, TV, Sit Down, Stand Up with Greg...</td>\n      <td>Tom Holland and Greg James cold call celebrity...</td>\n      <td>Tom Holland and Greg James cold call celebrity...</td>\n      <td>Tom Holland and Greg James cold call celebrity...</td>\n      <td>Entertainment</td>\n      <td>bbc_radio_one</td>\n      <td>False</td>\n      <td>10 Feb 2022</td>\n      <td>611</td>\n      <td>['music', 'entertainment']</td>\n      <td>(Tom, Holland, and, Greg, James, cold, call, c...</td>\n      <td>[Tom, Holland, Greg, James, cold, celebrity, f...</td>\n      <td>Tom Holland Greg James cold celebrity friend f...</td>\n      <td>10</td>\n    </tr>\n    <tr>\n      <th>3</th>\n      <td>3</td>\n      <td>Ceiliúradh na Féile Pádraig</td>\n      <td>John Toal and Pauline Scanlon introduce an eve...</td>\n      <td>https://ichef.bbci.co.uk/images/ic/{recipe}/p0...</td>\n      <td>BBC, iPlayer, TV, Ceiliúradh na Féile Pádraig</td>\n      <td>John Toal and Pauline Scanlon introduce an eve...</td>\n      <td>John Toal and Pauline Scanlon introduce an eve...</td>\n      <td>John Toal and Pauline Scanlon introduce an eve...</td>\n      <td>Music</td>\n      <td>bbc_two_northern_ireland_digital</td>\n      <td>False</td>\n      <td>17 Mar 2017</td>\n      <td>3538</td>\n      <td>['music']</td>\n      <td>(John, Toal, and, Pauline, Scanlon, introduce,...</td>\n      <td>[John, Toal, Pauline, Scanlon, introduce, even...</td>\n      <td>John Toal Pauline Scanlon introduce evening mu...</td>\n      <td>7</td>\n    </tr>\n    <tr>\n      <th>4</th>\n      <td>4</td>\n      <td>Songs of Praise</td>\n      <td>Claire McCollum explores Edinburgh and shares ...</td>\n      <td>https://ichef.bbci.co.uk/images/ic/{recipe}/p0...</td>\n      <td>BBC, iPlayer, TV, Songs of Praise, Edinburgh</td>\n      <td>Claire McCollum explores Edinburgh and shares ...</td>\n      <td>Claire McCollum goes on a Christian heritage t...</td>\n      <td>Claire McCollum explores Edinburgh and discove...</td>\n      <td>Music</td>\n      <td>bbc_one</td>\n      <td>False</td>\n      <td>1:15pm 20 Feb 2022</td>\n      <td>2044</td>\n      <td>['music', 'lifestyle']</td>\n      <td>(Claire, McCollum, explores, Edinburgh, and, d...</td>\n      <td>[Claire, McCollum, explore, Edinburgh, discove...</td>\n      <td>Claire McCollum explore Edinburgh discover ric...</td>\n      <td>9</td>\n    </tr>\n    <tr>\n      <th>...</th>\n      <td>...</td>\n      <td>...</td>\n      <td>...</td>\n      <td>...</td>\n      <td>...</td>\n      <td>...</td>\n      <td>...</td>\n      <td>...</td>\n      <td>...</td>\n      <td>...</td>\n      <td>...</td>\n      <td>...</td>\n      <td>...</td>\n      <td>...</td>\n      <td>...</td>\n      <td>...</td>\n      <td>...</td>\n      <td>...</td>\n    </tr>\n    <tr>\n      <th>3777</th>\n      <td>3777</td>\n      <td>Models: Street to Catwalk</td>\n      <td>Kyra’s late arrival puts her modelling career ...</td>\n      <td>https://ichef.bbci.co.uk/images/ic/{recipe}/p0...</td>\n      <td>BBC, iPlayer, TV, Models: Street to Catwalk, S...</td>\n      <td>Kyra’s late arrival puts her modelling career ...</td>\n      <td>Kyra jeopardises her modelling career by turni...</td>\n      <td>How will Kyra cope after a train malfunction m...</td>\n      <td>Documentary</td>\n      <td>bbc_three</td>\n      <td>Contains some strong language and some upsetti...</td>\n      <td>8 Aug 2021</td>\n      <td>1843</td>\n      <td>['documentaries']</td>\n      <td>(How, will, Kyra, cope, after, a, train, malfu...</td>\n      <td>[Kyra, cope, train, malfunction, make, hour, c...</td>\n      <td>Kyra cope train malfunction make hour crucial ...</td>\n      <td>9</td>\n    </tr>\n    <tr>\n      <th>3789</th>\n      <td>3789</td>\n      <td>Death On The I-95</td>\n      <td>Returning to the US to find out what happened ...</td>\n      <td>https://ichef.bbci.co.uk/images/ic/{recipe}/p0...</td>\n      <td>BBC, iPlayer, TV, Death On The I-95</td>\n      <td>Returning to the US to find out what happened ...</td>\n      <td>Following a report on the growing problem of o...</td>\n      <td>Drug overdose is now the main cause of death f...</td>\n      <td>Documentary</td>\n      <td>bbc_three</td>\n      <td>Contains some strong language and upsetting sc...</td>\n      <td>24 Oct 2018</td>\n      <td>3426</td>\n      <td>['documentaries']</td>\n      <td>(Drug, overdose, is, now, the, main, cause, of...</td>\n      <td>[drug, main, cause, death, Americans, age, lik...</td>\n      <td>drug main cause death Americans age likely die...</td>\n      <td>1</td>\n    </tr>\n    <tr>\n      <th>3793</th>\n      <td>3793</td>\n      <td>Do Black Lives Still Matter?</td>\n      <td>Grime artist Saskilla asks, can the music indu...</td>\n      <td>https://ichef.bbci.co.uk/images/ic/{recipe}/p0...</td>\n      <td>BBC, iPlayer, TV, Do Black Lives Still Matter?...</td>\n      <td>Grime artist Saskilla asks, can the music indu...</td>\n      <td>The music industry pledged millions in support...</td>\n      <td>The music industry reacted with a surge of out...</td>\n      <td>Documentary</td>\n      <td>bbc_three</td>\n      <td>False</td>\n      <td>31 May 2021</td>\n      <td>1524</td>\n      <td>['documentaries']</td>\n      <td>(The, music, industry, reacted, with, a, surge...</td>\n      <td>[music, industry, react, surge, outrage, death...</td>\n      <td>music industry react surge outrage death Georg...</td>\n      <td>11</td>\n    </tr>\n    <tr>\n      <th>3797</th>\n      <td>3797</td>\n      <td>Ar An Sliabh</td>\n      <td>Paul packs up to return to his native Armagh a...</td>\n      <td>https://ichef.bbci.co.uk/images/ic/{recipe}/p0...</td>\n      <td>BBC, iPlayer, TV, Ar An Sliabh, Series 1: Epis...</td>\n      <td>Paul packs up to return to his native Armagh a...</td>\n      <td>Paul packs up to return to his native Armagh a...</td>\n      <td>I Sliabh Eachtaí, tá Cérill ag déanamh réidh d...</td>\n      <td>Documentary</td>\n      <td>bbc_webonly</td>\n      <td>False</td>\n      <td>22 Nov 2021</td>\n      <td>1740</td>\n      <td>['documentaries']</td>\n      <td>(I, Sliabh, Eachtaí, ,, tá, Cérill, ag, déanam...</td>\n      <td>[Sliabh, Eachtaí, tá, Cérill, ag, déanamh, réi...</td>\n      <td>Sliabh Eachtaí tá Cérill ag déanamh réidh don ...</td>\n      <td>7</td>\n    </tr>\n    <tr>\n      <th>3800</th>\n      <td>3800</td>\n      <td>Avicii: True Stories</td>\n      <td>Avicii: True Stories is Tim Bergling’s own sto...</td>\n      <td>https://ichef.bbci.co.uk/images/ic/{recipe}/p0...</td>\n      <td>BBC, iPlayer, TV, Avicii: True Stories</td>\n      <td>Avicii: True Stories is Tim Bergling’s own sto...</td>\n      <td>Avicii: True Stories is Tim Bergling’s own sto...</td>\n      <td>In 2006, Tim Bergling was just a regular teena...</td>\n      <td>Documentary</td>\n      <td>bbc_three</td>\n      <td>Contains strong language.</td>\n      <td>20 Apr 2019</td>\n      <td>5766</td>\n      <td>['documentaries']</td>\n      <td>(In, 2006, ,, Tim, Bergling, was, just, a, reg...</td>\n      <td>[Tim, Bergling, regular, teenager, live, small...</td>\n      <td>Tim Bergling regular teenager live small apart...</td>\n      <td>9</td>\n    </tr>\n  </tbody>\n</table>\n<p>2326 rows × 18 columns</p>\n</div>"
     },
     "execution_count": 39,
     "metadata": {},
     "output_type": "execute_result"
    }
   ],
   "source": [
    "df"
   ],
   "metadata": {
    "collapsed": false,
    "pycharm": {
     "name": "#%%\n"
    }
   }
  },
  {
   "cell_type": "code",
   "execution_count": 40,
   "outputs": [],
   "source": [
    "df['processed_syno_l_one_string'] = df['processed_syno_l'].apply(lambda x: ' '.join(x))"
   ],
   "metadata": {
    "collapsed": false,
    "pycharm": {
     "name": "#%%\n"
    }
   }
  },
  {
   "cell_type": "code",
   "execution_count": 41,
   "outputs": [
    {
     "name": "stderr",
     "output_type": "stream",
     "text": [
      "/Users/hagenaadfock/miniforge3/envs/tf/lib/python3.8/site-packages/sklearn/utils/deprecation.py:87: FutureWarning: Function get_feature_names is deprecated; get_feature_names is deprecated in 1.0 and will be removed in 1.2. Please use get_feature_names_out instead.\n",
      "  warnings.warn(msg, category=FutureWarning)\n"
     ]
    },
    {
     "data": {
      "text/plain": "      10th  150th  18th   19  1930  1940  1950  1960  1970  1980  ...  \\\n0      0.0    0.0   0.0  0.0   0.0   0.0   0.0   0.0   0.0   0.0  ...   \n1      0.0    0.0   0.0  0.0   0.0   0.0   0.0   0.0   0.0   0.0  ...   \n2      0.0    0.0   0.0  0.0   0.0   0.0   0.0   0.0   0.0   0.0  ...   \n3      0.0    0.0   0.0  0.0   0.0   0.0   0.0   0.0   0.0   0.0  ...   \n4      0.0    0.0   0.0  0.0   0.0   0.0   0.0   0.0   0.0   0.0  ...   \n...    ...    ...   ...  ...   ...   ...   ...   ...   ...   ...  ...   \n2321   0.0    0.0   0.0  0.0   0.0   0.0   0.0   0.0   0.0   0.0  ...   \n2322   0.0    0.0   0.0  0.0   0.0   0.0   0.0   0.0   0.0   0.0  ...   \n2323   0.0    0.0   0.0  0.0   0.0   0.0   0.0   0.0   0.0   0.0  ...   \n2324   0.0    0.0   0.0  0.0   0.0   0.0   0.0   0.0   0.0   0.0  ...   \n2325   0.0    0.0   0.0  0.0   0.0   0.0   0.0   0.0   0.0   0.0  ...   \n\n            às   èideann   òg  òga  òrain      òran        óg   ùr  ùra  ùrlar  \n0     0.000000  0.000000  0.0  0.0    0.0  0.000000  0.000000  0.0  0.0    0.0  \n1     0.057735  0.067856  0.0  0.0    0.0  0.067856  0.135711  0.0  0.0    0.0  \n2     0.000000  0.000000  0.0  0.0    0.0  0.000000  0.000000  0.0  0.0    0.0  \n3     0.000000  0.000000  0.0  0.0    0.0  0.000000  0.000000  0.0  0.0    0.0  \n4     0.000000  0.000000  0.0  0.0    0.0  0.000000  0.000000  0.0  0.0    0.0  \n...        ...       ...  ...  ...    ...       ...       ...  ...  ...    ...  \n2321  0.000000  0.000000  0.0  0.0    0.0  0.000000  0.000000  0.0  0.0    0.0  \n2322  0.000000  0.000000  0.0  0.0    0.0  0.000000  0.000000  0.0  0.0    0.0  \n2323  0.000000  0.000000  0.0  0.0    0.0  0.000000  0.000000  0.0  0.0    0.0  \n2324  0.000000  0.000000  0.0  0.0    0.0  0.000000  0.000000  0.0  0.0    0.0  \n2325  0.000000  0.000000  0.0  0.0    0.0  0.000000  0.000000  0.0  0.0    0.0  \n\n[2326 rows x 5896 columns]",
      "text/html": "<div>\n<style scoped>\n    .dataframe tbody tr th:only-of-type {\n        vertical-align: middle;\n    }\n\n    .dataframe tbody tr th {\n        vertical-align: top;\n    }\n\n    .dataframe thead th {\n        text-align: right;\n    }\n</style>\n<table border=\"1\" class=\"dataframe\">\n  <thead>\n    <tr style=\"text-align: right;\">\n      <th></th>\n      <th>10th</th>\n      <th>150th</th>\n      <th>18th</th>\n      <th>19</th>\n      <th>1930</th>\n      <th>1940</th>\n      <th>1950</th>\n      <th>1960</th>\n      <th>1970</th>\n      <th>1980</th>\n      <th>...</th>\n      <th>às</th>\n      <th>èideann</th>\n      <th>òg</th>\n      <th>òga</th>\n      <th>òrain</th>\n      <th>òran</th>\n      <th>óg</th>\n      <th>ùr</th>\n      <th>ùra</th>\n      <th>ùrlar</th>\n    </tr>\n  </thead>\n  <tbody>\n    <tr>\n      <th>0</th>\n      <td>0.0</td>\n      <td>0.0</td>\n      <td>0.0</td>\n      <td>0.0</td>\n      <td>0.0</td>\n      <td>0.0</td>\n      <td>0.0</td>\n      <td>0.0</td>\n      <td>0.0</td>\n      <td>0.0</td>\n      <td>...</td>\n      <td>0.000000</td>\n      <td>0.000000</td>\n      <td>0.0</td>\n      <td>0.0</td>\n      <td>0.0</td>\n      <td>0.000000</td>\n      <td>0.000000</td>\n      <td>0.0</td>\n      <td>0.0</td>\n      <td>0.0</td>\n    </tr>\n    <tr>\n      <th>1</th>\n      <td>0.0</td>\n      <td>0.0</td>\n      <td>0.0</td>\n      <td>0.0</td>\n      <td>0.0</td>\n      <td>0.0</td>\n      <td>0.0</td>\n      <td>0.0</td>\n      <td>0.0</td>\n      <td>0.0</td>\n      <td>...</td>\n      <td>0.057735</td>\n      <td>0.067856</td>\n      <td>0.0</td>\n      <td>0.0</td>\n      <td>0.0</td>\n      <td>0.067856</td>\n      <td>0.135711</td>\n      <td>0.0</td>\n      <td>0.0</td>\n      <td>0.0</td>\n    </tr>\n    <tr>\n      <th>2</th>\n      <td>0.0</td>\n      <td>0.0</td>\n      <td>0.0</td>\n      <td>0.0</td>\n      <td>0.0</td>\n      <td>0.0</td>\n      <td>0.0</td>\n      <td>0.0</td>\n      <td>0.0</td>\n      <td>0.0</td>\n      <td>...</td>\n      <td>0.000000</td>\n      <td>0.000000</td>\n      <td>0.0</td>\n      <td>0.0</td>\n      <td>0.0</td>\n      <td>0.000000</td>\n      <td>0.000000</td>\n      <td>0.0</td>\n      <td>0.0</td>\n      <td>0.0</td>\n    </tr>\n    <tr>\n      <th>3</th>\n      <td>0.0</td>\n      <td>0.0</td>\n      <td>0.0</td>\n      <td>0.0</td>\n      <td>0.0</td>\n      <td>0.0</td>\n      <td>0.0</td>\n      <td>0.0</td>\n      <td>0.0</td>\n      <td>0.0</td>\n      <td>...</td>\n      <td>0.000000</td>\n      <td>0.000000</td>\n      <td>0.0</td>\n      <td>0.0</td>\n      <td>0.0</td>\n      <td>0.000000</td>\n      <td>0.000000</td>\n      <td>0.0</td>\n      <td>0.0</td>\n      <td>0.0</td>\n    </tr>\n    <tr>\n      <th>4</th>\n      <td>0.0</td>\n      <td>0.0</td>\n      <td>0.0</td>\n      <td>0.0</td>\n      <td>0.0</td>\n      <td>0.0</td>\n      <td>0.0</td>\n      <td>0.0</td>\n      <td>0.0</td>\n      <td>0.0</td>\n      <td>...</td>\n      <td>0.000000</td>\n      <td>0.000000</td>\n      <td>0.0</td>\n      <td>0.0</td>\n      <td>0.0</td>\n      <td>0.000000</td>\n      <td>0.000000</td>\n      <td>0.0</td>\n      <td>0.0</td>\n      <td>0.0</td>\n    </tr>\n    <tr>\n      <th>...</th>\n      <td>...</td>\n      <td>...</td>\n      <td>...</td>\n      <td>...</td>\n      <td>...</td>\n      <td>...</td>\n      <td>...</td>\n      <td>...</td>\n      <td>...</td>\n      <td>...</td>\n      <td>...</td>\n      <td>...</td>\n      <td>...</td>\n      <td>...</td>\n      <td>...</td>\n      <td>...</td>\n      <td>...</td>\n      <td>...</td>\n      <td>...</td>\n      <td>...</td>\n      <td>...</td>\n    </tr>\n    <tr>\n      <th>2321</th>\n      <td>0.0</td>\n      <td>0.0</td>\n      <td>0.0</td>\n      <td>0.0</td>\n      <td>0.0</td>\n      <td>0.0</td>\n      <td>0.0</td>\n      <td>0.0</td>\n      <td>0.0</td>\n      <td>0.0</td>\n      <td>...</td>\n      <td>0.000000</td>\n      <td>0.000000</td>\n      <td>0.0</td>\n      <td>0.0</td>\n      <td>0.0</td>\n      <td>0.000000</td>\n      <td>0.000000</td>\n      <td>0.0</td>\n      <td>0.0</td>\n      <td>0.0</td>\n    </tr>\n    <tr>\n      <th>2322</th>\n      <td>0.0</td>\n      <td>0.0</td>\n      <td>0.0</td>\n      <td>0.0</td>\n      <td>0.0</td>\n      <td>0.0</td>\n      <td>0.0</td>\n      <td>0.0</td>\n      <td>0.0</td>\n      <td>0.0</td>\n      <td>...</td>\n      <td>0.000000</td>\n      <td>0.000000</td>\n      <td>0.0</td>\n      <td>0.0</td>\n      <td>0.0</td>\n      <td>0.000000</td>\n      <td>0.000000</td>\n      <td>0.0</td>\n      <td>0.0</td>\n      <td>0.0</td>\n    </tr>\n    <tr>\n      <th>2323</th>\n      <td>0.0</td>\n      <td>0.0</td>\n      <td>0.0</td>\n      <td>0.0</td>\n      <td>0.0</td>\n      <td>0.0</td>\n      <td>0.0</td>\n      <td>0.0</td>\n      <td>0.0</td>\n      <td>0.0</td>\n      <td>...</td>\n      <td>0.000000</td>\n      <td>0.000000</td>\n      <td>0.0</td>\n      <td>0.0</td>\n      <td>0.0</td>\n      <td>0.000000</td>\n      <td>0.000000</td>\n      <td>0.0</td>\n      <td>0.0</td>\n      <td>0.0</td>\n    </tr>\n    <tr>\n      <th>2324</th>\n      <td>0.0</td>\n      <td>0.0</td>\n      <td>0.0</td>\n      <td>0.0</td>\n      <td>0.0</td>\n      <td>0.0</td>\n      <td>0.0</td>\n      <td>0.0</td>\n      <td>0.0</td>\n      <td>0.0</td>\n      <td>...</td>\n      <td>0.000000</td>\n      <td>0.000000</td>\n      <td>0.0</td>\n      <td>0.0</td>\n      <td>0.0</td>\n      <td>0.000000</td>\n      <td>0.000000</td>\n      <td>0.0</td>\n      <td>0.0</td>\n      <td>0.0</td>\n    </tr>\n    <tr>\n      <th>2325</th>\n      <td>0.0</td>\n      <td>0.0</td>\n      <td>0.0</td>\n      <td>0.0</td>\n      <td>0.0</td>\n      <td>0.0</td>\n      <td>0.0</td>\n      <td>0.0</td>\n      <td>0.0</td>\n      <td>0.0</td>\n      <td>...</td>\n      <td>0.000000</td>\n      <td>0.000000</td>\n      <td>0.0</td>\n      <td>0.0</td>\n      <td>0.0</td>\n      <td>0.000000</td>\n      <td>0.000000</td>\n      <td>0.0</td>\n      <td>0.0</td>\n      <td>0.0</td>\n    </tr>\n  </tbody>\n</table>\n<p>2326 rows × 5896 columns</p>\n</div>"
     },
     "execution_count": 41,
     "metadata": {},
     "output_type": "execute_result"
    }
   ],
   "source": [
    "from sklearn.feature_extraction.text import TfidfVectorizer\n",
    "from sklearn.cluster import KMeans\n",
    "from sklearn import cluster\n",
    "\n",
    "vectorizer = TfidfVectorizer(min_df=3, max_df=0.80, norm='l2')\n",
    "X = vectorizer.fit_transform(df['processed_syno_l_one_string'])\n",
    "tf_idf = pd.DataFrame(data = X.toarray(), columns=vectorizer.get_feature_names())\n",
    "tf_idf"
   ],
   "metadata": {
    "collapsed": false,
    "pycharm": {
     "name": "#%%\n"
    }
   }
  },
  {
   "cell_type": "code",
   "execution_count": 48,
   "outputs": [],
   "source": [
    "clusters = 10\n",
    "kmeanModel = KMeans(n_clusters=clusters, init='k-means++', max_iter=3000, random_state=0)\n",
    "mod = kmeanModel.fit_transform(tf_idf)\n",
    "df['k_means'] = kmeanModel.predict(tf_idf)"
   ],
   "metadata": {
    "collapsed": false,
    "pycharm": {
     "name": "#%%\n"
    }
   }
  },
  {
   "cell_type": "code",
   "execution_count": 49,
   "outputs": [
    {
     "name": "stdout",
     "output_type": "stream",
     "text": [
      "0, agus, air, ann, tha, ag, bho, na, alba, gu, sa, seo, gaelic, mar, aig, bidh, toirt, le, ach, iad, mu, \n",
      "1, new, war, run, year, world, force, time, life, story, old, final, find, fight, president, big, tom, power, face, relationship, bring, \n",
      "2, day, coverage, man, highlight, question, wedding, present, scottish, final, find, parliament, look, february, live, night, league, minister, cup, face, wales, \n",
      "3, christmas, festive, special, tree, santa, carol, sing, family, choir, favourite, seasonal, feast, little, celebrate, gift, star, mary, find, nigella, come, \n",
      "4, friend, find, join, family, get, team, good, try, help, comedy, win, time, series, head, come, host, make, year, take, party, \n",
      "5, news, late, weather, sport, mp, debate, political, england, interview, bbc, east, international, west, national, midlands, feature, south, yorkshire, north, norris, \n",
      "6, people, life, work, year, world, artist, art, change, look, time, meet, film, help, woman, way, explore, live, new, find, black, \n",
      "7, film, life, story, year, documentary, police, man, interview, ireland, tell, family, young, reveal, child, personal, mark, death, people, murder, northern, \n",
      "8, travel, journey, simon, animal, world, planet, city, discover, meet, face, visit, country, wildlife, michael, find, sea, river, great, life, end, \n",
      "9, music, perform, song, band, bbc, performance, feature, concert, musical, include, dance, radio, album, singer, live, classic, hit, special, new, big, \n"
     ]
    }
   ],
   "source": [
    "order_centroids = kmeanModel.cluster_centers_.argsort()[:, ::-1]\n",
    "terms = vectorizer.get_feature_names_out()\n",
    "dict = []\n",
    "for i in range(clusters):\n",
    "  print('%d' % i, sep='', end=', '),\n",
    "  for ind in order_centroids[i, :20]:\n",
    "    print(terms[ind], sep='', end=', ')\n",
    "  print('')"
   ],
   "metadata": {
    "collapsed": false,
    "pycharm": {
     "name": "#%%\n"
    }
   }
  },
  {
   "cell_type": "code",
   "execution_count": 51,
   "outputs": [
    {
     "data": {
      "text/plain": "61                            Snow Patrol at Ward Park 3\n125                                               Rewind\n161    New Power Generation: Black Music Legends of t...\n181                    Everything - The Real Thing Story\n194                   The 80s - Music’s Greatest Decade?\n206                 Castles: Britain's Fortified History\n211                                                 Ex-S\n212                                   Handmade in Bolton\n240                                              Omnibus\n262                                      Building Sights\n320                                    Where We Live Now\n327              A Very British Murder with Lucy Worsley\n340                                        Inside Cinema\n345                             The Infinite Monkey Cage\n358                           Fred Dibnah's Age of Steam\n366              Arnold Schwarzenegger on Climate Change\n383                                   The World About Us\n396                 Neutrino: Hunting the Ghost Particle\n398                         Inside Chernobyl's Mega Tomb\n425                                   Rethink the Future\nName: title, dtype: object"
     },
     "execution_count": 51,
     "metadata": {},
     "output_type": "execute_result"
    }
   ],
   "source": [
    "df[df['k_means'] == 1]['title'].head(20)"
   ],
   "metadata": {
    "collapsed": false,
    "pycharm": {
     "name": "#%%\n"
    }
   }
  },
  {
   "cell_type": "code",
   "execution_count": 45,
   "outputs": [],
   "source": [
    "extra_genres = {0: 'Scottish Gaelic', 1: 'Slice of Life', 2: 'Challenging', 3: ''}"
   ],
   "metadata": {
    "collapsed": false,
    "pycharm": {
     "name": "#%%\n"
    }
   }
  },
  {
   "cell_type": "code",
   "execution_count": 46,
   "outputs": [],
   "source": [
    "# df.to_csv('../data/BBC/bbc_data.csv', sep=';')"
   ],
   "metadata": {
    "collapsed": false,
    "pycharm": {
     "name": "#%%\n"
    }
   }
  },
  {
   "cell_type": "code",
   "execution_count": 46,
   "outputs": [],
   "source": [],
   "metadata": {
    "collapsed": false,
    "pycharm": {
     "name": "#%%\n"
    }
   }
  },
  {
   "cell_type": "code",
   "execution_count": null,
   "outputs": [],
   "source": [],
   "metadata": {
    "collapsed": false,
    "pycharm": {
     "name": "#%%\n"
    }
   }
  }
 ],
 "metadata": {
  "kernelspec": {
   "display_name": "Python 3",
   "language": "python",
   "name": "python3"
  },
  "language_info": {
   "codemirror_mode": {
    "name": "ipython",
    "version": 2
   },
   "file_extension": ".py",
   "mimetype": "text/x-python",
   "name": "python",
   "nbconvert_exporter": "python",
   "pygments_lexer": "ipython2",
   "version": "2.7.6"
  }
 },
 "nbformat": 4,
 "nbformat_minor": 0
}